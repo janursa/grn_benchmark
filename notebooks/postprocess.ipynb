{
 "cells": [
  {
   "cell_type": "markdown",
   "metadata": {},
   "source": [
    "# task-perturb-multiomics-grn\n",
    "## Post process\n",
    "### by Jalil Nourisa"
   ]
  },
  {
   "cell_type": "code",
   "execution_count": 6,
   "metadata": {},
   "outputs": [],
   "source": [
    "import anndata as ad\n",
    "import pandas as pd\n",
    "import matplotlib.pyplot as plt\n",
    "\n",
    "import os\n",
    "import numpy as np\n",
    "from local_utils import plots\n",
    "\n",
    "work_dir = '../output/'\n",
    "cell_types = ['B cells','T cells','Myeloid cells','NK cells']"
   ]
  },
  {
   "cell_type": "markdown",
   "metadata": {},
   "source": [
    "# Baseline GRNs"
   ]
  },
  {
   "cell_type": "code",
   "execution_count": null,
   "metadata": {},
   "outputs": [],
   "source": [
    "def create_negative_control(tf_n: int=800, sparsity: float=.98):\n",
    "    import pandas as pd \n",
    "    import os\n",
    "    import numpy as np\n",
    "    df_train = pd.read_csv(f'../resources/df_train/df_train.csv')\n",
    "\n",
    "    genes_n = df_train.columns.shape[0]\n",
    "    X_random = np.random.choice([0, -1, 1], size=(genes_n, tf_n), p=[sparsity, (1-sparsity)/2, (1-sparsity)/2])\n",
    "    row_names = df_train.columns\n",
    "    col_names = [f'TF_{i}' for i in range(tf_n)]\n",
    "    grn_random = pd.DataFrame(X_random, index=row_names, columns=col_names)\n",
    "    grn_random.reset_index(inplace=True)\n",
    "    grn_random = pd.melt(grn_random, id_vars=['index'], var_name='TF', value_name='weight')\n",
    "    grn_random.columns = ['target', 'source', 'weight']\n",
    "    grn_random = grn_random[['source', 'target', 'weight']]\n",
    "    grn_random = grn_random[grn_random.weight!=0].reset_index(drop=True)\n",
    "\n",
    "    print(grn_random.shape)\n",
    "\n",
    "    grn_random.to_csv(f'../output/benchmarking/baseline_models/negative_control.csv')\n",
    "\n",
    "create_negative_control()"
   ]
  },
  {
   "cell_type": "code",
   "execution_count": null,
   "metadata": {},
   "outputs": [],
   "source": [
    "tfs_list = np.loadtxt(f'../output/utoronto_human_tfs_v_1.01.txt', dtype=str)\n",
    "df_train = pd.read_csv(f'../resources/df_train/df_train.csv').set_index(['sm_name','cell_type','plate_name','row'])"
   ]
  },
  {
   "cell_type": "code",
   "execution_count": null,
   "metadata": {},
   "outputs": [],
   "source": [
    "gene_names = df_train.columns\n",
    "tfs_list =  np.asarray([gene for gene in tfs_list if gene in df_train.columns])\n",
    "tf_idx = np.asarray([idx for idx, gene in enumerate(df_train.columns) if gene in tfs_list])"
   ]
  },
  {
   "cell_type": "code",
   "execution_count": null,
   "metadata": {},
   "outputs": [],
   "source": [
    "import portia as pt\n",
    "dataset = pt.GeneExpressionDataset()\n",
    "for exp_id, data in enumerate(df_train.values):\n",
    "    dataset.add(pt.Experiment(exp_id, data))\n",
    "M_bar, S = pt.run(dataset, tf_idx=tf_idx, method='fast', return_sign=True)\n",
    "\n",
    "def format_grn(scores, S, gene_names):\n",
    "    tfs = []\n",
    "    targets = []\n",
    "    weights = []\n",
    "    for row_i in range(len(scores)):\n",
    "        for col_i in range(len(scores[0])):\n",
    "            score = scores[row_i][col_i]\n",
    "            if score == 0:\n",
    "                continue\n",
    "            s = S[row_i][col_i]\n",
    "            tf = gene_names[row_i]\n",
    "            gene = gene_names[col_i]\n",
    "\n",
    "            tfs.append(tf)\n",
    "            targets.append(gene)\n",
    "            weights.append(score*s)\n",
    "\n",
    "    return pd.DataFrame({'source':tfs, 'target':targets, 'weight':weights})\n",
    "\n",
    "positive_control = format_grn(M_bar, S, gene_names)\n",
    "\n",
    "positive_control\n",
    "\n",
    "positive_control_f = positive_control[positive_control.index.isin(positive_control.weight.abs().sort_values()[-200000:,].index)].reset_index()\n",
    "\n",
    "positive_control_f.to_csv(f'../output/benchmarking/baseline_models/positive_control.csv')"
   ]
  },
  {
   "cell_type": "markdown",
   "metadata": {},
   "source": [
    "# Postporcess GRNs"
   ]
  },
  {
   "cell_type": "code",
   "execution_count": null,
   "metadata": {},
   "outputs": [],
   "source": [
    "os.makedirs(f'{work_dir}/benchmarking/grn_models/', exist_ok=True)\n",
    "os.makedirs(f'{work_dir}/benchmarking/peak_gene_models/', exist_ok=True)"
   ]
  },
  {
   "cell_type": "markdown",
   "metadata": {},
   "source": [
    "## Subset GRNs"
   ]
  },
  {
   "cell_type": "markdown",
   "metadata": {},
   "source": [
    "### Celloracle"
   ]
  },
  {
   "cell_type": "code",
   "execution_count": 102,
   "metadata": {},
   "outputs": [],
   "source": [
    "grn_stack =  []\n",
    "for cell_type in cell_types:\n",
    "    grn = pd.read_csv(f'{work_dir}/infer/celloracle/grn/grn_{cell_type}.csv')\n",
    "    grn = grn[['source', 'target', 'coef_mean']]\n",
    "    grn.columns = ['source', 'target', 'weight']\n",
    "    grn['link'] = grn.source + '_' + grn.target\n",
    "    grn['cell_type'] = cell_type\n",
    "    grn_stack.append(grn)\n",
    "celloracle_grn = pd.concat(grn_stack).reset_index(drop=True)\n"
   ]
  },
  {
   "cell_type": "code",
   "execution_count": 105,
   "metadata": {},
   "outputs": [],
   "source": [
    "celloracle_average_weights = celloracle_grn.groupby('link')['weight'].mean()"
   ]
  },
  {
   "cell_type": "code",
   "execution_count": 113,
   "metadata": {},
   "outputs": [
    {
     "name": "stdout",
     "output_type": "stream",
     "text": [
      "number of links before top quantile selection:  1956884\n",
      "connections:  (50000, 5)\n",
      "TFs:  (477,)\n",
      "target gene:  (5886,)\n",
      "number of links before top quantile selection:  2050897\n",
      "connections:  (50000, 5)\n",
      "TFs:  (419,)\n",
      "target gene:  (6974,)\n",
      "number of links before top quantile selection:  1993367\n",
      "connections:  (50000, 5)\n",
      "TFs:  (467,)\n",
      "target gene:  (6346,)\n",
      "number of links before top quantile selection:  1965008\n",
      "connections:  (50000, 5)\n",
      "TFs:  (460,)\n",
      "target gene:  (5636,)\n"
     ]
    }
   ],
   "source": [
    "top_links = 50_000\n",
    "celloracle_cutoff_weights = []\n",
    "grn_stack_f = []\n",
    "for i, cell_type in enumerate(cell_types):\n",
    "    grn_celltype = celloracle_grn[celloracle_grn.cell_type==cell_type]\n",
    "    grn_celltype = grn_celltype[~(grn_celltype.weight==0)] # remove those with 0 coeff\n",
    "    print('number of links before top quantile selection: ', grn_celltype.shape[0])\n",
    "    \n",
    "    \n",
    "    grn_celltype_f = grn_celltype.sort_values(by='weight', key=abs, ascending=False).head(top_links)\n",
    "    \n",
    "    celloracle_cutoff_weights.append(grn_celltype_f.weight.abs().min())\n",
    "    print('connections: ', grn_celltype_f.shape)\n",
    "    print('TFs: ', grn_celltype_f.source.unique().shape)\n",
    "    print('target gene: ', grn_celltype_f.target.unique().shape)\n",
    "    grn_stack_f.append(grn_celltype_f)\n",
    "\n",
    "    if cell_type=='agg_type':\n",
    "        cell_type='T cells'\n",
    "\n",
    "celloracle_grn_f = pd.concat(grn_stack_f).reset_index(drop=True)\n",
    "celloracle_grn_f.to_csv(f'{work_dir}/infer/celloracle/grn/celloracle_grn.csv')"
   ]
  },
  {
   "cell_type": "code",
   "execution_count": 100,
   "metadata": {},
   "outputs": [
    {
     "data": {
      "text/plain": [
       "cell_type\n",
       "B cells          0.008754\n",
       "Myeloid cells    0.010050\n",
       "NK cells         0.009019\n",
       "T cells          0.006205\n",
       "Name: weight, dtype: float64"
      ]
     },
     "execution_count": 100,
     "metadata": {},
     "output_type": "execute_result"
    }
   ],
   "source": [
    "celloracle_grn_average = celloracle_grn.groupby('cell_type')['weight'].mean()\n",
    "celloracle_grn_average"
   ]
  },
  {
   "cell_type": "markdown",
   "metadata": {},
   "source": [
    "### Scenicplus"
   ]
  },
  {
   "cell_type": "code",
   "execution_count": 52,
   "metadata": {},
   "outputs": [],
   "source": [
    "import pandas as pd \n",
    "scenicplus_grn = pd.read_csv(f'{work_dir}/infer/scenicplus/grn/scenicplus_grn.csv')"
   ]
  },
  {
   "cell_type": "markdown",
   "metadata": {},
   "source": [
    "### FigR"
   ]
  },
  {
   "cell_type": "code",
   "execution_count": 53,
   "metadata": {},
   "outputs": [],
   "source": [
    "figr_grn = pd.read_csv(f'{work_dir}/infer/figr/grn/figr_grn.csv')"
   ]
  },
  {
   "cell_type": "markdown",
   "metadata": {},
   "source": [
    "### Granie "
   ]
  },
  {
   "cell_type": "code",
   "execution_count": 54,
   "metadata": {},
   "outputs": [],
   "source": [
    "grn_granie = pd.read_csv(f'{work_dir}/infer/granie/grn/granie_grn.csv')"
   ]
  },
  {
   "cell_type": "markdown",
   "metadata": {},
   "source": [
    "### Ananse"
   ]
  },
  {
   "cell_type": "code",
   "execution_count": 59,
   "metadata": {},
   "outputs": [],
   "source": [
    "# ananse_grns = {}\n",
    "# for cell_type in cell_types:\n",
    "#     grn = pd.read_csv(f\"{work_dir}/infer/ananse/grn/{cell_type.replace(' ','-')}.tsv\", sep='\\t')\n",
    "#     grn[['source', 'target']] = grn['tf_target'].str.split('—', expand=True)\n",
    "#     grn = grn[['source', 'target', 'prob']] \n",
    "#     grn.columns = ['source', 'target', 'weight']\n",
    "#     ananse_grns[cell_type] = grn"
   ]
  },
  {
   "cell_type": "code",
   "execution_count": 60,
   "metadata": {},
   "outputs": [],
   "source": [
    "grn_stack = []\n",
    "top_links = 50_000\n",
    "for i, cell_type in enumerate(cell_types):\n",
    "    grn_celltype = ananse_grns[cell_type]\n",
    "    print('number of links before top quantile selection: ', grn_celltype.shape[0])\n",
    "    grn_celltype.columns = ['source', 'target', 'weight']\n",
    "    grn_celltype['cell_type'] = cell_type\n",
    "    grn_celltype = grn_celltype.sort_values(by='weight', key=abs, ascending=False).head(top_links)\n",
    "    print('connections: ', grn_celltype.shape)\n",
    "    print('TFs: ', grn_celltype.source.unique().shape)\n",
    "    print('target gene: ', grn_celltype.target.unique().shape)\n",
    "    grn_stack.append(grn_celltype)\n",
    "ananse_grn = pd.concat(grn_stack).reset_index(drop=True)"
   ]
  },
  {
   "cell_type": "code",
   "execution_count": 61,
   "metadata": {},
   "outputs": [],
   "source": [
    "ananse_grn.to_csv(f\"{outputdir}/grn/ananse_grn.csv\")"
   ]
  },
  {
   "cell_type": "markdown",
   "metadata": {},
   "source": [
    "### scGLUE"
   ]
  },
  {
   "cell_type": "code",
   "execution_count": 55,
   "metadata": {},
   "outputs": [
    {
     "data": {
      "text/html": [
       "<div>\n",
       "<style scoped>\n",
       "    .dataframe tbody tr th:only-of-type {\n",
       "        vertical-align: middle;\n",
       "    }\n",
       "\n",
       "    .dataframe tbody tr th {\n",
       "        vertical-align: top;\n",
       "    }\n",
       "\n",
       "    .dataframe thead th {\n",
       "        text-align: right;\n",
       "    }\n",
       "</style>\n",
       "<table border=\"1\" class=\"dataframe\">\n",
       "  <thead>\n",
       "    <tr style=\"text-align: right;\">\n",
       "      <th></th>\n",
       "      <th>source</th>\n",
       "      <th>target</th>\n",
       "      <th>weight</th>\n",
       "    </tr>\n",
       "  </thead>\n",
       "  <tbody>\n",
       "    <tr>\n",
       "      <th>0</th>\n",
       "      <td>ABI3</td>\n",
       "      <td>SERF2</td>\n",
       "      <td>0.492266</td>\n",
       "    </tr>\n",
       "    <tr>\n",
       "      <th>1</th>\n",
       "      <td>ABI3</td>\n",
       "      <td>HMGN2</td>\n",
       "      <td>1.978421</td>\n",
       "    </tr>\n",
       "    <tr>\n",
       "      <th>2</th>\n",
       "      <td>ABI3</td>\n",
       "      <td>PFN1</td>\n",
       "      <td>1.763803</td>\n",
       "    </tr>\n",
       "    <tr>\n",
       "      <th>3</th>\n",
       "      <td>ABI3</td>\n",
       "      <td>DRAP1</td>\n",
       "      <td>2.075658</td>\n",
       "    </tr>\n",
       "    <tr>\n",
       "      <th>4</th>\n",
       "      <td>ABI3</td>\n",
       "      <td>ACTB</td>\n",
       "      <td>0.504045</td>\n",
       "    </tr>\n",
       "    <tr>\n",
       "      <th>...</th>\n",
       "      <td>...</td>\n",
       "      <td>...</td>\n",
       "      <td>...</td>\n",
       "    </tr>\n",
       "    <tr>\n",
       "      <th>51562</th>\n",
       "      <td>ZNF667</td>\n",
       "      <td>LINC00638</td>\n",
       "      <td>0.166595</td>\n",
       "    </tr>\n",
       "    <tr>\n",
       "      <th>51563</th>\n",
       "      <td>ZNF667</td>\n",
       "      <td>GDF10</td>\n",
       "      <td>0.023349</td>\n",
       "    </tr>\n",
       "    <tr>\n",
       "      <th>51564</th>\n",
       "      <td>ZNF667</td>\n",
       "      <td>BCAS4</td>\n",
       "      <td>0.043807</td>\n",
       "    </tr>\n",
       "    <tr>\n",
       "      <th>51565</th>\n",
       "      <td>ZNF667</td>\n",
       "      <td>TCL1A</td>\n",
       "      <td>0.018544</td>\n",
       "    </tr>\n",
       "    <tr>\n",
       "      <th>51566</th>\n",
       "      <td>ZNF667</td>\n",
       "      <td>BCL7A</td>\n",
       "      <td>0.066259</td>\n",
       "    </tr>\n",
       "  </tbody>\n",
       "</table>\n",
       "<p>51567 rows × 3 columns</p>\n",
       "</div>"
      ],
      "text/plain": [
       "       source     target    weight\n",
       "0        ABI3      SERF2  0.492266\n",
       "1        ABI3      HMGN2  1.978421\n",
       "2        ABI3       PFN1  1.763803\n",
       "3        ABI3      DRAP1  2.075658\n",
       "4        ABI3       ACTB  0.504045\n",
       "...       ...        ...       ...\n",
       "51562  ZNF667  LINC00638  0.166595\n",
       "51563  ZNF667      GDF10  0.023349\n",
       "51564  ZNF667      BCAS4  0.043807\n",
       "51565  ZNF667      TCL1A  0.018544\n",
       "51566  ZNF667      BCL7A  0.066259\n",
       "\n",
       "[51567 rows x 3 columns]"
      ]
     },
     "execution_count": 55,
     "metadata": {},
     "output_type": "execute_result"
    }
   ],
   "source": [
    "from ast import literal_eval\n",
    "import pandas as pd\n",
    "df = pd.read_csv(\n",
    "    f\"{work_dir}/infer/scglue/pruned_grn.csv\", header=None, skiprows=3,\n",
    "    usecols=[0, 8], names=[\"TF\", \"targets\"]\n",
    ")\n",
    "\n",
    "tfs_list = []\n",
    "target_list = []\n",
    "weight_list = []\n",
    "for i, (tf, targets) in df.iterrows():\n",
    "    for target, weight in literal_eval(targets):\n",
    "        tfs_list.append(tf)\n",
    "        target_list.append(target)\n",
    "        weight_list.append(weight)\n",
    "scglue_grn = pd.DataFrame(np.stack([tfs_list, target_list, weight_list], axis=1), columns=['source','target','weight'])\n",
    "scglue_grn.weight = scglue_grn.weight.astype(float)\n",
    "scglue_grn = scglue_grn.drop_duplicates().reset_index(drop=True)\n",
    "scglue_grn"
   ]
  },
  {
   "cell_type": "code",
   "execution_count": null,
   "metadata": {},
   "outputs": [],
   "source": [
    "scglue_grn.to_csv(f\"{work_dir}/infer/scglue/grn/scglue_grn.csv\")"
   ]
  },
  {
   "cell_type": "markdown",
   "metadata": {},
   "source": [
    "## Plot CDF"
   ]
  },
  {
   "cell_type": "code",
   "execution_count": 116,
   "metadata": {},
   "outputs": [
    {
     "data": {
      "image/png": "[encoded data removed]",
      "text/plain": [
       "<Figure size 2000x350 with 6 Axes>"
      ]
     },
     "metadata": {},
     "output_type": "display_data"
    }
   ],
   "source": [
    "colors_light = ['green', '#ADD8E6', '#FFC0CB', '#90EE90', '#FFD700', '#E6E6FA', 'gray']\n",
    "\n",
    "# non cell type specific grns\n",
    "def plot_cumulative_density(data, title='', ax=None):\n",
    "    # Step 1: Sort the data\n",
    "    sorted_data = np.sort(data)\n",
    "    \n",
    "    # Step 2: Compute the cumulative density values\n",
    "    cdf = np.arange(1, len(sorted_data) + 1) / len(sorted_data)\n",
    "    \n",
    "    # Step 3: Plot the data\n",
    "    if ax is None:\n",
    "    \tfig, ax = plt.subplots(1, 1, figsize=(4, 4))\n",
    "    else:\n",
    "    \tfig = None\n",
    "    ax.scatter(sorted_data, cdf, s=2, alpha=.5, color=colors_light[1])\n",
    "    ax.set_xlabel('Regulatory weights')\n",
    "    ax.set_ylabel('Cumulative Density')\n",
    "    ax.set_title(title)\n",
    "    # ax.grid(True)\n",
    "    return fig, ax\n",
    "\n",
    "fig, axes = plt.subplots(1, 6, figsize=(20, 3.5))\n",
    "for i_plot, (name, grn) in enumerate(zip(['Scenic+','FigR','scGLUE','GRANIE'],[scenicplus_grn, figr_grn, scglue_grn, grn_granie])):\n",
    "    # norm_weight = grn.weight.values/max(grn.weight.values)\n",
    "    plot_cumulative_density(grn.weight.values, ax=axes[i_plot], title=name)\n",
    "# ax.legend(loc='upper left', bbox_to_anchor=(1,1), scatterpoints=1, markerscale=5, prop={'size': 10})\n",
    "ax=axes[i_plot+1]\n",
    "plot_cumulative_density(celloracle_average_weights, ax=ax, title='CellOracle')\n",
    "ax.axvline(np.mean(celloracle_cutoff_weights), color='r', linestyle='--', linewidth=1.5)\n",
    "ax.axvline(-np.mean(celloracle_cutoff_weights), color='r', linestyle='--', linewidth=1.5)\n",
    "\n",
    "plt.tight_layout()"
   ]
  },
  {
   "cell_type": "markdown",
   "metadata": {},
   "source": [
    "## Copy to one place"
   ]
  },
  {
   "cell_type": "code",
   "execution_count": null,
   "metadata": {},
   "outputs": [],
   "source": [
    "grn_model_names = ['figr', 'celloracle', 'granie', 'ananse', 'scglue', 'scenicplus']\n",
    "for name in grn_model_names:\n",
    "    grn = pd.read_csv(f'{work_dir}/infer/{name}/grn/{name}_grn.csv', index_col=0)\n",
    "    if 'cell_type' in grn.columns:\n",
    "        grn['cell_type'].replace({'agg_type': 'T cells'}, inplace=True)\n",
    "    \n",
    "    grn.to_csv(f'../output/benchmarking/grn_models/{name}.csv')\n",
    "collectRI = pd.read_csv(\"https://github.com/pablormier/omnipath-static/raw/main/op/collectri-26.09.2023.zip\")\n",
    "collectRI.to_csv(f'../output/benchmarking/grn_models/collectri.csv')\n",
    "\n",
    "peak_gene_model = ['figr', 'celloracle', 'granie']\n",
    "\n",
    "for name in peak_gene_model:\n",
    "    peak_gene = pd.read_csv(f'{work_dir}/infer/{name}/peak_gene.csv', index_col=0)\n",
    "    peak_gene.to_csv(f'../output/benchmarking/peak_gene_models/{name}.csv')"
   ]
  }
 ],
 "metadata": {
  "kernelspec": {
   "display_name": "py10",
   "language": "python",
   "name": "python3"
  },
  "language_info": {
   "codemirror_mode": {
    "name": "ipython",
    "version": 3
   },
   "file_extension": ".py",
   "mimetype": "text/x-python",
   "name": "python",
   "nbconvert_exporter": "python",
   "pygments_lexer": "ipython3",
   "version": "3.1.-1"
  }
 },
 "nbformat": 4,
 "nbformat_minor": 2
}
