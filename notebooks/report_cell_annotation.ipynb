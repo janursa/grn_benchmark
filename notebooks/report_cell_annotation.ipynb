{
 "cells": [
  {
   "cell_type": "markdown",
   "metadata": {},
   "source": [
    "Nk cells show two distinct subtypes on UMAP. Celltypist suggests that the subgroup 2 as T cells. The NK cells biomarkers suggest group 1 as NK cells and group 2 is less clear. **Solution**, we can consider group 2 as a seperate group, called T cells 2. \n",
    "\n",
    "\n",
    "In addition, we have multiple islands on the UMAP. By looking at them closerly, we can identify certain patterns that can help us either remove them or adjust based on individual. \n",
    "\n",
    "\n",
    "outliers_1 = ['CEP-18770 (Delanzomib)', 'MLN 2238', 'Oprozomib (ONX 0912)'] # a big shift on UMAP across all three donors + dominantly two cell types of T cells1 and T cells 2. **Solution**, remove them.\n",
    "\n",
    "outliers_2 = ['Ganetespib (STA-9090)', 'AT13387'] # big shift on UMAP across all three donors. **Solution**, if we have biological explanation, we can retain them. Otherwise, remove them.\n",
    "\n",
    "\n",
    "'Proscillaridin A;Proscillaridin-A' shows issues with donor 2. a seperate island of T cells 1 close to T cells 2. **Solution**, this donor could be either removed or part of T cells 1 (the island) can be reverted to T cells 2.\n",
    "\n",
    "\n",
    "'IN1451' #shows dominantly T cell 1. **Solution**, either remove the compound, or remove donor 2 and change annotations the of part of T cells 1 to NK cells and T cells 2\n",
    "\n",
    "\n"
   ]
  },
  {
   "cell_type": "markdown",
   "metadata": {},
   "source": [
    "<img src=\"../output/TKcells_substypes_2.png\" alt=\"Image Description\" width=\"50%\" height=\"50%\">"
   ]
  },
  {
   "cell_type": "markdown",
   "metadata": {},
   "source": [
    "# New cell type annotation"
   ]
  },
  {
   "cell_type": "markdown",
   "metadata": {},
   "source": [
    "each row shows the results for one donor."
   ]
  },
  {
   "cell_type": "code",
   "execution_count": null,
   "metadata": {},
   "outputs": [],
   "source": [
    "We group Celltypists groups into 5 major groups \n",
    "\n",
    "group_cell_types = {\n",
    "    'NK cells':['CD16+ NK cells', 'CD16- NK cells', 'NK cells'],\n",
    "    'T cells 1':['Tcm/Naive helper T cells', 'Tem/Effector helper T cells', 'Regulatory T cells', 'Tcm/Naive cytotoxic T cells'],\n",
    "    'T cells 2':['Tem/Temra cytotoxic T cells',  'Tem/Trm cytotoxic T cells', 'MAIT cells', 'Trm cytotoxic T cells'],\n",
    "\n",
    "    'B cells':['Naive B cells', 'Memory B cells', 'Age-associated B cells', 'Plasma cells'],\n",
    "    'Myeloid cells':['DC2', 'Migratory DCs', 'Alveolar macrophages', 'Macrophages', 'Intermediate macrophages', 'Intestinal macrophages', 'Classical monocytes', 'Non-classical monocytes', 'Megakaryocyte precursor']\n",
    "} "
   ]
  },
  {
   "cell_type": "markdown",
   "metadata": {},
   "source": [
    "<img src=\"../output/new_annotation.png\" alt=\"Image Description\" width=\"100%\" height=\"100%\">"
   ]
  },
  {
   "cell_type": "markdown",
   "metadata": {},
   "source": [
    "looking at the biomarkers:"
   ]
  },
  {
   "cell_type": "markdown",
   "metadata": {},
   "source": [
    "<img src=\"../output/dotplot_nk_cells.png\" alt=\"Image Description\" width=\"100%\" height=\"100%\">"
   ]
  },
  {
   "cell_type": "markdown",
   "metadata": {},
   "source": [
    "# Evaluating the islands "
   ]
  },
  {
   "cell_type": "markdown",
   "metadata": {},
   "source": [
    "outliers_1 = ['CEP-18770 (Delanzomib)', 'MLN 2238', 'Oprozomib (ONX 0912)'] # a big shift in clustering. dominantly cell types"
   ]
  },
  {
   "cell_type": "markdown",
   "metadata": {},
   "source": [
    "<img src=\"../output/outliers_1.png\" alt=\"Image Description\" width=\"100%\" height=\"100%\">"
   ]
  },
  {
   "cell_type": "code",
   "execution_count": 1,
   "metadata": {},
   "outputs": [],
   "source": [
    "outliers_2 = ['Ganetespib (STA-9090)', 'AT13387'] # a big shift in the clustering "
   ]
  },
  {
   "cell_type": "markdown",
   "metadata": {},
   "source": [
    "<img src=\"../output/outliers_2.png\" alt=\"Image Description\" width=\"100%\" height=\"100%\">"
   ]
  },
  {
   "cell_type": "markdown",
   "metadata": {},
   "source": [
    "'Proscillaridin A;Proscillaridin-A' shows issues with donor 2. This donor could be either removed or part of T cells 1 (the island) can be reverted to T cells 2."
   ]
  },
  {
   "cell_type": "markdown",
   "metadata": {},
   "source": [
    "<img src=\"../output/prollicaridin.png\" alt=\"Image Description\" width=\"100%\" height=\"100%\">"
   ]
  },
  {
   "cell_type": "markdown",
   "metadata": {},
   "source": [
    "IN1451 shows dominant T cells 1 and very low for the remaining. This will leave less than 3 cells types after filtering for cell count threhsold. Also, the umap shows that T cells 1 are present in other clusters."
   ]
  },
  {
   "cell_type": "markdown",
   "metadata": {},
   "source": [
    "<img src=\"../output/IN1451.png\" alt=\"Image Description\" width=\"100%\" height=\"100%\">"
   ]
  }
 ],
 "metadata": {
  "kernelspec": {
   "display_name": "py10",
   "language": "python",
   "name": "python3"
  },
  "language_info": {
   "codemirror_mode": {
    "name": "ipython",
    "version": 3
   },
   "file_extension": ".py",
   "mimetype": "text/x-python",
   "name": "python",
   "nbconvert_exporter": "python",
   "pygments_lexer": "ipython3",
   "version": "3.10.14"
  }
 },
 "nbformat": 4,
 "nbformat_minor": 2
}
