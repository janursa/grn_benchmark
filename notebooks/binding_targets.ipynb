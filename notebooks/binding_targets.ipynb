{
 "cells": [
  {
   "cell_type": "markdown",
   "metadata": {},
   "source": [
    "#TODO: check those smiles that were not given in BindingDB"
   ]
  },
  {
   "cell_type": "code",
   "execution_count": 1,
   "metadata": {},
   "outputs": [
    {
     "name": "stderr",
     "output_type": "stream",
     "text": [
      "/root/.local/lib/python3.10/site-packages/numba/np/ufunc/parallel.py:371: NumbaWarning: \u001b[1mThe TBB threading layer requires TBB version 2021 update 6 or later i.e., TBB_INTERFACE_VERSION >= 12060. Found TBB_INTERFACE_VERSION = 12050. The TBB threading layer is disabled.\u001b[0m\n",
      "  warnings.warn(problem)\n"
     ]
    }
   ],
   "source": [
    "import json \n",
    "import pandas as pd \n",
    "import os \n",
    "import anndata as ad\n",
    "import decoupler as dc\n",
    "import numpy as np\n",
    "import sys \n",
    "from local_utils import  map \n",
    "warnings.filterwarnings('ignore')\n",
    "\n",
    "work_dir = '../output'\n",
    "os.makedirs(f'{work_dir}/affinity', exist_ok=True)\n",
    "# read smiles map \n",
    "with open(f'{work_dir}/affinity/map_smile_sm_name.json', 'r') as f:\n",
    "    map_smile_sm_name = json.load(f)\n",
    "\n",
    "smiles_de_train = list(map_smile_sm_name.keys())\n",
    "sm_names_de_train = list(map_smile_sm_name.values())"
   ]
  },
  {
   "cell_type": "markdown",
   "metadata": {},
   "source": [
    "## Map smile to sm_name: pass"
   ]
  },
  {
   "cell_type": "code",
   "execution_count": 28,
   "metadata": {},
   "outputs": [],
   "source": [
    "df_train = pd.read_parquet('../input/kaggle/input/open-problems-single-cell-perturbations/de_train.parquet')\n",
    "map_smile_sm_name = {}\n",
    "for smile, sm_name in zip(df_train.SMILES, df_train.sm_name):\n",
    "    if smile not in map_smile_sm_name.keys():\n",
    "        map_smile_sm_name[smile] = sm_name\n",
    "with open(f'{work_dir}/affinity/map_smile_sm_name.json', 'w') as f:\n",
    "    json.dump(map_smile_sm_name, f)"
   ]
  },
  {
   "cell_type": "markdown",
   "metadata": {},
   "source": [
    "## Process binding data of BindingDB\n",
    "We save it as sm_name:targets "
   ]
  },
  {
   "cell_type": "code",
   "execution_count": 2,
   "metadata": {},
   "outputs": [
    {
     "name": "stderr",
     "output_type": "stream",
     "text": [
      "/tmp/ipykernel_524930/3427166776.py:1: DtypeWarning: Columns (8,9,10,11,12,13,15,17,20,21,22,23,27,28,32,33,35,36,45,46,47,48,50,51,52,53,54,55,57,58,59,60,62,63,64,65,66,67,69,70,71,72,74,75,76,77,78,79,81,82,83,86,87,88,89,90,91,93,94,95,98,99,100,101,102,103,105,106,107,110,111,112,113,114,115,117,118,119,122,123,124,125,126,127,129,130,131,134,135,136,137,138,139,146,147,148,149,150,151,158,159,160,161,162,163,170,172,173,174,175) have mixed types. Specify dtype option on import or set low_memory=False.\n",
      "  data = pd.read_csv(f'{work_dir}/affinity/database/BindingDB_All_202406.tsv', sep='\\t', on_bad_lines='skip')\n"
     ]
    }
   ],
   "source": [
    "data = pd.read_csv(f'{work_dir}/affinity/database/BindingDB_All_202406.tsv', sep='\\t', on_bad_lines='skip')"
   ]
  },
  {
   "cell_type": "code",
   "execution_count": 26,
   "metadata": {},
   "outputs": [
    {
     "name": "stdout",
     "output_type": "stream",
     "text": [
      "Fetched: 500 / 559\n",
      "Fetched: 559 / 559\n",
      "From 565 proteins, 564 has prot name in UniProt, from which 552 has gene names\n"
     ]
    }
   ],
   "source": [
    "# subset to those smiles that are given in de_train. #TODO: check the compounds with names \n",
    "data_subset = data[data['Ligand SMILES'].isin(smiles_de_train)] \n",
    "# rename columns\n",
    "data_subset = data_subset[['Ligand SMILES', 'UniProt (SwissProt) Entry Name of Target Chain']].reset_index(drop=True)\n",
    "data_subset.columns = ['SMILES', 'prot']\n",
    "\n",
    "n_initial_prots = len(data_subset.prot.unique())\n",
    "# map smile to sm_name\n",
    "data_subset['sm_name'] = data_subset.SMILES.map(map_smile_sm_name)\n",
    "\n",
    "data_subset = data_subset.loc[~data_subset.prot.isna(), :]\n",
    "prots = data_subset.prot.unique()\n",
    "\n",
    "# map protname to genename \n",
    "prot_to_gene_map = map.protname_genename(prots)\n",
    "\n",
    "data_subset['gene'] = data_subset['prot'].map(prot_to_gene_map)\n",
    "\n",
    "data_subset = data_subset[~data_subset.gene.isna()].reset_index(drop=True)\n",
    "\n",
    "print(f\"From {n_initial_prots} proteins, {len(prots)} has prot name in UniProt, from which {len(data_subset['gene'].unique())} has gene names\")\n",
    "\n",
    "# group targets for compounds\n",
    "targets = data_subset.groupby('sm_name')['gene'].apply(list).to_dict()\n",
    "all_targets_bDB = np.unique(np.concatenate(list(targets.values())))\n",
    "# save\n",
    "with open(f'{work_dir}/affinity/curated/targets_bindingDB_all.json', 'w') as f:\n",
    "    json.dump(targets, f)"
   ]
  },
  {
   "cell_type": "markdown",
   "metadata": {},
   "source": [
    "### How to map smiles to some names"
   ]
  },
  {
   "cell_type": "code",
   "execution_count": 31,
   "metadata": {},
   "outputs": [],
   "source": [
    "import requests\n",
    "def smiles_to_iupac(smiles_list):\n",
    "    rep = \"Names\"\n",
    "    results_map = {}\n",
    "    CACTUS = \"https://cactus.nci.nih.gov/chemical/structure/{0}/{1}\"\n",
    "    for smiles in smiles_list:\n",
    "        url = CACTUS.format(smiles, rep)\n",
    "        try:\n",
    "            response = requests.get(url)\n",
    "            response.raise_for_status()\n",
    "            rr = response.text.split('\\n')\n",
    "            results_map[smiles] = rr\n",
    "        except requests.exceptions.RequestException as e:\n",
    "            # Handle HTTP request errors by adding NaN to the results map\n",
    "            results_map[smiles] = float('nan')\n",
    "    return results_map\n",
    "smiles_all = data_subset.SMILES.unique()\n",
    "rr = smiles_to_iupac(smiles_all)\n"
   ]
  },
  {
   "cell_type": "code",
   "execution_count": 32,
   "metadata": {},
   "outputs": [
    {
     "name": "stdout",
     "output_type": "stream",
     "text": [
      "nan O=C(Nc1nc2cccc(-c3ccc(CN4CCS(=O)(=O)CC4)cc3)n2n1)C1CC1\n",
      "nan CC[C@H](Nc1ncnc2[nH]cnc12)c1nc2cccc(F)c2c(=O)n1-c1ccccc1\n",
      "nan CC(C)C[C@H](NC(=O)CNC(=O)c1cc(Cl)ccc1Cl)B(O)O\n"
     ]
    }
   ],
   "source": [
    "for smile, names in rr.items():\n",
    "    if type(names)==list:\n",
    "        continue\n",
    "    print(names, smile)"
   ]
  },
  {
   "cell_type": "markdown",
   "metadata": {},
   "source": [
    "## Broad data\n",
    "Very low on targets (only 25)"
   ]
  },
  {
   "cell_type": "code",
   "execution_count": 2,
   "metadata": {},
   "outputs": [],
   "source": [
    "with open(f'{work_dir}/affinity/curated/targets_bindingDB_all.json', 'r') as f:\n",
    "    targets_bindingDB = json.load(f)"
   ]
  },
  {
   "cell_type": "code",
   "execution_count": 17,
   "metadata": {},
   "outputs": [],
   "source": [
    "data_broad = pd.read_csv(f'{work_dir}/affinity/database/Repurposing_Hub_export.txt', sep='\\t')\n",
    "data_broad_subset = data_broad[data_broad.Name.isin(sm_names_de_train)]\n",
    "data_broad_subset = data_broad_subset[['Name', 'Target']].reset_index(drop=True)\n",
    "data_broad_subset.columns = ['sm_name', 'target']\n",
    "data_broad_subset = data_broad_subset.groupby('sm_name')['target'].apply(list).to_dict()\n",
    "# save\n",
    "with open(f'{work_dir}/affinity/curated/targets_broad.json', 'w') as f:\n",
    "    json.dump(data_broad_subset, f)"
   ]
  },
  {
   "cell_type": "markdown",
   "metadata": {},
   "source": [
    "## Coverage on genes and TFs"
   ]
  },
  {
   "cell_type": "code",
   "execution_count": 11,
   "metadata": {},
   "outputs": [
    {
     "name": "stdout",
     "output_type": "stream",
     "text": [
      "number of targets:  552\n",
      "number of targets:  25\n",
      "number of TFs:  1639\n"
     ]
    }
   ],
   "source": [
    "with open(f'{work_dir}/affinity/curated/targets_bindingDB_all.json', 'r') as f:\n",
    "    targets_bindingDB = json.load(f)\n",
    "    all_targets_bDB = np.unique(np.concatenate(list(targets_bindingDB.values())))\n",
    "    print('number of targets: ', len(all_targets_bDB))\n",
    "with open(f'{work_dir}/affinity/curated/targets_broad.json', 'r') as f:\n",
    "    targets_broad  = json.load(f)\n",
    "    print('number of targets: ', len(np.unique(np.concatenate(list(targets_broad.values())))))\n",
    "tfs_list = np.loadtxt(f'{work_dir}/utoronto_human_tfs_v_1.01.txt', dtype=str)\n",
    "print('number of TFs: ', len(tfs_list))"
   ]
  },
  {
   "cell_type": "code",
   "execution_count": 54,
   "metadata": {},
   "outputs": [
    {
     "data": {
      "text/plain": [
       "(12,)"
      ]
     },
     "execution_count": 54,
     "metadata": {},
     "output_type": "execute_result"
    }
   ],
   "source": [
    "np.intersect1d(tfs_list, all_targets_bDB).shape\n"
   ]
  },
  {
   "cell_type": "code",
   "execution_count": 47,
   "metadata": {},
   "outputs": [],
   "source": [
    "# lets try with protnames\n",
    "from local_utils import map\n",
    "all_targets_bDB_prots = map.genename_protname(all_targets_bDB)\n",
    "tfs_list_prot = map.genename_protname(tfs_list)\n",
    "\n",
    "all_targets_bDB_prots = np.asarray(list(all_targets_bDB_prots.values()))\n",
    "tfs_list_prot = np.asarray(list(tfs_list_prot.values()))\n"
   ]
  },
  {
   "cell_type": "code",
   "execution_count": 53,
   "metadata": {},
   "outputs": [
    {
     "data": {
      "text/plain": [
       "(12,)"
      ]
     },
     "execution_count": 53,
     "metadata": {},
     "output_type": "execute_result"
    }
   ],
   "source": [
    "np.intersect1d(tfs_list_prot, all_targets_bDB_prots).shape\n"
   ]
  },
  {
   "cell_type": "markdown",
   "metadata": {},
   "source": [
    "## Coverage on grn"
   ]
  },
  {
   "cell_type": "code",
   "execution_count": 55,
   "metadata": {},
   "outputs": [],
   "source": [
    "# read nets\n",
    "grn_model_names = ['collectRI', 'figr', 'celloracle', 'granie', 'ananse', 'scglue', 'scenicplus']\n",
    "\n",
    "grn_models_dict = {}\n",
    "for name in grn_model_names:\n",
    "    grn_models_dict[name] = pd.read_csv(f'{work_dir}/benchmark/grn_models/{name}.csv', index_col=0)"
   ]
  },
  {
   "cell_type": "code",
   "execution_count": 113,
   "metadata": {},
   "outputs": [
    {
     "name": "stdout",
     "output_type": "stream",
     "text": [
      "collectRI (356,)\n",
      "figr (244,)\n",
      "celloracle (283,)\n",
      "granie (204,)\n",
      "ananse (135,)\n",
      "scglue (347,)\n",
      "scenicplus (335,)\n"
     ]
    },
    {
     "ename": "",
     "evalue": "",
     "output_type": "error",
     "traceback": [
      "\u001b[1;31mThe Kernel crashed while executing code in the current cell or a previous cell. \n",
      "\u001b[1;31mPlease review the code in the cell(s) to identify a possible cause of the failure. \n",
      "\u001b[1;31mClick <a href='https://aka.ms/vscodeJupyterKernelCrash'>here</a> for more info. \n",
      "\u001b[1;31mView Jupyter <a href='command:jupyter.viewOutput'>log</a> for further details."
     ]
    }
   ],
   "source": [
    "# check the presence of target genes among tfs \n",
    "targets = all_targets_bDB\n",
    "all_targets = targets\n",
    "for name, grn in grn_models_dict.items():\n",
    "    print(name, np.intersect1d(all_targets, grn.target.unique()).shape) "
   ]
  },
  {
   "cell_type": "markdown",
   "metadata": {},
   "source": [
    "# Some analysis"
   ]
  },
  {
   "cell_type": "code",
   "execution_count": 110,
   "metadata": {},
   "outputs": [
    {
     "name": "stdout",
     "output_type": "stream",
     "text": [
      "lognorm 1000\n",
      "pearson 281\n",
      "seurat_lognorm 985\n",
      "seurat_pearson 31\n",
      "scgen_lognorm 967\n",
      "scgen_pearson 452\n"
     ]
    }
   ],
   "source": [
    "# targets as hvgs\n",
    "# bulk_adata = ad.read_h5ad(f'{work_dir}/preprocess/bulk_adata_integrated.h5ad')\n",
    "import warnings\n",
    "for method in ['lognorm', 'pearson', 'seurat_lognorm', 'seurat_pearson', 'scgen_lognorm', 'scgen_pearson']:\n",
    "    bulk_adata.X = bulk_adata.layers[method]\n",
    "    sc.pp.highly_variable_genes(bulk_adata, n_top_genes=3000)\n",
    "    hvgs = bulk_adata.var_names[bulk_adata.var.highly_variable]\n",
    "    genes_overlap = np.intersect1d(all_targets, bulk_adata.var_names)\n",
    "    n_targets = len(genes_overlap)\n",
    "    n_all_genes = bulk_adata.shape[1]\n",
    "\n",
    "    y_true = np.intersect1d(genes_overlap, hvgs).shape[0]\n",
    "\n",
    "    y_preds = []\n",
    "    for i in range(1000):\n",
    "        mask = np.random.choice([True, False], n_all_genes,  p=[n_targets/n_all_genes, (n_all_genes-n_targets)/n_all_genes])\n",
    "        random_genes = bulk_adata.var_names[mask]\n",
    "        y_preds.append(np.intersect1d(random_genes, hvgs).shape[0])\n",
    "    y_preds = np.asarray(y_preds)\n",
    "\n",
    "    print(method, (y_preds > y_true).sum())"
   ]
  },
  {
   "cell_type": "code",
   "execution_count": 111,
   "metadata": {},
   "outputs": [
    {
     "data": {
      "text/plain": [
       "352"
      ]
     },
     "execution_count": 111,
     "metadata": {},
     "output_type": "execute_result"
    }
   ],
   "source": [
    "n_targets"
   ]
  },
  {
   "cell_type": "markdown",
   "metadata": {},
   "source": [
    "## Enrichment analysis"
   ]
  },
  {
   "cell_type": "code",
   "execution_count": 97,
   "metadata": {},
   "outputs": [
    {
     "data": {
      "text/html": [
       "<div>\n",
       "<style scoped>\n",
       "    .dataframe tbody tr th:only-of-type {\n",
       "        vertical-align: middle;\n",
       "    }\n",
       "\n",
       "    .dataframe tbody tr th {\n",
       "        vertical-align: top;\n",
       "    }\n",
       "\n",
       "    .dataframe thead th {\n",
       "        text-align: right;\n",
       "    }\n",
       "</style>\n",
       "<table border=\"1\" class=\"dataframe\">\n",
       "  <thead>\n",
       "    <tr style=\"text-align: right;\">\n",
       "      <th>gene</th>\n",
       "      <th>A1BG</th>\n",
       "      <th>A1BG-AS1</th>\n",
       "      <th>A2M</th>\n",
       "      <th>A2M-AS1</th>\n",
       "      <th>AAAS</th>\n",
       "      <th>AACS</th>\n",
       "      <th>AAGAB</th>\n",
       "      <th>AAK1</th>\n",
       "      <th>AAMDC</th>\n",
       "      <th>AAMP</th>\n",
       "      <th>...</th>\n",
       "      <th>ZUP1</th>\n",
       "      <th>ZW10</th>\n",
       "      <th>ZWILCH</th>\n",
       "      <th>ZWINT</th>\n",
       "      <th>ZXDA</th>\n",
       "      <th>ZXDB</th>\n",
       "      <th>ZXDC</th>\n",
       "      <th>ZYG11B</th>\n",
       "      <th>ZYX</th>\n",
       "      <th>ZZEF1</th>\n",
       "    </tr>\n",
       "    <tr>\n",
       "      <th>sample</th>\n",
       "      <th></th>\n",
       "      <th></th>\n",
       "      <th></th>\n",
       "      <th></th>\n",
       "      <th></th>\n",
       "      <th></th>\n",
       "      <th></th>\n",
       "      <th></th>\n",
       "      <th></th>\n",
       "      <th></th>\n",
       "      <th></th>\n",
       "      <th></th>\n",
       "      <th></th>\n",
       "      <th></th>\n",
       "      <th></th>\n",
       "      <th></th>\n",
       "      <th></th>\n",
       "      <th></th>\n",
       "      <th></th>\n",
       "      <th></th>\n",
       "      <th></th>\n",
       "    </tr>\n",
       "  </thead>\n",
       "  <tbody>\n",
       "    <tr>\n",
       "      <th>5-(9-Isopropyl-8-methyl-2-morpholino-9H-purin-6-yl)pyrimidin-2-amine@B cells</th>\n",
       "      <td>0.826571</td>\n",
       "      <td>0.366722</td>\n",
       "      <td>0.605799</td>\n",
       "      <td>0.577766</td>\n",
       "      <td>-0.287037</td>\n",
       "      <td>0.293762</td>\n",
       "      <td>0.606627</td>\n",
       "      <td>0.367315</td>\n",
       "      <td>0.955483</td>\n",
       "      <td>-0.579767</td>\n",
       "      <td>...</td>\n",
       "      <td>-0.573711</td>\n",
       "      <td>0.549571</td>\n",
       "      <td>0.077775</td>\n",
       "      <td>0.411108</td>\n",
       "      <td>1.571559</td>\n",
       "      <td>0.803124</td>\n",
       "      <td>0.950774</td>\n",
       "      <td>-0.067148</td>\n",
       "      <td>0.171418</td>\n",
       "      <td>1.943000</td>\n",
       "    </tr>\n",
       "    <tr>\n",
       "      <th>5-(9-Isopropyl-8-methyl-2-morpholino-9H-purin-6-yl)pyrimidin-2-amine@Myeloid cells</th>\n",
       "      <td>1.144635</td>\n",
       "      <td>0.888033</td>\n",
       "      <td>0.294882</td>\n",
       "      <td>1.034652</td>\n",
       "      <td>-0.079176</td>\n",
       "      <td>0.521397</td>\n",
       "      <td>-2.105741</td>\n",
       "      <td>1.811037</td>\n",
       "      <td>0.213352</td>\n",
       "      <td>0.065167</td>\n",
       "      <td>...</td>\n",
       "      <td>-1.100933</td>\n",
       "      <td>0.367605</td>\n",
       "      <td>0.088639</td>\n",
       "      <td>-0.498617</td>\n",
       "      <td>0.899551</td>\n",
       "      <td>0.092172</td>\n",
       "      <td>-0.212104</td>\n",
       "      <td>0.403848</td>\n",
       "      <td>2.683611</td>\n",
       "      <td>0.591665</td>\n",
       "    </tr>\n",
       "    <tr>\n",
       "      <th>5-(9-Isopropyl-8-methyl-2-morpholino-9H-purin-6-yl)pyrimidin-2-amine@NK cells</th>\n",
       "      <td>-0.022487</td>\n",
       "      <td>-2.229070</td>\n",
       "      <td>0.078174</td>\n",
       "      <td>2.232399</td>\n",
       "      <td>0.386491</td>\n",
       "      <td>-0.312335</td>\n",
       "      <td>0.108862</td>\n",
       "      <td>-0.570145</td>\n",
       "      <td>0.384764</td>\n",
       "      <td>0.008786</td>\n",
       "      <td>...</td>\n",
       "      <td>0.111267</td>\n",
       "      <td>-2.372358</td>\n",
       "      <td>-0.228849</td>\n",
       "      <td>-1.313962</td>\n",
       "      <td>0.349919</td>\n",
       "      <td>1.207870</td>\n",
       "      <td>0.119070</td>\n",
       "      <td>0.869728</td>\n",
       "      <td>-0.756822</td>\n",
       "      <td>-0.155182</td>\n",
       "    </tr>\n",
       "  </tbody>\n",
       "</table>\n",
       "<p>3 rows × 12794 columns</p>\n",
       "</div>"
      ],
      "text/plain": [
       "gene                                                    A1BG  A1BG-AS1  \\\n",
       "sample                                                                   \n",
       "5-(9-Isopropyl-8-methyl-2-morpholino-9H-purin-6...  0.826571  0.366722   \n",
       "5-(9-Isopropyl-8-methyl-2-morpholino-9H-purin-6...  1.144635  0.888033   \n",
       "5-(9-Isopropyl-8-methyl-2-morpholino-9H-purin-6... -0.022487 -2.229070   \n",
       "\n",
       "gene                                                     A2M   A2M-AS1  \\\n",
       "sample                                                                   \n",
       "5-(9-Isopropyl-8-methyl-2-morpholino-9H-purin-6...  0.605799  0.577766   \n",
       "5-(9-Isopropyl-8-methyl-2-morpholino-9H-purin-6...  0.294882  1.034652   \n",
       "5-(9-Isopropyl-8-methyl-2-morpholino-9H-purin-6...  0.078174  2.232399   \n",
       "\n",
       "gene                                                    AAAS      AACS  \\\n",
       "sample                                                                   \n",
       "5-(9-Isopropyl-8-methyl-2-morpholino-9H-purin-6... -0.287037  0.293762   \n",
       "5-(9-Isopropyl-8-methyl-2-morpholino-9H-purin-6... -0.079176  0.521397   \n",
       "5-(9-Isopropyl-8-methyl-2-morpholino-9H-purin-6...  0.386491 -0.312335   \n",
       "\n",
       "gene                                                   AAGAB      AAK1  \\\n",
       "sample                                                                   \n",
       "5-(9-Isopropyl-8-methyl-2-morpholino-9H-purin-6...  0.606627  0.367315   \n",
       "5-(9-Isopropyl-8-methyl-2-morpholino-9H-purin-6... -2.105741  1.811037   \n",
       "5-(9-Isopropyl-8-methyl-2-morpholino-9H-purin-6...  0.108862 -0.570145   \n",
       "\n",
       "gene                                                   AAMDC      AAMP  ...  \\\n",
       "sample                                                                  ...   \n",
       "5-(9-Isopropyl-8-methyl-2-morpholino-9H-purin-6...  0.955483 -0.579767  ...   \n",
       "5-(9-Isopropyl-8-methyl-2-morpholino-9H-purin-6...  0.213352  0.065167  ...   \n",
       "5-(9-Isopropyl-8-methyl-2-morpholino-9H-purin-6...  0.384764  0.008786  ...   \n",
       "\n",
       "gene                                                    ZUP1      ZW10  \\\n",
       "sample                                                                   \n",
       "5-(9-Isopropyl-8-methyl-2-morpholino-9H-purin-6... -0.573711  0.549571   \n",
       "5-(9-Isopropyl-8-methyl-2-morpholino-9H-purin-6... -1.100933  0.367605   \n",
       "5-(9-Isopropyl-8-methyl-2-morpholino-9H-purin-6...  0.111267 -2.372358   \n",
       "\n",
       "gene                                                  ZWILCH     ZWINT  \\\n",
       "sample                                                                   \n",
       "5-(9-Isopropyl-8-methyl-2-morpholino-9H-purin-6...  0.077775  0.411108   \n",
       "5-(9-Isopropyl-8-methyl-2-morpholino-9H-purin-6...  0.088639 -0.498617   \n",
       "5-(9-Isopropyl-8-methyl-2-morpholino-9H-purin-6... -0.228849 -1.313962   \n",
       "\n",
       "gene                                                    ZXDA      ZXDB  \\\n",
       "sample                                                                   \n",
       "5-(9-Isopropyl-8-methyl-2-morpholino-9H-purin-6...  1.571559  0.803124   \n",
       "5-(9-Isopropyl-8-methyl-2-morpholino-9H-purin-6...  0.899551  0.092172   \n",
       "5-(9-Isopropyl-8-methyl-2-morpholino-9H-purin-6...  0.349919  1.207870   \n",
       "\n",
       "gene                                                    ZXDC    ZYG11B  \\\n",
       "sample                                                                   \n",
       "5-(9-Isopropyl-8-methyl-2-morpholino-9H-purin-6...  0.950774 -0.067148   \n",
       "5-(9-Isopropyl-8-methyl-2-morpholino-9H-purin-6... -0.212104  0.403848   \n",
       "5-(9-Isopropyl-8-methyl-2-morpholino-9H-purin-6...  0.119070  0.869728   \n",
       "\n",
       "gene                                                     ZYX     ZZEF1  \n",
       "sample                                                                  \n",
       "5-(9-Isopropyl-8-methyl-2-morpholino-9H-purin-6...  0.171418  1.943000  \n",
       "5-(9-Isopropyl-8-methyl-2-morpholino-9H-purin-6...  2.683611  0.591665  \n",
       "5-(9-Isopropyl-8-methyl-2-morpholino-9H-purin-6... -0.756822 -0.155182  \n",
       "\n",
       "[3 rows x 12794 columns]"
      ]
     },
     "execution_count": 97,
     "metadata": {},
     "output_type": "execute_result"
    }
   ],
   "source": [
    "# read de_data\n",
    "de_train = pd.read_parquet(f'{work_dir}/affinity/de_train.parquet')\n",
    "de_train = de_train.reset_index()\n",
    "sm_names = de_train.sm_name\n",
    "sample = de_train.sm_name + '@'  + de_train.cell_type\n",
    "de_train['sample'] = sample\n",
    "de_train.set_index('sample', inplace=True)\n",
    "de_train.drop(columns=['cell_type', 'sm_name'], inplace=True)\n",
    "de_train.head(3)"
   ]
  },
  {
   "cell_type": "code",
   "execution_count": 98,
   "metadata": {},
   "outputs": [
    {
     "data": {
      "text/plain": [
       "(537, 65)"
      ]
     },
     "execution_count": 98,
     "metadata": {},
     "output_type": "execute_result"
    }
   ],
   "source": [
    "net = grn_models_dict['scenicplus']\n",
    "tf_act, p_values = dc.run_ulm(de_train, net=net)\n",
    "\n",
    "# we only want sm_name as sample\n",
    "tf_act['sm_name'] = sm_names.values\n",
    "tf_act.set_index('sm_name', inplace=True)\n",
    "\n",
    "tf_act.shape"
   ]
  },
  {
   "cell_type": "markdown",
   "metadata": {},
   "source": [
    "## Evaluate presence of targets "
   ]
  },
  {
   "cell_type": "code",
   "execution_count": 106,
   "metadata": {},
   "outputs": [
    {
     "name": "stdout",
     "output_type": "stream",
     "text": [
      "8 0\n",
      "2 0\n",
      "52 0\n",
      "39 0\n",
      "5 0\n",
      "852 0\n",
      "31 0\n",
      "31 0\n",
      "15 0\n",
      "47 0\n",
      "6 0\n",
      "38 0\n",
      "106 0\n",
      "4 0\n",
      "18 0\n",
      "6 0\n",
      "17 0\n",
      "6 0\n",
      "3 0\n",
      "22 0\n",
      "11 0\n",
      "1011 0\n"
     ]
    }
   ],
   "source": [
    "ep_count = {}\n",
    "for sm_name, target_genes in targets.items():\n",
    "    target_genes_n = len(target_genes)\n",
    "    TFs = tf_act.columns\n",
    "    print(target_genes_n, len(np.intersect1d(TFs, target_genes)))\n",
    "    # aa\n",
    "    # \n",
    "    # # get tf act for given compound\n",
    "    # mask = tf_act.index.get_level_values('sm_name') == sm_name\n",
    "    # tf_act_subset = tf_act[mask]\n",
    "    # for index, activities in  tf_act_subset.iterrows():\n",
    "    #     np.intersect()\n",
    "    #     # print(np.sort(np.abs(activities)))\n",
    "    #     aa\n"
   ]
  }
 ],
 "metadata": {
  "kernelspec": {
   "display_name": "py10",
   "language": "python",
   "name": "python3"
  },
  "language_info": {
   "codemirror_mode": {
    "name": "ipython",
    "version": 3
   },
   "file_extension": ".py",
   "mimetype": "text/x-python",
   "name": "python",
   "nbconvert_exporter": "python",
   "pygments_lexer": "ipython3",
   "version": "3.10.14"
  }
 },
 "nbformat": 4,
 "nbformat_minor": 2
}
