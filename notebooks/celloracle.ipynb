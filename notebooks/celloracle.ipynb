{
 "cells": [
  {
   "cell_type": "code",
   "execution_count": 1,
   "metadata": {},
   "outputs": [],
   "source": [
    "%load_ext rpy2.ipython"
   ]
  },
  {
   "cell_type": "markdown",
   "metadata": {},
   "source": [
    "## Imports"
   ]
  },
  {
   "cell_type": "code",
   "execution_count": 4,
   "metadata": {},
   "outputs": [],
   "source": [
    "import pandas as pd\n",
    "import os \n",
    "from celloracle import motif_analysis as ma\n",
    "import pandas as pd\n",
    "import celloracle as co\n",
    "celloracle_dir = '../output/celloracle'\n",
    "cicero_dir = '../output/cicero'\n",
    "os.makedirs(cicero_dir, exist_ok=True)\n",
    "donor_id = 'donor_0'\n",
    "cell_type = 'B cells'"
   ]
  },
  {
   "cell_type": "markdown",
   "metadata": {},
   "source": [
    "## Get data of the competition"
   ]
  },
  {
   "cell_type": "code",
   "execution_count": null,
   "metadata": {},
   "outputs": [],
   "source": [
    "multiome_var_meta = pd.read_csv('../input/open-problems-single-cell-perturbations/multiome_var_meta.csv')\n",
    "multiome_train = pd.read_parquet('../input/open-problems-single-cell-perturbations/multiome_train.parquet')\n",
    "multiome_obs_meta = pd.read_csv('../input/open-problems-single-cell-perturbations/multiome_obs_meta.csv')"
   ]
  },
  {
   "cell_type": "code",
   "execution_count": null,
   "metadata": {},
   "outputs": [],
   "source": [
    "# extract only peaks\n",
    "peaks_locations = multiome_var_meta[multiome_var_meta['feature_type']=='Peaks']['location'].values\n",
    "df_peaks = multiome_train[multiome_train['location'].isin(peaks_locations)].reset_index(drop=True)\n",
    "del multiome_train"
   ]
  },
  {
   "cell_type": "markdown",
   "metadata": {},
   "source": [
    "## Get annotation"
   ]
  },
  {
   "cell_type": "code",
   "execution_count": null,
   "metadata": {},
   "outputs": [],
   "source": [
    "# Get chromosome sizes (for hg38 here). \n",
    "target_url='http://hgdownload.cse.ucsc.edu/goldenPath/hg38/bigZips/hg38.chrom.sizes'\n",
    "chromsizes=pd.read_csv(target_url, sep='\\t', header=None)\n",
    "chromsizes.columns=['Chromosome', 'End']\n",
    "chromsizes['Start']=[0]*chromsizes.shape[0]\n",
    "chromsizes=chromsizes.loc[:,['Chromosome', 'Start', 'End']]\n",
    "# Exceptionally in this case, to agree with CellRangerARC annotations\n",
    "chromsizes['Chromosome'] = [chromsizes['Chromosome'][x].replace('v', '.') for x in range(len(chromsizes['Chromosome']))]\n",
    "chromsizes['Chromosome'] = [chromsizes['Chromosome'][x].split('_')[1] if len(chromsizes['Chromosome'][x].split('_')) > 1 else chromsizes['Chromosome'][x] for x in range(len(chromsizes['Chromosome']))]\n",
    "\n",
    "chromsizes = chromsizes[['Chromosome', 'End']]\n",
    "# save\n",
    "chromsizes.to_csv('output/chromsizes.csv', index=False)"
   ]
  },
  {
   "cell_type": "markdown",
   "metadata": {},
   "source": [
    "## Extract the peaks and save them"
   ]
  },
  {
   "cell_type": "code",
   "execution_count": 7,
   "metadata": {},
   "outputs": [],
   "source": [
    "# extract peaks for donor and cell type\n",
    "obs_donor = multiome_obs_meta[multiome_obs_meta['donor_id']==donor_id]\n",
    "obs_donor_cell_type = obs_donor[obs_donor['cell_type']==cell_type]\n",
    "df_peaks_cell_type = df_peaks[df_peaks['obs_id'].isin(obs_donor_cell_type['obs_id'].values)].reset_index(drop=True)\n",
    "# format and save\n",
    "def format(df):\n",
    "    df.loc[:, 'location'] = df.location.str.replace(':','_')\n",
    "    df.loc[:, 'location'] = df.location.str.replace('-','_')\n",
    "    return  df\n",
    "df_peaks_cell_type = format(df_peaks_cell_type)\n",
    "df_peaks_cell_type[['location','obs_id','count']].to_csv(f'output/scATAC/{donor_id}_{cell_type}.txt', sep='\\t', header=None, index=False)"
   ]
  },
  {
   "cell_type": "code",
   "execution_count": null,
   "metadata": {},
   "outputs": [],
   "source": [
    "# check if all chr are found\n",
    "chrs = df_peaks_cell_type.location.apply(lambda x:x.split('_')[0])\n",
    "chrs.isin(chromsizes.Chromosome).sum()"
   ]
  },
  {
   "cell_type": "markdown",
   "metadata": {},
   "source": [
    "## Run cicero"
   ]
  },
  {
   "cell_type": "code",
   "execution_count": 4,
   "metadata": {},
   "outputs": [
    {
     "data": {
      "text/plain": [
       "[1] '1.3.9'"
      ]
     },
     "metadata": {},
     "output_type": "display_data"
    }
   ],
   "source": [
    "%%R -i donor_id -i cell_type -i cicero_dir\n",
    "library(Gviz)\n",
    "library(GenomicRanges)\n",
    "library(rtracklayer)\n",
    "library(cicero)\n",
    "set.seed(2017)\n",
    "packageVersion(\"cicero\")\n",
    "# get the peaks\n",
    "cicero_data <- read.table(paste0(\"output/scATAC/\", donor_id, \"_\", cell_type, \".txt\"), sep = \"\\t\", header = FALSE)\n",
    "input_cds <- make_atac_cds(cicero_data, binarize = TRUE)\n",
    "input_cds <- monocle3::detect_genes(input_cds)\n",
    "input_cds <- estimate_size_factors(input_cds)\n",
    "input_cds <- preprocess_cds(input_cds, method = \"LSI\")\n",
    "input_cds <- reduce_dimension(input_cds, reduction_method = 'UMAP', preprocess_method = \"LSI\")\n",
    "# reduced dimension and cicero object\n",
    "umap_coords <- reducedDims(input_cds)$UMAP\n",
    "cicero_cds <- make_cicero_cds(input_cds, reduced_coordinates = umap_coords)\n",
    "# read chromsize\n",
    "chromsizes <- read.csv('output/chromsizes.csv')\n",
    "# actual run\n",
    "conns <- run_cicero(cicero_cds, chromsizes)\n",
    "# save all peaks and connections\n",
    "all_peaks <- row.names(exprs(input_cds))\n",
    "write.csv(x = all_peaks, file = paste0(cicero_dir, \"/\", \"all_peaks_\", donor_id,\"_\", cell_type,\".csv\"))\n",
    "write.csv(x = conns, file = paste0(cicero_dir, \"/\", \"connections_\", donor_id,\"_\", cell_type,\".csv\"))"
   ]
  },
  {
   "cell_type": "markdown",
   "metadata": {},
   "source": [
    "## Associate peaks with TSS\n",
    "Each peak is associated with promotors of target genes (+- 1kbp). Celloracle should be installed for this step."
   ]
  },
  {
   "cell_type": "code",
   "execution_count": 10,
   "metadata": {},
   "outputs": [],
   "source": [
    "peaks = pd.read_csv(f\"{cicero_dir}/all_peaks_donor_0_B cells.csv\", index_col=0)\n",
    "cicero_connections =  pd.read_csv(f\"{cicero_dir}/connections_{donor_id}_{cell_type}.csv\", index_col=0)"
   ]
  },
  {
   "cell_type": "code",
   "execution_count": 11,
   "metadata": {},
   "outputs": [
    {
     "name": "stdout",
     "output_type": "stream",
     "text": [
      "que bed peaks: 131047\n",
      "tss peaks in que: 20898\n"
     ]
    },
    {
     "name": "stderr",
     "output_type": "stream",
     "text": [
      "***** WARNING: File /tmp/pybedtools.79st2oi9.tmp has inconsistent naming convention for record:\n",
      "GL000194.1\t55749\t56580\n",
      "\n",
      "***** WARNING: File /tmp/pybedtools.79st2oi9.tmp has inconsistent naming convention for record:\n",
      "GL000194.1\t55749\t56580\n",
      "\n"
     ]
    }
   ],
   "source": [
    "tss_annotated = ma.get_tss_info(peak_str_list=peaks['x'].values, ref_genome=\"hg38\")\n"
   ]
  },
  {
   "cell_type": "code",
   "execution_count": 13,
   "metadata": {},
   "outputs": [],
   "source": [
    "tss_annotated.to_csv('../output/celloracle/tss_annotated.csv')"
   ]
  },
  {
   "cell_type": "markdown",
   "metadata": {},
   "source": [
    "## Merge TSS peaks with cicero connections"
   ]
  },
  {
   "cell_type": "code",
   "execution_count": 15,
   "metadata": {},
   "outputs": [],
   "source": [
    "integrated = ma.integrate_tss_peak_with_cicero(tss_peak=tss_annotated, \n",
    "                                               cicero_connections=cicero_connections)\n",
    "integrated.to_csv('../output/celloracle/integrated.csv')"
   ]
  },
  {
   "cell_type": "markdown",
   "metadata": {},
   "source": [
    "## Shortlisten the peak-gene connections"
   ]
  },
  {
   "cell_type": "code",
   "execution_count": 7,
   "metadata": {},
   "outputs": [],
   "source": [
    "peak_gene = integrated[integrated.coaccess>0.8].reset_index(drop=True)\n",
    "peak_gene.to_csv('../output/scenicplus/peak_gene.csv')"
   ]
  },
  {
   "cell_type": "markdown",
   "metadata": {},
   "source": [
    "## Create base GRN\n",
    "Running interactively might take a long time."
   ]
  },
  {
   "cell_type": "code",
   "execution_count": 6,
   "metadata": {},
   "outputs": [],
   "source": [
    "# PLEASE make sure reference genome is correct.\n",
    "ref_genome = \"hg38\"\n",
    "\n",
    "genome_installation = ma.is_genome_installed(ref_genome=ref_genome,\n",
    "                                             genomes_dir=None)\n",
    "print(ref_genome, \"installation: \", genome_installation)\n",
    "\n",
    "# Instantiate TFinfo object\n",
    "tfi = ma.TFinfo(peak_data_frame=peak_gene, \n",
    "                ref_genome=\"hg38\",\n",
    "                genomes_dir=None) \n",
    "\n",
    "tfi.scan(fpr=0.05, \n",
    "         motifs=None,  # If you enter None, default motifs will be loaded.\n",
    "         verbose=True)\n",
    "# Check motif scan results\n",
    "tfi.scanned_df.head()\n",
    "# Reset filtering \n",
    "tfi.reset_filtering()\n",
    "\n",
    "# Do filtering\n",
    "tfi.filter_motifs_by_score(threshold=10)\n",
    "\n",
    "# Format post-filtering results.\n",
    "tfi.make_TFinfo_dataframe_and_dictionary(verbose=True)\n",
    "\n",
    "# Format and save \n",
    "df = tfi.to_dataframe()\n",
    "df.head()\n",
    "df.to_csv('../output/celloracle/grn_celloracle_base.csv')\n"
   ]
  },
  {
   "cell_type": "markdown",
   "metadata": {},
   "source": [
    "## Network construction\n"
   ]
  },
  {
   "cell_type": "markdown",
   "metadata": {},
   "source": [
    "### Preprocessing scRNA-seq"
   ]
  },
  {
   "cell_type": "code",
   "execution_count": 93,
   "metadata": {},
   "outputs": [],
   "source": [
    "import pandas as pd\n",
    "import celloracle as co\n",
    "import anndata\n",
    "import scanpy as sc\n",
    "adata = anndata.read_h5ad('../output/scRNA/adata_donor_0.h5ad')"
   ]
  },
  {
   "cell_type": "code",
   "execution_count": 94,
   "metadata": {},
   "outputs": [],
   "source": [
    "sc.tl.diffmap(adata)\n",
    "# Calculate neihbors again based on diffusionmap \n",
    "sc.pp.neighbors(adata, n_neighbors=10, use_rep='X_diffmap')"
   ]
  },
  {
   "cell_type": "code",
   "execution_count": 95,
   "metadata": {},
   "outputs": [],
   "source": [
    "sc.tl.louvain(adata, resolution=0.8)"
   ]
  },
  {
   "cell_type": "code",
   "execution_count": 96,
   "metadata": {},
   "outputs": [],
   "source": [
    "sc.tl.paga(adata, groups='louvain')\n"
   ]
  },
  {
   "cell_type": "code",
   "execution_count": 97,
   "metadata": {},
   "outputs": [
    {
     "data": {
      "image/png": "[encoded data removed]",
      "text/plain": [
       "<Figure size 619.28x450 with 1 Axes>"
      ]
     },
     "metadata": {},
     "output_type": "display_data"
    }
   ],
   "source": [
    "import matplotlib.pyplot as plt\n",
    "%matplotlib inline\n",
    "plt.rcParams[\"figure.figsize\"] = [6, 4.5]\n",
    "sc.pl.paga(adata)\n"
   ]
  },
  {
   "cell_type": "code",
   "execution_count": 98,
   "metadata": {},
   "outputs": [
    {
     "name": "stdout",
     "output_type": "stream",
     "text": [
      "WARNING: Package 'fa2' is not installed, falling back to layout 'fr'.To use the faster and better ForceAtlas2 layout, install package 'fa2' (`pip install fa2`).\n"
     ]
    }
   ],
   "source": [
    "sc.tl.draw_graph(adata, init_pos='paga', random_state=123)\n"
   ]
  },
  {
   "cell_type": "code",
   "execution_count": 7,
   "metadata": {},
   "outputs": [
    {
     "name": "stdout",
     "output_type": "stream",
     "text": [
      "Metadata columns : ['cell_type', 'donor_id', 'louvain']\n",
      "Dimensional reduction:  ['X_pca', 'X_umap', 'X_diffmap', 'X_draw_graph_fr']\n"
     ]
    }
   ],
   "source": [
    "# Check data in anndata\n",
    "print(\"Metadata columns :\", list(adata.obs.columns))\n",
    "print(\"Dimensional reduction: \", list(adata.obsm.keys()))"
   ]
  },
  {
   "cell_type": "code",
   "execution_count": 99,
   "metadata": {},
   "outputs": [],
   "source": [
    "## run based on counts as suggesyed by co pipeline\n",
    "adata.X = adata.layers[\"counts\"].copy()"
   ]
  },
  {
   "cell_type": "markdown",
   "metadata": {},
   "source": [
    "### Load base GRN"
   ]
  },
  {
   "cell_type": "code",
   "execution_count": 91,
   "metadata": {},
   "outputs": [],
   "source": [
    "base_GRN = pd.read_csv('../output/celloracle/grn_celloracle_base.csv', index_col=0)"
   ]
  },
  {
   "cell_type": "markdown",
   "metadata": {},
   "source": [
    "### Initialize "
   ]
  },
  {
   "cell_type": "code",
   "execution_count": 102,
   "metadata": {},
   "outputs": [],
   "source": [
    "# Instantiate Oracle object\n",
    "oracle = co.Oracle()\n",
    "# Instantiate Oracle object.\n",
    "oracle.import_anndata_as_raw_count(adata=adata,\n",
    "                                   cluster_column_name=\"cell_type\",\n",
    "                                   embedding_name=\"X_draw_graph_fr\")"
   ]
  },
  {
   "cell_type": "code",
   "execution_count": 11,
   "metadata": {},
   "outputs": [],
   "source": [
    "# You can load TF info dataframe with the following code.\n",
    "oracle.import_TF_data(TF_info_matrix=base_GRN)"
   ]
  },
  {
   "cell_type": "code",
   "execution_count": 13,
   "metadata": {},
   "outputs": [
    {
     "data": {
      "image/png": "[encoded data removed]",
      "text/plain": [
       "<Figure size 600x450 with 1 Axes>"
      ]
     },
     "metadata": {},
     "output_type": "display_data"
    },
    {
     "name": "stdout",
     "output_type": "stream",
     "text": [
      "6\n"
     ]
    }
   ],
   "source": [
    "import numpy as np\n",
    "oracle.perform_PCA()\n",
    "\n",
    "# Select important PCs\n",
    "plt.plot(np.cumsum(oracle.pca.explained_variance_ratio_)[:100])\n",
    "n_comps = np.where(np.diff(np.diff(np.cumsum(oracle.pca.explained_variance_ratio_))>0.002))[0][0]\n",
    "plt.axvline(n_comps, c=\"k\")\n",
    "plt.show()\n",
    "print(n_comps)\n",
    "n_comps = min(n_comps, 50)"
   ]
  },
  {
   "cell_type": "code",
   "execution_count": 14,
   "metadata": {},
   "outputs": [
    {
     "name": "stdout",
     "output_type": "stream",
     "text": [
      "cell number is :7830\n",
      "Auto-selected k is :50\n"
     ]
    }
   ],
   "source": [
    "n_cell = oracle.adata.shape[0]\n",
    "print(f\"cell number is :{n_cell}\")\n",
    "k = min([int(0.025*n_cell), 50])\n",
    "print(f\"Auto-selected k is :{k}\")\n",
    "oracle.knn_imputation(n_pca_dims=n_comps, k=k, balanced=True, b_sight=k*8,\n",
    "                      b_maxl=k*4, n_jobs=4)"
   ]
  },
  {
   "cell_type": "code",
   "execution_count": 16,
   "metadata": {},
   "outputs": [],
   "source": [
    "oracle.to_hdf5('../output/celloracle/presaved.celloracle.oracle')"
   ]
  },
  {
   "cell_type": "markdown",
   "metadata": {},
   "source": [
    "### GRN calculation\n"
   ]
  },
  {
   "cell_type": "code",
   "execution_count": null,
   "metadata": {},
   "outputs": [],
   "source": [
    "# Load file.\n",
    "oracle = co.load_hdf5('../output/celloracle/presaved.celloracle.oracle')"
   ]
  },
  {
   "cell_type": "code",
   "execution_count": 18,
   "metadata": {},
   "outputs": [],
   "source": [
    "# This step may take some time.(~30 minutes)\n",
    "links = oracle.get_links(cluster_name_for_GRN_unit=\"cell_type\", alpha=10,\n",
    "                         verbose_level=10)\n",
    "links.to_hdf5(file_path=\"../output/celloracle/links.celloracle.links\")"
   ]
  },
  {
   "cell_type": "markdown",
   "metadata": {},
   "source": [
    "# Post evaluation"
   ]
  },
  {
   "cell_type": "markdown",
   "metadata": {},
   "source": [
    "## Peak gene connections\n"
   ]
  },
  {
   "cell_type": "code",
   "execution_count": 19,
   "metadata": {},
   "outputs": [
    {
     "name": "stdout",
     "output_type": "stream",
     "text": [
      "20898\n",
      "368086\n",
      "19114\n"
     ]
    }
   ],
   "source": [
    "tss_annotated = pd.read_csv('../output/celloracle/tss_annotated.csv')\n",
    "print(len(tss_annotated))\n",
    "integrated = pd.read_csv('../output/celloracle/integrated.csv')\n",
    "print(len(integrated))\n",
    "peak_gene_shortlist = pd.read_csv('../output/scenicplus/peak_gene.csv')\n",
    "print(len(peak_gene_shortlist))"
   ]
  },
  {
   "cell_type": "code",
   "execution_count": null,
   "metadata": {},
   "outputs": [],
   "source": [
    "peak_gene_shortlist = pd.read_csv('../output/scenicplus/peak_gene.csv', index_col=0)\n",
    "peak_gene_co_n = peak_gene_shortlist.groupby('gene_short_name').apply(lambda df:df['peak_id'].shape[0])\n",
    "np.max(peak_gene_co_n.values), np.median(peak_gene_co_n.values)\n",
    "\n",
    "# print('number of TFs ', scenicplus.TF.unique().shape[0], ' CIS ', scenicplus.Region.unique().shape[0], ' gene ', scenicplus.Gene.unique().shape[0])\n",
    "print('number of DORC genes with t of 10 ', (peak_gene_co_n.values > 10).sum())\n",
    "print('number of DORC genes with t of 5 ', (peak_gene_co_n.values > 5).sum())"
   ]
  },
  {
   "cell_type": "code",
   "execution_count": 20,
   "metadata": {},
   "outputs": [],
   "source": [
    "# convert peak to peak_id using celloracle function\n",
    "tss_annotated_df = pd.DataFrame({\"peak_id\": ma.process_bed_file.df_to_list_peakstr(tss_annotated),\n",
    "                            \"gene_short_name\": tss_annotated.gene_short_name.values})"
   ]
  },
  {
   "cell_type": "code",
   "execution_count": 18,
   "metadata": {},
   "outputs": [
    {
     "name": "stdout",
     "output_type": "stream",
     "text": [
      "Percentage of proximal elements in the final peak gene pairs: 99.98953646541801\n"
     ]
    }
   ],
   "source": [
    "# number of tss_annotated pairs in shortlisted peak\n",
    "print(f'Percentage of proximal elements in the final peak gene pairs: {100*peak_gene_shortlist.peak_id.isin(tss_annotated_df.peak_id).sum()/len(peak_gene_shortlist)}')"
   ]
  },
  {
   "cell_type": "code",
   "execution_count": 21,
   "metadata": {},
   "outputs": [
    {
     "name": "stdout",
     "output_type": "stream",
     "text": [
      "In the short list: max peaks per gene: 8, median: 1.0\n"
     ]
    }
   ],
   "source": [
    "dorc_shortlisted = peak_gene_shortlist.groupby('gene_short_name').size()\n",
    "print(f\"In the short list: max peaks per gene: {dorc_shortlisted.max()}, median: {dorc_shortlisted.median()}\")\n"
   ]
  },
  {
   "cell_type": "code",
   "execution_count": 23,
   "metadata": {},
   "outputs": [
    {
     "name": "stdout",
     "output_type": "stream",
     "text": [
      "number of DORC:  0\n"
     ]
    }
   ],
   "source": [
    "threshold = 10\n",
    "peak_new = integrated[integrated.coaccess >= threshold]\n",
    "print('number of DORC: ', (peak_new.groupby('gene_short_name').size()>10).sum())"
   ]
  },
  {
   "cell_type": "markdown",
   "metadata": {},
   "source": [
    "## Base GRN"
   ]
  },
  {
   "cell_type": "code",
   "execution_count": 24,
   "metadata": {},
   "outputs": [],
   "source": [
    "base_GRN = pd.read_csv('../output/celloracle/grn_celloracle_base.csv', index_col=0)"
   ]
  },
  {
   "cell_type": "code",
   "execution_count": 45,
   "metadata": {},
   "outputs": [],
   "source": [
    "tfs_co = base_GRN.columns[3:]\n",
    "keeo_cols = tfs_co.insert(0, ['gene_short_name', 'peak_id'])\n",
    "df = base_GRN[keeo_cols]\n",
    "# Melting the DataFrame\n",
    "melted_df = pd.melt(df, id_vars=['gene_short_name', 'peak_id'], var_name='TF', value_name='Link')\n",
    "\n",
    "# Filtering out rows where there is no link (optional, if you only want interactions)\n",
    "melted_df = melted_df[melted_df['Link'] == 1]"
   ]
  },
  {
   "cell_type": "code",
   "execution_count": 46,
   "metadata": {},
   "outputs": [
    {
     "name": "stdout",
     "output_type": "stream",
     "text": [
      "TFs : (1113,) , regions : (17167,),  genes : (16614,)\n"
     ]
    }
   ],
   "source": [
    "print(f'TFs : {melted_df.TF.unique().shape} , regions : {melted_df.peak_id.unique().shape},  genes : {melted_df.gene_short_name.unique().shape}')"
   ]
  },
  {
   "cell_type": "markdown",
   "metadata": {},
   "source": [
    "## Refined GRN "
   ]
  },
  {
   "cell_type": "code",
   "execution_count": 63,
   "metadata": {},
   "outputs": [],
   "source": [
    "links = co.load_hdf5(\"../output/celloracle/links.celloracle.links\")\n",
    "links.filter_links(p=0.05, weight=\"coef_abs\", threshold_number=2000)\n"
   ]
  },
  {
   "cell_type": "code",
   "execution_count": 64,
   "metadata": {},
   "outputs": [
    {
     "name": "stdout",
     "output_type": "stream",
     "text": [
      "TFs : (596,) , genes : (13806,)\n"
     ]
    }
   ],
   "source": [
    "links_stack = []\n",
    "cell_types = list(links.links_dict.keys())\n",
    "links_celltype = links.links_dict[cell_types[2]]\n",
    "print(f'TFs : {links_celltype.source.unique().shape} , genes : {links_celltype.target.unique().shape}')"
   ]
  },
  {
   "cell_type": "code",
   "execution_count": 87,
   "metadata": {},
   "outputs": [],
   "source": [
    "grn_stack = []\n",
    "for i, cell_type in enumerate(cell_types):\n",
    "    grn_celltype = links.links_dict[cell_type]\n",
    "    grn_celltype = grn_celltype[~(grn_celltype.coef_mean==0)][['source', 'target', 'coef_mean']] # remove those with 0 coeff\n",
    "    grn_celltype.columns = ['source', 'target', f'weight_{cell_type}']\n",
    "    grn_stack.append(grn_celltype)"
   ]
  },
  {
   "cell_type": "code",
   "execution_count": 89,
   "metadata": {},
   "outputs": [],
   "source": [
    "from functools import reduce\n",
    "merged_grn = reduce(lambda  left,right: pd.merge(left,right,on=['source', 'target'],\n",
    "                                            how='inner'), grn_stack)\n"
   ]
  },
  {
   "cell_type": "code",
   "execution_count": 90,
   "metadata": {},
   "outputs": [],
   "source": [
    "merged_grn.to_csv('../output/celloracle/merged_grn.csv')"
   ]
  }
 ],
 "metadata": {
  "kernelspec": {
   "display_name": "celloracle",
   "language": "python",
   "name": "python3"
  },
  "language_info": {
   "codemirror_mode": {
    "name": "ipython",
    "version": 3
   },
   "file_extension": ".py",
   "mimetype": "text/x-python",
   "name": "python",
   "nbconvert_exporter": "python",
   "pygments_lexer": "ipython3",
   "version": "3.10.12"
  }
 },
 "nbformat": 4,
 "nbformat_minor": 2
}
