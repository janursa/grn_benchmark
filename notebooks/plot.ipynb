{
 "cells": [
  {
   "cell_type": "code",
   "execution_count": 77,
   "metadata": {},
   "outputs": [],
   "source": [
    "# %load_ext rpy2.ipython"
   ]
  },
  {
   "cell_type": "code",
   "execution_count": 76,
   "metadata": {},
   "outputs": [],
   "source": [
    "pd.DataFrame({'method_name':['positive_control', 'negative_control','scenicplus','figr'], \n",
    "               'overall_score':[.4, 0, .3, .2],\n",
    "               'overall_score_rank':[1, 0, .7, .5], #just for coloring \n",
    "               'accuracy_reg_1_rank':[1, 0, .7, .5],\n",
    "               'completeness_reg_1':[.4, 0, .3, .2],\n",
    "               'completeness_reg_1_rank':[1, 0, .7, .5],\n",
    "\n",
    "               'accuracy_reg_2':[.4, 0, .3, .2],\n",
    "               'accuracy_reg_2_rank':[1, 0, .7, .5],\n",
    "               'completeness_reg_2':[.4, 0, .3, .2],\n",
    "               'completeness_reg_2_rank':[1, 0, .7, .5],\n",
    "\n",
    "               \"mean_cpu_pct_scaled\":[0,0,0,0],\n",
    "                \"mean_peak_memory_log_scaled\":[0,0,0,0],\n",
    "                \"mean_peak_memory_str\":[0,0,0,0],\n",
    "                \"mean_disk_read_log_scaled\":[0,0,0,0],\n",
    "                \"mean_disk_read_str\":[0,0,0,0],\n",
    "                \"mean_disk_write_log_scaled\":[0,0,0,0],\n",
    "                \"mean_disk_write_str\":[0,0,0,0],\n",
    "                \"mean_duration_log_scaled\":[0,0,0,0],\n",
    "                \"mean_duration_str\":[0,0,0,0]\n",
    "               }).to_csv('summary_all.tsv', sep='\\t')"
   ]
  },
  {
   "cell_type": "code",
   "execution_count": 70,
   "metadata": {},
   "outputs": [
    {
     "name": "stdout",
     "output_type": "stream",
     "text": [
      "── \u001b[1mAttaching core tidyverse packages\u001b[22m ──────────────────────── tidyverse 2.0.0 ──\n",
      "\u001b[32m✔\u001b[39m \u001b[34mdplyr    \u001b[39m 1.1.4     \u001b[32m✔\u001b[39m \u001b[34mreadr    \u001b[39m 2.1.5\n",
      "\u001b[32m✔\u001b[39m \u001b[34mforcats  \u001b[39m 1.0.0     \u001b[32m✔\u001b[39m \u001b[34mstringr  \u001b[39m 1.5.1\n",
      "\u001b[32m✔\u001b[39m \u001b[34mggplot2  \u001b[39m 3.5.1     \u001b[32m✔\u001b[39m \u001b[34mtibble   \u001b[39m 3.2.1\n",
      "\u001b[32m✔\u001b[39m \u001b[34mlubridate\u001b[39m 1.9.3     \u001b[32m✔\u001b[39m \u001b[34mtidyr    \u001b[39m 1.3.0\n",
      "\u001b[32m✔\u001b[39m \u001b[34mpurrr    \u001b[39m 1.0.2     \n",
      "── \u001b[1mConflicts\u001b[22m ────────────────────────────────────────── tidyverse_conflicts() ──\n",
      "\u001b[31m✖\u001b[39m \u001b[34mdplyr\u001b[39m::\u001b[32mfilter()\u001b[39m masks \u001b[34mstats\u001b[39m::filter()\n",
      "\u001b[31m✖\u001b[39m \u001b[34mdplyr\u001b[39m::\u001b[32mlag()\u001b[39m    masks \u001b[34mstats\u001b[39m::lag()\n",
      "\u001b[36mℹ\u001b[39m Use the conflicted package (\u001b[3m\u001b[34m<http://conflicted.r-lib.org/>\u001b[39m\u001b[23m) to force all conflicts to become errors\n",
      "\u001b[?25h\u001b[?25h\u001b[?25h\u001b[1m\u001b[22mNew names:\n",
      "\u001b[36m•\u001b[39m `` -> `...1`\n",
      "\u001b[1mRows: \u001b[22m\u001b[34m12\u001b[39m \u001b[1mColumns: \u001b[22m\u001b[34m21\u001b[39m\n",
      "\u001b[36m──\u001b[39m \u001b[1mColumn specification\u001b[22m \u001b[36m────────────────────────────────────────────────────────\u001b[39m\n",
      "\u001b[1mDelimiter:\u001b[22m \"\\t\"\n",
      "\u001b[31mchr\u001b[39m  (5): method_name, mean_peak_memory_str, mean_disk_read_str, mean_disk_w...\n",
      "\u001b[32mdbl\u001b[39m (16): ...1, overall_score, overall_score_rank, metric_mean_rowwise_cosin...\n",
      "\n",
      "\u001b[36mℹ\u001b[39m Use `spec()` to retrieve the full column specification for this data.\n",
      "\u001b[36mℹ\u001b[39m Specify the column types or set `show_col_types = FALSE` to quiet this message.\n",
      "\u001b[?25h\u001b[?25h\u001b[?25h\u001b[?25h\u001b[?25h\u001b[36mℹ\u001b[39m Could not find column 'id' in data. Using rownames as 'id'.\n",
      "\u001b[36mℹ\u001b[39m Column info did not contain a column called 'legend', generating options based on the 'geom' column.\n",
      "\u001b[36mℹ\u001b[39m No row info was provided, assuming all rows in `data` are to be plotted.\n",
      "\u001b[36mℹ\u001b[39m Row info did not contain group information, assuming rows are ungrouped.\n",
      "\u001b[36mℹ\u001b[39m Legend 1 did not contain color, inferring from the palette.\n",
      "\u001b[36mℹ\u001b[39m Legend 2 did not contain color, inferring from the palette.\n",
      "\u001b[?25h\u001b[?25h\u001b[?25h"
     ]
    }
   ],
   "source": [
    "# import pandas as pd\n",
    "# summary_all = pd.read_csv('summary_all_o.tsv', sep='\\t')[[\n",
    "#     # From column_info\n",
    "#     \"method_name\",\n",
    "#     \"overall_score\",\n",
    "#     \"overall_score_rank\",\n",
    "#     \"metric_mean_rowwise_cosine\",\n",
    "#     \"metric_mean_rowwise_cosine_rank\",\n",
    "#     \"metric_mean_rowwise_mae\",\n",
    "#     \"metric_mean_rowwise_mae_rank\",\n",
    "#     \"stability_mean_rowwise_cosine_var\",\n",
    "#     \"stability_mean_rowwise_cosine_var_rank\",\n",
    "#     \"stability_mean_rowwise_mae_var\",\n",
    "#     \"stability_mean_rowwise_mae_var_rank\",\n",
    "#     \"mean_cpu_pct_scaled\",\n",
    "#     \"mean_peak_memory_log_scaled\",\n",
    "#     \"mean_peak_memory_str\",\n",
    "#     \"mean_disk_read_log_scaled\",\n",
    "#     \"mean_disk_read_str\",\n",
    "#     \"mean_disk_write_log_scaled\",\n",
    "#     \"mean_disk_write_str\",\n",
    "#     \"mean_duration_log_scaled\",\n",
    "#     \"mean_duration_str\"\n",
    "# ]\n",
    "# ]\n",
    "# summary_all.to_csv('summary_all.tsv', sep='\\t')\n",
    "# !Rscript metrics_figure.R"
   ]
  }
 ],
 "metadata": {
  "kernelspec": {
   "display_name": "py10",
   "language": "python",
   "name": "python3"
  },
  "language_info": {
   "codemirror_mode": {
    "name": "ipython",
    "version": 3
   },
   "file_extension": ".py",
   "mimetype": "text/x-python",
   "name": "python",
   "nbconvert_exporter": "python",
   "pygments_lexer": "ipython3",
   "version": "3.10.14"
  }
 },
 "nbformat": 4,
 "nbformat_minor": 2
}
