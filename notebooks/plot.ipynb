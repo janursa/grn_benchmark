{
 "cells": [
  {
   "cell_type": "code",
   "execution_count": 77,
   "metadata": {},
   "outputs": [],
   "source": [
    "# %load_ext rpy2.ipython"
   ]
  },
  {
   "cell_type": "code",
   "execution_count": 76,
   "metadata": {},
   "outputs": [],
   "source": [
    "pd.DataFrame({'method_name':['positive_control', 'negative_control','scenicplus','figr'], \n",
    "               'overall_score':[.4, 0, .3, .2],\n",
    "               'overall_score_rank':[1, 0, .7, .5], #just for coloring \n",
    "               'accuracy_reg_1_rank':[1, 0, .7, .5],\n",
    "               'completeness_reg_1':[.4, 0, .3, .2],\n",
    "               'completeness_reg_1_rank':[1, 0, .7, .5],\n",
    "\n",
    "               'accuracy_reg_2':[.4, 0, .3, .2],\n",
    "               'accuracy_reg_2_rank':[1, 0, .7, .5],\n",
    "               'completeness_reg_2':[.4, 0, .3, .2],\n",
    "               'completeness_reg_2_rank':[1, 0, .7, .5],\n",
    "\n",
    "               \"mean_cpu_pct_scaled\":[0,0,0,0],\n",
    "                \"mean_peak_memory_log_scaled\":[0,0,0,0],\n",
    "                \"mean_peak_memory_str\":[0,0,0,0],\n",
    "                \"mean_disk_read_log_scaled\":[0,0,0,0],\n",
    "                \"mean_disk_read_str\":[0,0,0,0],\n",
    "                \"mean_disk_write_log_scaled\":[0,0,0,0],\n",
    "                \"mean_disk_write_str\":[0,0,0,0],\n",
    "                \"mean_duration_log_scaled\":[0,0,0,0],\n",
    "                \"mean_duration_str\":[0,0,0,0]\n",
    "               }).to_csv('summary_all.tsv', sep='\\t')\n",
    "\n",
    "# import pandas as pd\n",
    "# summary_all = pd.read_csv('summary_all_o.tsv', sep='\\t')[[\n",
    "#     # From column_info\n",
    "#     \"method_name\",\n",
    "#     \"overall_score\",\n",
    "#     \"overall_score_rank\",\n",
    "#     \"metric_mean_rowwise_cosine\",\n",
    "#     \"metric_mean_rowwise_cosine_rank\",\n",
    "#     \"metric_mean_rowwise_mae\",\n",
    "#     \"metric_mean_rowwise_mae_rank\",\n",
    "#     \"stability_mean_rowwise_cosine_var\",\n",
    "#     \"stability_mean_rowwise_cosine_var_rank\",\n",
    "#     \"stability_mean_rowwise_mae_var\",\n",
    "#     \"stability_mean_rowwise_mae_var_rank\",\n",
    "#     \"mean_cpu_pct_scaled\",\n",
    "#     \"mean_peak_memory_log_scaled\",\n",
    "#     \"mean_peak_memory_str\",\n",
    "#     \"mean_disk_read_log_scaled\",\n",
    "#     \"mean_disk_read_str\",\n",
    "#     \"mean_disk_write_log_scaled\",\n",
    "#     \"mean_disk_write_str\",\n",
    "#     \"mean_duration_log_scaled\",\n",
    "#     \"mean_duration_str\"\n",
    "# ]\n",
    "# ]\n",
    "# summary_all.to_csv('summary_all.tsv', sep='\\t')\n",
    "# !Rscript metrics_figure.R"
   ]
  }
 ],
 "metadata": {
  "kernelspec": {
   "display_name": "py10",
   "language": "python",
   "name": "python3"
  },
  "language_info": {
   "codemirror_mode": {
    "name": "ipython",
    "version": 3
   },
   "file_extension": ".py",
   "mimetype": "text/x-python",
   "name": "python",
   "nbconvert_exporter": "python",
   "pygments_lexer": "ipython3",
   "version": "3.10.14"
  }
 },
 "nbformat": 4,
 "nbformat_minor": 2
}
