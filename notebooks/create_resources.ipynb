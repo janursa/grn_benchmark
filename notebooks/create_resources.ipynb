{
 "cells": [
  {
   "cell_type": "markdown",
   "metadata": {},
   "source": [
    "# task-perturb-multiomics-grn\n",
    "## Creating resources\n",
    "### by Jalil Nourisa"
   ]
  },
  {
   "cell_type": "markdown",
   "metadata": {},
   "source": [
    "# Multiomics"
   ]
  },
  {
   "cell_type": "code",
   "execution_count": 6,
   "metadata": {},
   "outputs": [],
   "source": [
    "import anndata as ad\n",
    "import pandas as pd\n",
    "import numpy as np\n",
    "work_dir = '../output/'\n",
    "\n",
    "resource_dir = '../resources/'"
   ]
  },
  {
   "cell_type": "code",
   "execution_count": 30,
   "metadata": {},
   "outputs": [
    {
     "name": "stderr",
     "output_type": "stream",
     "text": [
      "/root/anaconda3/envs/py10/lib/python3.10/site-packages/anndata/_core/aligned_df.py:67: ImplicitModificationWarning: Transforming to str index.\n",
      "  warnings.warn(\"Transforming to str index.\", ImplicitModificationWarning)\n"
     ]
    }
   ],
   "source": [
    "adata_rna = ad.read_h5ad(f'{work_dir}/scRNA/adata_rna.h5ad')\n",
    "adata_atac = ad.read_h5ad(f'{work_dir}/scATAC/adata_atac.h5ad')"
   ]
  },
  {
   "cell_type": "code",
   "execution_count": 33,
   "metadata": {},
   "outputs": [],
   "source": [
    "np.savetxt(f'{work_dir}/benchmark/multiomics_genes.txt', adata_rna.var_names, fmt='%s')"
   ]
  },
  {
   "cell_type": "code",
   "execution_count": 28,
   "metadata": {},
   "outputs": [],
   "source": [
    "adata_atac.obs = adata_atac.obs[['obs_id']]\n",
    "adata_atac.obs = adata_atac.obs.set_index('obs_id')"
   ]
  },
  {
   "cell_type": "code",
   "execution_count": 29,
   "metadata": {},
   "outputs": [],
   "source": [
    "adata_rna.var['feature_type'] = 'GEX'\n",
    "adata_atac.var['feature_type'] = 'ATAC'"
   ]
  },
  {
   "cell_type": "code",
   "execution_count": 30,
   "metadata": {},
   "outputs": [],
   "source": [
    "mask = adata_atac.obs.index.isin(adata_rna.obs.index) # keep only those cells that are shared \n",
    "adata_atac = adata_atac[mask,:]"
   ]
  },
  {
   "cell_type": "code",
   "execution_count": 31,
   "metadata": {},
   "outputs": [
    {
     "data": {
      "text/plain": [
       "AnnData object with n_obs × n_vars = 25034 × 158136\n",
       "    var: 'feature_type'"
      ]
     },
     "execution_count": 31,
     "metadata": {},
     "output_type": "execute_result"
    }
   ],
   "source": [
    "adata = ad.concat([adata_rna, adata_atac], axis=1)\n",
    "adata"
   ]
  },
  {
   "cell_type": "code",
   "execution_count": 32,
   "metadata": {},
   "outputs": [],
   "source": [
    "adata.obs = pd.merge(adata_rna.obs, adata_atac.obs, left_index=True, right_index=True, how='outer')"
   ]
  },
  {
   "cell_type": "code",
   "execution_count": 33,
   "metadata": {},
   "outputs": [
    {
     "data": {
      "text/html": [
       "<div>\n",
       "<style scoped>\n",
       "    .dataframe tbody tr th:only-of-type {\n",
       "        vertical-align: middle;\n",
       "    }\n",
       "\n",
       "    .dataframe tbody tr th {\n",
       "        vertical-align: top;\n",
       "    }\n",
       "\n",
       "    .dataframe thead th {\n",
       "        text-align: right;\n",
       "    }\n",
       "</style>\n",
       "<table border=\"1\" class=\"dataframe\">\n",
       "  <thead>\n",
       "    <tr style=\"text-align: right;\">\n",
       "      <th></th>\n",
       "      <th>cell_type</th>\n",
       "      <th>donor_id</th>\n",
       "    </tr>\n",
       "    <tr>\n",
       "      <th>obs_id</th>\n",
       "      <th></th>\n",
       "      <th></th>\n",
       "    </tr>\n",
       "  </thead>\n",
       "  <tbody>\n",
       "    <tr>\n",
       "      <th>000225c1151ab841</th>\n",
       "      <td>B cells</td>\n",
       "      <td>donor_0</td>\n",
       "    </tr>\n",
       "    <tr>\n",
       "      <th>0003c40a54367871</th>\n",
       "      <td>T cells</td>\n",
       "      <td>donor_2</td>\n",
       "    </tr>\n",
       "    <tr>\n",
       "      <th>0004bf574b822c3c</th>\n",
       "      <td>T cells</td>\n",
       "      <td>donor_2</td>\n",
       "    </tr>\n",
       "    <tr>\n",
       "      <th>000d59b5478f28e2</th>\n",
       "      <td>B cells</td>\n",
       "      <td>donor_0</td>\n",
       "    </tr>\n",
       "    <tr>\n",
       "      <th>0011b7473923d7b5</th>\n",
       "      <td>T cells</td>\n",
       "      <td>donor_2</td>\n",
       "    </tr>\n",
       "    <tr>\n",
       "      <th>...</th>\n",
       "      <td>...</td>\n",
       "      <td>...</td>\n",
       "    </tr>\n",
       "    <tr>\n",
       "      <th>fff2ca1f64c10339</th>\n",
       "      <td>T cells</td>\n",
       "      <td>donor_0</td>\n",
       "    </tr>\n",
       "    <tr>\n",
       "      <th>fff87e64f509b570</th>\n",
       "      <td>T cells</td>\n",
       "      <td>donor_0</td>\n",
       "    </tr>\n",
       "    <tr>\n",
       "      <th>fff9778b31bc2539</th>\n",
       "      <td>Myeloid cells</td>\n",
       "      <td>donor_2</td>\n",
       "    </tr>\n",
       "    <tr>\n",
       "      <th>fffa92f71d2440de</th>\n",
       "      <td>T cells</td>\n",
       "      <td>donor_1</td>\n",
       "    </tr>\n",
       "    <tr>\n",
       "      <th>ffffeba9dbf2bab1</th>\n",
       "      <td>T cells</td>\n",
       "      <td>donor_1</td>\n",
       "    </tr>\n",
       "  </tbody>\n",
       "</table>\n",
       "<p>25034 rows × 2 columns</p>\n",
       "</div>"
      ],
      "text/plain": [
       "                      cell_type donor_id\n",
       "obs_id                                  \n",
       "000225c1151ab841        B cells  donor_0\n",
       "0003c40a54367871        T cells  donor_2\n",
       "0004bf574b822c3c        T cells  donor_2\n",
       "000d59b5478f28e2        B cells  donor_0\n",
       "0011b7473923d7b5        T cells  donor_2\n",
       "...                         ...      ...\n",
       "fff2ca1f64c10339        T cells  donor_0\n",
       "fff87e64f509b570        T cells  donor_0\n",
       "fff9778b31bc2539  Myeloid cells  donor_2\n",
       "fffa92f71d2440de        T cells  donor_1\n",
       "ffffeba9dbf2bab1        T cells  donor_1\n",
       "\n",
       "[25034 rows x 2 columns]"
      ]
     },
     "execution_count": 33,
     "metadata": {},
     "output_type": "execute_result"
    }
   ],
   "source": [
    "adata.obs"
   ]
  },
  {
   "cell_type": "code",
   "execution_count": 34,
   "metadata": {},
   "outputs": [],
   "source": [
    "adata.write(f'{resource_dir}/multiomics.h5ad')"
   ]
  },
  {
   "cell_type": "code",
   "execution_count": 41,
   "metadata": {},
   "outputs": [],
   "source": [
    "adata_atac.obs = adata.obs"
   ]
  },
  {
   "cell_type": "code",
   "execution_count": 42,
   "metadata": {},
   "outputs": [],
   "source": [
    "adata_atac.write_h5ad(f'{work_dir}/scATAC/adata_atac.h5ad')"
   ]
  },
  {
   "cell_type": "markdown",
   "metadata": {},
   "source": [
    "# Benchmark"
   ]
  },
  {
   "cell_type": "markdown",
   "metadata": {},
   "source": [
    "## Gene names"
   ]
  },
  {
   "cell_type": "code",
   "execution_count": 9,
   "metadata": {},
   "outputs": [],
   "source": [
    "bulk_adata = ad.read_h5ad(f'{work_dir}/preprocess/bulk_adata_integrated.h5ad')"
   ]
  },
  {
   "cell_type": "code",
   "execution_count": 12,
   "metadata": {},
   "outputs": [],
   "source": [
    "np.savetxt(f'{work_dir}/benchmark/perturb_gene_names.txt', bulk_adata.var_names.values  , fmt='%s')"
   ]
  },
  {
   "cell_type": "markdown",
   "metadata": {},
   "source": [
    "## HVGs"
   ]
  },
  {
   "cell_type": "code",
   "execution_count": 5,
   "metadata": {},
   "outputs": [],
   "source": [
    "n_hvgs = 3000"
   ]
  },
  {
   "cell_type": "code",
   "execution_count": 1,
   "metadata": {},
   "outputs": [],
   "source": [
    "%load_ext rpy2.ipython"
   ]
  },
  {
   "cell_type": "code",
   "execution_count": 4,
   "metadata": {},
   "outputs": [
    {
     "name": "stdout",
     "output_type": "stream",
     "text": [
      "\n",
      "    WARNING: The R package \"reticulate\" only fixed recently\n",
      "    an issue that caused a segfault when used with rpy2:\n",
      "    https://github.com/rstudio/reticulate/pull/1188\n",
      "    Make sure that you use a version of that package that includes\n",
      "    the fix.\n",
      "    "
     ]
    },
    {
     "name": "stderr",
     "output_type": "stream",
     "text": [
      "/root/anaconda3/envs/py10/lib/python3.10/site-packages/rpy2/rinterface.py:186: FutureWarning: Index.format is deprecated and will be removed in a future version. Convert using index.astype(str) or index.map(formatter) instead.\n",
      "  openrlib.rlib.R_tryEval(\n",
      "/root/.cache/R/basilisk/1.14.3/zellkonverter/1.12.1/zellkonverterAnnDataEnv-0.10.2/lib/python3.11/site-packages/anndata/_core/anndata.py:522: FutureWarning: The dtype argument is deprecated and will be removed in late 2024.\n",
      "  warnings.warn(\n"
     ]
    },
    {
     "data": {
      "text/plain": [
       "Registered S3 methods overwritten by 'zellkonverter':\n",
       "  method                                             from      \n",
       "  py_to_r.numpy.ndarray                              reticulate\n",
       "  py_to_r.pandas.core.arrays.categorical.Categorical reticulate\n",
       "Loading required package: SummarizedExperiment\n",
       "Loading required package: MatrixGenerics\n",
       "Loading required package: matrixStats\n",
       "\n",
       "Attaching package: ‘MatrixGenerics’\n",
       "\n",
       "The following objects are masked from ‘package:matrixStats’:\n",
       "\n",
       "    colAlls, colAnyNAs, colAnys, colAvgsPerRowSet, colCollapse,\n",
       "    colCounts, colCummaxs, colCummins, colCumprods, colCumsums,\n",
       "    colDiffs, colIQRDiffs, colIQRs, colLogSumExps, colMadDiffs,\n",
       "    colMads, colMaxs, colMeans2, colMedians, colMins, colOrderStats,\n",
       "    colProds, colQuantiles, colRanges, colRanks, colSdDiffs, colSds,\n",
       "    colSums2, colTabulates, colVarDiffs, colVars, colWeightedMads,\n",
       "    colWeightedMeans, colWeightedMedians, colWeightedSds,\n",
       "    colWeightedVars, rowAlls, rowAnyNAs, rowAnys, rowAvgsPerColSet,\n",
       "    rowCollapse, rowCounts, rowCummaxs, rowCummins, rowCumprods,\n",
       "    rowCumsums, rowDiffs, rowIQRDiffs, rowIQRs, rowLogSumExps,\n",
       "    rowMadDiffs, rowMads, rowMaxs, rowMeans2, rowMedians, rowMins,\n",
       "    rowOrderStats, rowProds, rowQuantiles, rowRanges, rowRanks,\n",
       "    rowSdDiffs, rowSds, rowSums2, rowTabulates, rowVarDiffs, rowVars,\n",
       "    rowWeightedMads, rowWeightedMeans, rowWeightedMedians,\n",
       "    rowWeightedSds, rowWeightedVars\n",
       "\n",
       "Loading required package: GenomicRanges\n",
       "Loading required package: stats4\n",
       "Loading required package: BiocGenerics\n",
       "\n",
       "Attaching package: ‘BiocGenerics’\n",
       "\n",
       "The following objects are masked from ‘package:stats’:\n",
       "\n",
       "    IQR, mad, sd, var, xtabs\n",
       "\n",
       "The following objects are masked from ‘package:base’:\n",
       "\n",
       "    anyDuplicated, aperm, append, as.data.frame, basename, cbind,\n",
       "    colnames, dirname, do.call, duplicated, eval, evalq, Filter, Find,\n",
       "    get, grep, grepl, intersect, is.unsorted, lapply, Map, mapply,\n",
       "    match, mget, order, paste, pmax, pmax.int, pmin, pmin.int,\n",
       "    Position, rank, rbind, Reduce, rownames, sapply, setdiff, sort,\n",
       "    table, tapply, union, unique, unsplit, which.max, which.min\n",
       "\n",
       "Loading required package: S4Vectors\n",
       "\n",
       "Attaching package: ‘S4Vectors’\n",
       "\n",
       "The following object is masked from ‘package:utils’:\n",
       "\n",
       "    findMatches\n",
       "\n",
       "The following objects are masked from ‘package:base’:\n",
       "\n",
       "    expand.grid, I, unname\n",
       "\n",
       "Loading required package: IRanges\n",
       "Loading required package: GenomeInfoDb\n",
       "Loading required package: Biobase\n",
       "Welcome to Bioconductor\n",
       "\n",
       "    Vignettes contain introductory material; view with\n",
       "    'browseVignettes()'. To cite Bioconductor, see\n",
       "    'citation(\"Biobase\")', and for packages 'citation(\"pkgname\")'.\n",
       "\n",
       "\n",
       "Attaching package: ‘Biobase’\n",
       "\n",
       "The following object is masked from ‘package:MatrixGenerics’:\n",
       "\n",
       "    rowMedians\n",
       "\n",
       "The following objects are masked from ‘package:matrixStats’:\n",
       "\n",
       "    anyMissing, rowMedians\n",
       "\n",
       "In addition: Warning messages:\n",
       "1: In (function (package, help, pos = 2, lib.loc = NULL, character.only = FALSE,  :\n",
       "  library ‘/usr/lib/R/site-library’ contains no packages\n",
       "2: Python '/root/.cache/R/basilisk/1.14.3/zellkonverter/1.12.1/zellkonverterAnnDataEnv-0.10.2/bin/python' was requested but '/root/anaconda3/envs/py10/bin/python' was loaded instead (see reticulate::py_config() for more information) \n"
      ]
     },
     "metadata": {},
     "output_type": "display_data"
    }
   ],
   "source": [
    "%%R -i work_dir\n",
    "library(scry)\n",
    "library(zellkonverter)\n",
    "library(SingleCellExperiment)\n",
    "options(digits=5, max.print=100)  # Adjust numbers as needed\n",
    "\n",
    "\n",
    "\n",
    "adata = readH5AD(paste0(work_dir, \"/preprocess/bulk_adata_f.h5ad\")) # raw counts\n",
    "sce = devianceFeatureSelection(adata, assay=\"X\", batch=colData(adata)$plate_name)\n",
    "writeH5AD(sce, paste0(work_dir, \"/preprocess/adata_sce.h5ad\"))"
   ]
  },
  {
   "cell_type": "code",
   "execution_count": 7,
   "metadata": {},
   "outputs": [
    {
     "name": "stderr",
     "output_type": "stream",
     "text": [
      "/root/anaconda3/envs/py10/lib/python3.10/site-packages/anndata/__init__.py:55: FutureWarning: `anndata.read` is deprecated, use `anndata.read_h5ad` instead. `ad.read` will be removed in mid 2024.\n",
      "  warnings.warn(\n"
     ]
    }
   ],
   "source": [
    "adata_sce = ad.read(f\"{work_dir}/preprocess/adata_sce.h5ad\")\n",
    "binomial_deviance  = adata_sce.var['binomial_deviance']\n",
    "indices = binomial_deviance.argsort()[-n_hvgs:]\n",
    "mask = np.zeros(adata_sce.var.shape[0], dtype=bool)\n",
    "mask[indices] = True\n",
    "hvgs_sce = adata_sce[:, mask].var.index.values"
   ]
  },
  {
   "cell_type": "code",
   "execution_count": 8,
   "metadata": {},
   "outputs": [],
   "source": [
    "np.savetxt( f'{work_dir}/benchmark/hvgs.txt',hvgs_sce, fmt='%s')"
   ]
  },
  {
   "cell_type": "markdown",
   "metadata": {},
   "source": [
    "## Gene annotation"
   ]
  },
  {
   "cell_type": "code",
   "execution_count": 84,
   "metadata": {},
   "outputs": [
    {
     "data": {
      "text/html": [
       "<div>\n",
       "<style scoped>\n",
       "    .dataframe tbody tr th:only-of-type {\n",
       "        vertical-align: middle;\n",
       "    }\n",
       "\n",
       "    .dataframe tbody tr th {\n",
       "        vertical-align: top;\n",
       "    }\n",
       "\n",
       "    .dataframe thead th {\n",
       "        text-align: right;\n",
       "    }\n",
       "</style>\n",
       "<table border=\"1\" class=\"dataframe\">\n",
       "  <thead>\n",
       "    <tr style=\"text-align: right;\">\n",
       "      <th></th>\n",
       "      <th>Gene</th>\n",
       "      <th>Transcript_type</th>\n",
       "    </tr>\n",
       "  </thead>\n",
       "  <tbody>\n",
       "    <tr>\n",
       "      <th>0</th>\n",
       "      <td>AC007325.4</td>\n",
       "      <td>Protein coding</td>\n",
       "    </tr>\n",
       "    <tr>\n",
       "      <th>1</th>\n",
       "      <td>AC107375.1</td>\n",
       "      <td>LncRNA</td>\n",
       "    </tr>\n",
       "    <tr>\n",
       "      <th>2</th>\n",
       "      <td>AC022306.3</td>\n",
       "      <td>LncRNA</td>\n",
       "    </tr>\n",
       "    <tr>\n",
       "      <th>3</th>\n",
       "      <td>ALDOC</td>\n",
       "      <td>Protein coding</td>\n",
       "    </tr>\n",
       "    <tr>\n",
       "      <th>4</th>\n",
       "      <td>HEMK1</td>\n",
       "      <td>Protein coding</td>\n",
       "    </tr>\n",
       "  </tbody>\n",
       "</table>\n",
       "</div>"
      ],
      "text/plain": [
       "         Gene Transcript_type\n",
       "0  AC007325.4  Protein coding\n",
       "1  AC107375.1          LncRNA\n",
       "2  AC022306.3          LncRNA\n",
       "3       ALDOC  Protein coding\n",
       "4       HEMK1  Protein coding"
      ]
     },
     "execution_count": 84,
     "metadata": {},
     "output_type": "execute_result"
    }
   ],
   "source": [
    "# load the annotations and subset it for genes in multiomics data. also, remove\n",
    "from local_utils import annotation\n",
    "\n",
    "multiomics_genes =  np.loadtxt(f'{work_dir}/benchmark/multiomics_genes.txt', dtype=str)\n",
    "annot_database = annotation.ensembl_gene_annotation()\n",
    "\n",
    "transcript_types = ['protein_coding', 'lncRNA', 'miRNA']\n",
    "\n",
    "annot_database_f = annot_database[annot_database.Gene.isin(multiomics_genes)].reset_index()\n",
    "\n",
    "annot_database_f = annot_database_f[['Gene', 'Transcript_type']].drop_duplicates()\n",
    "annot_database_f = annot_database_f[annot_database_f.Transcript_type.isin(transcript_types)]\n",
    "rename_map = {'protein_coding':'Protein coding', 'lncRNA':'LncRNA',  'miRNA':'MicroRNA'}\n",
    "annot_database_f.Transcript_type = annot_database_f.Transcript_type.map(rename_map)\n",
    "annot_database_f.reset_index(drop=True, inplace=True)\n",
    "annot_database_f.head()"
   ]
  },
  {
   "cell_type": "code",
   "execution_count": 85,
   "metadata": {},
   "outputs": [
    {
     "data": {
      "text/plain": [
       "(22139, 2)"
      ]
     },
     "execution_count": 85,
     "metadata": {},
     "output_type": "execute_result"
    }
   ],
   "source": [
    " #only keep genes with one annotation\n",
    "annot_size = annot_database_f.groupby('Gene').size()\n",
    "kept_genes = annot_size[~(annot_size>1)].index\n",
    "annot_database_f = annot_database_f[annot_database_f.Gene.isin(kept_genes)].reset_index(drop=True)\n",
    "annot_database_f.shape"
   ]
  },
  {
   "cell_type": "code",
   "execution_count": 86,
   "metadata": {},
   "outputs": [
    {
     "data": {
      "text/plain": [
       "Transcript_type\n",
       "Protein coding    15282\n",
       "LncRNA             6856\n",
       "MicroRNA              1\n",
       "Name: count, dtype: int64"
      ]
     },
     "execution_count": 86,
     "metadata": {},
     "output_type": "execute_result"
    }
   ],
   "source": [
    "annot_database_f.Transcript_type.value_counts()"
   ]
  },
  {
   "cell_type": "code",
   "execution_count": 87,
   "metadata": {},
   "outputs": [],
   "source": [
    "#save \n",
    "annot_database_f.to_csv(f'{work_dir}/benchmark/gene_annotation.csv')"
   ]
  },
  {
   "cell_type": "markdown",
   "metadata": {},
   "source": [
    "## peak annotation"
   ]
  },
  {
   "cell_type": "code",
   "execution_count": 13,
   "metadata": {},
   "outputs": [
    {
     "name": "stderr",
     "output_type": "stream",
     "text": [
      "/root/anaconda3/envs/py10/lib/python3.10/site-packages/anndata/_core/aligned_df.py:67: ImplicitModificationWarning: Transforming to str index.\n",
      "  warnings.warn(\"Transforming to str index.\", ImplicitModificationWarning)\n"
     ]
    }
   ],
   "source": [
    "adata_atac = ad.read_h5ad(f'{work_dir}/scATAC/adata_atac.h5ad')\n"
   ]
  },
  {
   "cell_type": "code",
   "execution_count": 14,
   "metadata": {},
   "outputs": [],
   "source": [
    "\n",
    "## check if all the peaks in grns given in atac data\n",
    "import re\n",
    "\n",
    "def format_peak(peaks):\n",
    "    formatted_peaks = []\n",
    "    for peak in peaks:\n",
    "        chr_, start, end = re.split(r'[:\\-_]', peak)\n",
    "        peak = f\"{chr_}:{start}-{end}\"\n",
    "\n",
    "        formatted_peaks.append(peak)\n",
    "    return formatted_peaks\n",
    "\n",
    "\n",
    "atac_peaks = format_peak(adata_atac.var_names)\n",
    "\n"
   ]
  },
  {
   "cell_type": "code",
   "execution_count": 16,
   "metadata": {},
   "outputs": [
    {
     "data": {
      "text/html": [
       "<div>\n",
       "<style scoped>\n",
       "    .dataframe tbody tr th:only-of-type {\n",
       "        vertical-align: middle;\n",
       "    }\n",
       "\n",
       "    .dataframe tbody tr th {\n",
       "        vertical-align: top;\n",
       "    }\n",
       "\n",
       "    .dataframe thead th {\n",
       "        text-align: right;\n",
       "    }\n",
       "</style>\n",
       "<table border=\"1\" class=\"dataframe\">\n",
       "  <thead>\n",
       "    <tr style=\"text-align: right;\">\n",
       "      <th></th>\n",
       "      <th>chr</th>\n",
       "      <th>range</th>\n",
       "    </tr>\n",
       "  </thead>\n",
       "  <tbody>\n",
       "    <tr>\n",
       "      <th>0</th>\n",
       "      <td>chr10</td>\n",
       "      <td>100001032-100001800</td>\n",
       "    </tr>\n",
       "    <tr>\n",
       "      <th>1</th>\n",
       "      <td>chr10</td>\n",
       "      <td>100006075-100006963</td>\n",
       "    </tr>\n",
       "    <tr>\n",
       "      <th>2</th>\n",
       "      <td>chr10</td>\n",
       "      <td>100009475-100010367</td>\n",
       "    </tr>\n",
       "    <tr>\n",
       "      <th>3</th>\n",
       "      <td>chr10</td>\n",
       "      <td>100013993-100014884</td>\n",
       "    </tr>\n",
       "    <tr>\n",
       "      <th>4</th>\n",
       "      <td>chr10</td>\n",
       "      <td>100020278-100021136</td>\n",
       "    </tr>\n",
       "    <tr>\n",
       "      <th>...</th>\n",
       "      <td>...</td>\n",
       "      <td>...</td>\n",
       "    </tr>\n",
       "    <tr>\n",
       "      <th>135353</th>\n",
       "      <td>chrY</td>\n",
       "      <td>7765105-7765991</td>\n",
       "    </tr>\n",
       "    <tr>\n",
       "      <th>135354</th>\n",
       "      <td>chrY</td>\n",
       "      <td>7814158-7815060</td>\n",
       "    </tr>\n",
       "    <tr>\n",
       "      <th>135355</th>\n",
       "      <td>chrY</td>\n",
       "      <td>7818681-7819599</td>\n",
       "    </tr>\n",
       "    <tr>\n",
       "      <th>135356</th>\n",
       "      <td>chrY</td>\n",
       "      <td>8535565-8536421</td>\n",
       "    </tr>\n",
       "    <tr>\n",
       "      <th>135357</th>\n",
       "      <td>chrY</td>\n",
       "      <td>8537529-8538370</td>\n",
       "    </tr>\n",
       "  </tbody>\n",
       "</table>\n",
       "<p>135358 rows × 2 columns</p>\n",
       "</div>"
      ],
      "text/plain": [
       "          chr                range\n",
       "0       chr10  100001032-100001800\n",
       "1       chr10  100006075-100006963\n",
       "2       chr10  100009475-100010367\n",
       "3       chr10  100013993-100014884\n",
       "4       chr10  100020278-100021136\n",
       "...       ...                  ...\n",
       "135353   chrY      7765105-7765991\n",
       "135354   chrY      7814158-7815060\n",
       "135355   chrY      7818681-7819599\n",
       "135356   chrY      8535565-8536421\n",
       "135357   chrY      8537529-8538370\n",
       "\n",
       "[135358 rows x 2 columns]"
      ]
     },
     "execution_count": 16,
     "metadata": {},
     "output_type": "execute_result"
    }
   ],
   "source": [
    "peaks = pd.DataFrame({'chr':[peak.split(':')[0] for peak in atac_peaks],\n",
    "                                     'range':[peak.split(':')[1] for peak in atac_peaks]})\n",
    "peaks"
   ]
  },
  {
   "cell_type": "code",
   "execution_count": 17,
   "metadata": {},
   "outputs": [
    {
     "name": "stdout",
     "output_type": "stream",
     "text": [
      ">> preparing features information...\t\t 2024-06-18 14:17:45 \n",
      ">> identifying nearest features...\t\t 2024-06-18 14:17:46 \n",
      ">> calculating distance from peak to TSS...\t 2024-06-18 14:17:48 \n",
      ">> assigning genomic annotation...\t\t 2024-06-18 14:17:48 \n",
      ">> assigning chromosome lengths\t\t\t 2024-06-18 14:18:10 \n",
      ">> done...\t\t\t\t\t 2024-06-18 14:18:10 \n"
     ]
    },
    {
     "data": {
      "text/plain": [
       "Loading required package: GenomicFeatures\n",
       "Loading required package: AnnotationDbi\n"
      ]
     },
     "metadata": {},
     "output_type": "display_data"
    }
   ],
   "source": [
    "%%R -i peaks -o peaks_annotated_df\n",
    "options(digits=5, max.print=100)  # Adjust numbers as needed\n",
    "set.seed(123)\n",
    "\n",
    "# install.packages(\"IRanges\")\n",
    "# install.packages(\"GenomicRanges\")\n",
    "# install.packages(\"ggplot2\")\n",
    "# install.packages(\"TxDb.Hsapiens.UCSC.hg38.knownGene\")\n",
    "\n",
    "library(IRanges)\n",
    "library(GenomicRanges)\n",
    "library(ggplot2)\n",
    "library(TxDb.Hsapiens.UCSC.hg38.knownGene)\n",
    "\n",
    "txdb <- TxDb.Hsapiens.UCSC.hg38.knownGene\n",
    "\n",
    "\n",
    "peaks = GRanges(peaks$chr, IRanges(peaks$range))\n",
    "peaks_annotated = suppressMessages(ChIPseeker::annotatePeak(\n",
    "    peaks,\n",
    "    tssRegion = c(-1000, 1000), # extended from -5kb to 5\n",
    "    TxDb = txdb,\n",
    "    level = \"transcript\", \n",
    "    assignGenomicAnnotation = TRUE,  # the default\n",
    "    genomicAnnotationPriority = c(\"Promoter\", \"5UTR\", \"3UTR\", \"Exon\", \"Intron\",\n",
    "                                \"Downstream\", \"Intergenic\"),  # the default\n",
    "    annoDb = NULL,\n",
    "    sameStrand = FALSE, # the default\n",
    "    ignoreOverlap = FALSE, # the default\n",
    "    ignoreUpstream = FALSE, # the default\n",
    "    ignoreDownstream = FALSE, # the default\n",
    "    overlap = \"TSS\", # the default\n",
    "    verbose = TRUE # the default\n",
    "))\n",
    "peaks_annotated_df = as.data.frame(peaks_annotated)\n",
    "# write.table(peaks_annotated_df, paste0(temp_dir, name, '_annot.txt'), sep=',', row.names = FALSE)\n",
    "\n"
   ]
  },
  {
   "cell_type": "code",
   "execution_count": 19,
   "metadata": {},
   "outputs": [
    {
     "data": {
      "text/html": [
       "<div>\n",
       "<style scoped>\n",
       "    .dataframe tbody tr th:only-of-type {\n",
       "        vertical-align: middle;\n",
       "    }\n",
       "\n",
       "    .dataframe tbody tr th {\n",
       "        vertical-align: top;\n",
       "    }\n",
       "\n",
       "    .dataframe thead th {\n",
       "        text-align: right;\n",
       "    }\n",
       "</style>\n",
       "<table border=\"1\" class=\"dataframe\">\n",
       "  <thead>\n",
       "    <tr style=\"text-align: right;\">\n",
       "      <th></th>\n",
       "      <th>seqnames</th>\n",
       "      <th>start</th>\n",
       "      <th>end</th>\n",
       "      <th>width</th>\n",
       "      <th>strand</th>\n",
       "      <th>annotation</th>\n",
       "      <th>geneChr</th>\n",
       "      <th>geneStart</th>\n",
       "      <th>geneEnd</th>\n",
       "      <th>geneLength</th>\n",
       "      <th>geneStrand</th>\n",
       "      <th>geneId</th>\n",
       "      <th>transcriptId</th>\n",
       "      <th>distanceToTSS</th>\n",
       "    </tr>\n",
       "  </thead>\n",
       "  <tbody>\n",
       "    <tr>\n",
       "      <th>1</th>\n",
       "      <td>chr10</td>\n",
       "      <td>100001032</td>\n",
       "      <td>100001800</td>\n",
       "      <td>769</td>\n",
       "      <td>*</td>\n",
       "      <td>Intron (ENST00000324109.9/23268, intron 1 of 16)</td>\n",
       "      <td>10</td>\n",
       "      <td>99875577</td>\n",
       "      <td>100009947</td>\n",
       "      <td>134371</td>\n",
       "      <td>2</td>\n",
       "      <td>23268</td>\n",
       "      <td>ENST00000324109.9</td>\n",
       "      <td>8147.0</td>\n",
       "    </tr>\n",
       "    <tr>\n",
       "      <th>2</th>\n",
       "      <td>chr10</td>\n",
       "      <td>100006075</td>\n",
       "      <td>100006963</td>\n",
       "      <td>889</td>\n",
       "      <td>*</td>\n",
       "      <td>Intron (ENST00000324109.9/23268, intron 1 of 16)</td>\n",
       "      <td>10</td>\n",
       "      <td>99875577</td>\n",
       "      <td>100009947</td>\n",
       "      <td>134371</td>\n",
       "      <td>2</td>\n",
       "      <td>23268</td>\n",
       "      <td>ENST00000324109.9</td>\n",
       "      <td>2984.0</td>\n",
       "    </tr>\n",
       "    <tr>\n",
       "      <th>3</th>\n",
       "      <td>chr10</td>\n",
       "      <td>100009475</td>\n",
       "      <td>100010367</td>\n",
       "      <td>893</td>\n",
       "      <td>*</td>\n",
       "      <td>Promoter</td>\n",
       "      <td>10</td>\n",
       "      <td>99875577</td>\n",
       "      <td>100009947</td>\n",
       "      <td>134371</td>\n",
       "      <td>2</td>\n",
       "      <td>23268</td>\n",
       "      <td>ENST00000324109.9</td>\n",
       "      <td>0.0</td>\n",
       "    </tr>\n",
       "    <tr>\n",
       "      <th>4</th>\n",
       "      <td>chr10</td>\n",
       "      <td>100013993</td>\n",
       "      <td>100014884</td>\n",
       "      <td>892</td>\n",
       "      <td>*</td>\n",
       "      <td>Distal Intergenic</td>\n",
       "      <td>10</td>\n",
       "      <td>99875577</td>\n",
       "      <td>100009947</td>\n",
       "      <td>134371</td>\n",
       "      <td>2</td>\n",
       "      <td>23268</td>\n",
       "      <td>ENST00000324109.9</td>\n",
       "      <td>-4046.0</td>\n",
       "    </tr>\n",
       "    <tr>\n",
       "      <th>5</th>\n",
       "      <td>chr10</td>\n",
       "      <td>100020278</td>\n",
       "      <td>100021136</td>\n",
       "      <td>859</td>\n",
       "      <td>*</td>\n",
       "      <td>Distal Intergenic</td>\n",
       "      <td>10</td>\n",
       "      <td>99875577</td>\n",
       "      <td>100009947</td>\n",
       "      <td>134371</td>\n",
       "      <td>2</td>\n",
       "      <td>23268</td>\n",
       "      <td>ENST00000324109.9</td>\n",
       "      <td>-10331.0</td>\n",
       "    </tr>\n",
       "  </tbody>\n",
       "</table>\n",
       "</div>"
      ],
      "text/plain": [
       "  seqnames      start        end  width strand  \\\n",
       "1    chr10  100001032  100001800    769      *   \n",
       "2    chr10  100006075  100006963    889      *   \n",
       "3    chr10  100009475  100010367    893      *   \n",
       "4    chr10  100013993  100014884    892      *   \n",
       "5    chr10  100020278  100021136    859      *   \n",
       "\n",
       "                                         annotation  geneChr  geneStart  \\\n",
       "1  Intron (ENST00000324109.9/23268, intron 1 of 16)       10   99875577   \n",
       "2  Intron (ENST00000324109.9/23268, intron 1 of 16)       10   99875577   \n",
       "3                                          Promoter       10   99875577   \n",
       "4                                 Distal Intergenic       10   99875577   \n",
       "5                                 Distal Intergenic       10   99875577   \n",
       "\n",
       "     geneEnd  geneLength  geneStrand geneId       transcriptId  distanceToTSS  \n",
       "1  100009947      134371           2  23268  ENST00000324109.9         8147.0  \n",
       "2  100009947      134371           2  23268  ENST00000324109.9         2984.0  \n",
       "3  100009947      134371           2  23268  ENST00000324109.9            0.0  \n",
       "4  100009947      134371           2  23268  ENST00000324109.9        -4046.0  \n",
       "5  100009947      134371           2  23268  ENST00000324109.9       -10331.0  "
      ]
     },
     "execution_count": 19,
     "metadata": {},
     "output_type": "execute_result"
    }
   ],
   "source": [
    "peaks_annotated_df.head()"
   ]
  },
  {
   "cell_type": "code",
   "execution_count": 29,
   "metadata": {},
   "outputs": [],
   "source": [
    "map_={'Intron':'Intron', 'Exon':'Exon', 'Promoter':'Promoter', 'Distal':'Distal Intergenic', \"3'\":\"3' UTR\", 'Downstream':'Downstream (<=300)', \"5'\":\"5' UTR\"}\n",
    "\n",
    "ann = peaks_annotated_df.annotation.str.split(' ', expand=True)[0]\n",
    "ann = ann.map(map_)\n",
    "peaks = peaks_annotated_df['seqnames'].astype(str)+':'+peaks_annotated_df['start'].astype(str) +'-' + peaks_annotated_df['end'].astype(str)\n",
    "df = pd.DataFrame({'annotation':ann, 'peak':peaks})\n",
    "df.to_csv(f'{resource_dir}/benchmark/peak_annotation.csv')\n"
   ]
  }
 ],
 "metadata": {
  "kernelspec": {
   "display_name": "py10",
   "language": "python",
   "name": "python3"
  },
  "language_info": {
   "codemirror_mode": {
    "name": "ipython",
    "version": 3
   },
   "file_extension": ".py",
   "mimetype": "text/x-python",
   "name": "python",
   "nbconvert_exporter": "python",
   "pygments_lexer": "ipython3",
   "version": "3.10.14"
  }
 },
 "nbformat": 4,
 "nbformat_minor": 2
}
