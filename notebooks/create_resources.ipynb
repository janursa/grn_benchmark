{
 "cells": [
  {
   "cell_type": "markdown",
   "metadata": {},
   "source": [
    "# task-perturb-multiomics-grn\n",
    "## Creating resources\n",
    "### by Jalil Nourisa"
   ]
  },
  {
   "cell_type": "markdown",
   "metadata": {},
   "source": [
    "# Multiomics"
   ]
  },
  {
   "cell_type": "code",
   "execution_count": 4,
   "metadata": {},
   "outputs": [],
   "source": [
    "import anndata as ad\n",
    "import pandas as pd\n",
    "\n",
    "data_dir = '../output/'\n",
    "\n",
    "resource_dir = '../resources/'"
   ]
  },
  {
   "cell_type": "code",
   "execution_count": 27,
   "metadata": {},
   "outputs": [
    {
     "name": "stderr",
     "output_type": "stream",
     "text": [
      "c:\\Users\\nourisa\\Anaconda3\\envs\\py310\\lib\\site-packages\\anndata\\_core\\anndata.py:117: ImplicitModificationWarning: Transforming to str index.\n",
      "  warnings.warn(\"Transforming to str index.\", ImplicitModificationWarning)\n"
     ]
    }
   ],
   "source": [
    "adata_rna = ad.read_h5ad(f'{data_dir}/scRNA/adata_rna_new.h5ad')\n",
    "adata_atac = ad.read_h5ad(f'{data_dir}/scATAC/adata_atac.h5ad')"
   ]
  },
  {
   "cell_type": "code",
   "execution_count": 28,
   "metadata": {},
   "outputs": [],
   "source": [
    "adata_atac.obs = adata_atac.obs[['obs_id']]\n",
    "adata_atac.obs = adata_atac.obs.set_index('obs_id')"
   ]
  },
  {
   "cell_type": "code",
   "execution_count": 29,
   "metadata": {},
   "outputs": [],
   "source": [
    "adata_rna.var['feature_type'] = 'GEX'\n",
    "adata_atac.var['feature_type'] = 'ATAC'"
   ]
  },
  {
   "cell_type": "code",
   "execution_count": 30,
   "metadata": {},
   "outputs": [],
   "source": [
    "mask = adata_atac.obs.index.isin(adata_rna.obs.index) # keep only those cells that are shared \n",
    "adata_atac = adata_atac[mask,:]"
   ]
  },
  {
   "cell_type": "code",
   "execution_count": 31,
   "metadata": {},
   "outputs": [
    {
     "data": {
      "text/plain": [
       "AnnData object with n_obs × n_vars = 25034 × 158136\n",
       "    var: 'feature_type'"
      ]
     },
     "execution_count": 31,
     "metadata": {},
     "output_type": "execute_result"
    }
   ],
   "source": [
    "adata = ad.concat([adata_rna, adata_atac], axis=1)\n",
    "adata"
   ]
  },
  {
   "cell_type": "code",
   "execution_count": 32,
   "metadata": {},
   "outputs": [],
   "source": [
    "adata.obs = pd.merge(adata_rna.obs, adata_atac.obs, left_index=True, right_index=True, how='outer')"
   ]
  },
  {
   "cell_type": "code",
   "execution_count": 33,
   "metadata": {},
   "outputs": [
    {
     "data": {
      "text/html": [
       "<div>\n",
       "<style scoped>\n",
       "    .dataframe tbody tr th:only-of-type {\n",
       "        vertical-align: middle;\n",
       "    }\n",
       "\n",
       "    .dataframe tbody tr th {\n",
       "        vertical-align: top;\n",
       "    }\n",
       "\n",
       "    .dataframe thead th {\n",
       "        text-align: right;\n",
       "    }\n",
       "</style>\n",
       "<table border=\"1\" class=\"dataframe\">\n",
       "  <thead>\n",
       "    <tr style=\"text-align: right;\">\n",
       "      <th></th>\n",
       "      <th>cell_type</th>\n",
       "      <th>donor_id</th>\n",
       "    </tr>\n",
       "    <tr>\n",
       "      <th>obs_id</th>\n",
       "      <th></th>\n",
       "      <th></th>\n",
       "    </tr>\n",
       "  </thead>\n",
       "  <tbody>\n",
       "    <tr>\n",
       "      <th>000225c1151ab841</th>\n",
       "      <td>B cells</td>\n",
       "      <td>donor_0</td>\n",
       "    </tr>\n",
       "    <tr>\n",
       "      <th>0003c40a54367871</th>\n",
       "      <td>T cells</td>\n",
       "      <td>donor_2</td>\n",
       "    </tr>\n",
       "    <tr>\n",
       "      <th>0004bf574b822c3c</th>\n",
       "      <td>T cells</td>\n",
       "      <td>donor_2</td>\n",
       "    </tr>\n",
       "    <tr>\n",
       "      <th>000d59b5478f28e2</th>\n",
       "      <td>B cells</td>\n",
       "      <td>donor_0</td>\n",
       "    </tr>\n",
       "    <tr>\n",
       "      <th>0011b7473923d7b5</th>\n",
       "      <td>T cells</td>\n",
       "      <td>donor_2</td>\n",
       "    </tr>\n",
       "    <tr>\n",
       "      <th>...</th>\n",
       "      <td>...</td>\n",
       "      <td>...</td>\n",
       "    </tr>\n",
       "    <tr>\n",
       "      <th>fff2ca1f64c10339</th>\n",
       "      <td>T cells</td>\n",
       "      <td>donor_0</td>\n",
       "    </tr>\n",
       "    <tr>\n",
       "      <th>fff87e64f509b570</th>\n",
       "      <td>T cells</td>\n",
       "      <td>donor_0</td>\n",
       "    </tr>\n",
       "    <tr>\n",
       "      <th>fff9778b31bc2539</th>\n",
       "      <td>Myeloid cells</td>\n",
       "      <td>donor_2</td>\n",
       "    </tr>\n",
       "    <tr>\n",
       "      <th>fffa92f71d2440de</th>\n",
       "      <td>T cells</td>\n",
       "      <td>donor_1</td>\n",
       "    </tr>\n",
       "    <tr>\n",
       "      <th>ffffeba9dbf2bab1</th>\n",
       "      <td>T cells</td>\n",
       "      <td>donor_1</td>\n",
       "    </tr>\n",
       "  </tbody>\n",
       "</table>\n",
       "<p>25034 rows × 2 columns</p>\n",
       "</div>"
      ],
      "text/plain": [
       "                      cell_type donor_id\n",
       "obs_id                                  \n",
       "000225c1151ab841        B cells  donor_0\n",
       "0003c40a54367871        T cells  donor_2\n",
       "0004bf574b822c3c        T cells  donor_2\n",
       "000d59b5478f28e2        B cells  donor_0\n",
       "0011b7473923d7b5        T cells  donor_2\n",
       "...                         ...      ...\n",
       "fff2ca1f64c10339        T cells  donor_0\n",
       "fff87e64f509b570        T cells  donor_0\n",
       "fff9778b31bc2539  Myeloid cells  donor_2\n",
       "fffa92f71d2440de        T cells  donor_1\n",
       "ffffeba9dbf2bab1        T cells  donor_1\n",
       "\n",
       "[25034 rows x 2 columns]"
      ]
     },
     "execution_count": 33,
     "metadata": {},
     "output_type": "execute_result"
    }
   ],
   "source": [
    "adata.obs"
   ]
  },
  {
   "cell_type": "code",
   "execution_count": 34,
   "metadata": {},
   "outputs": [],
   "source": [
    "adata.write(f'{resource_dir}/multiomics.h5ad')"
   ]
  },
  {
   "cell_type": "code",
   "execution_count": 41,
   "metadata": {},
   "outputs": [],
   "source": [
    "adata_atac.obs = adata.obs"
   ]
  },
  {
   "cell_type": "code",
   "execution_count": 42,
   "metadata": {},
   "outputs": [],
   "source": [
    "adata_atac.write_h5ad(f'{data_dir}/scATAC/adata_atac.h5ad')"
   ]
  },
  {
   "cell_type": "markdown",
   "metadata": {},
   "source": [
    "# Pertub data"
   ]
  },
  {
   "cell_type": "code",
   "execution_count": 5,
   "metadata": {},
   "outputs": [
    {
     "data": {
      "text/plain": [
       "AnnData object with n_obs × n_vars = 2170 × 15215\n",
       "    obs: 'cell_type', 'sm_name', 'donor_id', 'plate_name', 'row'\n",
       "    layers: 'X_norm_SL', 'X_norm_pearson', 'counts'"
      ]
     },
     "execution_count": 5,
     "metadata": {},
     "output_type": "execute_result"
    }
   ],
   "source": [
    "adata_perturb = ad.read_h5ad(f'{data_dir}/preprocess/bulk_adata_f.h5ad')\n",
    "adata_perturb.obs = adata_perturb.obs[['cell_type', 'sm_name', 'donor_id', 'plate_name', 'row']]\n",
    "adata_perturb.var = adata_perturb.var[[]]\n",
    "adata_perturb"
   ]
  },
  {
   "cell_type": "code",
   "execution_count": 7,
   "metadata": {},
   "outputs": [
    {
     "name": "stdout",
     "output_type": "stream",
     "text": [
      "AnnData object with n_obs × n_vars = 2170 × 15215\n",
      "    obs: 'cell_type', 'sm_name', 'donor_id', 'plate_name', 'row', 'well', 'cell_count', 'plate_well_cell_type'\n",
      "    layers: 'X_norm_SL', 'X_norm_pearson', 'counts'\n",
      "AnnData object with n_obs × n_vars = 2170 × 15215\n",
      "    obs: 'cell_type', 'sm_name', 'donor_id', 'plate_name', 'row', 'well', 'cell_count', 'plate_well_cell_type'\n",
      "    layers: 'X_norm_SL', 'X_norm_pearson', 'counts'\n",
      "AnnData object with n_obs × n_vars = 2170 × 15215\n",
      "    obs: 'cell_type', 'sm_name', 'donor_id', 'plate_name', 'row', 'well', 'cell_count', 'plate_well_cell_type'\n",
      "    layers: 'X_norm_SL', 'X_norm_pearson', 'counts'\n"
     ]
    }
   ],
   "source": [
    "def create_df_train(norm_method:str):\n",
    "    import anndata as ad \n",
    "    import pandas as pd\n",
    "    import os \n",
    "    work_dir = '../output'\n",
    "    bulk_adata = ad.read_h5ad(f'{work_dir}/preprocess/bulk_adata_f.h5ad')\n",
    "    bulk_index = ['sm_name', 'cell_type', 'donor_id', 'plate_name', 'row']\n",
    "    print(bulk_adata)\n",
    "    if norm_method is None:\n",
    "        pass\n",
    "    else:\n",
    "        bulk_adata.X = bulk_adata.layers[f'X_norm_{norm_method}']\n",
    "\n",
    "    bulk_adata_df = pd.DataFrame(bulk_adata.X, columns=bulk_adata.var.index, index=bulk_adata.obs.index)\n",
    "    bulk_adata_df = pd.concat([bulk_adata.obs[bulk_index],  bulk_adata_df], axis=1).set_index(bulk_index)\n",
    "    \n",
    "    os.makedirs(f'../output/benchmark/df_train/', exist_ok=True)\n",
    "    if norm_method is None:\n",
    "        bulk_adata_df.to_csv(f'../output/benchmark/df_train/df_train.csv')\n",
    "    else:\n",
    "        bulk_adata_df.to_csv(f'../output/benchmark/df_train/df_train_{norm_method}.csv')\n",
    "    \n",
    "create_df_train('pearson')      \n",
    "create_df_train('SL')  \n",
    "create_df_train(None)    "
   ]
  },
  {
   "cell_type": "markdown",
   "metadata": {},
   "source": [
    "# Baseline GRNs"
   ]
  },
  {
   "cell_type": "code",
   "execution_count": 47,
   "metadata": {},
   "outputs": [
    {
     "name": "stdout",
     "output_type": "stream",
     "text": [
      "(243232, 3)\n"
     ]
    }
   ],
   "source": [
    "def create_negative_control(tf_n: int=800, sparsity: float=.98):\n",
    "    import pandas as pd \n",
    "    import os\n",
    "    import numpy as np\n",
    "    df_train = pd.read_csv(f'../resources/df_train/df_train.csv')\n",
    "\n",
    "    genes_n = df_train.columns.shape[0]\n",
    "    X_random = np.random.choice([0, -1, 1], size=(genes_n, tf_n), p=[sparsity, (1-sparsity)/2, (1-sparsity)/2])\n",
    "    row_names = df_train.columns\n",
    "    col_names = [f'TF_{i}' for i in range(tf_n)]\n",
    "    grn_random = pd.DataFrame(X_random, index=row_names, columns=col_names)\n",
    "    grn_random.reset_index(inplace=True)\n",
    "    grn_random = pd.melt(grn_random, id_vars=['index'], var_name='TF', value_name='weight')\n",
    "    grn_random.columns = ['target', 'source', 'weight']\n",
    "    grn_random = grn_random[['source', 'target', 'weight']]\n",
    "    grn_random = grn_random[grn_random.weight!=0].reset_index(drop=True)\n",
    "\n",
    "    print(grn_random.shape)\n",
    "\n",
    "    grn_random.to_csv(f'../output/benchmarking/baseline_models/negative_control.csv')\n",
    "\n",
    "create_negative_control()\n"
   ]
  },
  {
   "cell_type": "code",
   "execution_count": 13,
   "metadata": {},
   "outputs": [],
   "source": [
    "import pandas as pd \n",
    "import os\n",
    "import numpy as np\n",
    "norm_method = 'pearson'\n",
    "tfs_list = np.loadtxt(f'../output/utoronto_human_tfs_v_1.01.txt', dtype=str)\n",
    "df_train = pd.read_csv(f'../resources/df_train/df_train.csv').set_index(['sm_name','cell_type','plate_name','row'])"
   ]
  },
  {
   "cell_type": "code",
   "execution_count": 23,
   "metadata": {},
   "outputs": [],
   "source": [
    "gene_names = df_train.columns"
   ]
  },
  {
   "cell_type": "code",
   "execution_count": 25,
   "metadata": {},
   "outputs": [],
   "source": [
    "tfs_list =  np.asarray([gene for gene in tfs_list if gene in df_train.columns])\n",
    "tf_idx = np.asarray([idx for idx, gene in enumerate(df_train.columns) if gene in tfs_list])"
   ]
  },
  {
   "cell_type": "code",
   "execution_count": 17,
   "metadata": {},
   "outputs": [
    {
     "name": "stdout",
     "output_type": "stream",
     "text": [
      "Gene expression matrix of shape (2170, 15215)\n"
     ]
    }
   ],
   "source": [
    "import portia as pt\n",
    "dataset = pt.GeneExpressionDataset()\n",
    "for exp_id, data in enumerate(df_train.values):\n",
    "    dataset.add(pt.Experiment(exp_id, data))\n",
    "M_bar, S = pt.run(dataset, tf_idx=tf_idx, method='fast', return_sign=True)\n"
   ]
  },
  {
   "cell_type": "code",
   "execution_count": 30,
   "metadata": {},
   "outputs": [
    {
     "data": {
      "text/html": [
       "<div>\n",
       "<style scoped>\n",
       "    .dataframe tbody tr th:only-of-type {\n",
       "        vertical-align: middle;\n",
       "    }\n",
       "\n",
       "    .dataframe tbody tr th {\n",
       "        vertical-align: top;\n",
       "    }\n",
       "\n",
       "    .dataframe thead th {\n",
       "        text-align: right;\n",
       "    }\n",
       "</style>\n",
       "<table border=\"1\" class=\"dataframe\">\n",
       "  <thead>\n",
       "    <tr style=\"text-align: right;\">\n",
       "      <th></th>\n",
       "      <th>source</th>\n",
       "      <th>target</th>\n",
       "      <th>weight</th>\n",
       "    </tr>\n",
       "  </thead>\n",
       "  <tbody>\n",
       "    <tr>\n",
       "      <th>0</th>\n",
       "      <td>AC092835.1</td>\n",
       "      <td>A1BG</td>\n",
       "      <td>0.010819</td>\n",
       "    </tr>\n",
       "    <tr>\n",
       "      <th>1</th>\n",
       "      <td>AC092835.1</td>\n",
       "      <td>A1BG-AS1</td>\n",
       "      <td>-0.012011</td>\n",
       "    </tr>\n",
       "    <tr>\n",
       "      <th>2</th>\n",
       "      <td>AC092835.1</td>\n",
       "      <td>A2M</td>\n",
       "      <td>-0.001585</td>\n",
       "    </tr>\n",
       "    <tr>\n",
       "      <th>3</th>\n",
       "      <td>AC092835.1</td>\n",
       "      <td>A2M-AS1</td>\n",
       "      <td>-0.006012</td>\n",
       "    </tr>\n",
       "    <tr>\n",
       "      <th>4</th>\n",
       "      <td>AC092835.1</td>\n",
       "      <td>A2MP1</td>\n",
       "      <td>-0.012426</td>\n",
       "    </tr>\n",
       "    <tr>\n",
       "      <th>...</th>\n",
       "      <td>...</td>\n",
       "      <td>...</td>\n",
       "      <td>...</td>\n",
       "    </tr>\n",
       "    <tr>\n",
       "      <th>16065979</th>\n",
       "      <td>ZXDC</td>\n",
       "      <td>ZXDA</td>\n",
       "      <td>-0.023699</td>\n",
       "    </tr>\n",
       "    <tr>\n",
       "      <th>16065980</th>\n",
       "      <td>ZXDC</td>\n",
       "      <td>ZXDB</td>\n",
       "      <td>0.007010</td>\n",
       "    </tr>\n",
       "    <tr>\n",
       "      <th>16065981</th>\n",
       "      <td>ZXDC</td>\n",
       "      <td>ZYG11B</td>\n",
       "      <td>-0.003351</td>\n",
       "    </tr>\n",
       "    <tr>\n",
       "      <th>16065982</th>\n",
       "      <td>ZXDC</td>\n",
       "      <td>ZYX</td>\n",
       "      <td>0.004515</td>\n",
       "    </tr>\n",
       "    <tr>\n",
       "      <th>16065983</th>\n",
       "      <td>ZXDC</td>\n",
       "      <td>ZZEF1</td>\n",
       "      <td>-0.008927</td>\n",
       "    </tr>\n",
       "  </tbody>\n",
       "</table>\n",
       "<p>16065984 rows × 3 columns</p>\n",
       "</div>"
      ],
      "text/plain": [
       "              source    target    weight\n",
       "0         AC092835.1      A1BG  0.010819\n",
       "1         AC092835.1  A1BG-AS1 -0.012011\n",
       "2         AC092835.1       A2M -0.001585\n",
       "3         AC092835.1   A2M-AS1 -0.006012\n",
       "4         AC092835.1     A2MP1 -0.012426\n",
       "...              ...       ...       ...\n",
       "16065979        ZXDC      ZXDA -0.023699\n",
       "16065980        ZXDC      ZXDB  0.007010\n",
       "16065981        ZXDC    ZYG11B -0.003351\n",
       "16065982        ZXDC       ZYX  0.004515\n",
       "16065983        ZXDC     ZZEF1 -0.008927\n",
       "\n",
       "[16065984 rows x 3 columns]"
      ]
     },
     "execution_count": 30,
     "metadata": {},
     "output_type": "execute_result"
    }
   ],
   "source": [
    "def format_grn(scores, S, gene_names):\n",
    "    tfs = []\n",
    "    targets = []\n",
    "    weights = []\n",
    "    for row_i in range(len(scores)):\n",
    "        for col_i in range(len(scores[0])):\n",
    "            score = scores[row_i][col_i]\n",
    "            if score == 0:\n",
    "                continue\n",
    "            s = S[row_i][col_i]\n",
    "            tf = gene_names[row_i]\n",
    "            gene = gene_names[col_i]\n",
    "\n",
    "            tfs.append(tf)\n",
    "            targets.append(gene)\n",
    "            weights.append(score*s)\n",
    "\n",
    "    return pd.DataFrame({'source':tfs, 'target':targets, 'weight':weights})\n",
    "\n",
    "positive_control = format_grn(M_bar, S, gene_names)\n",
    "\n",
    "positive_control\n"
   ]
  },
  {
   "cell_type": "code",
   "execution_count": 45,
   "metadata": {},
   "outputs": [],
   "source": [
    "positive_control_f = positive_control[positive_control.index.isin(positive_control.weight.abs().sort_values()[-200000:,].index)].reset_index()"
   ]
  },
  {
   "cell_type": "code",
   "execution_count": 46,
   "metadata": {},
   "outputs": [],
   "source": [
    "# np.setdiff1d(positive_control.target.unique(), tfs_list).shape\n",
    "# positive_control.source.unique().shape\n",
    "positive_control_f.to_csv(f'../output/benchmarking/baseline_models/positive_control.csv')"
   ]
  },
  {
   "cell_type": "markdown",
   "metadata": {},
   "source": [
    "# GRNS"
   ]
  },
  {
   "cell_type": "code",
   "execution_count": 34,
   "metadata": {},
   "outputs": [
    {
     "name": "stderr",
     "output_type": "stream",
     "text": [
      "/tmp/ipykernel_1613/3753272858.py:8: FutureWarning: A value is trying to be set on a copy of a DataFrame or Series through chained assignment using an inplace method.\n",
      "The behavior will change in pandas 3.0. This inplace method will never work because the intermediate object on which we are setting values always behaves as a copy.\n",
      "\n",
      "For example, when doing 'df[col].method(value, inplace=True)', try using 'df.method({col: value}, inplace=True)' or df[col] = df[col].method(value) instead, to perform the operation inplace on the original object.\n",
      "\n",
      "\n",
      "  grn['cell_type'].replace({'agg_type': 'T cells'}, inplace=True)\n"
     ]
    }
   ],
   "source": [
    "work_dir = '../output'\n",
    "os.makedirs('../output/benchmarking/grn_models/', exist_ok=True)\n",
    "os.makedirs('../output/benchmarking/peak_gene_models/', exist_ok=True)\n",
    "grn_model_names = ['figr', 'celloracle', 'granie', 'ananse', 'scglue', 'scenicplus']\n",
    "for name in grn_model_names:\n",
    "    grn = pd.read_csv(f'{work_dir}/infer/{name}/grn/{name}_grn.csv', index_col=0)\n",
    "    if 'cell_type' in grn.columns:\n",
    "        grn['cell_type'].replace({'agg_type': 'T cells'}, inplace=True)\n",
    "    \n",
    "    grn.to_csv(f'../output/benchmarking/grn_models/{name}.csv')\n",
    "collectRI = pd.read_csv(\"https://github.com/pablormier/omnipath-static/raw/main/op/collectri-26.09.2023.zip\")\n",
    "collectRI.to_csv(f'../output/benchmarking/grn_models/collectri.csv')\n",
    "\n",
    "peak_gene_model = ['figr', 'celloracle', 'granie']\n",
    "\n",
    "for name in peak_gene_model:\n",
    "    peak_gene = pd.read_csv(f'{work_dir}/infer/{name}/peak_gene.csv', index_col=0)\n",
    "    peak_gene.to_csv(f'../output/benchmarking/peak_gene_models/{name}.csv')\n"
   ]
  }
 ],
 "metadata": {
  "kernelspec": {
   "display_name": "py10",
   "language": "python",
   "name": "python3"
  },
  "language_info": {
   "codemirror_mode": {
    "name": "ipython",
    "version": 3
   },
   "file_extension": ".py",
   "mimetype": "text/x-python",
   "name": "python",
   "nbconvert_exporter": "python",
   "pygments_lexer": "ipython3",
   "version": "3.10.14"
  }
 },
 "nbformat": 4,
 "nbformat_minor": 2
}
