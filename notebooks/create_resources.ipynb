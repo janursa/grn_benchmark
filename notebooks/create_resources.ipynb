{
 "cells": [
  {
   "cell_type": "markdown",
   "metadata": {},
   "source": [
    "# task-perturb-multiomics-grn\n",
    "## Creating resources\n",
    "### by Jalil Nourisa"
   ]
  },
  {
   "cell_type": "markdown",
   "metadata": {},
   "source": [
    "# Multiomics"
   ]
  },
  {
   "cell_type": "code",
   "execution_count": 1,
   "metadata": {},
   "outputs": [],
   "source": [
    "import anndata as ad\n",
    "import pandas as pd\n",
    "\n",
    "data_dir = '../output/'\n",
    "\n",
    "resource_dir = '../resources/'"
   ]
  },
  {
   "cell_type": "code",
   "execution_count": 27,
   "metadata": {},
   "outputs": [
    {
     "name": "stderr",
     "output_type": "stream",
     "text": [
      "c:\\Users\\nourisa\\Anaconda3\\envs\\py310\\lib\\site-packages\\anndata\\_core\\anndata.py:117: ImplicitModificationWarning: Transforming to str index.\n",
      "  warnings.warn(\"Transforming to str index.\", ImplicitModificationWarning)\n"
     ]
    }
   ],
   "source": [
    "adata_rna = ad.read_h5ad(f'{data_dir}/scRNA/adata_rna_new.h5ad')\n",
    "adata_atac = ad.read_h5ad(f'{data_dir}/scATAC/adata_atac.h5ad')"
   ]
  },
  {
   "cell_type": "code",
   "execution_count": 28,
   "metadata": {},
   "outputs": [],
   "source": [
    "adata_atac.obs = adata_atac.obs[['obs_id']]\n",
    "adata_atac.obs = adata_atac.obs.set_index('obs_id')"
   ]
  },
  {
   "cell_type": "code",
   "execution_count": 29,
   "metadata": {},
   "outputs": [],
   "source": [
    "adata_rna.var['feature_type'] = 'GEX'\n",
    "adata_atac.var['feature_type'] = 'ATAC'"
   ]
  },
  {
   "cell_type": "code",
   "execution_count": 30,
   "metadata": {},
   "outputs": [],
   "source": [
    "mask = adata_atac.obs.index.isin(adata_rna.obs.index) # keep only those cells that are shared \n",
    "adata_atac = adata_atac[mask,:]"
   ]
  },
  {
   "cell_type": "code",
   "execution_count": 31,
   "metadata": {},
   "outputs": [
    {
     "data": {
      "text/plain": [
       "AnnData object with n_obs × n_vars = 25034 × 158136\n",
       "    var: 'feature_type'"
      ]
     },
     "execution_count": 31,
     "metadata": {},
     "output_type": "execute_result"
    }
   ],
   "source": [
    "adata = ad.concat([adata_rna, adata_atac], axis=1)\n",
    "adata"
   ]
  },
  {
   "cell_type": "code",
   "execution_count": 32,
   "metadata": {},
   "outputs": [],
   "source": [
    "adata.obs = pd.merge(adata_rna.obs, adata_atac.obs, left_index=True, right_index=True, how='outer')"
   ]
  },
  {
   "cell_type": "code",
   "execution_count": 33,
   "metadata": {},
   "outputs": [
    {
     "data": {
      "text/html": [
       "<div>\n",
       "<style scoped>\n",
       "    .dataframe tbody tr th:only-of-type {\n",
       "        vertical-align: middle;\n",
       "    }\n",
       "\n",
       "    .dataframe tbody tr th {\n",
       "        vertical-align: top;\n",
       "    }\n",
       "\n",
       "    .dataframe thead th {\n",
       "        text-align: right;\n",
       "    }\n",
       "</style>\n",
       "<table border=\"1\" class=\"dataframe\">\n",
       "  <thead>\n",
       "    <tr style=\"text-align: right;\">\n",
       "      <th></th>\n",
       "      <th>cell_type</th>\n",
       "      <th>donor_id</th>\n",
       "    </tr>\n",
       "    <tr>\n",
       "      <th>obs_id</th>\n",
       "      <th></th>\n",
       "      <th></th>\n",
       "    </tr>\n",
       "  </thead>\n",
       "  <tbody>\n",
       "    <tr>\n",
       "      <th>000225c1151ab841</th>\n",
       "      <td>B cells</td>\n",
       "      <td>donor_0</td>\n",
       "    </tr>\n",
       "    <tr>\n",
       "      <th>0003c40a54367871</th>\n",
       "      <td>T cells</td>\n",
       "      <td>donor_2</td>\n",
       "    </tr>\n",
       "    <tr>\n",
       "      <th>0004bf574b822c3c</th>\n",
       "      <td>T cells</td>\n",
       "      <td>donor_2</td>\n",
       "    </tr>\n",
       "    <tr>\n",
       "      <th>000d59b5478f28e2</th>\n",
       "      <td>B cells</td>\n",
       "      <td>donor_0</td>\n",
       "    </tr>\n",
       "    <tr>\n",
       "      <th>0011b7473923d7b5</th>\n",
       "      <td>T cells</td>\n",
       "      <td>donor_2</td>\n",
       "    </tr>\n",
       "    <tr>\n",
       "      <th>...</th>\n",
       "      <td>...</td>\n",
       "      <td>...</td>\n",
       "    </tr>\n",
       "    <tr>\n",
       "      <th>fff2ca1f64c10339</th>\n",
       "      <td>T cells</td>\n",
       "      <td>donor_0</td>\n",
       "    </tr>\n",
       "    <tr>\n",
       "      <th>fff87e64f509b570</th>\n",
       "      <td>T cells</td>\n",
       "      <td>donor_0</td>\n",
       "    </tr>\n",
       "    <tr>\n",
       "      <th>fff9778b31bc2539</th>\n",
       "      <td>Myeloid cells</td>\n",
       "      <td>donor_2</td>\n",
       "    </tr>\n",
       "    <tr>\n",
       "      <th>fffa92f71d2440de</th>\n",
       "      <td>T cells</td>\n",
       "      <td>donor_1</td>\n",
       "    </tr>\n",
       "    <tr>\n",
       "      <th>ffffeba9dbf2bab1</th>\n",
       "      <td>T cells</td>\n",
       "      <td>donor_1</td>\n",
       "    </tr>\n",
       "  </tbody>\n",
       "</table>\n",
       "<p>25034 rows × 2 columns</p>\n",
       "</div>"
      ],
      "text/plain": [
       "                      cell_type donor_id\n",
       "obs_id                                  \n",
       "000225c1151ab841        B cells  donor_0\n",
       "0003c40a54367871        T cells  donor_2\n",
       "0004bf574b822c3c        T cells  donor_2\n",
       "000d59b5478f28e2        B cells  donor_0\n",
       "0011b7473923d7b5        T cells  donor_2\n",
       "...                         ...      ...\n",
       "fff2ca1f64c10339        T cells  donor_0\n",
       "fff87e64f509b570        T cells  donor_0\n",
       "fff9778b31bc2539  Myeloid cells  donor_2\n",
       "fffa92f71d2440de        T cells  donor_1\n",
       "ffffeba9dbf2bab1        T cells  donor_1\n",
       "\n",
       "[25034 rows x 2 columns]"
      ]
     },
     "execution_count": 33,
     "metadata": {},
     "output_type": "execute_result"
    }
   ],
   "source": [
    "adata.obs"
   ]
  },
  {
   "cell_type": "code",
   "execution_count": 34,
   "metadata": {},
   "outputs": [],
   "source": [
    "adata.write(f'{resource_dir}/multiomics.h5ad')"
   ]
  },
  {
   "cell_type": "code",
   "execution_count": 41,
   "metadata": {},
   "outputs": [],
   "source": [
    "adata_atac.obs = adata.obs"
   ]
  },
  {
   "cell_type": "code",
   "execution_count": 42,
   "metadata": {},
   "outputs": [],
   "source": [
    "adata_atac.write_h5ad(f'{data_dir}/scATAC/adata_atac.h5ad')"
   ]
  }
 ],
 "metadata": {
  "kernelspec": {
   "display_name": "py10",
   "language": "python",
   "name": "python3"
  },
  "language_info": {
   "codemirror_mode": {
    "name": "ipython",
    "version": 3
   },
   "file_extension": ".py",
   "mimetype": "text/x-python",
   "name": "python",
   "nbconvert_exporter": "python",
   "pygments_lexer": "ipython3",
   "version": "3.10.14"
  }
 },
 "nbformat": 4,
 "nbformat_minor": 2
}
