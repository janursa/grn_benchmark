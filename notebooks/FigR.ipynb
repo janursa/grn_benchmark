{
 "cells": [
  {
   "cell_type": "markdown",
   "metadata": {},
   "source": [
    "## Preprocess data\n",
    "Read adata of ATAC-seq and RNA-seq and save them as sparse data and annotations."
   ]
  },
  {
   "cell_type": "code",
   "execution_count": 1,
   "metadata": {},
   "outputs": [],
   "source": [
    "from scipy.io import mmwrite\n",
    "import anndata \n",
    "donor_id = 'donor_0'"
   ]
  },
  {
   "cell_type": "markdown",
   "metadata": {},
   "source": [
    "### ATAC-seq"
   ]
  },
  {
   "cell_type": "code",
   "execution_count": 105,
   "metadata": {},
   "outputs": [],
   "source": [
    "# python\n",
    "adata_peaks = anndata.read(f'../output/scATAC/adata_{donor_id}.h5ad')\n",
    "# save sparse matrix\n",
    "mmwrite(\"../output/scATAC/matrix_annot/X_matrix.mtx\", adata_peaks.X)\n",
    "# save annotation\n",
    "annotation_peak = adata_peaks.var.reset_index().location.str.split(':', expand=True)\n",
    "annotation_peak.columns = ['seqname', 'ranges']\n",
    "annotation_peak['strand'] = '+' #TODO: fix this\n",
    "annotation_peak.to_csv(\"../output/scATAC/matrix_annot/annotation_peak.csv\")\n",
    "\n",
    "annotation_cells = adata_peaks.obs.reset_index()\n",
    "annotation_cells.to_csv(\"../output/scATAC/matrix_annot/annotation_cells.csv\")"
   ]
  },
  {
   "cell_type": "markdown",
   "metadata": {},
   "source": [
    "### RNA-seq"
   ]
  },
  {
   "cell_type": "code",
   "execution_count": 10,
   "metadata": {},
   "outputs": [],
   "source": [
    "adata_rna = anndata.read(f'../output/scRNA/adata_{donor_id}.h5ad')\n",
    "# save sparse matrix\n",
    "mmwrite(\"../output/scRNA/matrix_annot/X_matrix.mtx\", adata_rna.X)\n",
    "# save annotation\n",
    "annotation_gene = adata_rna.var.reset_index()\n",
    "annotation_gene.to_csv(\"../output/scRNA/matrix_annot/annotation_gene.csv\")\n",
    "\n",
    "annotation_cells = adata_rna.obs.reset_index()[['obs_id','cell_type']]\n",
    "annotation_cells.to_csv(\"../output/scRNA/matrix_annot/annotation_cells.csv\")"
   ]
  },
  {
   "cell_type": "markdown",
   "metadata": {},
   "source": [
    "## cell-topic probability scores "
   ]
  },
  {
   "cell_type": "code",
   "execution_count": null,
   "metadata": {},
   "outputs": [],
   "source": [
    "import pickle\n",
    "cistopic_obj = pickle.load(\n",
    "            open('../output/scATAC/cistopic_obj.pkl', 'rb'))\n",
    "# get cell topic association \n",
    "cell_topic = cistopic_obj.selected_model.cell_topic.T\n",
    "# remove donor name from the index\n",
    "cell_topic.index = cell_topic.reset_index()['index'].apply(lambda name: name.split('__')[0])"
   ]
  },
  {
   "cell_type": "code",
   "execution_count": 54,
   "metadata": {},
   "outputs": [],
   "source": [
    "cell_topic.to_csv('../output/FigR/cell_topic.csv')"
   ]
  },
  {
   "cell_type": "markdown",
   "metadata": {},
   "source": [
    "# Pipeline of FigR"
   ]
  },
  {
   "cell_type": "code",
   "execution_count": 2,
   "metadata": {},
   "outputs": [],
   "source": [
    "%load_ext rpy2.ipython"
   ]
  },
  {
   "cell_type": "code",
   "execution_count": 70,
   "metadata": {},
   "outputs": [
    {
     "data": {
      "text/plain": [
       "\n",
       "Attaching package: 'dplyr'\n",
       "\n",
       "The following objects are masked from 'package:ensembldb':\n",
       "\n",
       "    filter, select\n",
       "\n",
       "The following object is masked from 'package:AnnotationDbi':\n",
       "\n",
       "    select\n",
       "\n",
       "The following object is masked from 'package:Biobase':\n",
       "\n",
       "    combine\n",
       "\n",
       "The following objects are masked from 'package:Biostrings':\n",
       "\n",
       "    collapse, intersect, setdiff, setequal, union\n",
       "\n",
       "The following object is masked from 'package:XVector':\n",
       "\n",
       "    slice\n",
       "\n",
       "The following objects are masked from 'package:GenomicRanges':\n",
       "\n",
       "    intersect, setdiff, union\n",
       "\n",
       "The following object is masked from 'package:GenomeInfoDb':\n",
       "\n",
       "    intersect\n",
       "\n",
       "The following objects are masked from 'package:IRanges':\n",
       "\n",
       "    collapse, desc, intersect, setdiff, slice, union\n",
       "\n",
       "The following objects are masked from 'package:S4Vectors':\n",
       "\n",
       "    first, intersect, rename, setdiff, setequal, union\n",
       "\n",
       "The following objects are masked from 'package:BiocGenerics':\n",
       "\n",
       "    combine, intersect, setdiff, union\n",
       "\n",
       "The following objects are masked from 'package:stats':\n",
       "\n",
       "    filter, lag\n",
       "\n",
       "The following objects are masked from 'package:base':\n",
       "\n",
       "    intersect, setdiff, setequal, union\n",
       "\n",
       "\n",
       "Loading required package: foreach\n",
       "Loading required package: iterators\n",
       "Loading required package: parallel\n",
       "Loading required package: MASS\n",
       "\n",
       "Attaching package: 'MASS'\n",
       "\n",
       "The following object is masked from 'package:dplyr':\n",
       "\n",
       "    select\n",
       "\n",
       "The following object is masked from 'package:ensembldb':\n",
       "\n",
       "    select\n",
       "\n",
       "The following object is masked from 'package:AnnotationDbi':\n",
       "\n",
       "    select\n",
       "\n",
       "Loading required package: Matrix\n",
       "\n",
       "Attaching package: 'Matrix'\n",
       "\n",
       "The following object is masked from 'package:S4Vectors':\n",
       "\n",
       "    expand\n",
       "\n",
       "Loading required package: SummarizedExperiment\n",
       "Loading required package: MatrixGenerics\n",
       "Loading required package: matrixStats\n",
       "\n",
       "Attaching package: 'matrixStats'\n",
       "\n",
       "The following object is masked from 'package:dplyr':\n",
       "\n",
       "    count\n",
       "\n",
       "The following objects are masked from 'package:Biobase':\n",
       "\n",
       "    anyMissing, rowMedians\n",
       "\n",
       "\n",
       "Attaching package: 'MatrixGenerics'\n",
       "\n",
       "The following objects are masked from 'package:matrixStats':\n",
       "\n",
       "    colAlls, colAnyNAs, colAnys, colAvgsPerRowSet, colCollapse,\n",
       "    colCounts, colCummaxs, colCummins, colCumprods, colCumsums,\n",
       "    colDiffs, colIQRDiffs, colIQRs, colLogSumExps, colMadDiffs,\n",
       "    colMads, colMaxs, colMeans2, colMedians, colMins, colOrderStats,\n",
       "    colProds, colQuantiles, colRanges, colRanks, colSdDiffs, colSds,\n",
       "    colSums2, colTabulates, colVarDiffs, colVars, colWeightedMads,\n",
       "    colWeightedMeans, colWeightedMedians, colWeightedSds,\n",
       "    colWeightedVars, rowAlls, rowAnyNAs, rowAnys, rowAvgsPerColSet,\n",
       "    rowCollapse, rowCounts, rowCummaxs, rowCummins, rowCumprods,\n",
       "    rowCumsums, rowDiffs, rowIQRDiffs, rowIQRs, rowLogSumExps,\n",
       "    rowMadDiffs, rowMads, rowMaxs, rowMeans2, rowMedians, rowMins,\n",
       "    rowOrderStats, rowProds, rowQuantiles, rowRanges, rowRanks,\n",
       "    rowSdDiffs, rowSds, rowSums2, rowTabulates, rowVarDiffs, rowVars,\n",
       "    rowWeightedMads, rowWeightedMeans, rowWeightedMedians,\n",
       "    rowWeightedSds, rowWeightedVars\n",
       "\n",
       "The following object is masked from 'package:Biobase':\n",
       "\n",
       "    rowMedians\n",
       "\n",
       "\n",
       "Attaching package: 'SummarizedExperiment'\n",
       "\n",
       "The following object is masked from 'package:Seurat':\n",
       "\n",
       "    Assays\n",
       "\n",
       "The following object is masked from 'package:SeuratObject':\n",
       "\n",
       "    Assays\n",
       "\n",
       "Loading required package: motifmatchr\n"
      ]
     },
     "metadata": {},
     "output_type": "display_data"
    }
   ],
   "source": [
    "%%R \n",
    "options(digits=5, max.print=100)  # Adjust numbers as needed\n",
    "set.seed(123)\n",
    "\n",
    "library(dplyr)\n",
    "library(FNN)\n",
    "library(chromVAR)\n",
    "library(doParallel)\n",
    "library(BuenColors)\n",
    "library(FigR)\n",
    "library(BSgenome.Hsapiens.UCSC.hg38)"
   ]
  },
  {
   "cell_type": "markdown",
   "metadata": {},
   "source": [
    "## Load atac-seq and create summarizedexperiment"
   ]
  },
  {
   "cell_type": "code",
   "execution_count": 9,
   "metadata": {},
   "outputs": [
    {
     "name": "stdout",
     "output_type": "stream",
     "text": [
      "[1] 135180   7830\n"
     ]
    }
   ],
   "source": [
    "%%R \n",
    "X <- readMM(\"../output/scATAC/matrix_annot/X_matrix.mtx\")\n",
    "X <- t(X)\n",
    "annotation_peak <- read.csv(\"../output/scATAC/matrix_annot/annotation_peak.csv\", row.names = 1)\n",
    "annotation_cells <- read.csv(\"../output/scATAC/matrix_annot/annotation_cells.csv\", row.names = 1)\n",
    "\n",
    "# Filter out entries where seqname is 'chr10'\n",
    "filter_indices <- grepl(\"^chr\", annotation_peak$seqname)\n",
    "annotation_peak_filtered <- annotation_peak[filter_indices, ]\n",
    "\n",
    "# Filter the rows in X\n",
    "X_filtered <- X[filter_indices, ]\n",
    "\n",
    "# Create the SummarizedExperiment object with the filtered data\n",
    "atac <- SummarizedExperiment(assays = list(counts = X_filtered), \n",
    "                             rowRanges = GRanges(annotation_peak_filtered$seqname,\n",
    "                              IRanges(annotation_peak_filtered$ranges)), \n",
    "                             colData = DataFrame(annotation_cells))\n",
    "colnames(atac) <- annotation_cells$obs_id    \n",
    "\n",
    "dim(atac) #peaks*cells"
   ]
  },
  {
   "cell_type": "markdown",
   "metadata": {},
   "source": [
    "### Load RNA-seq and create sparsematrix"
   ]
  },
  {
   "cell_type": "code",
   "execution_count": 5,
   "metadata": {},
   "outputs": [
    {
     "name": "stdout",
     "output_type": "stream",
     "text": [
      "[1] 22726  7830\n"
     ]
    }
   ],
   "source": [
    "%%R \n",
    "XX <- readMM(\"../output/scRNA/matrix_annot/X_matrix.mtx\")\n",
    "XX <- t(XX)\n",
    "annotation_gene <- read.csv(\"../output/scRNA/matrix_annot/annotation_gene.csv\", row.names = 1)\n",
    "annotation_cells <- read.csv(\"../output/scRNA/matrix_annot/annotation_cells.csv\", row.names = 1)\n",
    "\n",
    "rna <- as(XX, \"CsparseMatrix\")\n",
    "rownames(rna) <- annotation_gene$location\n",
    "colnames(rna) <- annotation_cells$obs_id\n",
    "\n",
    "# Remove genes with zero expression across all cells\n",
    "rna <- rna[Matrix::rowSums(rna)!=0,]\n",
    "\n",
    "dim(rna) # genes*cells"
   ]
  },
  {
   "cell_type": "markdown",
   "metadata": {},
   "source": [
    "## load cell topic probabilities and create cell-cluster matrix\n"
   ]
  },
  {
   "cell_type": "code",
   "execution_count": 24,
   "metadata": {},
   "outputs": [],
   "source": [
    "%%R \n",
    "n_topics = 16\n",
    "cell_topic <- read.csv('../output/FigR/cell_topic.csv', row.names = 1)\n",
    "# Derive cell kNN using this\n",
    "cellkNN <- get.knn(cell_topic,k = n_topics)$nn.index\n",
    "dim(cellkNN)\n",
    "rownames(cellkNN) <- rownames(cell_topic)"
   ]
  },
  {
   "cell_type": "markdown",
   "metadata": {},
   "source": [
    "## Save data"
   ]
  },
  {
   "cell_type": "code",
   "execution_count": 7,
   "metadata": {},
   "outputs": [],
   "source": [
    "%%R \n",
    "n_cells_to_keep = dim(rna)[2]\n",
    "cellsToKeep <- sample(colnames(atac), size = n_cells_to_keep, replace = FALSE)\n",
    "atac_short = atac[, cellsToKeep]\n",
    "rna_short = rna[, cellsToKeep]\n",
    "cellkNN_short = cellkNN[cellsToKeep,]\n",
    "\n",
    "saveRDS(atac_short, '../output/FigR/atac_short.rds')\n",
    "saveRDS(rna_short, '../output/FigR/rna_short.rds')\n",
    "saveRDS(cellkNN_short, '../output/FigR/cellkNN_short.rds')\n"
   ]
  },
  {
   "cell_type": "markdown",
   "metadata": {},
   "source": [
    "## Peak-gene association testing"
   ]
  },
  {
   "cell_type": "code",
   "execution_count": 11,
   "metadata": {},
   "outputs": [
    {
     "data": {
      "text/plain": [
       "\n",
       "Attaching package: ‘dplyr’\n",
       "\n",
       "The following objects are masked from ‘package:stats’:\n",
       "\n",
       "    filter, lag\n",
       "\n",
       "The following objects are masked from ‘package:base’:\n",
       "\n",
       "    intersect, setdiff, setequal, union\n",
       "\n",
       "\n",
       "Loading required package: foreach\n",
       "Loading required package: iterators\n",
       "Loading required package: parallel\n",
       "Loading required package: MASS\n",
       "\n",
       "Attaching package: ‘MASS’\n",
       "\n",
       "The following object is masked from ‘package:dplyr’:\n",
       "\n",
       "    select\n",
       "\n",
       "Loading required package: ggplot2\n",
       "Loading required package: Matrix\n",
       "Loading required package: SummarizedExperiment\n",
       "Loading required package: MatrixGenerics\n",
       "Loading required package: matrixStats\n",
       "\n",
       "Attaching package: ‘matrixStats’\n",
       "\n",
       "The following object is masked from ‘package:dplyr’:\n",
       "\n",
       "    count\n",
       "\n",
       "\n",
       "Attaching package: ‘MatrixGenerics’\n",
       "\n",
       "The following objects are masked from ‘package:matrixStats’:\n",
       "\n",
       "    colAlls, colAnyNAs, colAnys, colAvgsPerRowSet, colCollapse,\n",
       "    colCounts, colCummaxs, colCummins, colCumprods, colCumsums,\n",
       "    colDiffs, colIQRDiffs, colIQRs, colLogSumExps, colMadDiffs,\n",
       "    colMads, colMaxs, colMeans2, colMedians, colMins, colOrderStats,\n",
       "    colProds, colQuantiles, colRanges, colRanks, colSdDiffs, colSds,\n",
       "    colSums2, colTabulates, colVarDiffs, colVars, colWeightedMads,\n",
       "    colWeightedMeans, colWeightedMedians, colWeightedSds,\n",
       "    colWeightedVars, rowAlls, rowAnyNAs, rowAnys, rowAvgsPerColSet,\n",
       "    rowCollapse, rowCounts, rowCummaxs, rowCummins, rowCumprods,\n",
       "    rowCumsums, rowDiffs, rowIQRDiffs, rowIQRs, rowLogSumExps,\n",
       "    rowMadDiffs, rowMads, rowMaxs, rowMeans2, rowMedians, rowMins,\n",
       "    rowOrderStats, rowProds, rowQuantiles, rowRanges, rowRanks,\n",
       "    rowSdDiffs, rowSds, rowSums2, rowTabulates, rowVarDiffs, rowVars,\n",
       "    rowWeightedMads, rowWeightedMeans, rowWeightedMedians,\n",
       "    rowWeightedSds, rowWeightedVars\n",
       "\n",
       "Loading required package: GenomicRanges\n",
       "Loading required package: stats4\n",
       "Loading required package: BiocGenerics\n",
       "\n",
       "Attaching package: ‘BiocGenerics’\n",
       "\n",
       "The following objects are masked from ‘package:dplyr’:\n",
       "\n",
       "    combine, intersect, setdiff, union\n",
       "\n",
       "The following objects are masked from ‘package:stats’:\n",
       "\n",
       "    IQR, mad, sd, var, xtabs\n",
       "\n",
       "The following objects are masked from ‘package:base’:\n",
       "\n",
       "    anyDuplicated, aperm, append, as.data.frame, basename, cbind,\n",
       "    colnames, dirname, do.call, duplicated, eval, evalq, Filter, Find,\n",
       "    get, grep, grepl, intersect, is.unsorted, lapply, Map, mapply,\n",
       "    match, mget, order, paste, pmax, pmax.int, pmin, pmin.int,\n",
       "    Position, rank, rbind, Reduce, rownames, sapply, setdiff, sort,\n",
       "    table, tapply, union, unique, unsplit, which.max, which.min\n",
       "\n",
       "Loading required package: S4Vectors\n",
       "\n",
       "Attaching package: ‘S4Vectors’\n",
       "\n",
       "The following objects are masked from ‘package:Matrix’:\n",
       "\n",
       "    expand, unname\n",
       "\n",
       "The following objects are masked from ‘package:dplyr’:\n",
       "\n",
       "    first, rename\n",
       "\n",
       "The following object is masked from ‘package:utils’:\n",
       "\n",
       "    findMatches\n",
       "\n",
       "The following objects are masked from ‘package:base’:\n",
       "\n",
       "    expand.grid, I, unname\n",
       "\n",
       "Loading required package: IRanges\n",
       "\n",
       "Attaching package: ‘IRanges’\n",
       "\n",
       "The following objects are masked from ‘package:dplyr’:\n",
       "\n",
       "    collapse, desc, slice\n",
       "\n",
       "Loading required package: GenomeInfoDb\n",
       "Loading required package: Biobase\n",
       "Welcome to Bioconductor\n",
       "\n",
       "    Vignettes contain introductory material; view with\n",
       "    'browseVignettes()'. To cite Bioconductor, see\n",
       "    'citation(\"Biobase\")', and for packages 'citation(\"pkgname\")'.\n",
       "\n",
       "\n",
       "Attaching package: ‘Biobase’\n",
       "\n",
       "The following object is masked from ‘package:MatrixGenerics’:\n",
       "\n",
       "    rowMedians\n",
       "\n",
       "The following objects are masked from ‘package:matrixStats’:\n",
       "\n",
       "    anyMissing, rowMedians\n",
       "\n",
       "Loading required package: cowplot\n",
       "Loading required package: motifmatchr\n",
       "Loading required package: BSgenome\n",
       "Loading required package: Biostrings\n",
       "Loading required package: XVector\n",
       "\n",
       "Attaching package: ‘Biostrings’\n",
       "\n",
       "The following object is masked from ‘package:base’:\n",
       "\n",
       "    strsplit\n",
       "\n",
       "Loading required package: BiocIO\n",
       "Loading required package: rtracklayer\n",
       "\n",
       "Attaching package: ‘rtracklayer’\n",
       "\n",
       "The following object is masked from ‘package:BiocIO’:\n",
       "\n",
       "    FileForFormat\n",
       "\n"
      ]
     },
     "metadata": {},
     "output_type": "display_data"
    }
   ],
   "source": [
    "%%R \n",
    "options(digits=5, max.print=100)  # Adjust numbers as needed\n",
    "set.seed(123)\n",
    "\n",
    "library(dplyr)\n",
    "library(FNN)\n",
    "library(chromVAR)\n",
    "library(doParallel)\n",
    "library(BuenColors)\n",
    "library(FigR)\n",
    "library(BSgenome.Hsapiens.UCSC.hg38)\n",
    "atac_short = readRDS('../output/FigR/atac_short.rds')\n",
    "rna_short  = readRDS('../output/FigR/rna_short.rds')\n",
    "cisCorr <- FigR::runGenePeakcorr(ATAC.se = atac_short,\n",
    "                           RNAmat = rna_short,\n",
    "                           genome = \"hg38\", # One of hg19, mm10 or hg38 \n",
    "                           nCores = 20,\n",
    "                           p.cut = NULL, # Set this to NULL and we can filter later\n",
    "                           n_bg = 100)\n",
    "write.csv(cisCorr, \"../output/FigR/cisCorr.csv\", row.names = TRUE)"
   ]
  },
  {
   "cell_type": "code",
   "execution_count": 27,
   "metadata": {},
   "outputs": [
    {
     "data": {
      "image/png": "[encoded data removed]",
      "text/plain": [
       "<IPython.core.display.Image object>"
      ]
     },
     "metadata": {},
     "output_type": "display_data"
    },
    {
     "ename": "",
     "evalue": "",
     "output_type": "error",
     "traceback": [
      "\u001b[1;31mThe Kernel crashed while executing code in the the current cell or a previous cell. Please review the code in the cell(s) to identify a possible cause of the failure. Click <a href='https://aka.ms/vscodeJupyterKernelCrash'>here</a> for more info. View Jupyter <a href='command:jupyter.viewOutput'>log</a> for further details."
     ]
    }
   ],
   "source": [
    "%%R \n",
    "cisCorr = read.csv(\"../output/FigR/cisCorr.csv\")\n",
    "cisCorr.filt <- cisCorr %>% filter(pvalZ <= 0.05)\n",
    "\n",
    "dorcGenes <- dorcJPlot(dorcTab = cisCorr.filt,\n",
    "                         cutoff = 10, # No. sig peaks needed to be called a DORC\n",
    "                         labelTop = 20,\n",
    "                         returnGeneList = TRUE, # Set this to FALSE for just the plot\n",
    "                         force=2)\n",
    "# Unfiltered\n",
    "numDorcs <- cisCorr.filt %>% group_by(Gene) %>% tally() %>% arrange(desc(n))\n",
    "# numDorcs"
   ]
  },
  {
   "cell_type": "markdown",
   "metadata": {},
   "source": [
    "## Create DORCs and smooth them "
   ]
  },
  {
   "cell_type": "code",
   "execution_count": 21,
   "metadata": {},
   "outputs": [
    {
     "name": "stdout",
     "output_type": "stream",
     "text": [
      "........\n"
     ]
    },
    {
     "name": "stdout",
     "output_type": "stream",
     "text": [
      "Normalizing scATAC counts ..\n",
      "SummarizedExperiment object input detected .. Centering counts under assayCentering counts for cells sequentially in groups of size  5000  ..\n",
      "\n",
      "Computing centered counts for cells:  1  to  5000 ..\n",
      "Computing centered counts per cell using mean reads in features ..\n",
      "\n",
      "Computing centered counts for cells:  5001  to  7830 ..\n",
      "Computing centered counts per cell using mean reads in features ..\n",
      "\n",
      "Merging results..\n",
      "Done!\n",
      "Computing DORC scores ..\n",
      "Running in parallel using  4 cores ..\n",
      "  |=======================================================| 100%, Elapsed 03:40\n",
      "\n",
      "Time Elapsed:  3.91593488057454 mins \n",
      "\n"
     ]
    },
    {
     "data": {
      "text/plain": [
       "Running DORC scoring for 8244 genes: LINC01128, PLEKHN1, LINC01342, TTLL10, PUSL1, TAS1R3, ATAD3C, ATAD3B, MIB2, MMP23B, SKI, TNFRSF14, PRDM16, TPRG1L, TP73, SMIM1, KCNAB2, RNF207, ESPN, ZBTB48, ... , ... , ... (truncated display)\n"
      ]
     },
     "metadata": {},
     "output_type": "display_data"
    }
   ],
   "source": [
    "%%R \n",
    "allGenes = unique(cisCorr.filt$Gene) \n",
    "dorcMat <- getDORCScores(ATAC.se = atac_short, # Has to be same SE as used in previous step\n",
    "                         dorcTab = cisCorr.filt,\n",
    "                         geneList = allGenes,\n",
    "                         nCores = 4)"
   ]
  },
  {
   "cell_type": "code",
   "execution_count": 25,
   "metadata": {},
   "outputs": [
    {
     "name": "stdout",
     "output_type": "stream",
     "text": [
      "Number of cells in supplied matrix:  7830 \n",
      "Number of genes in supplied matrix:  8244 \n",
      "Number of nearest neighbors being used per cell for smoothing:  16 \n",
      "  |                                                                      |   0%"
     ]
    },
    {
     "name": "stdout",
     "output_type": "stream",
     "text": [
      "Running in parallel using  4 cores ..\n",
      "  |======================================================================| 100%\n",
      "Merging results ..\n",
      "\n",
      "Time Elapsed:  1.24414536555608 mins \n",
      "Number of cells in supplied matrix:  7830 \n",
      "Number of genes in supplied matrix:  22726 \n",
      "Number of nearest neighbors being used per cell for smoothing:  16 \n",
      "Running smoothing for all genes in matrix! (n = 22726) This is bound to take more time than querying specific markers ..\n",
      "  |                                                                      |   0%Running in parallel using  4 cores ..\n",
      "  |======================================================================| 100%\n",
      "Merging results ..\n",
      "\n",
      "Time Elapsed:  1.18236359755198 mins \n"
     ]
    }
   ],
   "source": [
    "%%R \n",
    "cellkNN_short = readRDS('../output/FigR/cellkNN_short.rds')\n",
    "# Smooth dorc scores using cell KNNs (k=n_topics)\n",
    "dorcMat.s <- smoothScoresNN(NNmat = cellkNN_short[,1:n_topics], mat = dorcMat,nCores = 4)\n",
    "\n",
    "# Smooth RNA using cell KNNs\n",
    "# This takes longer since it's all genes\n",
    "RNAmat.s <- smoothScoresNN(NNmat = cellkNN_short[,1:n_topics],mat = rna_short,nCores = 4)"
   ]
  },
  {
   "cell_type": "code",
   "execution_count": 26,
   "metadata": {},
   "outputs": [],
   "source": [
    "%%R # save it as we will need it for TF gene associations \n",
    "write.csv(cisCorr.filt, '../output/FigR/cisCorr.filt.csv')\n",
    "saveRDS(RNAmat.s, '../output/FigR/RNAmat.s.RDS')\n",
    "saveRDS(dorcMat.s, '../output/FigR/dorcMat.s.RDS')"
   ]
  },
  {
   "cell_type": "markdown",
   "metadata": {},
   "source": [
    "## TF-gene associations\n",
    "Do not run this locally."
   ]
  },
  {
   "cell_type": "code",
   "execution_count": 14,
   "metadata": {},
   "outputs": [],
   "source": [
    "%%R \n",
    "cisCorr.filt = read.csv('../output/FigR/cisCorr.filt.csv')\n",
    "RNAmat.s = readRDS('../output/FigR/RNAmat.s.RDS')\n",
    "dorcMat.s = readRDS('../output/FigR/dorcMat.s.RDS')\n",
    "atac_short = readRDS('../output/FigR/atac_short.rds')\n",
    "figR.d <- runFigRGRN(ATAC.se = atac_short, # Must be the same input as used in runGenePeakcorr()\n",
    "                     dorcTab = cisCorr.filt, # Filtered peak-gene associations\n",
    "                     genome = \"hg38\",\n",
    "                     dorcMat = dorcMat.s,\n",
    "                     rnaMat = RNAmat.s, \n",
    "                     nCores = 30)\n",
    "write.csv(figR.d, 'figR.d.csv')"
   ]
  },
  {
   "cell_type": "markdown",
   "metadata": {},
   "source": [
    "## Evaluation of results"
   ]
  },
  {
   "cell_type": "code",
   "execution_count": 26,
   "metadata": {},
   "outputs": [
    {
     "data": {
      "image/png": "[encoded data removed]",
      "text/plain": [
       "<IPython.core.display.Image object>"
      ]
     },
     "metadata": {},
     "output_type": "display_data"
    }
   ],
   "source": [
    "%%R \n",
    "figR.d = read.csv('../output/FigR/figR.d.csv')\n",
    "\n",
    "figR.d %>% \n",
    "  ggplot(aes(Corr.log10P,Enrichment.log10P,color=Score)) + \n",
    "  ggrastr::geom_point_rast(size=0.01,shape=16) + \n",
    "  theme_classic() + \n",
    "  scale_color_gradientn(colours = jdb_palette(\"solar_extra\"),limits=c(-3,3),oob = scales::squish,breaks=scales::breaks_pretty(n=3))"
   ]
  },
  {
   "cell_type": "code",
   "execution_count": 27,
   "metadata": {},
   "outputs": [
    {
     "name": "stderr",
     "output_type": "stream",
     "text": [
      "R[write to console]: In addition: \n",
      "R[write to console]: Warning message:\n",
      "\n",
      "R[write to console]: ggrepel: 63 unlabeled data points (too many overlaps). Consider increasing max.overlaps \n",
      "\n"
     ]
    },
    {
     "data": {
      "text/plain": [
       "Ranking TFs by mean regulation score across all DORCs ..\n",
       "\n"
      ]
     },
     "metadata": {},
     "output_type": "display_data"
    },
    {
     "data": {
      "image/png": "[encoded data removed]",
      "text/plain": [
       "<IPython.core.display.Image object>"
      ]
     },
     "metadata": {},
     "output_type": "display_data"
    }
   ],
   "source": [
    "%%R \n",
    "rankDrivers(figR.d,rankBy = \"meanScore\",interactive = FALSE)"
   ]
  },
  {
   "cell_type": "markdown",
   "metadata": {},
   "source": [
    "## Process the results and output final GRN"
   ]
  },
  {
   "cell_type": "code",
   "execution_count": null,
   "metadata": {},
   "outputs": [],
   "source": [
    "import pandas as pd\n",
    "import numpy as np"
   ]
  },
  {
   "cell_type": "markdown",
   "metadata": {},
   "source": [
    "### GRN "
   ]
  },
  {
   "cell_type": "code",
   "execution_count": null,
   "metadata": {},
   "outputs": [],
   "source": [
    "figr_grn = pd.read_csv('../output/FigR/figR.d_all.csv', index_col=0)\n",
    "# filter based on enrichment \n",
    "figr_grn = figr_grn[figr_grn['Enrichment.P']<0.05]\n",
    "# filter bsaed on correlatoon\n",
    "figr_grn = figr_grn[figr_grn['Corr.P']<0.05]\n",
    "# filter thoes that are 0 score \n",
    "figr_grn = figr_grn[figr_grn.Score!=0]\n",
    "# subset columns\n",
    "figr_grn = figr_grn[['Motif', 'DORC', 'Score']]\n",
    "figr_grn = figr_grn.reset_index(drop=True)\n",
    "figr_grn.columns = ['source', 'target','weight']\n",
    "figr_grn.to_csv('../output/FigR/grn.csv')"
   ]
  },
  {
   "cell_type": "markdown",
   "metadata": {},
   "source": [
    "### Peak-gene"
   ]
  },
  {
   "cell_type": "code",
   "execution_count": null,
   "metadata": {},
   "outputs": [],
   "source": [
    "# load peak-gene association after filtering for significant\n",
    "peak_gene_figr = pd.read_csv('../output/FigR/cisCorr.filt.csv', index_col=0)\n",
    "peak_gene_figr_n = peak_gene_figr.groupby('Gene').apply(lambda df:df['PeakRanges'].shape[0])\n",
    "np.max(peak_gene_figr_n.values), np.median(peak_gene_figr_n.values)\n",
    "peak_gene_figr.to_csv('../output/FigR/peak_gene.csv')\n",
    "print('In the peak-gene associations: number of  CIS ', peak_gene_figr.PeakRanges.unique().shape[0], ', gene ', peak_gene_figr.Gene.unique().shape[0])\n",
    "print('number of DORC genes ', (peak_gene_figr_n.values >= 5).sum())"
   ]
  }
 ],
 "metadata": {
  "kernelspec": {
   "display_name": "py10",
   "language": "python",
   "name": "python3"
  },
  "language_info": {
   "codemirror_mode": {
    "name": "ipython",
    "version": 3
   },
   "file_extension": ".py",
   "mimetype": "text/x-python",
   "name": "python",
   "nbconvert_exporter": "python",
   "pygments_lexer": "ipython3",
   "version": "3.10.12"
  }
 },
 "nbformat": 4,
 "nbformat_minor": 2
}
