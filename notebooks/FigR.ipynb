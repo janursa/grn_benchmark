{
 "cells": [
  {
   "cell_type": "markdown",
   "metadata": {},
   "source": [
    "## Preprocess data\n",
    "Read adata of ATAC-seq and RNA-seq and save them as sparse data and annotations."
   ]
  },
  {
   "cell_type": "code",
   "execution_count": null,
   "metadata": {},
   "outputs": [],
   "source": [
    "from scipy.io import mmwrite\n",
    "import anndata \n",
    "import os\n",
    "os.makedirs('../figr/scRNA/', exist_ok=True)\n",
    "os.makedirs('../figr/scATAC/', exist_ok=True)\n",
    "os.makedirs('../figr/grn/', exist_ok=True)\n",
    "os.makedirs('../output/figr/grn/', exist_ok=True)"
   ]
  },
  {
   "cell_type": "markdown",
   "metadata": {},
   "source": [
    "### ATAC-seq"
   ]
  },
  {
   "cell_type": "code",
   "execution_count": null,
   "metadata": {},
   "outputs": [],
   "source": [
    "# python\n",
    "adata_atac = anndata.read(f'../output/scATAC/adata_atac.h5ad')\n",
    "# save sparse matrix\n",
    "mmwrite(\"../output/figr/scATAC/X_matrix.mtx\", adata_atac.X)\n",
    "# save annotation\n",
    "annotation_peak = adata_atac.var.reset_index().location.str.split(':', expand=True)\n",
    "annotation_peak.columns = ['seqname', 'ranges']\n",
    "annotation_peak['strand'] = '+' \n",
    "annotation_peak.to_csv(\"../output/figr/scATAC/annotation_peak.csv\")\n",
    "\n",
    "annotation_cells = adata_atac.obs.reset_index()\n",
    "annotation_cells.to_csv(\"../output/figr/scATAC/annotation_cells.csv\")"
   ]
  },
  {
   "cell_type": "markdown",
   "metadata": {},
   "source": [
    "### RNA-seq"
   ]
  },
  {
   "cell_type": "code",
   "execution_count": null,
   "metadata": {},
   "outputs": [],
   "source": [
    "adata_rna = anndata.read(f'../output/scRNA/adata_rna.h5ad')\n",
    "# save sparse matrix\n",
    "mmwrite(\"../output/figr/scRNA/X_matrix.mtx\", adata_rna.X)\n",
    "# save annotation\n",
    "annotation_gene = adata_rna.var.reset_index()\n",
    "annotation_gene.to_csv(\"../output/figr/scRNA/annotation_gene.csv\")\n",
    "\n",
    "annotation_cells = adata_rna.obs.reset_index()[['obs_id','cell_type']]\n",
    "annotation_cells.to_csv(\"../output/figr/scRNA/annotation_cells.csv\")"
   ]
  },
  {
   "cell_type": "markdown",
   "metadata": {},
   "source": [
    "## cell-topic probability scores "
   ]
  },
  {
   "cell_type": "code",
   "execution_count": 32,
   "metadata": {},
   "outputs": [],
   "source": [
    "import pickle\n",
    "cistopic_obj = pickle.load(\n",
    "            open('../output/scenicplus/scATAC/cistopic_obj.pkl', 'rb'))\n",
    "# get cell topic association \n",
    "cell_topic = cistopic_obj.selected_model.cell_topic.T\n",
    "cell_names = cistopic_obj.cell_data.obs_id.values\n",
    "\n",
    "cell_topic.index = cell_names\n",
    "# remove donor name from the index\n",
    "# cell_topic.index = cell_topic.reset_index()['index'].apply(lambda name: name.split('__')[0])"
   ]
  },
  {
   "cell_type": "code",
   "execution_count": 33,
   "metadata": {},
   "outputs": [],
   "source": [
    "# from pycisTopic.cistopic_class import CistopicObject\n",
    "# cistopic_obj.cell_names\n",
    "# cistopic_obj.cell_data.obs_id\n",
    "# cell_topic"
   ]
  },
  {
   "cell_type": "code",
   "execution_count": 34,
   "metadata": {},
   "outputs": [],
   "source": [
    "cell_topic.to_csv('../output/figr/scATAC/cell_topic.csv')"
   ]
  },
  {
   "cell_type": "markdown",
   "metadata": {},
   "source": [
    "# Pipeline of FigR"
   ]
  },
  {
   "cell_type": "code",
   "execution_count": 1,
   "metadata": {},
   "outputs": [],
   "source": [
    "%load_ext rpy2.ipython"
   ]
  },
  {
   "cell_type": "code",
   "execution_count": 2,
   "metadata": {},
   "outputs": [
    {
     "data": {
      "text/plain": [
       "\n",
       "Attaching package: ‘dplyr’\n",
       "\n",
       "The following objects are masked from ‘package:stats’:\n",
       "\n",
       "    filter, lag\n",
       "\n",
       "The following objects are masked from ‘package:base’:\n",
       "\n",
       "    intersect, setdiff, setequal, union\n",
       "\n",
       "\n",
       "Loading required package: foreach\n",
       "Loading required package: iterators\n",
       "Loading required package: parallel\n",
       "Loading required package: MASS\n",
       "\n",
       "Attaching package: ‘MASS’\n",
       "\n",
       "The following object is masked from ‘package:dplyr’:\n",
       "\n",
       "    select\n",
       "\n",
       "Loading required package: ggplot2\n",
       "Loading required package: Matrix\n",
       "Loading required package: SummarizedExperiment\n",
       "Loading required package: MatrixGenerics\n",
       "Loading required package: matrixStats\n",
       "\n",
       "Attaching package: ‘matrixStats’\n",
       "\n",
       "The following object is masked from ‘package:dplyr’:\n",
       "\n",
       "    count\n",
       "\n",
       "\n",
       "Attaching package: ‘MatrixGenerics’\n",
       "\n",
       "The following objects are masked from ‘package:matrixStats’:\n",
       "\n",
       "    colAlls, colAnyNAs, colAnys, colAvgsPerRowSet, colCollapse,\n",
       "    colCounts, colCummaxs, colCummins, colCumprods, colCumsums,\n",
       "    colDiffs, colIQRDiffs, colIQRs, colLogSumExps, colMadDiffs,\n",
       "    colMads, colMaxs, colMeans2, colMedians, colMins, colOrderStats,\n",
       "    colProds, colQuantiles, colRanges, colRanks, colSdDiffs, colSds,\n",
       "    colSums2, colTabulates, colVarDiffs, colVars, colWeightedMads,\n",
       "    colWeightedMeans, colWeightedMedians, colWeightedSds,\n",
       "    colWeightedVars, rowAlls, rowAnyNAs, rowAnys, rowAvgsPerColSet,\n",
       "    rowCollapse, rowCounts, rowCummaxs, rowCummins, rowCumprods,\n",
       "    rowCumsums, rowDiffs, rowIQRDiffs, rowIQRs, rowLogSumExps,\n",
       "    rowMadDiffs, rowMads, rowMaxs, rowMeans2, rowMedians, rowMins,\n",
       "    rowOrderStats, rowProds, rowQuantiles, rowRanges, rowRanks,\n",
       "    rowSdDiffs, rowSds, rowSums2, rowTabulates, rowVarDiffs, rowVars,\n",
       "    rowWeightedMads, rowWeightedMeans, rowWeightedMedians,\n",
       "    rowWeightedSds, rowWeightedVars\n",
       "\n",
       "Loading required package: GenomicRanges\n",
       "Loading required package: stats4\n",
       "Loading required package: BiocGenerics\n",
       "\n",
       "Attaching package: ‘BiocGenerics’\n",
       "\n",
       "The following objects are masked from ‘package:dplyr’:\n",
       "\n",
       "    combine, intersect, setdiff, union\n",
       "\n",
       "The following objects are masked from ‘package:stats’:\n",
       "\n",
       "    IQR, mad, sd, var, xtabs\n",
       "\n",
       "The following objects are masked from ‘package:base’:\n",
       "\n",
       "    anyDuplicated, aperm, append, as.data.frame, basename, cbind,\n",
       "    colnames, dirname, do.call, duplicated, eval, evalq, Filter, Find,\n",
       "    get, grep, grepl, intersect, is.unsorted, lapply, Map, mapply,\n",
       "    match, mget, order, paste, pmax, pmax.int, pmin, pmin.int,\n",
       "    Position, rank, rbind, Reduce, rownames, sapply, setdiff, sort,\n",
       "    table, tapply, union, unique, unsplit, which.max, which.min\n",
       "\n",
       "Loading required package: S4Vectors\n",
       "\n",
       "Attaching package: ‘S4Vectors’\n",
       "\n",
       "The following objects are masked from ‘package:Matrix’:\n",
       "\n",
       "    expand, unname\n",
       "\n",
       "The following objects are masked from ‘package:dplyr’:\n",
       "\n",
       "    first, rename\n",
       "\n",
       "The following object is masked from ‘package:utils’:\n",
       "\n",
       "    findMatches\n",
       "\n",
       "The following objects are masked from ‘package:base’:\n",
       "\n",
       "    expand.grid, I, unname\n",
       "\n",
       "Loading required package: IRanges\n",
       "\n",
       "Attaching package: ‘IRanges’\n",
       "\n",
       "The following objects are masked from ‘package:dplyr’:\n",
       "\n",
       "    collapse, desc, slice\n",
       "\n",
       "Loading required package: GenomeInfoDb\n",
       "Loading required package: Biobase\n",
       "Welcome to Bioconductor\n",
       "\n",
       "    Vignettes contain introductory material; view with\n",
       "    'browseVignettes()'. To cite Bioconductor, see\n",
       "    'citation(\"Biobase\")', and for packages 'citation(\"pkgname\")'.\n",
       "\n",
       "\n",
       "Attaching package: ‘Biobase’\n",
       "\n",
       "The following object is masked from ‘package:MatrixGenerics’:\n",
       "\n",
       "    rowMedians\n",
       "\n",
       "The following objects are masked from ‘package:matrixStats’:\n",
       "\n",
       "    anyMissing, rowMedians\n",
       "\n",
       "Loading required package: cowplot\n",
       "Loading required package: motifmatchr\n",
       "Loading required package: BSgenome\n",
       "Loading required package: Biostrings\n",
       "Loading required package: XVector\n",
       "\n",
       "Attaching package: ‘Biostrings’\n",
       "\n",
       "The following object is masked from ‘package:base’:\n",
       "\n",
       "    strsplit\n",
       "\n",
       "Loading required package: BiocIO\n",
       "Loading required package: rtracklayer\n",
       "\n",
       "Attaching package: ‘rtracklayer’\n",
       "\n",
       "The following object is masked from ‘package:BiocIO’:\n",
       "\n",
       "    FileForFormat\n",
       "\n",
       "In addition: Warning message:\n",
       "In (function (package, help, pos = 2, lib.loc = NULL, character.only = FALSE,  :\n",
       "  library ‘/usr/lib/R/site-library’ contains no packages\n"
      ]
     },
     "metadata": {},
     "output_type": "display_data"
    }
   ],
   "source": [
    "%%R \n",
    "options(digits=5, max.print=100)  # Adjust numbers as needed\n",
    "set.seed(123)\n",
    "\n",
    "library(dplyr)\n",
    "library(FNN)\n",
    "library(chromVAR)\n",
    "library(doParallel)\n",
    "library(BuenColors)\n",
    "library(FigR)\n",
    "library(BSgenome.Hsapiens.UCSC.hg38)"
   ]
  },
  {
   "cell_type": "markdown",
   "metadata": {},
   "source": [
    "## Load atac-seq and create summarizedexperiment"
   ]
  },
  {
   "cell_type": "code",
   "execution_count": 3,
   "metadata": {},
   "outputs": [
    {
     "name": "stdout",
     "output_type": "stream",
     "text": [
      "[1] 135358  25551\n"
     ]
    }
   ],
   "source": [
    "%%R \n",
    "X <- readMM(\"../output/figr/scATAC/X_matrix.mtx\")\n",
    "X <- t(X)\n",
    "annotation_peak <- read.csv(\"../output/figr/scATAC/annotation_peak.csv\", row.names = 1)\n",
    "annotation_cells <- read.csv(\"../output/figr/scATAC/annotation_cells.csv\", row.names = 1)\n",
    "\n",
    "# Filter out entries where seqname is 'chr10'\n",
    "filter_indices <- grepl(\"^chr\", annotation_peak$seqname)\n",
    "annotation_peak_filtered <- annotation_peak[filter_indices, ]\n",
    "\n",
    "# Filter the rows in X\n",
    "X_filtered <- X[filter_indices, ]\n",
    "\n",
    "# Create the SummarizedExperiment object with the filtered data\n",
    "atac <- SummarizedExperiment(assays = list(counts = X_filtered), \n",
    "                             rowRanges = GRanges(annotation_peak_filtered$seqname,\n",
    "                             IRanges(annotation_peak_filtered$ranges)), \n",
    "                             colData = DataFrame(annotation_cells))\n",
    "colnames(atac) <- annotation_cells$obs_id    \n",
    "\n",
    "dim(atac) #peaks*cells"
   ]
  },
  {
   "cell_type": "markdown",
   "metadata": {},
   "source": [
    "### Load RNA-seq and create sparsematrix"
   ]
  },
  {
   "cell_type": "code",
   "execution_count": 4,
   "metadata": {},
   "outputs": [
    {
     "name": "stdout",
     "output_type": "stream",
     "text": [
      "[1] 22787 25551\n"
     ]
    }
   ],
   "source": [
    "%%R \n",
    "XX <- readMM(\"../output/figr/scRNA/X_matrix.mtx\")\n",
    "XX <- t(XX)\n",
    "annotation_gene <- read.csv(\"../output/figr/scRNA/annotation_gene.csv\", row.names = 1)\n",
    "annotation_cells <- read.csv(\"../output/figr/scRNA/annotation_cells.csv\", row.names = 1)\n",
    "\n",
    "rna <- as(XX, \"CsparseMatrix\")\n",
    "rownames(rna) <- annotation_gene$location\n",
    "colnames(rna) <- annotation_cells$obs_id\n",
    "\n",
    "# Remove genes with zero expression across all cells\n",
    "rna <- rna[Matrix::rowSums(rna)!=0,]\n",
    "\n",
    "dim(rna) # genes*cells"
   ]
  },
  {
   "cell_type": "markdown",
   "metadata": {},
   "source": [
    "## load cell topic probabilities and create cell-cluster matrix\n"
   ]
  },
  {
   "cell_type": "code",
   "execution_count": 5,
   "metadata": {},
   "outputs": [
    {
     "name": "stdout",
     "output_type": "stream",
     "text": [
      "[1] 25551    48\n",
      "[1] 25551    48\n"
     ]
    }
   ],
   "source": [
    "%%R \n",
    "n_topics = 48\n",
    "cell_topic <- read.csv('../output/figr/scATAC/cell_topic.csv', row.names = 1)\n",
    "print(dim(cell_topic))\n",
    "# Derive cell kNN using this\n",
    "cellkNN <- get.knn(cell_topic, k=n_topics)$nn.index\n",
    "rownames(cellkNN) <- rownames(cell_topic)\n",
    "print(dim(cellkNN))"
   ]
  },
  {
   "cell_type": "markdown",
   "metadata": {},
   "source": [
    "## Save data"
   ]
  },
  {
   "cell_type": "code",
   "execution_count": 7,
   "metadata": {},
   "outputs": [],
   "source": [
    "%%R \n",
    "n_cells_to_keep = dim(rna)[2]\n",
    "cellsToKeep <- sample(colnames(atac), size = n_cells_to_keep, replace = FALSE)\n",
    "atac_short = atac[, cellsToKeep]\n",
    "rna_short = rna[, cellsToKeep]\n",
    "cellkNN_short = cellkNN[cellsToKeep,]\n",
    "\n",
    "saveRDS(atac_short, '../output/figr/scATAC/atac.rds')\n",
    "saveRDS(rna_short, '../output/figr/scRNA/rna.rds')\n",
    "saveRDS(cellkNN_short, '../output/figr/cellkNN.rds')\n"
   ]
  },
  {
   "cell_type": "markdown",
   "metadata": {},
   "source": [
    "## Peak-gene association testing"
   ]
  },
  {
   "cell_type": "code",
   "execution_count": 8,
   "metadata": {},
   "outputs": [
    {
     "name": "stdout",
     "output_type": "stream",
     "text": [
      "Matrix object input detectedCentering counts for cells sequentially in groups of size  1000  ..\n",
      "\n",
      "Computing centered counts for cells:  1  to  1000 ..\n",
      "Computing centered counts per cell using mean reads in features ..\n",
      "\n",
      "Computing centered counts for cells:  1001  to  2000 ..\n",
      "Computing centered counts per cell using mean reads in features ..\n",
      "\n",
      "Computing centered counts for cells:  2001  to  3000 ..\n",
      "Computing centered counts per cell using mean reads in features ..\n",
      "\n",
      "Computing centered counts for cells:  3001  to  4000 ..\n",
      "Computing centered counts per cell using mean reads in features ..\n",
      "\n",
      "Computing centered counts for cells:  4001  to  5000 ..\n",
      "Computing centered counts per cell using mean reads in features ..\n",
      "\n",
      "Computing centered counts for cells:  5001  to  6000 ..\n",
      "Computing centered counts per cell using mean reads in features ..\n",
      "\n",
      "Computing centered counts for cells:  6001  to  7000 ..\n",
      "Computing centered counts per cell using mean reads in features ..\n",
      "\n",
      "Computing centered counts for cells:  7001  to  8000 ..\n",
      "Computing centered counts per cell using mean reads in features ..\n",
      "\n",
      "Computing centered counts for cells:  8001  to  9000 ..\n",
      "Computing centered counts per cell using mean reads in features ..\n",
      "\n",
      "Computing centered counts for cells:  9001  to  10000 ..\n",
      "Computing centered counts per cell using mean reads in features ..\n",
      "\n",
      "Computing centered counts for cells:  10001  to  11000 ..\n",
      "Computing centered counts per cell using mean reads in features ..\n",
      "\n",
      "Computing centered counts for cells:  11001  to  12000 ..\n",
      "Computing centered counts per cell using mean reads in features ..\n",
      "\n",
      "Computing centered counts for cells:  12001  to  13000 ..\n",
      "Computing centered counts per cell using mean reads in features ..\n",
      "\n",
      "Computing centered counts for cells:  13001  to  14000 ..\n",
      "Computing centered counts per cell using mean reads in features ..\n",
      "\n",
      "Computing centered counts for cells:  14001  to  15000 ..\n",
      "Computing centered counts per cell using mean reads in features ..\n",
      "\n",
      "Computing centered counts for cells:  15001  to  16000 ..\n",
      "Computing centered counts per cell using mean reads in features ..\n",
      "\n",
      "Computing centered counts for cells:  16001  to  17000 ..\n",
      "Computing centered counts per cell using mean reads in features ..\n",
      "\n",
      "Computing centered counts for cells:  17001  to  18000 ..\n",
      "Computing centered counts per cell using mean reads in features ..\n",
      "\n",
      "Computing centered counts for cells:  18001  to  19000 ..\n",
      "Computing centered counts per cell using mean reads in features ..\n",
      "\n",
      "Computing centered counts for cells:  19001  to  20000 ..\n",
      "Computing centered counts per cell using mean reads in features ..\n",
      "\n",
      "Computing centered counts for cells:  20001  to  21000 ..\n",
      "Computing centered counts per cell using mean reads in features ..\n",
      "\n",
      "Computing centered counts for cells:  21001  to  22000 ..\n",
      "Computing centered counts per cell using mean reads in features ..\n",
      "\n",
      "Computing centered counts for cells:  22001  to  23000 ..\n",
      "Computing centered counts per cell using mean reads in features ..\n",
      "\n",
      "Computing centered counts for cells:  23001  to  24000 ..\n",
      "Computing centered counts per cell using mean reads in features ..\n",
      "\n",
      "Computing centered counts for cells:  24001  to  25000 ..\n",
      "Computing centered counts per cell using mean reads in features ..\n",
      "\n",
      "Computing centered counts for cells:  25001  to  25551 ..\n",
      "Computing centered counts per cell using mean reads in features ..\n",
      "\n",
      "Merging results..\n",
      "Done!\n",
      "Number of peaks in ATAC data: 135358 \n",
      "Number of genes in RNA data: 22787 \n",
      "\n",
      "Num genes overlapping TSS annotation and RNA matrix being considered:  16076 \n",
      "\n",
      "Taking peak summits from peak windows ..\n",
      "Finding overlapping peak-gene pairs ..\n",
      "Found  158643 total gene-peak pairs for given TSS window ..\n",
      "Number of peak summits that overlap any gene TSS window:  84139 \n",
      "Number of gene TSS windows that overlap any peak summit:  15449 \n",
      "\n",
      "Determining background peaks ..\n",
      "Using  100  iterations ..\n",
      "\n",
      "Computing gene-peak correlations ..\n",
      "Running pairs:  1 to 5000 \n",
      "Running in parallel using  40 cores ..\n",
      "Computing observed correlations ..\n",
      "  |                                                              |   0%, ETA NA"
     ]
    },
    {
     "name": "stderr",
     "output_type": "stream",
     "text": [
      "Exception ignored from cffi callback <function _consolewrite_ex at 0x7f01713f40d0>:\n",
      "Traceback (most recent call last):\n",
      "  File \"/root/anaconda3/envs/scenicplus/lib/python3.8/site-packages/rpy2/rinterface_lib/callbacks.py\", line 130, in _consolewrite_ex\n",
      "    @ffi_proxy.callback(ffi_proxy._consolewrite_ex_def,\n",
      "KeyboardInterrupt: \n"
     ]
    },
    {
     "name": "stdout",
     "output_type": "stream",
     "text": [
      "  |=======================================================| 100%, Elapsed 00:08\n",
      "Finished!\n",
      "\n",
      "Time Elapsed:  7.81739735603333 secs \n",
      "\n",
      "Computing background correlations ..\n",
      "  |=====================================================      |  90%, ETA 00:01"
     ]
    }
   ],
   "source": [
    "%%R \n",
    "options(digits=5, max.print=100)  # Adjust numbers as needed\n",
    "set.seed(123)\n",
    "\n",
    "library(dplyr)\n",
    "library(FNN)\n",
    "library(chromVAR)\n",
    "library(doParallel)\n",
    "library(BuenColors)\n",
    "library(FigR)\n",
    "library(BSgenome.Hsapiens.UCSC.hg38)\n",
    "\n",
    "\n",
    "if (!dir.exists(\"../output/figr/grn/\")) {\n",
    "  dir.create(\"../output/figr/grn/\", recursive = TRUE)\n",
    "}\n",
    "\n",
    "atac_short = readRDS('../output/figr/scATAC/atac.rds')\n",
    "rna_short  = readRDS('../output/figr/scRNA/rna.rds')\n",
    "cisCorr <- FigR::runGenePeakcorr(ATAC.se = atac_short,\n",
    "                           RNAmat = rna_short,\n",
    "                           genome = \"hg38\", # One of hg19, mm10 or hg38 \n",
    "                           nCores = 40,\n",
    "                           p.cut = NULL, # Set this to NULL and we can filter later\n",
    "                           n_bg = 100)\n",
    "write.csv(cisCorr, \"../output/figr/grn/cisCorr.csv\", row.names = TRUE)"
   ]
  },
  {
   "cell_type": "code",
   "execution_count": null,
   "metadata": {},
   "outputs": [],
   "source": [
    "%%R \n",
    "cisCorr = read.csv(\"../output/figr/grn/cisCorr.csv\")\n",
    "cisCorr.filt <- cisCorr %>% filter(pvalZ <= 0.05)\n",
    "\n",
    "dorcGenes <- dorcJPlot(dorcTab = cisCorr.filt,\n",
    "                         cutoff = 10, # No. sig peaks needed to be called a DORC\n",
    "                         labelTop = 20,\n",
    "                         returnGeneList = TRUE, # Set this to FALSE for just the plot\n",
    "                         force=2)\n",
    "# Unfiltered\n",
    "numDorcs <- cisCorr.filt %>% group_by(Gene) %>% tally() %>% arrange(desc(n))\n",
    "# numDorcs"
   ]
  },
  {
   "cell_type": "markdown",
   "metadata": {},
   "source": [
    "## Create DORCs and smooth them "
   ]
  },
  {
   "cell_type": "code",
   "execution_count": null,
   "metadata": {},
   "outputs": [],
   "source": [
    "%%R \n",
    "allGenes = unique(cisCorr.filt$Gene) \n",
    "dorcMat <- getDORCScores(ATAC.se = atac_short, # Has to be same SE as used in previous step\n",
    "                         dorcTab = cisCorr.filt,\n",
    "                         geneList = allGenes,\n",
    "                         nCores = 4)"
   ]
  },
  {
   "cell_type": "code",
   "execution_count": null,
   "metadata": {},
   "outputs": [],
   "source": [
    "%%R \n",
    "cellkNN = readRDS('../output/figr/cellkNN.rds')\n",
    "# Smooth dorc scores using cell KNNs (k=n_topics)\n",
    "dorcMat.s <- smoothScoresNN(NNmat = cellkNN[,1:n_topics], mat = dorcMat,nCores = 4)\n",
    "\n",
    "# Smooth RNA using cell KNNs\n",
    "# This takes longer since it's all genes\n",
    "RNAmat.s <- smoothScoresNN(NNmat = cellkNN[,1:n_topics],mat = rna_short,nCores = 4)"
   ]
  },
  {
   "cell_type": "code",
   "execution_count": null,
   "metadata": {},
   "outputs": [],
   "source": [
    "%%R # save it as we will need it for TF gene associations \n",
    "write.csv(cisCorr.filt, '../output/figr/grn/cisCorr.filt.csv')\n",
    "saveRDS(RNAmat.s, '../output/figr/grn/RNAmat.s.RDS')\n",
    "saveRDS(dorcMat.s, '../output/figr/grn/dorcMat.s.RDS')"
   ]
  },
  {
   "cell_type": "markdown",
   "metadata": {},
   "source": [
    "## TF-gene associations\n",
    "Do not run this locally."
   ]
  },
  {
   "cell_type": "code",
   "execution_count": null,
   "metadata": {},
   "outputs": [],
   "source": [
    "%%R \n",
    "cisCorr.filt = read.csv('../output/figr/grn/cisCorr.filt.csv')\n",
    "RNAmat.s = readRDS('../output/figr/grn/RNAmat.s.RDS')\n",
    "dorcMat.s = readRDS('../output/figr/grn/dorcMat.s.RDS')\n",
    "atac_short = readRDS('../output/figr/grn/atac_short.rds')\n",
    "figR.d <- runFigRGRN(ATAC.se = atac_short, # Must be the same input as used in runGenePeakcorr()\n",
    "                     dorcTab = cisCorr.filt, # Filtered peak-gene associations\n",
    "                     genome = \"hg38\",\n",
    "                     dorcMat = dorcMat.s,\n",
    "                     rnaMat = RNAmat.s, \n",
    "                     nCores = 30)\n",
    "write.csv(figR.d, 'figR.d.csv')"
   ]
  },
  {
   "cell_type": "markdown",
   "metadata": {},
   "source": [
    "## Evaluation of results"
   ]
  },
  {
   "cell_type": "code",
   "execution_count": null,
   "metadata": {},
   "outputs": [],
   "source": [
    "%%R \n",
    "figR.d = read.csv('../output/figr/grn/figR.d.csv')\n",
    "\n",
    "figR.d %>% \n",
    "  ggplot(aes(Corr.log10P,Enrichment.log10P,color=Score)) + \n",
    "  ggrastr::geom_point_rast(size=0.01,shape=n_topics) + \n",
    "  theme_classic() + \n",
    "  scale_color_gradientn(colours = jdb_palette(\"solar_extra\"),limits=c(-3,3),oob = scales::squish,breaks=scales::breaks_pretty(n=3))"
   ]
  },
  {
   "cell_type": "code",
   "execution_count": null,
   "metadata": {},
   "outputs": [],
   "source": [
    "%%R \n",
    "rankDrivers(figR.d,rankBy = \"meanScore\",interactive = FALSE)"
   ]
  },
  {
   "cell_type": "markdown",
   "metadata": {},
   "source": [
    "## Process the results and output final GRN"
   ]
  },
  {
   "cell_type": "code",
   "execution_count": null,
   "metadata": {},
   "outputs": [],
   "source": [
    "import pandas as pd\n",
    "import numpy as np"
   ]
  },
  {
   "cell_type": "markdown",
   "metadata": {},
   "source": [
    "### GRN "
   ]
  },
  {
   "cell_type": "code",
   "execution_count": null,
   "metadata": {},
   "outputs": [],
   "source": [
    "figr_grn = pd.read_csv('../output/figr/grn/figR.d_all.csv', index_col=0)\n",
    "# filter based on enrichment \n",
    "figr_grn = figr_grn[figr_grn['Enrichment.P']<0.05]\n",
    "# filter bsaed on correlatoon\n",
    "figr_grn = figr_grn[figr_grn['Corr.P']<0.05]\n",
    "# filter thoes that are 0 score \n",
    "figr_grn = figr_grn[figr_grn.Score!=0]\n",
    "# subset columns\n",
    "figr_grn = figr_grn[['Motif', 'DORC', 'Score']]\n",
    "figr_grn = figr_grn.reset_index(drop=True)\n",
    "figr_grn.columns = ['source', 'target','weight']\n",
    "figr_grn.to_csv('../output/FigR/grn.csv')"
   ]
  },
  {
   "cell_type": "markdown",
   "metadata": {},
   "source": [
    "### Peak-gene"
   ]
  },
  {
   "cell_type": "code",
   "execution_count": null,
   "metadata": {},
   "outputs": [],
   "source": [
    "# load peak-gene association after filtering for significant\n",
    "peak_gene_figr = pd.read_csv('../output/figr/grn/cisCorr.filt.csv', index_col=0)\n",
    "peak_gene_figr_n = peak_gene_figr.groupby('Gene').apply(lambda df:df['PeakRanges'].shape[0])\n",
    "np.max(peak_gene_figr_n.values), np.median(peak_gene_figr_n.values)\n",
    "peak_gene_figr.to_csv('../output/figr/grn/peak_gene.csv')\n",
    "print('In the peak-gene associations: number of  CIS ', peak_gene_figr.PeakRanges.unique().shape[0], ', gene ', peak_gene_figr.Gene.unique().shape[0])\n",
    "print('number of DORC genes ', (peak_gene_figr_n.values >= 5).sum())"
   ]
  }
 ],
 "metadata": {
  "kernelspec": {
   "display_name": "py10",
   "language": "python",
   "name": "python3"
  },
  "language_info": {
   "codemirror_mode": {
    "name": "ipython",
    "version": 3
   },
   "file_extension": ".py",
   "mimetype": "text/x-python",
   "name": "python",
   "nbconvert_exporter": "python",
   "pygments_lexer": "ipython3",
   "version": "3.8.17"
  }
 },
 "nbformat": 4,
 "nbformat_minor": 2
}
