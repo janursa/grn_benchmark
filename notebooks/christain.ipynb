{
 "cells": [
  {
   "cell_type": "code",
   "execution_count": 1,
   "metadata": {},
   "outputs": [],
   "source": [
    "%load_ext rpy2.ipython"
   ]
  },
  {
   "cell_type": "code",
   "execution_count": 4,
   "metadata": {},
   "outputs": [
    {
     "name": "stdout",
     "output_type": "stream",
     "text": [
      "  |                                                  | 0 % ~calculating   |++                                                | 4 % ~51s           |++++                                              | 8 % ~44s           |++++++                                            | 12% ~43s           |++++++++                                          | 16% ~37s           |++++++++++                                        | 20% ~33s           |++++++++++++                                      | 24% ~30s           |++++++++++++++                                    | 28% ~28s           |++++++++++++++++                                  | 32% ~26s           |++++++++++++++++++                                | 36% ~23s           |++++++++++++++++++++                              | 40% ~22s           |++++++++++++++++++++++                            | 44% ~20s           |++++++++++++++++++++++++                          | 48% ~19s           |++++++++++++++++++++++++++                        | 52% ~17s           |++++++++++++++++++++++++++++                      | 56% ~15s           |++++++++++++++++++++++++++++++                    | 60% ~14s           |++++++++++++++++++++++++++++++++                  | 64% ~12s           |++++++++++++++++++++++++++++++++++                | 68% ~10s           |++++++++++++++++++++++++++++++++++++              | 72% ~09s           |++++++++++++++++++++++++++++++++++++++            | 76% ~08s           |++++++++++++++++++++++++++++++++++++++++          | 80% ~06s           |++++++++++++++++++++++++++++++++++++++++++        | 84% ~05s           |++++++++++++++++++++++++++++++++++++++++++++      | 88% ~03s           |++++++++++++++++++++++++++++++++++++++++++++++    | 92% ~02s           |++++++++++++++++++++++++++++++++++++++++++++++++  | 96% ~01s           |++++++++++++++++++++++++++++++++++++++++++++++++++| 100% elapsed=27s  \n",
      "An object of class Seurat \n",
      "157452 features across 7830 samples within 2 assays \n",
      "Active assay: RNA (22272 features, 0 variable features)\n",
      " 1 layer present: counts\n",
      " 1 other assay present: peaks\n"
     ]
    },
    {
     "data": {
      "text/plain": [
       "In addition: There were 24 warnings (use warnings() to see them)\n"
      ]
     },
     "metadata": {},
     "output_type": "display_data"
    }
   ],
   "source": [
    "%%R \n",
    "options(digits=5, max.print=100)  # Adjust numbers as needed\n",
    "set.seed(123)\n",
    "\n",
    "# library(Pando)\n",
    "library(Seurat)\n",
    "library(BSgenome.Hsapiens.UCSC.hg38)\n",
    "library(Signac)\n",
    "library(EnsDb.Hsapiens.v86)\n",
    "\n",
    "library(Matrix)\n",
    "#-------- import atac-seq count matrix and metadata and creat assay\n",
    "X <- readMM(\"../output/figr/scATAC/matrix_annot/X_matrix.mtx\")\n",
    "X <- t(X)\n",
    "annotation_peak <- read.csv(\"../output/figr/scATAC/matrix_annot/annotation_peak.csv\", row.names = 1)\n",
    "annotation_cells <- read.csv(\"../output/figr/scATAC/matrix_annot/annotation_cells.csv\", row.names = 1)\n",
    "\n",
    "# Filter out entries where seqname is not chr \n",
    "filter_indices <- grepl(\"^chr\", annotation_peak$seqname)\n",
    "annotation_peak_filtered <- annotation_peak[filter_indices, ]\n",
    "\n",
    "# Filter the rows in X\n",
    "X_filtered <- X[filter_indices, ]\n",
    "  \n",
    "peaks_matrix <- X_filtered\n",
    "colnames(peaks_matrix) <- annotation_cells$obs_id \n",
    "\n",
    "rownames(peaks_matrix) = paste(annotation_peak_filtered$seqname, annotation_peak_filtered$ranges, sep = \"_\")\n",
    "atac_assay <- CreateChromatinAssay(counts = peaks_matrix, ranges=GRanges(annotation_peak_filtered$seqname,\n",
    "                              IRanges(annotation_peak_filtered$ranges)), \n",
    "                             colData = DataFrame(annotation_cells), genome = \"hg38\")\n",
    "annotations <- GetGRangesFromEnsDb(ensdb = EnsDb.Hsapiens.v86)\n",
    "seqlevelsStyle(annotations) <- \"UCSC\"\n",
    "genome(annotations) <- \"hg38\"\n",
    "Annotation(atac_assay) <- annotations\n",
    "#-------- import rna-seq count matrix (with row and col names already assigned ) and create seurat object\n",
    "rna_short  = readRDS('../output/figr/rna_short.rds')\n",
    "seurat_object <- CreateSeuratObject(count = rna_short, project = \"pbmc\", min.cells = 3, min.features = 200)\n",
    "# add peaks\n",
    "seurat_object[[\"peaks\"]] = atac_assay\n",
    "\n",
    "seurat_object"
   ]
  }
 ],
 "metadata": {
  "kernelspec": {
   "display_name": "py10",
   "language": "python",
   "name": "python3"
  },
  "language_info": {
   "codemirror_mode": {
    "name": "ipython",
    "version": 3
   },
   "file_extension": ".py",
   "mimetype": "text/x-python",
   "name": "python",
   "nbconvert_exporter": "python",
   "pygments_lexer": "ipython3",
   "version": "3.10.12"
  }
 },
 "nbformat": 4,
 "nbformat_minor": 2
}
