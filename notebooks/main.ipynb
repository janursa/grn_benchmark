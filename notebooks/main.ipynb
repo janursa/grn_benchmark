{
 "cells": [
  {
   "cell_type": "markdown",
   "metadata": {},
   "source": [
    "# Evaluation of multi-omics GRN inference methods\n",
    "## Benchmarking of the inferred GRNs\n",
    "### by Jalil Nourisa\n",
    "\n",
    "Competition Overview: https://www.kaggle.com/competitions/open-problems-single-cell-perturbations/overview"
   ]
  },
  {
   "cell_type": "markdown",
   "metadata": {},
   "source": [
    "# Imports"
   ]
  },
  {
   "cell_type": "code",
   "execution_count": 1,
   "metadata": {},
   "outputs": [
    {
     "name": "stderr",
     "output_type": "stream",
     "text": [
      "/root/.local/lib/python3.10/site-packages/numba/np/ufunc/parallel.py:371: NumbaWarning: The TBB threading layer requires TBB version 2021 update 6 or later i.e., TBB_INTERFACE_VERSION >= 12060. Found TBB_INTERFACE_VERSION = 12050. The TBB threading layer is disabled.\n",
      "  warnings.warn(problem)\n"
     ]
    },
    {
     "name": "stdout",
     "output_type": "stream",
     "text": [
      "raw\n",
      "Number of housekeeping genes: 3387\n"
     ]
    },
    {
     "data": {
      "text/plain": [
       "(2197, 10750)"
      ]
     },
     "execution_count": 1,
     "metadata": {},
     "output_type": "execute_result"
    }
   ],
   "source": [
    "\n",
    "data_type = 'raw' # 'de_train', 'raw'\n",
    "\n",
    "import os\n",
    "import gzip\n",
    "import pandas as pd\n",
    "import numpy as np\n",
    "import anndata as ad\n",
    "from sklearn.model_selection import LeaveOneOut, StratifiedKFold, GridSearchCV, RandomizedSearchCV, train_test_split, LeaveOneGroupOut, KFold\n",
    "from sklearn.metrics import r2_score, mean_absolute_error\n",
    "from sklearn.cluster import KMeans\n",
    "import scanpy as sc\n",
    "import matplotlib.pyplot as plt\n",
    "import tqdm\n",
    "import scipy\n",
    "import decoupler as dc\n",
    "import seaborn as sns\n",
    "import json\n",
    "import category_encoders as ce\n",
    "import warnings\n",
    "from sklearn.ensemble import RandomForestRegressor\n",
    "from sklearn.linear_model import Ridge, ElasticNet\n",
    "from sklearn.decomposition import TruncatedSVD, PCA\n",
    "from sklearn.preprocessing import StandardScaler, OneHotEncoder, LabelEncoder\n",
    "from sklearn.multioutput import MultiOutputRegressor\n",
    "from scipy.sparse import csr_matrix\n",
    "from venn import venn\n",
    "\n",
    "%matplotlib inline\n",
    "\n",
    "surragate_names = {'collectRI':'CollectRI', 'collectRI_sign':'CollectRI-signs',\n",
    "                   'sp_grn':'Scenic+', 'sp_ct':'Scenic+', 'sp_grn_sign': 'Scenic+-signs',\n",
    "                   'co_grn':'CellOracle', 'co_ct':'CellOracle', 'co_grn_sign':'CellOracle-signs',\n",
    "                   'figr_grn':'FigR', 'figr_ct':'FigR', 'figr_grn_sign':'FigR-signs',\n",
    "                   'baseline':'Baseline',\n",
    "                   'cov_net': 'Pearson cov',\n",
    "                   }\n",
    "\n",
    "\n",
    "work_dir = '../output'\n",
    "os.makedirs(f'{work_dir}', exist_ok=True)\n",
    "\n",
    "train_cell_types = ['T cells CD4+', 'NK cells', 'T regulatory cells', 'T cells CD8+']\n",
    "train_sm_names = ['Belinostat', 'CHIR-99021', 'Crizotinib', 'Dabrafenib',\n",
    "       'Dactolisib', 'Foretinib', 'Idelalisib', 'LDN 193189',\n",
    "       'Linagliptin', 'O-Demethylated Adapalene', 'Palbociclib',\n",
    "       'Penfluridol', 'Porcn Inhibitor III', 'R428']\n",
    "test_celltypes = ['B cells', 'Myeloid cells'] \n",
    "agg_type = ['T regulatory cells', 'T cells CD8+', 'T cells CD4+']\n",
    "cell_types_dummy = ['agg_type', 'NK cells', 'B cells', 'Myeloid cells']\n",
    "all_cell_types = ['T cells CD4+', 'NK cells', 'T regulatory cells', 'T cells CD8+', 'B cells', 'Myeloid cells']\n",
    "cell_type_map_agg = {cell_type: 'agg_type' if cell_type in agg_type else cell_type for cell_type in all_cell_types}\n",
    "\n",
    "controls3 = ['Dabrafenib', 'Belinostat', 'Dimethyl Sulfoxide']\n",
    "control_compound = 'Dimethyl Sulfoxide'\n",
    "\n",
    "print(data_type)\n",
    "if data_type == 'de_train':\n",
    "    # df_train = pd.read_parquet(f'{work_dir}/preprocess/limma/de_train_t.parquet')\n",
    "    # df_train = pd.read_parquet(f'{work_dir}/de_analysis/edger/voom_lmfit/de_train_t.parquet')\n",
    "    df_train = pd.read_parquet(f'{work_dir}/de_analysis/edger/voom_lmfit/de_train_p.parquet')\n",
    "elif data_type == 'raw':\n",
    "    bulk_index = ['sm_name', 'cell_type', 'plate_name', 'row']\n",
    "    # bulk_adata = ad.read_h5ad(f'{work_dir}/preprocess/bulk_adata_f.h5ad')\n",
    "    bulk_adata = ad.read_h5ad(f'{work_dir}/preprocess/bulk_adata_f_n_pearson.h5ad')\n",
    "    # bulk_adata = ad.read_h5ad(f'{work_dir}/preprocess/bulk_adata_f_n_shifted_algorithm.h5ad')\n",
    "    # bulk_adata = ad.read_h5ad(f'{work_dir}/preprocess/bulk_adata_f_n_custom.h5ad')\n",
    "    \n",
    "    \n",
    "    bulk_adata_df = pd.DataFrame(bulk_adata.X, columns=bulk_adata.var.gene, index=bulk_adata.obs.index)\n",
    "    bulk_adata_df = pd.concat([bulk_adata.obs[bulk_index],  bulk_adata_df], axis=1).set_index(bulk_index)\n",
    "    df_train = bulk_adata_df\n",
    "else:\n",
    "    raise ValueError('')\n",
    "def shuffle_grn(grn):\n",
    "    grn_s = grn.copy()\n",
    "    grn_s['source'] = grn_s['source'].sample(frac=1).reset_index(drop=True)\n",
    "    grn_s['target'] = grn_s['target'].sample(frac=1).reset_index(drop=True)\n",
    "    dup_flags = grn_s[['source','target']].duplicated()\n",
    "    grn_s = grn_s[~dup_flags].reset_index(drop=True)\n",
    "    if grn_s.duplicated().sum()>0:\n",
    "        raise ValueError('')\n",
    "    return grn_s\n",
    "def sign_grn(grn):\n",
    "    grn_sign = grn.copy()\n",
    "    weights = grn_sign.weight\n",
    "    weights = [1 if weight>0 else -1 for weight in weights]\n",
    "    grn_sign.weight = weights\n",
    "    return grn_sign\n",
    "\n",
    "\n",
    "# housekeeping genes\n",
    "if False:\n",
    "    df = pd.read_csv('https://www.tau.ac.il/~elieis/HKG/HK_genes.txt', sep=' ', header=None)\n",
    "\n",
    "    housekeeping_genes = df.loc[:, 0]  # Gene names\n",
    "    housekeeping_genes = df_train.columns[df_train.columns.isin(housekeeping_genes)].values\n",
    "    np.savetxt(f'{work_dir}/benchmark/housekeeping_genes.txt', housekeeping_genes, fmt='%s')\n",
    "else:\n",
    "    housekeeping_genes = np.loadtxt(f'{work_dir}/benchmark/housekeeping_genes.txt', dtype=str)\n",
    "\n",
    "print(f'Number of housekeeping genes: {len(housekeeping_genes)}')\n",
    "df_train.shape"
   ]
  },
  {
   "cell_type": "markdown",
   "metadata": {},
   "source": [
    "# Process inferred GRNs"
   ]
  },
  {
   "cell_type": "markdown",
   "metadata": {},
   "source": [
    "### Granie"
   ]
  },
  {
   "cell_type": "code",
   "execution_count": 436,
   "metadata": {},
   "outputs": [],
   "source": [
    "grn_granie = pd.read_csv(f'{work_dir}/infer/granie/grns/all.tsv', sep='\\t')\n",
    "grn_granie = grn_granie[['TF.name', 'peak.ID', 'gene.name', 'TF_gene.r']]\n",
    "grn_granie.columns = ['source', 'cis', 'target', 'weight']\n",
    "granie_ct = grn_granie[['cis', 'target']].drop_duplicates().reset_index(drop=True)\n",
    "granie_ct.to_csv(f'{work_dir}/benchmark/cis_target/granie_ct.csv')\n",
    "\n",
    "grn_granie = grn_granie.groupby(['source', 'target']).apply(lambda df:df['weight'].mean()).reset_index().rename(columns={0:'weight'})"
   ]
  },
  {
   "cell_type": "code",
   "execution_count": null,
   "metadata": {},
   "outputs": [],
   "source": [
    "grn_granie.to_csv(f'{work_dir}/granie/grns/granie_grn.tsv')"
   ]
  },
  {
   "cell_type": "markdown",
   "metadata": {},
   "source": [
    "## TF-target links"
   ]
  },
  {
   "cell_type": "code",
   "execution_count": 509,
   "metadata": {},
   "outputs": [],
   "source": [
    "collectRI = pd.read_csv('../../op_singlecell/input/collectri.csv', index_col=0)\n",
    "figr_grn = pd.read_csv(f'{work_dir}/infer/figr/grn/grn.csv', index_col=0)\n",
    "co_grn = pd.read_csv(f'{work_dir}/infer/celloracle/grn/co_grn.csv', index_col=0)\n",
    "co_grn_3000 = pd.read_csv(f'{work_dir}/infer/celloracle/grn/co_grn_3000.csv', index_col=0)\n",
    "sp_grn = pd.read_csv(f'{work_dir}/infer/scenicplus/grn/grn.csv', index_col=0)\n",
    "sp_grn_short = pd.read_csv(f'{work_dir}/infer/scenicplus/grn/grn_short.csv', index_col=0)\n",
    "granie_grn = pd.read_csv(f'{work_dir}/infer/granie/grns/granie_grn.tsv', index_col=0)\n"
   ]
  },
  {
   "cell_type": "code",
   "execution_count": 510,
   "metadata": {},
   "outputs": [
    {
     "name": "stdout",
     "output_type": "stream",
     "text": [
      "collectRI\n",
      "figr_grn\n",
      "co_grn\n",
      "co_grn_3000\n",
      "sp_grn\n",
      "sp_grn_short\n",
      "granie_grn\n"
     ]
    }
   ],
   "source": [
    "grn_model_names = [\"collectRI\", \"figr_grn\", \"co_grn\", \"co_grn_3000\", \"sp_grn\",  \"sp_grn_short\", 'granie_grn']\n",
    "grn_models = [collectRI, figr_grn, co_grn, co_grn_3000, sp_grn, sp_grn_short, granie_grn]\n",
    "grn_models_dict = {}\n",
    "for name, model in zip(grn_model_names, grn_models):\n",
    "    grn_models_dict[name] = model\n",
    "# save \n",
    "for name, grn_model in grn_models_dict.items():\n",
    "    print(name)\n",
    "    grn_model.to_csv(f'{work_dir}/benchmark/grn_models/{name}.csv')\n"
   ]
  },
  {
   "cell_type": "markdown",
   "metadata": {},
   "source": [
    "## Format cis target connections"
   ]
  },
  {
   "cell_type": "code",
   "execution_count": null,
   "metadata": {},
   "outputs": [],
   "source": [
    "# figr\n",
    "figr_ct = pd.read_csv(f'{work_dir}/figr/peak_gene.csv', index_col=0)[['PeakRanges', 'Gene']]\n",
    "figr_ct.columns = ['cis','target']\n",
    "# co\n",
    "co_ct = pd.read_csv(f'{work_dir}/celloracle/baseGRN/peak_gene.csv', index_col=0)\n",
    "co_ct.columns = ['cis','target']\n",
    "# cp \n",
    "sp_ct = pd.read_csv(f'{work_dir}/scenicplus/grn/grn_extended.csv', index_col=0)[['region', 'target']].drop_duplicates()\n",
    "sp_ct.columns = ['cis','target']\n",
    "# save \n",
    "os.makedirs(f'{work_dir}/benchmark/cis_target', exist_ok=True)\n",
    "names_ = [\"figr_ct\", \"sp_ct\", \"co_ct\"]\n",
    "models_ = [figr_ct, sp_ct, co_ct]\n",
    "\n",
    "for name, model in zip(names_, models_):\n",
    "    model.to_csv(f'{work_dir}/benchmark/cis_target/{name}.csv')"
   ]
  },
  {
   "cell_type": "markdown",
   "metadata": {},
   "source": [
    "## Pearson cov GRN"
   ]
  },
  {
   "cell_type": "code",
   "execution_count": null,
   "metadata": {},
   "outputs": [],
   "source": [
    "if False:\n",
    "    from scipy.stats import spearmanr\n",
    "    adata_rna = ad.read(f'{work_dir}/scRNA/adata_rna.h5ad')\n",
    "    adata_rna.X = adata_rna.layers['counts']\n",
    "    sc.experimental.pp.normalize_pearson_residuals(adata_rna)\n",
    "    # X_dense = adata_rna.X.todense()\n",
    "    X_dense = adata_rna.X\n",
    "    gene_names = adata_rna.var.index.values\n",
    "    # pearson cov \n",
    "    cov_matrix, _ = spearmanr(X_dense)\n",
    "    # shortlisten \n",
    "    top_n = 120000\n",
    "    array = cov_matrix.flatten()\n",
    "    array_abs = np.abs(array)\n",
    "    indices = np.argsort(array_abs)[::-1][:top_n]  # Get indices of top n connections\n",
    "\n",
    "    row_indices, col_indices = np.unravel_index(indices, cov_matrix.shape)\n",
    "    top_connections = cov_matrix[row_indices, col_indices]\n",
    "    # format as df \n",
    "    sources = gene_names[row_indices]\n",
    "    targets = gene_names[col_indices]\n",
    "    cov_net = pd.DataFrame(dict(source=sources, target=targets, weight=top_connections))\n",
    "    cov_net = cov_net[~(cov_net.source==cov_net.target)].reset_index(drop=True)\n",
    "\n",
    "    cov_net.to_csv(f'{work_dir}/benchmark/grn_models/cov_net_pn.csv')\n"
   ]
  },
  {
   "cell_type": "markdown",
   "metadata": {},
   "source": [
    "# Topological analysis "
   ]
  },
  {
   "cell_type": "code",
   "execution_count": 439,
   "metadata": {},
   "outputs": [],
   "source": [
    "grn_model_names = ['collectRI', \"figr_grn\", \"co_grn\", \"co_grn_3000\", \"sp_grn\", \"sp_grn_short\", 'granie_grn']\n",
    "grn_models_dict = {}\n",
    "for name in grn_model_names:\n",
    "    grn_models_dict[name] = pd.read_csv(f'{work_dir}/benchmark/grn_models/{name}.csv', index_col=0)"
   ]
  },
  {
   "cell_type": "markdown",
   "metadata": {},
   "source": [
    "### Regulatory links"
   ]
  },
  {
   "cell_type": "code",
   "execution_count": 440,
   "metadata": {},
   "outputs": [
    {
     "name": "stdout",
     "output_type": "stream",
     "text": [
      "{'collectRI': 43178, 'figr_grn': 21324, 'co_grn': 192844.0, 'co_grn_3000': 27433.75, 'sp_grn': 33537, 'sp_grn_short': 25576, 'granie_grn': 10679}\n"
     ]
    }
   ],
   "source": [
    "links_n = {name:len(grn) for name, grn in grn_models_dict.items()}\n",
    "# for cell specific grn models, take the mean\n",
    "links_n['co_grn'] = grn_models_dict['co_grn'].groupby('cell_type').size().mean()\n",
    "links_n['co_grn_3000'] = grn_models_dict['co_grn_3000'].groupby('cell_type').size().mean()\n",
    "print(links_n)"
   ]
  },
  {
   "cell_type": "markdown",
   "metadata": {},
   "source": [
    "### Regulatory effect"
   ]
  },
  {
   "cell_type": "code",
   "execution_count": 441,
   "metadata": {},
   "outputs": [
    {
     "name": "stdout",
     "output_type": "stream",
     "text": [
      "----- collectRI\n",
      "----- figr_grn\n",
      "----- co_grn\n",
      "----- co_grn_3000\n",
      "----- sp_grn\n",
      "----- sp_grn_short\n",
      "----- granie_grn\n"
     ]
    },
    {
     "data": {
      "text/plain": [
       "{'collectRI': array([37326,  5852]),\n",
       " 'figr_grn': array([15761,  5563]),\n",
       " 'co_grn': [119724.0, 73120.0],\n",
       " 'co_grn_3000': array([72295, 37440]),\n",
       " 'sp_grn': array([33102,   435]),\n",
       " 'sp_grn_short': array([25158,   418]),\n",
       " 'granie_grn': array([9340, 1339])}"
      ]
     },
     "execution_count": 441,
     "metadata": {},
     "output_type": "execute_result"
    }
   ],
   "source": [
    "regulatory_effect_dict = {}\n",
    "for name, grn in grn_models_dict.items():\n",
    "    print('-----', name)\n",
    "    grn_sign = grn.copy()\n",
    "    weights = grn_sign.weight\n",
    "    weights = [1 if weight>0 else -1 for weight in weights]\n",
    "    grn_sign.weight = weights\n",
    "    if name in ['co_grn']:\n",
    "        celltype_counts = grn_sign.groupby('cell_type').weight.value_counts().to_frame().reset_index()\n",
    "        signs = [celltype_counts[celltype_counts.weight==1]['count'].mean(), celltype_counts[celltype_counts.weight==-1]['count'].mean()]\n",
    "    else:\n",
    "        signs = grn_sign.weight.value_counts().values # 'positive, negative:\n",
    "    if len(signs)==1:\n",
    "        signs = [signs[0], 0]\n",
    "    regulatory_effect_dict[name] = signs\n",
    "regulatory_effect_dict"
   ]
  },
  {
   "cell_type": "markdown",
   "metadata": {},
   "source": [
    "### TFs and target genes"
   ]
  },
  {
   "cell_type": "code",
   "execution_count": 442,
   "metadata": {},
   "outputs": [],
   "source": [
    "target_genes_dict = {}\n",
    "tfs_dict = {}\n",
    "for name, grn in grn_models_dict.items():\n",
    "    tfs_dict[name] = grn.source.unique() \n",
    "    target_genes_dict[name] = grn.target.unique().tolist()"
   ]
  },
  {
   "cell_type": "code",
   "execution_count": 443,
   "metadata": {},
   "outputs": [
    {
     "name": "stdout",
     "output_type": "stream",
     "text": [
      "number of TFs\n",
      "{'collectRI': 1186, 'figr_grn': 818, 'co_grn': 593, 'co_grn_3000': 108, 'sp_grn': 140, 'sp_grn_short': 33, 'granie_grn': 180}\n",
      "number of targets\n"
     ]
    },
    {
     "data": {
      "text/plain": [
       "{'collectRI': 6692,\n",
       " 'figr_grn': 7134,\n",
       " 'co_grn': 11497,\n",
       " 'co_grn_3000': 1817,\n",
       " 'sp_grn': 10789,\n",
       " 'sp_grn_short': 7461,\n",
       " 'granie_grn': 6548}"
      ]
     },
     "execution_count": 443,
     "metadata": {},
     "output_type": "execute_result"
    }
   ],
   "source": [
    "print('number of TFs')\n",
    "tfs_dict_n =  {key:len(values) for key,values in tfs_dict.items()}\n",
    "print(tfs_dict_n)\n",
    "print('number of targets')\n",
    "target_genes_dict_n = {key:len(values) for key,values in target_genes_dict.items()}\n",
    "target_genes_dict_n"
   ]
  },
  {
   "cell_type": "markdown",
   "metadata": {},
   "source": [
    "### DORCS"
   ]
  },
  {
   "cell_type": "code",
   "execution_count": 444,
   "metadata": {},
   "outputs": [],
   "source": [
    "names_ = [\"figr_ct\", \"sp_ct\", \"co_ct\", \"granie_ct\"]\n",
    "cis_target_df_dict = {}\n",
    "for name in names_:\n",
    "    model = pd.read_csv(f'{work_dir}/benchmark/cis_target/{name}.csv', index_col=0)\n",
    "    model.cis = model.cis.str.replace('_','-')\n",
    "    model.cis = model.cis.str.replace(':','-')\n",
    "    cis_target_df_dict[name] = model"
   ]
  },
  {
   "cell_type": "code",
   "execution_count": 445,
   "metadata": {},
   "outputs": [],
   "source": [
    "# multiple thresholds \n",
    "dorcs_n_dict = {}\n",
    "thresholds_dorcs = range(5, 20)\n",
    "for name, df in cis_target_df_dict.items():\n",
    "    stack_ = []\n",
    "    for t in thresholds_dorcs:\n",
    "        stack_.append((df.groupby('target').size()>=t).sum())\n",
    "    dorcs_n_dict[name] = stack_"
   ]
  },
  {
   "cell_type": "markdown",
   "metadata": {},
   "source": [
    "### Master TFs"
   ]
  },
  {
   "cell_type": "code",
   "execution_count": 446,
   "metadata": {},
   "outputs": [],
   "source": [
    "# range of thresholds \n",
    "thresholds_master_TFs = range(100, 5000, 10)\n",
    "master_tfs_n_dict = {}\n",
    "for name, grn in grn_models_dict.items():\n",
    "    stack_ = []\n",
    "    for t in thresholds_master_TFs:\n",
    "        size_ = grn.groupby('source').size()\n",
    "        tfs_n = (size_>=t).sum()\n",
    "        stack_.append(tfs_n)\n",
    "    master_tfs_n_dict[name] = stack_"
   ]
  },
  {
   "cell_type": "markdown",
   "metadata": {},
   "source": [
    "### In-degree for target genes"
   ]
  },
  {
   "cell_type": "code",
   "execution_count": 447,
   "metadata": {},
   "outputs": [],
   "source": [
    "thresholds_indegree = range(5,50,1)\n",
    "indegree_n_dict = {}\n",
    "for name, grn in grn_models_dict.items():\n",
    "    stack_ = []\n",
    "    for t in thresholds_indegree:\n",
    "        size_ = grn.groupby('target').size()\n",
    "        tfs_n = (size_>=t).sum()\n",
    "        stack_.append(tfs_n)\n",
    "    indegree_n_dict[name] = stack_"
   ]
  },
  {
   "cell_type": "markdown",
   "metadata": {},
   "source": [
    "### Plot number of GRN elements "
   ]
  },
  {
   "cell_type": "code",
   "execution_count": 484,
   "metadata": {},
   "outputs": [
    {
     "data": {
      "image/png": "[encoded data removed]",
      "text/plain": [
       "<Figure size 1200x350 with 4 Axes>"
      ]
     },
     "metadata": {},
     "output_type": "display_data"
    }
   ],
   "source": [
    "fig, axes = plt.subplots(1, 4, figsize=(12, 3.5)) \n",
    "color = 'grey'\n",
    "## number of links\n",
    "ax = axes[0]\n",
    "# links_n_ = {surragate_names[key]:value for key,value in links_n.items()}\n",
    "links_n_ = {key:value for key,value in links_n.items()}\n",
    "ax.bar(links_n_.keys(), links_n_.values(), color=color)\n",
    "# ax.set_xlabel('GRN models')\n",
    "ax.set_ylabel('Count')\n",
    "ax.tick_params(axis='x', rotation=90)\n",
    "ax.set_title('Number of putative links')\n",
    "ax.set_yscale('log')\n",
    "\n",
    "# regulatory role \n",
    "ax = axes[1]\n",
    "data = regulatory_effect_dict\n",
    "categories = list(data.keys())\n",
    "positive_counts = [data[category][0] for category in categories]\n",
    "negative_counts = [data[category][1] for category in categories]\n",
    "x = np.arange(len(categories))  # the label locations\n",
    "width = 0.35  # the width of the bars\n",
    "bars1 = ax.bar(x - width/2, positive_counts, width, label='Positive')\n",
    "bars2 = ax.bar(x + width/2, negative_counts, width, label='Negative')\n",
    "ax.set_ylabel('Number of links')\n",
    "ax.set_title('Regulatory sign')\n",
    "ax.set_xticks(x)\n",
    "# ax.set_xticklabels([surragate_names[category] for category in categories])\n",
    "ax.set_xticklabels([category for category in categories])\n",
    "ax.tick_params(axis='x', rotation=90)\n",
    "ax.set_yscale('log')\n",
    "ax.legend()\n",
    "\n",
    "# Rotate category names for better readability\n",
    "plt.xticks(rotation=45)\n",
    "## number of TFs\n",
    "ax = axes[2]\n",
    "# links_n_ = {surragate_names[key]:value for key,value in tfs_dict_n.items()}\n",
    "links_n_ = {key:value for key,value in tfs_dict_n.items()}\n",
    "ax.bar(links_n_.keys(), links_n_.values(), color=color)\n",
    "# ax.set_xlabel('GRN models')\n",
    "ax.set_ylabel('Count')\n",
    "ax.tick_params(axis='x', rotation=90)\n",
    "ax.set_title('Number of TFs')\n",
    "ax.set_yscale('log')\n",
    "## number of target \n",
    "ax = axes[3]\n",
    "# links_n_ = {surragate_names[key]:value for key,value in target_genes_dict_n.items()}\n",
    "links_n_ = {key:value for key,value in target_genes_dict_n.items()}\n",
    "\n",
    "ax.bar(links_n_.keys(), links_n_.values(), color=color)\n",
    "# ax.set_xlabel('GRN models')\n",
    "ax.set_ylabel('Count')\n",
    "ax.tick_params(axis='x', rotation=90)\n",
    "ax.set_title('Number of target genes')\n",
    "ax.set_yscale('log')\n",
    "plt.tight_layout()"
   ]
  },
  {
   "cell_type": "markdown",
   "metadata": {},
   "source": [
    "### Plot intersection of GRN elements\n",
    "venn diagram"
   ]
  },
  {
   "cell_type": "code",
   "execution_count": 449,
   "metadata": {},
   "outputs": [],
   "source": [
    "if False:\n",
    "    fig, axes = plt.subplots(1, 3, figsize=(12, 4)) \n",
    "    # links\n",
    "    ax = axes[0]\n",
    "    grn_fused_dict = {}\n",
    "    for name, grn in grn_models_dict.items():\n",
    "        grn['link'] = grn['source']+'_'+grn['target']\n",
    "        grn_fused_dict[name] = grn['link']\n",
    "    grn_fused_dict = {}\n",
    "    for name, grn in grn_models_dict.items():\n",
    "        grn['link'] = grn['source']+'_'+grn['target']\n",
    "        grn_fused_dict[name] = grn['link']\n",
    "\n",
    "    # dict_set = {surragate_names[key]:set(item) for key,item in grn_fused_dict.items()}\n",
    "    dict_set = {key:set(item) for key,item in grn_fused_dict.items()}\n",
    "    aa = venn(dict_set, hint_hidden=False, fontsize=10, legend_loc=(1,.5), ax=ax)\n",
    "    aa = ax.set_title('Intersection of putative links',pad=1)\n",
    "    # TFs \n",
    "    ax = axes[1]\n",
    "    # tfs_dict_set = {surragate_names[key]:set(item) for key,item in tfs_dict.items()}\n",
    "    tfs_dict_set = {key:set(item) for key,item in tfs_dict.items()}\n",
    "    aa = venn(tfs_dict_set, hint_hidden=False, \n",
    "        figsize=(6, 6), fontsize=10, legend_loc=(.95,.5), ax=ax)\n",
    "    ax.set_title('Intersection of TFs')\n",
    "    # targets \n",
    "    ax = axes[2]\n",
    "    # target_genes_set = {surragate_names[key]:set(item) for key,item in target_genes_dict.items()}\n",
    "    target_genes_set = {key:set(item) for key,item in target_genes_dict.items()}\n",
    "    aa = venn(target_genes_set, hint_hidden=False, \n",
    "        figsize=(6, 6), fontsize=10, legend_loc=(.95,.5), ax=ax)\n",
    "    ax.set_title('Intersection of target genes')\n",
    "    plt.tight_layout()"
   ]
  },
  {
   "cell_type": "markdown",
   "metadata": {},
   "source": [
    "#### upsetplot of GRN elements"
   ]
  },
  {
   "cell_type": "code",
   "execution_count": 450,
   "metadata": {},
   "outputs": [],
   "source": [
    "if False:\n",
    "    # Create a set of all unique genes\n",
    "    def convert_df(data):\n",
    "        all_genes = list(set(gene for genes in data.values() for gene in genes))\n",
    "\n",
    "        # Initialize DataFrame\n",
    "        df = pd.DataFrame(index=all_genes)\n",
    "\n",
    "        # Populate DataFrame\n",
    "        for key, genes in data.items():\n",
    "            df[key] = df.index.isin(genes)\n",
    "        return df\n",
    "    from upsetplot import from_indicators, plot\n",
    "    print('target genes')\n",
    "    aa = plot(from_indicators(indicators=lambda a: a==True, data=convert_df(target_genes_dict)), show_counts=True)\n",
    "    print('TFs')\n",
    "    aa = plot(from_indicators(indicators=lambda a: a==True, data=convert_df(tfs_dict)), show_counts=True)"
   ]
  },
  {
   "cell_type": "markdown",
   "metadata": {},
   "source": [
    "### Plot connectivity (DORCs, master TFs, etc)"
   ]
  },
  {
   "cell_type": "code",
   "execution_count": 490,
   "metadata": {},
   "outputs": [
    {
     "data": {
      "image/png": "[encoded data removed]",
      "text/plain": [
       "<Figure size 1200x400 with 3 Axes>"
      ]
     },
     "metadata": {},
     "output_type": "display_data"
    }
   ],
   "source": [
    "fig, axes = plt.subplots(1, 3, figsize=(12, 4)) \n",
    "## DORCs\n",
    "ax = axes[0]\n",
    "data = dorcs_n_dict\n",
    "x_range = thresholds_dorcs\n",
    "\n",
    "for key in data:\n",
    "    # ax.plot(x_range, data[key], label=surragate_names[key])\n",
    "    ax.plot(x_range, data[key], label=key)\n",
    "ax.set_xlabel('Threshold')\n",
    "ax.set_ylabel('Number of DORC genes')\n",
    "ax.set_title('DORC genes')\n",
    "ax.legend(title='Model')\n",
    "ax.set_yscale('log')\n",
    "## master TFs\n",
    "ax = axes[1]\n",
    "data = master_tfs_n_dict\n",
    "x_range = thresholds_master_TFs\n",
    "for key in data:\n",
    "    # ax.plot(x_range, data[key], label=surragate_names[key])\n",
    "    ax.plot(x_range, data[key], label=key)\n",
    "ax.set_xlabel('Threshold')\n",
    "ax.set_ylabel('Number of master TFs')\n",
    "ax.set_title('Master TFs')\n",
    "ax.legend(title='Model')\n",
    "ax.set_yscale('log')\n",
    "plt.tight_layout()\n",
    "## in degree for target genes \n",
    "ax = axes[2]\n",
    "data = indegree_n_dict\n",
    "x_range = thresholds_indegree\n",
    "for key in data:\n",
    "    # ax.plot(x_range, data[key], label= surragate_names[key])\n",
    "    ax.plot(x_range, data[key], label=key)\n",
    "ax.set_xlabel('Threshold')\n",
    "ax.set_ylabel('Number of regulators')\n",
    "ax.set_title('Regulators of target genes')\n",
    "ax.legend(title='Model')\n",
    "ax.set_yscale('log')\n",
    "plt.tight_layout()\n"
   ]
  },
  {
   "cell_type": "markdown",
   "metadata": {},
   "source": [
    "## Gene annotation"
   ]
  },
  {
   "cell_type": "code",
   "execution_count": 452,
   "metadata": {},
   "outputs": [],
   "source": [
    "import pybiomart as pbm\n",
    "species = 'hsapiens'\n",
    "host = \"http://sep2019.archive.ensembl.org/\"   # best one\n",
    "dataset = pbm.Dataset(name=species+'_gene_ensembl',  host=host)\n",
    "annot = dataset.query(attributes=['chromosome_name', 'start_position', 'end_position', 'external_gene_name', 'transcript_biotype'])\n",
    "\n",
    "annot.columns = ['chr', 'start', 'end', 'gene', 'transcript_type']\n",
    "annot['width'] = annot.end-annot.start\n",
    "\n",
    "filter = annot['chr'].str.contains('CHR|GL|JH|MT|KI27')\n",
    "annot = annot[~filter].reset_index(drop=True)\n",
    "# change in names\n",
    "# annot.chr = annot.chr.apply(lambda x:f'chr{x}')\n",
    "# annot.drop_duplicates(inplace=True)"
   ]
  },
  {
   "cell_type": "markdown",
   "metadata": {},
   "source": [
    "### Annotated genes in df_train"
   ]
  },
  {
   "cell_type": "code",
   "execution_count": 453,
   "metadata": {},
   "outputs": [
    {
     "data": {
      "text/plain": [
       "0.9787906976744186"
      ]
     },
     "execution_count": 453,
     "metadata": {},
     "output_type": "execute_result"
    }
   ],
   "source": [
    "annot_genes = annot.gene.unique()\n",
    "df_train.columns.isin(annot_genes).sum()/df_train.columns.shape[0]"
   ]
  },
  {
   "cell_type": "markdown",
   "metadata": {},
   "source": [
    "### Types of target genes"
   ]
  },
  {
   "cell_type": "code",
   "execution_count": 454,
   "metadata": {},
   "outputs": [
    {
     "name": "stdout",
     "output_type": "stream",
     "text": [
      "fraction of annotated genes:  0.9817692767483562\n",
      "fraction of annotated genes:  1.0\n",
      "fraction of annotated genes:  1.0\n",
      "fraction of annotated genes:  1.0\n",
      "fraction of annotated genes:  1.0\n",
      "fraction of annotated genes:  1.0\n",
      "fraction of annotated genes:  0.9824373854612095\n"
     ]
    }
   ],
   "source": [
    "transcript_types = ['lncRNA', 'protein_coding', 'retained_intron']\n",
    "ratios_stack = []\n",
    "for grn_name, grn in target_genes_dict.items():\n",
    "    t_genes = target_genes_dict[grn_name]\n",
    "    annot_s = annot[annot.gene.isin(t_genes)]\n",
    "    annot_s = annot_s[annot_s.transcript_type.isin(transcript_types)]\n",
    "    print('fraction of annotated genes: ', annot_s.gene.unique().shape[0]/len(t_genes))\n",
    "    ratios = annot_s.groupby('transcript_type').apply(lambda df:df.gene.unique().size/len(t_genes)).to_dict().values()\n",
    "    ratios_stack.append([grn_name]+list(ratios))\n",
    "    # transcript_types_df.append([grn_name], list(ratios))\n",
    "    # print(df)"
   ]
  },
  {
   "cell_type": "code",
   "execution_count": 455,
   "metadata": {},
   "outputs": [
    {
     "data": {
      "text/plain": [
       "(<Figure size 2500x400 with 1 Axes>, <Axes: >)"
      ]
     },
     "execution_count": 455,
     "metadata": {},
     "output_type": "execute_result"
    },
    {
     "data": {
      "image/png": "[encoded data removed]",
      "text/plain": [
       "<Figure size 2500x400 with 1 Axes>"
      ]
     },
     "metadata": {},
     "output_type": "display_data"
    }
   ],
   "source": [
    "def plot_stacked_bar_chart(cell_types_in_drops, title, xticks=None, xticklabels=None, colors=None, figsize=(25, 4)):\n",
    "    # Add a column of zeros to the left and compute the cumulative sums\n",
    "    cc = np.hstack([np.zeros((len(cell_types_in_drops), 1)), cell_types_in_drops])\n",
    "    cc_cs = cc.cumsum(axis=1)\n",
    "\n",
    "    fig, ax = plt.subplots(figsize=figsize)\n",
    "    cell_types = cell_types_in_drops.columns\n",
    "    for i in range(len(cell_types)):\n",
    "        ax.bar(np.arange(len(cc_cs)),\n",
    "               cc_cs[:,i+1] - cc_cs[:,i],\n",
    "               bottom=cc_cs[:,i],\n",
    "               label=cell_types[i], \n",
    "            #    color=colors_cell_type[i]\n",
    "               )\n",
    "    ax.set_title(title)\n",
    "    # first_legend = ax.legend(title='Cell Types')\n",
    "    if xticks is not None:\n",
    "        ax.set_xticks(xticks)\n",
    "        ax.set_xticklabels(xticklabels, rotation=90)\n",
    "    \n",
    "    # for ticklabel, color in zip(ax.get_xticklabels(), colors):\n",
    "    #     ticklabel.set_color(color)\n",
    "\n",
    "    # color_legend_handles = [\n",
    "    #     Patch(facecolor='red', label='-'),\n",
    "    #     Patch(facecolor='blue', label='-'),\n",
    "    #     Patch(facecolor='green', label='-'),\n",
    "    # ]\n",
    "\n",
    "    \n",
    "    return fig, ax\n",
    "df_transcript_types = pd.DataFrame(ratios_stack, columns=['grn']+transcript_types).set_index('grn')\n",
    "plot_stacked_bar_chart(df_transcript_types, title='')"
   ]
  },
  {
   "cell_type": "markdown",
   "metadata": {},
   "source": [
    "### Types of peaks"
   ]
  },
  {
   "cell_type": "code",
   "execution_count": 456,
   "metadata": {},
   "outputs": [
    {
     "name": "stdout",
     "output_type": "stream",
     "text": [
      "The rpy2.ipython extension is already loaded. To reload it, use:\n",
      "  %reload_ext rpy2.ipython\n"
     ]
    }
   ],
   "source": [
    "%load_ext rpy2.ipython"
   ]
  },
  {
   "cell_type": "code",
   "execution_count": 457,
   "metadata": {},
   "outputs": [],
   "source": [
    "temp_dir = f'{work_dir}/benchmark/temp/peak_annotation/'\n",
    "for name, grn_ct in cis_target_df_dict.items():\n",
    "    peaks = grn_ct.cis.str.split('-', n=1, expand=True)\n",
    "    peaks.columns = ['chr','range']\n",
    "    peaks.to_csv(f'{temp_dir}{name}.txt', index=False)\n",
    "method_names = list(cis_target_df_dict.keys())"
   ]
  },
  {
   "cell_type": "code",
   "execution_count": 458,
   "metadata": {},
   "outputs": [
    {
     "name": "stdout",
     "output_type": "stream",
     "text": [
      ">> preparing features information...\t\t 2024-03-26 17:37:41 \n",
      ">> identifying nearest features...\t\t 2024-03-26 17:37:41 \n",
      ">> calculating distance from peak to TSS...\t 2024-03-26 17:37:42 \n",
      ">> assigning genomic annotation...\t\t 2024-03-26 17:37:42 \n",
      ">> assigning chromosome lengths\t\t\t 2024-03-26 17:37:45 \n",
      ">> done...\t\t\t\t\t 2024-03-26 17:37:45 \n",
      ">> preparing features information...\t\t 2024-03-26 17:37:46 \n",
      ">> identifying nearest features...\t\t 2024-03-26 17:37:46 \n",
      ">> calculating distance from peak to TSS...\t 2024-03-26 17:37:47 \n",
      ">> assigning genomic annotation...\t\t 2024-03-26 17:37:47 \n",
      ">> assigning chromosome lengths\t\t\t 2024-03-26 17:37:50 \n",
      ">> done...\t\t\t\t\t 2024-03-26 17:37:50 \n",
      ">> preparing features information...\t\t 2024-03-26 17:37:52 \n",
      ">> identifying nearest features...\t\t 2024-03-26 17:37:52 \n",
      ">> calculating distance from peak to TSS...\t 2024-03-26 17:37:52 \n",
      ">> assigning genomic annotation...\t\t 2024-03-26 17:37:52 \n",
      ">> assigning chromosome lengths\t\t\t 2024-03-26 17:37:55 \n",
      ">> done...\t\t\t\t\t 2024-03-26 17:37:55 \n",
      ">> preparing features information...\t\t 2024-03-26 17:37:56 \n",
      ">> identifying nearest features...\t\t 2024-03-26 17:37:56 \n",
      ">> calculating distance from peak to TSS...\t 2024-03-26 17:37:56 \n",
      ">> assigning genomic annotation...\t\t 2024-03-26 17:37:56 \n",
      ">> assigning chromosome lengths\t\t\t 2024-03-26 17:37:59 \n",
      ">> done...\t\t\t\t\t 2024-03-26 17:37:59 \n"
     ]
    }
   ],
   "source": [
    "%%R -i method_names -i temp_dir\n",
    "options(digits=5, max.print=100)  # Adjust numbers as needed\n",
    "set.seed(123)\n",
    "\n",
    "\n",
    "library(IRanges)\n",
    "library(GenomicRanges)\n",
    "library(ggplot2)\n",
    "library(TxDb.Hsapiens.UCSC.hg38.knownGene)\n",
    "\n",
    "txdb <- TxDb.Hsapiens.UCSC.hg38.knownGene\n",
    "\n",
    "for (name in method_names){\n",
    "  peaks = read.table(paste0(temp_dir, name, '.txt'), sep=',', header = TRUE)\n",
    "  peaks = GRanges(peaks$chr, IRanges(peaks$range))\n",
    "  peaks_annotated = suppressMessages(ChIPseeker::annotatePeak(\n",
    "      peaks,\n",
    "      tssRegion = c(-1000, 1000), # extended from -5kb to 5\n",
    "      TxDb = txdb,\n",
    "      level = \"transcript\", \n",
    "      assignGenomicAnnotation = TRUE,  # the default\n",
    "      genomicAnnotationPriority = c(\"Promoter\", \"5UTR\", \"3UTR\", \"Exon\", \"Intron\",\n",
    "                                    \"Downstream\", \"Intergenic\"),  # the default\n",
    "      annoDb = NULL,\n",
    "      sameStrand = FALSE, # the default\n",
    "      ignoreOverlap = FALSE, # the default\n",
    "      ignoreUpstream = FALSE, # the default\n",
    "      ignoreDownstream = FALSE, # the default\n",
    "      overlap = \"TSS\", # the default\n",
    "      verbose = TRUE # the default\n",
    "    ))\n",
    "  peaks_annotated_df = as.data.frame(peaks_annotated)\n",
    "  write.table(peaks_annotated_df, paste0(temp_dir, name, '_annot.txt'), sep=',', row.names = FALSE)\n",
    "}\n"
   ]
  },
  {
   "cell_type": "code",
   "execution_count": 459,
   "metadata": {},
   "outputs": [
    {
     "data": {
      "image/png": "[encoded data removed]",
      "text/plain": [
       "<IPython.core.display.Image object>"
      ]
     },
     "metadata": {},
     "output_type": "display_data"
    }
   ],
   "source": [
    "%%R \n",
    "plotAnnoPie(peaks_annotated)\n"
   ]
  },
  {
   "cell_type": "code",
   "execution_count": 491,
   "metadata": {},
   "outputs": [
    {
     "data": {
      "text/html": [
       "<div>\n",
       "<style scoped>\n",
       "    .dataframe tbody tr th:only-of-type {\n",
       "        vertical-align: middle;\n",
       "    }\n",
       "\n",
       "    .dataframe tbody tr th {\n",
       "        vertical-align: top;\n",
       "    }\n",
       "\n",
       "    .dataframe thead th {\n",
       "        text-align: right;\n",
       "    }\n",
       "</style>\n",
       "<table border=\"1\" class=\"dataframe\">\n",
       "  <thead>\n",
       "    <tr style=\"text-align: right;\">\n",
       "      <th></th>\n",
       "      <th>Intron</th>\n",
       "      <th>Promoter</th>\n",
       "      <th>Distal Intergenic</th>\n",
       "      <th>Exon</th>\n",
       "      <th>3' UTR</th>\n",
       "      <th>5' UTR</th>\n",
       "      <th>Downstream (&lt;=300)</th>\n",
       "    </tr>\n",
       "  </thead>\n",
       "  <tbody>\n",
       "    <tr>\n",
       "      <th>figr_ct</th>\n",
       "      <td>0.358694</td>\n",
       "      <td>0.318819</td>\n",
       "      <td>0.197450</td>\n",
       "      <td>0.066942</td>\n",
       "      <td>0.047733</td>\n",
       "      <td>0.008091</td>\n",
       "      <td>0.002270</td>\n",
       "    </tr>\n",
       "    <tr>\n",
       "      <th>sp_ct</th>\n",
       "      <td>0.269987</td>\n",
       "      <td>0.468414</td>\n",
       "      <td>0.146008</td>\n",
       "      <td>0.061295</td>\n",
       "      <td>0.043886</td>\n",
       "      <td>0.008533</td>\n",
       "      <td>0.001877</td>\n",
       "    </tr>\n",
       "    <tr>\n",
       "      <th>co_ct</th>\n",
       "      <td>0.005279</td>\n",
       "      <td>0.987826</td>\n",
       "      <td>0.002711</td>\n",
       "      <td>0.001997</td>\n",
       "      <td>0.000856</td>\n",
       "      <td>0.001236</td>\n",
       "      <td>0.000095</td>\n",
       "    </tr>\n",
       "    <tr>\n",
       "      <th>granie_ct</th>\n",
       "      <td>0.220138</td>\n",
       "      <td>0.558918</td>\n",
       "      <td>0.139569</td>\n",
       "      <td>0.043706</td>\n",
       "      <td>0.031874</td>\n",
       "      <td>0.004427</td>\n",
       "      <td>0.001368</td>\n",
       "    </tr>\n",
       "  </tbody>\n",
       "</table>\n",
       "</div>"
      ],
      "text/plain": [
       "             Intron  Promoter  Distal Intergenic      Exon    3' UTR  \\\n",
       "figr_ct    0.358694  0.318819           0.197450  0.066942  0.047733   \n",
       "sp_ct      0.269987  0.468414           0.146008  0.061295  0.043886   \n",
       "co_ct      0.005279  0.987826           0.002711  0.001997  0.000856   \n",
       "granie_ct  0.220138  0.558918           0.139569  0.043706  0.031874   \n",
       "\n",
       "             5' UTR  Downstream (<=300)  \n",
       "figr_ct    0.008091            0.002270  \n",
       "sp_ct      0.008533            0.001877  \n",
       "co_ct      0.001236            0.000095  \n",
       "granie_ct  0.004427            0.001368  "
      ]
     },
     "execution_count": 491,
     "metadata": {},
     "output_type": "execute_result"
    }
   ],
   "source": [
    "map_={'Intron':'Intron', 'Exon':'Exon', 'Promoter':'Promoter', 'Distal':'Distal Intergenic', \"3'\":\"3' UTR\", 'Downstream':'Downstream (<=300)', \"5'\":\"5' UTR\"}\n",
    "\n",
    "annotation_dict = {}\n",
    "for name in method_names:\n",
    "    ann_df = pd.read_csv(f'{temp_dir}{name}_annot.txt')\n",
    "    ann = ann_df.annotation.str.split(' ', expand=True)[0]\n",
    "    ann = ann.map(map_)\n",
    "    value_counts = ann.value_counts()\n",
    "    sum_values = value_counts.sum()\n",
    "    value_ratio = value_counts/sum_values\n",
    "    annotation_dict[name] = value_ratio.to_dict()\n",
    "peak_annotation_df = pd.DataFrame.from_dict(annotation_dict, orient='index')\n",
    "peak_annotation_df"
   ]
  },
  {
   "cell_type": "code",
   "execution_count": 462,
   "metadata": {},
   "outputs": [
    {
     "data": {
      "image/png": "[encoded data removed]",
      "text/plain": [
       "<Figure size 800x400 with 1 Axes>"
      ]
     },
     "metadata": {},
     "output_type": "display_data"
    }
   ],
   "source": [
    "colors_light = ['green', '#ADD8E6', '#FFC0CB', '#90EE90', '#FFD700', '#E6E6FA', 'gray']\n",
    "def plot_stacked_bar_chart(df, title, xticks=None, xticklabels=None, colors=None, figsize=(8, 4)):\n",
    "    # black box \n",
    "    cc = np.hstack([np.zeros((len(df), 1)), df])\n",
    "    cc_cs = cc.cumsum(axis=1)\n",
    "\n",
    "    fig, ax = plt.subplots(figsize=figsize)\n",
    "    cell_types = df.columns\n",
    "    for i in range(len(cell_types)):\n",
    "        ax.bar(np.arange(len(cc_cs)),\n",
    "               cc_cs[:,i+1] - cc_cs[:,i],\n",
    "               bottom=cc_cs[:,i],\n",
    "               label=cell_types[i], \n",
    "               color=colors_light[i]\n",
    "               )\n",
    "    ax.set_title(title)\n",
    "    \n",
    "    ax.set_xticks(range(len(xticklabels)))\n",
    "    ax.set_xticklabels(xticklabels, rotation=45)\n",
    "\n",
    "    ax.set_ylabel('Ratio')\n",
    "    ax.legend(loc='upper left', bbox_to_anchor=(1.05,1), borderaxespad=0, frameon=True)\n",
    "    \n",
    "    return fig, ax\n",
    "fig, ax = plot_stacked_bar_chart(peak_annotation_df, title='', xticklabels=peak_annotation_df.index)\n",
    "plt.tight_layout()\n",
    "# fig.savefig(f'{work_dir}/preprocess/figs/ambros_style_graph.png', dpi=100, transparent=True)"
   ]
  },
  {
   "cell_type": "code",
   "execution_count": 463,
   "metadata": {},
   "outputs": [
    {
     "data": {
      "text/plain": [
       "Index(['figr_ct', 'sp_ct', 'co_ct', 'granie_ct'], dtype='object')"
      ]
     },
     "execution_count": 463,
     "metadata": {},
     "output_type": "execute_result"
    }
   ],
   "source": [
    "peak_annotation_df.index"
   ]
  },
  {
   "cell_type": "markdown",
   "metadata": {},
   "source": [
    "# HVGs analysis\n"
   ]
  },
  {
   "cell_type": "code",
   "execution_count": 492,
   "metadata": {},
   "outputs": [
    {
     "name": "stderr",
     "output_type": "stream",
     "text": [
      "/root/anaconda3/envs/py10_2/lib/python3.10/site-packages/anndata/_core/anndata.py:183: ImplicitModificationWarning: Transforming to str index.\n",
      "  warnings.warn(\"Transforming to str index.\", ImplicitModificationWarning)\n",
      "/root/anaconda3/envs/py10_2/lib/python3.10/site-packages/anndata/_core/anndata.py:183: ImplicitModificationWarning: Transforming to str index.\n",
      "  warnings.warn(\"Transforming to str index.\", ImplicitModificationWarning)\n"
     ]
    }
   ],
   "source": [
    "adata_f = ad.read_h5ad(f'{work_dir}/preprocess/bulk_adata_f.h5ad')\n",
    "adata_pearson = ad.read_h5ad(f'{work_dir}/preprocess/bulk_adata_f_n_pearson.h5ad')\n",
    "adata_sa = ad.read_h5ad(f'{work_dir}/preprocess/bulk_adata_f_n_shifted_algorithm.h5ad')\n",
    "n_top_genes = 4000"
   ]
  },
  {
   "cell_type": "markdown",
   "metadata": {},
   "source": [
    "### Highly devient genes: raw counts\n",
    "Germain et al. instead proposes to use deviance for feature selection which works on raw counts [Germain et al., 2020]. Deviance can be computed in closed form and quantifies whether genes show a constant expression profile across cells as these are not informative. Genes with constant expression are described by a multinomial null model, they are approximated by the binomial deviance. Highly informative genes across cells will have a high deviance value which indicates a poor fit by the null model (i.e., they don’t show constant expression across cells)."
   ]
  },
  {
   "cell_type": "code",
   "execution_count": 465,
   "metadata": {},
   "outputs": [
    {
     "name": "stdout",
     "output_type": "stream",
     "text": [
      "The rpy2.ipython extension is already loaded. To reload it, use:\n",
      "  %reload_ext rpy2.ipython\n"
     ]
    }
   ],
   "source": [
    "%load_ext rpy2.ipython"
   ]
  },
  {
   "cell_type": "code",
   "execution_count": 466,
   "metadata": {},
   "outputs": [],
   "source": [
    "# %%R -i work_dir\n",
    "# library(scry)\n",
    "# library(zellkonverter)\n",
    "# library(SingleCellExperiment)\n",
    "\n",
    "# adata = readH5AD(paste0(work_dir, \"/preprocess/bulk_adata_f.h5ad\")) # raw counts\n",
    "# sce = devianceFeatureSelection(adata, assay=\"X\")\n",
    "# writeH5AD(sce, paste0(work_dir, \"/preprocess/adata_sce.h5ad\"))"
   ]
  },
  {
   "cell_type": "code",
   "execution_count": 467,
   "metadata": {},
   "outputs": [
    {
     "name": "stderr",
     "output_type": "stream",
     "text": [
      "/root/anaconda3/envs/py10_2/lib/python3.10/site-packages/anndata/__init__.py:51: FutureWarning: `anndata.read` is deprecated, use `anndata.read_h5ad` instead. `ad.read` will be removed in mid 2024.\n",
      "  warnings.warn(\n"
     ]
    }
   ],
   "source": [
    "adata_sce = ad.read(f\"{work_dir}/preprocess/adata_sce.h5ad\")\n",
    "binomial_deviance  = adata_sce.var['binomial_deviance']\n",
    "indices = binomial_deviance.argsort()[-n_top_genes:]\n",
    "mask = np.zeros(adata_sce.var.shape[0], dtype=bool)\n",
    "mask[indices] = True\n",
    "hvgs_sce = adata_sce[:, mask].var.gene.values"
   ]
  },
  {
   "cell_type": "markdown",
   "metadata": {},
   "source": [
    "### Highly variable genes\n",
    "We calculate HVGs for the normalized data using shifted algorithm and pearson residuals "
   ]
  },
  {
   "cell_type": "code",
   "execution_count": 468,
   "metadata": {},
   "outputs": [],
   "source": [
    "sc.pp.highly_variable_genes(adata_pearson, n_top_genes=n_top_genes)\n",
    "hvgs_pearson = adata_pearson.var[adata_pearson.var.highly_variable].gene.values\n",
    "\n",
    "sc.pp.log1p(adata_sa)\n",
    "sc.pp.highly_variable_genes(adata_sa, n_top_genes=n_top_genes)\n",
    "hvgs_sa = adata_pearson.var[adata_sa.var.highly_variable].gene.values"
   ]
  },
  {
   "cell_type": "markdown",
   "metadata": {},
   "source": [
    "### Plot std vs sum"
   ]
  },
  {
   "cell_type": "code",
   "execution_count": 500,
   "metadata": {},
   "outputs": [],
   "source": [
    "# hvgs_dict = {'pearson':hvgs_pearson, 'shifted_a':hvgs_sa, 'sce':hvgs_sce}\n",
    "hvgs_dict = {'pearson':hvgs_pearson}"
   ]
  },
  {
   "cell_type": "code",
   "execution_count": 495,
   "metadata": {},
   "outputs": [
    {
     "data": {
      "image/png": "[encoded data removed]",
      "text/plain": [
       "<Figure size 1200x400 with 3 Axes>"
      ]
     },
     "metadata": {},
     "output_type": "display_data"
    }
   ],
   "source": [
    "var = adata_f.var\n",
    "var['sum'] = adata_f.X.sum(axis=0)\n",
    "var['std'] = adata_f.X.std(axis=0)\n",
    "\n",
    "fig, axes = plt.subplots(1, 3, figsize=(12, 4), sharey=False)\n",
    "for i, (name, genes) in enumerate(hvgs_dict.items()):\n",
    "    ax = axes[i]\n",
    "    mask = var.gene.isin(genes)\n",
    "    ax.scatter(var['sum'][mask], var['std'][mask], label='HVGs', alpha=0.4, color='cyan', edgecolors='white')\n",
    "    ax.scatter(var['sum'][~mask], var['std'][~mask], label='Rest', alpha=0.4, color='Green', edgecolors='white')\n",
    "             \n",
    "    ax.set_ylabel('std')\n",
    "    ax.set_xlabel('sum')\n",
    "    ax.legend()\n",
    "    ax.set_xscale('log')\n",
    "    ax.set_yscale('log')\n",
    "    ax.set_title(name)\n",
    "plt.tight_layout()\n"
   ]
  },
  {
   "cell_type": "code",
   "execution_count": 471,
   "metadata": {},
   "outputs": [
    {
     "data": {
      "image/png": "[encoded data removed]",
      "text/plain": [
       "<Figure size 800x400 with 2 Axes>"
      ]
     },
     "metadata": {},
     "output_type": "display_data"
    }
   ],
   "source": [
    "fig, axes = plt.subplots(1, 2, figsize=(8, 4), sharey=False)\n",
    "hvgs_dict_set = {key:set(genes) for key, genes in hvgs_dict.items()}\n",
    "ax=axes[0]\n",
    "aa = venn(hvgs_dict_set, hint_hidden=False, fontsize=10, legend_loc=(1,.5), ax=ax)\n",
    "ax.set_title('Intersection of HVGs',pad=1)\n",
    "plt.tight_layout()\n",
    "plt.show()"
   ]
  },
  {
   "cell_type": "markdown",
   "metadata": {},
   "source": [
    "### GRN targets vs HVGs "
   ]
  },
  {
   "cell_type": "code",
   "execution_count": 501,
   "metadata": {},
   "outputs": [],
   "source": [
    "# hvgs_list = list(hvgs_dict.values())\n",
    "# hvgs_inter = hvgs_list[0]\n",
    "# for x in hvgs_list:\n",
    "#     hvgs_inter = np.intersect1d(hvgs_inter, x)\n",
    "# hvgs_dict['intersect'] = hvgs_inter"
   ]
  },
  {
   "cell_type": "code",
   "execution_count": 473,
   "metadata": {},
   "outputs": [],
   "source": [
    "del grn_models_dict['sp_grn_short']"
   ]
  },
  {
   "cell_type": "code",
   "execution_count": 502,
   "metadata": {},
   "outputs": [
    {
     "data": {
      "image/png": "[encoded data removed]",
      "text/plain": [
       "<Figure size 1600x400 with 4 Axes>"
      ]
     },
     "metadata": {},
     "output_type": "display_data"
    }
   ],
   "source": [
    "fig, axes = plt.subplots(1, 4, figsize=(16, 4), sharey=False)\n",
    "for i, (hvg_name, hvgs) in enumerate(hvgs_dict.items()):\n",
    "    inter_list = []\n",
    "    name_list = [] \n",
    "    for name, grn in grn_models_dict.items():\n",
    "        genes = grn.target.unique()\n",
    "        inter = len(np.intersect1d(hvgs, genes))\n",
    "        name_list.append(name)\n",
    "        inter_list.append(inter)\n",
    "\n",
    "    ax = axes[i]\n",
    "    ax.bar(range(len(inter_list)),inter_list, width=.5)\n",
    "    ax.set_xticks(range(len(name_list)))\n",
    "    ax.set_xticklabels(name_list)\n",
    "    ax.set_title(hvg_name)\n",
    "    # plt.xaxis(rotation=45)\n",
    "    ax.tick_params(axis='x', rotation=45)"
   ]
  },
  {
   "cell_type": "code",
   "execution_count": 503,
   "metadata": {},
   "outputs": [
    {
     "data": {
      "image/png": "[encoded data removed]",
      "text/plain": [
       "<Figure size 1600x400 with 4 Axes>"
      ]
     },
     "metadata": {},
     "output_type": "display_data"
    }
   ],
   "source": [
    "# normalized to genes n of GRN\n",
    "fig, axes = plt.subplots(1, 4, figsize=(16, 4), sharey=False)\n",
    "for i, (hvg_name, hvgs) in enumerate(hvgs_dict.items()):\n",
    "    inter_list = []\n",
    "    name_list = [] \n",
    "    for name, grn in grn_models_dict.items():\n",
    "        genes = grn.target.unique()\n",
    "        inter = len(np.intersect1d(hvgs, genes))/len(genes)\n",
    "        name_list.append(name)\n",
    "        inter_list.append(inter)\n",
    "\n",
    "    ax = axes[i]\n",
    "    ax.bar(range(len(inter_list)),inter_list, width=.5)\n",
    "    ax.set_xticks(range(len(name_list)))\n",
    "    ax.set_xticklabels(name_list)\n",
    "    ax.set_title(hvg_name)\n",
    "    ax.tick_params(axis='x', rotation=45)"
   ]
  },
  {
   "cell_type": "markdown",
   "metadata": {},
   "source": [
    "## Plot all"
   ]
  },
  {
   "cell_type": "code",
   "execution_count": 504,
   "metadata": {},
   "outputs": [],
   "source": [
    "ratio_genes_dict = {}\n",
    "for name, grn in grn_models_dict.items():\n",
    "    genes = grn.target.unique()\n",
    "    ratio = len(np.intersect1d(df_train.columns, genes))/df_train.columns.shape[0]\n",
    "    ratio_genes_dict[name] = ratio\n"
   ]
  },
  {
   "cell_type": "code",
   "execution_count": 506,
   "metadata": {},
   "outputs": [
    {
     "data": {
      "image/png": "[encoded data removed]",
      "text/plain": [
       "<Figure size 1600x400 with 4 Axes>"
      ]
     },
     "metadata": {},
     "output_type": "display_data"
    }
   ],
   "source": [
    "fig, axes = plt.subplots(1, 4, figsize=(16, 4)) \n",
    "# fraction of genes \n",
    "ax = axes[0]\n",
    "# links_n_ = {surragate_names[key]:value for key,value in ratio_genes_dict.items()}\n",
    "links_n_ = {key:value for key,value in ratio_genes_dict.items()}\n",
    "ax.bar(links_n_.keys(), links_n_.values(), color=color)\n",
    "ax.set_xlabel('GRN models')\n",
    "ax.set_ylabel('Ratio')\n",
    "ax.tick_params(axis='x', rotation=45)\n",
    "ax.set_title('Ratio of df-train genes given in GRNs')\n",
    "\n",
    "plt.tight_layout()"
   ]
  },
  {
   "cell_type": "markdown",
   "metadata": {},
   "source": [
    "# Multivariate "
   ]
  },
  {
   "cell_type": "code",
   "execution_count": 511,
   "metadata": {},
   "outputs": [],
   "source": [
    "grn_model_names = [\"collectRI\", \"figr_grn\", \"co_grn\", \"co_grn_3000\", \"sp_grn\", \"sp_grn_short\", \"cov_net\"]\n",
    "grn_models_dict = {}\n",
    "for name in grn_model_names:\n",
    "    grn_models_dict[name] = pd.read_csv(f'{work_dir}/benchmark/grn_models/{name}.csv', index_col=0)"
   ]
  },
  {
   "cell_type": "code",
   "execution_count": 512,
   "metadata": {},
   "outputs": [
    {
     "data": {
      "text/plain": [
       "(7804,)"
      ]
     },
     "execution_count": 512,
     "metadata": {},
     "output_type": "execute_result"
    }
   ],
   "source": [
    "grn_models_dict[\"figr_grn\"].target.unique().shape"
   ]
  },
  {
   "cell_type": "code",
   "execution_count": null,
   "metadata": {},
   "outputs": [],
   "source": [
    "mean_tfs_n = 800\n",
    "genes_n = df_train.columns.shape[0]\n",
    "sparsity = 0.99\n",
    "X_random = np.random.choice([0, -1, 1], size=(genes_n, mean_tfs_n), p=[sparsity, (1-sparsity)/2, (1-sparsity)/2])\n",
    "row_names = df_train.columns\n",
    "col_names = [f'TF_{i}' for i in range(mean_tfs_n)]\n",
    "grn_random = pd.DataFrame(X_random, index=row_names, columns=col_names)\n",
    "grn_random.reset_index(inplace=True)\n",
    "grn_random = pd.melt(grn_random, id_vars=['index'], var_name='TF', value_name='weight')\n",
    "grn_random.columns = ['target', 'source', 'weight']\n",
    "grn_random = grn_random[grn_random.weight!=0].reset_index(drop=True)\n",
    "grn_models_dict['grn_random'] = grn_random\n"
   ]
  },
  {
   "cell_type": "code",
   "execution_count": 513,
   "metadata": {},
   "outputs": [],
   "source": [
    "import lightgbm\n",
    "class lightgbm_wrapper:\n",
    "    def __init__(self, params):\n",
    "        self.params =  params\n",
    "        \n",
    "    def fit_predict(self, X_train, Y_train, X_test):\n",
    "        y_pred_list = []\n",
    "        for i in range(Y_train.shape[1]):\n",
    "            regr = lightgbm.LGBMRegressor(**self.params)\n",
    "            regr.fit(X_train, Y_train[:, i])\n",
    "            y_pred = regr.predict(X_test)\n",
    "            y_pred_list.append(y_pred)\n",
    "            \n",
    "        return np.stack(y_pred_list, axis=1)"
   ]
  },
  {
   "cell_type": "code",
   "execution_count": 519,
   "metadata": {},
   "outputs": [
    {
     "name": "stdout",
     "output_type": "stream",
     "text": [
      "{'alpha': 100, 'random_state': 32}\n",
      "----  NK cells  --------\n",
      "X (genes, TFs): (8090, 114), Y (genes, samples): (8090, 528)\n",
      "X (genes, TFs): (10750, 114), Y (genes, samples): (10750, 528)\n",
      "Score:  0.038391619890590645\n",
      "----  agg_type  --------\n",
      "X (genes, TFs): (8090, 114), Y (genes, samples): (8090, 1309)\n",
      "X (genes, TFs): (10750, 114), Y (genes, samples): (10750, 1309)\n",
      "Score:  0.14372302903142029\n",
      "----  B cells  --------\n",
      "X (genes, TFs): (8090, 114), Y (genes, samples): (8090, 180)\n",
      "X (genes, TFs): (10750, 114), Y (genes, samples): (10750, 180)\n",
      "Score:  0.051939067308682876\n",
      "----  Myeloid cells  --------\n",
      "X (genes, TFs): (8090, 114), Y (genes, samples): (8090, 180)\n",
      "X (genes, TFs): (10750, 114), Y (genes, samples): (10750, 180)\n",
      "Score:  0.3247280907764374\n",
      "mean_score=0.17657469239449328\n"
     ]
    }
   ],
   "source": [
    "def cv_5(genes_n):\n",
    "    '''5 fold standard'''\n",
    "    num_groups = 5\n",
    "    group_size = genes_n // num_groups\n",
    "    groups = np.repeat(np.arange(num_groups), group_size)\n",
    "    if genes_n % num_groups != 0:\n",
    "        groups = np.concatenate((groups, np.arange(genes_n % num_groups)))\n",
    "    np.random.shuffle(groups)\n",
    "    return groups\n",
    "\n",
    "def run_mvt(net, reg_type='ridge', \n",
    "            params_RF=dict(n_estimators=100, n_jobs=10, oob_score=True),\n",
    "            params_ridge = dict(alpha=100), \n",
    "            params_GB = dict(n_estimators=100, min_child_samples=2, feature_fraction=0.1, verbosity=-1), \n",
    "            cv_type='5cv',\n",
    "            include_missing=False) -> None:     \n",
    "    #\n",
    "    df = df_train.copy()\n",
    "\n",
    "    # combined agg cell types\n",
    "    df = df.reset_index(level='cell_type').set_index('cell_type') \n",
    "    mapped_celltypes = df.index.map(cell_type_map_agg)\n",
    "    df.index = mapped_celltypes\n",
    "\n",
    "    # determine regressor \n",
    "    if reg_type=='ridge':\n",
    "        params = {**params_ridge, 'random_state':32}\n",
    "        print(params)\n",
    "        regr = Ridge(**params)\n",
    "    elif reg_type=='RF':\n",
    "        params = {**params_RF, 'random_state':32}\n",
    "        regr = RandomForestRegressor(**params)\n",
    "    elif reg_type=='GB':\n",
    "        from sklearn.ensemble import GradientBoostingRegressor\n",
    "       \n",
    "        params = {'random_state':32}\n",
    "        # regr = MultiOutputRegressor(GradientBoostingRegressor(**params), n_jobs=10)\n",
    "        # model.fit(X[:, in_mask][out_mask, :], X[out_mask, k])\n",
    "        # regr = RegressorChain(GradientBoostingRegressor(**params), n_jobs=10)\n",
    "        regr = lightgbm_wrapper(params_GB)\n",
    "    else:\n",
    "        raise ValueError(\"define first\")\n",
    "\n",
    "    # for each cell type\n",
    "    cell_type_index = df.index\n",
    "    Y_true_matrix_stack = []\n",
    "    Y_pred_matrix_stack = []\n",
    "    for cell_type in cell_type_index.unique():\n",
    "        print('---- ', cell_type,' --------')\n",
    "        # subset df for cell type \n",
    "        if cell_type in agg_type:\n",
    "            mask = cell_type_index.isin(agg_type)\n",
    "        else:\n",
    "            mask = cell_type_index==cell_type\n",
    "        df_celltype = df[mask]\n",
    "\n",
    "        # net is cell type dependent or not \n",
    "        if 'cell_type' in net:\n",
    "            net_celltype = net[net.cell_type==cell_type]\n",
    "        else:\n",
    "            net_celltype = net.copy()\n",
    "        # match net and df in terms of shared genes \n",
    "        net_genes = net_celltype.target.unique()\n",
    "        shared_genes = np.intersect1d(net_genes, df.columns)\n",
    "        net_celltype = net_celltype[net_celltype.target.isin(shared_genes)]\n",
    "\n",
    "        # define X and Y \n",
    "        Y = df_celltype[shared_genes].values.T\n",
    "        X = net_celltype.pivot(index='target', columns='source', values='weight').fillna(0).values\n",
    "        print(f'X (genes, TFs): {X.shape}, Y (genes, samples): {Y.shape}')\n",
    "\n",
    "        if include_missing==True:\n",
    "            missing_genes = np.setdiff1d(df.columns, shared_genes)\n",
    "            Y_missing = df_celltype[missing_genes].values.T\n",
    "            tfs_n = net_celltype.source.unique().shape[0]\n",
    "            \n",
    "            sparcity = (X==0).sum()/X.size\n",
    "            ratios = [sparcity, (1-sparcity)/2, (1-sparcity)/2]\n",
    "            shape = (missing_genes.shape[0], tfs_n)\n",
    "            X_random = np.random.choice([0, -1, 1], size=shape, p=ratios)\n",
    "            X = np.concatenate([X, X_random], axis=0)\n",
    "            Y = np.concatenate([Y, Y_missing], axis=0)\n",
    "            print(f'X (genes, TFs): {X.shape}, Y (genes, samples): {Y.shape}')\n",
    "        else:\n",
    "            pass \n",
    "            \n",
    "        # define cv scheme\n",
    "        if cv_type=='5cv': \n",
    "            groups = cv_5(X.shape[0])\n",
    "        elif cv_type=='5cv_cluster':\n",
    "            groups = cv_5_cluster(Y)\n",
    "\n",
    "        # run cv \n",
    "        Y_pred_stack = []\n",
    "        Y_true_stack = []\n",
    "        unique_groups = np.unique(groups)\n",
    "        \n",
    "        for group in unique_groups:\n",
    "            mask_va = groups==group\n",
    "            mask_tr = ~mask_va\n",
    "\n",
    "            X_tr, Y_tr = X[mask_tr,:], Y[mask_tr,:]\n",
    "            X_va, Y_true = X[mask_va,:], Y[mask_va,:]\n",
    "\n",
    "            if reg_type=='GB':\n",
    "                Y_pred = regr.fit_predict(X_tr, Y_tr, X_va)\n",
    "            else:\n",
    "                regr.fit(X_tr, Y_tr)\n",
    "                Y_pred = regr.predict(X_va)\n",
    "\n",
    "            Y_pred_stack.append(Y_pred)\n",
    "            Y_true_stack.append(Y_true)\n",
    "        y_pred = np.concatenate(Y_pred_stack, axis=0)\n",
    "        y_true = np.concatenate(Y_true_stack, axis=0)\n",
    "        score  = r2_score(y_true, y_pred, multioutput='variance_weighted') #uniform_average', 'variance_weighted\n",
    "        print(f'Score: ', score)\n",
    "        Y_true_matrix_stack.append(y_true)\n",
    "        Y_pred_matrix_stack.append(y_pred)\n",
    "\n",
    "    Y_true = np.concatenate(Y_true_matrix_stack, axis=1)\n",
    "    Y_pred = np.concatenate(Y_pred_matrix_stack, axis=1)\n",
    "    mean_score = r2_score(Y_true, Y_pred, multioutput='variance_weighted')\n",
    "    gene_scores = r2_score(Y_true.T, Y_pred.T, multioutput='raw_values')\n",
    "    sample_scores = r2_score(Y_true, Y_pred, multioutput='raw_values')\n",
    "    print(f'{mean_score=}')\n",
    "    return mean_score, gene_scores, sample_scores\n",
    "    \n",
    "if True:\n",
    "    net = grn_models_dict['sp_grn']\n",
    "    # net = sign_grn(net)\n",
    "    mean_score, gene_scores, sample_scores = run_mvt(net, include_missing=True, reg_type='ridge', params_ridge = dict(alpha=100))"
   ]
  },
  {
   "cell_type": "code",
   "execution_count": null,
   "metadata": {},
   "outputs": [],
   "source": [
    "\n",
    "import scipy.stats as stats\n",
    "\n",
    "# Generate your sample data (e.g., 'sample_data')\n",
    "# Choose a theoretical distribution (e.g., 'norm' for normal distribution)\n",
    "result = stats.kstest(gene_scores, gene_scores_random)\n",
    "\n",
    "print(f\"KS test statistic: {result.statistic}\")\n",
    "print(f\"P-value: {result.pvalue}\")\n",
    "\n"
   ]
  },
  {
   "cell_type": "code",
   "execution_count": null,
   "metadata": {},
   "outputs": [],
   "source": [
    "# plt.hist(score_genes, bins=100)\n",
    "mask = gene_scores > 0\n",
    "score_genes_f = gene_scores[mask]\n",
    "genes_f = df_train.columns[mask]"
   ]
  },
  {
   "cell_type": "code",
   "execution_count": null,
   "metadata": {},
   "outputs": [],
   "source": [
    "hkgs_mask  = np.isin(genes_f, housekeeping_genes)\n",
    "\n",
    "fig, axes = plt.subplots(1, 2, figsize=(8, 4)) \n",
    "ax = axes[0]\n",
    "ax.hist(score_genes_f[hkgs_mask], label='Housekeeping', color='cyan', alpha=0.5)\n",
    "ax.hist(score_genes_f[~hkgs_mask], label='Rest', color='grey', alpha=0.5)\n",
    "ax.set_xlabel('R2 score')\n",
    "ax.set_ylabel('Incident')\n",
    "ax.legend()"
   ]
  },
  {
   "cell_type": "markdown",
   "metadata": {},
   "source": [
    "# Regression analysis "
   ]
  },
  {
   "cell_type": "code",
   "execution_count": null,
   "metadata": {},
   "outputs": [],
   "source": [
    "cv_scheme = 'sm_name_10' # 'cell_type', 'sm_name', '10cv', 'sm_name_10', 'kn10', cell_type_plus\n",
    "fraction_test_cell = 0.2\n"
   ]
  },
  {
   "cell_type": "markdown",
   "metadata": {},
   "source": [
    "### Number of SVDs to summarize train data"
   ]
  },
  {
   "cell_type": "code",
   "execution_count": null,
   "metadata": {},
   "outputs": [],
   "source": [
    "from sklearn.decomposition import TruncatedSVD, PCA\n",
    "\n",
    "def func_svds(explained_variance_t=0.9): \n",
    "    \"\"\"Determine number of SVDs to explain explained_variance_t\"\"\"\n",
    "    n_components = 500\n",
    "    reducer = TruncatedSVD(n_components=n_components, random_state=32) \n",
    "    reducer.fit(df_train)\n",
    "    variance_explained = reducer.explained_variance_ratio_.cumsum()\n",
    "    n_components = sum(variance_explained < explained_variance_t) + 1  # Number of components to capture 90% variance\n",
    "    print(f\"Number of components to retain {explained_variance_t} of the variance: {n_components}\")\n",
    "    return n_components\n",
    "if True:\n",
    "    n_components = func_svds()\n",
    "    print(n_components)\n",
    "    n_components = min([35, n_components])\n",
    "    "
   ]
  },
  {
   "cell_type": "markdown",
   "metadata": {},
   "source": [
    "## TF enrichment model"
   ]
  },
  {
   "cell_type": "code",
   "execution_count": null,
   "metadata": {},
   "outputs": [],
   "source": [
    "def enrich_tfs_single(df_train_c, net):\n",
    "    estimate, pvals = dc.run_ulm(\n",
    "                df_train_c,\n",
    "                net,\n",
    "                # source='source',\n",
    "                # target='target',\n",
    "                # weight='weight',\n",
    "                verbose=False\n",
    "                )\n",
    "    return estimate\n",
    "def enrich_tfs_single_custom(df_train_c, net):\n",
    "    from skranger import ensemble\n",
    "    df = df_train_c.copy()\n",
    "    net_genes = net.target.unique()\n",
    "    shared_genes = np.intersect1d(net_genes, df.columns)\n",
    "\n",
    "    net = net[net.target.isin(shared_genes)]\n",
    "    y = df[shared_genes].values\n",
    "\n",
    "    X = net.pivot(index='target', columns='source', values='weight').fillna(0)\n",
    "\n",
    "    # regr_list = []\n",
    "    # for i in tqdm.tqdm(range(y.shape[1])):\n",
    "    #     regr = ensemble.RangerForestRegressor(n_estimators=100, n_jobs=10,\n",
    "    #                                 seed=32, importance='impurity', oob_error=True)\n",
    "    #     regr.fit(X, y[:, i])\n",
    "    #     regr_list.append(regr)\n",
    "    estimate = np.dot(y, X)\n",
    "    \n",
    "    return pd.DataFrame(estimate, index=df_train_c.index)\n",
    "\n",
    "def enrich_tfs(df_train, net):\n",
    "    \"TF enrichment score cell specific grns\"\n",
    "    df_train_c = df_train.copy()\n",
    "    df_train_c.index = df_train.index.map(lambda x: '@'.join(map(str, x))) # this is needed for enrichment analyisis\n",
    "    if 'cell_type' in net:\n",
    "        cell_type_index = df_train.index.get_level_values('cell_type')\n",
    "        # EA for each cell type\n",
    "        tf_act_stack = []\n",
    "        for cell_type in net.cell_type.unique():\n",
    "            if cell_type == 'agg_type':\n",
    "                mask = cell_type_index.isin(agg_type)\n",
    "            else:\n",
    "                mask = cell_type_index==cell_type\n",
    "            df_train_celltype = df_train_c[mask]\n",
    "\n",
    "            net_celltype = net[net.cell_type==cell_type]\n",
    "            tf_act = enrich_tfs_single(df_train_celltype, net_celltype)\n",
    "            tf_act_stack.append(tf_act)\n",
    "        tf_act_df = pd.concat(tf_act_stack).fillna(0)\n",
    "        tf_act_df = tf_act_df.reindex(df_train_c.index)\n",
    "            \n",
    "    else:\n",
    "        tf_act_df = enrich_tfs_single(df_train_c, net)\n",
    "    return tf_act_df\n",
    "\n",
    "# net = grn_models_all_dict['collectRI']\n",
    "# tf_acts =  enrich_tfs(df_train, net)\n",
    "# tf_acts.shape"
   ]
  },
  {
   "cell_type": "markdown",
   "metadata": {},
   "source": [
    "### Clusters\n"
   ]
  },
  {
   "cell_type": "code",
   "execution_count": null,
   "metadata": {},
   "outputs": [],
   "source": [
    "if False:\n",
    "    tf_acts.index= df_train.index\n",
    "    obs=tf_acts.index.to_frame().reset_index(drop=True)\n",
    "    var=pd.DataFrame(index=tf_acts.columns)\n",
    "    adata = anndata.AnnData(X=tf_acts.values, obs=obs , var=var)\n",
    "    with warnings.catch_warnings():\n",
    "        # sc.pp.normalize_per_cell(adata)\n",
    "        sc.tl.pca(adata, svd_solver='arpack', use_highly_variable=False)\n",
    "        sc.pp.neighbors(adata, n_neighbors=20, n_pcs=50)\n",
    "        sc.tl.umap(adata)\n",
    "        sc.pl.umap(adata, color=['cell_type'], frameon=False)\n",
    "        sc.pl.pca(adata, color=['cell_type'], frameon=False)"
   ]
  },
  {
   "cell_type": "markdown",
   "metadata": {},
   "source": [
    "### Number of SVDs to summarize TF scores"
   ]
  },
  {
   "cell_type": "code",
   "execution_count": null,
   "metadata": {},
   "outputs": [],
   "source": [
    "if False:\n",
    "    from sklearn.decomposition import PCA, TruncatedSVD\n",
    "\n",
    "    def func_svds(df, net, explained_variance_t=0.9): \n",
    "        \"\"\"Determine number of SVDs to explain 90% of varaince\"\"\"\n",
    "        df_train_c = df.copy()\n",
    "        tf_act = enrich_tfs(df_train_c, net)\n",
    "        # print(tf_act.iloc[0:3,:5])\n",
    "        n_components = min([500, tf_act.shape[1]])\n",
    "        # reducer = TruncatedSVD(n_components=n_components, n_iter=10, random_state=32)\n",
    "        reducer = PCA(n_components=n_components, random_state=32) \n",
    "        reducer.fit(tf_act)\n",
    "        variance_explained = reducer.explained_variance_ratio_.cumsum()\n",
    "        n_components = sum(variance_explained < explained_variance_t) + 1  # Number of components to capture 90% variance\n",
    "        print(f\"Number of components to retain {explained_variance_t} of the variance: {n_components}\")\n",
    "        return n_components\n",
    "    if False:\n",
    "        n_components_dict = {}\n",
    "        for name, grn in grn_models_all_dict.items():\n",
    "            print('----',name)\n",
    "            if subset_genes:\n",
    "                print('subsetting for gene')\n",
    "                genes_mask = df_train.columns.isin(grn.target) # mask on genes\n",
    "                df_train_tailored = df_train.loc[:, genes_mask] # subset training data for given genes\n",
    "            else:\n",
    "                df_train_tailored = df_train\n",
    "            # print('number of target genes: ', len(df_train_tailored.columns))\n",
    "            # print('tfs: ', grn.source.unique().shape)\n",
    "            n_components_dict[name] = func_svds(df_train_tailored, grn)"
   ]
  },
  {
   "cell_type": "code",
   "execution_count": null,
   "metadata": {},
   "outputs": [],
   "source": []
  },
  {
   "cell_type": "code",
   "execution_count": null,
   "metadata": {},
   "outputs": [],
   "source": [
    "Ridge: 0.32\n",
    "RF: 0.2942594697733679\n",
    "\n",
    "0.26483145821910986"
   ]
  },
  {
   "cell_type": "code",
   "execution_count": null,
   "metadata": {},
   "outputs": [],
   "source": [
    "aa"
   ]
  },
  {
   "cell_type": "markdown",
   "metadata": {},
   "source": [
    "## geneRNI fit"
   ]
  },
  {
   "cell_type": "code",
   "execution_count": null,
   "metadata": {},
   "outputs": [],
   "source": [
    "if True:\n",
    "    from skranger import ensemble\n",
    "    class generni:\n",
    "        def __init__(self, net) -> None:\n",
    "            df = df_train.copy()\n",
    "            net_genes = net.target.unique()\n",
    "            shared_genes = np.intersect1d(net_genes, df.columns)\n",
    "\n",
    "            net = net[net.target.isin(shared_genes)]\n",
    "            net = net[net.source.isin(df.columns)] # tfs should be as genes\n",
    "            X_stack = []\n",
    "            Y_stack = []\n",
    "\n",
    "            for i, gene in enumerate(net.target.unique()):\n",
    "                tfs = net[net.target== gene].source.unique()\n",
    "                X_stack.append(df[tfs])\n",
    "                Y_stack.append(df.iloc[:,i])\n",
    "\n",
    "            self.X_stack = X_stack\n",
    "            self.Y_stack = Y_stack\n",
    "\n",
    "            print('number of genes: ', len(self.X_stack))\n",
    "\n",
    "        def validate(self, mask_tr, mask_va):            \n",
    "            oob_error_list = []\n",
    "            Y_pred_stack = []\n",
    "            Y_true_stack = []\n",
    "\n",
    "            for i in tqdm.tqdm(range(len(self.Y_stack))):\n",
    "                X = np.asarray(self.X_stack[i])\n",
    "                Y =  np.asarray(self.Y_stack[i])\n",
    "                X_tr, Y_tr = X[mask_tr,:], Y[mask_tr]\n",
    "                X_va, Y_true = X[mask_va,:],Y[mask_va]\n",
    "        \n",
    "                # regr = ensemble.RangerForestRegressor(n_estimators=100, n_jobs=10,  seed=32, importance='impurity', oob_error=True)\n",
    "                regr = Ridge(alpha=10, random_state=32)\n",
    "                regr.fit(X_tr, Y_tr)\n",
    "                Y_pred_stack.append(regr.predict(X_va))\n",
    "                # print(regr.score(X_tr, Y_tr))\n",
    "                Y_true_stack.append(Y_true)\n",
    "                # oob_error_list.append(regr.ranger_forest_['prediction_error'])\n",
    "            # oob_error = np.mean(oob_error_list)\n",
    "            oob_error = None\n",
    "            Y_pred = np.asarray(Y_pred_stack).T\n",
    "            Y_true = np.asarray(Y_true_stack).T\n",
    "\n",
    "            return oob_error, Y_pred, Y_true\n",
    "        def CV(self):\n",
    "            groups, group_assignments = cv_scheme_5f()\n",
    "            # groups, group_assignments = cv_scheme_cell_type_two()\n",
    "\n",
    "            Y_pred_stack = []\n",
    "            Y_true_stack = []\n",
    "            oob_error_stack = []\n",
    "\n",
    "            for group in group_assignments:\n",
    "                print('CV ', group)\n",
    "                mask_va = groups==group\n",
    "                mask_tr = ~mask_va\n",
    "                oob_error, Y_pred, Y_true = self.validate(mask_tr, mask_va)\n",
    "                oob_error_stack.append(oob_error)\n",
    "                Y_pred_stack.append(Y_pred)\n",
    "                Y_true_stack.append(Y_true)\n",
    "                print(r2_score(Y_true, Y_pred, multioutput='variance_weighted'))\n",
    "            return oob_error_stack, Y_pred_stack, Y_true_stack\n",
    "\n",
    "    net = grn_models_all_dict['figr_grn_shuffled']\n",
    "    model = generni(net)\n",
    "    oob_error_list, Y_pred_stack, Y_true_stack = model.CV()\n",
    "    y_pred_all = np.concatenate(Y_pred_stack, axis=0)\n",
    "    y_true_all = np.concatenate(Y_true_stack, axis=0)\n",
    "    r2score  = r2_score(y_true_all, y_pred_all, multioutput='variance_weighted')\n",
    "    print(r2score)"
   ]
  },
  {
   "cell_type": "markdown",
   "metadata": {},
   "source": [
    "## Regression models"
   ]
  },
  {
   "cell_type": "markdown",
   "metadata": {},
   "source": [
    "### Encoder"
   ]
  },
  {
   "cell_type": "code",
   "execution_count": null,
   "metadata": {},
   "outputs": [],
   "source": [
    "# from py_boost import GradientBoosting\n",
    "random_state = 32\n",
    "id_map = pd.read_csv(f'{kaggle_data_dir}/open-problems-single-cell-perturbations/id_map.csv', index_col=0)\n",
    "\n",
    "class model_encoder:\n",
    "    def __init__(self, df_train, n_components_y=20, \n",
    "                    n_encode_tfs = 20,\n",
    "                    te_params = dict(min_samples_leaf=20, smoothing=100),\n",
    "                    grn_model=None\n",
    "                    ):  \n",
    "        # target df to encode\n",
    "        self.n_encode_tfs = n_encode_tfs\n",
    "        self.df_train = df_train\n",
    "        self.grn_model = grn_model\n",
    "        # regressor\n",
    "        # self.emb_model = RandomForestRegressor(n_estimators=100, random_state=random_state)\n",
    "\n",
    "        # self.emb_model = MultiOutputRegressor(RandomForestRegressor(n_estimators=100, random_state=random_state))\n",
    "        self.emb_model = Ridge(alpha=10, random_state=random_state)\n",
    "        # self.emb_model = RandomForestRegressor(n_estimators=100, random_state=random_state)\n",
    "        self.reducer = TruncatedSVD(n_components=n_components_y, n_iter=12, random_state=random_state)\n",
    "        self.Y = self.reducer.fit_transform(df_train)\n",
    "        # encoder \n",
    "        self.enc = ce.TargetEncoder(**te_params) #[0, 0.05, 0.5, 0.1,0.9,10]\n",
    "        # encode data\n",
    "        self.emb_data = self.create_feature_space(self.df_train)\n",
    "        self.determine_X()\n",
    "        print(self.X.shape)\n",
    "    def ohe(self, hot_encoding_features):\n",
    "        for i, feature in tqdm.tqdm(enumerate(hot_encoding_features)):\n",
    "            X_encoded = pd.get_dummies(self.df_train.reset_index()[feature], columns=[feature]).values\n",
    "            if i == 0:\n",
    "                X = X_encoded\n",
    "                # X_submit = X_submit_encoded\n",
    "            else:\n",
    "                X = np.concatenate([X, X_encoded], axis = 1)\n",
    "                # X_submit = np.concatenate([X_submit, X_submit_encoded], axis = 1)\n",
    "        return X\n",
    "    def target_encoding(self, feature_x, target_encoding_features):\n",
    "        for i, feature in tqdm.tqdm(enumerate(target_encoding_features)):\n",
    "            unique_names = self.df_train.index.get_level_values(feature).unique()\n",
    "            n_components_enc = min([len(unique_names), feature_x.shape[1]])\n",
    "            for i_target in tqdm.tqdm(range(n_components_enc)):\n",
    "                if i_target == 0:\n",
    "                    X_encoded = self.enc.fit_transform(self.df_train.reset_index()[feature], feature_x[:,i_target])\n",
    "                    # X_submit_encoded = self.enc.transform(id_map.reset_index()[feature])\n",
    "                else:\n",
    "                    X_encoded_tmp = self.enc.fit_transform(self.df_train.reset_index()[feature], feature_x[:,i_target])\n",
    "                    X_encoded = np.concatenate([X_encoded, X_encoded_tmp], axis = 1)\n",
    "                    # X_encoded_tmp = self.enc.transform(id_map.reset_index()[feature])\n",
    "                    # X_submit_encoded = np.concatenate([X_submit_encoded, X_encoded_tmp], axis = 1)\n",
    "            if i==0:\n",
    "                X = X_encoded\n",
    "            else:\n",
    "                X = np.concatenate([X, X_encoded], axis = 1)\n",
    "        return X\n",
    "    def determine_X(self):\n",
    "        features = self.df_train.index.names\n",
    "        feature_x = self.emb_data\n",
    "        if self.grn_model is None:\n",
    "            X = self.ohe(features)        \n",
    "        else:\n",
    "            X = self.target_encoding(feature_x, features)        \n",
    "        self.X = X\n",
    "    def create_feature_space(self, df_to_encode):\n",
    "        if self.grn_model is not None:\n",
    "            df_train_c = df_to_encode.copy()\n",
    "            net = self.grn_model\n",
    "            tf_act = enrich_tfs(df_train_c, net)\n",
    "            if False: # to variable\n",
    "                variances = tf_act.var()\n",
    "                sorted_variances = variances.sort_values(ascending=False)\n",
    "                top_tfs = sorted_variances.index.tolist()\n",
    "                tf_act = tf_act[top_tfs].values\n",
    "            elif True: # SVD\n",
    "                n_components = min([tf_act.shape[1], 30])\n",
    "                tf_act = TruncatedSVD(n_components=n_components, n_iter=12, random_state=random_state).fit_transform(tf_act)\n",
    "            else: # keep the actual TF scores\n",
    "                tf_act = tf_act.values\n",
    "            return tf_act\n",
    "    def validate(self, mask_tr, mask_va):\n",
    "        X_tr, Y_tr = self.X[mask_tr,:], self.Y[mask_tr,:]\n",
    "        X_va = self.X[mask_va,:]\n",
    "        self.emb_model.fit(X_tr, Y_tr)\n",
    "        y_pred = self.emb_model.predict(X_va)\n",
    "        return self.reducer.inverse_transform(y_pred)\n",
    "        # return self.emb_model.predict(X_va)\n",
    "# net = grn_models_all_dict['figr_grn']\n",
    "# mm = model_encoder(df_train, grn_model=net)\n",
    "mm.emb_model = Ridge(alpha=10, random_state=random_state)\n",
    "compute_cv(mm, df_train)\n"
   ]
  },
  {
   "cell_type": "code",
   "execution_count": null,
   "metadata": {},
   "outputs": [],
   "source": [
    "cv_scheme = 'cell_type_plus'\n",
    "if cv_scheme =='kn10':\n",
    "    groups, group_assignments = cv_scheme_kn10()\n",
    "elif cv_scheme=='sm_name': # cluster of sm_name\n",
    "    groups, group_assignments = cv_scheme_sm_name()\n",
    "elif cv_scheme=='sm_name_10': # cluster of sm_name\n",
    "    groups, group_assignments = cv_scheme_sm_name_10()\n",
    "elif cv_scheme=='cell_type': # one group for each trainig cell_type\n",
    "    groups, group_assignments = cv_scheme_cell_type()\n",
    "elif cv_scheme=='5cv':\n",
    "    groups, group_assignments = cv_scheme_5f()\n",
    "elif cv_scheme=='cell_type_plus':\n",
    "    groups, group_assignments = cv_scheme_cell_type_plus()\n",
    "elif cv_scheme=='cell_type_two':\n",
    "    groups, group_assignments = cv_scheme_cell_type_two()\n",
    "else:\n",
    "    raise ValueError('define')\n",
    "def compute_cv(model, df_train):\n",
    "    y_true_list = []\n",
    "    y_pred_list = []\n",
    "    for group in tqdm.tqdm(group_assignments):\n",
    "        mask_va = groups==group\n",
    "        mask_tr = ~mask_va\n",
    "        y_true = df_train[mask_va].values\n",
    "        y_pred = model.validate(mask_tr, mask_va)\n",
    "        if False:\n",
    "            print('r2_score:', r2_score(y_true, y_pred, multioutput='variance_weighted'), \n",
    "                'mean_absolute_error: ', mean_absolute_error(y_true, y_pred))\n",
    "        y_pred_list.append(y_pred)\n",
    "        y_true_list.append(y_true)\n",
    "    y_pred_all = np.concatenate(y_pred_list, axis=0)\n",
    "    y_true_all = np.concatenate(y_true_list, axis=0)\n",
    "    r2_score_overall = r2_score(y_true_all, y_pred_all, multioutput='variance_weighted')\n",
    "    mean_absolute_error_overall = mean_absolute_error(y_true_all, y_pred_all)\n",
    "    return r2_score_overall, mean_absolute_error_overall"
   ]
  },
  {
   "cell_type": "code",
   "execution_count": null,
   "metadata": {},
   "outputs": [],
   "source": [
    "if False:\n",
    "    import os\n",
    "    # Optional: set the device to run\n",
    "    os.environ[\"CUDA_DEVICE_ORDER\"] = \"PCI_BUS_ID\"\n",
    "    os.environ[\"CUDA_VISIBLE_DEVICES\"] = \"0\"\n",
    "\n",
    "    import joblib\n",
    "    from sklearn.datasets import make_regression\n",
    "    import numpy as np\n",
    "\n",
    "    # simple case - just one class is used\n",
    "    from py_boost import GradientBoosting, TLPredictor, TLCompiledPredictor\n",
    "    from py_boost.cv import CrossValidation\n",
    "    X, y = make_regression(150000, 100, n_targets=10, random_state=42)\n",
    "    X_test, y_test = X[:50000], y[:50000]\n",
    "    X, y = X[-50000:], y[-50000:]\n",
    "\n",
    "    model = GradientBoosting('mse')\n",
    "\n",
    "    model.fit(X, y)\n",
    "    print(model.predict(X_test))\n",
    "    model.fit(X, y)\n",
    "    print(model.predict(X_test))\n"
   ]
  },
  {
   "cell_type": "markdown",
   "metadata": {},
   "source": [
    "### Build"
   ]
  },
  {
   "cell_type": "code",
   "execution_count": null,
   "metadata": {},
   "outputs": [],
   "source": [
    "enc_models = {}"
   ]
  },
  {
   "cell_type": "code",
   "execution_count": null,
   "metadata": {},
   "outputs": [],
   "source": [
    "# create encoding models \n",
    "if True:\n",
    "    for name, grn in grn_models_all_dict.items():\n",
    "        print('----',name)\n",
    "        enc_models[name] = model_encoder(df_train, grn_model=grn)\n",
    "## add baseline model. \n",
    "if True:\n",
    "    enc_models['baseline'] = model_encoder(df_train)\n"
   ]
  },
  {
   "cell_type": "markdown",
   "metadata": {},
   "source": [
    "## Cross validation"
   ]
  },
  {
   "cell_type": "code",
   "execution_count": null,
   "metadata": {},
   "outputs": [],
   "source": [
    "\n",
    "    \n",
    "def cv_scheme_cell_type():\n",
    "    cell_types = df_train.index.get_level_values('cell_type')\n",
    "    train_cell_types = ['NK cells', 'T cells CD4+', 'T cells CD8+', 'T regulatory cells']\n",
    "    group_assignments = range(len(train_cell_types))\n",
    "    group_dict = dict(zip(train_cell_types, group_assignments))\n",
    "    groups = cell_types.map(group_dict)\n",
    "    return groups, group_assignments\n",
    "def cv_scheme_kn10():\n",
    "    gene_expr_values = df_train.values\n",
    "    num_clusters = 10 \n",
    "    kmeans = KMeans(n_clusters=num_clusters, random_state=42)\n",
    "    kmeans.fit(gene_expr_values)\n",
    "    groups = kmeans.labels_\n",
    "    group_assignments = range(num_clusters)\n",
    "    return groups, group_assignments\n",
    "def cv_scheme_sm_name():\n",
    "    sm_names = df_train.index.get_level_values('sm_name')\n",
    "    unique_sm_names = sm_names.unique()\n",
    "    group_assignments = range(len(unique_sm_names))\n",
    "    group_dict = dict(zip(unique_sm_names, group_assignments))\n",
    "    groups = sm_names.map(group_dict)\n",
    "    return groups, group_assignments\n",
    "def cv_scheme_sm_name_10():\n",
    "    n = 10\n",
    "    sm_names = df_train.index.get_level_values('sm_name')\n",
    "    unique_sm_names = sm_names.unique().values\n",
    "    group_assignments = range(n)\n",
    "    np.random.shuffle(unique_sm_names)\n",
    "    group_dict = {}\n",
    "    for i, sm_name in enumerate(unique_sm_names):\n",
    "        group_dict[sm_name] = i%n\n",
    "    groups = sm_names.map(group_dict)\n",
    "    return groups, group_assignments\n",
    "def cv_scheme_cell_type_plus():\n",
    "    np.random.seed(32)\n",
    "    index = df_train.reset_index().index\n",
    "    index_group = {}\n",
    "    cv_fold = 0\n",
    "    for test_cell in train_cell_types:\n",
    "        mask_test_cell = df_train.index.get_level_values('cell_type')==test_cell\n",
    "        index_test_cell = index[mask_test_cell]\n",
    "        index_test_cell_size = index_test_cell.shape[0]\n",
    "        for fraction in [fraction_test_cell]: # fraction of test cell to be included in train set. 0 equals cell_type cv\n",
    "            test_size = int((1-fraction)*(index_test_cell_size))\n",
    "            random_choice = np.random.choice(index_test_cell, size=test_size, replace=False)\n",
    "            index_group = {**index_group, **{index:cv_fold for index in random_choice}}\n",
    "\n",
    "            cv_fold+=1\n",
    "    group_assignments = range(cv_fold)\n",
    "    groups = index.map(index_group)\n",
    "    return groups, group_assignments\n",
    "def cv_scheme_cell_type_two():\n",
    "    cell_types_cv = ['NK cells', 'T cells CD4+']\n",
    "    np.random.seed(32)\n",
    "    index = df_train.reset_index().index\n",
    "    index_group = {}\n",
    "    cv_fold = 0\n",
    "    for test_cell in cell_types_cv:\n",
    "        mask_test_cell = df_train.index.get_level_values('cell_type')==test_cell\n",
    "        index_test_cell = index[mask_test_cell]\n",
    "        index_test_cell_size = index_test_cell.shape[0]\n",
    "        for fraction in [fraction_test_cell]: # fraction of test cell to be included in train set. 0 equals cell_type cv\n",
    "            test_size = int((1-fraction)*(index_test_cell_size))\n",
    "            random_choice = np.random.choice(index_test_cell, size=test_size, replace=False)\n",
    "            index_group = {**index_group, **{index:cv_fold for index in random_choice}}\n",
    "\n",
    "            cv_fold+=1\n",
    "    group_assignments = range(cv_fold)\n",
    "    groups = index.map(index_group)\n",
    "\n",
    "    return groups, group_assignments\n",
    "def cv_scheme_5f():\n",
    "    num_groups = 5\n",
    "    group_assignments = range(num_groups)\n",
    "    group_size = len(df_train) // num_groups\n",
    "    groups = np.repeat(np.arange(num_groups), group_size)\n",
    "    if len(df_train) % num_groups != 0:\n",
    "        groups = np.concatenate((groups, np.arange(len(df_train) % num_groups)))\n",
    "    np.random.shuffle(groups)\n",
    "    return groups, group_assignments\n",
    "\n",
    "\n",
    "    \n",
    "if cv_scheme =='kn10':\n",
    "    groups, group_assignments = cv_scheme_kn10()\n",
    "elif cv_scheme=='sm_name': # cluster of sm_name\n",
    "    groups, group_assignments = cv_scheme_sm_name()\n",
    "elif cv_scheme=='sm_name_10': # cluster of sm_name\n",
    "    groups, group_assignments = cv_scheme_sm_name_10()\n",
    "elif cv_scheme=='cell_type': # one group for each trainig cell_type\n",
    "    groups, group_assignments = cv_scheme_cell_type()\n",
    "elif cv_scheme=='5cv':\n",
    "    groups, group_assignments = cv_scheme_5f()\n",
    "elif cv_scheme=='cell_type_plus':\n",
    "    groups, group_assignments = cv_scheme_cell_type_plus()\n",
    "elif cv_scheme=='cell_type_two':\n",
    "    groups, group_assignments = cv_scheme_cell_type_two()\n",
    "else:\n",
    "    raise ValueError('define')\n",
    "\n",
    "def compute_cv(model, df_train):\n",
    "    y_true_list = []\n",
    "    y_pred_list = []\n",
    "    for group in tqdm.tqdm(group_assignments):\n",
    "        mask_va = groups==group\n",
    "        mask_tr = ~mask_va\n",
    "        y_true = df_train[mask_va].values\n",
    "        y_pred = model.validate(mask_tr, mask_va)\n",
    "        if False:\n",
    "            print('r2_score:', r2_score(y_true, y_pred, multioutput='variance_weighted'), \n",
    "                'mean_absolute_error: ', mean_absolute_error(y_true, y_pred))\n",
    "        y_pred_list.append(y_pred)\n",
    "        y_true_list.append(y_true)\n",
    "    y_pred_all = np.concatenate(y_pred_list, axis=0)\n",
    "    y_true_all = np.concatenate(y_true_list, axis=0)\n",
    "    r2_score_overall = r2_score(y_true_all, y_pred_all, multioutput='variance_weighted')\n",
    "    mean_absolute_error_overall = mean_absolute_error(y_true_all, y_pred_all)\n",
    "    return r2_score_overall, mean_absolute_error_overall"
   ]
  },
  {
   "cell_type": "markdown",
   "metadata": {},
   "source": [
    "### actual run"
   ]
  },
  {
   "cell_type": "code",
   "execution_count": null,
   "metadata": {},
   "outputs": [],
   "source": [
    "fresh_start = True\n",
    "r2_scores_dict = {}\n",
    "mse_dict = {}\n",
    "\n",
    "for i, (name, model) in enumerate(enc_models.items()):\n",
    "    print('\\n')\n",
    "    r2_score_overall, mean_absolute_error_overall = compute_cv(model, df_train)\n",
    "    print('\\n', name, r2_score_overall, mean_absolute_error_overall)\n",
    "\n",
    "    r2_scores_dict[name] = r2_score_overall\n",
    "    mse_dict[name] = mean_absolute_error_overall"
   ]
  },
  {
   "cell_type": "code",
   "execution_count": null,
   "metadata": {},
   "outputs": [],
   "source": [
    "asas"
   ]
  },
  {
   "cell_type": "markdown",
   "metadata": {},
   "source": [
    "### Results"
   ]
  },
  {
   "cell_type": "code",
   "execution_count": null,
   "metadata": {},
   "outputs": [],
   "source": [
    "r2_scores_dict"
   ]
  },
  {
   "cell_type": "code",
   "execution_count": null,
   "metadata": {},
   "outputs": [],
   "source": [
    "mse_dict"
   ]
  },
  {
   "cell_type": "markdown",
   "metadata": {},
   "source": [
    "## Robustness to shuffle"
   ]
  },
  {
   "cell_type": "code",
   "execution_count": null,
   "metadata": {},
   "outputs": [],
   "source": [
    "net = grn_models_all_dict['collectRI']\n",
    "r2_stack = []\n",
    "mae_stack = []\n",
    "for i in range(10):\n",
    "    net_shuffled = shuffle_grn(net)\n",
    "    model = model_encoder(df_train=df_train, grn_model=net_shuffled)\n",
    "    r2_score_overall, mean_absolute_error_overall = compute_cv(model, df_train)\n",
    "    print(r2_score_overall)\n",
    "    r2_stack.append(r2_score_overall)\n",
    "    mae_stack.append(mean_absolute_error_overall)"
   ]
  },
  {
   "cell_type": "code",
   "execution_count": null,
   "metadata": {},
   "outputs": [],
   "source": [
    "(r2_stack > r2_scores_dict['collectRI']).sum()"
   ]
  },
  {
   "cell_type": "code",
   "execution_count": null,
   "metadata": {},
   "outputs": [],
   "source": [
    "asasa"
   ]
  },
  {
   "cell_type": "code",
   "execution_count": null,
   "metadata": {},
   "outputs": [],
   "source": [
    "# r2_score(y_true_list[0].T, y_pred_list[0].T)\n",
    "y_true = y_true_list[0]\n",
    "y_pred = y_pred_list[0]\n",
    "y_pred_all = np.concatenate(y_pred_list, axis=0)\n",
    "y_true_all = np.concatenate(y_true_list, axis=0)\n",
    "def custom_r2(y_true, y_pred):\n",
    "    y_mean = y_true.mean(axis=0)\n",
    "    # print((y_true - y_mean).shape)\n",
    "    total_sum_of_squares = ((y_true - y_mean) ** 2).sum()\n",
    "    sum_of_squares_of_residuals = ((y_true - y_pred) ** 2).sum()\n",
    "    r2_score_case = 1 - (sum_of_squares_of_residuals / total_sum_of_squares)\n",
    "    return r2_score_case\n",
    "# custom_r2(y_true_all, y_pred_all)\n",
    "r2_score(y_true, y_pred, multioutput='variance_weighted')\n"
   ]
  },
  {
   "cell_type": "code",
   "execution_count": null,
   "metadata": {},
   "outputs": [],
   "source": [
    "# cross validation score\n",
    "fig, ax = plt.subplots(1, 1, figsize=(7, 3.5), sharey=False)\n",
    "data_dict = cv_scores_genes_dict\n",
    "\n",
    "offset_amount = 0.4  # Control the offset amount for plots and text\n",
    "legend_colors = ['purple', 'orange']\n",
    "colors_map = {'purple': 'Inferred weight', 'orange': 'Inferred sign', 'white':''}\n",
    "data_for_plot = []\n",
    "labels_for_plot = []\n",
    "positions = []\n",
    "colors = []\n",
    "current_position = 1\n",
    "category_positions = {}  # Recalculating category positions\n",
    "for key in data_dict.keys():\n",
    "    \n",
    "    data_for_plot.append(data_dict[key])\n",
    "    category_label = surragate_names.get(key, key)\n",
    "    if category_label not in category_positions:\n",
    "        category_positions[category_label] = current_position\n",
    "        labels_for_plot.append(category_label)\n",
    "        current_position += 2\n",
    "    positions.append(category_positions[category_label])\n",
    "    colors.append('white')\n",
    "violin_parts = ax.violinplot(data_for_plot, positions=positions, \n",
    "                             showmeans=False, \n",
    "                             showmedians=True, \n",
    "                             showextrema=False)\n",
    "handles = []  # To store legend handles\n",
    "\n",
    "for i, pc in enumerate(violin_parts['bodies']):\n",
    "    color = colors[i]\n",
    "    pc.set_facecolor(color)\n",
    "    pc.set_edgecolor('black')\n",
    "    pc.set_alpha(.8)  # Ensuring the plot is fully opaque\n",
    "    if colors_map[color] not in [h.get_label() for h in handles]:  # Avoid duplicate legend entries\n",
    "        if color == 'white':\n",
    "            continue\n",
    "        handles.append(plt.Line2D([0], [0], color=color, linewidth=10, label=colors_map[color]))\n",
    "keys = ['cmaxes', 'cmins', 'cbars', 'cmedians']\n",
    "for key in keys:\n",
    "    if key in violin_parts:\n",
    "        violin_parts[key].set_edgecolor('#C4C4C4')\n",
    "\n",
    "ax.set_xticks([pos for key, pos in category_positions.items()])\n",
    "ax.set_xticklabels(labels_for_plot, rotation=45)\n",
    "ax.set_title('Cross Validation Scores')\n",
    "ax.set_ylabel('R2 Score')\n",
    "ax.set_ylim([-.8, 1])\n",
    "ax.legend(handles=handles, loc=(1.01,.8), frameon=False)\n",
    "# Correcting text annotations with offset adjustments\n",
    "for i, data in enumerate(data_for_plot):\n",
    "    if len(data) == 0: continue  # Skip empty datasets\n",
    "    mean_val = np.mean(data)\n",
    "    text_pos = positions[i]\n",
    "    plt.text(text_pos, max(data) + (0.1 * max(data)), f'{mean_val:.2f}', ha='center', color='black')\n",
    "plt.tight_layout()\n",
    "plt.show()"
   ]
  },
  {
   "cell_type": "code",
   "execution_count": null,
   "metadata": {},
   "outputs": [],
   "source": [
    "[np.mean(cv_scores_genes_dict[name]) for name in cv_scores_genes_dict.keys()]\n",
    "# cv_scores_genes_dict['baseline']"
   ]
  },
  {
   "cell_type": "markdown",
   "metadata": {},
   "source": [
    "## Kaggle score\n",
    "We can only submit if they are build on original data"
   ]
  },
  {
   "cell_type": "code",
   "execution_count": null,
   "metadata": {},
   "outputs": [],
   "source": [
    "from kaggle.api.kaggle_api_extended import KaggleApi\n",
    "os.environ['KAGGLE_USERNAME'] = 'jalilnourisa'\n",
    "os.environ['KAGGLE_KEY'] = '63552f12403af36f40106e6821e80327'\n",
    "api = KaggleApi()\n",
    "api.authenticate()\n",
    "# prefix = 'tfactivity_shuffled'  \n",
    "prefix =  'trial2' \n",
    "\n",
    "gene_names = df_train.columns\n",
    "\n",
    "os.makedirs(f'{work_dir}/submits/', exist_ok=True)\n",
    "\n",
    "def format_y_submit(Y_submit):\n",
    "    y_submit_df = pd.DataFrame(Y_submit, columns=gene_names)\n",
    "    y_submit_df.index.name = 'id'\n",
    "    y_submit_df = y_submit_df.round(5)\n",
    "    return y_submit_df\n",
    "def write_submit(Y_submit_df, file_name):\n",
    "    Y_submit_df.to_csv(f'{work_dir}/submits/{file_name}.csv')\n",
    "def submit(file_name):\n",
    "    filename = f\"../output/submits/{file_name}.csv\"\n",
    "    competition = \"open-problems-single-cell-perturbations\"\n",
    "    api.competition_submit(file_name=filename, message=file_name, competition=competition)\n",
    "\n",
    "for name, model in enc_models.items():\n",
    "    if name in ['baseline', 'collectRI_sign']:\n",
    "        continue\n",
    "    file_name = f'{prefix}_{name}'\n",
    "    print(name)\n",
    "    y_submit = model.calculate_y_submit()\n",
    "    y_submit_df = format_y_submit(y_submit)\n",
    "    write_submit(y_submit_df, file_name)\n",
    "    submit(file_name)\n",
    "### kaggle scores\n",
    "def get_kaggle_scores(prefix):\n",
    "    submissions = api.competition_submissions(\"open-problems-single-cell-perturbations\")\n",
    "    kaggle_scores_dict = {}\n",
    "    for submission in submissions:\n",
    "        kaggle_scores_dict[submission.fileName.replace('.csv', '')] = [submission.publicScore,  submission.privateScore]\n",
    "    kaggle_scores_dict = {key:values for key,values in kaggle_scores_dict.items() if (prefix in key)}\n",
    "    kaggle_scores_df = pd.DataFrame(kaggle_scores_dict.values(), index=kaggle_scores_dict.keys(), columns=['public_test', 'private_test']).reset_index().rename(columns={'index':'grn_model'})\n",
    "    kaggle_scores_df.grn_model = kaggle_scores_df.grn_model.str.replace(f'{prefix}_','')\n",
    "    return kaggle_scores_df\n",
    "get_kaggle_scores(prefix)"
   ]
  },
  {
   "cell_type": "markdown",
   "metadata": {},
   "source": [
    "## Robustness analysis"
   ]
  },
  {
   "cell_type": "markdown",
   "metadata": {},
   "source": [
    "### Random baseline"
   ]
  },
  {
   "cell_type": "code",
   "execution_count": null,
   "metadata": {},
   "outputs": [],
   "source": [
    "# pool the predictions\n",
    "y_submits = []\n",
    "for name, enc_model in tqdm.tqdm(enc_models.items()):\n",
    "    y_submits.append(enc_model.calculate_y_submit())\n",
    "pool_ = np.concatenate([np.ndarray.flatten(y_submit) for y_submit in y_submits])\n"
   ]
  },
  {
   "cell_type": "code",
   "execution_count": null,
   "metadata": {},
   "outputs": [],
   "source": [
    "y_submit_format = format_y_submit(y_submits[0])\n",
    "y_submits_random = []\n",
    "for i in range(100):\n",
    "    y_submits_random.append(format_y_submit(np.random.choice(pool_, size=y_submit_format.shape)))"
   ]
  },
  {
   "cell_type": "code",
   "execution_count": null,
   "metadata": {},
   "outputs": [],
   "source": [
    "from kaggle.api.kaggle_api_extended import KaggleApi\n",
    "os.environ['KAGGLE_USERNAME'] = 'jalilnourisa'\n",
    "os.environ['KAGGLE_KEY'] = '63552f12403af36f40106e6821e80327'\n",
    "api = KaggleApi()\n",
    "api.authenticate()\n",
    "prefix = 'random'    \n",
    "\n",
    "for i, y_submit_df in enumerate(y_submits_random):\n",
    "    if i < 17:\n",
    "        continue\n",
    "    file_name = f'{prefix}_{i}'\n",
    "    write_submit(y_submit_df, file_name)\n",
    "    submit(file_name)"
   ]
  },
  {
   "cell_type": "markdown",
   "metadata": {},
   "source": [
    "### Shuffle grn "
   ]
  },
  {
   "cell_type": "code",
   "execution_count": null,
   "metadata": {},
   "outputs": [],
   "source": [
    "prefix = 'shuffletest_100tf'\n",
    "for name, grn in zip(['co_grn', 'figr_grn'], [co_grn, figr_grn]):\n",
    "    file_name = f'{prefix}_{name}'\n",
    "    print(file_name)\n",
    "    y_submit = enc_model.calculate_y_submit()\n",
    "    y_submit_df = format_y_submit(y_submit)\n",
    "    write_submit(y_submit_df, file_name)\n",
    "    submit(file_name)\n",
    "\n",
    "    for i in range(20,100):\n",
    "        grn_s = grn.copy()\n",
    "        grn_s['source'] = grn_s['source'].sample(frac=1).reset_index(drop=True)\n",
    "        grn_s['target'] = grn_s['target'].sample(frac=1).reset_index(drop=True)\n",
    "\n",
    "        dup_flags = grn_s[['source','target']].duplicated()\n",
    "        grn_s = grn_s[~dup_flags].reset_index(drop=True)\n",
    "        if grn_s.duplicated().sum()>0:\n",
    "            raise ValueError('')\n",
    "        #-- create the model\n",
    "        sm_name_svd_n = 100\n",
    "        celltype_svd_n = 100\n",
    "\n",
    "        enc_model = model_encoder(df_main_reg, grn_model=grn_s, shares={\n",
    "                                            'sm_name':{'tf_x':sm_name_svd_n},\n",
    "                                            'cell_type': {'tf_x':celltype_svd_n}\n",
    "                                            })\n",
    "        file_name = f'{prefix}_{name}_{i}'\n",
    "        print(file_name)\n",
    "        y_submit = enc_model.calculate_y_submit()\n",
    "        y_submit_df = format_y_submit(y_submit)\n",
    "        write_submit(y_submit_df, file_name)\n",
    "        submit(file_name)"
   ]
  },
  {
   "cell_type": "code",
   "execution_count": null,
   "metadata": {},
   "outputs": [],
   "source": [
    "df = get_kaggle_scores(prefix)\n",
    "real  = df[df.grn_model=='figr_grn']\n",
    "rest = df[df.grn_model!='figr_grn']\n",
    "for score in ['public_test', 'private_test']:\n",
    "    # print(rest[score].astype(float).mean())\n",
    "    print(real[score].mean(), rest[score].astype(float).mean())\n",
    "\n",
    "# df = get_kaggle_scores(prefix)\n",
    "real  = df[df.grn_model=='co_grn']\n",
    "rest = df[df.grn_model!='co_grn']\n",
    "for score in ['public_test', 'private_test']:\n",
    "    # print(rest[score].astype(float).mean())\n",
    "    print(real[score].mean(), rest[score].astype(float).mean())"
   ]
  },
  {
   "cell_type": "code",
   "execution_count": null,
   "metadata": {},
   "outputs": [],
   "source": [
    "from scipy import stats\n",
    "real  = df[df.grn_model=='co_grn']\n",
    "rest = df[df.grn_model!='co_grn']\n",
    "for score in ['public_test', 'private_test']:\n",
    "    # print(rest[score].astype(float).mean())\n",
    "    print(real[score].mean(), rest[score].astype(float).mean())\n",
    "    # Sample data: Replace 'sample_data' with your sample data array\n",
    "    sample_data = rest[score].astype(float).values\n",
    "\n",
    "    # # The single value you want to compare the sample against\n",
    "    population_mean = real[score].astype(float).values[0]\n",
    "\n",
    "    # # Perform the one-sample t-test\n",
    "    print(population_mean)\n",
    "    t_stat, p_value = stats.ttest_1samp(sample_data, population_mean)\n",
    "    print(p_value)"
   ]
  },
  {
   "cell_type": "code",
   "execution_count": null,
   "metadata": {},
   "outputs": [],
   "source": [
    "np.mean(cv_scores)"
   ]
  },
  {
   "cell_type": "markdown",
   "metadata": {},
   "source": [
    "## Plot "
   ]
  },
  {
   "cell_type": "code",
   "execution_count": null,
   "metadata": {},
   "outputs": [],
   "source": [
    "kaggle_scores_df = pd.read_csv(f'{work_dir}/benchmark/kaggle_scores_df.csv', index_col=0)\n",
    "with open(f'{work_dir}/benchmark/CV/cv_scores_genes_dict_{original_data}_{only_sig_de}_{subset_genes}.json', 'r') as file:\n",
    "    cv_scores_genes_dict = json.load(file)\n",
    "    cv_scores_genes_dict = {key:np.asarray(values) for key,values in cv_scores_genes_dict.items()}"
   ]
  },
  {
   "cell_type": "code",
   "execution_count": null,
   "metadata": {},
   "outputs": [],
   "source": [
    "fig, axes = plt.subplots(1, 3, figsize=(12, 4), sharey=False)\n",
    "\n",
    "# n components for TF acts\n",
    "ax = axes[0]\n",
    "data_dict = n_components_dict\n",
    "normal_data = {k: v for k, v in data_dict.items() if \"_sign\" not in k}\n",
    "signed_data = {k.replace(\"_sign\", \"\"): v for k, v in data_dict.items() if \"_sign\" in k}\n",
    "labels = list(normal_data.keys())\n",
    "normal_values = [normal_data[label] for label in labels]\n",
    "signed_values = [0 if (label=='collectRI') else signed_data[label] for label in labels ]\n",
    "x = np.arange(len(labels))  # the label locations\n",
    "width = 0.35  # the width of the bars\n",
    "rects1 = ax.bar(x - width/2, normal_values, width, label='Inferred weight')\n",
    "rects2 = ax.bar(x + width/2, signed_values, width, label='Inferred sign')\n",
    "ax.set_ylabel('Number of PCs')\n",
    "ax.set_title('PCA of TF activity')\n",
    "ax.set_xticks(x)\n",
    "ax.set_xticklabels([surragate_names[label] for label in labels], rotation=45)\n",
    "ax.legend()\n",
    "# public and private test scores \n",
    "axes_ = axes[1:3]\n",
    "def categorize_model(row):\n",
    "    if '_sign' in row['grn_model']:\n",
    "        return 'Inferred sign'\n",
    "    else:\n",
    "        return 'Inferred weight'\n",
    "kaggle_scores_df['model_group'] = kaggle_scores_df['grn_model'].str.replace('_sign', '', regex=False)\n",
    "kaggle_scores_df['category'] = kaggle_scores_df.apply(categorize_model, axis=1)\n",
    "kaggle_scores_df['public_test'] = pd.to_numeric(kaggle_scores_df['public_test'], errors='coerce')\n",
    "kaggle_scores_df['private_test'] = pd.to_numeric(kaggle_scores_df['private_test'], errors='coerce')\n",
    "for i, score_type in enumerate(['public_test', 'private_test']):\n",
    "    kaggle_scores_df[score_type] = kaggle_scores_df[score_type]/max(kaggle_scores_df[score_type])\n",
    "    ax = axes_[i]\n",
    "    sns.barplot(x='model_group', y=score_type, \n",
    "                hue='category', \n",
    "                data=kaggle_scores_df, \n",
    "                ax=ax, \n",
    "                dodge=True,\n",
    "                )\n",
    "    ax.set_title(f'{score_type.replace(\"_\", \" \").capitalize()}')\n",
    "    ax.set_xticklabels([surragate_names[label] for label in kaggle_scores_df.model_group.unique()])\n",
    "    ax.tick_params(axis='x', rotation=45)\n",
    "    ax.set_xlabel('')\n",
    "    ax.set_ylabel('Error value (MRRMSE)')\n",
    "    ax.legend(title='', loc='upper left', bbox_to_anchor=(.45, 1))\n",
    "    ax.set_ylim(0.7, 1.05)  # Adjust y-axis range\n",
    "\n",
    "plt.tight_layout()\n"
   ]
  },
  {
   "cell_type": "code",
   "execution_count": null,
   "metadata": {},
   "outputs": [],
   "source": [
    "# cross validation score\n",
    "fig, ax = plt.subplots(1, 1, figsize=(7, 3.5), sharey=False)\n",
    "data_dict = cv_scores_genes_dict\n",
    "\n",
    "offset_amount = 0.4  # Control the offset amount for plots and text\n",
    "legend_colors = ['purple', 'orange']\n",
    "colors_map = {'purple': 'Inferred weight', 'orange': 'Inferred sign', 'white':''}\n",
    "data_for_plot = []\n",
    "labels_for_plot = []\n",
    "positions = []\n",
    "colors = []\n",
    "current_position = 1\n",
    "category_positions = {}  # Recalculating category positions\n",
    "for key in data_dict.keys():\n",
    "    if \"sign\" not in key and (key + \"_sign\") in data_dict:\n",
    "        original_data_ = data_dict[key]\n",
    "        signed_data = data_dict[key + \"_sign\"]\n",
    "        data_for_plot += [original_data_, signed_data]\n",
    "        category_label = surragate_names.get(key, key)\n",
    "        if category_label not in category_positions:\n",
    "            category_positions[category_label] = current_position\n",
    "            labels_for_plot.append(category_label)\n",
    "            current_position += 2  # Adjust for the next category, including space for offset\n",
    "        # Adjust positions with the offset\n",
    "        positions += [category_positions[category_label] - offset_amount, category_positions[category_label] + offset_amount]\n",
    "        colors += legend_colors\n",
    "    elif \"baseline\" in key or \"collectRI\" in key:\n",
    "        data_for_plot.append(data_dict[key])\n",
    "        category_label = surragate_names.get(key, key)\n",
    "        if category_label not in category_positions:\n",
    "            category_positions[category_label] = current_position\n",
    "            labels_for_plot.append(category_label)\n",
    "            current_position += 2\n",
    "        positions.append(category_positions[category_label])\n",
    "        colors.append('white')\n",
    "violin_parts = ax.violinplot(data_for_plot, positions=positions, \n",
    "                             showmeans=False, \n",
    "                             showmedians=True, \n",
    "                             showextrema=False)\n",
    "handles = []  # To store legend handles\n",
    "\n",
    "for i, pc in enumerate(violin_parts['bodies']):\n",
    "    color = colors[i]\n",
    "    pc.set_facecolor(color)\n",
    "    pc.set_edgecolor('black')\n",
    "    pc.set_alpha(.8)  # Ensuring the plot is fully opaque\n",
    "    if colors_map[color] not in [h.get_label() for h in handles]:  # Avoid duplicate legend entries\n",
    "        if color == 'white':\n",
    "            continue\n",
    "        handles.append(plt.Line2D([0], [0], color=color, linewidth=10, label=colors_map[color]))\n",
    "keys = ['cmaxes', 'cmins', 'cbars', 'cmedians']\n",
    "for key in keys:\n",
    "    if key in violin_parts:\n",
    "        violin_parts[key].set_edgecolor('#C4C4C4')\n",
    "\n",
    "ax.set_xticks([pos for key, pos in category_positions.items()])\n",
    "ax.set_xticklabels(labels_for_plot, rotation=45)\n",
    "ax.set_title('Cross Validation Scores')\n",
    "ax.set_ylabel('R2 Score')\n",
    "ax.set_ylim([-.8, 1])\n",
    "ax.legend(handles=handles, loc=(1.01,.8), frameon=False)\n",
    "# Correcting text annotations with offset adjustments\n",
    "for i, data in enumerate(data_for_plot):\n",
    "    if len(data) == 0: continue  # Skip empty datasets\n",
    "    mean_val = np.mean(data)\n",
    "    text_pos = positions[i]\n",
    "    plt.text(text_pos, max(data) + (0.1 * max(data)), f'{mean_val:.2f}', ha='center', color='black')\n",
    "plt.tight_layout()\n",
    "plt.show()\n"
   ]
  },
  {
   "cell_type": "code",
   "execution_count": null,
   "metadata": {},
   "outputs": [],
   "source": [
    "violin_parts.keys()"
   ]
  }
 ],
 "metadata": {
  "kernelspec": {
   "display_name": "celloracle",
   "language": "python",
   "name": "python3"
  },
  "language_info": {
   "codemirror_mode": {
    "name": "ipython",
    "version": 3
   },
   "file_extension": ".py",
   "mimetype": "text/x-python",
   "name": "python",
   "nbconvert_exporter": "python",
   "pygments_lexer": "ipython3",
   "version": "3.10.13"
  }
 },
 "nbformat": 4,
 "nbformat_minor": 2
}
