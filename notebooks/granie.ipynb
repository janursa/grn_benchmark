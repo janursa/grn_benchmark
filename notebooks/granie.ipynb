{
 "cells": [
  {
   "cell_type": "code",
   "execution_count": 1,
   "metadata": {
    "vscode": {
     "languageId": "r"
    }
   },
   "outputs": [
    {
     "name": "stderr",
     "output_type": "stream",
     "text": [
      "Downloading GitLab repo grp-zaugg/GRaNIE@HEAD\n",
      "from URL https://git.embl.de/api/v4/projects/3103/repository/archive.tar.gz?sha=HEAD\n",
      "\n"
     ]
    },
    {
     "name": "stdout",
     "output_type": "stream",
     "text": [
      "Error in utils::download.file(url, path, method = method, quiet = quiet,  : \n",
      "  download from 'https://git.embl.de/api/v4/projects/3103/repository/archive.tar.gz?sha=HEAD' failed\n"
     ]
    }
   ],
   "source": [
    "BiocManager::install(\"GRaNIE\")"
   ]
  },
  {
   "cell_type": "code",
   "execution_count": null,
   "metadata": {
    "vscode": {
     "languageId": "r"
    }
   },
   "outputs": [],
   "source": []
  }
 ],
 "metadata": {
  "kernelspec": {
   "display_name": "R",
   "language": "R",
   "name": "ir"
  },
  "language_info": {
   "codemirror_mode": "r",
   "file_extension": ".r",
   "mimetype": "text/x-r-source",
   "name": "R",
   "pygments_lexer": "r",
   "version": "4.3.2"
  }
 },
 "nbformat": 4,
 "nbformat_minor": 2
}
