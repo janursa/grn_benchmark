{
 "cells": [
  {
   "cell_type": "code",
   "execution_count": 5,
   "id": "77759971-e331-4a96-b1e0-37b148f1ea5f",
   "metadata": {
    "execution": {
     "iopub.execute_input": "2023-11-22T14:25:07.171516Z",
     "iopub.status.busy": "2023-11-22T14:25:07.171335Z",
     "iopub.status.idle": "2023-11-22T14:25:12.172703Z",
     "shell.execute_reply": "2023-11-22T14:25:12.172095Z",
     "shell.execute_reply.started": "2023-11-22T14:25:07.171496Z"
    },
    "tags": []
   },
   "outputs": [],
   "source": [
    "import pandas as pd\n",
    "import numpy as np\n",
    "import sklearn\n",
    "import scipy\n",
    "\n",
    "import anndata as ad\n",
    "import scanpy as sc\n",
    "\n",
    "from dask import delayed\n",
    "from dask.distributed import Client, LocalCluster\n",
    "\n",
    "import os, binascii"
   ]
  },
  {
   "cell_type": "code",
   "execution_count": null,
   "id": "6f5f0ca3-c6f5-4b89-9501-a8f6964da587",
   "metadata": {
    "execution": {
     "iopub.execute_input": "2023-11-22T14:25:12.174474Z",
     "iopub.status.busy": "2023-11-22T14:25:12.174181Z",
     "iopub.status.idle": "2023-11-22T14:25:12.177140Z",
     "shell.execute_reply": "2023-11-22T14:25:12.176649Z",
     "shell.execute_reply.started": "2023-11-22T14:25:12.174452Z"
    },
    "tags": []
   },
   "outputs": [],
   "source": [
    "#! aws s3 cp s3://saturn-kaggle-datasets/open-problems-single-cell-perturbations-optional/lincs_id_compound_mapping.parquet --no-sign-request ."
   ]
  },
  {
   "cell_type": "markdown",
   "id": "b9fa12aa-f694-4ddc-9efa-c16b7e4a587e",
   "metadata": {},
   "source": [
    "## Loading expression data"
   ]
  },
  {
   "cell_type": "markdown",
   "id": "7c8e5357-5182-4d2a-868c-f5d987c83bcd",
   "metadata": {},
   "source": [
    "Here we load expression data (long format) and converting it into an AnnData object (wide sparse format).\n",
    "\n",
    "You'll need to increase your instance RAM to at least 64 GB."
   ]
  },
  {
   "cell_type": "code",
   "execution_count": 7,
   "id": "8d33998f-89f6-4bd5-9cf2-f4e1732ab5d8",
   "metadata": {
    "execution": {
     "iopub.execute_input": "2023-11-22T14:25:12.178004Z",
     "iopub.status.busy": "2023-11-22T14:25:12.177813Z",
     "iopub.status.idle": "2023-11-22T14:26:01.765736Z",
     "shell.execute_reply": "2023-11-22T14:26:01.765081Z",
     "shell.execute_reply.started": "2023-11-22T14:25:12.177987Z"
    },
    "tags": []
   },
   "outputs": [
    {
     "ename": "FileNotFoundError",
     "evalue": "[Errno 2] No such file or directory: '../../input/kaggle/input/open-problems-single-cell-perturbations/adata_excluded_ids.csv'",
     "output_type": "error",
     "traceback": [
      "\u001b[0;31m---------------------------------------------------------------------------\u001b[0m",
      "\u001b[0;31mFileNotFoundError\u001b[0m                         Traceback (most recent call last)",
      "Cell \u001b[0;32mIn[7], line 5\u001b[0m\n\u001b[1;32m      3\u001b[0m adata_train_df \u001b[38;5;241m=\u001b[39m pd\u001b[38;5;241m.\u001b[39mread_parquet(os\u001b[38;5;241m.\u001b[39mpath\u001b[38;5;241m.\u001b[39mjoin(data_dir, \u001b[38;5;124m'\u001b[39m\u001b[38;5;124madata_train.parquet\u001b[39m\u001b[38;5;124m'\u001b[39m))\n\u001b[1;32m      4\u001b[0m adata_obs_meta_df \u001b[38;5;241m=\u001b[39m pd\u001b[38;5;241m.\u001b[39mread_csv(os\u001b[38;5;241m.\u001b[39mpath\u001b[38;5;241m.\u001b[39mjoin(data_dir, \u001b[38;5;124m'\u001b[39m\u001b[38;5;124madata_obs_meta.csv\u001b[39m\u001b[38;5;124m'\u001b[39m))\n\u001b[0;32m----> 5\u001b[0m adata_excluded_ids_df \u001b[38;5;241m=\u001b[39m \u001b[43mpd\u001b[49m\u001b[38;5;241;43m.\u001b[39;49m\u001b[43mread_csv\u001b[49m\u001b[43m(\u001b[49m\u001b[43mos\u001b[49m\u001b[38;5;241;43m.\u001b[39;49m\u001b[43mpath\u001b[49m\u001b[38;5;241;43m.\u001b[39;49m\u001b[43mjoin\u001b[49m\u001b[43m(\u001b[49m\u001b[43mdata_dir\u001b[49m\u001b[43m,\u001b[49m\u001b[43m \u001b[49m\u001b[38;5;124;43m'\u001b[39;49m\u001b[38;5;124;43madata_excluded_ids.csv\u001b[39;49m\u001b[38;5;124;43m'\u001b[39;49m\u001b[43m)\u001b[49m\u001b[43m)\u001b[49m\n",
      "File \u001b[0;32m~/anaconda3/envs/py10/lib/python3.10/site-packages/pandas/io/parsers/readers.py:912\u001b[0m, in \u001b[0;36mread_csv\u001b[0;34m(filepath_or_buffer, sep, delimiter, header, names, index_col, usecols, dtype, engine, converters, true_values, false_values, skipinitialspace, skiprows, skipfooter, nrows, na_values, keep_default_na, na_filter, verbose, skip_blank_lines, parse_dates, infer_datetime_format, keep_date_col, date_parser, date_format, dayfirst, cache_dates, iterator, chunksize, compression, thousands, decimal, lineterminator, quotechar, quoting, doublequote, escapechar, comment, encoding, encoding_errors, dialect, on_bad_lines, delim_whitespace, low_memory, memory_map, float_precision, storage_options, dtype_backend)\u001b[0m\n\u001b[1;32m    899\u001b[0m kwds_defaults \u001b[38;5;241m=\u001b[39m _refine_defaults_read(\n\u001b[1;32m    900\u001b[0m     dialect,\n\u001b[1;32m    901\u001b[0m     delimiter,\n\u001b[0;32m   (...)\u001b[0m\n\u001b[1;32m    908\u001b[0m     dtype_backend\u001b[38;5;241m=\u001b[39mdtype_backend,\n\u001b[1;32m    909\u001b[0m )\n\u001b[1;32m    910\u001b[0m kwds\u001b[38;5;241m.\u001b[39mupdate(kwds_defaults)\n\u001b[0;32m--> 912\u001b[0m \u001b[38;5;28;01mreturn\u001b[39;00m \u001b[43m_read\u001b[49m\u001b[43m(\u001b[49m\u001b[43mfilepath_or_buffer\u001b[49m\u001b[43m,\u001b[49m\u001b[43m \u001b[49m\u001b[43mkwds\u001b[49m\u001b[43m)\u001b[49m\n",
      "File \u001b[0;32m~/anaconda3/envs/py10/lib/python3.10/site-packages/pandas/io/parsers/readers.py:577\u001b[0m, in \u001b[0;36m_read\u001b[0;34m(filepath_or_buffer, kwds)\u001b[0m\n\u001b[1;32m    574\u001b[0m _validate_names(kwds\u001b[38;5;241m.\u001b[39mget(\u001b[38;5;124m\"\u001b[39m\u001b[38;5;124mnames\u001b[39m\u001b[38;5;124m\"\u001b[39m, \u001b[38;5;28;01mNone\u001b[39;00m))\n\u001b[1;32m    576\u001b[0m \u001b[38;5;66;03m# Create the parser.\u001b[39;00m\n\u001b[0;32m--> 577\u001b[0m parser \u001b[38;5;241m=\u001b[39m \u001b[43mTextFileReader\u001b[49m\u001b[43m(\u001b[49m\u001b[43mfilepath_or_buffer\u001b[49m\u001b[43m,\u001b[49m\u001b[43m \u001b[49m\u001b[38;5;241;43m*\u001b[39;49m\u001b[38;5;241;43m*\u001b[39;49m\u001b[43mkwds\u001b[49m\u001b[43m)\u001b[49m\n\u001b[1;32m    579\u001b[0m \u001b[38;5;28;01mif\u001b[39;00m chunksize \u001b[38;5;129;01mor\u001b[39;00m iterator:\n\u001b[1;32m    580\u001b[0m     \u001b[38;5;28;01mreturn\u001b[39;00m parser\n",
      "File \u001b[0;32m~/anaconda3/envs/py10/lib/python3.10/site-packages/pandas/io/parsers/readers.py:1407\u001b[0m, in \u001b[0;36mTextFileReader.__init__\u001b[0;34m(self, f, engine, **kwds)\u001b[0m\n\u001b[1;32m   1404\u001b[0m     \u001b[38;5;28mself\u001b[39m\u001b[38;5;241m.\u001b[39moptions[\u001b[38;5;124m\"\u001b[39m\u001b[38;5;124mhas_index_names\u001b[39m\u001b[38;5;124m\"\u001b[39m] \u001b[38;5;241m=\u001b[39m kwds[\u001b[38;5;124m\"\u001b[39m\u001b[38;5;124mhas_index_names\u001b[39m\u001b[38;5;124m\"\u001b[39m]\n\u001b[1;32m   1406\u001b[0m \u001b[38;5;28mself\u001b[39m\u001b[38;5;241m.\u001b[39mhandles: IOHandles \u001b[38;5;241m|\u001b[39m \u001b[38;5;28;01mNone\u001b[39;00m \u001b[38;5;241m=\u001b[39m \u001b[38;5;28;01mNone\u001b[39;00m\n\u001b[0;32m-> 1407\u001b[0m \u001b[38;5;28mself\u001b[39m\u001b[38;5;241m.\u001b[39m_engine \u001b[38;5;241m=\u001b[39m \u001b[38;5;28;43mself\u001b[39;49m\u001b[38;5;241;43m.\u001b[39;49m\u001b[43m_make_engine\u001b[49m\u001b[43m(\u001b[49m\u001b[43mf\u001b[49m\u001b[43m,\u001b[49m\u001b[43m \u001b[49m\u001b[38;5;28;43mself\u001b[39;49m\u001b[38;5;241;43m.\u001b[39;49m\u001b[43mengine\u001b[49m\u001b[43m)\u001b[49m\n",
      "File \u001b[0;32m~/anaconda3/envs/py10/lib/python3.10/site-packages/pandas/io/parsers/readers.py:1661\u001b[0m, in \u001b[0;36mTextFileReader._make_engine\u001b[0;34m(self, f, engine)\u001b[0m\n\u001b[1;32m   1659\u001b[0m     \u001b[38;5;28;01mif\u001b[39;00m \u001b[38;5;124m\"\u001b[39m\u001b[38;5;124mb\u001b[39m\u001b[38;5;124m\"\u001b[39m \u001b[38;5;129;01mnot\u001b[39;00m \u001b[38;5;129;01min\u001b[39;00m mode:\n\u001b[1;32m   1660\u001b[0m         mode \u001b[38;5;241m+\u001b[39m\u001b[38;5;241m=\u001b[39m \u001b[38;5;124m\"\u001b[39m\u001b[38;5;124mb\u001b[39m\u001b[38;5;124m\"\u001b[39m\n\u001b[0;32m-> 1661\u001b[0m \u001b[38;5;28mself\u001b[39m\u001b[38;5;241m.\u001b[39mhandles \u001b[38;5;241m=\u001b[39m \u001b[43mget_handle\u001b[49m\u001b[43m(\u001b[49m\n\u001b[1;32m   1662\u001b[0m \u001b[43m    \u001b[49m\u001b[43mf\u001b[49m\u001b[43m,\u001b[49m\n\u001b[1;32m   1663\u001b[0m \u001b[43m    \u001b[49m\u001b[43mmode\u001b[49m\u001b[43m,\u001b[49m\n\u001b[1;32m   1664\u001b[0m \u001b[43m    \u001b[49m\u001b[43mencoding\u001b[49m\u001b[38;5;241;43m=\u001b[39;49m\u001b[38;5;28;43mself\u001b[39;49m\u001b[38;5;241;43m.\u001b[39;49m\u001b[43moptions\u001b[49m\u001b[38;5;241;43m.\u001b[39;49m\u001b[43mget\u001b[49m\u001b[43m(\u001b[49m\u001b[38;5;124;43m\"\u001b[39;49m\u001b[38;5;124;43mencoding\u001b[39;49m\u001b[38;5;124;43m\"\u001b[39;49m\u001b[43m,\u001b[49m\u001b[43m \u001b[49m\u001b[38;5;28;43;01mNone\u001b[39;49;00m\u001b[43m)\u001b[49m\u001b[43m,\u001b[49m\n\u001b[1;32m   1665\u001b[0m \u001b[43m    \u001b[49m\u001b[43mcompression\u001b[49m\u001b[38;5;241;43m=\u001b[39;49m\u001b[38;5;28;43mself\u001b[39;49m\u001b[38;5;241;43m.\u001b[39;49m\u001b[43moptions\u001b[49m\u001b[38;5;241;43m.\u001b[39;49m\u001b[43mget\u001b[49m\u001b[43m(\u001b[49m\u001b[38;5;124;43m\"\u001b[39;49m\u001b[38;5;124;43mcompression\u001b[39;49m\u001b[38;5;124;43m\"\u001b[39;49m\u001b[43m,\u001b[49m\u001b[43m \u001b[49m\u001b[38;5;28;43;01mNone\u001b[39;49;00m\u001b[43m)\u001b[49m\u001b[43m,\u001b[49m\n\u001b[1;32m   1666\u001b[0m \u001b[43m    \u001b[49m\u001b[43mmemory_map\u001b[49m\u001b[38;5;241;43m=\u001b[39;49m\u001b[38;5;28;43mself\u001b[39;49m\u001b[38;5;241;43m.\u001b[39;49m\u001b[43moptions\u001b[49m\u001b[38;5;241;43m.\u001b[39;49m\u001b[43mget\u001b[49m\u001b[43m(\u001b[49m\u001b[38;5;124;43m\"\u001b[39;49m\u001b[38;5;124;43mmemory_map\u001b[39;49m\u001b[38;5;124;43m\"\u001b[39;49m\u001b[43m,\u001b[49m\u001b[43m \u001b[49m\u001b[38;5;28;43;01mFalse\u001b[39;49;00m\u001b[43m)\u001b[49m\u001b[43m,\u001b[49m\n\u001b[1;32m   1667\u001b[0m \u001b[43m    \u001b[49m\u001b[43mis_text\u001b[49m\u001b[38;5;241;43m=\u001b[39;49m\u001b[43mis_text\u001b[49m\u001b[43m,\u001b[49m\n\u001b[1;32m   1668\u001b[0m \u001b[43m    \u001b[49m\u001b[43merrors\u001b[49m\u001b[38;5;241;43m=\u001b[39;49m\u001b[38;5;28;43mself\u001b[39;49m\u001b[38;5;241;43m.\u001b[39;49m\u001b[43moptions\u001b[49m\u001b[38;5;241;43m.\u001b[39;49m\u001b[43mget\u001b[49m\u001b[43m(\u001b[49m\u001b[38;5;124;43m\"\u001b[39;49m\u001b[38;5;124;43mencoding_errors\u001b[39;49m\u001b[38;5;124;43m\"\u001b[39;49m\u001b[43m,\u001b[49m\u001b[43m \u001b[49m\u001b[38;5;124;43m\"\u001b[39;49m\u001b[38;5;124;43mstrict\u001b[39;49m\u001b[38;5;124;43m\"\u001b[39;49m\u001b[43m)\u001b[49m\u001b[43m,\u001b[49m\n\u001b[1;32m   1669\u001b[0m \u001b[43m    \u001b[49m\u001b[43mstorage_options\u001b[49m\u001b[38;5;241;43m=\u001b[39;49m\u001b[38;5;28;43mself\u001b[39;49m\u001b[38;5;241;43m.\u001b[39;49m\u001b[43moptions\u001b[49m\u001b[38;5;241;43m.\u001b[39;49m\u001b[43mget\u001b[49m\u001b[43m(\u001b[49m\u001b[38;5;124;43m\"\u001b[39;49m\u001b[38;5;124;43mstorage_options\u001b[39;49m\u001b[38;5;124;43m\"\u001b[39;49m\u001b[43m,\u001b[49m\u001b[43m \u001b[49m\u001b[38;5;28;43;01mNone\u001b[39;49;00m\u001b[43m)\u001b[49m\u001b[43m,\u001b[49m\n\u001b[1;32m   1670\u001b[0m \u001b[43m\u001b[49m\u001b[43m)\u001b[49m\n\u001b[1;32m   1671\u001b[0m \u001b[38;5;28;01massert\u001b[39;00m \u001b[38;5;28mself\u001b[39m\u001b[38;5;241m.\u001b[39mhandles \u001b[38;5;129;01mis\u001b[39;00m \u001b[38;5;129;01mnot\u001b[39;00m \u001b[38;5;28;01mNone\u001b[39;00m\n\u001b[1;32m   1672\u001b[0m f \u001b[38;5;241m=\u001b[39m \u001b[38;5;28mself\u001b[39m\u001b[38;5;241m.\u001b[39mhandles\u001b[38;5;241m.\u001b[39mhandle\n",
      "File \u001b[0;32m~/anaconda3/envs/py10/lib/python3.10/site-packages/pandas/io/common.py:859\u001b[0m, in \u001b[0;36mget_handle\u001b[0;34m(path_or_buf, mode, encoding, compression, memory_map, is_text, errors, storage_options)\u001b[0m\n\u001b[1;32m    854\u001b[0m \u001b[38;5;28;01melif\u001b[39;00m \u001b[38;5;28misinstance\u001b[39m(handle, \u001b[38;5;28mstr\u001b[39m):\n\u001b[1;32m    855\u001b[0m     \u001b[38;5;66;03m# Check whether the filename is to be opened in binary mode.\u001b[39;00m\n\u001b[1;32m    856\u001b[0m     \u001b[38;5;66;03m# Binary mode does not support 'encoding' and 'newline'.\u001b[39;00m\n\u001b[1;32m    857\u001b[0m     \u001b[38;5;28;01mif\u001b[39;00m ioargs\u001b[38;5;241m.\u001b[39mencoding \u001b[38;5;129;01mand\u001b[39;00m \u001b[38;5;124m\"\u001b[39m\u001b[38;5;124mb\u001b[39m\u001b[38;5;124m\"\u001b[39m \u001b[38;5;129;01mnot\u001b[39;00m \u001b[38;5;129;01min\u001b[39;00m ioargs\u001b[38;5;241m.\u001b[39mmode:\n\u001b[1;32m    858\u001b[0m         \u001b[38;5;66;03m# Encoding\u001b[39;00m\n\u001b[0;32m--> 859\u001b[0m         handle \u001b[38;5;241m=\u001b[39m \u001b[38;5;28;43mopen\u001b[39;49m\u001b[43m(\u001b[49m\n\u001b[1;32m    860\u001b[0m \u001b[43m            \u001b[49m\u001b[43mhandle\u001b[49m\u001b[43m,\u001b[49m\n\u001b[1;32m    861\u001b[0m \u001b[43m            \u001b[49m\u001b[43mioargs\u001b[49m\u001b[38;5;241;43m.\u001b[39;49m\u001b[43mmode\u001b[49m\u001b[43m,\u001b[49m\n\u001b[1;32m    862\u001b[0m \u001b[43m            \u001b[49m\u001b[43mencoding\u001b[49m\u001b[38;5;241;43m=\u001b[39;49m\u001b[43mioargs\u001b[49m\u001b[38;5;241;43m.\u001b[39;49m\u001b[43mencoding\u001b[49m\u001b[43m,\u001b[49m\n\u001b[1;32m    863\u001b[0m \u001b[43m            \u001b[49m\u001b[43merrors\u001b[49m\u001b[38;5;241;43m=\u001b[39;49m\u001b[43merrors\u001b[49m\u001b[43m,\u001b[49m\n\u001b[1;32m    864\u001b[0m \u001b[43m            \u001b[49m\u001b[43mnewline\u001b[49m\u001b[38;5;241;43m=\u001b[39;49m\u001b[38;5;124;43m\"\u001b[39;49m\u001b[38;5;124;43m\"\u001b[39;49m\u001b[43m,\u001b[49m\n\u001b[1;32m    865\u001b[0m \u001b[43m        \u001b[49m\u001b[43m)\u001b[49m\n\u001b[1;32m    866\u001b[0m     \u001b[38;5;28;01melse\u001b[39;00m:\n\u001b[1;32m    867\u001b[0m         \u001b[38;5;66;03m# Binary mode\u001b[39;00m\n\u001b[1;32m    868\u001b[0m         handle \u001b[38;5;241m=\u001b[39m \u001b[38;5;28mopen\u001b[39m(handle, ioargs\u001b[38;5;241m.\u001b[39mmode)\n",
      "\u001b[0;31mFileNotFoundError\u001b[0m: [Errno 2] No such file or directory: '../../input/kaggle/input/open-problems-single-cell-perturbations/adata_excluded_ids.csv'"
     ]
    }
   ],
   "source": [
    "data_dir = '../../input/kaggle/input/open-problems-single-cell-perturbations'\n",
    "\n",
    "adata_train_df = pd.read_parquet(os.path.join(data_dir, 'adata_train.parquet'))\n",
    "adata_obs_meta_df = pd.read_csv(os.path.join(data_dir, 'adata_obs_meta.csv'))\n",
    "adata_excluded_ids_df = pd.read_csv(os.path.join(data_dir, 'adata_excluded_ids.csv'))"
   ]
  },
  {
   "cell_type": "code",
   "execution_count": 5,
   "id": "a27c31ba-a35c-42fd-b6ae-aec88498042f",
   "metadata": {
    "execution": {
     "iopub.execute_input": "2023-11-22T14:26:24.666762Z",
     "iopub.status.busy": "2023-11-22T14:26:24.666263Z",
     "iopub.status.idle": "2023-11-22T14:34:03.669897Z",
     "shell.execute_reply": "2023-11-22T14:34:03.669229Z",
     "shell.execute_reply.started": "2023-11-22T14:26:24.666742Z"
    },
    "tags": []
   },
   "outputs": [],
   "source": [
    "reindexed_adata_train_df = adata_train_df.reset_index().set_index(['obs_id', 'gene'])\n",
    "adata_excluded_ids_index = adata_excluded_ids_df.set_index(['obs_id', 'gene']).sort_index().index\n",
    "\n",
    "selection = ~reindexed_adata_train_df.index.isin(adata_excluded_ids_index)\n",
    "adata_train_df = reindexed_adata_train_df[selection]\n",
    "\n",
    "adata_train_df = adata_train_df.reset_index().set_index('index')"
   ]
  },
  {
   "cell_type": "code",
   "execution_count": 7,
   "id": "f26f2b47-9346-40a0-8152-e3995be811a1",
   "metadata": {
    "execution": {
     "iopub.execute_input": "2023-11-22T14:34:26.428686Z",
     "iopub.status.busy": "2023-11-22T14:34:26.428380Z",
     "iopub.status.idle": "2023-11-22T14:36:15.851988Z",
     "shell.execute_reply": "2023-11-22T14:36:15.851364Z",
     "shell.execute_reply.started": "2023-11-22T14:34:26.428666Z"
    },
    "tags": []
   },
   "outputs": [
    {
     "name": "stderr",
     "output_type": "stream",
     "text": [
      "/opt/saturncloud/envs/saturn/lib/python3.9/site-packages/anndata/_core/anndata.py:522: FutureWarning: The dtype argument is deprecated and will be removed in late 2024.\n",
      "  warnings.warn(\n"
     ]
    }
   ],
   "source": [
    "adata_train_df['obs_id'] = adata_train_df['obs_id'].astype('category')\n",
    "adata_train_df['gene'] = adata_train_df['gene'].astype('category')\n",
    "\n",
    "obs_ids = adata_train_df['obs_id'].unique()\n",
    "obs_id_map = dict(zip(obs_ids, range(len(obs_ids))))\n",
    "\n",
    "genes = adata_train_df['gene'].unique()\n",
    "gene_map = dict(zip(genes, range(len(genes))))\n",
    "\n",
    "adata_train_df['obs_index'] = adata_train_df['obs_id'].map(obs_id_map)\n",
    "adata_train_df['gene_index'] = adata_train_df['gene'].map(gene_map)\n",
    "\n",
    "normalized_counts_values = adata_train_df['normalized_count'].to_numpy()\n",
    "counts_values = adata_train_df['count'].to_numpy()\n",
    "\n",
    "row_indices = adata_train_df['obs_index'].to_numpy()\n",
    "col_indices = adata_train_df['gene_index'].to_numpy()\n",
    "\n",
    "counts = scipy.sparse.csr_matrix((counts_values, (row_indices, col_indices)))\n",
    "\n",
    "obs_df = pd.Series(obs_ids, name='obs_id').to_frame()\n",
    "var_df = pd.Series(genes, name='gene').to_frame()\n",
    "\n",
    "obs_df = obs_df.set_index('obs_id')\n",
    "var_df = var_df.set_index('gene')\n",
    "\n",
    "obs_df.index = obs_df.index.astype('str')\n",
    "var_df.index = var_df.index.astype('str')\n",
    "\n",
    "kaggle_adata = ad.AnnData(\n",
    "    X=counts,\n",
    "    obs=obs_df,\n",
    "    var=var_df,\n",
    "    dtype=np.uint32,\n",
    ")\n",
    "\n",
    "index_ordering_before_join = kaggle_adata.obs.index\n",
    "kaggle_adata.obs = kaggle_adata.obs.join(adata_obs_meta_df.set_index('obs_id'))\n",
    "index_ordering_after_join = kaggle_adata.obs.index\n",
    "assert (index_ordering_before_join == index_ordering_after_join).all()"
   ]
  },
  {
   "cell_type": "code",
   "execution_count": 8,
   "id": "e89d9123-a79c-4856-8c51-be2b5babe788",
   "metadata": {
    "execution": {
     "iopub.execute_input": "2023-11-22T14:36:15.853121Z",
     "iopub.status.busy": "2023-11-22T14:36:15.852859Z",
     "iopub.status.idle": "2023-11-22T14:36:15.857120Z",
     "shell.execute_reply": "2023-11-22T14:36:15.856615Z",
     "shell.execute_reply.started": "2023-11-22T14:36:15.853099Z"
    },
    "tags": []
   },
   "outputs": [
    {
     "data": {
      "text/plain": [
       "AnnData object with n_obs × n_vars = 240090 × 18211\n",
       "    obs: 'library_id', 'plate_name', 'well', 'row', 'col', 'cell_id', 'donor_id', 'cell_type', 'sm_lincs_id', 'sm_name', 'SMILES', 'dose_uM', 'timepoint_hr', 'control'"
      ]
     },
     "execution_count": 8,
     "metadata": {},
     "output_type": "execute_result"
    }
   ],
   "source": [
    "kaggle_adata"
   ]
  },
  {
   "cell_type": "markdown",
   "id": "db87f685-c183-4d5a-bc22-9185113f2222",
   "metadata": {
    "execution": {
     "iopub.execute_input": "2023-09-22T17:26:10.549113Z",
     "iopub.status.busy": "2023-09-22T17:26:10.548724Z",
     "iopub.status.idle": "2023-09-22T17:26:10.552111Z",
     "shell.execute_reply": "2023-09-22T17:26:10.551571Z",
     "shell.execute_reply.started": "2023-09-22T17:26:10.549088Z"
    },
    "tags": []
   },
   "source": [
    "## Pseudobulking counts by cell type"
   ]
  },
  {
   "cell_type": "code",
   "execution_count": 9,
   "id": "2977f6ce-0354-45a2-9610-22aff6781dd1",
   "metadata": {
    "execution": {
     "iopub.execute_input": "2023-11-22T14:36:15.858170Z",
     "iopub.status.busy": "2023-11-22T14:36:15.857885Z",
     "iopub.status.idle": "2023-11-22T14:36:15.865364Z",
     "shell.execute_reply": "2023-11-22T14:36:15.864837Z",
     "shell.execute_reply.started": "2023-11-22T14:36:15.858150Z"
    },
    "tags": []
   },
   "outputs": [],
   "source": [
    "from scipy import sparse\n",
    "\n",
    "def sum_by(adata: ad.AnnData, col: str) -> ad.AnnData:\n",
    "    \"\"\"\n",
    "    Adapted from this forum post: \n",
    "    https://discourse.scverse.org/t/group-sum-rows-based-on-jobs-feature/371/4\n",
    "    \"\"\"\n",
    "    \n",
    "    assert pd.api.types.is_categorical_dtype(adata.obs[col])\n",
    "\n",
    "    # sum `.X` entries for each unique value in `col`\n",
    "    cat = adata.obs[col].values\n",
    "    indicator = sparse.coo_matrix(\n",
    "        (\n",
    "            np.broadcast_to(True, adata.n_obs),\n",
    "            (cat.codes, np.arange(adata.n_obs))\n",
    "        ),\n",
    "        shape=(len(cat.categories), adata.n_obs),\n",
    "    )\n",
    "    sum_adata = ad.AnnData(\n",
    "        indicator @ adata.X,\n",
    "        var=adata.var,\n",
    "        obs=pd.DataFrame(index=cat.categories),\n",
    "    )\n",
    "    \n",
    "    # copy over `.obs` values that have a one-to-one-mapping with `.obs[col]`\n",
    "    obs_cols = adata.obs.columns\n",
    "    obs_cols = list(set(adata.obs.columns) - set([col]))\n",
    "    \n",
    "    one_to_one_mapped_obs_cols = []\n",
    "    nunique_in_col = adata.obs[col].nunique()\n",
    "    for other_col in obs_cols:\n",
    "        if len(adata.obs[[col, other_col]].drop_duplicates()) == nunique_in_col:\n",
    "            one_to_one_mapped_obs_cols.append(other_col)\n",
    "\n",
    "    joining_df = adata.obs[[col] + one_to_one_mapped_obs_cols].drop_duplicates().set_index(col)\n",
    "    assert (sum_adata.obs.index == sum_adata.obs.join(joining_df).index).all()\n",
    "    sum_adata.obs = sum_adata.obs.join(joining_df)\n",
    "    sum_adata.obs.index.name = col\n",
    "    sum_adata.obs = sum_adata.obs.reset_index()\n",
    "    sum_adata.obs.index = sum_adata.obs.index.astype('str')\n",
    "\n",
    "    return sum_adata"
   ]
  },
  {
   "cell_type": "code",
   "execution_count": 10,
   "id": "1257b480-2a70-46b6-a8f7-80d6f399d0b4",
   "metadata": {
    "execution": {
     "iopub.execute_input": "2023-11-22T14:36:15.866443Z",
     "iopub.status.busy": "2023-11-22T14:36:15.866102Z",
     "iopub.status.idle": "2023-11-22T14:36:18.437683Z",
     "shell.execute_reply": "2023-11-22T14:36:18.437030Z",
     "shell.execute_reply.started": "2023-11-22T14:36:15.866422Z"
    },
    "tags": []
   },
   "outputs": [],
   "source": [
    "kaggle_adata.obs['plate_well_cell_type'] = kaggle_adata.obs['plate_name'].astype('str') \\\n",
    "    + '_' + kaggle_adata.obs['well'].astype('str') \\\n",
    "    + '_' + kaggle_adata.obs['cell_type'].astype('str')\n",
    "kaggle_adata.obs['plate_well_cell_type'] = kaggle_adata.obs['plate_well_cell_type'].astype('category')\n",
    "\n",
    "bulk_adata = sum_by(kaggle_adata, 'plate_well_cell_type')\n",
    "bulk_adata.obs = bulk_adata.obs.drop(columns=['plate_well_cell_type'])\n",
    "bulk_adata.X = np.array(bulk_adata.X.todense())\n",
    "bulk_adata = bulk_adata.copy()"
   ]
  },
  {
   "cell_type": "code",
   "execution_count": 11,
   "id": "13c9c8a5-b56d-40a5-a706-236be6f4a0cb",
   "metadata": {
    "execution": {
     "iopub.execute_input": "2023-11-22T14:36:18.438819Z",
     "iopub.status.busy": "2023-11-22T14:36:18.438532Z",
     "iopub.status.idle": "2023-11-22T14:36:18.443879Z",
     "shell.execute_reply": "2023-11-22T14:36:18.443368Z",
     "shell.execute_reply.started": "2023-11-22T14:36:18.438799Z"
    },
    "tags": []
   },
   "outputs": [],
   "source": [
    "plate_name_update = {\n",
    "    'plate_0': 'plate_2',\n",
    "     'plate_1': 'plate_3',\n",
    "     'plate_2': 'plate_1',\n",
    "     'plate_3': 'plate_4',\n",
    "     'plate_4': 'plate_0',\n",
    "     'plate_5': 'plate_5',\n",
    "}\n",
    "\n",
    "bulk_adata.obs['plate_name'] = bulk_adata \\\n",
    "    .obs['plate_name'] \\\n",
    "    .map(plate_name_update) \\\n",
    "    .astype('str')"
   ]
  },
  {
   "cell_type": "markdown",
   "id": "8bced2df-87ca-44c0-a769-4cc46d33ee66",
   "metadata": {},
   "source": [
    "## Running Limma"
   ]
  },
  {
   "cell_type": "code",
   "execution_count": 12,
   "id": "ced9d15b-375a-4788-a85d-330fc8f45fb4",
   "metadata": {
    "execution": {
     "iopub.execute_input": "2023-11-22T14:36:18.444890Z",
     "iopub.status.busy": "2023-11-22T14:36:18.444595Z",
     "iopub.status.idle": "2023-11-22T14:36:18.448348Z",
     "shell.execute_reply": "2023-11-22T14:36:18.447857Z",
     "shell.execute_reply.started": "2023-11-22T14:36:18.444871Z"
    },
    "tags": []
   },
   "outputs": [],
   "source": [
    "de_pert_cols = [\n",
    "    'sm_name',\n",
    "    'sm_lincs_id',\n",
    "    'SMILES',\n",
    "    'dose_uM',\n",
    "    'timepoint_hr',\n",
    "    'cell_type',\n",
    "]\n",
    "\n",
    "control_compound = 'Dimethyl Sulfoxide'"
   ]
  },
  {
   "cell_type": "code",
   "execution_count": 13,
   "id": "4a2e4bec-d83f-4f64-8685-49d7a6136bb0",
   "metadata": {
    "execution": {
     "iopub.execute_input": "2023-11-22T14:36:18.449431Z",
     "iopub.status.busy": "2023-11-22T14:36:18.449089Z",
     "iopub.status.idle": "2023-11-22T14:36:18.457220Z",
     "shell.execute_reply": "2023-11-22T14:36:18.456713Z",
     "shell.execute_reply.started": "2023-11-22T14:36:18.449411Z"
    },
    "tags": []
   },
   "outputs": [
    {
     "name": "stderr",
     "output_type": "stream",
     "text": [
      "/tmp/ipykernel_719/3906383884.py:2: DeprecationWarning: the imp module is deprecated in favour of importlib; see the module's documentation for alternative uses\n",
      "  import imp\n"
     ]
    },
    {
     "data": {
      "text/plain": [
       "<module 'limma_utils' from '/home/jovyan/kaggle/neurips-2023-scripts/limma_utils.py'>"
      ]
     },
     "execution_count": 13,
     "metadata": {},
     "output_type": "execute_result"
    }
   ],
   "source": [
    "import limma_utils\n",
    "import imp\n",
    "imp.reload(limma_utils)"
   ]
  },
  {
   "cell_type": "code",
   "execution_count": 14,
   "id": "a5fe7db4-45cc-4016-bad4-0f1c21575b23",
   "metadata": {
    "execution": {
     "iopub.execute_input": "2023-11-22T14:36:18.458232Z",
     "iopub.status.busy": "2023-11-22T14:36:18.457946Z",
     "iopub.status.idle": "2023-11-22T14:36:19.629420Z",
     "shell.execute_reply": "2023-11-22T14:36:19.628538Z",
     "shell.execute_reply.started": "2023-11-22T14:36:18.458213Z"
    },
    "tags": []
   },
   "outputs": [],
   "source": [
    "!mkdir -p output"
   ]
  },
  {
   "cell_type": "code",
   "execution_count": 15,
   "id": "fdbd5e73-7286-464c-a676-1ec89bbc43c0",
   "metadata": {
    "execution": {
     "iopub.execute_input": "2023-11-22T14:36:19.631099Z",
     "iopub.status.busy": "2023-11-22T14:36:19.630661Z",
     "iopub.status.idle": "2023-11-22T14:36:19.639529Z",
     "shell.execute_reply": "2023-11-22T14:36:19.638999Z",
     "shell.execute_reply.started": "2023-11-22T14:36:19.631074Z"
    },
    "tags": []
   },
   "outputs": [],
   "source": [
    "def _run_limma_for_cell_type(bulk_adata):\n",
    "    import limma_utils\n",
    "    bulk_adata = bulk_adata.copy()\n",
    "    \n",
    "    compound_name_col = de_pert_cols[0]\n",
    "    \n",
    "    # limma doesn't like dashes etc. in the compound names\n",
    "    rpert_mapping = bulk_adata.obs[compound_name_col].drop_duplicates() \\\n",
    "        .reset_index(drop=True).reset_index() \\\n",
    "        .set_index(compound_name_col)['index'].to_dict()\n",
    "    \n",
    "    bulk_adata.obs['Rpert'] = bulk_adata.obs.apply(\n",
    "        lambda row: rpert_mapping[row[compound_name_col]], \n",
    "        axis='columns',\n",
    "    ).astype('str')\n",
    "\n",
    "    compound_name_to_Rpert = bulk_adata.obs.set_index(compound_name_col)['Rpert'].to_dict()\n",
    "    ref_pert = compound_name_to_Rpert[control_compound]\n",
    "            \n",
    "    random_string = binascii.b2a_hex(os.urandom(15)).decode()\n",
    "    \n",
    "    \n",
    "    limma_utils.limma_fit(\n",
    "        bulk_adata, \n",
    "        design='~0+Rpert+donor_id+plate_name+row',\n",
    "        output_path=f'output/{random_string}_limma.rds',\n",
    "        plot_output_path=f'output/{random_string}_voom',\n",
    "        exec_path='limma_fit.r',\n",
    "    )\n",
    "\n",
    "    pert_de_dfs = []\n",
    "    \n",
    "\n",
    "\n",
    "    for pert in bulk_adata.obs['Rpert'].unique():\n",
    "        if pert == ref_pert:\n",
    "            continue\n",
    "\n",
    "        pert_de_df = limma_utils.limma_contrast(\n",
    "            fit_path=f'output/{random_string}_limma.rds',\n",
    "            contrast='Rpert'+pert+'-Rpert'+ref_pert,\n",
    "            exec_path='limma_contrast.r',\n",
    "        )\n",
    "\n",
    "        pert_de_df['Rpert'] = pert\n",
    "\n",
    "        pert_obs = bulk_adata.obs[bulk_adata.obs['Rpert'].eq(pert)]\n",
    "        for col in de_pert_cols:\n",
    "            pert_de_df[col] = pert_obs[col].unique()[0]\n",
    "        pert_de_dfs.append(pert_de_df)\n",
    "\n",
    "    de_df = pd.concat(pert_de_dfs, axis=0)\n",
    "\n",
    "    try:\n",
    "        os.remove(f'output/{random_string}_limma.rds')\n",
    "        os.remove(f'output/{random_string}_voom')\n",
    "    except FileNotFoundError:\n",
    "        pass\n",
    "    \n",
    "    return de_df\n",
    "\n",
    "run_limma_for_cell_type = delayed(_run_limma_for_cell_type)"
   ]
  },
  {
   "cell_type": "code",
   "execution_count": null,
   "id": "43673e99-4d2c-4a62-ade9-583c3889e299",
   "metadata": {},
   "outputs": [],
   "source": []
  },
  {
   "cell_type": "code",
   "execution_count": 16,
   "id": "f787ab21-5919-4bfc-9783-2894ac7e9f9d",
   "metadata": {
    "execution": {
     "iopub.execute_input": "2023-11-22T14:36:19.640638Z",
     "iopub.status.busy": "2023-11-22T14:36:19.640332Z",
     "iopub.status.idle": "2023-11-22T14:36:23.111684Z",
     "shell.execute_reply": "2023-11-22T14:36:23.110511Z",
     "shell.execute_reply.started": "2023-11-22T14:36:19.640617Z"
    },
    "tags": []
   },
   "outputs": [
    {
     "name": "stderr",
     "output_type": "stream",
     "text": [
      "2023-11-22 14:36:21,307 - distributed.diskutils - INFO - Found stale lock file and directory '/home/jovyan/kaggle/neurips-2023-scripts/dask-worker-space/worker-8mb8mmvg', purging\n",
      "2023-11-22 14:36:21,309 - distributed.diskutils - INFO - Found stale lock file and directory '/home/jovyan/kaggle/neurips-2023-scripts/dask-worker-space/worker-qydrcq_y', purging\n",
      "2023-11-22 14:36:21,309 - distributed.diskutils - INFO - Found stale lock file and directory '/home/jovyan/kaggle/neurips-2023-scripts/dask-worker-space/worker-tdn1jf0q', purging\n",
      "2023-11-22 14:36:21,310 - distributed.diskutils - INFO - Found stale lock file and directory '/home/jovyan/kaggle/neurips-2023-scripts/dask-worker-space/worker-muo0_oyi', purging\n",
      "2023-11-22 14:36:21,310 - distributed.diskutils - INFO - Found stale lock file and directory '/home/jovyan/kaggle/neurips-2023-scripts/dask-worker-space/worker-asoh903h', purging\n",
      "2023-11-22 14:36:21,310 - distributed.diskutils - INFO - Found stale lock file and directory '/home/jovyan/kaggle/neurips-2023-scripts/dask-worker-space/worker-8uwtc2da', purging\n"
     ]
    }
   ],
   "source": [
    "%%capture\n",
    "\n",
    "cluster = LocalCluster(\n",
    "    n_workers=6,\n",
    "    processes=True,\n",
    "    threads_per_worker=1,\n",
    "    memory_limit='20GB',\n",
    ")\n",
    "\n",
    "c = Client(cluster)"
   ]
  },
  {
   "cell_type": "markdown",
   "id": "0b4bd35a-a190-4afc-bf32-01cdc28e4a14",
   "metadata": {},
   "source": [
    "We compute DE for each cell type independently. Using Dask, we execute the DE expression function for each cell type in parallel."
   ]
  },
  {
   "cell_type": "code",
   "execution_count": 17,
   "id": "131333f5-c387-4876-8e76-2ffbfb975990",
   "metadata": {
    "execution": {
     "iopub.execute_input": "2023-11-22T14:36:23.113092Z",
     "iopub.status.busy": "2023-11-22T14:36:23.112783Z",
     "iopub.status.idle": "2023-11-22T14:44:43.424472Z",
     "shell.execute_reply": "2023-11-22T14:44:43.423818Z",
     "shell.execute_reply.started": "2023-11-22T14:36:23.113069Z"
    },
    "tags": []
   },
   "outputs": [],
   "source": [
    "%%capture\n",
    "\n",
    "cell_types = bulk_adata.obs['cell_type'].unique()\n",
    "de_dfs = []\n",
    "\n",
    "for cell_type in cell_types:\n",
    "    cell_type_selection = bulk_adata.obs['cell_type'].eq(cell_type)\n",
    "    cell_type_bulk_adata = bulk_adata[cell_type_selection].copy()\n",
    "    \n",
    "    de_df = run_limma_for_cell_type(cell_type_bulk_adata)\n",
    "    \n",
    "    de_dfs.append(de_df)\n",
    "\n",
    "de_dfs = c.compute(de_dfs, sync=True)\n",
    "de_df = pd.concat(de_dfs)"
   ]
  },
  {
   "cell_type": "markdown",
   "id": "85dc7d4f-a80c-4410-a2a8-7a09f92383a0",
   "metadata": {},
   "source": [
    "## Converting DataFrame to Anndata"
   ]
  },
  {
   "cell_type": "code",
   "execution_count": 18,
   "id": "007cdaaf-023a-49f1-a26d-9c4085817169",
   "metadata": {
    "execution": {
     "iopub.execute_input": "2023-11-22T14:44:43.426229Z",
     "iopub.status.busy": "2023-11-22T14:44:43.425613Z",
     "iopub.status.idle": "2023-11-22T14:44:43.434006Z",
     "shell.execute_reply": "2023-11-22T14:44:43.433425Z",
     "shell.execute_reply.started": "2023-11-22T14:44:43.426206Z"
    },
    "tags": []
   },
   "outputs": [],
   "source": [
    "def convert_de_df_to_anndata(de_df, pert_cols, de_sig_cutoff):\n",
    "    de_df = de_df.copy()\n",
    "    zero_pval_selection = de_df['P.Value'].eq(0)\n",
    "    de_df.loc[zero_pval_selection, 'P.Value'] = np.finfo(np.float64).eps\n",
    "\n",
    "    de_df['sign_log10_pval'] = np.sign(de_df['logFC']) * -np.log10(de_df['P.Value'])\n",
    "    de_df['is_de'] = de_df['P.Value'].lt(de_sig_cutoff)\n",
    "    de_df['is_de_adj'] = de_df['adj.P.Val'].lt(de_sig_cutoff)\n",
    "\n",
    "    de_feature_dfs = {}\n",
    "    for feature in ['is_de', 'is_de_adj', 'sign_log10_pval', 'logFC', 'P.Value', 'adj.P.Val']:\n",
    "        df = de_df.reset_index().pivot_table(\n",
    "            index=['gene'], \n",
    "            columns=pert_cols,\n",
    "            values=[feature],\n",
    "            dropna=True,\n",
    "        )\n",
    "        de_feature_dfs[feature] = df\n",
    "\n",
    "    de_adata = ad.AnnData(de_feature_dfs['sign_log10_pval'].T, dtype=np.float64)\n",
    "    de_adata.obs = de_adata.obs.reset_index()\n",
    "    de_adata.obs = de_adata.obs.drop(columns=['level_0'])\n",
    "    de_adata.obs.index = de_adata.obs.index.astype('string')\n",
    "\n",
    "    de_adata.layers['is_de'] = de_feature_dfs['is_de'].to_numpy().T\n",
    "    de_adata.layers['is_de_adj'] = de_feature_dfs['is_de_adj'].to_numpy().T\n",
    "    de_adata.layers['logFC'] = de_feature_dfs['logFC'].to_numpy().T\n",
    "    de_adata.layers['P.Value'] = de_feature_dfs['P.Value'].to_numpy().T\n",
    "    de_adata.layers['adj.P.Val'] = de_feature_dfs['adj.P.Val'].to_numpy().T\n",
    "    \n",
    "    return de_adata"
   ]
  },
  {
   "cell_type": "code",
   "execution_count": 19,
   "id": "d4e56177-fd82-4939-b65a-f9b8ee2477ae",
   "metadata": {
    "execution": {
     "iopub.execute_input": "2023-11-22T14:44:43.435067Z",
     "iopub.status.busy": "2023-11-22T14:44:43.434761Z",
     "iopub.status.idle": "2023-11-22T14:46:30.337756Z",
     "shell.execute_reply": "2023-11-22T14:46:30.336357Z",
     "shell.execute_reply.started": "2023-11-22T14:44:43.435047Z"
    },
    "tags": []
   },
   "outputs": [
    {
     "name": "stderr",
     "output_type": "stream",
     "text": [
      "/opt/saturncloud/envs/saturn/lib/python3.9/site-packages/anndata/_core/anndata.py:522: FutureWarning: The dtype argument is deprecated and will be removed in late 2024.\n",
      "  warnings.warn(\n"
     ]
    }
   ],
   "source": [
    "de_adata = convert_de_df_to_anndata(de_df, de_pert_cols, 0.05)"
   ]
  },
  {
   "cell_type": "markdown",
   "id": "d7305c51-092a-4802-941a-1fb7e3b82219",
   "metadata": {},
   "source": [
    "## Validation"
   ]
  },
  {
   "cell_type": "markdown",
   "id": "dc8a49e0-281e-41f4-b30e-ca1f96f5f929",
   "metadata": {},
   "source": [
    "Let's make sure that the DE object we've computed has the exact same values as the DE object obtained from `de_train.parquet`"
   ]
  },
  {
   "cell_type": "code",
   "execution_count": 20,
   "id": "7dd6b802-9b90-49f9-a8b7-6a7e7cb8de49",
   "metadata": {
    "execution": {
     "iopub.execute_input": "2023-11-22T14:46:30.339796Z",
     "iopub.status.busy": "2023-11-22T14:46:30.339195Z",
     "iopub.status.idle": "2023-11-22T14:46:31.827737Z",
     "shell.execute_reply": "2023-11-22T14:46:31.827147Z",
     "shell.execute_reply.started": "2023-11-22T14:46:30.339772Z"
    },
    "tags": []
   },
   "outputs": [],
   "source": [
    "kaggle_train_de_df = pd.read_parquet(os.path.join(data_dir, 'de_train.parquet'))\n",
    "kaggle_train_de_df = kaggle_train_de_df.set_index(list(kaggle_train_de_df.columns[:5]))\n",
    "\n",
    "kaggle_train_de_adata = ad.AnnData(kaggle_train_de_df)\n",
    "kaggle_train_de_adata.obs = kaggle_train_de_adata.obs.reset_index()\n",
    "kaggle_train_de_adata.obs.index = kaggle_train_de_adata.obs.index.astype('str')"
   ]
  },
  {
   "cell_type": "code",
   "execution_count": 21,
   "id": "93497294-16b5-4d25-9e5b-43fc33663067",
   "metadata": {
    "execution": {
     "iopub.execute_input": "2023-11-22T14:46:31.828921Z",
     "iopub.status.busy": "2023-11-22T14:46:31.828567Z",
     "iopub.status.idle": "2023-11-22T14:46:31.941419Z",
     "shell.execute_reply": "2023-11-22T14:46:31.940762Z",
     "shell.execute_reply.started": "2023-11-22T14:46:31.828897Z"
    },
    "tags": []
   },
   "outputs": [],
   "source": [
    "sorting_index = kaggle_train_de_adata.obs.sort_values(['sm_name', 'cell_type']).index\n",
    "kaggle_train_de_adata = kaggle_train_de_adata[sorting_index].copy()"
   ]
  },
  {
   "cell_type": "code",
   "execution_count": 22,
   "id": "f407c90f-f01f-43dd-b90b-b1a28dc7ab87",
   "metadata": {
    "execution": {
     "iopub.execute_input": "2023-11-22T14:46:31.944398Z",
     "iopub.status.busy": "2023-11-22T14:46:31.944094Z",
     "iopub.status.idle": "2023-11-22T14:46:32.291629Z",
     "shell.execute_reply": "2023-11-22T14:46:32.290982Z",
     "shell.execute_reply.started": "2023-11-22T14:46:31.944376Z"
    },
    "tags": []
   },
   "outputs": [],
   "source": [
    "de_adata.obs.index = de_adata.obs.index.astype('str')\n",
    "\n",
    "sorting_index = de_adata.obs.sort_values(['sm_name', 'cell_type']).index\n",
    "de_adata = de_adata[sorting_index].copy()"
   ]
  },
  {
   "cell_type": "code",
   "execution_count": 23,
   "id": "69108bfd-941a-4624-9397-9da654343a12",
   "metadata": {
    "execution": {
     "iopub.execute_input": "2023-11-22T14:46:32.292596Z",
     "iopub.status.busy": "2023-11-22T14:46:32.292384Z",
     "iopub.status.idle": "2023-11-22T14:46:32.309371Z",
     "shell.execute_reply": "2023-11-22T14:46:32.308821Z",
     "shell.execute_reply.started": "2023-11-22T14:46:32.292577Z"
    },
    "tags": []
   },
   "outputs": [
    {
     "data": {
      "text/html": [
       "<div>\n",
       "<style scoped>\n",
       "    .dataframe tbody tr th:only-of-type {\n",
       "        vertical-align: middle;\n",
       "    }\n",
       "\n",
       "    .dataframe tbody tr th {\n",
       "        vertical-align: top;\n",
       "    }\n",
       "\n",
       "    .dataframe thead th {\n",
       "        text-align: right;\n",
       "    }\n",
       "</style>\n",
       "<table border=\"1\" class=\"dataframe\">\n",
       "  <thead>\n",
       "    <tr style=\"text-align: right;\">\n",
       "      <th></th>\n",
       "      <th>cell_type</th>\n",
       "      <th>sm_name</th>\n",
       "      <th>sm_lincs_id</th>\n",
       "      <th>SMILES</th>\n",
       "      <th>control</th>\n",
       "    </tr>\n",
       "  </thead>\n",
       "  <tbody>\n",
       "    <tr>\n",
       "      <th>590</th>\n",
       "      <td>NK cells</td>\n",
       "      <td>5-(9-Isopropyl-8-methyl-2-morpholino-9H-purin-...</td>\n",
       "      <td>LSM-47134</td>\n",
       "      <td>Cc1nc2c(-c3cnc(N)nc3)nc(N3CCOCC3)nc2n1C(C)C</td>\n",
       "      <td>False</td>\n",
       "    </tr>\n",
       "    <tr>\n",
       "      <th>591</th>\n",
       "      <td>T cells CD4+</td>\n",
       "      <td>5-(9-Isopropyl-8-methyl-2-morpholino-9H-purin-...</td>\n",
       "      <td>LSM-47134</td>\n",
       "      <td>Cc1nc2c(-c3cnc(N)nc3)nc(N3CCOCC3)nc2n1C(C)C</td>\n",
       "      <td>False</td>\n",
       "    </tr>\n",
       "    <tr>\n",
       "      <th>592</th>\n",
       "      <td>T cells CD8+</td>\n",
       "      <td>5-(9-Isopropyl-8-methyl-2-morpholino-9H-purin-...</td>\n",
       "      <td>LSM-47134</td>\n",
       "      <td>Cc1nc2c(-c3cnc(N)nc3)nc(N3CCOCC3)nc2n1C(C)C</td>\n",
       "      <td>False</td>\n",
       "    </tr>\n",
       "    <tr>\n",
       "      <th>593</th>\n",
       "      <td>T regulatory cells</td>\n",
       "      <td>5-(9-Isopropyl-8-methyl-2-morpholino-9H-purin-...</td>\n",
       "      <td>LSM-47134</td>\n",
       "      <td>Cc1nc2c(-c3cnc(N)nc3)nc(N3CCOCC3)nc2n1C(C)C</td>\n",
       "      <td>False</td>\n",
       "    </tr>\n",
       "    <tr>\n",
       "      <th>56</th>\n",
       "      <td>NK cells</td>\n",
       "      <td>ABT-199 (GDC-0199)</td>\n",
       "      <td>LSM-45468</td>\n",
       "      <td>CC1(C)CCC(CN2CCN(c3ccc(C(=O)NS(=O)(=O)c4ccc(NC...</td>\n",
       "      <td>False</td>\n",
       "    </tr>\n",
       "    <tr>\n",
       "      <th>...</th>\n",
       "      <td>...</td>\n",
       "      <td>...</td>\n",
       "      <td>...</td>\n",
       "      <td>...</td>\n",
       "      <td>...</td>\n",
       "    </tr>\n",
       "    <tr>\n",
       "      <th>67</th>\n",
       "      <td>T regulatory cells</td>\n",
       "      <td>Vorinostat</td>\n",
       "      <td>LSM-3828</td>\n",
       "      <td>O=C(CCCCCCC(=O)Nc1ccccc1)NO</td>\n",
       "      <td>False</td>\n",
       "    </tr>\n",
       "    <tr>\n",
       "      <th>523</th>\n",
       "      <td>NK cells</td>\n",
       "      <td>YK 4-279</td>\n",
       "      <td>LSM-4933</td>\n",
       "      <td>COc1ccc(C(=O)CC2(O)C(=O)Nc3c(Cl)ccc(Cl)c32)cc1</td>\n",
       "      <td>False</td>\n",
       "    </tr>\n",
       "    <tr>\n",
       "      <th>524</th>\n",
       "      <td>T cells CD4+</td>\n",
       "      <td>YK 4-279</td>\n",
       "      <td>LSM-4933</td>\n",
       "      <td>COc1ccc(C(=O)CC2(O)C(=O)Nc3c(Cl)ccc(Cl)c32)cc1</td>\n",
       "      <td>False</td>\n",
       "    </tr>\n",
       "    <tr>\n",
       "      <th>525</th>\n",
       "      <td>T cells CD8+</td>\n",
       "      <td>YK 4-279</td>\n",
       "      <td>LSM-4933</td>\n",
       "      <td>COc1ccc(C(=O)CC2(O)C(=O)Nc3c(Cl)ccc(Cl)c32)cc1</td>\n",
       "      <td>False</td>\n",
       "    </tr>\n",
       "    <tr>\n",
       "      <th>526</th>\n",
       "      <td>T regulatory cells</td>\n",
       "      <td>YK 4-279</td>\n",
       "      <td>LSM-4933</td>\n",
       "      <td>COc1ccc(C(=O)CC2(O)C(=O)Nc3c(Cl)ccc(Cl)c32)cc1</td>\n",
       "      <td>False</td>\n",
       "    </tr>\n",
       "  </tbody>\n",
       "</table>\n",
       "<p>614 rows × 5 columns</p>\n",
       "</div>"
      ],
      "text/plain": [
       "              cell_type                                            sm_name  \\\n",
       "590            NK cells  5-(9-Isopropyl-8-methyl-2-morpholino-9H-purin-...   \n",
       "591        T cells CD4+  5-(9-Isopropyl-8-methyl-2-morpholino-9H-purin-...   \n",
       "592        T cells CD8+  5-(9-Isopropyl-8-methyl-2-morpholino-9H-purin-...   \n",
       "593  T regulatory cells  5-(9-Isopropyl-8-methyl-2-morpholino-9H-purin-...   \n",
       "56             NK cells                                 ABT-199 (GDC-0199)   \n",
       "..                  ...                                                ...   \n",
       "67   T regulatory cells                                         Vorinostat   \n",
       "523            NK cells                                           YK 4-279   \n",
       "524        T cells CD4+                                           YK 4-279   \n",
       "525        T cells CD8+                                           YK 4-279   \n",
       "526  T regulatory cells                                           YK 4-279   \n",
       "\n",
       "    sm_lincs_id                                             SMILES  control  \n",
       "590   LSM-47134        Cc1nc2c(-c3cnc(N)nc3)nc(N3CCOCC3)nc2n1C(C)C    False  \n",
       "591   LSM-47134        Cc1nc2c(-c3cnc(N)nc3)nc(N3CCOCC3)nc2n1C(C)C    False  \n",
       "592   LSM-47134        Cc1nc2c(-c3cnc(N)nc3)nc(N3CCOCC3)nc2n1C(C)C    False  \n",
       "593   LSM-47134        Cc1nc2c(-c3cnc(N)nc3)nc(N3CCOCC3)nc2n1C(C)C    False  \n",
       "56    LSM-45468  CC1(C)CCC(CN2CCN(c3ccc(C(=O)NS(=O)(=O)c4ccc(NC...    False  \n",
       "..          ...                                                ...      ...  \n",
       "67     LSM-3828                        O=C(CCCCCCC(=O)Nc1ccccc1)NO    False  \n",
       "523    LSM-4933     COc1ccc(C(=O)CC2(O)C(=O)Nc3c(Cl)ccc(Cl)c32)cc1    False  \n",
       "524    LSM-4933     COc1ccc(C(=O)CC2(O)C(=O)Nc3c(Cl)ccc(Cl)c32)cc1    False  \n",
       "525    LSM-4933     COc1ccc(C(=O)CC2(O)C(=O)Nc3c(Cl)ccc(Cl)c32)cc1    False  \n",
       "526    LSM-4933     COc1ccc(C(=O)CC2(O)C(=O)Nc3c(Cl)ccc(Cl)c32)cc1    False  \n",
       "\n",
       "[614 rows x 5 columns]"
      ]
     },
     "execution_count": 23,
     "metadata": {},
     "output_type": "execute_result"
    }
   ],
   "source": [
    "kaggle_train_de_adata.obs"
   ]
  },
  {
   "cell_type": "code",
   "execution_count": 24,
   "id": "396bcaeb-1d32-4f06-9b32-eb3650b82e85",
   "metadata": {
    "execution": {
     "iopub.execute_input": "2023-11-22T14:46:32.310729Z",
     "iopub.status.busy": "2023-11-22T14:46:32.310244Z",
     "iopub.status.idle": "2023-11-22T14:46:32.437418Z",
     "shell.execute_reply": "2023-11-22T14:46:32.436833Z",
     "shell.execute_reply.started": "2023-11-22T14:46:32.310708Z"
    },
    "tags": []
   },
   "outputs": [
    {
     "data": {
      "text/plain": [
       "True"
      ]
     },
     "execution_count": 24,
     "metadata": {},
     "output_type": "execute_result"
    }
   ],
   "source": [
    "np.allclose(kaggle_train_de_adata.X, de_adata.X)"
   ]
  }
 ],
 "metadata": {
  "kernelspec": {
   "display_name": "saturn (Python 3)",
   "language": "python",
   "name": "python3"
  },
  "language_info": {
   "codemirror_mode": {
    "name": "ipython",
    "version": 3
   },
   "file_extension": ".py",
   "mimetype": "text/x-python",
   "name": "python",
   "nbconvert_exporter": "python",
   "pygments_lexer": "ipython3",
   "version": "3.10.12"
  }
 },
 "nbformat": 4,
 "nbformat_minor": 5
}
