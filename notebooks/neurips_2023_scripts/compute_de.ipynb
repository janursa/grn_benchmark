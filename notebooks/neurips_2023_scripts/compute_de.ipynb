{
 "cells": [
  {
   "cell_type": "code",
   "execution_count": null,
   "id": "77759971-e331-4a96-b1e0-37b148f1ea5f",
   "metadata": {
    "execution": {
     "iopub.execute_input": "2023-11-22T14:25:07.171516Z",
     "iopub.status.busy": "2023-11-22T14:25:07.171335Z",
     "iopub.status.idle": "2023-11-22T14:25:12.172703Z",
     "shell.execute_reply": "2023-11-22T14:25:12.172095Z",
     "shell.execute_reply.started": "2023-11-22T14:25:07.171496Z"
    },
    "tags": []
   },
   "outputs": [],
   "source": [
    "import pandas as pd\n",
    "import numpy as np\n",
    "import sklearn\n",
    "import scipy\n",
    "\n",
    "import anndata as ad\n",
    "import scanpy as sc\n",
    "import os\n",
    "\n",
    "from dask import delayed\n",
    "from dask.distributed import Client, LocalCluster\n",
    "\n",
    "import os, binascii\n",
    "data_dir = '../../input/kaggle/input/open-problems-single-cell-perturbations'\n",
    "os.path.isdir(data_dir)"
   ]
  },
  {
   "cell_type": "code",
   "execution_count": null,
   "id": "6f5f0ca3-c6f5-4b89-9501-a8f6964da587",
   "metadata": {
    "execution": {
     "iopub.execute_input": "2023-11-22T14:25:12.174474Z",
     "iopub.status.busy": "2023-11-22T14:25:12.174181Z",
     "iopub.status.idle": "2023-11-22T14:25:12.177140Z",
     "shell.execute_reply": "2023-11-22T14:25:12.176649Z",
     "shell.execute_reply.started": "2023-11-22T14:25:12.174452Z"
    },
    "tags": []
   },
   "outputs": [],
   "source": [
    "#! aws s3 cp s3://saturn-kaggle-datasets/open-problems-single-cell-perturbations-optional/lincs_id_compound_mapping.parquet --no-sign-request ."
   ]
  },
  {
   "cell_type": "markdown",
   "id": "b9fa12aa-f694-4ddc-9efa-c16b7e4a587e",
   "metadata": {},
   "source": [
    "## Loading expression data"
   ]
  },
  {
   "cell_type": "markdown",
   "id": "7c8e5357-5182-4d2a-868c-f5d987c83bcd",
   "metadata": {},
   "source": [
    "Here we load expression data (long format) and converting it into an AnnData object (wide sparse format).\n",
    "\n",
    "You'll need to increase your instance RAM to at least 64 GB."
   ]
  },
  {
   "cell_type": "code",
   "execution_count": null,
   "id": "8d33998f-89f6-4bd5-9cf2-f4e1732ab5d8",
   "metadata": {
    "execution": {
     "iopub.execute_input": "2023-11-22T14:25:12.178004Z",
     "iopub.status.busy": "2023-11-22T14:25:12.177813Z",
     "iopub.status.idle": "2023-11-22T14:26:01.765736Z",
     "shell.execute_reply": "2023-11-22T14:26:01.765081Z",
     "shell.execute_reply.started": "2023-11-22T14:25:12.177987Z"
    },
    "tags": []
   },
   "outputs": [],
   "source": [
    "\n",
    "# adata_train_df = pd.read_parquet(os.path.join(data_dir, 'adata_train.parquet'))\n",
    "# adata_obs_meta_df = pd.read_csv(os.path.join(data_dir, 'adata_obs_meta.csv'))\n",
    "de_train = pd.read_parquet(os.path.join(data_dir, 'de_train.parquet'))\n",
    "adata_excluded_ids_df = pd.read_csv(os.path.join(data_dir, 'adata_excluded_ids.csv'))"
   ]
  },
  {
   "cell_type": "code",
   "execution_count": null,
   "id": "15efe993",
   "metadata": {},
   "outputs": [],
   "source": [
    "np.intersect1d(adata_excluded_ids_df.gene.unique(), de_train.columns).shape\n"
   ]
  },
  {
   "cell_type": "code",
   "execution_count": null,
   "id": "52109b39",
   "metadata": {},
   "outputs": [],
   "source": [
    "reindexed_adata_train_df = adata_train_df.reset_index().set_index(['obs_id', 'gene'])\n",
    "adata_excluded_ids_index = adata_excluded_ids_df.set_index(['obs_id', 'gene']).sort_index().index\n",
    "\n",
    "selection = ~reindexed_adata_train_df.index.isin(adata_excluded_ids_index)\n",
    "adata_train_df = reindexed_adata_train_df[selection]\n",
    "\n",
    "adata_train_df = adata_train_df.reset_index().set_index('index')"
   ]
  },
  {
   "cell_type": "code",
   "execution_count": null,
   "id": "b2a6854d",
   "metadata": {},
   "outputs": [],
   "source": [
    "adata_train_df['obs_id'] = adata_train_df['obs_id'].astype('category')\n",
    "adata_train_df['gene'] = adata_train_df['gene'].astype('category')\n",
    "\n",
    "obs_ids = adata_train_df['obs_id'].unique()\n",
    "obs_id_map = dict(zip(obs_ids, range(len(obs_ids))))\n",
    "\n",
    "genes = adata_train_df['gene'].unique()\n",
    "gene_map = dict(zip(genes, range(len(genes))))\n",
    "\n",
    "adata_train_df['obs_index'] = adata_train_df['obs_id'].map(obs_id_map)\n",
    "adata_train_df['gene_index'] = adata_train_df['gene'].map(gene_map)\n",
    "\n",
    "normalized_counts_values = adata_train_df['normalized_count'].to_numpy()\n",
    "counts_values = adata_train_df['count'].to_numpy()\n",
    "\n",
    "row_indices = adata_train_df['obs_index'].to_numpy()\n",
    "col_indices = adata_train_df['gene_index'].to_numpy()\n",
    "\n",
    "counts = scipy.sparse.csr_matrix((counts_values, (row_indices, col_indices)))\n",
    "\n",
    "obs_df = pd.Series(obs_ids, name='obs_id').to_frame()\n",
    "var_df = pd.Series(genes, name='gene').to_frame()\n",
    "\n",
    "obs_df = obs_df.set_index('obs_id')\n",
    "var_df = var_df.set_index('gene')\n",
    "\n",
    "obs_df.index = obs_df.index.astype('str')\n",
    "var_df.index = var_df.index.astype('str')\n",
    "\n",
    "kaggle_adata = ad.AnnData(\n",
    "    X=counts,\n",
    "    obs=obs_df,\n",
    "    var=var_df,\n",
    "    dtype=np.uint32,\n",
    ")\n",
    "\n",
    "index_ordering_before_join = kaggle_adata.obs.index\n",
    "kaggle_adata.obs = kaggle_adata.obs.join(adata_obs_meta_df.set_index('obs_id'))\n",
    "index_ordering_after_join = kaggle_adata.obs.index\n",
    "assert (index_ordering_before_join == index_ordering_after_join).all()\n",
    "\n",
    "kaggle_adata.write_h5ad('../../output/de_analysis/kaggle_adata.h5ad')"
   ]
  },
  {
   "cell_type": "markdown",
   "id": "db87f685-c183-4d5a-bc22-9185113f2222",
   "metadata": {
    "execution": {
     "iopub.execute_input": "2023-09-22T17:26:10.549113Z",
     "iopub.status.busy": "2023-09-22T17:26:10.548724Z",
     "iopub.status.idle": "2023-09-22T17:26:10.552111Z",
     "shell.execute_reply": "2023-09-22T17:26:10.551571Z",
     "shell.execute_reply.started": "2023-09-22T17:26:10.549088Z"
    },
    "tags": []
   },
   "source": [
    "## Pseudobulking counts by cell type"
   ]
  },
  {
   "cell_type": "code",
   "execution_count": null,
   "id": "58b2f7a0",
   "metadata": {},
   "outputs": [],
   "source": [
    "import anndata\n",
    "import pandas as pd\n",
    "import numpy as np\n",
    "import sklearn\n",
    "import scipy\n",
    "\n",
    "import anndata as ad\n",
    "import scanpy as sc\n",
    "\n",
    "from dask import delayed\n",
    "from dask.distributed import Client, LocalCluster\n",
    "\n",
    "import os, binascii\n",
    "kaggle_adata = anndata.read_h5ad('../../output/de_analysis/kaggle_adata.h5ad')"
   ]
  },
  {
   "cell_type": "code",
   "execution_count": null,
   "id": "bbe694c0",
   "metadata": {},
   "outputs": [],
   "source": [
    "kaggle_adata"
   ]
  },
  {
   "cell_type": "code",
   "execution_count": null,
   "id": "2977f6ce-0354-45a2-9610-22aff6781dd1",
   "metadata": {
    "execution": {
     "iopub.execute_input": "2023-11-22T14:36:15.858170Z",
     "iopub.status.busy": "2023-11-22T14:36:15.857885Z",
     "iopub.status.idle": "2023-11-22T14:36:15.865364Z",
     "shell.execute_reply": "2023-11-22T14:36:15.864837Z",
     "shell.execute_reply.started": "2023-11-22T14:36:15.858150Z"
    },
    "tags": []
   },
   "outputs": [],
   "source": [
    "from scipy import sparse\n",
    "\n",
    "def sum_by(adata: ad.AnnData, col: str) -> ad.AnnData:\n",
    "    \"\"\"\n",
    "    Adapted from this forum post: \n",
    "    https://discourse.scverse.org/t/group-sum-rows-based-on-jobs-feature/371/4\n",
    "    \"\"\"\n",
    "    \n",
    "    assert pd.api.types.is_categorical_dtype(adata.obs[col])\n",
    "\n",
    "    # sum `.X` entries for each unique value in `col`\n",
    "    cat = adata.obs[col].values\n",
    "    indicator = sparse.coo_matrix(\n",
    "        (\n",
    "            np.broadcast_to(True, adata.n_obs),\n",
    "            (cat.codes, np.arange(adata.n_obs))\n",
    "        ),\n",
    "        shape=(len(cat.categories), adata.n_obs),\n",
    "    )\n",
    "    sum_adata = ad.AnnData(\n",
    "        indicator @ adata.X,\n",
    "        var=adata.var,\n",
    "        obs=pd.DataFrame(index=cat.categories),\n",
    "    )\n",
    "    \n",
    "    # copy over `.obs` values that have a one-to-one-mapping with `.obs[col]`\n",
    "    obs_cols = adata.obs.columns\n",
    "    obs_cols = list(set(adata.obs.columns) - set([col]))\n",
    "    \n",
    "    one_to_one_mapped_obs_cols = []\n",
    "    nunique_in_col = adata.obs[col].nunique()\n",
    "    for other_col in obs_cols:\n",
    "        if len(adata.obs[[col, other_col]].drop_duplicates()) == nunique_in_col:\n",
    "            one_to_one_mapped_obs_cols.append(other_col)\n",
    "\n",
    "    joining_df = adata.obs[[col] + one_to_one_mapped_obs_cols].drop_duplicates().set_index(col)\n",
    "    assert (sum_adata.obs.index == sum_adata.obs.join(joining_df).index).all()\n",
    "    sum_adata.obs = sum_adata.obs.join(joining_df)\n",
    "    sum_adata.obs.index.name = col\n",
    "    sum_adata.obs = sum_adata.obs.reset_index()\n",
    "    sum_adata.obs.index = sum_adata.obs.index.astype('str')\n",
    "\n",
    "    return sum_adata"
   ]
  },
  {
   "cell_type": "code",
   "execution_count": null,
   "id": "1257b480-2a70-46b6-a8f7-80d6f399d0b4",
   "metadata": {
    "execution": {
     "iopub.execute_input": "2023-11-22T14:36:15.866443Z",
     "iopub.status.busy": "2023-11-22T14:36:15.866102Z",
     "iopub.status.idle": "2023-11-22T14:36:18.437683Z",
     "shell.execute_reply": "2023-11-22T14:36:18.437030Z",
     "shell.execute_reply.started": "2023-11-22T14:36:15.866422Z"
    },
    "tags": []
   },
   "outputs": [],
   "source": [
    "kaggle_adata.obs['plate_well_cell_type'] = kaggle_adata.obs['plate_name'].astype('str') \\\n",
    "    + '_' + kaggle_adata.obs['well'].astype('str') \\\n",
    "    + '_' + kaggle_adata.obs['cell_type'].astype('str')\n",
    "kaggle_adata.obs['plate_well_cell_type'] = kaggle_adata.obs['plate_well_cell_type'].astype('category')\n",
    "\n",
    "bulk_adata = sum_by(kaggle_adata, 'plate_well_cell_type')\n",
    "bulk_adata.obs = bulk_adata.obs.drop(columns=['plate_well_cell_type'])\n",
    "bulk_adata.X = np.array(bulk_adata.X.todense())"
   ]
  },
  {
   "cell_type": "code",
   "execution_count": null,
   "id": "93171c15",
   "metadata": {},
   "outputs": [],
   "source": [
    "bulk_adata"
   ]
  },
  {
   "cell_type": "code",
   "execution_count": null,
   "id": "13c9c8a5-b56d-40a5-a706-236be6f4a0cb",
   "metadata": {
    "execution": {
     "iopub.execute_input": "2023-11-22T14:36:18.438819Z",
     "iopub.status.busy": "2023-11-22T14:36:18.438532Z",
     "iopub.status.idle": "2023-11-22T14:36:18.443879Z",
     "shell.execute_reply": "2023-11-22T14:36:18.443368Z",
     "shell.execute_reply.started": "2023-11-22T14:36:18.438799Z"
    },
    "tags": []
   },
   "outputs": [],
   "source": [
    "plate_name_update = {\n",
    "    'plate_0': 'plate_2',\n",
    "     'plate_1': 'plate_3',\n",
    "     'plate_2': 'plate_1',\n",
    "     'plate_3': 'plate_4',\n",
    "     'plate_4': 'plate_0',\n",
    "     'plate_5': 'plate_5',\n",
    "}\n",
    "\n",
    "bulk_adata.obs['plate_name'] = bulk_adata \\\n",
    "    .obs['plate_name'] \\\n",
    "    .map(plate_name_update) \\\n",
    "    .astype('str')"
   ]
  },
  {
   "cell_type": "markdown",
   "id": "8bced2df-87ca-44c0-a769-4cc46d33ee66",
   "metadata": {},
   "source": [
    "## Running Limma"
   ]
  },
  {
   "cell_type": "code",
   "execution_count": null,
   "id": "ced9d15b-375a-4788-a85d-330fc8f45fb4",
   "metadata": {
    "execution": {
     "iopub.execute_input": "2023-11-22T14:36:18.444890Z",
     "iopub.status.busy": "2023-11-22T14:36:18.444595Z",
     "iopub.status.idle": "2023-11-22T14:36:18.448348Z",
     "shell.execute_reply": "2023-11-22T14:36:18.447857Z",
     "shell.execute_reply.started": "2023-11-22T14:36:18.444871Z"
    },
    "tags": []
   },
   "outputs": [],
   "source": [
    "import limma_utils\n",
    "de_pert_cols = [\n",
    "    'sm_name',\n",
    "    'sm_lincs_id',\n",
    "    'SMILES',\n",
    "    'dose_uM',\n",
    "    'timepoint_hr',\n",
    "    'cell_type',\n",
    "]\n",
    "\n",
    "control_compound = 'Dimethyl Sulfoxide'\n",
    "\n",
    "def _run_limma_for_cell_type(bulk_adata):\n",
    "    bulk_adata = bulk_adata.copy()\n",
    "    \n",
    "    compound_name_col = de_pert_cols[0]\n",
    "    \n",
    "    # limma doesn't like dashes etc. in the compound names\n",
    "    rpert_mapping = bulk_adata.obs[compound_name_col].drop_duplicates() \\\n",
    "        .reset_index(drop=True).reset_index() \\\n",
    "        .set_index(compound_name_col)['index'].to_dict()\n",
    "    \n",
    "    bulk_adata.obs['Rpert'] = bulk_adata.obs.apply(\n",
    "        lambda row: rpert_mapping[row[compound_name_col]], \n",
    "        axis='columns',\n",
    "    ).astype('str')\n",
    "\n",
    "    compound_name_to_Rpert = bulk_adata.obs.set_index(compound_name_col)['Rpert'].to_dict()\n",
    "    ref_pert = compound_name_to_Rpert[control_compound]\n",
    "            \n",
    "    random_string = binascii.b2a_hex(os.urandom(15)).decode()\n",
    "    \n",
    "    \n",
    "    limma_utils.limma_fit(\n",
    "        bulk_adata, \n",
    "        design='~0+Rpert+donor_id+plate_name+row',\n",
    "        output_path=f'output/{random_string}_limma.rds',\n",
    "        plot_output_path=f'output/{random_string}_voom',\n",
    "        exec_path='limma_fit.r',\n",
    "    )\n",
    "\n",
    "    pert_de_dfs = []\n",
    "    \n",
    "\n",
    "\n",
    "    for pert in bulk_adata.obs['Rpert'].unique():\n",
    "        if pert == ref_pert:\n",
    "            continue\n",
    "\n",
    "        pert_de_df = limma_utils.limma_contrast(\n",
    "            fit_path=f'output/{random_string}_limma.rds',\n",
    "            contrast='Rpert'+pert+'-Rpert'+ref_pert,\n",
    "            exec_path='limma_contrast.r',\n",
    "        )\n",
    "\n",
    "        pert_de_df['Rpert'] = pert\n",
    "\n",
    "        pert_obs = bulk_adata.obs[bulk_adata.obs['Rpert'].eq(pert)]\n",
    "        for col in de_pert_cols:\n",
    "            pert_de_df[col] = pert_obs[col].unique()[0]\n",
    "        pert_de_dfs.append(pert_de_df)\n",
    "\n",
    "    de_df = pd.concat(pert_de_dfs, axis=0)\n",
    "\n",
    "    try:\n",
    "        os.remove(f'output/{random_string}_limma.rds')\n",
    "        os.remove(f'output/{random_string}_voom')\n",
    "    except FileNotFoundError:\n",
    "        pass\n",
    "    \n",
    "    return de_df\n",
    "\n",
    "run_limma_for_cell_type = delayed(_run_limma_for_cell_type)\n",
    "cluster = LocalCluster(\n",
    "    n_workers=6,\n",
    "    processes=True,\n",
    "    threads_per_worker=1,\n",
    "    memory_limit='20GB',\n",
    ")\n",
    "\n",
    "c = Client(cluster)"
   ]
  },
  {
   "cell_type": "code",
   "execution_count": null,
   "id": "bf7150df",
   "metadata": {},
   "outputs": [],
   "source": [
    "\n",
    "cell_types = bulk_adata.obs['cell_type'].unique()\n",
    "de_dfs = []\n",
    "\n",
    "for cell_type in cell_types:\n",
    "    cell_type_selection = bulk_adata.obs['cell_type'].eq(cell_type)\n",
    "    cell_type_bulk_adata = bulk_adata[cell_type_selection].copy()\n",
    "    \n",
    "    de_df = run_limma_for_cell_type(cell_type_bulk_adata)\n",
    "    \n",
    "    de_dfs.append(de_df)\n",
    "\n",
    "de_dfs = c.compute(de_dfs, sync=True)\n",
    "de_df = pd.concat(de_dfs)"
   ]
  },
  {
   "cell_type": "markdown",
   "id": "0b4bd35a-a190-4afc-bf32-01cdc28e4a14",
   "metadata": {},
   "source": [
    "We compute DE for each cell type independently. Using Dask, we execute the DE expression function for each cell type in parallel."
   ]
  },
  {
   "cell_type": "markdown",
   "id": "85dc7d4f-a80c-4410-a2a8-7a09f92383a0",
   "metadata": {},
   "source": [
    "## Converting DataFrame to Anndata"
   ]
  },
  {
   "cell_type": "code",
   "execution_count": null,
   "id": "007cdaaf-023a-49f1-a26d-9c4085817169",
   "metadata": {
    "execution": {
     "iopub.execute_input": "2023-11-22T14:44:43.426229Z",
     "iopub.status.busy": "2023-11-22T14:44:43.425613Z",
     "iopub.status.idle": "2023-11-22T14:44:43.434006Z",
     "shell.execute_reply": "2023-11-22T14:44:43.433425Z",
     "shell.execute_reply.started": "2023-11-22T14:44:43.426206Z"
    },
    "tags": []
   },
   "outputs": [],
   "source": [
    "# def convert_de_df_to_anndata(de_df_copy, pert_cols, de_sig_cutoff):\n",
    "pert_cols = de_pert_cols\n",
    "de_sig_cutoff = 0.05\n",
    "de_df_copy = de_df.copy()\n",
    "zero_pval_selection = de_df_copy['P.Value'].eq(0)\n",
    "print('number of cases with zero p value:', zero_pval_selection.sum())\n",
    "de_df_copy.loc[zero_pval_selection, 'P.Value'] = np.finfo(np.float64).eps\n",
    "\n",
    "de_df_copy['sign_log10_pval'] = np.sign(de_df_copy['logFC']) * -np.log10(de_df_copy['P.Value'])\n",
    "de_df_copy['is_de'] = de_df_copy['P.Value'].lt(de_sig_cutoff)\n",
    "de_df_copy['is_de_adj'] = de_df_copy['adj.P.Val'].lt(de_sig_cutoff)\n",
    "\n",
    "de_feature_dfs = {}\n",
    "for feature in ['is_de', 'is_de_adj', 'sign_log10_pval', 'logFC', 'P.Value', 'adj.P.Val']:\n",
    "    df = de_df_copy.reset_index().pivot_table(\n",
    "        index=['gene'], \n",
    "        columns=pert_cols,\n",
    "        values=[feature],\n",
    "        dropna=True,\n",
    "    )\n",
    "    de_feature_dfs[feature] = df\n"
   ]
  },
  {
   "cell_type": "code",
   "execution_count": null,
   "id": "18f12f9a",
   "metadata": {},
   "outputs": [],
   "source": [
    "df_copy = de_feature_dfs['sign_log10_pval'].T.copy()\n",
    "df_copy.index = df_copy.index.to_frame(index=False).drop(columns=[0])"
   ]
  },
  {
   "cell_type": "code",
   "execution_count": null,
   "id": "bf55e357",
   "metadata": {},
   "outputs": [],
   "source": [
    "gene_names = de_feature_dfs['sign_log10_pval'].index\n",
    "X = de_feature_dfs['sign_log10_pval'].T[gene_names].values\n",
    "obs = de_feature_dfs['sign_log10_pval'].T.index.to_frame(index=False).drop(columns=[0])\n",
    "var = pd.DataFrame(index=gene_names)\n",
    "de_adata = ad.AnnData(X, dtype=np.float64, obs=obs,var=var)\n",
    "# de_adata.obs = de_adata.obs.reset_index()\n",
    "# de_adata.obs = de_adata.obs.drop(columns=['level_0'])\n",
    "# de_adata.obs.index = de_adata.obs.index.astype('string')\n",
    "\n",
    "de_adata.layers['is_de'] = de_feature_dfs['is_de'].to_numpy().T\n",
    "de_adata.layers['is_de_adj'] = de_feature_dfs['is_de_adj'].to_numpy().T\n",
    "de_adata.layers['logFC'] = de_feature_dfs['logFC'].to_numpy().T\n",
    "de_adata.layers['P.Value'] = de_feature_dfs['P.Value'].to_numpy().T\n",
    "de_adata.layers['adj.P.Val'] = de_feature_dfs['adj.P.Val'].to_numpy().T\n",
    "    \n",
    "    # return de_adata\n",
    "# de_adata = convert_de_df_to_anndata(de_df, de_pert_cols, 0.05)"
   ]
  },
  {
   "cell_type": "markdown",
   "id": "d7305c51-092a-4802-941a-1fb7e3b82219",
   "metadata": {},
   "source": [
    "## Validation"
   ]
  },
  {
   "cell_type": "markdown",
   "id": "dc8a49e0-281e-41f4-b30e-ca1f96f5f929",
   "metadata": {},
   "source": [
    "Let's make sure that the DE object we've computed has the exact same values as the DE object obtained from `de_train.parquet`"
   ]
  },
  {
   "cell_type": "code",
   "execution_count": null,
   "id": "38cc2dbe",
   "metadata": {},
   "outputs": [],
   "source": []
  },
  {
   "cell_type": "code",
   "execution_count": null,
   "id": "7dd6b802-9b90-49f9-a8b7-6a7e7cb8de49",
   "metadata": {
    "execution": {
     "iopub.execute_input": "2023-11-22T14:46:30.339796Z",
     "iopub.status.busy": "2023-11-22T14:46:30.339195Z",
     "iopub.status.idle": "2023-11-22T14:46:31.827737Z",
     "shell.execute_reply": "2023-11-22T14:46:31.827147Z",
     "shell.execute_reply.started": "2023-11-22T14:46:30.339772Z"
    },
    "tags": []
   },
   "outputs": [],
   "source": [
    "kaggle_train_de_df = pd.read_parquet(os.path.join(data_dir, 'de_train.parquet'))\n",
    "kaggle_train_de_df = kaggle_train_de_df.set_index(list(kaggle_train_de_df.columns[:5]))\n",
    "obs = kaggle_train_de_df.index.to_frame(index=False)\n",
    "var = pd.DataFrame(index=kaggle_train_de_df.columns)\n",
    "kaggle_train_de_adata = ad.AnnData(kaggle_train_de_df.values, obs=obs, var=var, dtype=np.float64)\n",
    "# kaggle_train_de_adata.obs = kaggle_train_de_adata.obs.reset_index()\n",
    "# kaggle_train_de_adata.obs.index = kaggle_train_de_adata.obs.index.astype('str')"
   ]
  },
  {
   "cell_type": "code",
   "execution_count": null,
   "id": "93497294-16b5-4d25-9e5b-43fc33663067",
   "metadata": {
    "execution": {
     "iopub.execute_input": "2023-11-22T14:46:31.828921Z",
     "iopub.status.busy": "2023-11-22T14:46:31.828567Z",
     "iopub.status.idle": "2023-11-22T14:46:31.941419Z",
     "shell.execute_reply": "2023-11-22T14:46:31.940762Z",
     "shell.execute_reply.started": "2023-11-22T14:46:31.828897Z"
    },
    "tags": []
   },
   "outputs": [],
   "source": [
    "sorting_index = kaggle_train_de_adata.obs.sort_values(['sm_name', 'cell_type']).index\n",
    "kaggle_train_de_adata = kaggle_train_de_adata[sorting_index].copy()"
   ]
  },
  {
   "cell_type": "code",
   "execution_count": null,
   "id": "e598e1e9",
   "metadata": {},
   "outputs": [],
   "source": [
    "kaggle_train_de_adata"
   ]
  },
  {
   "cell_type": "code",
   "execution_count": null,
   "id": "f407c90f-f01f-43dd-b90b-b1a28dc7ab87",
   "metadata": {
    "execution": {
     "iopub.execute_input": "2023-11-22T14:46:31.944398Z",
     "iopub.status.busy": "2023-11-22T14:46:31.944094Z",
     "iopub.status.idle": "2023-11-22T14:46:32.291629Z",
     "shell.execute_reply": "2023-11-22T14:46:32.290982Z",
     "shell.execute_reply.started": "2023-11-22T14:46:31.944376Z"
    },
    "tags": []
   },
   "outputs": [],
   "source": [
    "de_adata.obs.index = de_adata.obs.index.astype('str')\n",
    "\n",
    "sorting_index = de_adata.obs.sort_values(['sm_name', 'cell_type']).index\n",
    "de_adata = de_adata[sorting_index].copy()"
   ]
  },
  {
   "cell_type": "code",
   "execution_count": null,
   "id": "396bcaeb-1d32-4f06-9b32-eb3650b82e85",
   "metadata": {
    "execution": {
     "iopub.execute_input": "2023-11-22T14:46:32.310729Z",
     "iopub.status.busy": "2023-11-22T14:46:32.310244Z",
     "iopub.status.idle": "2023-11-22T14:46:32.437418Z",
     "shell.execute_reply": "2023-11-22T14:46:32.436833Z",
     "shell.execute_reply.started": "2023-11-22T14:46:32.310708Z"
    },
    "tags": []
   },
   "outputs": [],
   "source": [
    "np.allclose(kaggle_train_de_adata.X, de_adata.X)"
   ]
  },
  {
   "cell_type": "markdown",
   "id": "a3bf39d8",
   "metadata": {},
   "source": [
    "# Evaluate "
   ]
  },
  {
   "cell_type": "code",
   "execution_count": null,
   "id": "c9dac952",
   "metadata": {},
   "outputs": [],
   "source": [
    "de_adata"
   ]
  },
  {
   "cell_type": "code",
   "execution_count": null,
   "id": "ce41e0d9",
   "metadata": {},
   "outputs": [],
   "source": [
    "bulk_adata.X==0"
   ]
  }
 ],
 "metadata": {
  "kernelspec": {
   "display_name": "saturn (Python 3)",
   "language": "python",
   "name": "python3"
  },
  "language_info": {
   "codemirror_mode": {
    "name": "ipython",
    "version": 3
   },
   "file_extension": ".py",
   "mimetype": "text/x-python",
   "name": "python",
   "nbconvert_exporter": "python",
   "pygments_lexer": "ipython3",
   "version": "3.10.12"
  }
 },
 "nbformat": 4,
 "nbformat_minor": 5
}
