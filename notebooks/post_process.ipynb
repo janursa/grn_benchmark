{
 "cells": [
  {
   "cell_type": "markdown",
   "metadata": {},
   "source": [
    "# <a id='toc1_'></a>[Evaluation of multi-omics GRN inference methods](#toc0_)\n",
    "## <a id='toc1_1_'></a>[Topological analysis of the inferred GRNs](#toc0_)\n",
    "### <a id='toc1_1_1_'></a>[by Jalil Nourisa](#toc0_)"
   ]
  },
  {
   "cell_type": "markdown",
   "metadata": {},
   "source": [
    "# Imports"
   ]
  },
  {
   "cell_type": "code",
   "execution_count": 1,
   "metadata": {},
   "outputs": [],
   "source": [
    "import os\n",
    "import gzip\n",
    "import pandas as pd\n",
    "import numpy as np\n",
    "import anndata\n",
    "import scanpy as sc\n",
    "import matplotlib.pyplot as plt\n",
    "import tqdm\n",
    "import scipy\n",
    "%matplotlib inline\n",
    "work_dir = '../output'\n",
    "kaggle_data_dir = '../input/kaggle/input'\n",
    "os.makedirs(f'{work_dir}', exist_ok=True)\n",
    "os.makedirs(f'{work_dir}/missing_genes', exist_ok=True)\n"
   ]
  },
  {
   "cell_type": "markdown",
   "metadata": {},
   "source": [
    "# Data of the open problems competition"
   ]
  },
  {
   "cell_type": "code",
   "execution_count": 2,
   "metadata": {},
   "outputs": [],
   "source": [
    "multiome_var_meta = pd.read_csv(f'{kaggle_data_dir}/open-problems-single-cell-perturbations/multiome_var_meta.csv')\n",
    "# multiome_train = pd.read_parquet(f'{kaggle_data_dir}/open-problems-single-cell-perturbations/multiome_train.parquet')\n",
    "multiome_obs_meta = pd.read_csv(f'{kaggle_data_dir}/open-problems-single-cell-perturbations/multiome_obs_meta.csv')"
   ]
  },
  {
   "cell_type": "markdown",
   "metadata": {},
   "source": [
    "## Competition training data"
   ]
  },
  {
   "cell_type": "code",
   "execution_count": 149,
   "metadata": {},
   "outputs": [
    {
     "data": {
      "text/plain": [
       "(614, 18211)"
      ]
     },
     "execution_count": 149,
     "metadata": {},
     "output_type": "execute_result"
    }
   ],
   "source": [
    "# main dataset\n",
    "de_train = pd.read_parquet(f'{kaggle_data_dir}/open-problems-single-cell-perturbations/de_train.parquet')\n",
    "data_df = de_train.iloc[:,5:]\n",
    "data_df['cell_type'] = de_train['cell_type']\n",
    "data_df['sm_name'] = de_train['sm_name']\n",
    "data_df = data_df.set_index(['cell_type','sm_name'])\n",
    "data = data_df.values\n",
    "data_df.shape"
   ]
  },
  {
   "cell_type": "code",
   "execution_count": 8,
   "metadata": {},
   "outputs": [],
   "source": [
    "id_map = pd.read_csv(f'{kaggle_data_dir}/open-problems-single-cell-perturbations/id_map.csv', index_col=0)"
   ]
  },
  {
   "cell_type": "markdown",
   "metadata": {},
   "source": [
    "### Apply filtering"
   ]
  },
  {
   "cell_type": "code",
   "execution_count": 154,
   "metadata": {},
   "outputs": [],
   "source": [
    "# filter mask\n",
    "filter_mask_de = pd.read_csv(f'../input/filter_mask_de.csv', index_col=0)\n",
    "filter_mask_de['cell_type'] = de_train['cell_type']\n",
    "filter_mask_de['sm_name'] = de_train['sm_name']\n",
    "filter_mask_de = filter_mask_de.set_index(['cell_type','sm_name'])"
   ]
  },
  {
   "cell_type": "code",
   "execution_count": 155,
   "metadata": {},
   "outputs": [
    {
     "data": {
      "text/plain": [
       "(614, 18211)"
      ]
     },
     "execution_count": 155,
     "metadata": {},
     "output_type": "execute_result"
    }
   ],
   "source": [
    "data_df_filter = data_df[filter_mask_de]\n",
    "data_df_filter.shape"
   ]
  },
  {
   "cell_type": "markdown",
   "metadata": {},
   "source": [
    "### Second filtering"
   ]
  },
  {
   "cell_type": "code",
   "execution_count": 156,
   "metadata": {},
   "outputs": [],
   "source": [
    "# only those genes with more than= 10 samples\n",
    "gene_t_filter = filter_mask_de.sum()>=10\n",
    "# remove those samples with less than 2000 genes\n",
    "sample_t_filter = filter_mask_de.sum(axis=1)>=2000"
   ]
  },
  {
   "cell_type": "code",
   "execution_count": 157,
   "metadata": {},
   "outputs": [
    {
     "data": {
      "text/plain": [
       "(547, 18147)"
      ]
     },
     "execution_count": 157,
     "metadata": {},
     "output_type": "execute_result"
    }
   ],
   "source": [
    "data_df_filter = data_df_filter.loc[sample_t_filter, gene_t_filter]\n",
    "data_df_filter.shape"
   ]
  },
  {
   "cell_type": "code",
   "execution_count": 25,
   "metadata": {},
   "outputs": [
    {
     "data": {
      "text/plain": [
       "0.2732782822065865"
      ]
     },
     "execution_count": 25,
     "metadata": {},
     "output_type": "execute_result"
    }
   ],
   "source": [
    "## what portion of data is missing after filter +\n",
    "data_df_filter.isna().values.ravel().sum()/(data_df_filter.shape[0]*data_df_filter.shape[1])"
   ]
  },
  {
   "cell_type": "markdown",
   "metadata": {},
   "source": [
    "### Impute missings\n",
    "This will be only used for encoding outputs"
   ]
  },
  {
   "cell_type": "code",
   "execution_count": 158,
   "metadata": {},
   "outputs": [],
   "source": [
    "# mask that shows the real values\n",
    "real_values_mask = ~data_df_filter.isna()"
   ]
  },
  {
   "cell_type": "code",
   "execution_count": 2,
   "metadata": {},
   "outputs": [],
   "source": [
    "if False:\n",
    "    from sklearn.impute import KNNImputer\n",
    "    # Creating the imputer object. You can adjust 'n_neighbors' based on your dataset size and characteristics\n",
    "    imputer = KNNImputer(n_neighbors=10)\n",
    "    # Imputing the missing values\n",
    "    data_df_filter_imputed = pd.DataFrame(imputer.fit_transform(data_df_filter), columns=data_df_filter.columns, index=data_df_filter.index)\n",
    "    data_df_filter_imputed.to_csv('../input/data_df_filter_imputed.csv')\n",
    "else:\n",
    "    data_df_filter_imputed = pd.read_csv('../input/data_df_filter_imputed.csv')\n",
    "    data_df_filter_imputed.set_index(['cell_type', 'sm_name'], inplace=True)"
   ]
  },
  {
   "cell_type": "code",
   "execution_count": 4,
   "metadata": {},
   "outputs": [],
   "source": [
    "df_main = data_df_filter_imputed\n",
    "gene_names_de = df_main.columns"
   ]
  },
  {
   "cell_type": "markdown",
   "metadata": {},
   "source": [
    "### Missing genes comaring scRNA-seq to de_train\n",
    "Only 15580 genes out of 18211 genes shared between these two datasets, missing 2631 genes."
   ]
  },
  {
   "cell_type": "code",
   "execution_count": 33,
   "metadata": {},
   "outputs": [
    {
     "name": "stdout",
     "output_type": "stream",
     "text": [
      "Genes in scRNA 22787, in de_train: 18211, shared : 15580, missing: 2631\n"
     ]
    }
   ],
   "source": [
    "gene_names = multiome_var_meta[multiome_var_meta.feature_type=='Gene Expression'].location.unique()\n",
    "shared_genes = np.intersect1d(gene_names, gene_names_de)\n",
    "missing_genes = np.setdiff1d(gene_names_de, shared_genes)\n",
    "print(f'Genes in scRNA {len(gene_names)}, in de_train: {len(gene_names_de)}, shared : {len(shared_genes)}, missing: {len(missing_genes)}')"
   ]
  },
  {
   "cell_type": "markdown",
   "metadata": {},
   "source": [
    "## Biomart annotation of genes"
   ]
  },
  {
   "cell_type": "code",
   "execution_count": 11,
   "metadata": {},
   "outputs": [],
   "source": [
    "import pybiomart as pbm\n",
    "species = 'hsapiens'\n",
    "host = \"http://sep2019.archive.ensembl.org/\"   # best one\n",
    "dataset = pbm.Dataset(name=species+'_gene_ensembl',  host=host)\n",
    "annot = dataset.query(attributes=['chromosome_name', 'start_position', 'end_position', 'external_gene_name', 'transcript_biotype'])\n",
    "\n",
    "annot.columns = ['chr', 'start', 'end', 'gene', 'transcript_type']\n",
    "annot['width'] = annot.end-annot.start\n",
    "\n",
    "filter = annot['chr'].str.contains('CHR|GL|JH|MT|KI27')\n",
    "annot = annot[~filter].reset_index(drop=True)\n",
    "# change in names\n",
    "annot.chr = annot.chr.apply(lambda x:f'chr{x}')\n",
    "annot.drop_duplicates(inplace=True)"
   ]
  },
  {
   "cell_type": "code",
   "execution_count": 12,
   "metadata": {},
   "outputs": [
    {
     "name": "stdout",
     "output_type": "stream",
     "text": [
      "number of gene in de_train annotated  17626 / 18147  with missing 521\n"
     ]
    }
   ],
   "source": [
    "gene_names_annot =  annot[annot.gene.isin(gene_names_de)].reset_index(drop=True).gene.unique()\n",
    "missing_genes_annot = np.setdiff1d(gene_names_de, gene_names_annot)\n",
    "print('number of gene in de_train annotated ', len(gene_names_annot), \n",
    "      '/', len(gene_names_de), f' with missing {len(missing_genes_annot)}')"
   ]
  },
  {
   "cell_type": "markdown",
   "metadata": {},
   "source": [
    "### Transcript type of genes\n",
    "Around half of the given genes are protein encoders. This shows that non-protein coding genes might play a significant role in the gene regulation."
   ]
  },
  {
   "cell_type": "code",
   "execution_count": 13,
   "metadata": {},
   "outputs": [
    {
     "data": {
      "text/plain": [
       "transcript_type\n",
       "protein_coding             12833\n",
       "lncRNA                     11062\n",
       "retained_intron             7613\n",
       "nonsense_mediated_decay     5601\n",
       "processed_pseudogene         799\n",
       "Name: count, dtype: int64"
      ]
     },
     "execution_count": 13,
     "metadata": {},
     "output_type": "execute_result"
    }
   ],
   "source": [
    "annot[annot.gene.isin(gene_names_de)].reset_index(drop=True).transcript_type.value_counts().head()"
   ]
  },
  {
   "cell_type": "markdown",
   "metadata": {},
   "source": [
    "## Significance test using ks_1samp"
   ]
  },
  {
   "cell_type": "code",
   "execution_count": 73,
   "metadata": {},
   "outputs": [],
   "source": [
    "def calculate_p_values(genes, df):\n",
    "    '''\n",
    "    We conduct a 1-sample Kolmogorov-Smirnov (KS) test to detemine p-values for each given gene versus a uniform set.\n",
    "    Taken from Antoine Passiemier.\n",
    "    '''\n",
    "    p_values = []\n",
    "    for k, gene in tqdm.tqdm(enumerate(genes)):  # Perform test for each gene\n",
    "        v = df.iloc[:, k].values\n",
    "        v_valid = v[~np.isnan(v)]\n",
    "        if len(v_valid)<10:\n",
    "            raise ValueError('shouldnt be')\n",
    "            p_value = np.nan\n",
    "        else:\n",
    "            v_valid = 10 ** (-np.abs(v_valid))  # Transform DE values to p-values (assumed to be uniformly-distributed)\n",
    "            res = scipy.stats.mstats.ks_1samp(v_valid, scipy.stats.uniform.cdf)  # Kolmogorov-Smirnov test\n",
    "            p_value = res[1]\n",
    "        p_values.append(p_value)\n",
    "    p_values = np.asarray(p_values)\n",
    "    return p_values\n",
    "\n",
    "# de_p_values = calculate_p_values(gene_names_de, data_df_filter)\n",
    "# de_p_values_imput = calculate_p_values(gene_names_de, data_df_filter_imputed)"
   ]
  },
  {
   "cell_type": "code",
   "execution_count": 17,
   "metadata": {},
   "outputs": [
    {
     "name": "stdout",
     "output_type": "stream",
     "text": [
      "number of genes with insufficient samples for p values test:  0\n",
      "portion of sig genes to all genes:  0.19253871163277678\n"
     ]
    }
   ],
   "source": [
    "print('number of genes with insufficient samples for p values test: ', np.isnan(de_p_values).sum())\n",
    "de_p_values_valid = de_p_values[~np.isnan(de_p_values)]\n",
    "print('portion of sig genes to all genes: ', (de_p_values_valid<0.001).sum()/len(de_p_values_valid))"
   ]
  },
  {
   "cell_type": "code",
   "execution_count": 37,
   "metadata": {},
   "outputs": [
    {
     "name": "stdout",
     "output_type": "stream",
     "text": [
      "number of genes with insufficient samples for p values test (imput data):  0\n",
      "portion of sig genes to all genes (imput data):  0.35735934314211715\n"
     ]
    }
   ],
   "source": [
    "print('number of genes with insufficient samples for p values test (imput data): ', np.isnan(de_p_values_imput).sum())\n",
    "de_p_values_valid_imput = de_p_values_imput[~np.isnan(de_p_values_imput)]\n",
    "print('portion of sig genes to all genes (imput data): ', (de_p_values_valid_imput<0.001).sum()/len(de_p_values_valid_imput))"
   ]
  },
  {
   "cell_type": "markdown",
   "metadata": {},
   "source": [
    "## Housekeeping genes versus all genes\n"
   ]
  },
  {
   "cell_type": "code",
   "execution_count": 18,
   "metadata": {},
   "outputs": [],
   "source": [
    "\n",
    "def plot_sig_vs_all_genes(target_p_values, name='Missing genes'):\n",
    "    '''\n",
    "    Plot the distribution of log p-values obtained from ks_1samp test for a set of given genes versus de_train genes.\n",
    "    '''\n",
    "    significance_threshold = 0.001/len(gene_names_de)  # Arbitrary cutoff\n",
    "    plt.figure(figsize=(5, 5))\n",
    "    ax = plt.subplot(1, 1, 1)\n",
    "    plt.hist(np.log10(de_p_values), bins=1000, density=True, alpha=0.55, label='All genes', color='navy')\n",
    "    plt.hist(np.log10(target_p_values), bins=1000, density=True, alpha=0.55, label=name, color='goldenrod')\n",
    "    plt.axvline(x=np.log10(significance_threshold), linestyle='--', color='black', label='0.001 threshold (adjusted)')\n",
    "    plt.xlabel('P-value (log10) from Kolmogorov-Smirnov test')\n",
    "    plt.ylabel('Number of genes')\n",
    "    ax.spines[['right', 'top']].set_visible(False)\n",
    "    plt.grid(alpha=0.4, linestyle='--', linewidth=0.5, color='grey')\n",
    "    plt.legend(bbox_to_anchor=(1.02, 1), loc='upper left', borderaxespad=0, frameon=False)\n",
    "    plt.xlim([-50, 0])\n",
    "    plt.show()  \n"
   ]
  },
  {
   "cell_type": "code",
   "execution_count": 19,
   "metadata": {},
   "outputs": [
    {
     "name": "stdout",
     "output_type": "stream",
     "text": [
      "Number of housekeeping genes: 3804\n"
     ]
    }
   ],
   "source": [
    "df = pd.read_csv('https://www.tau.ac.il/~elieis/HKG/HK_genes.txt', sep=' ', header=None)\n",
    "housekeeping_genes = df.loc[:, 0]  # Gene names\n",
    "housekeeping_genes_filter = np.isin(gene_names_de, housekeeping_genes)\n",
    "print(f'Number of housekeeping genes: {len(housekeeping_genes)}')"
   ]
  },
  {
   "cell_type": "code",
   "execution_count": 20,
   "metadata": {},
   "outputs": [],
   "source": [
    "def evaluate_missingness(genes):\n",
    "    # genes \n",
    "    print('number of given genes: ', len(genes))\n",
    "    genes_filter = np.isin(gene_names_de, genes)\n",
    "    de_p_values_genes = de_p_values[genes_filter]\n",
    "    de_p_values_genes_valid = de_p_values_genes[~np.isnan(de_p_values_genes)]\n",
    "    print('sig genes/all sig genes: ', (de_p_values_genes_valid<0.001).sum()/(de_p_values_valid<0.001).sum())\n",
    "\n",
    "    # missing genes\n",
    "    print('\\n')\n",
    "    missing_genes = gene_names_de[~genes_filter]\n",
    "    print('number of missing genes: ', len(missing_genes))\n",
    "    de_p_values_missing = de_p_values[~genes_filter]\n",
    "    de_p_values_missing_valid = de_p_values_missing[~np.isnan(de_p_values_missing)]\n",
    "    print('missing sig genes/all sig genes: ', (de_p_values_missing_valid<0.001).sum()/(de_p_values_valid<0.001).sum())\n",
    "\n",
    "    \n",
    "    print('missing sig genes/missing genes: ',(de_p_values_missing_valid<0.001).sum()/len(de_p_values_missing_valid))"
   ]
  },
  {
   "cell_type": "code",
   "execution_count": 21,
   "metadata": {},
   "outputs": [
    {
     "name": "stdout",
     "output_type": "stream",
     "text": [
      "number of given genes:  3804\n",
      "sig genes/all sig genes:  0.11705781339439038\n",
      "\n",
      "\n",
      "number of missing genes:  14629\n",
      "missing sig genes/all sig genes:  0.8829421866056096\n",
      "missing sig genes/missing genes:  0.21088249367694306\n"
     ]
    }
   ],
   "source": [
    "evaluate_missingness(housekeeping_genes)\n",
    "# plot_sig_vs_all_genes(de_p_values_hg_valid, name='House keeping genes')"
   ]
  },
  {
   "cell_type": "markdown",
   "metadata": {},
   "source": [
    "# Predictive model "
   ]
  },
  {
   "cell_type": "code",
   "execution_count": 215,
   "metadata": {},
   "outputs": [],
   "source": [
    "import category_encoders as ce\n",
    "from sklearn.ensemble import RandomForestRegressor\n",
    "import decoupler as dc\n",
    "from sklearn.linear_model import Ridge, ElasticNet\n",
    "from sklearn.model_selection import StratifiedKFold, GridSearchCV, RandomizedSearchCV\n",
    "from sklearn.decomposition import TruncatedSVD, PCA\n",
    "from sklearn.preprocessing import StandardScaler, OneHotEncoder, LabelEncoder\n",
    "from sklearn.multioutput import MultiOutputRegressor\n",
    "from sklearn.model_selection import train_test_split, LeaveOneGroupOut, KFold\n",
    "\n",
    "random_state = 32\n",
    "\n",
    "class model_encoder:\n",
    "    def __init__(self, df_main, n_components=35, shares={\n",
    "                                        'sm_name':{'de_x':35},\n",
    "                                        'cell_type': {'de_x':6}\n",
    "                                        },\n",
    "                                        te_params = dict(min_samples_leaf=20, smoothing=100),\n",
    "                                        grn_model=None, \n",
    "                                        specific=False #specific GRN for each celltype\n",
    "                                        ):  \n",
    "        self.specific = specific\n",
    "        # target df to encode\n",
    "        self.df_main = df_main\n",
    "        self.grn_model = grn_model\n",
    "        # regressor\n",
    "        self.emb_model = RandomForestRegressor(n_estimators=100, random_state=random_state)\n",
    "        # reducer\n",
    "        self.reducer = TruncatedSVD(n_components=n_components, n_iter=12, random_state=random_state)\n",
    "        self.Y = self.reducer.fit_transform(df_main)\n",
    "        # encoder \n",
    "        self.enc = ce.TargetEncoder(**te_params) #[0, 0.05, 0.5, 0.1,0.9,10]\n",
    "        # encode data\n",
    "        var_x_name = list(shares['sm_name'].keys())[0]\n",
    "        n_components = shares['sm_name'][var_x_name]\n",
    "        y_sm_name = self.create_feature_space(self.df_main, var_x=var_x_name, n=n_components)\n",
    "        \n",
    "        # cell type\n",
    "        var_x_name = list(shares['cell_type'].keys())[0]\n",
    "        n_components = shares['cell_type'][var_x_name]\n",
    "        y_cell_type = self.create_feature_space(self.df_main, var_x=var_x_name, n=n_components)\n",
    "        # the order is important\n",
    "        self.emb_data = {'sm_name':y_sm_name, 'cell_type': y_cell_type}\n",
    "        self.determine_X()\n",
    "        print(self.X.shape, self.X_submit.shape)\n",
    "\n",
    "    def determine_X(self):\n",
    "        for i, (name, y) in enumerate(self.emb_data.items()):\n",
    "            for i_target in tqdm.tqdm(range(y.shape[1])):\n",
    "                if i_target == 0:\n",
    "                    X_encoded = self.enc.fit_transform(self.df_main.reset_index()[name], y[:,i_target])\n",
    "                    X_submit_encoded = self.enc.transform(id_map.reset_index()[name])\n",
    "                else:\n",
    "                    X_encoded_tmp = self.enc.fit_transform(self.df_main.reset_index()[name], y[:,i_target])\n",
    "                    X_encoded = np.concatenate( [X_encoded, X_encoded_tmp], axis = 1)\n",
    "                    X_encoded_tmp = self.enc.transform(id_map.reset_index()[name])\n",
    "                    X_submit_encoded = np.concatenate([X_submit_encoded, X_encoded_tmp], axis = 1)\n",
    "            if i == 0:\n",
    "                X = X_encoded\n",
    "                X_submit = X_submit_encoded\n",
    "            else:\n",
    "                X = np.concatenate([X, X_encoded], axis = 1)\n",
    "                X_submit = np.concatenate([X_submit, X_submit_encoded], axis = 1)\n",
    "\n",
    "        self.X = X\n",
    "        self.X_submit = X_submit\n",
    "    def create_feature_space(self, df_to_encode, var_x='sm_name', n=35):\n",
    "        \n",
    "        if var_x == 'de_x':\n",
    "            return TruncatedSVD(n_components=n, n_iter=12, random_state=random_state).fit_transform(df_to_encode.values)\n",
    "\n",
    "        elif var_x == 'tf_x':\n",
    "            df_main_c = df_to_encode.copy()\n",
    "            df_main_c.index = df_main_c.index.map(lambda x: '@'.join(map(str, x))) # this is needed for enrichment analyisis\n",
    "            net = self.grn_model\n",
    "            if self.specific:\n",
    "                pass\n",
    "                \n",
    "            else:\n",
    "                tf_act, p_values = dc.run_ulm(\n",
    "                    df_main_c,\n",
    "                    net,\n",
    "                    source='source',\n",
    "                    target='target',\n",
    "                    weight='weight',\n",
    "                    verbose=True\n",
    "                    )\n",
    "\n",
    "            tf_x = TruncatedSVD(n_components=n, n_iter=12, random_state=random_state).fit_transform(tf_act)\n",
    "            return tf_x\n",
    "        raise ValueError('define feature space')\n",
    "    def validate(self, mask_tr, mask_va):\n",
    "        # print(mask_tr)\n",
    "        X_tr, Y_tr = self.X[mask_tr,:], self.Y[mask_tr,:]\n",
    "        X_va = self.X[mask_va,:]\n",
    "        self.emb_model.fit(X_tr, Y_tr)\n",
    "        return self.reducer.inverse_transform(self.emb_model.predict(X_va))"
   ]
  },
  {
   "cell_type": "code",
   "execution_count": 131,
   "metadata": {},
   "outputs": [
    {
     "name": "stdout",
     "output_type": "stream",
     "text": [
      "(18682, 3)\n",
      "Running ulm on mat with 547 samples and 18147 targets for 727 sources.\n"
     ]
    }
   ],
   "source": [
    "from decoupler.pre import extract, match, rename_net, get_net_mat, filt_min_n\n",
    "from decoupler.method_ulm import t_val\n",
    "from scipy.stats import t\n",
    "\n",
    "def get_net_mat_multiple(nets):\n",
    "    \"\"\"\n",
    "    Transforms a given network to a regulatory adjacency matrix (targets x sources).\n",
    "\n",
    "    Parameters\n",
    "    ----------\n",
    "    nets : dict[int, DataFrame]\n",
    "        Network in long format.\n",
    "\n",
    "    Returns\n",
    "    -------\n",
    "    sources : ndarray\n",
    "        Array of source names.\n",
    "    targets : ndarray\n",
    "        Array of target names.\n",
    "    X : ndarray\n",
    "        Array of interactions bewteen sources and targets (target x source).\n",
    "    \"\"\"\n",
    "    X_\n",
    "    # Pivot df to a wider format\n",
    "    for i, net in nets.items():\n",
    "        X = net.pivot(columns='source', index='target', values='weight')\n",
    "        X[np.isnan(X)] = 0\n",
    "\n",
    "    # Store node names and weights\n",
    "    sources = X.columns.values\n",
    "    targets = X.index.values\n",
    "    X = X.values\n",
    "    return sources.astype('U'), targets.astype('U'), X.astype(np.float32)\n",
    "\n",
    "def run_ulm(mat, net, source='source', target='target', weight='weight', batch_size=10000,\n",
    "            min_n=5, verbose=False, use_raw=True\n",
    "            , multiple_grn:dict[int,pd.DataFrame]=False, indices:list[int]=None\n",
    "            ):\n",
    "    # Extract sparse matrix and array of genes\n",
    "    readouts, sample_names, feature_names = extract(mat, use_raw=use_raw, verbose=verbose)\n",
    "    # Transform net\n",
    "    net = rename_net(net, source=source, target=target, weight=weight)\n",
    "    net = filt_min_n(feature_names, net, min_n=min_n)\n",
    "    print(net.shape)\n",
    "    if multiple_grn:\n",
    "        pass\n",
    "    else:\n",
    "        sources, targets, net = get_net_mat(net)\n",
    "        net = match(feature_names, targets, net)\n",
    "        if verbose:\n",
    "            print('Running ulm on mat with {0} samples and {1} targets for {2} sources.'.format(readouts.shape[0], len(feature_names), net.shape[1]))\n",
    "    # Run ULM\n",
    "    estimate, pvals = ulm(readouts, net, batch_size=batch_size, verbose=verbose)\n",
    "    # Transform to df\n",
    "    estimate = pd.DataFrame(estimate, index=sample_names, columns=sources)\n",
    "    estimate.name = 'ulm_estimate'\n",
    "    pvals = pd.DataFrame(pvals, index=sample_names, columns=sources)\n",
    "    pvals.name = 'ulm_pvals'\n",
    "    return estimate, pvals\n",
    "def mat_cov(net, b):\n",
    "    multi = np.dot(b.T - b.mean(), net - net.mean(axis=0))\n",
    "    return  multi/ (b.shape[0]-1)\n",
    "\n",
    "def mat_cor(net, b):\n",
    "    cov = mat_cov(net, b)\n",
    "    ssd = np.std(net, axis=0, ddof=1) * np.std(b, axis=0, ddof=1).reshape(-1, 1)\n",
    "    return cov / ssd\n",
    "\n",
    "def ulm(mat, net, batch_size=10000, verbose=False):\n",
    "    \n",
    "    # Get dims\n",
    "    n_features, n_fsets = net.shape # genes*TFs\n",
    "    df = n_features - 2 \n",
    "    r = mat_cor(net, mat.T)\n",
    "    # Compute t-value\n",
    "    es = t_val(r, df)\n",
    "    # Compute p-value\n",
    "    pv = t.sf(abs(es), df) * 2\n",
    "    return es, pv\n",
    "\n",
    "df_main_c = df_main.copy()\n",
    "df_main_c.index = df_main_c.index.map(lambda x: '@'.join(map(str, x))) # this is needed for enrichment analyisis\n",
    "tf_act, p_values = run_ulm(\n",
    "    df_main_c,\n",
    "    figr_grn,\n",
    "    source='source',\n",
    "    target='target',\n",
    "    weight='weight',\n",
    "    verbose=True\n",
    "    )"
   ]
  },
  {
   "cell_type": "markdown",
   "metadata": {},
   "source": [
    "# Cross-validation"
   ]
  },
  {
   "cell_type": "code",
   "execution_count": 174,
   "metadata": {},
   "outputs": [
    {
     "name": "stdout",
     "output_type": "stream",
     "text": [
      "portion of sig pvalues in df_main:  [0.05971142]\n"
     ]
    }
   ],
   "source": [
    "import pandas as pd\n",
    "import numpy as np\n",
    "from sklearn.model_selection import LeaveOneOut\n",
    "from sklearn.metrics import r2_score\n",
    "from sklearn.metrics import mean_absolute_error\n",
    "\n",
    "sig_mask = 10 ** (-np.abs(df_main.values)) < 0.05\n",
    "df_main_sig = df_main[real_values_mask*sig_mask]\n",
    "values = df_main_sig.values.ravel()\n",
    "\n",
    "print('portion of sig pvalues in df_main: ', values[~np.isnan(values)].shape/df_main_sig.size)"
   ]
  },
  {
   "cell_type": "markdown",
   "metadata": {},
   "source": [
    "## CV scheme"
   ]
  },
  {
   "cell_type": "code",
   "execution_count": 287,
   "metadata": {},
   "outputs": [],
   "source": [
    "sm_names = df_main.index.get_level_values('sm_name')\n",
    "# define groups \n",
    "unique_sm_names = sm_names.unique()\n",
    "if False:\n",
    "    np.random.seed(32)\n",
    "    group_assignments = np.random.randint(1, 6, size=len(unique_sm_names))\n",
    "    group_dict = dict(zip(unique_sm_names, group_assignments))\n",
    "else: # one group for each sm_name\n",
    "    group_assignments = range(len(unique_sm_names))\n",
    "    group_dict = dict(zip(unique_sm_names, group_assignments))\n",
    "groups = sm_names.map(group_dict)\n",
    "# cv scheme\n",
    "def compute_cv(model, df_main, genes_mask=None):\n",
    "    unique_groups = sorted(np.unique(groups))\n",
    "    mrrmse_list = []\n",
    "    for group in tqdm.tqdm(unique_groups):\n",
    "        mask_va = groups==group\n",
    "        mask_tr = groups!=group\n",
    "        y_true = df_main[mask_va]\n",
    "        y_pred = pd.DataFrame(model.validate(mask_tr, mask_va), index=y_true.index, columns=y_true.columns)\n",
    "        # filter for the case that there are mask on gene\n",
    "        # evaluate only those that are sig and also non imputed\n",
    "        if True: \n",
    "            real_values = real_values_mask[mask_va] \n",
    "            sig_values = sig_mask[mask_va]\n",
    "            group_mask = real_values*sig_values # take into account both filters\n",
    "            \n",
    "            if genes_mask is not None:\n",
    "                group_mask_shortlisted = group_mask.loc[:, genes_mask]\n",
    "                # print(group_mask.shape, genes_mask.shape, group_mask_shortlisted.shape)\n",
    "                y_pred = y_pred[group_mask_shortlisted]\n",
    "                y_true = y_true[group_mask_shortlisted]\n",
    "            else:\n",
    "                y_true = y_true[group_mask]\n",
    "                y_pred = y_pred[group_mask]\n",
    "            y_true = y_true.values.ravel()\n",
    "            y_pred = y_pred.values.ravel()\n",
    "\n",
    "            y_true = y_true[~np.isnan(y_true)]\n",
    "            y_pred = y_pred[~np.isnan(y_pred)]\n",
    "\n",
    "            if len(y_true)<100:\n",
    "                raise ValueError('problem here')\n",
    "\n",
    "        mrrmse = mean_absolute_error(y_pred, y_true)\n",
    "        # mrrmse = np.sqrt(np.square(y_true - y_pred).mean()).mean();  \n",
    "\n",
    "        mrrmse_list.append(mrrmse)\n",
    "    return np.mean(mrrmse_list)\n",
    "# compute_cv(model_figr, df_main_short, genes_mask)"
   ]
  },
  {
   "cell_type": "markdown",
   "metadata": {},
   "source": [
    "## GRNs "
   ]
  },
  {
   "cell_type": "code",
   "execution_count": null,
   "metadata": {},
   "outputs": [],
   "source": [
    "collectRI = pd.read_csv('../../op_singlecell/input/collectri.csv')\n",
    "# only retaining signs in FigR\n",
    "figr_grn_art = figr_grn.copy()\n",
    "weights = figr_grn_art.weight\n",
    "weights = [1 if weight>1 else -1 for weight in weights]\n",
    "figr_grn_art.weight = weights"
   ]
  },
  {
   "cell_type": "markdown",
   "metadata": {},
   "source": [
    "## All genes"
   ]
  },
  {
   "cell_type": "code",
   "execution_count": null,
   "metadata": {},
   "outputs": [],
   "source": [
    "model_figr = model_encoder(df_main, grn_model=figr_grn_art, shares={\n",
    "                                        'sm_name':{'tf_x':35},\n",
    "                                        'cell_type': {'tf_x':6}\n",
    "                                        })\n",
    "compute_cv(model_figr)"
   ]
  },
  {
   "cell_type": "code",
   "execution_count": null,
   "metadata": {},
   "outputs": [],
   "source": [
    "baseline: 1.639\n",
    "scenic: 1.73\n",
    "collectRI: 1.75\n",
    "figR: 1.6555156258877635, FigR_binarized = 1.641463193349164\n",
    "CO_dump: 1.7248554603875579\n"
   ]
  },
  {
   "cell_type": "markdown",
   "metadata": {},
   "source": [
    "## Genes subest"
   ]
  },
  {
   "cell_type": "code",
   "execution_count": 290,
   "metadata": {},
   "outputs": [
    {
     "name": "stdout",
     "output_type": "stream",
     "text": [
      "Running ulm on mat with 547 samples and 7279 targets for 33 sources.\n",
      "Running ulm on mat with 547 samples and 7279 targets for 33 sources.\n"
     ]
    },
    {
     "name": "stderr",
     "output_type": "stream",
     "text": [
      "100%|██████████| 33/33 [00:00<00:00, 76.31it/s]\n",
      "100%|██████████| 6/6 [00:00<00:00, 80.89it/s]\n"
     ]
    },
    {
     "name": "stdout",
     "output_type": "stream",
     "text": [
      "(547, 39) (255, 39)\n"
     ]
    },
    {
     "name": "stderr",
     "output_type": "stream",
     "text": [
      "100%|██████████| 35/35 [00:00<00:00, 73.75it/s]\n",
      "100%|██████████| 6/6 [00:00<00:00, 89.99it/s]\n"
     ]
    },
    {
     "name": "stdout",
     "output_type": "stream",
     "text": [
      "(547, 41) (255, 41)\n"
     ]
    },
    {
     "name": "stderr",
     "output_type": "stream",
     "text": [
      "100%|██████████| 130/130 [03:24<00:00,  1.58s/it]\n"
     ]
    },
    {
     "name": "stdout",
     "output_type": "stream",
     "text": [
      "GRN:  1.8905451278438477\n"
     ]
    },
    {
     "name": "stderr",
     "output_type": "stream",
     "text": [
      "100%|██████████| 130/130 [03:21<00:00,  1.55s/it]"
     ]
    },
    {
     "name": "stdout",
     "output_type": "stream",
     "text": [
      "baseline:  1.7029762011983405\n"
     ]
    },
    {
     "name": "stderr",
     "output_type": "stream",
     "text": [
      "\n"
     ]
    }
   ],
   "source": [
    "grn_model = scenicplus_grn_direct\n",
    "\n",
    "genes_mask = df_main.columns.isin(grn_model.target) # mask on genes\n",
    "df_main_short = df_main.loc[:, genes_mask] # subset training data for given genes\n",
    "\n",
    "# construct the model\n",
    "model_grn = model_encoder(df_main_short, grn_model=grn_model, shares={'sm_name':{'tf_x':33},\n",
    "                                                                    'cell_type': {'tf_x':6}\n",
    "                                                                    }) \n",
    "model_baseline = model_encoder(df_main_short, shares={'sm_name':{'de_x':35},\n",
    "                                                        'cell_type': {'de_x':6}\n",
    "                                                        }) \n",
    "# run cv\n",
    "print('GRN: ', compute_cv(model_grn, df_main_short, genes_mask))\n",
    "print('baseline: ', compute_cv(model_baseline, df_main_short, genes_mask))"
   ]
  },
  {
   "cell_type": "code",
   "execution_count": null,
   "metadata": {},
   "outputs": [],
   "source": [
    "scenic: 1.8905451278438477, baseline=1.7029762011983405 \n",
    "collectRI: -\n",
    "figR: -, \n",
    "FigR_binarized = 1.6689704695433527, baseline: 1.6622253572450494\n",
    "CO_dump: -"
   ]
  },
  {
   "cell_type": "markdown",
   "metadata": {},
   "source": [
    "# Process results of GRN inference\n",
    "- Stats of regulatory elements "
   ]
  },
  {
   "cell_type": "code",
   "execution_count": null,
   "metadata": {},
   "outputs": [],
   "source": [
    "postprocess_dir = '../output/postprocess'\n",
    "os.makedirs(postprocess_dir, exist_ok=True)"
   ]
  },
  {
   "cell_type": "markdown",
   "metadata": {},
   "source": [
    "## FigR"
   ]
  },
  {
   "cell_type": "markdown",
   "metadata": {},
   "source": [
    "### GRN"
   ]
  },
  {
   "cell_type": "code",
   "execution_count": 32,
   "metadata": {},
   "outputs": [],
   "source": [
    "figr_grn = pd.read_csv('../output/FigR/figR.d_all.csv', index_col=0)\n",
    "# filter based on enrichment \n",
    "figr_grn = figr_grn[figr_grn['Enrichment.P']<0.05]\n",
    "# filter bsaed on correlatoon\n",
    "figr_grn = figr_grn[figr_grn['Corr.P']<0.05]\n",
    "# filter thoes that are 0 score \n",
    "figr_grn = figr_grn[figr_grn.Score!=0]\n",
    "# subset columns\n",
    "figr_grn = figr_grn[['Motif', 'DORC', 'Score']]\n",
    "figr_grn = figr_grn.reset_index(drop=True)\n",
    "figr_grn.columns = ['source', 'target','weight']"
   ]
  },
  {
   "cell_type": "code",
   "execution_count": 33,
   "metadata": {},
   "outputs": [
    {
     "name": "stdout",
     "output_type": "stream",
     "text": [
      "number of TFs  818  gene  7134\n"
     ]
    }
   ],
   "source": [
    "print('number of TFs ', figr_grn.source.unique().shape[0], ' gene ', figr_grn.target.unique().shape[0])"
   ]
  },
  {
   "cell_type": "code",
   "execution_count": 30,
   "metadata": {},
   "outputs": [
    {
     "ename": "NameError",
     "evalue": "name 'evaluate_missingness' is not defined",
     "output_type": "error",
     "traceback": [
      "\u001b[0;31m---------------------------------------------------------------------------\u001b[0m",
      "\u001b[0;31mNameError\u001b[0m                                 Traceback (most recent call last)",
      "Cell \u001b[0;32mIn[30], line 1\u001b[0m\n\u001b[0;32m----> 1\u001b[0m \u001b[43mevaluate_missingness\u001b[49m(figr_grn\u001b[38;5;241m.\u001b[39mtarget\u001b[38;5;241m.\u001b[39munique())\n",
      "\u001b[0;31mNameError\u001b[0m: name 'evaluate_missingness' is not defined"
     ]
    }
   ],
   "source": [
    "evaluate_missingness(figr_grn.target.unique())"
   ]
  },
  {
   "cell_type": "markdown",
   "metadata": {},
   "source": [
    "### GRN for DORCs (10 peaks)"
   ]
  },
  {
   "cell_type": "code",
   "execution_count": 58,
   "metadata": {},
   "outputs": [
    {
     "name": "stdout",
     "output_type": "stream",
     "text": [
      "number of TFs  39  gene  71\n"
     ]
    }
   ],
   "source": [
    "figr_net = pd.read_csv('../output/FigR/figR.d.csv', index_col=0)\n",
    "# filter based on enrichment \n",
    "figr_net_f = figr_net[figr_net['Enrichment.P']<0.05]\n",
    "# filter bsaed on correlatoon\n",
    "figr_net_f_f = figr_net_f[figr_net_f['Corr.P']<0.05]\n",
    "figr_net_f_f = figr_net_f_f[figr_net_f_f.Score==0]\n",
    "print('number of TFs ', figr_net_f_f.Motif.unique().shape[0], ' gene ', figr_net_f_f.DORC.unique().shape[0])"
   ]
  },
  {
   "cell_type": "markdown",
   "metadata": {},
   "source": [
    "### Peak-gene connections "
   ]
  },
  {
   "cell_type": "code",
   "execution_count": null,
   "metadata": {},
   "outputs": [
    {
     "data": {
      "text/plain": [
       "(24, 1.0)"
      ]
     },
     "execution_count": 19,
     "metadata": {},
     "output_type": "execute_result"
    }
   ],
   "source": [
    "# load peak-gene association after filtering for significant\n",
    "peak_gene_figr = pd.read_csv('../output/FigR/cisCorr.filt.csv', index_col=0)\n",
    "peak_gene_figr_n = peak_gene_figr.groupby('Gene').apply(lambda df:df['PeakRanges'].shape[0])\n",
    "np.max(peak_gene_figr_n.values), np.median(peak_gene_figr_n.values)"
   ]
  },
  {
   "cell_type": "code",
   "execution_count": null,
   "metadata": {},
   "outputs": [
    {
     "name": "stdout",
     "output_type": "stream",
     "text": [
      "In the peak-gene associations: number of  CIS  17179  gene  8244\n"
     ]
    }
   ],
   "source": [
    "print('In the peak-gene associations: number of  CIS ', peak_gene_figr.PeakRanges.unique().shape[0], ', gene ', peak_gene_figr.Gene.unique().shape[0])"
   ]
  },
  {
   "cell_type": "code",
   "execution_count": null,
   "metadata": {},
   "outputs": [
    {
     "name": "stdout",
     "output_type": "stream",
     "text": [
      "number of DORC genes  661\n"
     ]
    }
   ],
   "source": [
    "print('number of DORC genes ', (peak_gene_figr_n.values >= 5).sum())"
   ]
  },
  {
   "cell_type": "markdown",
   "metadata": {},
   "source": [
    "### Predictive performance "
   ]
  },
  {
   "cell_type": "code",
   "execution_count": null,
   "metadata": {},
   "outputs": [],
   "source": [
    "model_figr = model_encoder(df_main, grn_model=figr_grn, shares={\n",
    "                                        'sm_name':{'tf_x':35},\n",
    "                                        'cell_type': {'tf_x':6}\n",
    "                                        })\n",
    "compute_cv(model_figr)"
   ]
  },
  {
   "cell_type": "markdown",
   "metadata": {},
   "source": [
    "## CellOracle"
   ]
  },
  {
   "cell_type": "markdown",
   "metadata": {},
   "source": [
    "### Peak-gene "
   ]
  },
  {
   "cell_type": "code",
   "execution_count": null,
   "metadata": {},
   "outputs": [],
   "source": [
    "peak_gene_co = pd.read_csv('../output/scenicplus/peak_gene.csv', index_col=0)\n",
    "peak_gene_co_n = peak_gene_co.groupby('gene_short_name').apply(lambda df:df['peak_id'].shape[0])\n",
    "np.max(peak_gene_co_n.values), np.median(peak_gene_co_n.values)"
   ]
  },
  {
   "cell_type": "code",
   "execution_count": null,
   "metadata": {},
   "outputs": [],
   "source": [
    "print('number of DORC genes ', (peak_gene_co_n.values > 10).sum())"
   ]
  },
  {
   "cell_type": "code",
   "execution_count": null,
   "metadata": {},
   "outputs": [
    {
     "name": "stdout",
     "output_type": "stream",
     "text": [
      "number of DORC genes with t of 10  0\n",
      "number of DORC genes with t of 5  4\n"
     ]
    }
   ],
   "source": [
    "# print('number of TFs ', scenicplus.TF.unique().shape[0], ' CIS ', scenicplus.Region.unique().shape[0], ' gene ', scenicplus.Gene.unique().shape[0])\n",
    "print('number of DORC genes with t of 10 ', (peak_gene_co_n.values > 10).sum())\n",
    "print('number of DORC genes with t of 5 ', (peak_gene_co_n.values > 5).sum())"
   ]
  },
  {
   "cell_type": "markdown",
   "metadata": {},
   "source": [
    "### Inferred GRN"
   ]
  },
  {
   "cell_type": "code",
   "execution_count": 85,
   "metadata": {},
   "outputs": [],
   "source": [
    "co_grn = pd.read_csv('../output/celloracle/merged_grn.csv', index_col=0)"
   ]
  },
  {
   "cell_type": "code",
   "execution_count": 231,
   "metadata": {},
   "outputs": [],
   "source": [
    "co_grn_short = co_grn[['source','target', 'weight_B cells']]\n",
    "co_grn_short.columns = ['source','target', 'weight']"
   ]
  },
  {
   "cell_type": "code",
   "execution_count": 80,
   "metadata": {},
   "outputs": [
    {
     "name": "stdout",
     "output_type": "stream",
     "text": [
      "TFs : (560,) ,  genes : (13271,)\n"
     ]
    }
   ],
   "source": [
    "print(f'TFs : {co_grn.source.unique().shape} ,  genes : {co_grn.target.unique().shape}')"
   ]
  },
  {
   "cell_type": "code",
   "execution_count": 113,
   "metadata": {},
   "outputs": [
    {
     "name": "stdout",
     "output_type": "stream",
     "text": [
      "number of given genes:  13806\n",
      "sig genes/all sig genes:  0.6250715512306811\n",
      "\n",
      "\n",
      "number of missing genes:  6031\n",
      "missing sig genes/all sig genes:  0.37492844876931886\n",
      "missing sig genes/missing genes:  0.21884396926161043\n"
     ]
    }
   ],
   "source": [
    "evaluate_missingness(co_grn.target.unique())"
   ]
  },
  {
   "cell_type": "markdown",
   "metadata": {},
   "source": [
    "### Predictive performance"
   ]
  },
  {
   "cell_type": "code",
   "execution_count": 81,
   "metadata": {},
   "outputs": [
    {
     "name": "stdout",
     "output_type": "stream",
     "text": [
      "ulm is used\n"
     ]
    },
    {
     "ename": "AssertionError",
     "evalue": "Column name \"weight\" not found in net. Please specify a valid column.Alternatively, set to None if no weights are available.",
     "output_type": "error",
     "traceback": [
      "\u001b[0;31m---------------------------------------------------------------------------\u001b[0m",
      "\u001b[0;31mAssertionError\u001b[0m                            Traceback (most recent call last)",
      "Cell \u001b[0;32mIn[81], line 1\u001b[0m\n\u001b[0;32m----> 1\u001b[0m model_co \u001b[38;5;241m=\u001b[39m \u001b[43mmodel_encoder\u001b[49m\u001b[43m(\u001b[49m\u001b[43mdf_main\u001b[49m\u001b[43m,\u001b[49m\u001b[43m \u001b[49m\u001b[43mgrn_model\u001b[49m\u001b[38;5;241;43m=\u001b[39;49m\u001b[43mco_grn\u001b[49m\u001b[43m,\u001b[49m\u001b[43m \u001b[49m\u001b[43mshares\u001b[49m\u001b[38;5;241;43m=\u001b[39;49m\u001b[43m{\u001b[49m\n\u001b[1;32m      2\u001b[0m \u001b[43m                                        \u001b[49m\u001b[38;5;124;43m'\u001b[39;49m\u001b[38;5;124;43msm_name\u001b[39;49m\u001b[38;5;124;43m'\u001b[39;49m\u001b[43m:\u001b[49m\u001b[43m{\u001b[49m\u001b[38;5;124;43m'\u001b[39;49m\u001b[38;5;124;43mtf_x\u001b[39;49m\u001b[38;5;124;43m'\u001b[39;49m\u001b[43m:\u001b[49m\u001b[38;5;241;43m35\u001b[39;49m\u001b[43m}\u001b[49m\u001b[43m,\u001b[49m\n\u001b[1;32m      3\u001b[0m \u001b[43m                                        \u001b[49m\u001b[38;5;124;43m'\u001b[39;49m\u001b[38;5;124;43mcell_type\u001b[39;49m\u001b[38;5;124;43m'\u001b[39;49m\u001b[43m:\u001b[49m\u001b[43m \u001b[49m\u001b[43m{\u001b[49m\u001b[38;5;124;43m'\u001b[39;49m\u001b[38;5;124;43mtf_x\u001b[39;49m\u001b[38;5;124;43m'\u001b[39;49m\u001b[43m:\u001b[49m\u001b[38;5;241;43m6\u001b[39;49m\u001b[43m}\u001b[49m\n\u001b[1;32m      4\u001b[0m \u001b[43m                                        \u001b[49m\u001b[43m}\u001b[49m\u001b[43m)\u001b[49m\n\u001b[1;32m      5\u001b[0m compute_cv(model_co)\n",
      "Cell \u001b[0;32mIn[46], line 33\u001b[0m, in \u001b[0;36mmodel_encoder.__init__\u001b[0;34m(self, df_main, n_components, shares, te_params, grn_model)\u001b[0m\n\u001b[1;32m     31\u001b[0m var_x_name \u001b[38;5;241m=\u001b[39m \u001b[38;5;28mlist\u001b[39m(shares[\u001b[38;5;124m'\u001b[39m\u001b[38;5;124msm_name\u001b[39m\u001b[38;5;124m'\u001b[39m]\u001b[38;5;241m.\u001b[39mkeys())[\u001b[38;5;241m0\u001b[39m]\n\u001b[1;32m     32\u001b[0m n_components \u001b[38;5;241m=\u001b[39m shares[\u001b[38;5;124m'\u001b[39m\u001b[38;5;124msm_name\u001b[39m\u001b[38;5;124m'\u001b[39m][var_x_name]\n\u001b[0;32m---> 33\u001b[0m y_sm_name \u001b[38;5;241m=\u001b[39m \u001b[38;5;28;43mself\u001b[39;49m\u001b[38;5;241;43m.\u001b[39;49m\u001b[43mcreate_feature_space\u001b[49m\u001b[43m(\u001b[49m\u001b[38;5;28;43mself\u001b[39;49m\u001b[38;5;241;43m.\u001b[39;49m\u001b[43mdf_main\u001b[49m\u001b[43m,\u001b[49m\u001b[43m \u001b[49m\u001b[43mvar_x\u001b[49m\u001b[38;5;241;43m=\u001b[39;49m\u001b[43mvar_x_name\u001b[49m\u001b[43m,\u001b[49m\u001b[43m \u001b[49m\u001b[43mn\u001b[49m\u001b[38;5;241;43m=\u001b[39;49m\u001b[43mn_components\u001b[49m\u001b[43m)\u001b[49m\n\u001b[1;32m     35\u001b[0m \u001b[38;5;66;03m# cell type\u001b[39;00m\n\u001b[1;32m     36\u001b[0m var_x_name \u001b[38;5;241m=\u001b[39m \u001b[38;5;28mlist\u001b[39m(shares[\u001b[38;5;124m'\u001b[39m\u001b[38;5;124mcell_type\u001b[39m\u001b[38;5;124m'\u001b[39m]\u001b[38;5;241m.\u001b[39mkeys())[\u001b[38;5;241m0\u001b[39m]\n",
      "Cell \u001b[0;32mIn[46], line 75\u001b[0m, in \u001b[0;36mmodel_encoder.create_feature_space\u001b[0;34m(self, df_to_encode, var_x, n)\u001b[0m\n\u001b[1;32m     73\u001b[0m df_main_c\u001b[38;5;241m.\u001b[39mindex \u001b[38;5;241m=\u001b[39m df_main_c\u001b[38;5;241m.\u001b[39mindex\u001b[38;5;241m.\u001b[39mmap(\u001b[38;5;28;01mlambda\u001b[39;00m x: \u001b[38;5;124m'\u001b[39m\u001b[38;5;124m@\u001b[39m\u001b[38;5;124m'\u001b[39m\u001b[38;5;241m.\u001b[39mjoin(\u001b[38;5;28mmap\u001b[39m(\u001b[38;5;28mstr\u001b[39m, x))) \u001b[38;5;66;03m# this is needed for enrichment analyisis\u001b[39;00m\n\u001b[1;32m     74\u001b[0m net \u001b[38;5;241m=\u001b[39m \u001b[38;5;28mself\u001b[39m\u001b[38;5;241m.\u001b[39mgrn_model\n\u001b[0;32m---> 75\u001b[0m tf_act, p_values \u001b[38;5;241m=\u001b[39m \u001b[43mdc\u001b[49m\u001b[38;5;241;43m.\u001b[39;49m\u001b[43mrun_ulm\u001b[49m\u001b[43m(\u001b[49m\n\u001b[1;32m     76\u001b[0m \u001b[43m    \u001b[49m\u001b[43mdf_main_c\u001b[49m\u001b[43m,\u001b[49m\n\u001b[1;32m     77\u001b[0m \u001b[43m    \u001b[49m\u001b[43mnet\u001b[49m\u001b[43m,\u001b[49m\n\u001b[1;32m     78\u001b[0m \u001b[43m    \u001b[49m\u001b[43msource\u001b[49m\u001b[38;5;241;43m=\u001b[39;49m\u001b[38;5;124;43m'\u001b[39;49m\u001b[38;5;124;43msource\u001b[39;49m\u001b[38;5;124;43m'\u001b[39;49m\u001b[43m,\u001b[49m\n\u001b[1;32m     79\u001b[0m \u001b[43m    \u001b[49m\u001b[43mtarget\u001b[49m\u001b[38;5;241;43m=\u001b[39;49m\u001b[38;5;124;43m'\u001b[39;49m\u001b[38;5;124;43mtarget\u001b[39;49m\u001b[38;5;124;43m'\u001b[39;49m\u001b[43m,\u001b[49m\n\u001b[1;32m     80\u001b[0m \u001b[43m    \u001b[49m\u001b[43mweight\u001b[49m\u001b[38;5;241;43m=\u001b[39;49m\u001b[38;5;124;43m'\u001b[39;49m\u001b[38;5;124;43mweight\u001b[39;49m\u001b[38;5;124;43m'\u001b[39;49m\u001b[43m,\u001b[49m\n\u001b[1;32m     81\u001b[0m \u001b[43m    \u001b[49m\u001b[43mverbose\u001b[49m\u001b[38;5;241;43m=\u001b[39;49m\u001b[38;5;28;43;01mTrue\u001b[39;49;00m\n\u001b[1;32m     82\u001b[0m \u001b[43m    \u001b[49m\u001b[43m)\u001b[49m\n\u001b[1;32m     84\u001b[0m tf_x \u001b[38;5;241m=\u001b[39m TruncatedSVD(n_components\u001b[38;5;241m=\u001b[39mn, n_iter\u001b[38;5;241m=\u001b[39m\u001b[38;5;241m12\u001b[39m, random_state\u001b[38;5;241m=\u001b[39mrandom_state)\u001b[38;5;241m.\u001b[39mfit_transform(tf_act)\n\u001b[1;32m     85\u001b[0m \u001b[38;5;28;01mreturn\u001b[39;00m tf_x\n",
      "File \u001b[0;32m~/anaconda3/envs/py10/lib/python3.10/site-packages/decoupler/method_ulm.py:108\u001b[0m, in \u001b[0;36mrun_ulm\u001b[0;34m(mat, net, source, target, weight, batch_size, min_n, verbose, use_raw)\u001b[0m\n\u001b[1;32m    105\u001b[0m m, r, c \u001b[38;5;241m=\u001b[39m extract(mat, use_raw\u001b[38;5;241m=\u001b[39muse_raw, verbose\u001b[38;5;241m=\u001b[39mverbose)\n\u001b[1;32m    107\u001b[0m \u001b[38;5;66;03m# Transform net\u001b[39;00m\n\u001b[0;32m--> 108\u001b[0m net \u001b[38;5;241m=\u001b[39m \u001b[43mrename_net\u001b[49m\u001b[43m(\u001b[49m\u001b[43mnet\u001b[49m\u001b[43m,\u001b[49m\u001b[43m \u001b[49m\u001b[43msource\u001b[49m\u001b[38;5;241;43m=\u001b[39;49m\u001b[43msource\u001b[49m\u001b[43m,\u001b[49m\u001b[43m \u001b[49m\u001b[43mtarget\u001b[49m\u001b[38;5;241;43m=\u001b[39;49m\u001b[43mtarget\u001b[49m\u001b[43m,\u001b[49m\u001b[43m \u001b[49m\u001b[43mweight\u001b[49m\u001b[38;5;241;43m=\u001b[39;49m\u001b[43mweight\u001b[49m\u001b[43m)\u001b[49m\n\u001b[1;32m    109\u001b[0m net \u001b[38;5;241m=\u001b[39m filt_min_n(c, net, min_n\u001b[38;5;241m=\u001b[39mmin_n)\n\u001b[1;32m    110\u001b[0m sources, targets, net \u001b[38;5;241m=\u001b[39m get_net_mat(net)\n",
      "File \u001b[0;32m~/anaconda3/envs/py10/lib/python3.10/site-packages/decoupler/pre.py:198\u001b[0m, in \u001b[0;36mrename_net\u001b[0;34m(net, source, target, weight)\u001b[0m\n\u001b[1;32m    196\u001b[0m \u001b[38;5;28;01massert\u001b[39;00m target \u001b[38;5;129;01min\u001b[39;00m net\u001b[38;5;241m.\u001b[39mcolumns, msg\u001b[38;5;241m.\u001b[39mformat(target)\n\u001b[1;32m    197\u001b[0m \u001b[38;5;28;01mif\u001b[39;00m weight \u001b[38;5;129;01mis\u001b[39;00m \u001b[38;5;129;01mnot\u001b[39;00m \u001b[38;5;28;01mNone\u001b[39;00m:\n\u001b[0;32m--> 198\u001b[0m     \u001b[38;5;28;01massert\u001b[39;00m weight \u001b[38;5;129;01min\u001b[39;00m net\u001b[38;5;241m.\u001b[39mcolumns, msg\u001b[38;5;241m.\u001b[39mformat(weight) \u001b[38;5;241m+\u001b[39m \u001b[38;5;124m\"\"\"\u001b[39m\u001b[38;5;124mAlternatively, set to None if no weights are available.\u001b[39m\u001b[38;5;124m\"\"\"\u001b[39m\n\u001b[1;32m    199\u001b[0m \u001b[38;5;28;01melse\u001b[39;00m:\n\u001b[1;32m    200\u001b[0m     net \u001b[38;5;241m=\u001b[39m net\u001b[38;5;241m.\u001b[39mcopy()\n",
      "\u001b[0;31mAssertionError\u001b[0m: Column name \"weight\" not found in net. Please specify a valid column.Alternatively, set to None if no weights are available."
     ]
    }
   ],
   "source": [
    "model_co = model_encoder(df_main, grn_model=co_grn, shares={\n",
    "                                        'sm_name':{'tf_x':35},\n",
    "                                        'cell_type': {'tf_x':6}\n",
    "                                        }, specific=True)\n",
    "compute_cv(model_co)"
   ]
  },
  {
   "cell_type": "markdown",
   "metadata": {},
   "source": [
    "## Scenic+"
   ]
  },
  {
   "cell_type": "code",
   "execution_count": 66,
   "metadata": {},
   "outputs": [
    {
     "data": {
      "text/plain": [
       "(96, 7.0)"
      ]
     },
     "execution_count": 66,
     "metadata": {},
     "output_type": "execute_result"
    }
   ],
   "source": [
    "scenicplus_grn =  pd.read_csv(f'../output/scenicplus/scenicplus.csv', index_col=0)\n",
    "peak_gene_scenicplus_n = scenicplus_grn.groupby('target').apply(lambda df:df['region'].shape[0])\n",
    "np.max(peak_gene_scenicplus_n.values), np.median(peak_gene_scenicplus_n.values)"
   ]
  },
  {
   "cell_type": "code",
   "execution_count": 72,
   "metadata": {},
   "outputs": [
    {
     "data": {
      "text/plain": [
       "(89002, 4)"
      ]
     },
     "execution_count": 72,
     "metadata": {},
     "output_type": "execute_result"
    }
   ],
   "source": [
    "scenicplus_grn.drop_duplicates().shape"
   ]
  },
  {
   "cell_type": "code",
   "execution_count": 67,
   "metadata": {},
   "outputs": [
    {
     "name": "stdout",
     "output_type": "stream",
     "text": [
      "number of TFs  33  CIS  25082  gene  7461\n",
      "number of DORC genes with t of 10  2949\n",
      "number of DORC genes with t of 5  4288\n"
     ]
    }
   ],
   "source": [
    "print('number of TFs ', scenicplus_grn.source.unique().shape[0], ' CIS ', scenicplus_grn.region.unique().shape[0], ' gene ', scenicplus_grn.target.unique().shape[0])\n",
    "print('number of DORC genes with t of 10 ', (peak_gene_scenicplus_n.values > 10).sum())\n",
    "print('number of DORC genes with t of 5 ', (peak_gene_scenicplus_n.values > 5).sum())"
   ]
  },
  {
   "cell_type": "code",
   "execution_count": 68,
   "metadata": {},
   "outputs": [
    {
     "data": {
      "image/png": "[encoded data removed]",
      "text/plain": [
       "<Figure size 640x480 with 1 Axes>"
      ]
     },
     "metadata": {},
     "output_type": "display_data"
    }
   ],
   "source": [
    "aa = plt.hist(peak_gene_scenicplus_n.values, bins=100)\n"
   ]
  },
  {
   "cell_type": "code",
   "execution_count": 116,
   "metadata": {},
   "outputs": [
    {
     "name": "stdout",
     "output_type": "stream",
     "text": [
      "number of given genes:  7461\n",
      "sig genes/all sig genes:  0.3926731539782484\n",
      "\n",
      "\n",
      "number of missing genes:  10928\n",
      "missing sig genes/all sig genes:  0.6073268460217516\n",
      "missing sig genes/missing genes:  0.1952521163047479\n"
     ]
    }
   ],
   "source": [
    "evaluate_missingness(scenicplus_grn.target.unique())"
   ]
  },
  {
   "cell_type": "code",
   "execution_count": 75,
   "metadata": {},
   "outputs": [
    {
     "data": {
      "text/html": [
       "<div>\n",
       "<style scoped>\n",
       "    .dataframe tbody tr th:only-of-type {\n",
       "        vertical-align: middle;\n",
       "    }\n",
       "\n",
       "    .dataframe tbody tr th {\n",
       "        vertical-align: top;\n",
       "    }\n",
       "\n",
       "    .dataframe thead th {\n",
       "        text-align: right;\n",
       "    }\n",
       "</style>\n",
       "<table border=\"1\" class=\"dataframe\">\n",
       "  <thead>\n",
       "    <tr style=\"text-align: right;\">\n",
       "      <th></th>\n",
       "      <th>source</th>\n",
       "      <th>target</th>\n",
       "      <th>weight</th>\n",
       "    </tr>\n",
       "  </thead>\n",
       "  <tbody>\n",
       "    <tr>\n",
       "      <th>0</th>\n",
       "      <td>BACH1</td>\n",
       "      <td>MTF1</td>\n",
       "      <td>0.198048</td>\n",
       "    </tr>\n",
       "    <tr>\n",
       "      <th>1</th>\n",
       "      <td>BACH1</td>\n",
       "      <td>VSIR</td>\n",
       "      <td>0.226462</td>\n",
       "    </tr>\n",
       "    <tr>\n",
       "      <th>2</th>\n",
       "      <td>BACH1</td>\n",
       "      <td>ME1</td>\n",
       "      <td>0.291484</td>\n",
       "    </tr>\n",
       "    <tr>\n",
       "      <th>3</th>\n",
       "      <td>BACH1</td>\n",
       "      <td>CEBPB</td>\n",
       "      <td>0.337277</td>\n",
       "    </tr>\n",
       "    <tr>\n",
       "      <th>4</th>\n",
       "      <td>BACH1</td>\n",
       "      <td>BCL3</td>\n",
       "      <td>0.129279</td>\n",
       "    </tr>\n",
       "    <tr>\n",
       "      <th>...</th>\n",
       "      <td>...</td>\n",
       "      <td>...</td>\n",
       "      <td>...</td>\n",
       "    </tr>\n",
       "    <tr>\n",
       "      <th>25571</th>\n",
       "      <td>BACH2</td>\n",
       "      <td>TNFAIP2</td>\n",
       "      <td>-0.149811</td>\n",
       "    </tr>\n",
       "    <tr>\n",
       "      <th>25572</th>\n",
       "      <td>SPI1</td>\n",
       "      <td>GNB5</td>\n",
       "      <td>-0.080656</td>\n",
       "    </tr>\n",
       "    <tr>\n",
       "      <th>25573</th>\n",
       "      <td>SPI1</td>\n",
       "      <td>MAP4K2</td>\n",
       "      <td>-0.050021</td>\n",
       "    </tr>\n",
       "    <tr>\n",
       "      <th>25574</th>\n",
       "      <td>SPI1</td>\n",
       "      <td>TRAF3IP3</td>\n",
       "      <td>-0.136304</td>\n",
       "    </tr>\n",
       "    <tr>\n",
       "      <th>25575</th>\n",
       "      <td>MAFB</td>\n",
       "      <td>ODF2L</td>\n",
       "      <td>-0.098476</td>\n",
       "    </tr>\n",
       "  </tbody>\n",
       "</table>\n",
       "<p>25576 rows × 3 columns</p>\n",
       "</div>"
      ],
      "text/plain": [
       "      source    target    weight\n",
       "0      BACH1      MTF1  0.198048\n",
       "1      BACH1      VSIR  0.226462\n",
       "2      BACH1       ME1  0.291484\n",
       "3      BACH1     CEBPB  0.337277\n",
       "4      BACH1      BCL3  0.129279\n",
       "...      ...       ...       ...\n",
       "25571  BACH2   TNFAIP2 -0.149811\n",
       "25572   SPI1      GNB5 -0.080656\n",
       "25573   SPI1    MAP4K2 -0.050021\n",
       "25574   SPI1  TRAF3IP3 -0.136304\n",
       "25575   MAFB     ODF2L -0.098476\n",
       "\n",
       "[25576 rows x 3 columns]"
      ]
     },
     "execution_count": 75,
     "metadata": {},
     "output_type": "execute_result"
    }
   ],
   "source": [
    "scenicplus_grn_direct = scenicplus_grn[['source','target','weight']].drop_duplicates(ignore_index=True)\n",
    "scenicplus_grn_direct"
   ]
  },
  {
   "cell_type": "code",
   "execution_count": 77,
   "metadata": {},
   "outputs": [
    {
     "name": "stdout",
     "output_type": "stream",
     "text": [
      "ulm is used\n",
      "Running ulm on mat with 547 samples and 18147 targets for 33 sources.\n",
      "ulm is used\n",
      "Running ulm on mat with 547 samples and 18147 targets for 33 sources.\n"
     ]
    },
    {
     "name": "stderr",
     "output_type": "stream",
     "text": [
      "100%|██████████| 33/33 [00:00<00:00, 39.80it/s]\n",
      "100%|██████████| 6/6 [00:00<00:00, 42.19it/s]"
     ]
    },
    {
     "name": "stdout",
     "output_type": "stream",
     "text": [
      "(547, 39) (255, 39)\n"
     ]
    },
    {
     "name": "stderr",
     "output_type": "stream",
     "text": [
      "\n"
     ]
    }
   ],
   "source": [
    "model_scenicplus = model_encoder(df_main, grn_model=scenicplus_grn_direct, shares={\n",
    "                                        'sm_name':{'tf_x':33},\n",
    "                                        'cell_type': {'tf_x':6}\n",
    "                                        })"
   ]
  },
  {
   "cell_type": "code",
   "execution_count": 78,
   "metadata": {},
   "outputs": [
    {
     "name": "stderr",
     "output_type": "stream",
     "text": [
      "100%|██████████| 20/20 [00:34<00:00,  1.70s/it]\n"
     ]
    },
    {
     "data": {
      "text/plain": [
       "0.4775111866354756"
      ]
     },
     "execution_count": 78,
     "metadata": {},
     "output_type": "execute_result"
    }
   ],
   "source": [
    "compute_cv(model_scenicplus)"
   ]
  },
  {
   "cell_type": "markdown",
   "metadata": {},
   "source": [
    "# _repo Importance of the missing genes in the inferred GRNs\n",
    "Following the approach used in [https://www.kaggle.com/code/alexandervc/op2-eda-housekeeping-genes?scriptVersionId=155511517&cellId=11], we present a visual comparison of the significance of data that needs to go versus remaining ones. We distinguish housekeeping genes versus other genes for better comparision."
   ]
  },
  {
   "cell_type": "code",
   "execution_count": null,
   "metadata": {},
   "outputs": [],
   "source": [
    "# load missing genes\n",
    "missing_genes_co_de = np.loadtxt(f'{work_dir}/missing_genes/celloracle.txt', dtype=str)\n",
    "missing_genes_scenic_de = np.loadtxt(f'{work_dir}/missing_genes/scenicplus.txt', dtype=str)\n",
    "# define filters\n",
    "missing_genes_scenic_filter = np.isin(gene_names_de, missing_genes_scenic_de)\n",
    "missing_genes_co_filter = np.isin(gene_names_de, missing_genes_co_de)"
   ]
  },
  {
   "cell_type": "code",
   "execution_count": null,
   "metadata": {},
   "outputs": [],
   "source": [
    "d = pd.DataFrame(); IX = -1\n",
    "list_thresholds = [1e-2,1e-3,1e-4,1e-5,1e-6,1e-7,1e-8,1e-9,1e-10,1e-11,1e-12,1e-13,1e-14,1e-15,1e-16]\n",
    "\n",
    "def calculate_percentage(t, df, filter=False):\n",
    "    # number of values in DE that passes the given threshold on p value\n",
    "    if filter:\n",
    "        v  = df[filter_mask_de].values.ravel()\n",
    "    else:\n",
    "        v  = df.values.ravel()\n",
    "    v = v[~np.isnan(v)]\n",
    "    v = 10**(-np.abs(v))\n",
    "    m = v < t\n",
    "    return 100*m.sum()\n",
    "\n",
    "for t in list_thresholds:\n",
    "    IX+=1\n",
    "    d.loc[IX, 'Threshold'] = t\n",
    "    # data_df\n",
    "    baseline_n = calculate_percentage(t, data_df, True)\n",
    "    \n",
    "    # basics \n",
    "    # df = data_df.loc[:, ~housekeeping_genes_filter]\n",
    "    # rr = calculate_percentage(t, df, True)\n",
    "    # d.loc[IX, 'All genes'] = rr/baseline_n\n",
    "\n",
    "    # df = data_df.loc[:, housekeeping_genes_filter]\n",
    "    # rr = calculate_percentage(t, df, True)\n",
    "    # d.loc[IX, 'House keeping genes'] = rr/baseline_n\n",
    "\n",
    "    # CO\n",
    "    df = data_df.loc[:, missing_genes_co_de]\n",
    "    rr = calculate_percentage(t, df, True)\n",
    "    d.loc[IX, 'Missing genes in CellOracle'] = rr/baseline_n\n",
    "    # scenic+\n",
    "    df = data_df.loc[:, missing_genes_scenic_de]\n",
    "    rr = calculate_percentage(t, df, True)\n",
    "    d.loc[IX, 'Missing genes in Scenic+'] = rr/baseline_n"
   ]
  },
  {
   "cell_type": "code",
   "execution_count": null,
   "metadata": {},
   "outputs": [
    {
     "data": {
      "image/png": "[encoded data removed]",
      "text/plain": [
       "<Figure size 1500x400 with 1 Axes>"
      ]
     },
     "metadata": {},
     "output_type": "display_data"
    }
   ],
   "source": [
    "# Define line styles and line width\n",
    "line_styles = ['-', '--', '-.', ':'] * 2\n",
    "line_width = 2  # Increase the line thickness\n",
    "plt.figure(figsize=(15, 4))\n",
    "# Iterate over columns and line styles\n",
    "for col, style in zip(d.columns[1:], line_styles * (len(d.columns) // len(line_styles) + 1)):\n",
    "    plt.plot(d[col].values, label=col, linestyle=style, linewidth=line_width)\n",
    "plt.grid()\n",
    "plt.legend()\n",
    "plt.xticks(range(len(list_thresholds)), list_thresholds)\n",
    "plt.xlabel('Threshold on p-value')\n",
    "plt.ylabel('Ratio of significantly expressed genes')\n",
    "plt.savefig('sig.png', bbox_inches='tight')\n",
    "plt.show()"
   ]
  },
  {
   "cell_type": "code",
   "execution_count": null,
   "metadata": {},
   "outputs": [],
   "source": [
    "d = pd.DataFrame(); IX = -1\n",
    "list_thresholds = [1e-2,1e-3,1e-4,1e-5,1e-6,1e-7,1e-8,1e-9,1e-10,1e-11,1e-12,1e-13,1e-14,1e-15,1e-16]\n",
    "\n",
    "\n",
    "def calculate_percentage(t, df, filter=False):\n",
    "    if filter:\n",
    "        v  = df[filter_mask_de].values.ravel()\n",
    "    else:\n",
    "        v  = df.values.ravel()\n",
    "    v = v[~np.isnan(v)]\n",
    "    v = 10**(-np.abs(v))\n",
    "    m = v < t\n",
    "    if len(v)==0:\n",
    "        raise ValueError('shouldnt be')\n",
    "    return 100*m.sum()/len(v)\n",
    "for t in list_thresholds:\n",
    "    IX+=1\n",
    "    d.loc[IX, 'Threshold'] = t\n",
    "    # basics \n",
    "    df = data_df.loc[:, ~housekeeping_genes_filter]\n",
    "    rr = calculate_percentage(t, df, True)\n",
    "    d.loc[IX, 'Other genes'] = rr\n",
    "\n",
    "    df = data_df.loc[:, housekeeping_genes_filter]\n",
    "    rr = calculate_percentage(t, df, True)\n",
    "    d.loc[IX, 'House keeping genes'] = rr\n",
    "\n",
    "    # CO\n",
    "    df = data_df.loc[:, missing_genes_co_de]\n",
    "    rr = calculate_percentage(t, df, True)\n",
    "    d.loc[IX, 'Missing genes in CellOracle'] = rr\n",
    "    # scenic+\n",
    "    df = data_df.loc[:, missing_genes_scenic_de]\n",
    "    rr = calculate_percentage(t, df, True)\n",
    "    d.loc[IX, 'Missing genes in Scenic+'] = rr"
   ]
  },
  {
   "cell_type": "code",
   "execution_count": null,
   "metadata": {},
   "outputs": [
    {
     "data": {
      "image/png": "[encoded data removed]",
      "text/plain": [
       "<Figure size 1500x400 with 1 Axes>"
      ]
     },
     "metadata": {},
     "output_type": "display_data"
    }
   ],
   "source": [
    "# Define line styles and line width\n",
    "line_styles = ['-', '--', '-.', ':'] * 2\n",
    "line_width = 2  # Increase the line thickness\n",
    "plt.figure(figsize=(15, 4))\n",
    "# Iterate over columns and line styles\n",
    "for col, style in zip(d.columns[1:], line_styles * (len(d.columns) // len(line_styles) + 1)):\n",
    "    plt.plot(d[col].values, label=col, linestyle=style, linewidth=line_width)\n",
    "plt.grid()\n",
    "plt.legend()\n",
    "plt.xticks(range(len(list_thresholds)), list_thresholds)\n",
    "plt.xlabel('Threshold on p-value')\n",
    "plt.ylabel('Percentage of significantly expressed genes')\n",
    "plt.savefig('sig.png', bbox_inches='tight')\n",
    "plt.show()"
   ]
  }
 ],
 "metadata": {
  "kernelspec": {
   "display_name": "celloracle",
   "language": "python",
   "name": "python3"
  },
  "language_info": {
   "codemirror_mode": {
    "name": "ipython",
    "version": 3
   },
   "file_extension": ".py",
   "mimetype": "text/x-python",
   "name": "python",
   "nbconvert_exporter": "python",
   "pygments_lexer": "ipython3",
   "version": "3.10.12"
  }
 },
 "nbformat": 4,
 "nbformat_minor": 2
}
