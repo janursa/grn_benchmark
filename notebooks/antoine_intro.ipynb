{
 "cells": [
  {
   "cell_type": "markdown",
   "metadata": {},
   "source": []
  },
  {
   "cell_type": "code",
   "execution_count": 1,
   "metadata": {},
   "outputs": [],
   "source": [
    "import anndata as ad \n",
    "adata_atac = ad.read_h5ad('../output/scATAC/adata_atac.h5ad')\n",
    "adata_rna = ad.read_h5ad('../output/scRNA/adata_rna.h5ad')"
   ]
  },
  {
   "cell_type": "code",
   "execution_count": 23,
   "metadata": {},
   "outputs": [
    {
     "data": {
      "text/plain": [
       "AnnData object with n_obs × n_vars = 25551 × 135418\n",
       "    obs: 'obs_id', 'cell_type', 'donor_id'\n",
       "    uns: 'cell_type_colors', 'donor_id_colors', 'neighbors', 'obs', 'pca', 'umap'\n",
       "    obsm: 'X_pca', 'X_umap'\n",
       "    varm: 'PCs'\n",
       "    layers: 'x_norm'\n",
       "    obsp: 'connectivities', 'distances'"
      ]
     },
     "execution_count": 23,
     "metadata": {},
     "output_type": "execute_result"
    }
   ],
   "source": [
    "adata_atac # obs -> cells , vars: peaks"
   ]
  },
  {
   "cell_type": "code",
   "execution_count": 19,
   "metadata": {},
   "outputs": [
    {
     "data": {
      "text/plain": [
       "<25551x135418 sparse matrix of type '<class 'numpy.float32'>'\n",
       "\twith 173485202 stored elements in Compressed Sparse Row format>"
      ]
     },
     "execution_count": 19,
     "metadata": {},
     "output_type": "execute_result"
    }
   ],
   "source": [
    "# count data\n",
    "adata_atac.X"
   ]
  },
  {
   "cell_type": "code",
   "execution_count": 3,
   "metadata": {},
   "outputs": [
    {
     "data": {
      "text/html": [
       "<div>\n",
       "<style scoped>\n",
       "    .dataframe tbody tr th:only-of-type {\n",
       "        vertical-align: middle;\n",
       "    }\n",
       "\n",
       "    .dataframe tbody tr th {\n",
       "        vertical-align: top;\n",
       "    }\n",
       "\n",
       "    .dataframe thead th {\n",
       "        text-align: right;\n",
       "    }\n",
       "</style>\n",
       "<table border=\"1\" class=\"dataframe\">\n",
       "  <thead>\n",
       "    <tr style=\"text-align: right;\">\n",
       "      <th></th>\n",
       "      <th>obs_id</th>\n",
       "      <th>cell_type</th>\n",
       "      <th>donor_id</th>\n",
       "    </tr>\n",
       "  </thead>\n",
       "  <tbody>\n",
       "    <tr>\n",
       "      <th>0</th>\n",
       "      <td>000225c1151ab841</td>\n",
       "      <td>B cells</td>\n",
       "      <td>donor_0</td>\n",
       "    </tr>\n",
       "    <tr>\n",
       "      <th>1</th>\n",
       "      <td>0003c40a54367871</td>\n",
       "      <td>agg_type</td>\n",
       "      <td>donor_2</td>\n",
       "    </tr>\n",
       "    <tr>\n",
       "      <th>2</th>\n",
       "      <td>0004bf574b822c3c</td>\n",
       "      <td>agg_type</td>\n",
       "      <td>donor_2</td>\n",
       "    </tr>\n",
       "    <tr>\n",
       "      <th>3</th>\n",
       "      <td>000d59b5478f28e2</td>\n",
       "      <td>B cells</td>\n",
       "      <td>donor_0</td>\n",
       "    </tr>\n",
       "    <tr>\n",
       "      <th>4</th>\n",
       "      <td>0011b7473923d7b5</td>\n",
       "      <td>NK cells</td>\n",
       "      <td>donor_2</td>\n",
       "    </tr>\n",
       "    <tr>\n",
       "      <th>...</th>\n",
       "      <td>...</td>\n",
       "      <td>...</td>\n",
       "      <td>...</td>\n",
       "    </tr>\n",
       "    <tr>\n",
       "      <th>25546</th>\n",
       "      <td>fff2ca1f64c10339</td>\n",
       "      <td>agg_type</td>\n",
       "      <td>donor_0</td>\n",
       "    </tr>\n",
       "    <tr>\n",
       "      <th>25547</th>\n",
       "      <td>fff87e64f509b570</td>\n",
       "      <td>agg_type</td>\n",
       "      <td>donor_0</td>\n",
       "    </tr>\n",
       "    <tr>\n",
       "      <th>25548</th>\n",
       "      <td>fff9778b31bc2539</td>\n",
       "      <td>Myeloid cells</td>\n",
       "      <td>donor_2</td>\n",
       "    </tr>\n",
       "    <tr>\n",
       "      <th>25549</th>\n",
       "      <td>fffa92f71d2440de</td>\n",
       "      <td>NK cells</td>\n",
       "      <td>donor_1</td>\n",
       "    </tr>\n",
       "    <tr>\n",
       "      <th>25550</th>\n",
       "      <td>ffffeba9dbf2bab1</td>\n",
       "      <td>agg_type</td>\n",
       "      <td>donor_1</td>\n",
       "    </tr>\n",
       "  </tbody>\n",
       "</table>\n",
       "<p>25551 rows × 3 columns</p>\n",
       "</div>"
      ],
      "text/plain": [
       "                 obs_id      cell_type donor_id\n",
       "0      000225c1151ab841        B cells  donor_0\n",
       "1      0003c40a54367871       agg_type  donor_2\n",
       "2      0004bf574b822c3c       agg_type  donor_2\n",
       "3      000d59b5478f28e2        B cells  donor_0\n",
       "4      0011b7473923d7b5       NK cells  donor_2\n",
       "...                 ...            ...      ...\n",
       "25546  fff2ca1f64c10339       agg_type  donor_0\n",
       "25547  fff87e64f509b570       agg_type  donor_0\n",
       "25548  fff9778b31bc2539  Myeloid cells  donor_2\n",
       "25549  fffa92f71d2440de       NK cells  donor_1\n",
       "25550  ffffeba9dbf2bab1       agg_type  donor_1\n",
       "\n",
       "[25551 rows x 3 columns]"
      ]
     },
     "execution_count": 3,
     "metadata": {},
     "output_type": "execute_result"
    }
   ],
   "source": [
    "adata_atac.obs"
   ]
  },
  {
   "cell_type": "code",
   "execution_count": 6,
   "metadata": {},
   "outputs": [
    {
     "data": {
      "text/html": [
       "<div>\n",
       "<style scoped>\n",
       "    .dataframe tbody tr th:only-of-type {\n",
       "        vertical-align: middle;\n",
       "    }\n",
       "\n",
       "    .dataframe tbody tr th {\n",
       "        vertical-align: top;\n",
       "    }\n",
       "\n",
       "    .dataframe thead th {\n",
       "        text-align: right;\n",
       "    }\n",
       "</style>\n",
       "<table border=\"1\" class=\"dataframe\">\n",
       "  <thead>\n",
       "    <tr style=\"text-align: right;\">\n",
       "      <th></th>\n",
       "    </tr>\n",
       "    <tr>\n",
       "      <th>location</th>\n",
       "    </tr>\n",
       "  </thead>\n",
       "  <tbody>\n",
       "    <tr>\n",
       "      <th>GL000194.1:100992-101876</th>\n",
       "    </tr>\n",
       "    <tr>\n",
       "      <th>GL000194.1:104344-105163</th>\n",
       "    </tr>\n",
       "    <tr>\n",
       "      <th>GL000194.1:110741-111545</th>\n",
       "    </tr>\n",
       "    <tr>\n",
       "      <th>GL000194.1:114513-115368</th>\n",
       "    </tr>\n",
       "    <tr>\n",
       "      <th>GL000194.1:27939-28826</th>\n",
       "    </tr>\n",
       "    <tr>\n",
       "      <th>...</th>\n",
       "    </tr>\n",
       "    <tr>\n",
       "      <th>chrY:7765105-7765991</th>\n",
       "    </tr>\n",
       "    <tr>\n",
       "      <th>chrY:7814158-7815060</th>\n",
       "    </tr>\n",
       "    <tr>\n",
       "      <th>chrY:7818681-7819599</th>\n",
       "    </tr>\n",
       "    <tr>\n",
       "      <th>chrY:8535565-8536421</th>\n",
       "    </tr>\n",
       "    <tr>\n",
       "      <th>chrY:8537529-8538370</th>\n",
       "    </tr>\n",
       "  </tbody>\n",
       "</table>\n",
       "<p>135418 rows × 0 columns</p>\n",
       "</div>"
      ],
      "text/plain": [
       "Empty DataFrame\n",
       "Columns: []\n",
       "Index: [GL000194.1:100992-101876, GL000194.1:104344-105163, GL000194.1:110741-111545, GL000194.1:114513-115368, GL000194.1:27939-28826, GL000194.1:55749-56580, GL000194.1:58219-58991, GL000194.1:59583-60481, GL000194.1:67194-67888, GL000194.1:69334-70130, GL000194.1:77502-78272, GL000195.1:120717-121604, GL000195.1:130492-131321, GL000195.1:133162-133948, GL000195.1:137371-138263, GL000195.1:23829-24696, GL000195.1:24875-25725, GL000195.1:30373-31270, GL000195.1:32173-32998, GL000195.1:68243-69157, GL000195.1:71150-71916, GL000205.2:140315-141167, GL000205.2:145155-145942, GL000205.2:44048-44798, GL000205.2:50489-51142, GL000205.2:63071-63962, GL000205.2:67764-68676, GL000205.2:69054-69844, GL000205.2:78249-79016, GL000205.2:87634-88238, GL000205.2:88651-89487, GL000218.1:83286-84182, GL000218.1:96881-97778, GL000219.1:125024-125894, GL000219.1:132791-133702, GL000219.1:39930-40829, GL000219.1:42170-43063, GL000219.1:44814-45626, GL000219.1:45763-46396, GL000219.1:50675-51565, GL000219.1:88679-89438, GL000219.1:90080-90981, GL000219.1:92285-93094, GL000219.1:99252-100166, KI270711.1:22610-23489, KI270711.1:23890-24709, KI270711.1:7910-8736, KI270713.1:21464-22377, KI270713.1:27714-28535, KI270713.1:29650-30500, KI270713.1:36928-37830, KI270713.1:3945-4846, KI270721.1:2090-2982, KI270726.1:27145-28042, KI270726.1:41490-42340, KI270727.1:52076-52953, KI270728.1:1791253-1791935, KI270728.1:1792050-1792568, KI270728.1:232269-233168, KI270731.1:4505-5401, chr10:100001032-100001800, chr10:100006075-100006963, chr10:100009475-100010367, chr10:100013993-100014884, chr10:100020278-100021136, chr10:100021391-100022053, chr10:100044265-100044963, chr10:100045779-100046687, chr10:100148427-100149279, chr10:100167454-100168276, chr10:100181966-100182658, chr10:100183159-100184053, chr10:100185622-100186542, chr10:100192100-100192967, chr10:100204154-100205049, chr10:100229082-100229931, chr10:100240510-100241389, chr10:100252830-100253542, chr10:100253912-100254808, chr10:100256741-100257658, chr10:100267238-100268104, chr10:100282689-100283588, chr10:100286187-100287039, chr10:100291042-100291871, chr10:100292166-100292904, chr10:100303445-100304337, chr10:100326682-100327594, chr10:100338220-100339055, chr10:100339340-100339978, chr10:100342111-100343006, chr10:100346599-100347467, chr10:100364678-100365545, chr10:100370705-100371655, chr10:100373089-100373883, chr10:100377552-100378475, chr10:100415597-100416393, chr10:100419611-100420485, chr10:100433504-100434405, chr10:100448730-100449622, chr10:100481287-100482128, ...]\n",
       "\n",
       "[135418 rows x 0 columns]"
      ]
     },
     "execution_count": 6,
     "metadata": {},
     "output_type": "execute_result"
    }
   ],
   "source": [
    "adata_atac.var"
   ]
  },
  {
   "cell_type": "code",
   "execution_count": 24,
   "metadata": {},
   "outputs": [
    {
     "data": {
      "text/plain": [
       "AnnData object with n_obs × n_vars = 25551 × 22787\n",
       "    obs: 'cell_type', 'donor_id', 'n_genes', 'louvain'\n",
       "    var: 'n_cells'\n",
       "    uns: 'cell_type_colors', 'diffmap_evals', 'donor_id_colors', 'draw_graph', 'louvain', 'louvain_colors', 'louvain_sizes', 'neighbors', 'obs', 'paga', 'pca', 'rank_genes_groups', 'umap'\n",
       "    obsm: 'X_diffmap', 'X_draw_graph_fr', 'X_pca', 'X_umap'\n",
       "    varm: 'PCs'\n",
       "    layers: 'counts', 'x_norm'\n",
       "    obsp: 'connectivities', 'distances'"
      ]
     },
     "execution_count": 24,
     "metadata": {},
     "output_type": "execute_result"
    }
   ],
   "source": [
    "adata_rna # obs -> cells , vars: genes"
   ]
  },
  {
   "cell_type": "code",
   "execution_count": 21,
   "metadata": {},
   "outputs": [
    {
     "data": {
      "text/plain": [
       "<25551x22787 sparse matrix of type '<class 'numpy.float64'>'\n",
       "\twith 42766166 stored elements in Compressed Sparse Row format>"
      ]
     },
     "execution_count": 21,
     "metadata": {},
     "output_type": "execute_result"
    }
   ],
   "source": [
    "# count data\n",
    "adata_rna.X\n",
    "# normalized count data\n",
    "# adata_rna.layers['counts']"
   ]
  },
  {
   "cell_type": "code",
   "execution_count": 2,
   "metadata": {},
   "outputs": [
    {
     "name": "stderr",
     "output_type": "stream",
     "text": [
      "/root/anaconda3/envs/py10/lib/python3.10/site-packages/IPython/core/interactiveshell.py:3508: SparseEfficiencyWarning: Comparing a sparse matrix with 0 using == is inefficient, try using != instead.\n",
      "  exec(code_obj, self.user_global_ns, self.user_ns)\n"
     ]
    },
    {
     "data": {
      "text/plain": [
       "539464471"
      ]
     },
     "execution_count": 2,
     "metadata": {},
     "output_type": "execute_result"
    }
   ],
   "source": [
    "(adata_rna.X==0).sum()"
   ]
  },
  {
   "cell_type": "code",
   "execution_count": 4,
   "metadata": {},
   "outputs": [
    {
     "data": {
      "text/plain": [
       "42766166"
      ]
     },
     "execution_count": 4,
     "metadata": {},
     "output_type": "execute_result"
    }
   ],
   "source": [
    "adata_rna.X.size"
   ]
  },
  {
   "cell_type": "code",
   "execution_count": 8,
   "metadata": {},
   "outputs": [
    {
     "data": {
      "text/html": [
       "<div>\n",
       "<style scoped>\n",
       "    .dataframe tbody tr th:only-of-type {\n",
       "        vertical-align: middle;\n",
       "    }\n",
       "\n",
       "    .dataframe tbody tr th {\n",
       "        vertical-align: top;\n",
       "    }\n",
       "\n",
       "    .dataframe thead th {\n",
       "        text-align: right;\n",
       "    }\n",
       "</style>\n",
       "<table border=\"1\" class=\"dataframe\">\n",
       "  <thead>\n",
       "    <tr style=\"text-align: right;\">\n",
       "      <th></th>\n",
       "      <th>cell_type</th>\n",
       "      <th>donor_id</th>\n",
       "      <th>n_genes</th>\n",
       "    </tr>\n",
       "    <tr>\n",
       "      <th>obs_id</th>\n",
       "      <th></th>\n",
       "      <th></th>\n",
       "      <th></th>\n",
       "    </tr>\n",
       "  </thead>\n",
       "  <tbody>\n",
       "    <tr>\n",
       "      <th>000225c1151ab841</th>\n",
       "      <td>B cells</td>\n",
       "      <td>donor_0</td>\n",
       "      <td>1076</td>\n",
       "    </tr>\n",
       "    <tr>\n",
       "      <th>0003c40a54367871</th>\n",
       "      <td>agg_type</td>\n",
       "      <td>donor_2</td>\n",
       "      <td>1175</td>\n",
       "    </tr>\n",
       "    <tr>\n",
       "      <th>0004bf574b822c3c</th>\n",
       "      <td>agg_type</td>\n",
       "      <td>donor_2</td>\n",
       "      <td>842</td>\n",
       "    </tr>\n",
       "    <tr>\n",
       "      <th>000d59b5478f28e2</th>\n",
       "      <td>B cells</td>\n",
       "      <td>donor_0</td>\n",
       "      <td>1156</td>\n",
       "    </tr>\n",
       "    <tr>\n",
       "      <th>0011b7473923d7b5</th>\n",
       "      <td>NK cells</td>\n",
       "      <td>donor_2</td>\n",
       "      <td>1953</td>\n",
       "    </tr>\n",
       "    <tr>\n",
       "      <th>...</th>\n",
       "      <td>...</td>\n",
       "      <td>...</td>\n",
       "      <td>...</td>\n",
       "    </tr>\n",
       "    <tr>\n",
       "      <th>fff2ca1f64c10339</th>\n",
       "      <td>agg_type</td>\n",
       "      <td>donor_0</td>\n",
       "      <td>1339</td>\n",
       "    </tr>\n",
       "    <tr>\n",
       "      <th>fff87e64f509b570</th>\n",
       "      <td>agg_type</td>\n",
       "      <td>donor_0</td>\n",
       "      <td>1068</td>\n",
       "    </tr>\n",
       "    <tr>\n",
       "      <th>fff9778b31bc2539</th>\n",
       "      <td>Myeloid cells</td>\n",
       "      <td>donor_2</td>\n",
       "      <td>2758</td>\n",
       "    </tr>\n",
       "    <tr>\n",
       "      <th>fffa92f71d2440de</th>\n",
       "      <td>NK cells</td>\n",
       "      <td>donor_1</td>\n",
       "      <td>1898</td>\n",
       "    </tr>\n",
       "    <tr>\n",
       "      <th>ffffeba9dbf2bab1</th>\n",
       "      <td>agg_type</td>\n",
       "      <td>donor_1</td>\n",
       "      <td>1555</td>\n",
       "    </tr>\n",
       "  </tbody>\n",
       "</table>\n",
       "<p>25551 rows × 3 columns</p>\n",
       "</div>"
      ],
      "text/plain": [
       "                      cell_type donor_id  n_genes\n",
       "obs_id                                           \n",
       "000225c1151ab841        B cells  donor_0     1076\n",
       "0003c40a54367871       agg_type  donor_2     1175\n",
       "0004bf574b822c3c       agg_type  donor_2      842\n",
       "000d59b5478f28e2        B cells  donor_0     1156\n",
       "0011b7473923d7b5       NK cells  donor_2     1953\n",
       "...                         ...      ...      ...\n",
       "fff2ca1f64c10339       agg_type  donor_0     1339\n",
       "fff87e64f509b570       agg_type  donor_0     1068\n",
       "fff9778b31bc2539  Myeloid cells  donor_2     2758\n",
       "fffa92f71d2440de       NK cells  donor_1     1898\n",
       "ffffeba9dbf2bab1       agg_type  donor_1     1555\n",
       "\n",
       "[25551 rows x 3 columns]"
      ]
     },
     "execution_count": 8,
     "metadata": {},
     "output_type": "execute_result"
    }
   ],
   "source": [
    "adata_rna.obs"
   ]
  },
  {
   "cell_type": "code",
   "execution_count": 9,
   "metadata": {},
   "outputs": [
    {
     "data": {
      "text/html": [
       "<div>\n",
       "<style scoped>\n",
       "    .dataframe tbody tr th:only-of-type {\n",
       "        vertical-align: middle;\n",
       "    }\n",
       "\n",
       "    .dataframe tbody tr th {\n",
       "        vertical-align: top;\n",
       "    }\n",
       "\n",
       "    .dataframe thead th {\n",
       "        text-align: right;\n",
       "    }\n",
       "</style>\n",
       "<table border=\"1\" class=\"dataframe\">\n",
       "  <thead>\n",
       "    <tr style=\"text-align: right;\">\n",
       "      <th></th>\n",
       "      <th>n_cells</th>\n",
       "    </tr>\n",
       "    <tr>\n",
       "      <th>location</th>\n",
       "      <th></th>\n",
       "    </tr>\n",
       "  </thead>\n",
       "  <tbody>\n",
       "    <tr>\n",
       "      <th>A1BG</th>\n",
       "      <td>1500</td>\n",
       "    </tr>\n",
       "    <tr>\n",
       "      <th>A1BG-AS1</th>\n",
       "      <td>1268</td>\n",
       "    </tr>\n",
       "    <tr>\n",
       "      <th>A2M</th>\n",
       "      <td>4264</td>\n",
       "    </tr>\n",
       "    <tr>\n",
       "      <th>A2M-AS1</th>\n",
       "      <td>1682</td>\n",
       "    </tr>\n",
       "    <tr>\n",
       "      <th>A2ML1</th>\n",
       "      <td>97</td>\n",
       "    </tr>\n",
       "    <tr>\n",
       "      <th>...</th>\n",
       "      <td>...</td>\n",
       "    </tr>\n",
       "    <tr>\n",
       "      <th>ZXDC</th>\n",
       "      <td>6808</td>\n",
       "    </tr>\n",
       "    <tr>\n",
       "      <th>ZYG11A</th>\n",
       "      <td>78</td>\n",
       "    </tr>\n",
       "    <tr>\n",
       "      <th>ZYG11B</th>\n",
       "      <td>3910</td>\n",
       "    </tr>\n",
       "    <tr>\n",
       "      <th>ZYX</th>\n",
       "      <td>4313</td>\n",
       "    </tr>\n",
       "    <tr>\n",
       "      <th>ZZEF1</th>\n",
       "      <td>7853</td>\n",
       "    </tr>\n",
       "  </tbody>\n",
       "</table>\n",
       "<p>22787 rows × 1 columns</p>\n",
       "</div>"
      ],
      "text/plain": [
       "          n_cells\n",
       "location         \n",
       "A1BG         1500\n",
       "A1BG-AS1     1268\n",
       "A2M          4264\n",
       "A2M-AS1      1682\n",
       "A2ML1          97\n",
       "...           ...\n",
       "ZXDC         6808\n",
       "ZYG11A         78\n",
       "ZYG11B       3910\n",
       "ZYX          4313\n",
       "ZZEF1        7853\n",
       "\n",
       "[22787 rows x 1 columns]"
      ]
     },
     "execution_count": 9,
     "metadata": {},
     "output_type": "execute_result"
    }
   ],
   "source": [
    "adata_rna.var"
   ]
  }
 ],
 "metadata": {
  "kernelspec": {
   "display_name": "py10",
   "language": "python",
   "name": "python3"
  },
  "language_info": {
   "codemirror_mode": {
    "name": "ipython",
    "version": 3
   },
   "file_extension": ".py",
   "mimetype": "text/x-python",
   "name": "python",
   "nbconvert_exporter": "python",
   "pygments_lexer": "ipython3",
   "version": "3.10.12"
  }
 },
 "nbformat": 4,
 "nbformat_minor": 2
}
