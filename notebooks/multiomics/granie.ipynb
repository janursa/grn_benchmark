{
 "cells": [
  {
   "cell_type": "code",
   "execution_count": null,
   "metadata": {},
   "outputs": [],
   "source": []
  },
  {
   "cell_type": "markdown",
   "metadata": {},
   "source": [
    "# post process"
   ]
  },
  {
   "cell_type": "code",
   "execution_count": 4,
   "metadata": {},
   "outputs": [
    {
     "name": "stderr",
     "output_type": "stream",
     "text": [
      "/tmp/ipykernel_426528/3811990538.py:9: DeprecationWarning: DataFrameGroupBy.apply operated on the grouping columns. This behavior is deprecated, and in a future version of pandas the grouping columns will be excluded from the operation. Either pass `include_groups=False` to exclude the groupings or explicitly select the grouping columns after groupby to silence this warning.\n",
      "  grn_granie = grn_granie.groupby(['source', 'target']).apply(lambda df:df['weight'].mean()).reset_index().rename(columns={0:'weight'})\n"
     ]
    }
   ],
   "source": [
    "import pandas as pd\n",
    "work_dir = '../../output'\n",
    "grn_granie = pd.read_csv(f'{work_dir}/infer/granie/supp/all.tsv', sep='\\t')\n",
    "grn_granie = grn_granie[['TF.name', 'peak.ID', 'gene.name', 'TF_gene.r']]\n",
    "grn_granie.columns = ['source', 'peak', 'target', 'weight']\n",
    "granie_ct = grn_granie[['peak', 'target']].drop_duplicates().reset_index(drop=True)\n",
    "granie_ct.to_csv(f'{work_dir}/infer/granie/peak_gene.csv')\n",
    "\n",
    "grn_granie = grn_granie.groupby(['source', 'target']).apply(lambda df:df['weight'].mean()).reset_index().rename(columns={0:'weight'})"
   ]
  },
  {
   "cell_type": "code",
   "execution_count": null,
   "metadata": {},
   "outputs": [],
   "source": [
    "grn_granie.to_csv(f'{work_dir}/infer/granie/grn/granie_grn.csv')"
   ]
  }
 ],
 "metadata": {
  "kernelspec": {
   "display_name": "py10",
   "language": "python",
   "name": "python3"
  },
  "language_info": {
   "codemirror_mode": {
    "name": "ipython",
    "version": 3
   },
   "file_extension": ".py",
   "mimetype": "text/x-python",
   "name": "python",
   "nbconvert_exporter": "python",
   "pygments_lexer": "ipython3",
   "version": "3.10.14"
  }
 },
 "nbformat": 4,
 "nbformat_minor": 2
}
