{
 "cells": [
  {
   "cell_type": "code",
   "execution_count": null,
   "metadata": {},
   "outputs": [],
   "source": []
  },
  {
   "cell_type": "markdown",
   "metadata": {},
   "source": [
    "# post process"
   ]
  },
  {
   "cell_type": "code",
   "execution_count": null,
   "metadata": {},
   "outputs": [],
   "source": [
    "grn_granie = pd.read_csv(f'{work_dir}/infer/granie/supp/all.tsv', sep='\\t')\n",
    "grn_granie = grn_granie[['TF.name', 'peak.ID', 'gene.name', 'TF_gene.r']]\n",
    "grn_granie.columns = ['source', 'CRE', 'target', 'weight']\n",
    "granie_ct = grn_granie[['CRE', 'target']].drop_duplicates().reset_index(drop=True)\n",
    "granie_ct.to_csv(f'{work_dir}/benchmark/CRE_target/granie_ct.csv')\n",
    "\n",
    "grn_granie = grn_granie.groupby(['source', 'target']).apply(lambda df:df['weight'].mean()).reset_index().rename(columns={0:'weight'})"
   ]
  },
  {
   "cell_type": "code",
   "execution_count": null,
   "metadata": {},
   "outputs": [],
   "source": [
    "grn_granie.to_csv(f'{work_dir}/infer/granie/grn/granie_grn.csv')"
   ]
  }
 ],
 "metadata": {
  "language_info": {
   "name": "python"
  }
 },
 "nbformat": 4,
 "nbformat_minor": 2
}
