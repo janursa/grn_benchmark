{
 "cells": [
  {
   "cell_type": "markdown",
   "metadata": {},
   "source": [
    "# Stage 3: Regulatory inference\n",
    "\n",
    "In this tutorial, we will show how to conduct regulatory inference using GLUE feature embeddings. We continue with the previous example of scRNA-seq and scATAC-seq data integration.\n",
    "\n",
    "In this example, the GLUE-based regulatory inference is used to identify significant cis-regulatory regions (ATAC peaks) for each gene. We will also demonstrate how to build TF-target gene regulatory graph based on the GLUE-inferred cis-regulatory regions, using additional information about TF binding sites."
   ]
  },
  {
   "cell_type": "code",
   "execution_count": 3,
   "metadata": {},
   "outputs": [
    {
     "name": "stderr",
     "output_type": "stream",
     "text": [
      "/root/.local/lib/python3.10/site-packages/tqdm/auto.py:21: TqdmWarning: IProgress not found. Please update jupyter and ipywidgets. See https://ipywidgets.readthedocs.io/en/stable/user_install.html\n",
      "  from .autonotebook import tqdm as notebook_tqdm\n"
     ]
    }
   ],
   "source": [
    "import anndata as ad\n",
    "import networkx as nx\n",
    "import numpy as np\n",
    "import pandas as pd\n",
    "import scglue\n",
    "import seaborn as sns\n",
    "from IPython import display\n",
    "from matplotlib import rcParams\n",
    "from networkx.algorithms.bipartite import biadjacency_matrix\n",
    "from networkx.drawing.nx_agraph import graphviz_layout\n",
    "work_dir = '../../../output'"
   ]
  },
  {
   "cell_type": "code",
   "execution_count": 13,
   "metadata": {},
   "outputs": [],
   "source": [
    "scglue.plot.set_publication_params()\n",
    "rcParams['figure.figsize'] = (4, 4)"
   ]
  },
  {
   "cell_type": "markdown",
   "metadata": {},
   "source": [
    "## Read intermediate results\n",
    "\n",
    "First, read the intermediate results containing cell and feature embeddings from [stage 2](training.ipynb)."
   ]
  },
  {
   "cell_type": "code",
   "execution_count": 14,
   "metadata": {},
   "outputs": [],
   "source": [
    "rna = ad.read_h5ad(f\"{work_dir}/infer/scglue/rna-emb.h5ad\")\n",
    "atac = ad.read_h5ad(f\"{work_dir}/infer/scglue/atac-emb.h5ad\")\n",
    "guidance = nx.read_graphml(f\"{work_dir}/infer/scglue/guidance.graphml.gz\")"
   ]
  },
  {
   "cell_type": "markdown",
   "metadata": {},
   "source": [
    "We will be using genomic coordinates a lot in `BED` format. It is convenient to store the variable names as a \"name\" column."
   ]
  },
  {
   "cell_type": "code",
   "execution_count": 15,
   "metadata": {},
   "outputs": [],
   "source": [
    "rna.var[\"name\"] = rna.var_names\n",
    "atac.var[\"name\"] = atac.var_names"
   ]
  },
  {
   "cell_type": "markdown",
   "metadata": {},
   "source": [
    "Given that the GLUE model was trained on highly-variable features, regulatory inference will also be limited to these features. So, we extract the list of highly-variable features for future convenience."
   ]
  },
  {
   "cell_type": "code",
   "execution_count": 16,
   "metadata": {},
   "outputs": [],
   "source": [
    "genes = rna.var.index\n",
    "peaks = atac.var.index"
   ]
  },
  {
   "cell_type": "markdown",
   "metadata": {},
   "source": [
    "## Cis-regulatory inference with GLUE feature embeddings\n",
    "\n",
    "> (Estimated time: negligible)\n",
    "\n",
    "We first concatenate the feature indices and embeddings of the two modalities."
   ]
  },
  {
   "cell_type": "code",
   "execution_count": 17,
   "metadata": {},
   "outputs": [],
   "source": [
    "features = pd.Index(np.concatenate([rna.var_names, atac.var_names]))\n",
    "feature_embeddings = np.concatenate([rna.varm[\"X_glue\"], atac.varm[\"X_glue\"]])"
   ]
  },
  {
   "cell_type": "markdown",
   "metadata": {},
   "source": [
    "We would also need to extract a \"skeleton\" graph on which to conduct regulatory inference. The \"skeleton\" serves to limit the search space of potential regulatory pairs, which helps reduce false positives caused by spurious correlations.\n",
    "\n",
    "* The regulatory scores are defined as the cosine similarity between feature embeddings. As cosine similarities are symmetric, we only choose one direction between RNA genes and ATAC peaks to avoid repeated computation.\n",
    "* Self-loops are also ignored as self-regulation is not meaningfully modeled with the current model."
   ]
  },
  {
   "cell_type": "code",
   "execution_count": 18,
   "metadata": {},
   "outputs": [],
   "source": [
    "skeleton = guidance.edge_subgraph(\n",
    "    e for e, attr in dict(guidance.edges).items()\n",
    "    if attr[\"type\"] == \"fwd\"\n",
    ").copy()"
   ]
  },
  {
   "cell_type": "markdown",
   "metadata": {},
   "source": [
    "Regulatory inference can be conducted by using the [scglue.genomics.regulatory_inference](api/scglue.genomics.regulatory_inference.rst) function. The function takes feature indices and embeddings as input, together with the skeleton graph generated above.\n",
    "\n",
    "The resulting object is also a graph, with additional edge attributes:\n",
    "\n",
    "* `\"score\"`: Regulatory score between genomic features, defined as cosine similair between feature embeddings;\n",
    "* `\"pval\"`: *P*-value of the regulatory scores, obtained by comparing with a NULL distribution from shuffled feature embeddings;\n",
    "* `\"qval\"`: *Q*-value of the regulatory scores, obtained by FDR correction of the *P*-values."
   ]
  },
  {
   "cell_type": "code",
   "execution_count": 19,
   "metadata": {},
   "outputs": [
    {
     "name": "stderr",
     "output_type": "stream",
     "text": [
      "regulatory_inference: 100%|██████████| 95021/95021 [00:00<00:00, 121199.12it/s]\n"
     ]
    }
   ],
   "source": [
    "reginf = scglue.genomics.regulatory_inference(\n",
    "    features, feature_embeddings,\n",
    "    skeleton=skeleton, random_state=0\n",
    ")"
   ]
  },
  {
   "cell_type": "markdown",
   "metadata": {},
   "source": [
    "Significant regulatory connections can be extracted based on edge attribute (Q-value < 0.05)."
   ]
  },
  {
   "cell_type": "code",
   "execution_count": 20,
   "metadata": {},
   "outputs": [],
   "source": [
    "gene2peak = reginf.edge_subgraph(\n",
    "    e for e, attr in dict(reginf.edges).items()\n",
    "    if attr[\"qval\"] < 0.05\n",
    ")"
   ]
  },
  {
   "cell_type": "markdown",
   "metadata": {},
   "source": [
    "## Visualize the inferred cis-regulatory regions\n",
    "\n",
    "> (Estimated time: negligible)\n",
    "\n",
    "The inferred cis-regulatory connections can be visualized using [pyGenomeTracks](https://pygenometracks.readthedocs.io/en/latest/). You can install it via:\n",
    "\n",
    "```sh\n",
    "conda install -c bioconda pygenometracks\n",
    "```\n",
    "\n",
    "Before making the plot, we need to prepare input files for the `pygenometracks` CLI.\n",
    "\n",
    "Specifically, we save the ATAC peaks in BED format, and the inferred gene-peak connections in \"links\" format:"
   ]
  },
  {
   "cell_type": "code",
   "execution_count": 21,
   "metadata": {},
   "outputs": [],
   "source": [
    "scglue.genomics.Bed(atac.var).write_bed(f\"{work_dir}/infer/scglue/peaks.bed\", ncols=3)\n",
    "scglue.genomics.write_links(\n",
    "    gene2peak,\n",
    "    scglue.genomics.Bed(rna.var).strand_specific_start_site(),\n",
    "    scglue.genomics.Bed(atac.var),\n",
    "    f\"{work_dir}/infer/scglue/gene2peak.links\", keep_attrs=[\"score\"]\n",
    ")"
   ]
  },
  {
   "cell_type": "markdown",
   "metadata": {},
   "source": [
    "Then prepare a track configuration file like below (see their [documentation](https://pygenometracks.readthedocs.io/en/latest/content/all_tracks.html) for more details):"
   ]
  },
  {
   "cell_type": "code",
   "execution_count": 22,
   "metadata": {},
   "outputs": [],
   "source": [
    "# %%writefile tracks.ini\n",
    "\n",
    "# [Score]\n",
    "# file = gene2peak.links\n",
    "# title = Score\n",
    "# height = 2\n",
    "# color = YlGnBu\n",
    "# compact_arcs_level = 2\n",
    "# use_middle = True\n",
    "# file_type = links\n",
    "\n",
    "# [ATAC]\n",
    "# file = peaks.bed\n",
    "# title = ATAC\n",
    "# display = collapsed\n",
    "# border_color = none\n",
    "# labels = False\n",
    "# file_type = bed\n",
    "\n",
    "# [Genes]\n",
    "# file = gencode.vM25.chr_patch_hapl_scaff.annotation.gtf.gz\n",
    "# title = Genes\n",
    "# prefered_name = gene_name\n",
    "# height = 4\n",
    "# merge_transcripts = True\n",
    "# labels = True\n",
    "# max_labels = 100\n",
    "# all_labels_inside = True\n",
    "# style = UCSC\n",
    "# file_type = gtf\n",
    "\n",
    "# [x-axis]\n",
    "# fontsize = 12"
   ]
  },
  {
   "cell_type": "markdown",
   "metadata": {},
   "source": [
    "Finally, we can call `pygenometracks` CLI to visualizing the inferred cis-regulatory connections within a proper genomic range (e.g., an area surrounding the *Gad2* gene):"
   ]
  },
  {
   "cell_type": "code",
   "execution_count": 23,
   "metadata": {},
   "outputs": [],
   "source": [
    "# loc = rna.var.loc[\"Gad2\"]\n",
    "# chrom = loc[\"chrom\"]\n",
    "# chromLen = loc[\"chromEnd\"] - loc[\"chromStart\"]\n",
    "# chromStart = loc[\"chromStart\"] - chromLen\n",
    "# chromEnd = loc[\"chromEnd\"] + chromLen\n",
    "# !pyGenomeTracks --tracks tracks.ini \\\n",
    "#     --region {chrom}:{chromStart}-{chromEnd} \\\n",
    "#     --outFileName tracks.png 2> /dev/null\n",
    "# display.Image(\"tracks.png\")"
   ]
  },
  {
   "cell_type": "markdown",
   "metadata": {},
   "source": [
    "Note that in the tutorials, the guidance graph was constructed using only genomic overlap (see [Stage 1](preprocessing.ipynb#Graph-construction)), so the inferred regulatory connections are limited to the proximal promoter and gene body regions.\n",
    "\n",
    "In real-world analyses, it would be beneficial to extend the genomic range (e.g., 150kb around TSS with distance-decaying weight) or incorporate additional information like Hi-C and eQTL (see our [case study](https://github.com/gao-lab/GLUE/tree/master/experiments/RegInf/s01_preprocessing.py) for an example).\n",
    "\n",
    "## Construct TF-gene regulatory network from inferred cis-regulatory regions\n",
    "\n",
    "Next, we demonstrate how to further construct TF-gene regulatory graph by combining the GLUE-inferred regulatory regions and TF motif/ChIP-seq information. Specifically, the [SCENIC pipeline](https://doi.org/10.1038/nmeth.4463) pipeline is adopted with the following 3 steps:\n",
    "\n",
    "1. Generate a coexpression-based draft network using `GRNBoost2`;\n",
    "2. Generate gene-wise TF cis-regulatory ranking by combining cis-regulatory regions and TF motif/ChIP-seq data;\n",
    "3. Prune the coexpression-based draft network using the above cis-regulatory ranking with `cisTarget`.\n",
    "\n",
    "To install pyscenic, use the following commands:\n",
    "\n",
    "```sh\n",
    "conda install -c conda-forge pyarrow cytoolz\n",
    "pip install pyscenic\n",
    "```\n",
    "\n",
    "For human and mouse, the TF motif/ChIP-seq data used in the second step can be downloaded from here:\n",
    "\n",
    "JASPAR motif hits:\n",
    "\n",
    "* [http://download.gao-lab.org/GLUE/cisreg/JASPAR2022-hg19.bed.gz](http://download.gao-lab.org/GLUE/cisreg/JASPAR2022-hg19.bed.gz)\n",
    "* [http://download.gao-lab.org/GLUE/cisreg/JASPAR2022-hg38.bed.gz](http://download.gao-lab.org/GLUE/cisreg/JASPAR2022-hg38.bed.gz)\n",
    "* [http://download.gao-lab.org/GLUE/cisreg/JASPAR2022-mm9.bed.gz](http://download.gao-lab.org/GLUE/cisreg/JASPAR2022-mm9.bed.gz)\n",
    "* [http://download.gao-lab.org/GLUE/cisreg/JASPAR2022-mm10.bed.gz](http://download.gao-lab.org/GLUE/cisreg/JASPAR2022-mm10.bed.gz)\n",
    "\n",
    "ENCODE TF ChIP-seq:\n",
    "\n",
    "* [http://download.gao-lab.org/GLUE/cisreg/ENCODE-TF-ChIP-hg38.bed.gz](http://download.gao-lab.org/GLUE/cisreg/ENCODE-TF-ChIP-hg38.bed.gz)\n",
    "* [http://download.gao-lab.org/GLUE/cisreg/ENCODE-TF-ChIP-hg19.bed.gz](http://download.gao-lab.org/GLUE/cisreg/ENCODE-TF-ChIP-hg19.bed.gz)\n",
    "* [http://download.gao-lab.org/GLUE/cisreg/ENCODE-TF-ChIP-mm10.bed.gz](http://download.gao-lab.org/GLUE/cisreg/ENCODE-TF-ChIP-mm10.bed.gz)\n",
    "* [http://download.gao-lab.org/GLUE/cisreg/ENCODE-TF-ChIP-mm9.bed.gz](http://download.gao-lab.org/GLUE/cisreg/ENCODE-TF-ChIP-mm9.bed.gz)\n",
    "\n",
    "\n",
    "Also see [pySCENIC](https://pyscenic.readthedocs.io/en/latest/index.html) for the original pipeline.\n",
    "\n",
    "### Draft a coexpression-based network\n",
    "\n",
    "> (Estimated time: ~5 min)\n",
    "\n",
    "First, generate a list of eligible TFs. We use TFs covered in both the scRNA-seq dataset and TF motif/ChIP-seq data.\n",
    "\n",
    "As ENCODE ChIP-seq covers a very limited number of mouse TFs, we will be using JASPAR motif hits in this tutorial:"
   ]
  },
  {
   "cell_type": "code",
   "execution_count": 24,
   "metadata": {},
   "outputs": [
    {
     "data": {
      "text/html": [
       "<div>\n",
       "<style scoped>\n",
       "    .dataframe tbody tr th:only-of-type {\n",
       "        vertical-align: middle;\n",
       "    }\n",
       "\n",
       "    .dataframe tbody tr th {\n",
       "        vertical-align: top;\n",
       "    }\n",
       "\n",
       "    .dataframe thead th {\n",
       "        text-align: right;\n",
       "    }\n",
       "</style>\n",
       "<table border=\"1\" class=\"dataframe\">\n",
       "  <thead>\n",
       "    <tr style=\"text-align: right;\">\n",
       "      <th></th>\n",
       "      <th>chrom</th>\n",
       "      <th>chromStart</th>\n",
       "      <th>chromEnd</th>\n",
       "      <th>name</th>\n",
       "      <th>score</th>\n",
       "      <th>strand</th>\n",
       "      <th>thickStart</th>\n",
       "      <th>thickEnd</th>\n",
       "      <th>itemRgb</th>\n",
       "      <th>blockCount</th>\n",
       "      <th>blockSizes</th>\n",
       "      <th>blockStarts</th>\n",
       "    </tr>\n",
       "  </thead>\n",
       "  <tbody>\n",
       "    <tr>\n",
       "      <th>0</th>\n",
       "      <td>GL000008.2</td>\n",
       "      <td>38</td>\n",
       "      <td>48</td>\n",
       "      <td>SOX2</td>\n",
       "      <td>.</td>\n",
       "      <td>.</td>\n",
       "      <td>.</td>\n",
       "      <td>.</td>\n",
       "      <td>.</td>\n",
       "      <td>.</td>\n",
       "      <td>.</td>\n",
       "      <td>.</td>\n",
       "    </tr>\n",
       "    <tr>\n",
       "      <th>1</th>\n",
       "      <td>GL000008.2</td>\n",
       "      <td>327</td>\n",
       "      <td>344</td>\n",
       "      <td>ZNF684</td>\n",
       "      <td>.</td>\n",
       "      <td>.</td>\n",
       "      <td>.</td>\n",
       "      <td>.</td>\n",
       "      <td>.</td>\n",
       "      <td>.</td>\n",
       "      <td>.</td>\n",
       "      <td>.</td>\n",
       "    </tr>\n",
       "    <tr>\n",
       "      <th>2</th>\n",
       "      <td>GL000008.2</td>\n",
       "      <td>332</td>\n",
       "      <td>344</td>\n",
       "      <td>TEAD1</td>\n",
       "      <td>.</td>\n",
       "      <td>.</td>\n",
       "      <td>.</td>\n",
       "      <td>.</td>\n",
       "      <td>.</td>\n",
       "      <td>.</td>\n",
       "      <td>.</td>\n",
       "      <td>.</td>\n",
       "    </tr>\n",
       "    <tr>\n",
       "      <th>3</th>\n",
       "      <td>GL000008.2</td>\n",
       "      <td>332</td>\n",
       "      <td>344</td>\n",
       "      <td>TEAD2</td>\n",
       "      <td>.</td>\n",
       "      <td>.</td>\n",
       "      <td>.</td>\n",
       "      <td>.</td>\n",
       "      <td>.</td>\n",
       "      <td>.</td>\n",
       "      <td>.</td>\n",
       "      <td>.</td>\n",
       "    </tr>\n",
       "    <tr>\n",
       "      <th>4</th>\n",
       "      <td>GL000008.2</td>\n",
       "      <td>672</td>\n",
       "      <td>689</td>\n",
       "      <td>ZNF684</td>\n",
       "      <td>.</td>\n",
       "      <td>.</td>\n",
       "      <td>.</td>\n",
       "      <td>.</td>\n",
       "      <td>.</td>\n",
       "      <td>.</td>\n",
       "      <td>.</td>\n",
       "      <td>.</td>\n",
       "    </tr>\n",
       "  </tbody>\n",
       "</table>\n",
       "</div>"
      ],
      "text/plain": [
       "        chrom  chromStart  chromEnd    name score strand thickStart thickEnd  \\\n",
       "0  GL000008.2          38        48    SOX2     .      .          .        .   \n",
       "1  GL000008.2         327       344  ZNF684     .      .          .        .   \n",
       "2  GL000008.2         332       344   TEAD1     .      .          .        .   \n",
       "3  GL000008.2         332       344   TEAD2     .      .          .        .   \n",
       "4  GL000008.2         672       689  ZNF684     .      .          .        .   \n",
       "\n",
       "  itemRgb blockCount blockSizes blockStarts  \n",
       "0       .          .          .           .  \n",
       "1       .          .          .           .  \n",
       "2       .          .          .           .  \n",
       "3       .          .          .           .  \n",
       "4       .          .          .           .  "
      ]
     },
     "execution_count": 24,
     "metadata": {},
     "output_type": "execute_result"
    }
   ],
   "source": [
    "motif_bed = scglue.genomics.read_bed(f\"{work_dir}/JASPAR2022-hg38.bed.gz\")\n",
    "motif_bed.head()"
   ]
  },
  {
   "cell_type": "code",
   "execution_count": 25,
   "metadata": {},
   "outputs": [
    {
     "data": {
      "text/plain": [
       "441"
      ]
     },
     "execution_count": 25,
     "metadata": {},
     "output_type": "execute_result"
    }
   ],
   "source": [
    "tfs = pd.Index(motif_bed[\"name\"]).intersection(rna.var_names)\n",
    "tfs.size"
   ]
  },
  {
   "cell_type": "markdown",
   "metadata": {},
   "source": [
    "Since pySCENIC CLI uses `loom` files as input, we need to save the scRNA-seq data as a `loom` file (with only highly-variable genes and TFs). We also need to save the list of TFs as a separate `txt` file."
   ]
  },
  {
   "cell_type": "code",
   "execution_count": 26,
   "metadata": {},
   "outputs": [
    {
     "name": "stderr",
     "output_type": "stream",
     "text": [
      "The loom file will lack these fields:\n",
      "{'PCs', 'X_glue', 'X_pca', 'X_umap'}\n",
      "Use write_obsm_varm=True to export multi-dimensional annotations\n"
     ]
    }
   ],
   "source": [
    "rna[:, np.union1d(genes, tfs)].write_loom(f\"{work_dir}/infer/scglue/rna.loom\")\n",
    "np.savetxt(f\"{work_dir}/infer/scglue/tfs.txt\", tfs, fmt=\"%s\")"
   ]
  },
  {
   "cell_type": "code",
   "execution_count": 34,
   "metadata": {},
   "outputs": [
    {
     "name": "stdout",
     "output_type": "stream",
     "text": [
      "['artif_dupl', 'blockCount', 'blockSizes', 'blockStarts', 'chrom', 'chromEnd', 'chromStart', 'gene_id', 'gene_type', 'havana_gene', 'hgnc_id', 'highly_variable', 'highly_variable_rank', 'itemRgb', 'location', 'mean', 'means', 'name', 'score', 'std', 'strand', 'tag', 'thickEnd', 'thickStart', 'variances', 'variances_norm']\n",
      "['balancing_weight', 'cell_type', 'obs_id']\n"
     ]
    }
   ],
   "source": [
    "if True:\n",
    "    import loompy\n",
    "\n",
    "    # Open the Loom file\n",
    "    with loompy.connect(f\"{work_dir}/infer/scglue/rna.loom\") as ds:\n",
    "        print(ds.ra.keys())\n",
    "        print(ds.ca.keys())\n",
    "        gene_names = ds.ra['name']\n",
    "        gene_names\n",
    "        # expression_matrix = ds[:, :]  # Get the entire expression matrix"
   ]
  },
  {
   "cell_type": "code",
   "execution_count": 35,
   "metadata": {},
   "outputs": [
    {
     "data": {
      "text/plain": [
       "array(['A1BG', 'A1BG-AS1', 'A2M', ..., 'ZYG11B', 'ZYX', 'ZZEF1'],\n",
       "      dtype=object)"
      ]
     },
     "execution_count": 35,
     "metadata": {},
     "output_type": "execute_result"
    }
   ],
   "source": [
    "gene_names"
   ]
  },
  {
   "cell_type": "code",
   "execution_count": 37,
   "metadata": {},
   "outputs": [
    {
     "data": {
      "text/plain": [
       "(441,)"
      ]
     },
     "execution_count": 37,
     "metadata": {},
     "output_type": "execute_result"
    },
    {
     "ename": "",
     "evalue": "",
     "output_type": "error",
     "traceback": [
      "\u001b[1;31mThe Kernel crashed while executing code in the current cell or a previous cell. \n",
      "\u001b[1;31mPlease review the code in the cell(s) to identify a possible cause of the failure. \n",
      "\u001b[1;31mClick <a href='https://aka.ms/vscodeJupyterKernelCrash'>here</a> for more info. \n",
      "\u001b[1;31mView Jupyter <a href='command:jupyter.viewOutput'>log</a> for further details."
     ]
    }
   ],
   "source": [
    "tfs = np.loadtxt('../../../output/infer/scglue/tfs.txt', dtype=str)\n",
    "np.intersect1d(gene_names, tfs).shape\n",
    "# tfs.shape\n"
   ]
  },
  {
   "cell_type": "code",
   "execution_count": 29,
   "metadata": {},
   "outputs": [
    {
     "ename": "NameError",
     "evalue": "name 'aa' is not defined",
     "output_type": "error",
     "traceback": [
      "\u001b[0;31m---------------------------------------------------------------------------\u001b[0m",
      "\u001b[0;31mNameError\u001b[0m                                 Traceback (most recent call last)",
      "Cell \u001b[0;32mIn[29], line 1\u001b[0m\n\u001b[0;32m----> 1\u001b[0m \u001b[43maa\u001b[49m \u001b[38;5;66;03m# run the following from terminal in a seperate env \u001b[39;00m\n",
      "\u001b[0;31mNameError\u001b[0m: name 'aa' is not defined"
     ]
    }
   ],
   "source": [
    "aa # run the following from terminal in a seperate env "
   ]
  },
  {
   "cell_type": "markdown",
   "metadata": {},
   "source": [
    "Now use the command `pyscenic grn` to build a coexpression-based draft network."
   ]
  },
  {
   "cell_type": "code",
   "execution_count": null,
   "metadata": {},
   "outputs": [
    {
     "name": "stdout",
     "output_type": "stream",
     "text": [
      "/root/.local/lib/python3.10/site-packages/numba/np/ufunc/parallel.py:371: NumbaWarning: The TBB threading layer requires TBB version 2021 update 6 or later i.e., TBB_INTERFACE_VERSION >= 12060. Found TBB_INTERFACE_VERSION = 12050. The TBB threading layer is disabled.\n",
      "  warnings.warn(problem)\n",
      "\n",
      "2024-04-20 11:02:36,839 - pyscenic.cli.pyscenic - INFO - Loading expression matrix.\n",
      "\n",
      "2024-04-20 11:02:38,540 - pyscenic.cli.pyscenic - INFO - Inferring regulatory networks.\n",
      "/root/anaconda3/envs/py10/lib/python3.10/site-packages/distributed/node.py:182: UserWarning: Port 8787 is already in use.\n",
      "Perhaps you already have a cluster running?\n",
      "Hosting the HTTP server on port 44725 instead\n",
      "  warnings.warn(\n",
      "2024-04-20 11:02:40,059 - distributed.deploy.spec - WARNING - Cluster closed without starting up\n",
      "Traceback (most recent call last):\n",
      "  File \"/root/anaconda3/envs/py10/lib/python3.10/site-packages/distributed/deploy/spec.py\", line 324, in _start\n",
      "    self.scheduler = cls(**self.scheduler_spec.get(\"options\", {}))\n",
      "  File \"/root/anaconda3/envs/py10/lib/python3.10/site-packages/distributed/scheduler.py\", line 3660, in __init__\n",
      "    distributed.dashboard.scheduler.connect(\n",
      "  File \"/root/anaconda3/envs/py10/lib/python3.10/site-packages/distributed/dashboard/scheduler.py\", line 170, in connect\n",
      "    template_variables=template_variables(scheduler),\n",
      "  File \"cytoolz/functoolz.pyx\", line 489, in cytoolz.functoolz._memoize.__call__\n",
      "  File \"/root/anaconda3/envs/py10/lib/python3.10/site-packages/distributed/dashboard/scheduler.py\", line 135, in template_variables\n",
      "    *([\"gpu\"] if device_get_count() > 0 else []),\n",
      "  File \"/root/anaconda3/envs/py10/lib/python3.10/site-packages/distributed/diagnostics/nvml.py\", line 126, in device_get_count\n",
      "    init_once()\n",
      "  File \"/root/anaconda3/envs/py10/lib/python3.10/site-packages/distributed/diagnostics/nvml.py\", line 108, in init_once\n",
      "    pynvml.nvmlSystemGetDriverVersion().decode()\n",
      "AttributeError: 'str' object has no attribute 'decode'. Did you mean: 'encode'?\n",
      "\n",
      "The above exception was the direct cause of the following exception:\n",
      "\n",
      "Traceback (most recent call last):\n",
      "  File \"/root/anaconda3/envs/py10/bin/pyscenic\", line 8, in <module>\n",
      "    sys.exit(main())\n",
      "  File \"/root/anaconda3/envs/py10/lib/python3.10/site-packages/pyscenic/cli/pyscenic.py\", line 713, in main\n",
      "    args.func(args)\n",
      "  File \"/root/anaconda3/envs/py10/lib/python3.10/site-packages/pyscenic/cli/pyscenic.py\", line 91, in find_adjacencies_command\n",
      "    client, shutdown_callback = _prepare_client(\n",
      "  File \"/root/anaconda3/envs/py10/lib/python3.10/site-packages/pyscenic/prune.py\", line 64, in _prepare_client\n",
      "    local_cluster = LocalCluster(n_workers=num_workers, threads_per_worker=1)\n",
      "  File \"/root/anaconda3/envs/py10/lib/python3.10/site-packages/distributed/deploy/local.py\", line 253, in __init__\n",
      "    super().__init__(\n",
      "  File \"/root/anaconda3/envs/py10/lib/python3.10/site-packages/distributed/deploy/spec.py\", line 284, in __init__\n",
      "    self.sync(self._start)\n",
      "  File \"/root/anaconda3/envs/py10/lib/python3.10/site-packages/distributed/utils.py\", line 358, in sync\n",
      "    return sync(\n",
      "  File \"/root/anaconda3/envs/py10/lib/python3.10/site-packages/distributed/utils.py\", line 434, in sync\n",
      "    raise error\n",
      "  File \"/root/anaconda3/envs/py10/lib/python3.10/site-packages/distributed/utils.py\", line 408, in f\n",
      "    result = yield future\n",
      "  File \"/root/anaconda3/envs/py10/lib/python3.10/site-packages/tornado/gen.py\", line 767, in run\n",
      "    value = future.result()\n",
      "  File \"/root/anaconda3/envs/py10/lib/python3.10/site-packages/distributed/deploy/spec.py\", line 335, in _start\n",
      "    raise RuntimeError(f\"Cluster failed to start: {e}\") from e\n",
      "RuntimeError: Cluster failed to start: 'str' object has no attribute 'decode'\n"
     ]
    }
   ],
   "source": [
    "!pyscenic grn ../../../output/infer/scglue/rna.loom ../../../output/infer/scglue/tfs.txt \\\n",
    "    -o ../../../output/infer/scglue/draft_grn.csv --seed 0 --num_workers 20 \\\n",
    "    --cell_id_attribute obs_id --gene_attribute name"
   ]
  },
  {
   "cell_type": "code",
   "execution_count": null,
   "metadata": {},
   "outputs": [],
   "source": []
  },
  {
   "cell_type": "markdown",
   "metadata": {},
   "source": [
    "### Generate TF cis-regulatory ranking bridged by ATAC peaks\n",
    "\n",
    "> (Estimated time: ~1 h)\n",
    "\n",
    "We scan the genome with the [scglue.genomics.window_graph](api/scglue.genomics.window_graph.rst) function to connect ATAC peaks with TF motif hits based on genomic overlap. This will take some time (~1 hour)."
   ]
  },
  {
   "cell_type": "code",
   "execution_count": null,
   "metadata": {},
   "outputs": [
    {
     "name": "stderr",
     "output_type": "stream",
     "text": [
      "window_graph:   0%|          | 0/17887 [00:00<?, ?it/s]"
     ]
    },
    {
     "ename": "",
     "evalue": "",
     "output_type": "error",
     "traceback": [
      "\u001b[1;31mThe Kernel crashed while executing code in the current cell or a previous cell. \n",
      "\u001b[1;31mPlease review the code in the cell(s) to identify a possible cause of the failure. \n",
      "\u001b[1;31mClick <a href='https://aka.ms/vscodeJupyterKernelCrash'>here</a> for more info. \n",
      "\u001b[1;31mView Jupyter <a href='command:jupyter.viewOutput'>log</a> for further details."
     ]
    }
   ],
   "source": [
    "peak_bed = scglue.genomics.Bed(atac.var.loc[peaks])\n",
    "peak2tf = scglue.genomics.window_graph(peak_bed, motif_bed, 0, right_sorted=True)\n",
    "peak2tf = peak2tf.edge_subgraph(e for e in peak2tf.edges if e[1] in tfs)"
   ]
  },
  {
   "cell_type": "markdown",
   "metadata": {},
   "source": [
    "Given the GLUE-inferred gene-peak connections and motif-supported peak-TF connections, the ATAC peaks can serve as a bridge to help deduce gene-TF connections.\n",
    "\n",
    "Specifically, we can use the function [scglue.genomics.cis_regulatory_ranking](api/scglue.genomics.cis_regulatory_ranking.rst) to combine gene-peak and peak-TF connections into a gene-TF cis-regulatory ranking. Given that each gene can connect to a varying number of ATAC peaks with different lengths, the combined gene-TF connections are not directly comparable. As such, the function compares the observed connections with randomly sampled ones (stratified by peak length) to evaluate their levels of enrichment, which are then used to rank genes for each TF."
   ]
  },
  {
   "cell_type": "code",
   "execution_count": null,
   "metadata": {},
   "outputs": [
    {
     "name": "stderr",
     "output_type": "stream",
     "text": [
      "/rd2/user/caozj/GLUE/conda/lib/python3.8/site-packages/scglue/genomics.py:724: FutureWarning: biadjacency_matrix will return a scipy.sparse array instead of a matrix in NetworkX 3.0\n",
      "  gene2region = biadjacency_matrix(gene2region, genes, regions, dtype=np.int16, weight=None)\n",
      "/rd2/user/caozj/GLUE/conda/lib/python3.8/site-packages/scglue/genomics.py:725: FutureWarning: biadjacency_matrix will return a scipy.sparse array instead of a matrix in NetworkX 3.0\n",
      "  region2tf = biadjacency_matrix(region2tf, regions, tfs, dtype=np.int16, weight=None)\n"
     ]
    },
    {
     "data": {
      "application/vnd.jupyter.widget-view+json": {
       "model_id": "473544eb75564535acc1203fa9b3908c",
       "version_major": 2,
       "version_minor": 0
      },
      "text/plain": [
       "cis_reg_ranking.sampling:   0%|          | 0/2000 [00:00<?, ?it/s]"
      ]
     },
     "metadata": {},
     "output_type": "display_data"
    },
    {
     "data": {
      "application/vnd.jupyter.widget-view+json": {
       "model_id": "cdc11445d5dc4d2db67a769e593acba8",
       "version_major": 2,
       "version_minor": 0
      },
      "text/plain": [
       "cis_reg_ranking.mapping:   0%|          | 0/1000 [00:00<?, ?it/s]"
      ]
     },
     "metadata": {},
     "output_type": "display_data"
    },
    {
     "data": {
      "text/html": [
       "<div>\n",
       "<style scoped>\n",
       "    .dataframe tbody tr th:only-of-type {\n",
       "        vertical-align: middle;\n",
       "    }\n",
       "\n",
       "    .dataframe tbody tr th {\n",
       "        vertical-align: top;\n",
       "    }\n",
       "\n",
       "    .dataframe thead th {\n",
       "        text-align: right;\n",
       "    }\n",
       "</style>\n",
       "<table border=\"1\" class=\"dataframe\">\n",
       "  <thead>\n",
       "    <tr style=\"text-align: right;\">\n",
       "      <th></th>\n",
       "      <th>Zbtb6</th>\n",
       "      <th>Osr2</th>\n",
       "      <th>Pou2f3</th>\n",
       "      <th>Eomes</th>\n",
       "      <th>Tbr1</th>\n",
       "    </tr>\n",
       "    <tr>\n",
       "      <th>genes</th>\n",
       "      <th></th>\n",
       "      <th></th>\n",
       "      <th></th>\n",
       "      <th></th>\n",
       "      <th></th>\n",
       "    </tr>\n",
       "  </thead>\n",
       "  <tbody>\n",
       "    <tr>\n",
       "      <th>0610009B22Rik</th>\n",
       "      <td>1193.5</td>\n",
       "      <td>1211.0</td>\n",
       "      <td>1155.5</td>\n",
       "      <td>1115.5</td>\n",
       "      <td>1098.5</td>\n",
       "    </tr>\n",
       "    <tr>\n",
       "      <th>1110002J07Rik</th>\n",
       "      <td>1193.5</td>\n",
       "      <td>1211.0</td>\n",
       "      <td>1155.5</td>\n",
       "      <td>1115.5</td>\n",
       "      <td>1098.5</td>\n",
       "    </tr>\n",
       "    <tr>\n",
       "      <th>1110006O24Rik</th>\n",
       "      <td>1193.5</td>\n",
       "      <td>1211.0</td>\n",
       "      <td>1155.5</td>\n",
       "      <td>1115.5</td>\n",
       "      <td>1098.5</td>\n",
       "    </tr>\n",
       "    <tr>\n",
       "      <th>1110020A21Rik</th>\n",
       "      <td>1193.5</td>\n",
       "      <td>1211.0</td>\n",
       "      <td>1155.5</td>\n",
       "      <td>1115.5</td>\n",
       "      <td>1098.5</td>\n",
       "    </tr>\n",
       "    <tr>\n",
       "      <th>1110060G06Rik</th>\n",
       "      <td>1193.5</td>\n",
       "      <td>1211.0</td>\n",
       "      <td>1155.5</td>\n",
       "      <td>1115.5</td>\n",
       "      <td>1098.5</td>\n",
       "    </tr>\n",
       "  </tbody>\n",
       "</table>\n",
       "</div>"
      ],
      "text/plain": [
       "                Zbtb6    Osr2  Pou2f3   Eomes    Tbr1\n",
       "genes                                                \n",
       "0610009B22Rik  1193.5  1211.0  1155.5  1115.5  1098.5\n",
       "1110002J07Rik  1193.5  1211.0  1155.5  1115.5  1098.5\n",
       "1110006O24Rik  1193.5  1211.0  1155.5  1115.5  1098.5\n",
       "1110020A21Rik  1193.5  1211.0  1155.5  1115.5  1098.5\n",
       "1110060G06Rik  1193.5  1211.0  1155.5  1115.5  1098.5"
      ]
     },
     "execution_count": 18,
     "metadata": {},
     "output_type": "execute_result"
    }
   ],
   "source": [
    "gene2tf_rank_glue = scglue.genomics.cis_regulatory_ranking(\n",
    "    gene2peak, peak2tf, genes, peaks, tfs,\n",
    "    region_lens=atac.var.loc[peaks, \"chromEnd\"] - atac.var.loc[peaks, \"chromStart\"],\n",
    "    random_state=0\n",
    ")\n",
    "gene2tf_rank_glue.iloc[:5, :5]"
   ]
  },
  {
   "cell_type": "markdown",
   "metadata": {},
   "source": [
    "### Generate TF cis-regulatory ranking with proximal promoters (optional)\n",
    "\n",
    "> (Estimated time: ~1 h)\n",
    "\n",
    "One potential limitation of the above approach is that genes with no regulatory ATAC peaks identified would be left out. As a supplement, we can also use proximal promoter regions flanking the TSS to generate cis-regulatory ranking, as in the original pySCENIC pipeline.\n",
    "\n",
    "To do that we scan the genome again with the [scglue.genomics.window_graph](api/scglue.genomics.window_graph.rst) function to connect TSS flanking regions (-500 to +500bp) with TF motif hits based on genomic overlap. Here the flanking regions will be named after the corresponding genes in the resulting graph."
   ]
  },
  {
   "cell_type": "code",
   "execution_count": null,
   "metadata": {},
   "outputs": [
    {
     "data": {
      "application/vnd.jupyter.widget-view+json": {
       "model_id": "ea9f61995b1e4587975d264afe5e2bbb",
       "version_major": 2,
       "version_minor": 0
      },
      "text/plain": [
       "window_graph:   0%|          | 0/2000 [00:00<?, ?it/s]"
      ]
     },
     "metadata": {},
     "output_type": "display_data"
    }
   ],
   "source": [
    "flank_bed = scglue.genomics.Bed(rna.var.loc[genes]).strand_specific_start_site().expand(500, 500)\n",
    "flank2tf = scglue.genomics.window_graph(flank_bed, motif_bed, 0, right_sorted=True)"
   ]
  },
  {
   "cell_type": "markdown",
   "metadata": {},
   "source": [
    "Similar to the previous section, we use the [scglue.genomics.cis_regulatory_ranking](api/scglue.genomics.cis_regulatory_ranking.rst) function to generate a supplementary cis-regulatory ranking, with the following differences:\n",
    "\n",
    "* The gene-peak connection is replaced with a gene-flank connection, which is just a self-loop graph since each TSS flanking region have the same name as its corresponding gene;\n",
    "* Since each gene has exactly one flanking region with the same length, it is unnecessary to evaluate TF enrichment with stratified random sampling, so we set `n_samples=0` to disable the sampling process."
   ]
  },
  {
   "cell_type": "code",
   "execution_count": null,
   "metadata": {},
   "outputs": [
    {
     "name": "stderr",
     "output_type": "stream",
     "text": [
      "/rd2/user/caozj/GLUE/conda/lib/python3.8/site-packages/scglue/genomics.py:724: FutureWarning: biadjacency_matrix will return a scipy.sparse array instead of a matrix in NetworkX 3.0\n",
      "  gene2region = biadjacency_matrix(gene2region, genes, regions, dtype=np.int16, weight=None)\n",
      "/rd2/user/caozj/GLUE/conda/lib/python3.8/site-packages/scglue/genomics.py:725: FutureWarning: biadjacency_matrix will return a scipy.sparse array instead of a matrix in NetworkX 3.0\n",
      "  region2tf = biadjacency_matrix(region2tf, regions, tfs, dtype=np.int16, weight=None)\n"
     ]
    },
    {
     "data": {
      "text/html": [
       "<div>\n",
       "<style scoped>\n",
       "    .dataframe tbody tr th:only-of-type {\n",
       "        vertical-align: middle;\n",
       "    }\n",
       "\n",
       "    .dataframe tbody tr th {\n",
       "        vertical-align: top;\n",
       "    }\n",
       "\n",
       "    .dataframe thead th {\n",
       "        text-align: right;\n",
       "    }\n",
       "</style>\n",
       "<table border=\"1\" class=\"dataframe\">\n",
       "  <thead>\n",
       "    <tr style=\"text-align: right;\">\n",
       "      <th></th>\n",
       "      <th>Zbtb6</th>\n",
       "      <th>Osr2</th>\n",
       "      <th>Pou2f3</th>\n",
       "      <th>Eomes</th>\n",
       "      <th>Tbr1</th>\n",
       "    </tr>\n",
       "    <tr>\n",
       "      <th>genes</th>\n",
       "      <th></th>\n",
       "      <th></th>\n",
       "      <th></th>\n",
       "      <th></th>\n",
       "      <th></th>\n",
       "    </tr>\n",
       "  </thead>\n",
       "  <tbody>\n",
       "    <tr>\n",
       "      <th>0610009B22Rik</th>\n",
       "      <td>1087.5</td>\n",
       "      <td>1053.5</td>\n",
       "      <td>1026.0</td>\n",
       "      <td>1016.5</td>\n",
       "      <td>1018.5</td>\n",
       "    </tr>\n",
       "    <tr>\n",
       "      <th>1110002J07Rik</th>\n",
       "      <td>1087.5</td>\n",
       "      <td>1053.5</td>\n",
       "      <td>1026.0</td>\n",
       "      <td>1016.5</td>\n",
       "      <td>1018.5</td>\n",
       "    </tr>\n",
       "    <tr>\n",
       "      <th>1110006O24Rik</th>\n",
       "      <td>1087.5</td>\n",
       "      <td>1053.5</td>\n",
       "      <td>1026.0</td>\n",
       "      <td>1016.5</td>\n",
       "      <td>1018.5</td>\n",
       "    </tr>\n",
       "    <tr>\n",
       "      <th>1110020A21Rik</th>\n",
       "      <td>1087.5</td>\n",
       "      <td>1053.5</td>\n",
       "      <td>1026.0</td>\n",
       "      <td>1016.5</td>\n",
       "      <td>1018.5</td>\n",
       "    </tr>\n",
       "    <tr>\n",
       "      <th>1110060G06Rik</th>\n",
       "      <td>1087.5</td>\n",
       "      <td>1053.5</td>\n",
       "      <td>1026.0</td>\n",
       "      <td>1016.5</td>\n",
       "      <td>1018.5</td>\n",
       "    </tr>\n",
       "  </tbody>\n",
       "</table>\n",
       "</div>"
      ],
      "text/plain": [
       "                Zbtb6    Osr2  Pou2f3   Eomes    Tbr1\n",
       "genes                                                \n",
       "0610009B22Rik  1087.5  1053.5  1026.0  1016.5  1018.5\n",
       "1110002J07Rik  1087.5  1053.5  1026.0  1016.5  1018.5\n",
       "1110006O24Rik  1087.5  1053.5  1026.0  1016.5  1018.5\n",
       "1110020A21Rik  1087.5  1053.5  1026.0  1016.5  1018.5\n",
       "1110060G06Rik  1087.5  1053.5  1026.0  1016.5  1018.5"
      ]
     },
     "execution_count": 20,
     "metadata": {},
     "output_type": "execute_result"
    }
   ],
   "source": [
    "gene2flank = nx.Graph([(g, g) for g in genes])\n",
    "gene2tf_rank_supp = scglue.genomics.cis_regulatory_ranking(\n",
    "    gene2flank, flank2tf, genes, genes, tfs,\n",
    "    n_samples=0\n",
    ")\n",
    "gene2tf_rank_supp.iloc[:5, :5]"
   ]
  },
  {
   "cell_type": "markdown",
   "metadata": {},
   "source": [
    "### Prune coexpression network using cis-regulatory ranking\n",
    "\n",
    "> (Estimated time: ~5 min)\n",
    "\n",
    "For the final step, we will prune the coexpression-based draft network with these cis-regulatory rankings to preserve TF-gene connections with cis-regulatory evidence. To do that, we need to prepare the following files:\n",
    "\n",
    "* One or more `feather` files containing the cis-regulatory ranking;\n",
    "* A `tsv` annotation file mapping column names in the ranking files to TF names.\n",
    "\n",
    "Here we have two separate rankings (ATAC-based and promoter-based) with identical column names. We need to differentiate them by appending their information source."
   ]
  },
  {
   "cell_type": "code",
   "execution_count": null,
   "metadata": {},
   "outputs": [],
   "source": [
    "gene2tf_rank_glue.columns = gene2tf_rank_glue.columns + \"_glue\"\n",
    "gene2tf_rank_supp.columns = gene2tf_rank_supp.columns + \"_supp\""
   ]
  },
  {
   "cell_type": "markdown",
   "metadata": {},
   "source": [
    "We can use the [scglue.genomics.write_scenic_feather](api/scglue.genomics.write_scenic_feather.rst) function to save the cis-regulatory rankings as `feather` files compatible with `pySCENIC`."
   ]
  },
  {
   "cell_type": "code",
   "execution_count": null,
   "metadata": {},
   "outputs": [],
   "source": [
    "scglue.genomics.write_scenic_feather(gene2tf_rank_glue, \"glue.genes_vs_tracks.rankings.feather\")\n",
    "scglue.genomics.write_scenic_feather(gene2tf_rank_supp, \"supp.genes_vs_tracks.rankings.feather\")"
   ]
  },
  {
   "cell_type": "markdown",
   "metadata": {},
   "source": [
    "Then use the following format for the annotation file:"
   ]
  },
  {
   "cell_type": "code",
   "execution_count": null,
   "metadata": {},
   "outputs": [],
   "source": [
    "pd.concat([\n",
    "    pd.DataFrame({\n",
    "        \"#motif_id\": tfs + \"_glue\",\n",
    "        \"gene_name\": tfs\n",
    "    }),\n",
    "    pd.DataFrame({\n",
    "        \"#motif_id\": tfs + \"_supp\",\n",
    "        \"gene_name\": tfs\n",
    "    })\n",
    "]).assign(\n",
    "    motif_similarity_qvalue=0.0,\n",
    "    orthologous_identity=1.0,\n",
    "    description=\"placeholder\"\n",
    ").to_csv(\"ctx_annotation.tsv\", sep=\"\\t\", index=False)"
   ]
  },
  {
   "cell_type": "markdown",
   "metadata": {},
   "source": [
    "We are now ready to prune the coexpression network. This can be achieved using the pySCENIC command `pyscenic ctx` (here `rank_threshold` was scaled down according to the number of highly-variable genes):"
   ]
  },
  {
   "cell_type": "code",
   "execution_count": null,
   "metadata": {},
   "outputs": [
    {
     "name": "stdout",
     "output_type": "stream",
     "text": [
      "[########################################] | 100% Completed | 35.40 s\n",
      "\u001b[0m\u001b[0m\u001b[0m\u001b[0m\u001b[0m\u001b[0m\u001b[0m\u001b[0m\u001b[0m\u001b[0m\u001b[0m\u001b[0m\u001b[0m\u001b[0m\u001b[0m\u001b[0m\u001b[0m\u001b[0m\u001b[0m\u001b[0m\u001b[0m"
     ]
    }
   ],
   "source": [
    "!pyscenic ctx draft_grn.csv \\\n",
    "    glue.genes_vs_tracks.rankings.feather \\\n",
    "    supp.genes_vs_tracks.rankings.feather \\\n",
    "    --annotations_fname ctx_annotation.tsv \\\n",
    "    --expression_mtx_fname rna.loom \\\n",
    "    --output pruned_grn.csv \\\n",
    "    --rank_threshold 5000 --min_genes 1 \\\n",
    "    --num_workers 4 \\\n",
    "    --cell_id_attribute obs_id --gene_attribute name "
   ]
  },
  {
   "cell_type": "markdown",
   "metadata": {},
   "source": [
    "The resulting network can be read as a networkx graph using the [scglue.genomics.read_ctx_grn](api/scglue.genomics.read_ctx_grn.rst) function:"
   ]
  },
  {
   "cell_type": "code",
   "execution_count": 15,
   "metadata": {},
   "outputs": [],
   "source": [
    "# grn = scglue.genomics.read_ctx_grn(f\"{work_dir}/infer/scglue/pruned_grn.csv\")\n",
    "grn = pd.read_csv(f\"{work_dir}/infer/scglue/pruned_grn.csv\", header=1)"
   ]
  },
  {
   "cell_type": "code",
   "execution_count": 16,
   "metadata": {},
   "outputs": [
    {
     "data": {
      "text/html": [
       "<div>\n",
       "<style scoped>\n",
       "    .dataframe tbody tr th:only-of-type {\n",
       "        vertical-align: middle;\n",
       "    }\n",
       "\n",
       "    .dataframe tbody tr th {\n",
       "        vertical-align: top;\n",
       "    }\n",
       "\n",
       "    .dataframe thead th {\n",
       "        text-align: right;\n",
       "    }\n",
       "</style>\n",
       "<table border=\"1\" class=\"dataframe\">\n",
       "  <thead>\n",
       "    <tr style=\"text-align: right;\">\n",
       "      <th></th>\n",
       "      <th>Unnamed: 0</th>\n",
       "      <th>Unnamed: 1</th>\n",
       "      <th>AUC</th>\n",
       "      <th>NES</th>\n",
       "      <th>MotifSimilarityQvalue</th>\n",
       "      <th>OrthologousIdentity</th>\n",
       "      <th>Annotation</th>\n",
       "      <th>Context</th>\n",
       "      <th>TargetGenes</th>\n",
       "      <th>RankAtMax</th>\n",
       "    </tr>\n",
       "  </thead>\n",
       "  <tbody>\n",
       "    <tr>\n",
       "      <th>0</th>\n",
       "      <td>TF</td>\n",
       "      <td>MotifID</td>\n",
       "      <td>NaN</td>\n",
       "      <td>NaN</td>\n",
       "      <td>NaN</td>\n",
       "      <td>NaN</td>\n",
       "      <td>NaN</td>\n",
       "      <td>NaN</td>\n",
       "      <td>NaN</td>\n",
       "      <td>NaN</td>\n",
       "    </tr>\n",
       "    <tr>\n",
       "      <th>1</th>\n",
       "      <td>ELK4</td>\n",
       "      <td>ELK4_supp</td>\n",
       "      <td>0.268073</td>\n",
       "      <td>3.812123</td>\n",
       "      <td>0.0</td>\n",
       "      <td>1.0</td>\n",
       "      <td>placeholder</td>\n",
       "      <td>frozenset({'activating', 'weight&gt;75.0%', 'supp...</td>\n",
       "      <td>[('ZFY', 0.4727821096254552)]</td>\n",
       "      <td>138.0</td>\n",
       "    </tr>\n",
       "    <tr>\n",
       "      <th>2</th>\n",
       "      <td>HSF2</td>\n",
       "      <td>HSF2_supp</td>\n",
       "      <td>0.194900</td>\n",
       "      <td>3.196631</td>\n",
       "      <td>0.0</td>\n",
       "      <td>1.0</td>\n",
       "      <td>placeholder</td>\n",
       "      <td>frozenset({'activating', 'weight&gt;75.0%', 'supp...</td>\n",
       "      <td>[('LINC02213', 0.8014110923130583)]</td>\n",
       "      <td>145.0</td>\n",
       "    </tr>\n",
       "    <tr>\n",
       "      <th>3</th>\n",
       "      <td>IRF1</td>\n",
       "      <td>IRF1_supp</td>\n",
       "      <td>0.122208</td>\n",
       "      <td>4.760141</td>\n",
       "      <td>0.0</td>\n",
       "      <td>1.0</td>\n",
       "      <td>placeholder</td>\n",
       "      <td>frozenset({'activating', 'weight&gt;75.0%', 'supp...</td>\n",
       "      <td>[('EPSTI1', 0.7905147709698963), ('ENPP2', 0.7...</td>\n",
       "      <td>422.0</td>\n",
       "    </tr>\n",
       "    <tr>\n",
       "      <th>4</th>\n",
       "      <td>IRF2</td>\n",
       "      <td>IRF2_supp</td>\n",
       "      <td>0.179953</td>\n",
       "      <td>4.643432</td>\n",
       "      <td>0.0</td>\n",
       "      <td>1.0</td>\n",
       "      <td>placeholder</td>\n",
       "      <td>frozenset({'activating', 'weight&gt;75.0%', 'supp...</td>\n",
       "      <td>[('DDX60L', 0.4715270072577224)]</td>\n",
       "      <td>4.0</td>\n",
       "    </tr>\n",
       "    <tr>\n",
       "      <th>...</th>\n",
       "      <td>...</td>\n",
       "      <td>...</td>\n",
       "      <td>...</td>\n",
       "      <td>...</td>\n",
       "      <td>...</td>\n",
       "      <td>...</td>\n",
       "      <td>...</td>\n",
       "      <td>...</td>\n",
       "      <td>...</td>\n",
       "      <td>...</td>\n",
       "    </tr>\n",
       "    <tr>\n",
       "      <th>110</th>\n",
       "      <td>TP53</td>\n",
       "      <td>TP53_supp</td>\n",
       "      <td>0.221278</td>\n",
       "      <td>3.906244</td>\n",
       "      <td>0.0</td>\n",
       "      <td>1.0</td>\n",
       "      <td>placeholder</td>\n",
       "      <td>frozenset({'top50perTarget', 'activating', 'su...</td>\n",
       "      <td>[('MAMDC4', 0.0636308604876183)]</td>\n",
       "      <td>64.0</td>\n",
       "    </tr>\n",
       "    <tr>\n",
       "      <th>111</th>\n",
       "      <td>ZBTB12</td>\n",
       "      <td>ZBTB12_supp</td>\n",
       "      <td>0.054865</td>\n",
       "      <td>3.360100</td>\n",
       "      <td>0.0</td>\n",
       "      <td>1.0</td>\n",
       "      <td>placeholder</td>\n",
       "      <td>frozenset({'top50perTarget', 'activating', 'su...</td>\n",
       "      <td>[('ACOT4', 1.2884646995186948), ('LINC02365', ...</td>\n",
       "      <td>384.0</td>\n",
       "    </tr>\n",
       "    <tr>\n",
       "      <th>112</th>\n",
       "      <td>ZKSCAN1</td>\n",
       "      <td>ZKSCAN1_supp</td>\n",
       "      <td>0.147128</td>\n",
       "      <td>3.305044</td>\n",
       "      <td>0.0</td>\n",
       "      <td>1.0</td>\n",
       "      <td>placeholder</td>\n",
       "      <td>frozenset({'top50perTarget', 'activating', 'su...</td>\n",
       "      <td>[('KLF12', 0.0131502508954182)]</td>\n",
       "      <td>111.0</td>\n",
       "    </tr>\n",
       "    <tr>\n",
       "      <th>113</th>\n",
       "      <td>ZNF460</td>\n",
       "      <td>ZNF460_supp</td>\n",
       "      <td>0.108130</td>\n",
       "      <td>3.418723</td>\n",
       "      <td>0.0</td>\n",
       "      <td>1.0</td>\n",
       "      <td>placeholder</td>\n",
       "      <td>frozenset({'top50perTarget', 'activating', 'su...</td>\n",
       "      <td>[('LIPJ', 0.8116702784302919), ('IGKV3-11', 0....</td>\n",
       "      <td>142.0</td>\n",
       "    </tr>\n",
       "    <tr>\n",
       "      <th>114</th>\n",
       "      <td>ZNF680</td>\n",
       "      <td>ZNF680_supp</td>\n",
       "      <td>0.133859</td>\n",
       "      <td>3.336210</td>\n",
       "      <td>0.0</td>\n",
       "      <td>1.0</td>\n",
       "      <td>placeholder</td>\n",
       "      <td>frozenset({'top50perTarget', 'activating', 'su...</td>\n",
       "      <td>[('CAMK2B', 1.2156813972007663), ('ZNF680', 1.0)]</td>\n",
       "      <td>266.0</td>\n",
       "    </tr>\n",
       "  </tbody>\n",
       "</table>\n",
       "<p>115 rows × 10 columns</p>\n",
       "</div>"
      ],
      "text/plain": [
       "    Unnamed: 0    Unnamed: 1       AUC       NES  MotifSimilarityQvalue  \\\n",
       "0           TF       MotifID       NaN       NaN                    NaN   \n",
       "1         ELK4     ELK4_supp  0.268073  3.812123                    0.0   \n",
       "2         HSF2     HSF2_supp  0.194900  3.196631                    0.0   \n",
       "3         IRF1     IRF1_supp  0.122208  4.760141                    0.0   \n",
       "4         IRF2     IRF2_supp  0.179953  4.643432                    0.0   \n",
       "..         ...           ...       ...       ...                    ...   \n",
       "110       TP53     TP53_supp  0.221278  3.906244                    0.0   \n",
       "111     ZBTB12   ZBTB12_supp  0.054865  3.360100                    0.0   \n",
       "112    ZKSCAN1  ZKSCAN1_supp  0.147128  3.305044                    0.0   \n",
       "113     ZNF460   ZNF460_supp  0.108130  3.418723                    0.0   \n",
       "114     ZNF680   ZNF680_supp  0.133859  3.336210                    0.0   \n",
       "\n",
       "     OrthologousIdentity   Annotation  \\\n",
       "0                    NaN          NaN   \n",
       "1                    1.0  placeholder   \n",
       "2                    1.0  placeholder   \n",
       "3                    1.0  placeholder   \n",
       "4                    1.0  placeholder   \n",
       "..                   ...          ...   \n",
       "110                  1.0  placeholder   \n",
       "111                  1.0  placeholder   \n",
       "112                  1.0  placeholder   \n",
       "113                  1.0  placeholder   \n",
       "114                  1.0  placeholder   \n",
       "\n",
       "                                               Context  \\\n",
       "0                                                  NaN   \n",
       "1    frozenset({'activating', 'weight>75.0%', 'supp...   \n",
       "2    frozenset({'activating', 'weight>75.0%', 'supp...   \n",
       "3    frozenset({'activating', 'weight>75.0%', 'supp...   \n",
       "4    frozenset({'activating', 'weight>75.0%', 'supp...   \n",
       "..                                                 ...   \n",
       "110  frozenset({'top50perTarget', 'activating', 'su...   \n",
       "111  frozenset({'top50perTarget', 'activating', 'su...   \n",
       "112  frozenset({'top50perTarget', 'activating', 'su...   \n",
       "113  frozenset({'top50perTarget', 'activating', 'su...   \n",
       "114  frozenset({'top50perTarget', 'activating', 'su...   \n",
       "\n",
       "                                           TargetGenes  RankAtMax  \n",
       "0                                                  NaN        NaN  \n",
       "1                        [('ZFY', 0.4727821096254552)]      138.0  \n",
       "2                  [('LINC02213', 0.8014110923130583)]      145.0  \n",
       "3    [('EPSTI1', 0.7905147709698963), ('ENPP2', 0.7...      422.0  \n",
       "4                     [('DDX60L', 0.4715270072577224)]        4.0  \n",
       "..                                                 ...        ...  \n",
       "110                   [('MAMDC4', 0.0636308604876183)]       64.0  \n",
       "111  [('ACOT4', 1.2884646995186948), ('LINC02365', ...      384.0  \n",
       "112                    [('KLF12', 0.0131502508954182)]      111.0  \n",
       "113  [('LIPJ', 0.8116702784302919), ('IGKV3-11', 0....      142.0  \n",
       "114  [('CAMK2B', 1.2156813972007663), ('ZNF680', 1.0)]      266.0  \n",
       "\n",
       "[115 rows x 10 columns]"
      ]
     },
     "execution_count": 16,
     "metadata": {},
     "output_type": "execute_result"
    }
   ],
   "source": [
    "scglue"
   ]
  },
  {
   "cell_type": "markdown",
   "metadata": {},
   "source": [
    "## Visualize the inferred TF-target gene network\n",
    "\n",
    "> (Estimated time: negligible)\n",
    "\n",
    "The TF-target gene network can be visualized directly in networkx:"
   ]
  },
  {
   "cell_type": "code",
   "execution_count": 7,
   "metadata": {},
   "outputs": [
    {
     "ename": "ImportError",
     "evalue": "requires pygraphviz http://pygraphviz.github.io/",
     "output_type": "error",
     "traceback": [
      "\u001b[0;31m---------------------------------------------------------------------------\u001b[0m",
      "\u001b[0;31mModuleNotFoundError\u001b[0m                       Traceback (most recent call last)",
      "File \u001b[0;32m~/anaconda3/envs/py10/lib/python3.10/site-packages/networkx/drawing/nx_agraph.py:302\u001b[0m, in \u001b[0;36mpygraphviz_layout\u001b[0;34m(G, prog, root, args)\u001b[0m\n\u001b[1;32m    301\u001b[0m \u001b[38;5;28;01mtry\u001b[39;00m:\n\u001b[0;32m--> 302\u001b[0m     \u001b[38;5;28;01mimport\u001b[39;00m \u001b[38;5;21;01mpygraphviz\u001b[39;00m\n\u001b[1;32m    303\u001b[0m \u001b[38;5;28;01mexcept\u001b[39;00m \u001b[38;5;167;01mImportError\u001b[39;00m \u001b[38;5;28;01mas\u001b[39;00m err:\n",
      "\u001b[0;31mModuleNotFoundError\u001b[0m: No module named 'pygraphviz'",
      "\nThe above exception was the direct cause of the following exception:\n",
      "\u001b[0;31mImportError\u001b[0m                               Traceback (most recent call last)",
      "Cell \u001b[0;32mIn[7], line 2\u001b[0m\n\u001b[1;32m      1\u001b[0m rcParams[\u001b[38;5;124m'\u001b[39m\u001b[38;5;124mfigure.figsize\u001b[39m\u001b[38;5;124m'\u001b[39m] \u001b[38;5;241m=\u001b[39m (\u001b[38;5;241m10\u001b[39m, \u001b[38;5;241m10\u001b[39m)\n\u001b[0;32m----> 2\u001b[0m nx\u001b[38;5;241m.\u001b[39mdraw(grn, \u001b[43mgraphviz_layout\u001b[49m\u001b[43m(\u001b[49m\u001b[43mgrn\u001b[49m\u001b[43m)\u001b[49m, with_labels\u001b[38;5;241m=\u001b[39m\u001b[38;5;28;01mTrue\u001b[39;00m)\n",
      "File \u001b[0;32m~/anaconda3/envs/py10/lib/python3.10/site-packages/networkx/drawing/nx_agraph.py:258\u001b[0m, in \u001b[0;36mgraphviz_layout\u001b[0;34m(G, prog, root, args)\u001b[0m\n\u001b[1;32m    227\u001b[0m \u001b[38;5;28;01mdef\u001b[39;00m \u001b[38;5;21mgraphviz_layout\u001b[39m(G, prog\u001b[38;5;241m=\u001b[39m\u001b[38;5;124m\"\u001b[39m\u001b[38;5;124mneato\u001b[39m\u001b[38;5;124m\"\u001b[39m, root\u001b[38;5;241m=\u001b[39m\u001b[38;5;28;01mNone\u001b[39;00m, args\u001b[38;5;241m=\u001b[39m\u001b[38;5;124m\"\u001b[39m\u001b[38;5;124m\"\u001b[39m):\n\u001b[1;32m    228\u001b[0m \u001b[38;5;250m    \u001b[39m\u001b[38;5;124;03m\"\"\"Create node positions for G using Graphviz.\u001b[39;00m\n\u001b[1;32m    229\u001b[0m \n\u001b[1;32m    230\u001b[0m \u001b[38;5;124;03m    Parameters\u001b[39;00m\n\u001b[0;32m   (...)\u001b[0m\n\u001b[1;32m    256\u001b[0m \u001b[38;5;124;03m    see https://gitlab.com/graphviz/graphviz/-/issues/1767 for more info.\u001b[39;00m\n\u001b[1;32m    257\u001b[0m \u001b[38;5;124;03m    \"\"\"\u001b[39;00m\n\u001b[0;32m--> 258\u001b[0m     \u001b[38;5;28;01mreturn\u001b[39;00m \u001b[43mpygraphviz_layout\u001b[49m\u001b[43m(\u001b[49m\u001b[43mG\u001b[49m\u001b[43m,\u001b[49m\u001b[43m \u001b[49m\u001b[43mprog\u001b[49m\u001b[38;5;241;43m=\u001b[39;49m\u001b[43mprog\u001b[49m\u001b[43m,\u001b[49m\u001b[43m \u001b[49m\u001b[43mroot\u001b[49m\u001b[38;5;241;43m=\u001b[39;49m\u001b[43mroot\u001b[49m\u001b[43m,\u001b[49m\u001b[43m \u001b[49m\u001b[43margs\u001b[49m\u001b[38;5;241;43m=\u001b[39;49m\u001b[43margs\u001b[49m\u001b[43m)\u001b[49m\n",
      "File \u001b[0;32m~/anaconda3/envs/py10/lib/python3.10/site-packages/networkx/drawing/nx_agraph.py:304\u001b[0m, in \u001b[0;36mpygraphviz_layout\u001b[0;34m(G, prog, root, args)\u001b[0m\n\u001b[1;32m    302\u001b[0m     \u001b[38;5;28;01mimport\u001b[39;00m \u001b[38;5;21;01mpygraphviz\u001b[39;00m\n\u001b[1;32m    303\u001b[0m \u001b[38;5;28;01mexcept\u001b[39;00m \u001b[38;5;167;01mImportError\u001b[39;00m \u001b[38;5;28;01mas\u001b[39;00m err:\n\u001b[0;32m--> 304\u001b[0m     \u001b[38;5;28;01mraise\u001b[39;00m \u001b[38;5;167;01mImportError\u001b[39;00m(\u001b[38;5;124m\"\u001b[39m\u001b[38;5;124mrequires pygraphviz http://pygraphviz.github.io/\u001b[39m\u001b[38;5;124m\"\u001b[39m) \u001b[38;5;28;01mfrom\u001b[39;00m \u001b[38;5;21;01merr\u001b[39;00m\n\u001b[1;32m    305\u001b[0m \u001b[38;5;28;01mif\u001b[39;00m root \u001b[38;5;129;01mis\u001b[39;00m \u001b[38;5;129;01mnot\u001b[39;00m \u001b[38;5;28;01mNone\u001b[39;00m:\n\u001b[1;32m    306\u001b[0m     args \u001b[38;5;241m+\u001b[39m\u001b[38;5;241m=\u001b[39m \u001b[38;5;124mf\u001b[39m\u001b[38;5;124m\"\u001b[39m\u001b[38;5;124m-Groot=\u001b[39m\u001b[38;5;132;01m{\u001b[39;00mroot\u001b[38;5;132;01m}\u001b[39;00m\u001b[38;5;124m\"\u001b[39m\n",
      "\u001b[0;31mImportError\u001b[0m: requires pygraphviz http://pygraphviz.github.io/"
     ]
    }
   ],
   "source": [
    "rcParams['figure.figsize'] = (10, 10)\n",
    "nx.draw(grn, graphviz_layout(grn), with_labels=True)"
   ]
  },
  {
   "cell_type": "markdown",
   "metadata": {},
   "source": [
    "You may also export the graph (e.g., in `graphml` format) to other softwares like [Cytoscape](https://cytoscape.org/) and [Gephi](https://gephi.org/) for more customization."
   ]
  },
  {
   "cell_type": "code",
   "execution_count": null,
   "metadata": {},
   "outputs": [],
   "source": [
    "nx.write_graphml(grn, \"pruned_grn.graphml.gz\")"
   ]
  },
  {
   "cell_type": "markdown",
   "metadata": {},
   "source": [
    "Note that the network inferred here is rather limited in size and connectivity. In real-world data analyses, we recommend:\n",
    "\n",
    "1. Extending the genomic range (e.g., 150kb around TSS with distance-decaying weight) and incorporate additional information like Hi-C and eQTL (see our [case study](https://github.com/gao-lab/GLUE/tree/master/experiments/RegInf/s01_preprocessing.py)) when building the guidance graph;\n",
    "2. Increase the number of highly-variable genes (e.g., to 4000 or 6000) to incorporate more genes into the analysis."
   ]
  }
 ],
 "metadata": {
  "interpreter": {
   "hash": "4179030222e8644492e27e9b93d575ff6d6692f4d5cceb1215f5529802563224"
  },
  "kernelspec": {
   "display_name": "Python 3 (ipykernel)",
   "language": "python",
   "name": "python3"
  },
  "language_info": {
   "codemirror_mode": {
    "name": "ipython",
    "version": 3
   },
   "file_extension": ".py",
   "mimetype": "text/x-python",
   "name": "python",
   "nbconvert_exporter": "python",
   "pygments_lexer": "ipython3",
   "version": "3.10.14"
  },
  "toc-autonumbering": true
 },
 "nbformat": 4,
 "nbformat_minor": 4
}
