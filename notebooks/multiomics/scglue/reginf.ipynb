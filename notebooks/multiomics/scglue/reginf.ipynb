{
 "cells": [
  {
   "cell_type": "markdown",
   "metadata": {},
   "source": [
    "## Stage 3: Regulatory inference\n",
    "\n",
    "In this tutorial, we will show how to conduct regulatory inference using GLUE feature embeddings. We continue with the previous example of scRNA-seq and scATAC-seq data integration.\n",
    "\n",
    "In this example, the GLUE-based regulatory inference is used to identify significant cis-regulatory regions (ATAC peaks) for each gene. We will also demonstrate how to build TF-target gene regulatory graph based on the GLUE-inferred cis-regulatory regions, using additional information about TF binding sites."
   ]
  },
  {
   "cell_type": "markdown",
   "metadata": {},
   "source": [
    "## inputs"
   ]
  },
  {
   "cell_type": "code",
   "execution_count": 5,
   "metadata": {},
   "outputs": [],
   "source": [
    "import anndata as ad\n",
    "import networkx as nx\n",
    "import numpy as np\n",
    "import pandas as pd\n",
    "import scglue\n",
    "import seaborn as sns\n",
    "from IPython import display\n",
    "from matplotlib import rcParams\n",
    "from networkx.algorithms.bipartite import biadjacency_matrix\n",
    "from networkx.drawing.nx_agraph import graphviz_layout\n",
    "work_dir = '../../../output'"
   ]
  },
  {
   "cell_type": "code",
   "execution_count": 13,
   "metadata": {},
   "outputs": [],
   "source": [
    "scglue.plot.set_publication_params()\n",
    "rcParams['figure.figsize'] = (4, 4)"
   ]
  },
  {
   "cell_type": "markdown",
   "metadata": {},
   "source": [
    "## Read intermediate results\n",
    "\n",
    "First, read the intermediate results containing cell and feature embeddings from [stage 2](training.ipynb)."
   ]
  },
  {
   "cell_type": "code",
   "execution_count": 2,
   "metadata": {},
   "outputs": [],
   "source": [
    "rna = ad.read_h5ad(f\"{work_dir}/infer/scglue/rna-emb.h5ad\")\n",
    "atac = ad.read_h5ad(f\"{work_dir}/infer/scglue/atac-emb.h5ad\")\n",
    "guidance = nx.read_graphml(f\"{work_dir}/infer/scglue/guidance.graphml.gz\")"
   ]
  },
  {
   "cell_type": "markdown",
   "metadata": {},
   "source": [
    "We will be using genomic coordinates a lot in `BED` format. It is convenient to store the variable names as a \"name\" column."
   ]
  },
  {
   "cell_type": "code",
   "execution_count": 3,
   "metadata": {},
   "outputs": [],
   "source": [
    "rna.var[\"name\"] = rna.var_names\n",
    "atac.var[\"name\"] = atac.var_names"
   ]
  },
  {
   "cell_type": "markdown",
   "metadata": {},
   "source": [
    "Given that the GLUE model was trained on highly-variable features, regulatory inference will also be limited to these features. So, we extract the list of highly-variable features for future convenience."
   ]
  },
  {
   "cell_type": "code",
   "execution_count": 4,
   "metadata": {},
   "outputs": [],
   "source": [
    "genes = rna.var.index\n",
    "peaks = atac.var.index"
   ]
  },
  {
   "cell_type": "code",
   "execution_count": 5,
   "metadata": {},
   "outputs": [
    {
     "data": {
      "text/plain": [
       "(135358,)"
      ]
     },
     "execution_count": 5,
     "metadata": {},
     "output_type": "execute_result"
    }
   ],
   "source": [
    "peaks.shape"
   ]
  },
  {
   "cell_type": "code",
   "execution_count": 6,
   "metadata": {},
   "outputs": [
    {
     "ename": "NameError",
     "evalue": "name 'aa' is not defined",
     "output_type": "error",
     "traceback": [
      "\u001b[0;31m---------------------------------------------------------------------------\u001b[0m",
      "\u001b[0;31mNameError\u001b[0m                                 Traceback (most recent call last)",
      "Cell \u001b[0;32mIn[6], line 1\u001b[0m\n\u001b[0;32m----> 1\u001b[0m \u001b[43maa\u001b[49m\n",
      "\u001b[0;31mNameError\u001b[0m: name 'aa' is not defined"
     ]
    }
   ],
   "source": [
    "aa"
   ]
  },
  {
   "cell_type": "markdown",
   "metadata": {},
   "source": [
    "## Cis-regulatory inference with GLUE feature embeddings\n",
    "\n",
    "> (Estimated time: negligible)\n",
    "\n",
    "We first concatenate the feature indices and embeddings of the two modalities."
   ]
  },
  {
   "cell_type": "code",
   "execution_count": 15,
   "metadata": {},
   "outputs": [],
   "source": [
    "features = pd.Index(np.concatenate([rna.var_names, atac.var_names]))\n",
    "feature_embeddings = np.concatenate([rna.varm[\"X_glue\"], atac.varm[\"X_glue\"]])"
   ]
  },
  {
   "cell_type": "markdown",
   "metadata": {},
   "source": [
    "We would also need to extract a \"skeleton\" graph on which to conduct regulatory inference. The \"skeleton\" serves to limit the search space of potential regulatory pairs, which helps reduce false positives caused by spurious correlations.\n",
    "\n",
    "* The regulatory scores are defined as the cosine similarity between feature embeddings. As cosine similarities are symmetric, we only choose one direction between RNA genes and ATAC peaks to avoid repeated computation.\n",
    "* Self-loops are also ignored as self-regulation is not meaningfully modeled with the current model."
   ]
  },
  {
   "cell_type": "code",
   "execution_count": 16,
   "metadata": {},
   "outputs": [],
   "source": [
    "skeleton = guidance.edge_subgraph(\n",
    "    e for e, attr in dict(guidance.edges).items()\n",
    "    if attr[\"type\"] == \"fwd\"\n",
    ").copy()"
   ]
  },
  {
   "cell_type": "markdown",
   "metadata": {},
   "source": [
    "Regulatory inference can be conducted by using the [scglue.genomics.regulatory_inference](api/scglue.genomics.regulatory_inference.rst) function. The function takes feature indices and embeddings as input, together with the skeleton graph generated above.\n",
    "\n",
    "The resulting object is also a graph, with additional edge attributes:\n",
    "\n",
    "* `\"score\"`: Regulatory score between genomic features, defined as cosine similair between feature embeddings;\n",
    "* `\"pval\"`: *P*-value of the regulatory scores, obtained by comparing with a NULL distribution from shuffled feature embeddings;\n",
    "* `\"qval\"`: *Q*-value of the regulatory scores, obtained by FDR correction of the *P*-values."
   ]
  },
  {
   "cell_type": "code",
   "execution_count": 17,
   "metadata": {},
   "outputs": [
    {
     "name": "stderr",
     "output_type": "stream",
     "text": [
      "regulatory_inference: 100%|██████████| 95021/95021 [00:00<00:00, 115014.96it/s]\n"
     ]
    }
   ],
   "source": [
    "reginf = scglue.genomics.regulatory_inference(\n",
    "    features, feature_embeddings,\n",
    "    skeleton=skeleton, random_state=0\n",
    ")"
   ]
  },
  {
   "cell_type": "markdown",
   "metadata": {},
   "source": [
    "Significant regulatory connections can be extracted based on edge attribute (Q-value < 0.05)."
   ]
  },
  {
   "cell_type": "code",
   "execution_count": 18,
   "metadata": {},
   "outputs": [],
   "source": [
    "gene2peak = reginf.edge_subgraph(\n",
    "    e for e, attr in dict(reginf.edges).items()\n",
    "    if attr[\"qval\"] < 0.05\n",
    ")"
   ]
  },
  {
   "cell_type": "markdown",
   "metadata": {},
   "source": [
    "## Visualize the inferred cis-regulatory regions\n",
    "\n",
    "> (Estimated time: negligible)\n",
    "\n",
    "The inferred cis-regulatory connections can be visualized using [pyGenomeTracks](https://pygenometracks.readthedocs.io/en/latest/). You can install it via:\n",
    "\n",
    "```sh\n",
    "conda install -c bioconda pygenometracks\n",
    "```\n",
    "\n",
    "Before making the plot, we need to prepare input files for the `pygenometracks` CLI.\n",
    "\n",
    "Specifically, we save the ATAC peaks in BED format, and the inferred gene-peak connections in \"links\" format:"
   ]
  },
  {
   "cell_type": "code",
   "execution_count": null,
   "metadata": {},
   "outputs": [],
   "source": [
    "scglue.genomics.Bed(atac.var).write_bed(f\"{work_dir}/infer/scglue/peaks.bed\", ncols=3)\n",
    "scglue.genomics.write_links(\n",
    "    gene2peak,\n",
    "    scglue.genomics.Bed(rna.var).strand_specific_start_site(),\n",
    "    scglue.genomics.Bed(atac.var),\n",
    "    f\"{work_dir}/infer/scglue/gene2peak.links\", keep_attrs=[\"score\"]\n",
    ")"
   ]
  },
  {
   "cell_type": "code",
   "execution_count": null,
   "metadata": {},
   "outputs": [],
   "source": [
    "from scglue.genomics import read_ctx_grn\n",
    "from ast import literal_eval\n",
    "from functools import reduce\n",
    "import pandas as pd\n",
    "\n",
    "df = pd.read_csv(\n",
    "    f\"{work_dir}/infer/scglue/gene2peak.links\", sep='\\t',  header=None, skiprows=0\n",
    ")\n",
    "df['gene'] = df.apply(lambda row:'-'.join(map(str, row[0:3])), axis=1)\n",
    "df['peak'] = df.apply(lambda row:'-'.join(map(str, row[3:6])), axis=1)\n",
    "df = df[['peak','gene']]"
   ]
  },
  {
   "cell_type": "code",
   "execution_count": null,
   "metadata": {},
   "outputs": [
    {
     "data": {
      "text/html": [
       "<div>\n",
       "<style scoped>\n",
       "    .dataframe tbody tr th:only-of-type {\n",
       "        vertical-align: middle;\n",
       "    }\n",
       "\n",
       "    .dataframe tbody tr th {\n",
       "        vertical-align: top;\n",
       "    }\n",
       "\n",
       "    .dataframe thead th {\n",
       "        text-align: right;\n",
       "    }\n",
       "</style>\n",
       "<table border=\"1\" class=\"dataframe\">\n",
       "  <thead>\n",
       "    <tr style=\"text-align: right;\">\n",
       "      <th></th>\n",
       "      <th>peak</th>\n",
       "      <th>gene</th>\n",
       "    </tr>\n",
       "  </thead>\n",
       "  <tbody>\n",
       "    <tr>\n",
       "      <th>0</th>\n",
       "      <td>chr1-778292-779204</td>\n",
       "      <td>chr1-778746-778747</td>\n",
       "    </tr>\n",
       "    <tr>\n",
       "      <th>1</th>\n",
       "      <td>chr1-822873-823635</td>\n",
       "      <td>chr1-825137-825138</td>\n",
       "    </tr>\n",
       "    <tr>\n",
       "      <th>2</th>\n",
       "      <td>chr1-825292-826033</td>\n",
       "      <td>chr1-825137-825138</td>\n",
       "    </tr>\n",
       "    <tr>\n",
       "      <th>3</th>\n",
       "      <td>chr1-827076-827959</td>\n",
       "      <td>chr1-825137-825138</td>\n",
       "    </tr>\n",
       "    <tr>\n",
       "      <th>4</th>\n",
       "      <td>chr1-837612-838149</td>\n",
       "      <td>chr1-825137-825138</td>\n",
       "    </tr>\n",
       "    <tr>\n",
       "      <th>...</th>\n",
       "      <td>...</td>\n",
       "      <td>...</td>\n",
       "    </tr>\n",
       "    <tr>\n",
       "      <th>94453</th>\n",
       "      <td>chrY-20558402-20559294</td>\n",
       "      <td>chrY-20575518-20575519</td>\n",
       "    </tr>\n",
       "    <tr>\n",
       "      <th>94454</th>\n",
       "      <td>chrY-20573112-20573918</td>\n",
       "      <td>chrY-20575518-20575519</td>\n",
       "    </tr>\n",
       "    <tr>\n",
       "      <th>94455</th>\n",
       "      <td>chrY-20575222-20576136</td>\n",
       "      <td>chrY-20575518-20575519</td>\n",
       "    </tr>\n",
       "    <tr>\n",
       "      <th>94456</th>\n",
       "      <td>chrY-20573112-20573918</td>\n",
       "      <td>chrY-20575775-20575776</td>\n",
       "    </tr>\n",
       "    <tr>\n",
       "      <th>94457</th>\n",
       "      <td>chrY-20575222-20576136</td>\n",
       "      <td>chrY-20575775-20575776</td>\n",
       "    </tr>\n",
       "  </tbody>\n",
       "</table>\n",
       "<p>94458 rows × 2 columns</p>\n",
       "</div>"
      ],
      "text/plain": [
       "                         peak                    gene\n",
       "0          chr1-778292-779204      chr1-778746-778747\n",
       "1          chr1-822873-823635      chr1-825137-825138\n",
       "2          chr1-825292-826033      chr1-825137-825138\n",
       "3          chr1-827076-827959      chr1-825137-825138\n",
       "4          chr1-837612-838149      chr1-825137-825138\n",
       "...                       ...                     ...\n",
       "94453  chrY-20558402-20559294  chrY-20575518-20575519\n",
       "94454  chrY-20573112-20573918  chrY-20575518-20575519\n",
       "94455  chrY-20575222-20576136  chrY-20575518-20575519\n",
       "94456  chrY-20573112-20573918  chrY-20575775-20575776\n",
       "94457  chrY-20575222-20576136  chrY-20575775-20575776\n",
       "\n",
       "[94458 rows x 2 columns]"
      ]
     },
     "execution_count": 30,
     "metadata": {},
     "output_type": "execute_result"
    }
   ],
   "source": [
    "df"
   ]
  },
  {
   "cell_type": "markdown",
   "metadata": {},
   "source": [
    "Then prepare a track configuration file like below (see their [documentation](https://pygenometracks.readthedocs.io/en/latest/content/all_tracks.html) for more details):"
   ]
  },
  {
   "cell_type": "code",
   "execution_count": null,
   "metadata": {},
   "outputs": [],
   "source": [
    "# %%writefile tracks.ini\n",
    "\n",
    "# [Score]\n",
    "# file = gene2peak.links\n",
    "# title = Score\n",
    "# height = 2\n",
    "# color = YlGnBu\n",
    "# compact_arcs_level = 2\n",
    "# use_middle = True\n",
    "# file_type = links\n",
    "\n",
    "# [ATAC]\n",
    "# file = peaks.bed\n",
    "# title = ATAC\n",
    "# display = collapsed\n",
    "# border_color = none\n",
    "# labels = False\n",
    "# file_type = bed\n",
    "\n",
    "# [Genes]\n",
    "# file = gencode.vM25.chr_patch_hapl_scaff.annotation.gtf.gz\n",
    "# title = Genes\n",
    "# prefered_name = gene_name\n",
    "# height = 4\n",
    "# merge_transcripts = True\n",
    "# labels = True\n",
    "# max_labels = 100\n",
    "# all_labels_inside = True\n",
    "# style = UCSC\n",
    "# file_type = gtf\n",
    "\n",
    "# [x-axis]\n",
    "# fontsize = 12"
   ]
  },
  {
   "cell_type": "markdown",
   "metadata": {},
   "source": [
    "Finally, we can call `pygenometracks` CLI to visualizing the inferred cis-regulatory connections within a proper genomic range (e.g., an area surrounding the *Gad2* gene):"
   ]
  },
  {
   "cell_type": "code",
   "execution_count": null,
   "metadata": {},
   "outputs": [],
   "source": [
    "# loc = rna.var.loc[\"Gad2\"]\n",
    "# chrom = loc[\"chrom\"]\n",
    "# chromLen = loc[\"chromEnd\"] - loc[\"chromStart\"]\n",
    "# chromStart = loc[\"chromStart\"] - chromLen\n",
    "# chromEnd = loc[\"chromEnd\"] + chromLen\n",
    "# !pyGenomeTracks --tracks tracks.ini \\\n",
    "#     --region {chrom}:{chromStart}-{chromEnd} \\\n",
    "#     --outFileName tracks.png 2> /dev/null\n",
    "# display.Image(\"tracks.png\")"
   ]
  },
  {
   "cell_type": "markdown",
   "metadata": {},
   "source": [
    "Note that in the tutorials, the guidance graph was constructed using only genomic overlap (see [Stage 1](preprocessing.ipynb#Graph-construction)), so the inferred regulatory connections are limited to the proximal promoter and gene body regions.\n",
    "\n",
    "In real-world analyses, it would be beneficial to extend the genomic range (e.g., 150kb around TSS with distance-decaying weight) or incorporate additional information like Hi-C and eQTL (see our [case study](https://github.com/gao-lab/GLUE/tree/master/experiments/RegInf/s01_preprocessing.py) for an example).\n",
    "\n",
    "## Construct TF-gene regulatory network from inferred cis-regulatory regions\n",
    "\n",
    "Next, we demonstrate how to further construct TF-gene regulatory graph by combining the GLUE-inferred regulatory regions and TF motif/ChIP-seq information. Specifically, the [SCENIC pipeline](https://doi.org/10.1038/nmeth.4463) pipeline is adopted with the following 3 steps:\n",
    "\n",
    "1. Generate a coexpression-based draft network using `GRNBoost2`;\n",
    "2. Generate gene-wise TF cis-regulatory ranking by combining cis-regulatory regions and TF motif/ChIP-seq data;\n",
    "3. Prune the coexpression-based draft network using the above cis-regulatory ranking with `cisTarget`.\n",
    "\n",
    "To install pyscenic, use the following commands:\n",
    "\n",
    "```sh\n",
    "conda install -c conda-forge pyarrow cytoolz\n",
    "pip install pyscenic\n",
    "```\n",
    "\n",
    "For human and mouse, the TF motif/ChIP-seq data used in the second step can be downloaded from here:\n",
    "\n",
    "JASPAR motif hits:\n",
    "\n",
    "* [http://download.gao-lab.org/GLUE/cisreg/JASPAR2022-hg19.bed.gz](http://download.gao-lab.org/GLUE/cisreg/JASPAR2022-hg19.bed.gz)\n",
    "* [http://download.gao-lab.org/GLUE/cisreg/JASPAR2022-hg38.bed.gz](http://download.gao-lab.org/GLUE/cisreg/JASPAR2022-hg38.bed.gz)\n",
    "* [http://download.gao-lab.org/GLUE/cisreg/JASPAR2022-mm9.bed.gz](http://download.gao-lab.org/GLUE/cisreg/JASPAR2022-mm9.bed.gz)\n",
    "* [http://download.gao-lab.org/GLUE/cisreg/JASPAR2022-mm10.bed.gz](http://download.gao-lab.org/GLUE/cisreg/JASPAR2022-mm10.bed.gz)\n",
    "\n",
    "ENCODE TF ChIP-seq:\n",
    "\n",
    "* [http://download.gao-lab.org/GLUE/cisreg/ENCODE-TF-ChIP-hg38.bed.gz](http://download.gao-lab.org/GLUE/cisreg/ENCODE-TF-ChIP-hg38.bed.gz)\n",
    "* [http://download.gao-lab.org/GLUE/cisreg/ENCODE-TF-ChIP-hg19.bed.gz](http://download.gao-lab.org/GLUE/cisreg/ENCODE-TF-ChIP-hg19.bed.gz)\n",
    "* [http://download.gao-lab.org/GLUE/cisreg/ENCODE-TF-ChIP-mm10.bed.gz](http://download.gao-lab.org/GLUE/cisreg/ENCODE-TF-ChIP-mm10.bed.gz)\n",
    "* [http://download.gao-lab.org/GLUE/cisreg/ENCODE-TF-ChIP-mm9.bed.gz](http://download.gao-lab.org/GLUE/cisreg/ENCODE-TF-ChIP-mm9.bed.gz)\n",
    "\n",
    "\n",
    "Also see [pySCENIC](https://pyscenic.readthedocs.io/en/latest/index.html) for the original pipeline.\n",
    "\n",
    "### Draft a coexpression-based network\n",
    "\n",
    "> (Estimated time: ~5 min)\n",
    "\n",
    "First, generate a list of eligible TFs. We use TFs covered in both the scRNA-seq dataset and TF motif/ChIP-seq data.\n",
    "\n",
    "As ENCODE ChIP-seq covers a very limited number of mouse TFs, we will be using JASPAR motif hits in this tutorial:"
   ]
  },
  {
   "cell_type": "code",
   "execution_count": 8,
   "metadata": {},
   "outputs": [
    {
     "data": {
      "text/html": [
       "<div>\n",
       "<style scoped>\n",
       "    .dataframe tbody tr th:only-of-type {\n",
       "        vertical-align: middle;\n",
       "    }\n",
       "\n",
       "    .dataframe tbody tr th {\n",
       "        vertical-align: top;\n",
       "    }\n",
       "\n",
       "    .dataframe thead th {\n",
       "        text-align: right;\n",
       "    }\n",
       "</style>\n",
       "<table border=\"1\" class=\"dataframe\">\n",
       "  <thead>\n",
       "    <tr style=\"text-align: right;\">\n",
       "      <th></th>\n",
       "      <th>chrom</th>\n",
       "      <th>chromStart</th>\n",
       "      <th>chromEnd</th>\n",
       "      <th>name</th>\n",
       "      <th>score</th>\n",
       "      <th>strand</th>\n",
       "      <th>thickStart</th>\n",
       "      <th>thickEnd</th>\n",
       "      <th>itemRgb</th>\n",
       "      <th>blockCount</th>\n",
       "      <th>blockSizes</th>\n",
       "      <th>blockStarts</th>\n",
       "    </tr>\n",
       "  </thead>\n",
       "  <tbody>\n",
       "    <tr>\n",
       "      <th>0</th>\n",
       "      <td>GL000008.2</td>\n",
       "      <td>38</td>\n",
       "      <td>48</td>\n",
       "      <td>SOX2</td>\n",
       "      <td>.</td>\n",
       "      <td>.</td>\n",
       "      <td>.</td>\n",
       "      <td>.</td>\n",
       "      <td>.</td>\n",
       "      <td>.</td>\n",
       "      <td>.</td>\n",
       "      <td>.</td>\n",
       "    </tr>\n",
       "    <tr>\n",
       "      <th>1</th>\n",
       "      <td>GL000008.2</td>\n",
       "      <td>327</td>\n",
       "      <td>344</td>\n",
       "      <td>ZNF684</td>\n",
       "      <td>.</td>\n",
       "      <td>.</td>\n",
       "      <td>.</td>\n",
       "      <td>.</td>\n",
       "      <td>.</td>\n",
       "      <td>.</td>\n",
       "      <td>.</td>\n",
       "      <td>.</td>\n",
       "    </tr>\n",
       "    <tr>\n",
       "      <th>2</th>\n",
       "      <td>GL000008.2</td>\n",
       "      <td>332</td>\n",
       "      <td>344</td>\n",
       "      <td>TEAD1</td>\n",
       "      <td>.</td>\n",
       "      <td>.</td>\n",
       "      <td>.</td>\n",
       "      <td>.</td>\n",
       "      <td>.</td>\n",
       "      <td>.</td>\n",
       "      <td>.</td>\n",
       "      <td>.</td>\n",
       "    </tr>\n",
       "    <tr>\n",
       "      <th>3</th>\n",
       "      <td>GL000008.2</td>\n",
       "      <td>332</td>\n",
       "      <td>344</td>\n",
       "      <td>TEAD2</td>\n",
       "      <td>.</td>\n",
       "      <td>.</td>\n",
       "      <td>.</td>\n",
       "      <td>.</td>\n",
       "      <td>.</td>\n",
       "      <td>.</td>\n",
       "      <td>.</td>\n",
       "      <td>.</td>\n",
       "    </tr>\n",
       "    <tr>\n",
       "      <th>4</th>\n",
       "      <td>GL000008.2</td>\n",
       "      <td>672</td>\n",
       "      <td>689</td>\n",
       "      <td>ZNF684</td>\n",
       "      <td>.</td>\n",
       "      <td>.</td>\n",
       "      <td>.</td>\n",
       "      <td>.</td>\n",
       "      <td>.</td>\n",
       "      <td>.</td>\n",
       "      <td>.</td>\n",
       "      <td>.</td>\n",
       "    </tr>\n",
       "  </tbody>\n",
       "</table>\n",
       "</div>"
      ],
      "text/plain": [
       "        chrom  chromStart  chromEnd    name score strand thickStart thickEnd  \\\n",
       "0  GL000008.2          38        48    SOX2     .      .          .        .   \n",
       "1  GL000008.2         327       344  ZNF684     .      .          .        .   \n",
       "2  GL000008.2         332       344   TEAD1     .      .          .        .   \n",
       "3  GL000008.2         332       344   TEAD2     .      .          .        .   \n",
       "4  GL000008.2         672       689  ZNF684     .      .          .        .   \n",
       "\n",
       "  itemRgb blockCount blockSizes blockStarts  \n",
       "0       .          .          .           .  \n",
       "1       .          .          .           .  \n",
       "2       .          .          .           .  \n",
       "3       .          .          .           .  \n",
       "4       .          .          .           .  "
      ]
     },
     "execution_count": 8,
     "metadata": {},
     "output_type": "execute_result"
    }
   ],
   "source": [
    "motif_bed = scglue.genomics.read_bed(f\"{work_dir}/JASPAR2022-hg38.bed.gz\")\n",
    "motif_bed.head()"
   ]
  },
  {
   "cell_type": "code",
   "execution_count": null,
   "metadata": {},
   "outputs": [
    {
     "data": {
      "text/plain": [
       "(634,)"
      ]
     },
     "execution_count": 36,
     "metadata": {},
     "output_type": "execute_result"
    }
   ],
   "source": [
    "motif_bed.name.unique().shape"
   ]
  },
  {
   "cell_type": "code",
   "execution_count": 9,
   "metadata": {},
   "outputs": [
    {
     "data": {
      "text/plain": [
       "441"
      ]
     },
     "execution_count": 9,
     "metadata": {},
     "output_type": "execute_result"
    }
   ],
   "source": [
    "tfs = pd.Index(motif_bed[\"name\"]).intersection(rna.var_names)\n",
    "tfs.size"
   ]
  },
  {
   "cell_type": "markdown",
   "metadata": {},
   "source": [
    "Since pySCENIC CLI uses `loom` files as input, we need to save the scRNA-seq data as a `loom` file (with only highly-variable genes and TFs). We also need to save the list of TFs as a separate `txt` file."
   ]
  },
  {
   "cell_type": "code",
   "execution_count": null,
   "metadata": {},
   "outputs": [
    {
     "name": "stderr",
     "output_type": "stream",
     "text": [
      "The loom file will lack these fields:\n",
      "{'PCs', 'X_glue', 'X_pca', 'X_umap'}\n",
      "Use write_obsm_varm=True to export multi-dimensional annotations\n"
     ]
    }
   ],
   "source": [
    "rna[:, np.union1d(genes, tfs)].write_loom(f\"{work_dir}/infer/scglue/rna.loom\")\n",
    "np.savetxt(f\"{work_dir}/infer/scglue/tfs.txt\", tfs, fmt=\"%s\")"
   ]
  },
  {
   "cell_type": "code",
   "execution_count": null,
   "metadata": {},
   "outputs": [
    {
     "name": "stdout",
     "output_type": "stream",
     "text": [
      "['artif_dupl', 'blockCount', 'blockSizes', 'blockStarts', 'chrom', 'chromEnd', 'chromStart', 'gene_id', 'gene_type', 'havana_gene', 'hgnc_id', 'highly_variable', 'highly_variable_rank', 'itemRgb', 'location', 'mean', 'means', 'name', 'score', 'std', 'strand', 'tag', 'thickEnd', 'thickStart', 'variances', 'variances_norm']\n",
      "['balancing_weight', 'cell_type', 'obs_id']\n"
     ]
    }
   ],
   "source": [
    "if True:\n",
    "    import loompy\n",
    "\n",
    "    # Open the Loom file\n",
    "    with loompy.connect(f\"{work_dir}/infer/scglue/rna.loom\") as ds:\n",
    "        print(ds.ra.keys())\n",
    "        print(ds.ca.keys())\n",
    "        gene_names = ds.ra['name']\n",
    "        gene_names\n",
    "        # expression_matrix = ds[:, :]  # Get the entire expression matrix"
   ]
  },
  {
   "cell_type": "code",
   "execution_count": null,
   "metadata": {},
   "outputs": [
    {
     "ename": "NameError",
     "evalue": "name 'aa' is not defined",
     "output_type": "error",
     "traceback": [
      "\u001b[0;31m---------------------------------------------------------------------------\u001b[0m",
      "\u001b[0;31mNameError\u001b[0m                                 Traceback (most recent call last)",
      "Cell \u001b[0;32mIn[29], line 1\u001b[0m\n\u001b[0;32m----> 1\u001b[0m \u001b[43maa\u001b[49m \u001b[38;5;66;03m# run the following from terminal in a seperate env \u001b[39;00m\n",
      "\u001b[0;31mNameError\u001b[0m: name 'aa' is not defined"
     ]
    }
   ],
   "source": [
    "aa # run the following from terminal in a seperate env "
   ]
  },
  {
   "cell_type": "markdown",
   "metadata": {},
   "source": [
    "Now use the command `pyscenic grn` to build a coexpression-based draft network."
   ]
  },
  {
   "cell_type": "code",
   "execution_count": null,
   "metadata": {},
   "outputs": [],
   "source": [
    "!pyscenic grn ../../../output/infer/scglue/rna.loom ../../../output/infer/scglue/tfs.txt \\\n",
    "    -o ../../../output/infer/scglue/draft_grn.csv --seed 0 --num_workers 20 \\\n",
    "    --cell_id_attribute obs_id --gene_attribute name"
   ]
  },
  {
   "cell_type": "code",
   "execution_count": null,
   "metadata": {},
   "outputs": [
    {
     "data": {
      "text/html": [
       "<div>\n",
       "<style scoped>\n",
       "    .dataframe tbody tr th:only-of-type {\n",
       "        vertical-align: middle;\n",
       "    }\n",
       "\n",
       "    .dataframe tbody tr th {\n",
       "        vertical-align: top;\n",
       "    }\n",
       "\n",
       "    .dataframe thead th {\n",
       "        text-align: right;\n",
       "    }\n",
       "</style>\n",
       "<table border=\"1\" class=\"dataframe\">\n",
       "  <thead>\n",
       "    <tr style=\"text-align: right;\">\n",
       "      <th></th>\n",
       "      <th>TF</th>\n",
       "      <th>target</th>\n",
       "      <th>importance</th>\n",
       "    </tr>\n",
       "  </thead>\n",
       "  <tbody>\n",
       "    <tr>\n",
       "      <th>0</th>\n",
       "      <td>EBF1</td>\n",
       "      <td>AFF3</td>\n",
       "      <td>3.091653e+01</td>\n",
       "    </tr>\n",
       "    <tr>\n",
       "      <th>1</th>\n",
       "      <td>MITF</td>\n",
       "      <td>CYBB</td>\n",
       "      <td>2.830844e+01</td>\n",
       "    </tr>\n",
       "    <tr>\n",
       "      <th>2</th>\n",
       "      <td>RORA</td>\n",
       "      <td>CD96</td>\n",
       "      <td>2.702984e+01</td>\n",
       "    </tr>\n",
       "    <tr>\n",
       "      <th>3</th>\n",
       "      <td>TCF7</td>\n",
       "      <td>ANK3</td>\n",
       "      <td>2.698522e+01</td>\n",
       "    </tr>\n",
       "    <tr>\n",
       "      <th>4</th>\n",
       "      <td>LEF1</td>\n",
       "      <td>CAMK4</td>\n",
       "      <td>2.541232e+01</td>\n",
       "    </tr>\n",
       "    <tr>\n",
       "      <th>...</th>\n",
       "      <td>...</td>\n",
       "      <td>...</td>\n",
       "      <td>...</td>\n",
       "    </tr>\n",
       "    <tr>\n",
       "      <th>1265951</th>\n",
       "      <td>NR2C2</td>\n",
       "      <td>VWC2</td>\n",
       "      <td>1.645437e-19</td>\n",
       "    </tr>\n",
       "    <tr>\n",
       "      <th>1265952</th>\n",
       "      <td>ELF2</td>\n",
       "      <td>SGIP1</td>\n",
       "      <td>1.584049e-19</td>\n",
       "    </tr>\n",
       "    <tr>\n",
       "      <th>1265953</th>\n",
       "      <td>ZBTB26</td>\n",
       "      <td>SYNPR</td>\n",
       "      <td>1.557584e-19</td>\n",
       "    </tr>\n",
       "    <tr>\n",
       "      <th>1265954</th>\n",
       "      <td>TCF7</td>\n",
       "      <td>CDH9</td>\n",
       "      <td>1.548399e-19</td>\n",
       "    </tr>\n",
       "    <tr>\n",
       "      <th>1265955</th>\n",
       "      <td>FAR1</td>\n",
       "      <td>ADH4</td>\n",
       "      <td>1.373373e-19</td>\n",
       "    </tr>\n",
       "  </tbody>\n",
       "</table>\n",
       "<p>1265956 rows × 3 columns</p>\n",
       "</div>"
      ],
      "text/plain": [
       "             TF target    importance\n",
       "0          EBF1   AFF3  3.091653e+01\n",
       "1          MITF   CYBB  2.830844e+01\n",
       "2          RORA   CD96  2.702984e+01\n",
       "3          TCF7   ANK3  2.698522e+01\n",
       "4          LEF1  CAMK4  2.541232e+01\n",
       "...         ...    ...           ...\n",
       "1265951   NR2C2   VWC2  1.645437e-19\n",
       "1265952    ELF2  SGIP1  1.584049e-19\n",
       "1265953  ZBTB26  SYNPR  1.557584e-19\n",
       "1265954    TCF7   CDH9  1.548399e-19\n",
       "1265955    FAR1   ADH4  1.373373e-19\n",
       "\n",
       "[1265956 rows x 3 columns]"
      ]
     },
     "execution_count": 37,
     "metadata": {},
     "output_type": "execute_result"
    }
   ],
   "source": [
    "pd.read_csv(f\"{work_dir}/output/infer/scglue/draft_grn.csv\")"
   ]
  },
  {
   "cell_type": "markdown",
   "metadata": {},
   "source": [
    "### Generate TF cis-regulatory ranking bridged by ATAC peaks\n",
    "\n",
    "> (Estimated time: ~1 h)\n",
    "\n",
    "We scan the genome with the [scglue.genomics.window_graph](api/scglue.genomics.window_graph.rst) function to connect ATAC peaks with TF motif hits based on genomic overlap. This will take some time (~1 hour)."
   ]
  },
  {
   "cell_type": "code",
   "execution_count": 10,
   "metadata": {},
   "outputs": [
    {
     "name": "stderr",
     "output_type": "stream",
     "text": [
      "window_graph: 100%|██████████| 135358/135358 [47:30<00:00, 47.48it/s]  \n"
     ]
    }
   ],
   "source": [
    "peak_bed = scglue.genomics.Bed(atac.var.loc[peaks])\n",
    "peak2tf = scglue.genomics.window_graph(peak_bed, motif_bed, 0, right_sorted=True)\n",
    "peak2tf = peak2tf.edge_subgraph(e for e in peak2tf.edges if e[1] in tfs)"
   ]
  },
  {
   "cell_type": "code",
   "execution_count": null,
   "metadata": {},
   "outputs": [],
   "source": [
    "adj_matrix = nx.to_pandas_edgelist(peak2tf)\n",
    "adj_matrix.to_csv(f\"{work_dir}/infer/scglue/adj_matrix.csv\")"
   ]
  },
  {
   "cell_type": "markdown",
   "metadata": {},
   "source": [
    "Given the GLUE-inferred gene-peak connections and motif-supported peak-TF connections, the ATAC peaks can serve as a bridge to help deduce gene-TF connections.\n",
    "\n",
    "Specifically, we can use the function [scglue.genomics.cis_regulatory_ranking](api/scglue.genomics.cis_regulatory_ranking.rst) to combine gene-peak and peak-TF connections into a gene-TF cis-regulatory ranking. Given that each gene can connect to a varying number of ATAC peaks with different lengths, the combined gene-TF connections are not directly comparable. As such, the function compares the observed connections with randomly sampled ones (stratified by peak length) to evaluate their levels of enrichment, which are then used to rank genes for each TF."
   ]
  },
  {
   "cell_type": "code",
   "execution_count": 19,
   "metadata": {},
   "outputs": [
    {
     "name": "stderr",
     "output_type": "stream",
     "text": [
      "cis_reg_ranking.sampling:   0%|          | 0/17069 [00:00<?, ?it/s]/root/anaconda3/envs/py10/lib/python3.10/site-packages/scglue/genomics.py:767: FutureWarning: Series.__getitem__ treating keys as positions is deprecated. In a future version, integer keys will always be treated as labels (consistent with DataFrame behavior). To access a value by position, use `ser.iloc[pos]`\n",
      "  rs.choice(region_bins_lut[region_bins[c_]], n_samples, replace=True)\n",
      "cis_reg_ranking.sampling: 100%|██████████| 17069/17069 [00:03<00:00, 4318.28it/s]\n",
      "cis_reg_ranking.mapping: 100%|██████████| 1000/1000 [02:09<00:00,  7.70it/s]\n"
     ]
    },
    {
     "data": {
      "text/html": [
       "<div>\n",
       "<style scoped>\n",
       "    .dataframe tbody tr th:only-of-type {\n",
       "        vertical-align: middle;\n",
       "    }\n",
       "\n",
       "    .dataframe tbody tr th {\n",
       "        vertical-align: top;\n",
       "    }\n",
       "\n",
       "    .dataframe thead th {\n",
       "        text-align: right;\n",
       "    }\n",
       "</style>\n",
       "<table border=\"1\" class=\"dataframe\">\n",
       "  <thead>\n",
       "    <tr style=\"text-align: right;\">\n",
       "      <th></th>\n",
       "      <th>ZNF684</th>\n",
       "      <th>TEAD1</th>\n",
       "      <th>TEAD2</th>\n",
       "      <th>KLF15</th>\n",
       "      <th>ZNF140</th>\n",
       "    </tr>\n",
       "    <tr>\n",
       "      <th>location</th>\n",
       "      <th></th>\n",
       "      <th></th>\n",
       "      <th></th>\n",
       "      <th></th>\n",
       "      <th></th>\n",
       "    </tr>\n",
       "  </thead>\n",
       "  <tbody>\n",
       "    <tr>\n",
       "      <th>A1BG</th>\n",
       "      <td>9957.5</td>\n",
       "      <td>9738.0</td>\n",
       "      <td>9522.0</td>\n",
       "      <td>3523.0</td>\n",
       "      <td>10221.5</td>\n",
       "    </tr>\n",
       "    <tr>\n",
       "      <th>A1BG-AS1</th>\n",
       "      <td>9957.5</td>\n",
       "      <td>9738.0</td>\n",
       "      <td>9522.0</td>\n",
       "      <td>3061.5</td>\n",
       "      <td>10221.5</td>\n",
       "    </tr>\n",
       "    <tr>\n",
       "      <th>A2M</th>\n",
       "      <td>9957.5</td>\n",
       "      <td>611.0</td>\n",
       "      <td>254.0</td>\n",
       "      <td>15513.5</td>\n",
       "      <td>10221.5</td>\n",
       "    </tr>\n",
       "    <tr>\n",
       "      <th>A2M-AS1</th>\n",
       "      <td>9957.5</td>\n",
       "      <td>9738.0</td>\n",
       "      <td>9522.0</td>\n",
       "      <td>3751.0</td>\n",
       "      <td>10221.5</td>\n",
       "    </tr>\n",
       "    <tr>\n",
       "      <th>A2ML1</th>\n",
       "      <td>9957.5</td>\n",
       "      <td>9738.0</td>\n",
       "      <td>9522.0</td>\n",
       "      <td>15513.5</td>\n",
       "      <td>10221.5</td>\n",
       "    </tr>\n",
       "  </tbody>\n",
       "</table>\n",
       "</div>"
      ],
      "text/plain": [
       "          ZNF684   TEAD1   TEAD2    KLF15   ZNF140\n",
       "location                                          \n",
       "A1BG      9957.5  9738.0  9522.0   3523.0  10221.5\n",
       "A1BG-AS1  9957.5  9738.0  9522.0   3061.5  10221.5\n",
       "A2M       9957.5   611.0   254.0  15513.5  10221.5\n",
       "A2M-AS1   9957.5  9738.0  9522.0   3751.0  10221.5\n",
       "A2ML1     9957.5  9738.0  9522.0  15513.5  10221.5"
      ]
     },
     "execution_count": 19,
     "metadata": {},
     "output_type": "execute_result"
    }
   ],
   "source": [
    "gene2tf_rank_glue = scglue.genomics.cis_regulatory_ranking(\n",
    "    gene2peak, peak2tf, genes, peaks, tfs,\n",
    "    region_lens=atac.var.loc[peaks, \"chromEnd\"] - atac.var.loc[peaks, \"chromStart\"],\n",
    "    random_state=0\n",
    ")\n",
    "gene2tf_rank_glue.iloc[:5, :5]"
   ]
  },
  {
   "cell_type": "code",
   "execution_count": 23,
   "metadata": {},
   "outputs": [],
   "source": [
    "gene2tf_rank_glue.to_csv(f\"{work_dir}/infer/scglue/gene2tf_rank_glue.csv\")"
   ]
  },
  {
   "cell_type": "markdown",
   "metadata": {},
   "source": [
    "### Generate TF cis-regulatory ranking with proximal promoters (optional)\n",
    "\n",
    "> (Estimated time: ~1 h)\n",
    "\n",
    "One potential limitation of the above approach is that genes with no regulatory ATAC peaks identified would be left out. As a supplement, we can also use proximal promoter regions flanking the TSS to generate cis-regulatory ranking, as in the original pySCENIC pipeline.\n",
    "\n",
    "To do that we scan the genome again with the [scglue.genomics.window_graph](api/scglue.genomics.window_graph.rst) function to connect TSS flanking regions (-500 to +500bp) with TF motif hits based on genomic overlap. Here the flanking regions will be named after the corresponding genes in the resulting graph."
   ]
  },
  {
   "cell_type": "code",
   "execution_count": 22,
   "metadata": {},
   "outputs": [
    {
     "name": "stderr",
     "output_type": "stream",
     "text": [
      "window_graph: 100%|██████████| 17069/17069 [46:11<00:00,  6.16it/s]  \n"
     ]
    }
   ],
   "source": [
    "flank_bed = scglue.genomics.Bed(rna.var.loc[genes]).strand_specific_start_site().expand(500, 500)\n",
    "flank2tf = scglue.genomics.window_graph(flank_bed, motif_bed, 0, right_sorted=True)"
   ]
  },
  {
   "cell_type": "markdown",
   "metadata": {},
   "source": [
    "Similar to the previous section, we use the [scglue.genomics.cis_regulatory_ranking](api/scglue.genomics.cis_regulatory_ranking.rst) function to generate a supplementary cis-regulatory ranking, with the following differences:\n",
    "\n",
    "* The gene-peak connection is replaced with a gene-flank connection, which is just a self-loop graph since each TSS flanking region have the same name as its corresponding gene;\n",
    "* Since each gene has exactly one flanking region with the same length, it is unnecessary to evaluate TF enrichment with stratified random sampling, so we set `n_samples=0` to disable the sampling process."
   ]
  },
  {
   "cell_type": "code",
   "execution_count": 24,
   "metadata": {},
   "outputs": [
    {
     "data": {
      "text/html": [
       "<div>\n",
       "<style scoped>\n",
       "    .dataframe tbody tr th:only-of-type {\n",
       "        vertical-align: middle;\n",
       "    }\n",
       "\n",
       "    .dataframe tbody tr th {\n",
       "        vertical-align: top;\n",
       "    }\n",
       "\n",
       "    .dataframe thead th {\n",
       "        text-align: right;\n",
       "    }\n",
       "</style>\n",
       "<table border=\"1\" class=\"dataframe\">\n",
       "  <thead>\n",
       "    <tr style=\"text-align: right;\">\n",
       "      <th></th>\n",
       "      <th>ZNF684</th>\n",
       "      <th>TEAD1</th>\n",
       "      <th>TEAD2</th>\n",
       "      <th>KLF15</th>\n",
       "      <th>ZNF140</th>\n",
       "    </tr>\n",
       "    <tr>\n",
       "      <th>location</th>\n",
       "      <th></th>\n",
       "      <th></th>\n",
       "      <th></th>\n",
       "      <th></th>\n",
       "      <th></th>\n",
       "    </tr>\n",
       "  </thead>\n",
       "  <tbody>\n",
       "    <tr>\n",
       "      <th>A1BG</th>\n",
       "      <td>8962.5</td>\n",
       "      <td>8763.0</td>\n",
       "      <td>8755.5</td>\n",
       "      <td>7619.0</td>\n",
       "      <td>8866.0</td>\n",
       "    </tr>\n",
       "    <tr>\n",
       "      <th>A1BG-AS1</th>\n",
       "      <td>8962.5</td>\n",
       "      <td>8763.0</td>\n",
       "      <td>8755.5</td>\n",
       "      <td>5108.5</td>\n",
       "      <td>8866.0</td>\n",
       "    </tr>\n",
       "    <tr>\n",
       "      <th>A2M</th>\n",
       "      <td>8962.5</td>\n",
       "      <td>8763.0</td>\n",
       "      <td>8755.5</td>\n",
       "      <td>14787.5</td>\n",
       "      <td>8866.0</td>\n",
       "    </tr>\n",
       "    <tr>\n",
       "      <th>A2M-AS1</th>\n",
       "      <td>8962.5</td>\n",
       "      <td>8763.0</td>\n",
       "      <td>8755.5</td>\n",
       "      <td>5108.5</td>\n",
       "      <td>8866.0</td>\n",
       "    </tr>\n",
       "    <tr>\n",
       "      <th>A2ML1</th>\n",
       "      <td>8962.5</td>\n",
       "      <td>8763.0</td>\n",
       "      <td>8755.5</td>\n",
       "      <td>14787.5</td>\n",
       "      <td>8866.0</td>\n",
       "    </tr>\n",
       "  </tbody>\n",
       "</table>\n",
       "</div>"
      ],
      "text/plain": [
       "          ZNF684   TEAD1   TEAD2    KLF15  ZNF140\n",
       "location                                         \n",
       "A1BG      8962.5  8763.0  8755.5   7619.0  8866.0\n",
       "A1BG-AS1  8962.5  8763.0  8755.5   5108.5  8866.0\n",
       "A2M       8962.5  8763.0  8755.5  14787.5  8866.0\n",
       "A2M-AS1   8962.5  8763.0  8755.5   5108.5  8866.0\n",
       "A2ML1     8962.5  8763.0  8755.5  14787.5  8866.0"
      ]
     },
     "execution_count": 24,
     "metadata": {},
     "output_type": "execute_result"
    }
   ],
   "source": [
    "gene2flank = nx.Graph([(g, g) for g in genes])\n",
    "gene2tf_rank_supp = scglue.genomics.cis_regulatory_ranking(\n",
    "    gene2flank, flank2tf, genes, genes, tfs,\n",
    "    n_samples=0\n",
    ")\n",
    "gene2tf_rank_supp.iloc[:5, :5]"
   ]
  },
  {
   "cell_type": "code",
   "execution_count": 25,
   "metadata": {},
   "outputs": [],
   "source": [
    "gene2tf_rank_supp.to_csv(f\"{work_dir}/infer/scglue/gene2tf_rank_supp.csv\")"
   ]
  },
  {
   "cell_type": "markdown",
   "metadata": {},
   "source": [
    "### Prune coexpression network using cis-regulatory ranking\n",
    "\n",
    "> (Estimated time: ~5 min)\n",
    "\n",
    "For the final step, we will prune the coexpression-based draft network with these cis-regulatory rankings to preserve TF-gene connections with cis-regulatory evidence. To do that, we need to prepare the following files:\n",
    "\n",
    "* One or more `feather` files containing the cis-regulatory ranking;\n",
    "* A `tsv` annotation file mapping column names in the ranking files to TF names.\n",
    "\n",
    "Here we have two separate rankings (ATAC-based and promoter-based) with identical column names. We need to differentiate them by appending their information source."
   ]
  },
  {
   "cell_type": "code",
   "execution_count": 27,
   "metadata": {},
   "outputs": [],
   "source": [
    "gene2tf_rank_glue.columns = gene2tf_rank_glue.columns + \"_glue\"\n",
    "gene2tf_rank_supp.columns = gene2tf_rank_supp.columns + \"_supp\""
   ]
  },
  {
   "cell_type": "markdown",
   "metadata": {},
   "source": [
    "We can use the [scglue.genomics.write_scenic_feather](api/scglue.genomics.write_scenic_feather.rst) function to save the cis-regulatory rankings as `feather` files compatible with `pySCENIC`."
   ]
  },
  {
   "cell_type": "code",
   "execution_count": 28,
   "metadata": {},
   "outputs": [],
   "source": [
    "scglue.genomics.write_scenic_feather(gene2tf_rank_glue, f\"{work_dir}/infer/scglue/glue.genes_vs_tracks.rankings.feather\")\n",
    "scglue.genomics.write_scenic_feather(gene2tf_rank_supp, f\"{work_dir}/infer/scglue/supp.genes_vs_tracks.rankings.feather\")"
   ]
  },
  {
   "cell_type": "code",
   "execution_count": 40,
   "metadata": {},
   "outputs": [
    {
     "data": {
      "text/html": [
       "<div>\n",
       "<style scoped>\n",
       "    .dataframe tbody tr th:only-of-type {\n",
       "        vertical-align: middle;\n",
       "    }\n",
       "\n",
       "    .dataframe tbody tr th {\n",
       "        vertical-align: top;\n",
       "    }\n",
       "\n",
       "    .dataframe thead th {\n",
       "        text-align: right;\n",
       "    }\n",
       "</style>\n",
       "<table border=\"1\" class=\"dataframe\">\n",
       "  <thead>\n",
       "    <tr style=\"text-align: right;\">\n",
       "      <th></th>\n",
       "      <th>ZNF684_glue</th>\n",
       "      <th>TEAD1_glue</th>\n",
       "      <th>TEAD2_glue</th>\n",
       "      <th>KLF15_glue</th>\n",
       "      <th>ZNF140_glue</th>\n",
       "      <th>CEBPA_glue</th>\n",
       "      <th>ZNF530_glue</th>\n",
       "      <th>NFATC2_glue</th>\n",
       "      <th>NFATC1_glue</th>\n",
       "      <th>ATF4_glue</th>\n",
       "      <th>...</th>\n",
       "      <th>ZFP57_glue</th>\n",
       "      <th>VENTX_glue</th>\n",
       "      <th>CAMTA2_glue</th>\n",
       "      <th>OVOL2_glue</th>\n",
       "      <th>CEBPE_glue</th>\n",
       "      <th>HOXA9_glue</th>\n",
       "      <th>ARF4_glue</th>\n",
       "      <th>GMEB1_glue</th>\n",
       "      <th>RUNX2_glue</th>\n",
       "      <th>MYBL2_glue</th>\n",
       "    </tr>\n",
       "    <tr>\n",
       "      <th>location</th>\n",
       "      <th></th>\n",
       "      <th></th>\n",
       "      <th></th>\n",
       "      <th></th>\n",
       "      <th></th>\n",
       "      <th></th>\n",
       "      <th></th>\n",
       "      <th></th>\n",
       "      <th></th>\n",
       "      <th></th>\n",
       "      <th></th>\n",
       "      <th></th>\n",
       "      <th></th>\n",
       "      <th></th>\n",
       "      <th></th>\n",
       "      <th></th>\n",
       "      <th></th>\n",
       "      <th></th>\n",
       "      <th></th>\n",
       "      <th></th>\n",
       "      <th></th>\n",
       "    </tr>\n",
       "  </thead>\n",
       "  <tbody>\n",
       "    <tr>\n",
       "      <th>A1BG</th>\n",
       "      <td>9957.5</td>\n",
       "      <td>9738.0</td>\n",
       "      <td>9522.0</td>\n",
       "      <td>3523.0</td>\n",
       "      <td>10221.5</td>\n",
       "      <td>9274.0</td>\n",
       "      <td>13759.5</td>\n",
       "      <td>9790.5</td>\n",
       "      <td>9766.5</td>\n",
       "      <td>9304.5</td>\n",
       "      <td>...</td>\n",
       "      <td>9118.0</td>\n",
       "      <td>8592.0</td>\n",
       "      <td>8664.5</td>\n",
       "      <td>8624.0</td>\n",
       "      <td>8606.5</td>\n",
       "      <td>8601.0</td>\n",
       "      <td>8700.5</td>\n",
       "      <td>8709.5</td>\n",
       "      <td>8704.0</td>\n",
       "      <td>8629.0</td>\n",
       "    </tr>\n",
       "    <tr>\n",
       "      <th>A1BG-AS1</th>\n",
       "      <td>9957.5</td>\n",
       "      <td>9738.0</td>\n",
       "      <td>9522.0</td>\n",
       "      <td>3061.5</td>\n",
       "      <td>10221.5</td>\n",
       "      <td>9274.0</td>\n",
       "      <td>13759.5</td>\n",
       "      <td>9790.5</td>\n",
       "      <td>9766.5</td>\n",
       "      <td>9304.5</td>\n",
       "      <td>...</td>\n",
       "      <td>9118.0</td>\n",
       "      <td>8592.0</td>\n",
       "      <td>8664.5</td>\n",
       "      <td>8624.0</td>\n",
       "      <td>8606.5</td>\n",
       "      <td>8601.0</td>\n",
       "      <td>8700.5</td>\n",
       "      <td>8709.5</td>\n",
       "      <td>8704.0</td>\n",
       "      <td>8629.0</td>\n",
       "    </tr>\n",
       "    <tr>\n",
       "      <th>A2M</th>\n",
       "      <td>9957.5</td>\n",
       "      <td>611.0</td>\n",
       "      <td>254.0</td>\n",
       "      <td>15513.5</td>\n",
       "      <td>10221.5</td>\n",
       "      <td>202.5</td>\n",
       "      <td>13759.5</td>\n",
       "      <td>9790.5</td>\n",
       "      <td>9766.5</td>\n",
       "      <td>9304.5</td>\n",
       "      <td>...</td>\n",
       "      <td>9118.0</td>\n",
       "      <td>8592.0</td>\n",
       "      <td>8664.5</td>\n",
       "      <td>8624.0</td>\n",
       "      <td>8606.5</td>\n",
       "      <td>8601.0</td>\n",
       "      <td>8700.5</td>\n",
       "      <td>8709.5</td>\n",
       "      <td>8704.0</td>\n",
       "      <td>8629.0</td>\n",
       "    </tr>\n",
       "    <tr>\n",
       "      <th>A2M-AS1</th>\n",
       "      <td>9957.5</td>\n",
       "      <td>9738.0</td>\n",
       "      <td>9522.0</td>\n",
       "      <td>3751.0</td>\n",
       "      <td>10221.5</td>\n",
       "      <td>9274.0</td>\n",
       "      <td>13759.5</td>\n",
       "      <td>9790.5</td>\n",
       "      <td>9766.5</td>\n",
       "      <td>9304.5</td>\n",
       "      <td>...</td>\n",
       "      <td>9118.0</td>\n",
       "      <td>8592.0</td>\n",
       "      <td>8664.5</td>\n",
       "      <td>8624.0</td>\n",
       "      <td>8606.5</td>\n",
       "      <td>8601.0</td>\n",
       "      <td>8700.5</td>\n",
       "      <td>8709.5</td>\n",
       "      <td>8704.0</td>\n",
       "      <td>8629.0</td>\n",
       "    </tr>\n",
       "    <tr>\n",
       "      <th>A2ML1</th>\n",
       "      <td>9957.5</td>\n",
       "      <td>9738.0</td>\n",
       "      <td>9522.0</td>\n",
       "      <td>15513.5</td>\n",
       "      <td>10221.5</td>\n",
       "      <td>9274.0</td>\n",
       "      <td>13759.5</td>\n",
       "      <td>9790.5</td>\n",
       "      <td>9766.5</td>\n",
       "      <td>9304.5</td>\n",
       "      <td>...</td>\n",
       "      <td>9118.0</td>\n",
       "      <td>8592.0</td>\n",
       "      <td>8664.5</td>\n",
       "      <td>8624.0</td>\n",
       "      <td>8606.5</td>\n",
       "      <td>8601.0</td>\n",
       "      <td>8700.5</td>\n",
       "      <td>8709.5</td>\n",
       "      <td>8704.0</td>\n",
       "      <td>8629.0</td>\n",
       "    </tr>\n",
       "    <tr>\n",
       "      <th>...</th>\n",
       "      <td>...</td>\n",
       "      <td>...</td>\n",
       "      <td>...</td>\n",
       "      <td>...</td>\n",
       "      <td>...</td>\n",
       "      <td>...</td>\n",
       "      <td>...</td>\n",
       "      <td>...</td>\n",
       "      <td>...</td>\n",
       "      <td>...</td>\n",
       "      <td>...</td>\n",
       "      <td>...</td>\n",
       "      <td>...</td>\n",
       "      <td>...</td>\n",
       "      <td>...</td>\n",
       "      <td>...</td>\n",
       "      <td>...</td>\n",
       "      <td>...</td>\n",
       "      <td>...</td>\n",
       "      <td>...</td>\n",
       "      <td>...</td>\n",
       "    </tr>\n",
       "    <tr>\n",
       "      <th>ZXDC</th>\n",
       "      <td>9957.5</td>\n",
       "      <td>9738.0</td>\n",
       "      <td>9522.0</td>\n",
       "      <td>5235.0</td>\n",
       "      <td>10221.5</td>\n",
       "      <td>9274.0</td>\n",
       "      <td>8385.0</td>\n",
       "      <td>998.5</td>\n",
       "      <td>9766.5</td>\n",
       "      <td>9304.5</td>\n",
       "      <td>...</td>\n",
       "      <td>615.0</td>\n",
       "      <td>8592.0</td>\n",
       "      <td>8664.5</td>\n",
       "      <td>8624.0</td>\n",
       "      <td>8606.5</td>\n",
       "      <td>8601.0</td>\n",
       "      <td>8700.5</td>\n",
       "      <td>8709.5</td>\n",
       "      <td>8704.0</td>\n",
       "      <td>8629.0</td>\n",
       "    </tr>\n",
       "    <tr>\n",
       "      <th>ZYG11A</th>\n",
       "      <td>9957.5</td>\n",
       "      <td>9738.0</td>\n",
       "      <td>9522.0</td>\n",
       "      <td>2214.5</td>\n",
       "      <td>10221.5</td>\n",
       "      <td>9274.0</td>\n",
       "      <td>13759.5</td>\n",
       "      <td>9790.5</td>\n",
       "      <td>9766.5</td>\n",
       "      <td>9304.5</td>\n",
       "      <td>...</td>\n",
       "      <td>9118.0</td>\n",
       "      <td>8592.0</td>\n",
       "      <td>8664.5</td>\n",
       "      <td>8624.0</td>\n",
       "      <td>8606.5</td>\n",
       "      <td>8601.0</td>\n",
       "      <td>8700.5</td>\n",
       "      <td>8709.5</td>\n",
       "      <td>8704.0</td>\n",
       "      <td>8629.0</td>\n",
       "    </tr>\n",
       "    <tr>\n",
       "      <th>ZYG11B</th>\n",
       "      <td>9957.5</td>\n",
       "      <td>9738.0</td>\n",
       "      <td>9522.0</td>\n",
       "      <td>4538.0</td>\n",
       "      <td>10221.5</td>\n",
       "      <td>9274.0</td>\n",
       "      <td>13759.5</td>\n",
       "      <td>9790.5</td>\n",
       "      <td>9766.5</td>\n",
       "      <td>212.5</td>\n",
       "      <td>...</td>\n",
       "      <td>9118.0</td>\n",
       "      <td>8592.0</td>\n",
       "      <td>8664.5</td>\n",
       "      <td>8624.0</td>\n",
       "      <td>8606.5</td>\n",
       "      <td>8601.0</td>\n",
       "      <td>8700.5</td>\n",
       "      <td>8709.5</td>\n",
       "      <td>8704.0</td>\n",
       "      <td>8629.0</td>\n",
       "    </tr>\n",
       "    <tr>\n",
       "      <th>ZYX</th>\n",
       "      <td>9957.5</td>\n",
       "      <td>9738.0</td>\n",
       "      <td>9522.0</td>\n",
       "      <td>108.5</td>\n",
       "      <td>10221.5</td>\n",
       "      <td>9274.0</td>\n",
       "      <td>5806.5</td>\n",
       "      <td>9790.5</td>\n",
       "      <td>9766.5</td>\n",
       "      <td>9304.5</td>\n",
       "      <td>...</td>\n",
       "      <td>9118.0</td>\n",
       "      <td>8592.0</td>\n",
       "      <td>8664.5</td>\n",
       "      <td>8624.0</td>\n",
       "      <td>8606.5</td>\n",
       "      <td>8601.0</td>\n",
       "      <td>8700.5</td>\n",
       "      <td>8709.5</td>\n",
       "      <td>8704.0</td>\n",
       "      <td>8629.0</td>\n",
       "    </tr>\n",
       "    <tr>\n",
       "      <th>ZZEF1</th>\n",
       "      <td>9957.5</td>\n",
       "      <td>1985.5</td>\n",
       "      <td>9522.0</td>\n",
       "      <td>13564.0</td>\n",
       "      <td>2891.5</td>\n",
       "      <td>9274.0</td>\n",
       "      <td>9886.0</td>\n",
       "      <td>9790.5</td>\n",
       "      <td>9766.5</td>\n",
       "      <td>9304.5</td>\n",
       "      <td>...</td>\n",
       "      <td>9118.0</td>\n",
       "      <td>8592.0</td>\n",
       "      <td>8664.5</td>\n",
       "      <td>8624.0</td>\n",
       "      <td>8606.5</td>\n",
       "      <td>8601.0</td>\n",
       "      <td>8700.5</td>\n",
       "      <td>8709.5</td>\n",
       "      <td>8704.0</td>\n",
       "      <td>8629.0</td>\n",
       "    </tr>\n",
       "  </tbody>\n",
       "</table>\n",
       "<p>17069 rows × 441 columns</p>\n",
       "</div>"
      ],
      "text/plain": [
       "          ZNF684_glue  TEAD1_glue  TEAD2_glue  KLF15_glue  ZNF140_glue  \\\n",
       "location                                                                 \n",
       "A1BG           9957.5      9738.0      9522.0      3523.0      10221.5   \n",
       "A1BG-AS1       9957.5      9738.0      9522.0      3061.5      10221.5   \n",
       "A2M            9957.5       611.0       254.0     15513.5      10221.5   \n",
       "A2M-AS1        9957.5      9738.0      9522.0      3751.0      10221.5   \n",
       "A2ML1          9957.5      9738.0      9522.0     15513.5      10221.5   \n",
       "...               ...         ...         ...         ...          ...   \n",
       "ZXDC           9957.5      9738.0      9522.0      5235.0      10221.5   \n",
       "ZYG11A         9957.5      9738.0      9522.0      2214.5      10221.5   \n",
       "ZYG11B         9957.5      9738.0      9522.0      4538.0      10221.5   \n",
       "ZYX            9957.5      9738.0      9522.0       108.5      10221.5   \n",
       "ZZEF1          9957.5      1985.5      9522.0     13564.0       2891.5   \n",
       "\n",
       "          CEBPA_glue  ZNF530_glue  NFATC2_glue  NFATC1_glue  ATF4_glue  ...  \\\n",
       "location                                                                ...   \n",
       "A1BG          9274.0      13759.5       9790.5       9766.5     9304.5  ...   \n",
       "A1BG-AS1      9274.0      13759.5       9790.5       9766.5     9304.5  ...   \n",
       "A2M            202.5      13759.5       9790.5       9766.5     9304.5  ...   \n",
       "A2M-AS1       9274.0      13759.5       9790.5       9766.5     9304.5  ...   \n",
       "A2ML1         9274.0      13759.5       9790.5       9766.5     9304.5  ...   \n",
       "...              ...          ...          ...          ...        ...  ...   \n",
       "ZXDC          9274.0       8385.0        998.5       9766.5     9304.5  ...   \n",
       "ZYG11A        9274.0      13759.5       9790.5       9766.5     9304.5  ...   \n",
       "ZYG11B        9274.0      13759.5       9790.5       9766.5      212.5  ...   \n",
       "ZYX           9274.0       5806.5       9790.5       9766.5     9304.5  ...   \n",
       "ZZEF1         9274.0       9886.0       9790.5       9766.5     9304.5  ...   \n",
       "\n",
       "          ZFP57_glue  VENTX_glue  CAMTA2_glue  OVOL2_glue  CEBPE_glue  \\\n",
       "location                                                                \n",
       "A1BG          9118.0      8592.0       8664.5      8624.0      8606.5   \n",
       "A1BG-AS1      9118.0      8592.0       8664.5      8624.0      8606.5   \n",
       "A2M           9118.0      8592.0       8664.5      8624.0      8606.5   \n",
       "A2M-AS1       9118.0      8592.0       8664.5      8624.0      8606.5   \n",
       "A2ML1         9118.0      8592.0       8664.5      8624.0      8606.5   \n",
       "...              ...         ...          ...         ...         ...   \n",
       "ZXDC           615.0      8592.0       8664.5      8624.0      8606.5   \n",
       "ZYG11A        9118.0      8592.0       8664.5      8624.0      8606.5   \n",
       "ZYG11B        9118.0      8592.0       8664.5      8624.0      8606.5   \n",
       "ZYX           9118.0      8592.0       8664.5      8624.0      8606.5   \n",
       "ZZEF1         9118.0      8592.0       8664.5      8624.0      8606.5   \n",
       "\n",
       "          HOXA9_glue  ARF4_glue  GMEB1_glue  RUNX2_glue  MYBL2_glue  \n",
       "location                                                             \n",
       "A1BG          8601.0     8700.5      8709.5      8704.0      8629.0  \n",
       "A1BG-AS1      8601.0     8700.5      8709.5      8704.0      8629.0  \n",
       "A2M           8601.0     8700.5      8709.5      8704.0      8629.0  \n",
       "A2M-AS1       8601.0     8700.5      8709.5      8704.0      8629.0  \n",
       "A2ML1         8601.0     8700.5      8709.5      8704.0      8629.0  \n",
       "...              ...        ...         ...         ...         ...  \n",
       "ZXDC          8601.0     8700.5      8709.5      8704.0      8629.0  \n",
       "ZYG11A        8601.0     8700.5      8709.5      8704.0      8629.0  \n",
       "ZYG11B        8601.0     8700.5      8709.5      8704.0      8629.0  \n",
       "ZYX           8601.0     8700.5      8709.5      8704.0      8629.0  \n",
       "ZZEF1         8601.0     8700.5      8709.5      8704.0      8629.0  \n",
       "\n",
       "[17069 rows x 441 columns]"
      ]
     },
     "execution_count": 40,
     "metadata": {},
     "output_type": "execute_result"
    }
   ],
   "source": [
    "gene2tf_rank_glue"
   ]
  },
  {
   "cell_type": "markdown",
   "metadata": {},
   "source": [
    "Then use the following format for the annotation file:"
   ]
  },
  {
   "cell_type": "code",
   "execution_count": 35,
   "metadata": {},
   "outputs": [
    {
     "data": {
      "text/html": [
       "<div>\n",
       "<style scoped>\n",
       "    .dataframe tbody tr th:only-of-type {\n",
       "        vertical-align: middle;\n",
       "    }\n",
       "\n",
       "    .dataframe tbody tr th {\n",
       "        vertical-align: top;\n",
       "    }\n",
       "\n",
       "    .dataframe thead th {\n",
       "        text-align: right;\n",
       "    }\n",
       "</style>\n",
       "<table border=\"1\" class=\"dataframe\">\n",
       "  <thead>\n",
       "    <tr style=\"text-align: right;\">\n",
       "      <th></th>\n",
       "      <th>#motif_id</th>\n",
       "      <th>gene_name</th>\n",
       "    </tr>\n",
       "  </thead>\n",
       "  <tbody>\n",
       "    <tr>\n",
       "      <th>0</th>\n",
       "      <td>ZNF684_glue</td>\n",
       "      <td>ZNF684</td>\n",
       "    </tr>\n",
       "    <tr>\n",
       "      <th>1</th>\n",
       "      <td>TEAD1_glue</td>\n",
       "      <td>TEAD1</td>\n",
       "    </tr>\n",
       "    <tr>\n",
       "      <th>2</th>\n",
       "      <td>TEAD2_glue</td>\n",
       "      <td>TEAD2</td>\n",
       "    </tr>\n",
       "    <tr>\n",
       "      <th>3</th>\n",
       "      <td>KLF15_glue</td>\n",
       "      <td>KLF15</td>\n",
       "    </tr>\n",
       "    <tr>\n",
       "      <th>4</th>\n",
       "      <td>ZNF140_glue</td>\n",
       "      <td>ZNF140</td>\n",
       "    </tr>\n",
       "    <tr>\n",
       "      <th>...</th>\n",
       "      <td>...</td>\n",
       "      <td>...</td>\n",
       "    </tr>\n",
       "    <tr>\n",
       "      <th>436</th>\n",
       "      <td>HOXA9_supp</td>\n",
       "      <td>HOXA9</td>\n",
       "    </tr>\n",
       "    <tr>\n",
       "      <th>437</th>\n",
       "      <td>ARF4_supp</td>\n",
       "      <td>ARF4</td>\n",
       "    </tr>\n",
       "    <tr>\n",
       "      <th>438</th>\n",
       "      <td>GMEB1_supp</td>\n",
       "      <td>GMEB1</td>\n",
       "    </tr>\n",
       "    <tr>\n",
       "      <th>439</th>\n",
       "      <td>RUNX2_supp</td>\n",
       "      <td>RUNX2</td>\n",
       "    </tr>\n",
       "    <tr>\n",
       "      <th>440</th>\n",
       "      <td>MYBL2_supp</td>\n",
       "      <td>MYBL2</td>\n",
       "    </tr>\n",
       "  </tbody>\n",
       "</table>\n",
       "<p>882 rows × 2 columns</p>\n",
       "</div>"
      ],
      "text/plain": [
       "       #motif_id gene_name\n",
       "0    ZNF684_glue    ZNF684\n",
       "1     TEAD1_glue     TEAD1\n",
       "2     TEAD2_glue     TEAD2\n",
       "3     KLF15_glue     KLF15\n",
       "4    ZNF140_glue    ZNF140\n",
       "..           ...       ...\n",
       "436   HOXA9_supp     HOXA9\n",
       "437    ARF4_supp      ARF4\n",
       "438   GMEB1_supp     GMEB1\n",
       "439   RUNX2_supp     RUNX2\n",
       "440   MYBL2_supp     MYBL2\n",
       "\n",
       "[882 rows x 2 columns]"
      ]
     },
     "execution_count": 35,
     "metadata": {},
     "output_type": "execute_result"
    }
   ],
   "source": [
    "pd.concat([\n",
    "    pd.DataFrame({\n",
    "        \"#motif_id\": tfs + \"_glue\",\n",
    "        \"gene_name\": tfs\n",
    "    }),\n",
    "    pd.DataFrame({\n",
    "        \"#motif_id\": tfs + \"_supp\",\n",
    "        \"gene_name\": tfs\n",
    "    })\n",
    "])"
   ]
  },
  {
   "cell_type": "code",
   "execution_count": 29,
   "metadata": {},
   "outputs": [],
   "source": [
    "pd.concat([\n",
    "    pd.DataFrame({\n",
    "        \"#motif_id\": tfs + \"_glue\",\n",
    "        \"gene_name\": tfs\n",
    "    }),\n",
    "    pd.DataFrame({\n",
    "        \"#motif_id\": tfs + \"_supp\",\n",
    "        \"gene_name\": tfs\n",
    "    })\n",
    "]).assign(\n",
    "    motif_similarity_qvalue=0.0,\n",
    "    orthologous_identity=1.0,\n",
    "    description=\"placeholder\"\n",
    ").to_csv(f\"{work_dir}/infer/scglue/ctx_annotation.tsv\", sep=\"\\t\", index=False)"
   ]
  },
  {
   "cell_type": "code",
   "execution_count": 30,
   "metadata": {},
   "outputs": [],
   "source": [
    "adj_matrix = pd.read_csv(f\"{work_dir}/infer/scglue/adj_matrix.csv\")"
   ]
  },
  {
   "cell_type": "code",
   "execution_count": 31,
   "metadata": {},
   "outputs": [
    {
     "data": {
      "text/plain": [
       "(135308,)"
      ]
     },
     "execution_count": 31,
     "metadata": {},
     "output_type": "execute_result"
    }
   ],
   "source": [
    "adj_matrix.source.unique().shape"
   ]
  },
  {
   "cell_type": "code",
   "execution_count": 32,
   "metadata": {},
   "outputs": [
    {
     "data": {
      "text/html": [
       "<div>\n",
       "<style scoped>\n",
       "    .dataframe tbody tr th:only-of-type {\n",
       "        vertical-align: middle;\n",
       "    }\n",
       "\n",
       "    .dataframe tbody tr th {\n",
       "        vertical-align: top;\n",
       "    }\n",
       "\n",
       "    .dataframe thead th {\n",
       "        text-align: right;\n",
       "    }\n",
       "</style>\n",
       "<table border=\"1\" class=\"dataframe\">\n",
       "  <thead>\n",
       "    <tr style=\"text-align: right;\">\n",
       "      <th></th>\n",
       "      <th>#motif_id</th>\n",
       "      <th>gene_name</th>\n",
       "      <th>motif_similarity_qvalue</th>\n",
       "      <th>orthologous_identity</th>\n",
       "      <th>description</th>\n",
       "    </tr>\n",
       "  </thead>\n",
       "  <tbody>\n",
       "    <tr>\n",
       "      <th>0</th>\n",
       "      <td>ZNF684_glue</td>\n",
       "      <td>ZNF684</td>\n",
       "      <td>0.0</td>\n",
       "      <td>1.0</td>\n",
       "      <td>placeholder</td>\n",
       "    </tr>\n",
       "    <tr>\n",
       "      <th>1</th>\n",
       "      <td>TEAD1_glue</td>\n",
       "      <td>TEAD1</td>\n",
       "      <td>0.0</td>\n",
       "      <td>1.0</td>\n",
       "      <td>placeholder</td>\n",
       "    </tr>\n",
       "    <tr>\n",
       "      <th>2</th>\n",
       "      <td>TEAD2_glue</td>\n",
       "      <td>TEAD2</td>\n",
       "      <td>0.0</td>\n",
       "      <td>1.0</td>\n",
       "      <td>placeholder</td>\n",
       "    </tr>\n",
       "    <tr>\n",
       "      <th>3</th>\n",
       "      <td>KLF15_glue</td>\n",
       "      <td>KLF15</td>\n",
       "      <td>0.0</td>\n",
       "      <td>1.0</td>\n",
       "      <td>placeholder</td>\n",
       "    </tr>\n",
       "    <tr>\n",
       "      <th>4</th>\n",
       "      <td>ZNF140_glue</td>\n",
       "      <td>ZNF140</td>\n",
       "      <td>0.0</td>\n",
       "      <td>1.0</td>\n",
       "      <td>placeholder</td>\n",
       "    </tr>\n",
       "    <tr>\n",
       "      <th>...</th>\n",
       "      <td>...</td>\n",
       "      <td>...</td>\n",
       "      <td>...</td>\n",
       "      <td>...</td>\n",
       "      <td>...</td>\n",
       "    </tr>\n",
       "    <tr>\n",
       "      <th>877</th>\n",
       "      <td>HOXA9_supp</td>\n",
       "      <td>HOXA9</td>\n",
       "      <td>0.0</td>\n",
       "      <td>1.0</td>\n",
       "      <td>placeholder</td>\n",
       "    </tr>\n",
       "    <tr>\n",
       "      <th>878</th>\n",
       "      <td>ARF4_supp</td>\n",
       "      <td>ARF4</td>\n",
       "      <td>0.0</td>\n",
       "      <td>1.0</td>\n",
       "      <td>placeholder</td>\n",
       "    </tr>\n",
       "    <tr>\n",
       "      <th>879</th>\n",
       "      <td>GMEB1_supp</td>\n",
       "      <td>GMEB1</td>\n",
       "      <td>0.0</td>\n",
       "      <td>1.0</td>\n",
       "      <td>placeholder</td>\n",
       "    </tr>\n",
       "    <tr>\n",
       "      <th>880</th>\n",
       "      <td>RUNX2_supp</td>\n",
       "      <td>RUNX2</td>\n",
       "      <td>0.0</td>\n",
       "      <td>1.0</td>\n",
       "      <td>placeholder</td>\n",
       "    </tr>\n",
       "    <tr>\n",
       "      <th>881</th>\n",
       "      <td>MYBL2_supp</td>\n",
       "      <td>MYBL2</td>\n",
       "      <td>0.0</td>\n",
       "      <td>1.0</td>\n",
       "      <td>placeholder</td>\n",
       "    </tr>\n",
       "  </tbody>\n",
       "</table>\n",
       "<p>882 rows × 5 columns</p>\n",
       "</div>"
      ],
      "text/plain": [
       "       #motif_id gene_name  motif_similarity_qvalue  orthologous_identity  \\\n",
       "0    ZNF684_glue    ZNF684                      0.0                   1.0   \n",
       "1     TEAD1_glue     TEAD1                      0.0                   1.0   \n",
       "2     TEAD2_glue     TEAD2                      0.0                   1.0   \n",
       "3     KLF15_glue     KLF15                      0.0                   1.0   \n",
       "4    ZNF140_glue    ZNF140                      0.0                   1.0   \n",
       "..           ...       ...                      ...                   ...   \n",
       "877   HOXA9_supp     HOXA9                      0.0                   1.0   \n",
       "878    ARF4_supp      ARF4                      0.0                   1.0   \n",
       "879   GMEB1_supp     GMEB1                      0.0                   1.0   \n",
       "880   RUNX2_supp     RUNX2                      0.0                   1.0   \n",
       "881   MYBL2_supp     MYBL2                      0.0                   1.0   \n",
       "\n",
       "     description  \n",
       "0    placeholder  \n",
       "1    placeholder  \n",
       "2    placeholder  \n",
       "3    placeholder  \n",
       "4    placeholder  \n",
       "..           ...  \n",
       "877  placeholder  \n",
       "878  placeholder  \n",
       "879  placeholder  \n",
       "880  placeholder  \n",
       "881  placeholder  \n",
       "\n",
       "[882 rows x 5 columns]"
      ]
     },
     "execution_count": 32,
     "metadata": {},
     "output_type": "execute_result"
    }
   ],
   "source": [
    "pd.read_csv(f\"{work_dir}/infer/scglue/ctx_annotation.tsv\", sep='\\t')"
   ]
  },
  {
   "cell_type": "markdown",
   "metadata": {},
   "source": [
    "We are now ready to prune the coexpression network. This can be achieved using the pySCENIC command `pyscenic ctx` (here `rank_threshold` was scaled down according to the number of highly-variable genes):"
   ]
  },
  {
   "cell_type": "code",
   "execution_count": null,
   "metadata": {},
   "outputs": [
    {
     "name": "stdout",
     "output_type": "stream",
     "text": [
      "[########################################] | 100% Completed | 35.40 s\n",
      "\u001b[0m\u001b[0m\u001b[0m\u001b[0m\u001b[0m\u001b[0m\u001b[0m\u001b[0m\u001b[0m\u001b[0m\u001b[0m\u001b[0m\u001b[0m\u001b[0m\u001b[0m\u001b[0m\u001b[0m\u001b[0m\u001b[0m\u001b[0m\u001b[0m"
     ]
    }
   ],
   "source": [
    "!pyscenic ctx ../../../output/infer/scglue/draft_grn.csv \\\n",
    "    ../../../output/infer/scglue/glue.genes_vs_tracks.rankings.feather \\\n",
    "    ../../../output/infer/scglue/supp.genes_vs_tracks.rankings.feather \\\n",
    "    --annotations_fname ../../../output/infer/scglue/ctx_annotation.tsv \\\n",
    "    --expression_mtx_fname ../../../output/infer/scglue/rna.loom \\\n",
    "    --output ../../../output/infer/scglue/pruned_grn.csv \\\n",
    "    --rank_threshold 5000 --min_genes 1 \\\n",
    "    --num_workers 4 --no_pruning  \\\n",
    "    --cell_id_attribute obs_id --gene_attribute name "
   ]
  }
 ],
 "metadata": {
  "interpreter": {
   "hash": "4179030222e8644492e27e9b93d575ff6d6692f4d5cceb1215f5529802563224"
  },
  "kernelspec": {
   "display_name": "Python 3 (ipykernel)",
   "language": "python",
   "name": "python3"
  },
  "language_info": {
   "codemirror_mode": {
    "name": "ipython",
    "version": 3
   },
   "file_extension": ".py",
   "mimetype": "text/x-python",
   "name": "python",
   "nbconvert_exporter": "python",
   "pygments_lexer": "ipython3",
   "version": "3.10.12"
  },
  "toc-autonumbering": true
 },
 "nbformat": 4,
 "nbformat_minor": 4
}
