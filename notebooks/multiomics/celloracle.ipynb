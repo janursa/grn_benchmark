{
 "cells": [
  {
   "cell_type": "code",
   "execution_count": 1,
   "metadata": {},
   "outputs": [],
   "source": [
    "%load_ext rpy2.ipython"
   ]
  },
  {
   "cell_type": "markdown",
   "metadata": {},
   "source": [
    "## Imports"
   ]
  },
  {
   "cell_type": "code",
   "execution_count": 34,
   "metadata": {},
   "outputs": [],
   "source": [
    "import pandas as pd\n",
    "import os \n",
    "from celloracle import motif_analysis as ma\n",
    "import pandas as pd\n",
    "import celloracle as co\n",
    "import anndata\n",
    "import matplotlib.pyplot as plt\n",
    "import numpy as np\n",
    "%matplotlib inline\n",
    "\n",
    "\n",
    "work_dir = '../../output'\n",
    "celloracle_dir = f'{work_dir}/celloracle'\n",
    "cicero_dir = f'{work_dir}/cicero'\n",
    "kaggle_data_dir = '../../input/kaggle/input'\n",
    "os.makedirs(f'{celloracle_dir}', exist_ok=True)\n",
    "os.makedirs(f'{cicero_dir}/scATAC', exist_ok=True)\n",
    "os.makedirs(f'{celloracle_dir}/baseGRN', exist_ok=True)\n",
    "os.makedirs(f'{celloracle_dir}/GRN', exist_ok=True)\n",
    "\n",
    "def format_peakname(df):\n",
    "    df.loc[:, 'location'] = df.location.str.replace(':','_')\n",
    "    df.loc[:, 'location'] = df.location.str.replace('-','_')\n",
    "    return  df"
   ]
  },
  {
   "cell_type": "markdown",
   "metadata": {},
   "source": [
    "# Cicero"
   ]
  },
  {
   "cell_type": "markdown",
   "metadata": {},
   "source": [
    "## Format the data "
   ]
  },
  {
   "cell_type": "code",
   "execution_count": null,
   "metadata": {},
   "outputs": [],
   "source": [
    "multiome_var_meta = pd.read_csv(f'{kaggle_data_dir}/open-problems-single-cell-perturbations/multiome_var_meta.csv')\n",
    "multiome_train = pd.read_parquet(f'{kaggle_data_dir}/open-problems-single-cell-perturbations/multiome_train.parquet')\n",
    "multiome_obs_meta = pd.read_csv(f'{kaggle_data_dir}/open-problems-single-cell-perturbations/multiome_obs_meta.csv')"
   ]
  },
  {
   "cell_type": "code",
   "execution_count": null,
   "metadata": {},
   "outputs": [],
   "source": [
    "# extract only peaks\n",
    "peaks_locations = multiome_var_meta[multiome_var_meta['feature_type']=='Peaks']['location'].values\n",
    "df_peaks = multiome_train[multiome_train['location'].isin(peaks_locations)].reset_index(drop=True)\n",
    "del multiome_train\n",
    "# extract peaks for donor and cell type\n",
    "# format and save\n",
    "df_peaks = format_peakname(df_peaks)\n",
    "df_peaks[['location','obs_id','count']].to_csv(ff'{work_dir}/cicero/scATAC/peaks.txt', sep='\\t', header=None, index=False)"
   ]
  },
  {
   "cell_type": "markdown",
   "metadata": {},
   "source": [
    "## Annotations"
   ]
  },
  {
   "cell_type": "code",
   "execution_count": 3,
   "metadata": {},
   "outputs": [],
   "source": [
    "# Get chromosome sizes (for hg38 here). \n",
    "target_url='http://hgdownload.cse.ucsc.edu/goldenPath/hg38/bigZips/hg38.chrom.sizes'\n",
    "chromsizes=pd.read_csv(target_url, sep='\\t', header=None)\n",
    "chromsizes.columns=['Chromosome', 'End']\n",
    "chromsizes['Start']=[0]*chromsizes.shape[0]\n",
    "chromsizes=chromsizes.loc[:,['Chromosome', 'Start', 'End']]\n",
    "# Exceptionally in this case, to agree with CellRangerARC annotations\n",
    "chromsizes['Chromosome'] = [chromsizes['Chromosome'][x].replace('v', '.') for x in range(len(chromsizes['Chromosome']))]\n",
    "chromsizes['Chromosome'] = [chromsizes['Chromosome'][x].split('_')[1] if len(chromsizes['Chromosome'][x].split('_')) > 1 else chromsizes['Chromosome'][x] for x in range(len(chromsizes['Chromosome']))]\n",
    "\n",
    "chromsizes = chromsizes[['Chromosome', 'End']]\n",
    "# save\n",
    "chromsizes.to_csv(f'{work_dir}/cicero/chromsizes.csv', index=False)"
   ]
  },
  {
   "cell_type": "code",
   "execution_count": null,
   "metadata": {},
   "outputs": [],
   "source": [
    "# check if all chr are found\n",
    "chrs = df_peaks.locations.apply(lambda x:x.split('_')[0])\n",
    "chrs.isin(chromsizes.Chromosome).sum()"
   ]
  },
  {
   "cell_type": "markdown",
   "metadata": {},
   "source": [
    "## Actual run"
   ]
  },
  {
   "cell_type": "code",
   "execution_count": null,
   "metadata": {},
   "outputs": [],
   "source": [
    "%%R \n",
    "library(Gviz)\n",
    "library(GenomicRanges)\n",
    "library(rtracklayer)\n",
    "library(cicero)\n",
    "set.seed(2017)\n",
    "packageVersion(\"cicero\")\n",
    "\n",
    "# get the peaks\n",
    "cicero_data <- read.table(paste0(\"../output/cicero/scATAC/peaks.txt\"), sep = \"\\t\", header = FALSE)\n",
    "input_cds <- make_atac_cds(cicero_data, binarize = TRUE)\n",
    "input_cds <- monocle3::detect_genes(input_cds)\n",
    "input_cds <- estimate_size_factors(input_cds)\n",
    "input_cds <- preprocess_cds(input_cds, method = \"LSI\")\n",
    "input_cds <- reduce_dimension(input_cds, reduction_method = 'UMAP', preprocess_method = \"LSI\")\n",
    "# reduced dimension and cicero object\n",
    "umap_coords <- reducedDims(input_cds)$UMAP\n",
    "cicero_cds <- make_cicero_cds(input_cds, reduced_coordinates = umap_coords)\n",
    "# read chromsize\n",
    "chromsizes <- read.csv(f'{work_dir}/cicero/chromsizes.csv')\n",
    "# actual run\n",
    "conns <- run_cicero(cicero_cds, chromsizes)\n",
    "# save all peaks and connections\n",
    "all_peaks <- row.names(exprs(input_cds))\n",
    "write.csv(x = all_peaks, file = \"../output/cicero/all_peaks.csv\")\n",
    "write.csv(x = conns, file = \"../output/cicero/connections.csv\")"
   ]
  },
  {
   "cell_type": "markdown",
   "metadata": {},
   "source": [
    "# Celloracle"
   ]
  },
  {
   "cell_type": "markdown",
   "metadata": {},
   "source": [
    "## Base GRN\n",
    "This section create base GRN given cicero results.\n",
    "###  Associate peaks with TSS\n",
    "Each peak is associated with promotors of target genes (+- 1kbp). Celloracle should be installed for this step."
   ]
  },
  {
   "cell_type": "code",
   "execution_count": 51,
   "metadata": {},
   "outputs": [
    {
     "name": "stdout",
     "output_type": "stream",
     "text": [
      "que bed peaks: 131047\n",
      "tss peaks in que: 20898\n"
     ]
    },
    {
     "name": "stderr",
     "output_type": "stream",
     "text": [
      "***** WARNING: File /tmp/pybedtools.f78i1zv8.tmp has inconsistent naming convention for record:\n",
      "GL000194.1\t55749\t56580\n",
      "\n",
      "***** WARNING: File /tmp/pybedtools.f78i1zv8.tmp has inconsistent naming convention for record:\n",
      "GL000194.1\t55749\t56580\n",
      "\n"
     ]
    }
   ],
   "source": [
    "peaks = pd.read_csv(f\"{cicero_dir}/all_peaks.csv\", index_col=0)\n",
    "cicero_connections =  pd.read_csv(f\"{cicero_dir}/connections.csv\", index_col=0)\n",
    "tss_annotated = ma.get_tss_info(peak_str_list=peaks['x'].values, ref_genome=\"hg38\")\n",
    "tss_annotated.to_csv(f'{work_dir}/celloracle/baseGRN/tss_annotated.csv')\n"
   ]
  },
  {
   "cell_type": "markdown",
   "metadata": {},
   "source": [
    "###  Merge TSS peaks with cicero connections"
   ]
  },
  {
   "cell_type": "code",
   "execution_count": 81,
   "metadata": {},
   "outputs": [],
   "source": [
    "integrated = ma.integrate_tss_peak_with_cicero(tss_peak=tss_annotated, \n",
    "                                               cicero_connections=cicero_connections)\n"
   ]
  },
  {
   "cell_type": "code",
   "execution_count": 82,
   "metadata": {},
   "outputs": [],
   "source": [
    "integrated.to_csv(f'{work_dir}/celloracle/baseGRN/integrated.csv')"
   ]
  },
  {
   "cell_type": "markdown",
   "metadata": {},
   "source": [
    "###  Shortlisten the peak-gene connections"
   ]
  },
  {
   "cell_type": "code",
   "execution_count": 53,
   "metadata": {},
   "outputs": [
    {
     "data": {
      "text/html": [
       "<div>\n",
       "<style scoped>\n",
       "    .dataframe tbody tr th:only-of-type {\n",
       "        vertical-align: middle;\n",
       "    }\n",
       "\n",
       "    .dataframe tbody tr th {\n",
       "        vertical-align: top;\n",
       "    }\n",
       "\n",
       "    .dataframe thead th {\n",
       "        text-align: right;\n",
       "    }\n",
       "</style>\n",
       "<table border=\"1\" class=\"dataframe\">\n",
       "  <thead>\n",
       "    <tr style=\"text-align: right;\">\n",
       "      <th></th>\n",
       "      <th>peak_id</th>\n",
       "      <th>gene_short_name</th>\n",
       "      <th>coaccess</th>\n",
       "    </tr>\n",
       "  </thead>\n",
       "  <tbody>\n",
       "    <tr>\n",
       "      <th>0</th>\n",
       "      <td>chr10_100009475_100010367</td>\n",
       "      <td>DNMBP</td>\n",
       "      <td>1.0</td>\n",
       "    </tr>\n",
       "    <tr>\n",
       "      <th>1</th>\n",
       "      <td>chr10_100185622_100186542</td>\n",
       "      <td>ERLIN1</td>\n",
       "      <td>1.0</td>\n",
       "    </tr>\n",
       "    <tr>\n",
       "      <th>2</th>\n",
       "      <td>chr10_100229082_100229931</td>\n",
       "      <td>CHUK</td>\n",
       "      <td>1.0</td>\n",
       "    </tr>\n",
       "    <tr>\n",
       "      <th>3</th>\n",
       "      <td>chr10_100267238_100268104</td>\n",
       "      <td>CWF19L1</td>\n",
       "      <td>1.0</td>\n",
       "    </tr>\n",
       "    <tr>\n",
       "      <th>4</th>\n",
       "      <td>chr10_100286187_100287039</td>\n",
       "      <td>BLOC1S2</td>\n",
       "      <td>1.0</td>\n",
       "    </tr>\n",
       "    <tr>\n",
       "      <th>...</th>\n",
       "      <td>...</td>\n",
       "      <td>...</td>\n",
       "      <td>...</td>\n",
       "    </tr>\n",
       "    <tr>\n",
       "      <th>19109</th>\n",
       "      <td>chrX_9464670_9465539</td>\n",
       "      <td>TBL1X</td>\n",
       "      <td>1.0</td>\n",
       "    </tr>\n",
       "    <tr>\n",
       "      <th>19110</th>\n",
       "      <td>chrX_96684366_96685202</td>\n",
       "      <td>DIAPH2</td>\n",
       "      <td>1.0</td>\n",
       "    </tr>\n",
       "    <tr>\n",
       "      <th>19111</th>\n",
       "      <td>chrX_97564682_97565222</td>\n",
       "      <td>DIAPH2-AS1</td>\n",
       "      <td>1.0</td>\n",
       "    </tr>\n",
       "    <tr>\n",
       "      <th>19112</th>\n",
       "      <td>chrY_13703349_13704256</td>\n",
       "      <td>TMSB4Y</td>\n",
       "      <td>1.0</td>\n",
       "    </tr>\n",
       "    <tr>\n",
       "      <th>19113</th>\n",
       "      <td>chrY_20575222_20576136</td>\n",
       "      <td>EIF1AY</td>\n",
       "      <td>1.0</td>\n",
       "    </tr>\n",
       "  </tbody>\n",
       "</table>\n",
       "<p>19114 rows × 3 columns</p>\n",
       "</div>"
      ],
      "text/plain": [
       "                         peak_id gene_short_name  coaccess\n",
       "0      chr10_100009475_100010367           DNMBP       1.0\n",
       "1      chr10_100185622_100186542          ERLIN1       1.0\n",
       "2      chr10_100229082_100229931            CHUK       1.0\n",
       "3      chr10_100267238_100268104         CWF19L1       1.0\n",
       "4      chr10_100286187_100287039         BLOC1S2       1.0\n",
       "...                          ...             ...       ...\n",
       "19109       chrX_9464670_9465539           TBL1X       1.0\n",
       "19110     chrX_96684366_96685202          DIAPH2       1.0\n",
       "19111     chrX_97564682_97565222      DIAPH2-AS1       1.0\n",
       "19112     chrY_13703349_13704256          TMSB4Y       1.0\n",
       "19113     chrY_20575222_20576136          EIF1AY       1.0\n",
       "\n",
       "[19114 rows x 3 columns]"
      ]
     },
     "execution_count": 53,
     "metadata": {},
     "output_type": "execute_result"
    }
   ],
   "source": [
    "peak_gene = integrated[integrated.coaccess>0.8].reset_index(drop=True)\n",
    "peak_gene"
   ]
  },
  {
   "cell_type": "code",
   "execution_count": null,
   "metadata": {},
   "outputs": [],
   "source": [
    "peak_gene.to_csv(f'{work_dir}/celloracle/baseGRN/peak_gene.csv')"
   ]
  },
  {
   "cell_type": "markdown",
   "metadata": {},
   "source": [
    "### Create base GRN\n",
    "Running interactively might take a long time."
   ]
  },
  {
   "cell_type": "code",
   "execution_count": null,
   "metadata": {},
   "outputs": [],
   "source": [
    "# PLEASE make sure reference genome is correct.\n",
    "ref_genome = \"hg38\"\n",
    "\n",
    "genome_installation = ma.is_genome_installed(ref_genome=ref_genome,\n",
    "                                             genomes_dir=None)\n",
    "print(ref_genome, \"installation: \", genome_installation)\n",
    "\n",
    "# Instantiate TFinfo object\n",
    "tfi = ma.TFinfo(peak_data_frame=peak_gene, \n",
    "                ref_genome=\"hg38\",\n",
    "                genomes_dir=None) \n",
    "\n",
    "tfi.scan(fpr=0.05, \n",
    "         motifs=None,  # If you enter None, default motifs will be loaded.\n",
    "         verbose=True)\n",
    "# Check motif scan results\n",
    "tfi.scanned_df.head()\n",
    "# Reset filtering \n",
    "tfi.reset_filtering()\n",
    "\n",
    "# Do filtering\n",
    "tfi.filter_motifs_by_score(threshold=10)\n",
    "\n",
    "# Format post-filtering results.\n",
    "tfi.make_TFinfo_dataframe_and_dictionary(verbose=True)\n",
    "\n",
    "# Format and save \n",
    "df = tfi.to_dataframe()\n",
    "df.head()\n",
    "df.to_csv(f'{work_dir}/celloracle/baseGRN/grn_celloracle_base.csv')\n"
   ]
  },
  {
   "cell_type": "markdown",
   "metadata": {},
   "source": [
    "## Base GRN: only proximal \n",
    "This is only based on proximal cis elements and doesnt require cicero"
   ]
  },
  {
   "cell_type": "code",
   "execution_count": 54,
   "metadata": {},
   "outputs": [],
   "source": [
    "import anndata as ad \n",
    "adata_atac = ad.read_h5ad(f'{work_dir}/scATAC/adata_atac.h5ad')"
   ]
  },
  {
   "cell_type": "code",
   "execution_count": 55,
   "metadata": {},
   "outputs": [],
   "source": [
    "peaks = format_peakname(adata_atac.var.reset_index()).location.values"
   ]
  },
  {
   "cell_type": "code",
   "execution_count": 56,
   "metadata": {},
   "outputs": [
    {
     "name": "stdout",
     "output_type": "stream",
     "text": [
      "que bed peaks: 135418\n",
      "tss peaks in que: 21028\n"
     ]
    },
    {
     "name": "stderr",
     "output_type": "stream",
     "text": [
      "***** WARNING: File /tmp/pybedtools.dxm99xoa.tmp has inconsistent naming convention for record:\n",
      "chr10\t100001032\t100001800\n",
      "\n",
      "***** WARNING: File /tmp/pybedtools.dxm99xoa.tmp has inconsistent naming convention for record:\n",
      "chr10\t100001032\t100001800\n",
      "\n"
     ]
    }
   ],
   "source": [
    "tss_annotated = ma.get_tss_info(peak_str_list=peaks, ref_genome=\"hg38\")\n",
    "tss_annotated.to_csv(f'{work_dir}/celloracle/baseGRN/tss_annotated.csv')"
   ]
  },
  {
   "cell_type": "code",
   "execution_count": 77,
   "metadata": {},
   "outputs": [],
   "source": [
    "##----- integrate_tss_peak_with_cicero\n",
    "import numpy as np\n",
    "from celloracle.motif_analysis.process_bed_file import df_to_list_peakstr\n",
    "# 1. check tss data format and convert if needed\n",
    "tss_peak=tss_annotated\n",
    "tss = tss_peak.copy()\n",
    "if np.all([i in tss.columns for i in [\"chr\", \"start\", \"end\"]]):\n",
    "    tss = pd.DataFrame({\"peak_id\": df_to_list_peakstr(tss),\n",
    "                        \"gene_short_name\": tss.gene_short_name.values})\n",
    "else:\n",
    "    raise ValueError(\"tss_peak format error\")\n",
    "\n",
    "peak_gene = tss"
   ]
  },
  {
   "cell_type": "code",
   "execution_count": 78,
   "metadata": {},
   "outputs": [],
   "source": [
    "peak_gene.to_csv(f'{work_dir}/celloracle/baseGRN/peak_gene.csv')"
   ]
  },
  {
   "cell_type": "markdown",
   "metadata": {},
   "source": [
    "### TF motifs"
   ]
  },
  {
   "cell_type": "code",
   "execution_count": 5,
   "metadata": {},
   "outputs": [],
   "source": [
    "import pandas as pd \n",
    "from celloracle import motif_analysis as ma\n",
    "import genomepy\n",
    "genomes_dir='/beegfs/desy/user/nourisaj/op_multiomics_grn/output/celloracle'\n",
    "peak_gene = pd.read_csv(f'{work_dir}/celloracle/baseGRN/peak_gene.csv', index_col=0)\n",
    "genomepy.install_genome(name=\"hg38\", provider=\"UCSC\", genomes_dir=genomes_dir)"
   ]
  },
  {
   "cell_type": "code",
   "execution_count": 48,
   "metadata": {},
   "outputs": [],
   "source": [
    "# PLEASE make sure reference genome is correct.\n",
    "ref_genome = \"hg38\"\n",
    "\n",
    "genome_installation = ma.is_genome_installed(ref_genome=ref_genome,\n",
    "                                             genomes_dir=genomes_dir)\n",
    "print(ref_genome, \"installation: \", genome_installation)\n",
    "\n",
    "# Instantiate TFinfo object\n",
    "tfi = ma.TFinfo(peak_data_frame=peak_gene, \n",
    "                ref_genome=\"hg38\",\n",
    "                genomes_dir=genomes_dir) \n",
    "\n",
    "tfi.scan(fpr=0.05, \n",
    "         motifs=None,  # If you enter None, default motifs will be loaded.\n",
    "         verbose=True)\n",
    "# Check motif scan results\n",
    "tfi.scanned_df.head()\n",
    "# Reset filtering \n",
    "tfi.reset_filtering()\n",
    "\n",
    "# Do filtering\n",
    "tfi.filter_motifs_by_score(threshold=10)\n",
    "\n",
    "# Format post-filtering results.\n",
    "tfi.make_TFinfo_dataframe_and_dictionary(verbose=True)\n",
    "\n",
    "# Format and save \n",
    "df = tfi.to_dataframe()\n",
    "df.head()\n",
    "df.to_csv(f'{work_dir}/celloracle/baseGRN/grn_celloracle_base.csv')"
   ]
  },
  {
   "cell_type": "markdown",
   "metadata": {},
   "source": [
    "## GRN construction\n"
   ]
  },
  {
   "cell_type": "markdown",
   "metadata": {},
   "source": [
    "### Preprocessing scRNA-seq"
   ]
  },
  {
   "cell_type": "code",
   "execution_count": 86,
   "metadata": {},
   "outputs": [],
   "source": [
    "import pandas as pd\n",
    "import celloracle as co\n",
    "import anndata\n",
    "import scanpy as sc\n",
    "adata = anndata.read_h5ad(f'{work_dir}/scRNA/adata_rna.h5ad')\n"
   ]
  },
  {
   "cell_type": "code",
   "execution_count": 87,
   "metadata": {},
   "outputs": [
    {
     "data": {
      "text/plain": [
       "AnnData object with n_obs × n_vars = 25551 × 22787\n",
       "    obs: 'cell_type', 'donor_id', 'n_genes'\n",
       "    var: 'n_cells'\n",
       "    layers: 'counts', 'x_norm'"
      ]
     },
     "execution_count": 87,
     "metadata": {},
     "output_type": "execute_result"
    }
   ],
   "source": [
    "del adata.varm \n",
    "del adata.uns \n",
    "del adata.obsp \n",
    "del adata.obsm \n",
    "del adata.obs['louvain']\n",
    "adata"
   ]
  },
  {
   "cell_type": "code",
   "execution_count": 88,
   "metadata": {},
   "outputs": [],
   "source": [
    "adata.X = adata.layers['counts'].copy()"
   ]
  },
  {
   "cell_type": "code",
   "execution_count": 89,
   "metadata": {},
   "outputs": [
    {
     "data": {
      "text/plain": [
       "array([1., 1., 1., ..., 2., 1., 1.])"
      ]
     },
     "execution_count": 89,
     "metadata": {},
     "output_type": "execute_result"
    }
   ],
   "source": [
    "adata.X.data"
   ]
  },
  {
   "cell_type": "code",
   "execution_count": 90,
   "metadata": {},
   "outputs": [],
   "source": [
    "sc.pp.normalize_per_cell(adata, key_n_counts='n_counts_all')"
   ]
  },
  {
   "cell_type": "code",
   "execution_count": 91,
   "metadata": {},
   "outputs": [],
   "source": [
    "filter_result = sc.pp.filter_genes_dispersion(adata.X,\n",
    "                                              flavor='cell_ranger',\n",
    "                                              n_top_genes=3000,\n",
    "                                              log=False)\n",
    "\n",
    "# Subset the genes\n",
    "adata = adata[:, filter_result.gene_subset]\n",
    "\n",
    "# Renormalize after filtering\n",
    "sc.pp.normalize_per_cell(adata)"
   ]
  },
  {
   "cell_type": "code",
   "execution_count": 95,
   "metadata": {},
   "outputs": [],
   "source": [
    "# Log transformation and scaling\n",
    "sc.pp.log1p(adata)\n",
    "sc.pp.scale(adata)"
   ]
  },
  {
   "cell_type": "code",
   "execution_count": 100,
   "metadata": {},
   "outputs": [],
   "source": [
    "# PCA\n",
    "sc.tl.pca(adata, svd_solver='arpack')\n",
    "\n",
    "# Diffusion map\n",
    "sc.pp.neighbors(adata, n_neighbors=4, n_pcs=20)\n",
    "\n",
    "sc.tl.diffmap(adata)\n",
    "# Calculate neihbors again based on diffusionmap \n",
    "sc.pp.neighbors(adata, n_neighbors=10, use_rep='X_diffmap')"
   ]
  },
  {
   "cell_type": "code",
   "execution_count": 101,
   "metadata": {},
   "outputs": [],
   "source": [
    "sc.tl.louvain(adata, resolution=0.8)"
   ]
  },
  {
   "cell_type": "code",
   "execution_count": 59,
   "metadata": {},
   "outputs": [
    {
     "data": {
      "text/plain": [
       "AnnData object with n_obs × n_vars = 25551 × 3000\n",
       "    obs: 'cell_type', 'donor_id', 'n_genes', 'n_counts_all', 'n_counts', 'louvain'\n",
       "    var: 'n_cells', 'mean', 'std'\n",
       "    uns: 'log1p', 'pca', 'neighbors', 'diffmap_evals', 'louvain'\n",
       "    obsm: 'X_pca', 'X_diffmap'\n",
       "    varm: 'PCs'\n",
       "    layers: 'counts', 'x_norm'\n",
       "    obsp: 'distances', 'connectivities'"
      ]
     },
     "execution_count": 59,
     "metadata": {},
     "output_type": "execute_result"
    }
   ],
   "source": [
    "adata"
   ]
  },
  {
   "cell_type": "code",
   "execution_count": 102,
   "metadata": {},
   "outputs": [],
   "source": [
    "sc.tl.paga(adata, groups='louvain')"
   ]
  },
  {
   "cell_type": "code",
   "execution_count": 103,
   "metadata": {},
   "outputs": [],
   "source": [
    "sc.pl.paga(adata)"
   ]
  },
  {
   "cell_type": "code",
   "execution_count": 104,
   "metadata": {},
   "outputs": [
    {
     "name": "stdout",
     "output_type": "stream",
     "text": [
      "WARNING: Package 'fa2' is not installed, falling back to layout 'fr'.To use the faster and better ForceAtlas2 layout, install package 'fa2' (`pip install fa2`).\n"
     ]
    }
   ],
   "source": [
    "sc.tl.draw_graph(adata, init_pos='paga', random_state=123)\n",
    "sc.pl.draw_graph(adata, color='louvain', legend_loc='on data')"
   ]
  },
  {
   "cell_type": "code",
   "execution_count": 10,
   "metadata": {},
   "outputs": [
    {
     "name": "stdout",
     "output_type": "stream",
     "text": [
      "Metadata columns : ['cell_type', 'donor_id', 'n_genes', 'louvain', 'n_counts_all', 'n_counts']\n",
      "Dimensional reduction:  ['X_diffmap', 'X_draw_graph_fr', 'X_pca', 'X_umap']\n"
     ]
    }
   ],
   "source": [
    "# Check data in anndata\n",
    "print(\"Metadata columns :\", list(adata.obs.columns))\n",
    "print(\"Dimensional reduction: \", list(adata.obsm.keys()))"
   ]
  },
  {
   "cell_type": "code",
   "execution_count": 108,
   "metadata": {},
   "outputs": [
    {
     "data": {
      "text/plain": [
       "array([1., 1., 1., ..., 1., 1., 2.])"
      ]
     },
     "execution_count": 108,
     "metadata": {},
     "output_type": "execute_result"
    }
   ],
   "source": [
    "## run based on counts as suggesyed by co pipeline\n",
    "adata.X = adata.layers[\"counts\"]\n",
    "adata.X.data"
   ]
  },
  {
   "cell_type": "markdown",
   "metadata": {},
   "source": [
    "### Load base GRN"
   ]
  },
  {
   "cell_type": "code",
   "execution_count": 106,
   "metadata": {},
   "outputs": [],
   "source": [
    "base_GRN = pd.read_csv(f'{work_dir}/celloracle/baseGRN/grn_celloracle_base.csv', index_col=0)"
   ]
  },
  {
   "cell_type": "markdown",
   "metadata": {},
   "source": [
    "### Initialize "
   ]
  },
  {
   "cell_type": "code",
   "execution_count": 109,
   "metadata": {},
   "outputs": [
    {
     "name": "stdout",
     "output_type": "stream",
     "text": [
      "WARNING: adata.X seems to be already log-transformed.\n"
     ]
    }
   ],
   "source": [
    "# Instantiate Oracle object\n",
    "oracle = co.Oracle()\n",
    "# Instantiate Oracle object.\n",
    "oracle.import_anndata_as_raw_count(adata=adata,\n",
    "                                   cluster_column_name=\"cell_type\",\n",
    "                                   embedding_name=\"X_draw_graph_fr\")"
   ]
  },
  {
   "cell_type": "code",
   "execution_count": 113,
   "metadata": {},
   "outputs": [],
   "source": [
    "# You can load TF info dataframe with the following code.\n",
    "oracle.import_TF_data(TF_info_matrix=base_GRN)"
   ]
  },
  {
   "cell_type": "code",
   "execution_count": 114,
   "metadata": {},
   "outputs": [
    {
     "name": "stdout",
     "output_type": "stream",
     "text": [
      "25\n"
     ]
    }
   ],
   "source": [
    "import numpy as np\n",
    "oracle.perform_PCA()\n",
    "plt.plot(np.cumsum(oracle.pca.explained_variance_ratio_)[:100])\n",
    "n_comps = np.where(np.diff(np.diff(np.cumsum(oracle.pca.explained_variance_ratio_))>0.002))[0][0]\n",
    "plt.axvline(n_comps, c=\"k\")\n",
    "plt.show()\n",
    "print(n_comps)\n",
    "n_comps = min(n_comps, 50)"
   ]
  },
  {
   "cell_type": "code",
   "execution_count": 115,
   "metadata": {},
   "outputs": [
    {
     "name": "stdout",
     "output_type": "stream",
     "text": [
      "cell number is :25551\n",
      "Auto-selected k is :50\n"
     ]
    }
   ],
   "source": [
    "n_cell = oracle.adata.shape[0]\n",
    "print(f\"cell number is :{n_cell}\")\n",
    "k = min([int(0.025*n_cell), 50])\n",
    "print(f\"Auto-selected k is :{k}\")\n",
    "oracle.knn_imputation(n_pca_dims=n_comps, k=k, balanced=True, b_sight=k*8,\n",
    "                      b_maxl=k*4, n_jobs=4)"
   ]
  },
  {
   "cell_type": "code",
   "execution_count": 117,
   "metadata": {},
   "outputs": [],
   "source": [
    "oracle.to_hdf5(f'{work_dir}/celloracle/grn/presaved_3000.celloracle.oracle')"
   ]
  },
  {
   "cell_type": "markdown",
   "metadata": {},
   "source": [
    "### GRN calculation\n"
   ]
  },
  {
   "cell_type": "code",
   "execution_count": null,
   "metadata": {},
   "outputs": [],
   "source": [
    "if True: # run locally\n",
    "    # Load file.\n",
    "    oracle = co.load_hdf5(f'{work_dir}/celloracle/grn/presaved_3000.celloracle.oracle')\n",
    "    # This step may take some time.\n",
    "    links = oracle.get_links(cluster_name_for_GRN_unit=\"cell_type\", alpha=10,\n",
    "                            verbose_level=10)\n",
    "    links.to_hdf5(file_path=f\"{work_dir}/celloracle/grn/links_3000.celloracle.links\")\n",
    "else:\n",
    "    !python celloracle/run_grn.py"
   ]
  },
  {
   "cell_type": "markdown",
   "metadata": {},
   "source": [
    "# Post evaluation"
   ]
  },
  {
   "cell_type": "markdown",
   "metadata": {},
   "source": [
    "## Peak gene connections\n"
   ]
  },
  {
   "cell_type": "code",
   "execution_count": 3,
   "metadata": {},
   "outputs": [
    {
     "name": "stdout",
     "output_type": "stream",
     "text": [
      "21028\n",
      "368203\n",
      "21028\n"
     ]
    }
   ],
   "source": [
    "tss_annotated = pd.read_csv(f'{work_dir}/celloracle/baseGRN/tss_annotated.csv')\n",
    "print(len(tss_annotated))\n",
    "integrated = pd.read_csv(f'{work_dir}/celloracle/baseGRN/integrated.csv')\n",
    "print(len(integrated))\n",
    "peak_gene_shortlist = pd.read_csv(f'{work_dir}/celloracle/baseGRN/peak_gene.csv')\n",
    "print(len(peak_gene_shortlist))"
   ]
  },
  {
   "cell_type": "code",
   "execution_count": 6,
   "metadata": {},
   "outputs": [
    {
     "name": "stdout",
     "output_type": "stream",
     "text": [
      "unique peaks in peak-gene (17295,)\n",
      "unique genes in peak-gene (16691,)\n"
     ]
    }
   ],
   "source": [
    "print('unique peaks in peak-gene', peak_gene_shortlist.peak_id.unique().shape)\n",
    "print('unique genes in peak-gene', peak_gene_shortlist.gene_short_name.unique().shape)"
   ]
  },
  {
   "cell_type": "code",
   "execution_count": 9,
   "metadata": {},
   "outputs": [
    {
     "name": "stdout",
     "output_type": "stream",
     "text": [
      "number of DORC genes with t of 10  0\n",
      "number of DORC genes with t of 5  17\n"
     ]
    }
   ],
   "source": [
    "peak_gene_shortlist = pd.read_csv(f'{work_dir}/celloracle/baseGRN/peak_gene.csv', index_col=0)\n",
    "peak_gene_co_n = peak_gene_shortlist.groupby('gene_short_name').apply(lambda df:df['peak_id'].shape[0])\n",
    "np.max(peak_gene_co_n.values), np.median(peak_gene_co_n.values)\n",
    "\n",
    "# print('number of TFs ', scenicplus.TF.unique().shape[0], ' CIS ', scenicplus.Region.unique().shape[0], ' gene ', scenicplus.Gene.unique().shape[0])\n",
    "print('number of DORC genes with t of 10 ', (peak_gene_co_n.values > 10).sum())\n",
    "print('number of DORC genes with t of 5 ', (peak_gene_co_n.values > 5).sum())"
   ]
  },
  {
   "cell_type": "code",
   "execution_count": null,
   "metadata": {},
   "outputs": [],
   "source": [
    "# convert peak to peak_id using celloracle function\n",
    "tss_annotated_df = pd.DataFrame({\"peak_id\": ma.process_bed_file.df_to_list_peakstr(tss_annotated),\n",
    "                            \"gene_short_name\": tss_annotated.gene_short_name.values})"
   ]
  },
  {
   "cell_type": "code",
   "execution_count": null,
   "metadata": {},
   "outputs": [],
   "source": [
    "# number of tss_annotated pairs in shortlisted peak\n",
    "print(f'Percentage of proximal elements in the final peak gene pairs: {100*peak_gene_shortlist.peak_id.isin(tss_annotated_df.peak_id).sum()/len(peak_gene_shortlist)}')"
   ]
  },
  {
   "cell_type": "code",
   "execution_count": null,
   "metadata": {},
   "outputs": [],
   "source": [
    "dorc_shortlisted = peak_gene_shortlist.groupby('gene_short_name').size()\n",
    "print(f\"In the short list: max peaks per gene: {dorc_shortlisted.max()}, median: {dorc_shortlisted.median()}\")\n"
   ]
  },
  {
   "cell_type": "code",
   "execution_count": null,
   "metadata": {},
   "outputs": [],
   "source": [
    "threshold = 10\n",
    "peak_new = integrated[integrated.coaccess >= threshold]\n",
    "print('number of DORC: ', (peak_new.groupby('gene_short_name').size()>10).sum())"
   ]
  },
  {
   "cell_type": "markdown",
   "metadata": {},
   "source": [
    "## Base GRN"
   ]
  },
  {
   "cell_type": "code",
   "execution_count": null,
   "metadata": {},
   "outputs": [],
   "source": [
    "base_GRN = pd.read_csv(f'{work_dir}/celloracle/baseGRN/grn_celloracle_base.csv', index_col=0)"
   ]
  },
  {
   "cell_type": "code",
   "execution_count": null,
   "metadata": {},
   "outputs": [],
   "source": [
    "tfs_co = base_GRN.columns[3:]\n",
    "keeo_cols = tfs_co.insert(0, ['gene_short_name', 'peak_id'])\n",
    "df = base_GRN[keeo_cols]\n",
    "# Melting the DataFrame\n",
    "melted_df = pd.melt(df, id_vars=['gene_short_name', 'peak_id'], var_name='TF', value_name='Link')\n",
    "\n",
    "# Filtering out rows where there is no link (optional, if you only want interactions)\n",
    "melted_df = melted_df[melted_df['Link'] == 1]"
   ]
  },
  {
   "cell_type": "code",
   "execution_count": null,
   "metadata": {},
   "outputs": [],
   "source": [
    "print(f'TFs : {melted_df.TF.unique().shape} , regions : {melted_df.peak_id.unique().shape},  genes : {melted_df.gene_short_name.unique().shape}')"
   ]
  },
  {
   "cell_type": "markdown",
   "metadata": {},
   "source": [
    "## Refined GRN "
   ]
  },
  {
   "cell_type": "code",
   "execution_count": 12,
   "metadata": {},
   "outputs": [],
   "source": [
    "links = co.load_hdf5(f\"{work_dir}/celloracle/grn/links_3000.celloracle.links\")\n",
    "links.filter_links(p=0.05, weight=\"coef_abs\", threshold_number=2000)\n"
   ]
  },
  {
   "cell_type": "code",
   "execution_count": 13,
   "metadata": {},
   "outputs": [
    {
     "name": "stdout",
     "output_type": "stream",
     "text": [
      "TFs : (108,) , genes : (1847,)\n"
     ]
    }
   ],
   "source": [
    "links_stack = []\n",
    "cell_types = list(links.links_dict.keys())\n",
    "links_celltype = links.links_dict[cell_types[2]]\n",
    "print(f'TFs : {links_celltype.source.unique().shape} , genes : {links_celltype.target.unique().shape}')"
   ]
  },
  {
   "cell_type": "code",
   "execution_count": 17,
   "metadata": {},
   "outputs": [
    {
     "name": "stdout",
     "output_type": "stream",
     "text": [
      "connections:  (28194, 4)\n",
      "TFs:  (108,)\n",
      "target gene:  (1662,)\n",
      "connections:  (28399, 4)\n",
      "TFs:  (107,)\n",
      "target gene:  (1685,)\n",
      "connections:  (27931, 4)\n",
      "TFs:  (106,)\n",
      "target gene:  (1646,)\n",
      "connections:  (25211, 4)\n",
      "TFs:  (107,)\n",
      "target gene:  (1639,)\n"
     ]
    }
   ],
   "source": [
    "top_quantile = 0.7\n",
    "grn_stack = []\n",
    "for i, cell_type in enumerate(cell_types):\n",
    "    grn_celltype = links.links_dict[cell_type]\n",
    "    grn_celltype = grn_celltype[~(grn_celltype.coef_mean==0)][['source', 'target', 'coef_mean']] # remove those with 0 coeff\n",
    "    grn_celltype.columns = ['source', 'target', f'weight']\n",
    "    grn_celltype['cell_type'] = cell_type\n",
    "    grn_celltype = grn_celltype[grn_celltype.weight.abs()>grn_celltype.weight.quantile(top_quantile)]\n",
    "    print('connections: ', grn_celltype.shape)\n",
    "    print('TFs: ', grn_celltype.source.unique().shape)\n",
    "    print('target gene: ', grn_celltype.target.unique().shape)\n",
    "    grn_stack.append(grn_celltype)"
   ]
  },
  {
   "cell_type": "code",
   "execution_count": 18,
   "metadata": {},
   "outputs": [
    {
     "data": {
      "text/html": [
       "<div>\n",
       "<style scoped>\n",
       "    .dataframe tbody tr th:only-of-type {\n",
       "        vertical-align: middle;\n",
       "    }\n",
       "\n",
       "    .dataframe tbody tr th {\n",
       "        vertical-align: top;\n",
       "    }\n",
       "\n",
       "    .dataframe thead th {\n",
       "        text-align: right;\n",
       "    }\n",
       "</style>\n",
       "<table border=\"1\" class=\"dataframe\">\n",
       "  <thead>\n",
       "    <tr style=\"text-align: right;\">\n",
       "      <th></th>\n",
       "      <th>source</th>\n",
       "      <th>target</th>\n",
       "      <th>weight</th>\n",
       "      <th>cell_type</th>\n",
       "    </tr>\n",
       "  </thead>\n",
       "  <tbody>\n",
       "    <tr>\n",
       "      <th>0</th>\n",
       "      <td>EGR3</td>\n",
       "      <td>A2M</td>\n",
       "      <td>-0.005636</td>\n",
       "      <td>B cells</td>\n",
       "    </tr>\n",
       "    <tr>\n",
       "      <th>1</th>\n",
       "      <td>ETV1</td>\n",
       "      <td>A2M</td>\n",
       "      <td>-0.010257</td>\n",
       "      <td>B cells</td>\n",
       "    </tr>\n",
       "    <tr>\n",
       "      <th>2</th>\n",
       "      <td>EGR1</td>\n",
       "      <td>A2M</td>\n",
       "      <td>-0.010658</td>\n",
       "      <td>B cells</td>\n",
       "    </tr>\n",
       "    <tr>\n",
       "      <th>3</th>\n",
       "      <td>RXRA</td>\n",
       "      <td>A2M</td>\n",
       "      <td>-0.004932</td>\n",
       "      <td>B cells</td>\n",
       "    </tr>\n",
       "    <tr>\n",
       "      <th>4</th>\n",
       "      <td>ETV4</td>\n",
       "      <td>A2M</td>\n",
       "      <td>0.004718</td>\n",
       "      <td>B cells</td>\n",
       "    </tr>\n",
       "    <tr>\n",
       "      <th>...</th>\n",
       "      <td>...</td>\n",
       "      <td>...</td>\n",
       "      <td>...</td>\n",
       "      <td>...</td>\n",
       "    </tr>\n",
       "    <tr>\n",
       "      <th>109730</th>\n",
       "      <td>TEAD2</td>\n",
       "      <td>ZSWIM5</td>\n",
       "      <td>0.008955</td>\n",
       "      <td>agg_type</td>\n",
       "    </tr>\n",
       "    <tr>\n",
       "      <th>109731</th>\n",
       "      <td>STAT1</td>\n",
       "      <td>ZSWIM5</td>\n",
       "      <td>0.050559</td>\n",
       "      <td>agg_type</td>\n",
       "    </tr>\n",
       "    <tr>\n",
       "      <th>109732</th>\n",
       "      <td>MEF2C</td>\n",
       "      <td>ZSWIM5</td>\n",
       "      <td>0.004453</td>\n",
       "      <td>agg_type</td>\n",
       "    </tr>\n",
       "    <tr>\n",
       "      <th>109733</th>\n",
       "      <td>PAX5</td>\n",
       "      <td>ZSWIM5</td>\n",
       "      <td>0.016675</td>\n",
       "      <td>agg_type</td>\n",
       "    </tr>\n",
       "    <tr>\n",
       "      <th>109734</th>\n",
       "      <td>AHRR</td>\n",
       "      <td>ZSWIM5</td>\n",
       "      <td>-0.138577</td>\n",
       "      <td>agg_type</td>\n",
       "    </tr>\n",
       "  </tbody>\n",
       "</table>\n",
       "<p>109735 rows × 4 columns</p>\n",
       "</div>"
      ],
      "text/plain": [
       "       source  target    weight cell_type\n",
       "0        EGR3     A2M -0.005636   B cells\n",
       "1        ETV1     A2M -0.010257   B cells\n",
       "2        EGR1     A2M -0.010658   B cells\n",
       "3        RXRA     A2M -0.004932   B cells\n",
       "4        ETV4     A2M  0.004718   B cells\n",
       "...       ...     ...       ...       ...\n",
       "109730  TEAD2  ZSWIM5  0.008955  agg_type\n",
       "109731  STAT1  ZSWIM5  0.050559  agg_type\n",
       "109732  MEF2C  ZSWIM5  0.004453  agg_type\n",
       "109733   PAX5  ZSWIM5  0.016675  agg_type\n",
       "109734   AHRR  ZSWIM5 -0.138577  agg_type\n",
       "\n",
       "[109735 rows x 4 columns]"
      ]
     },
     "execution_count": 18,
     "metadata": {},
     "output_type": "execute_result"
    }
   ],
   "source": [
    "co_grn = pd.concat(grn_stack).reset_index(drop=True)\n",
    "co_grn"
   ]
  },
  {
   "cell_type": "code",
   "execution_count": 20,
   "metadata": {},
   "outputs": [
    {
     "data": {
      "text/html": [
       "<div>\n",
       "<style scoped>\n",
       "    .dataframe tbody tr th:only-of-type {\n",
       "        vertical-align: middle;\n",
       "    }\n",
       "\n",
       "    .dataframe tbody tr th {\n",
       "        vertical-align: top;\n",
       "    }\n",
       "\n",
       "    .dataframe thead th {\n",
       "        text-align: right;\n",
       "    }\n",
       "</style>\n",
       "<table border=\"1\" class=\"dataframe\">\n",
       "  <thead>\n",
       "    <tr style=\"text-align: right;\">\n",
       "      <th></th>\n",
       "      <th>source</th>\n",
       "      <th>target</th>\n",
       "      <th>weight</th>\n",
       "      <th>cell_type</th>\n",
       "    </tr>\n",
       "  </thead>\n",
       "  <tbody>\n",
       "    <tr>\n",
       "      <th>103945</th>\n",
       "      <td>EGR1</td>\n",
       "      <td>RPS27</td>\n",
       "      <td>-1.835985</td>\n",
       "      <td>agg_type</td>\n",
       "    </tr>\n",
       "    <tr>\n",
       "      <th>104036</th>\n",
       "      <td>EGR1</td>\n",
       "      <td>RPS29</td>\n",
       "      <td>-1.686237</td>\n",
       "      <td>agg_type</td>\n",
       "    </tr>\n",
       "    <tr>\n",
       "      <th>103922</th>\n",
       "      <td>EGR1</td>\n",
       "      <td>RPS18</td>\n",
       "      <td>-1.459411</td>\n",
       "      <td>agg_type</td>\n",
       "    </tr>\n",
       "    <tr>\n",
       "      <th>103453</th>\n",
       "      <td>EGR1</td>\n",
       "      <td>RPL10</td>\n",
       "      <td>-1.443999</td>\n",
       "      <td>agg_type</td>\n",
       "    </tr>\n",
       "    <tr>\n",
       "      <th>103827</th>\n",
       "      <td>EGR1</td>\n",
       "      <td>RPS12</td>\n",
       "      <td>-1.443259</td>\n",
       "      <td>agg_type</td>\n",
       "    </tr>\n",
       "    <tr>\n",
       "      <th>...</th>\n",
       "      <td>...</td>\n",
       "      <td>...</td>\n",
       "      <td>...</td>\n",
       "      <td>...</td>\n",
       "    </tr>\n",
       "    <tr>\n",
       "      <th>90916</th>\n",
       "      <td>MAFB</td>\n",
       "      <td>EEF1A1</td>\n",
       "      <td>1.003415</td>\n",
       "      <td>agg_type</td>\n",
       "    </tr>\n",
       "    <tr>\n",
       "      <th>103497</th>\n",
       "      <td>MITF</td>\n",
       "      <td>RPL13</td>\n",
       "      <td>1.046321</td>\n",
       "      <td>agg_type</td>\n",
       "    </tr>\n",
       "    <tr>\n",
       "      <th>103472</th>\n",
       "      <td>MAFB</td>\n",
       "      <td>RPL10</td>\n",
       "      <td>1.117945</td>\n",
       "      <td>agg_type</td>\n",
       "    </tr>\n",
       "    <tr>\n",
       "      <th>66287</th>\n",
       "      <td>TCF4</td>\n",
       "      <td>GNLY</td>\n",
       "      <td>1.215432</td>\n",
       "      <td>NK cells</td>\n",
       "    </tr>\n",
       "    <tr>\n",
       "      <th>103527</th>\n",
       "      <td>MITF</td>\n",
       "      <td>RPL13A</td>\n",
       "      <td>1.284136</td>\n",
       "      <td>agg_type</td>\n",
       "    </tr>\n",
       "  </tbody>\n",
       "</table>\n",
       "<p>109735 rows × 4 columns</p>\n",
       "</div>"
      ],
      "text/plain": [
       "       source  target    weight cell_type\n",
       "103945   EGR1   RPS27 -1.835985  agg_type\n",
       "104036   EGR1   RPS29 -1.686237  agg_type\n",
       "103922   EGR1   RPS18 -1.459411  agg_type\n",
       "103453   EGR1   RPL10 -1.443999  agg_type\n",
       "103827   EGR1   RPS12 -1.443259  agg_type\n",
       "...       ...     ...       ...       ...\n",
       "90916    MAFB  EEF1A1  1.003415  agg_type\n",
       "103497   MITF   RPL13  1.046321  agg_type\n",
       "103472   MAFB   RPL10  1.117945  agg_type\n",
       "66287    TCF4    GNLY  1.215432  NK cells\n",
       "103527   MITF  RPL13A  1.284136  agg_type\n",
       "\n",
       "[109735 rows x 4 columns]"
      ]
     },
     "execution_count": 20,
     "metadata": {},
     "output_type": "execute_result"
    }
   ],
   "source": [
    "co_grn.sort_values(\"weight\")"
   ]
  },
  {
   "cell_type": "code",
   "execution_count": 24,
   "metadata": {},
   "outputs": [
    {
     "data": {
      "image/png": "[encoded data removed]",
      "text/plain": [
       "<Figure size 640x480 with 1 Axes>"
      ]
     },
     "metadata": {},
     "output_type": "display_data"
    }
   ],
   "source": [
    "aa = plt.hist(co_grn.weight, bins=100)\n",
    "plt.show()"
   ]
  },
  {
   "cell_type": "code",
   "execution_count": 35,
   "metadata": {},
   "outputs": [],
   "source": [
    "co_grn.to_csv(f'{work_dir}/celloracle/grn/co_grn_3000.csv')"
   ]
  }
 ],
 "metadata": {
  "kernelspec": {
   "display_name": "celloracle",
   "language": "python",
   "name": "python3"
  },
  "language_info": {
   "codemirror_mode": {
    "name": "ipython",
    "version": 3
   },
   "file_extension": ".py",
   "mimetype": "text/x-python",
   "name": "python",
   "nbconvert_exporter": "python",
   "pygments_lexer": "ipython3",
   "version": "3.10.12"
  }
 },
 "nbformat": 4,
 "nbformat_minor": 2
}
