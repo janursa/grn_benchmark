{
 "cells": [
  {
   "cell_type": "code",
   "execution_count": 30,
   "metadata": {},
   "outputs": [],
   "source": [
    "import scanpy as sc\n",
    "import pandas as pd\n",
    "import seaborn as sns\n",
    "import matplotlib.pyplot as plt\n",
    "import anansescanpy as asc\n",
    "import os\n",
    "import numpy as np\n",
    "\n",
    "work_dir = '../../output'\n",
    "outputdir=f\"{work_dir}/ananse/\"\n",
    "# os.makedirs(outputdir)\n",
    "\n",
    "# Fill in the directories where the h5ad RNA and ATAC objects are located\n",
    "atac_PBMC=sc.read(f'{work_dir}/scATAC/adata_atac.h5ad')\n",
    "rna_PBMC=sc.read(f'{work_dir}/scRNA/adata_rna.h5ad')\n",
    "\n",
    "def filter_chr(peaks):\n",
    "    chrs = [peak.split(':')[0] for peak in peaks]\n",
    "    mask = np.asarray([True if ('chr' in chr) else False for chr in chrs])\n",
    "    return mask\n",
    "    \n",
    "mask = filter_chr(atac_PBMC.var.index)\n",
    "\n",
    "atac_PBMC = atac_PBMC[:, mask]\n",
    "\n",
    "rna_PBMC.obs['cell_type']=rna_PBMC.obs['cell_type'].str.replace(' ', '-').astype('category')\n",
    "rna_PBMC.obs['cell_type']=rna_PBMC.obs['cell_type'].str.replace('_', '-').astype('category')\n",
    "atac_PBMC.obs['cell_type']=atac_PBMC.obs['cell_type'].str.replace(' ', '-').astype('category')\n",
    "atac_PBMC.obs['cell_type']=atac_PBMC.obs['cell_type'].str.replace('_', '-').astype('category')\n",
    "\n",
    "\n",
    "minimal=25\n",
    "asc.export_CPM_scANANSE(anndata=rna_PBMC,\n",
    "min_cells=minimal,\n",
    "outputdir=outputdir,\n",
    "cluster_id=\"cell_type\"\n",
    ")\n",
    "asc.export_ATAC_scANANSE(anndata=atac_PBMC,\n",
    "min_cells=minimal,\n",
    "outputdir=outputdir,\n",
    "cluster_id=\"cell_type\"\n",
    ")\n",
    "asc.config_scANANSE(anndata=rna_PBMC,\n",
    "min_cells=minimal,\n",
    "outputdir=outputdir,\n",
    "cluster_id=\"cell_type\"\n",
    ")\n",
    "asc.DEGS_scANANSE(anndata=rna_PBMC,\n",
    "min_cells=minimal,\n",
    "outputdir=outputdir,\n",
    "cluster_id=\"cell_type\"\n",
    ")"
   ]
  },
  {
   "cell_type": "code",
   "execution_count": 3,
   "metadata": {},
   "outputs": [],
   "source": []
  },
  {
   "cell_type": "code",
   "execution_count": 33,
   "metadata": {},
   "outputs": [
    {
     "data": {
      "text/plain": [
       "AnnData object with n_obs × n_vars = 25551 × 135418\n",
       "    obs: 'obs_id', 'cell_type', 'donor_id'\n",
       "    uns: 'cell_type_colors', 'donor_id_colors', 'neighbors', 'obs', 'pca', 'umap'\n",
       "    obsm: 'X_pca', 'X_umap'\n",
       "    varm: 'PCs'\n",
       "    layers: 'x_norm'\n",
       "    obsp: 'connectivities', 'distances'"
      ]
     },
     "execution_count": 33,
     "metadata": {},
     "output_type": "execute_result"
    }
   ],
   "source": []
  },
  {
   "cell_type": "code",
   "execution_count": 36,
   "metadata": {},
   "outputs": [
    {
     "name": "stdout",
     "output_type": "stream",
     "text": [
      "gather data from B-cells with 3809 cells\n",
      "gather data from agg-type with 10371 cells\n",
      "gather data from NK-cells with 4497 cells\n",
      "gather data from Myeloid-cells with 6874 cells\n",
      "gather data from B-cells with 3809 cells\n",
      "gather data from agg-type with 10371 cells\n",
      "gather data from NK-cells with 4497 cells\n",
      "gather data from Myeloid-cells with 6874 cells\n",
      "anansesnake_B-cells_average\n",
      "anansesnake_agg-type_average\n",
      "anansesnake_NK-cells_average\n",
      "anansesnake_Myeloid-cells_average\n",
      "WARNING: adata.X seems to be already log-transformed.\n",
      "calculating DEGS for contrast anansesnake_B-cells_average\n",
      "skip\n",
      "calculating DEGS for contrast anansesnake_agg-type_average\n",
      "calculating DEGS for contrast anansesnake_NK-cells_average\n",
      "calculating DEGS for contrast anansesnake_Myeloid-cells_average\n"
     ]
    }
   ],
   "source": []
  }
 ],
 "metadata": {
  "kernelspec": {
   "display_name": "ananses",
   "language": "python",
   "name": "python3"
  },
  "language_info": {
   "codemirror_mode": {
    "name": "ipython",
    "version": 3
   },
   "file_extension": ".py",
   "mimetype": "text/x-python",
   "name": "python",
   "nbconvert_exporter": "python",
   "pygments_lexer": "ipython3",
   "version": "3.8.18"
  }
 },
 "nbformat": 4,
 "nbformat_minor": 2
}
