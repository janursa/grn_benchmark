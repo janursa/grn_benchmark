{
 "cells": [
  {
   "cell_type": "code",
   "execution_count": 1,
   "metadata": {},
   "outputs": [],
   "source": [
    "import scanpy as sc\n",
    "import pandas as pd\n",
    "import seaborn as sns\n",
    "import matplotlib.pyplot as plt\n",
    "# import anansescanpy as asc\n",
    "import os\n",
    "import numpy as np\n",
    "\n",
    "work_dir = '../../output'\n",
    "outputdir=f\"{work_dir}/infer/ananse/\"\n",
    "# os.makedirs(outputdir)\n"
   ]
  },
  {
   "cell_type": "code",
   "execution_count": null,
   "metadata": {},
   "outputs": [],
   "source": [
    "\n",
    "# Fill in the directories where the h5ad RNA and ATAC objects are located\n",
    "atac_PBMC=sc.read(f'{work_dir}/scATAC/adata_atac.h5ad')\n",
    "rna_PBMC=sc.read(f'{work_dir}/scRNA/adata_rna.h5ad')\n",
    "\n",
    "def filter_chr(peaks):\n",
    "    chrs = [peak.split(':')[0] for peak in peaks]\n",
    "    mask = np.asarray([True if ('chr' in chr) else False for chr in chrs])\n",
    "    return mask\n",
    "    \n",
    "mask = filter_chr(atac_PBMC.var.index)\n",
    "\n",
    "atac_PBMC = atac_PBMC[:, mask]\n",
    "\n",
    "rna_PBMC.obs['cell_type']=rna_PBMC.obs['cell_type'].str.replace(' ', '-').astype('category')\n",
    "rna_PBMC.obs['cell_type']=rna_PBMC.obs['cell_type'].str.replace('_', '-').astype('category')\n",
    "atac_PBMC.obs['cell_type']=atac_PBMC.obs['cell_type'].str.replace(' ', '-').astype('category')\n",
    "atac_PBMC.obs['cell_type']=atac_PBMC.obs['cell_type'].str.replace('_', '-').astype('category')\n",
    "\n",
    "\n",
    "minimal=25\n",
    "asc.export_CPM_scANANSE(anndata=rna_PBMC,\n",
    "min_cells=minimal,\n",
    "outputdir=outputdir,\n",
    "cluster_id=\"cell_type\"\n",
    ")\n",
    "asc.export_ATAC_scANANSE(anndata=atac_PBMC,\n",
    "min_cells=minimal,\n",
    "outputdir=outputdir,\n",
    "cluster_id=\"cell_type\"\n",
    ")\n",
    "asc.config_scANANSE(anndata=rna_PBMC,\n",
    "min_cells=minimal,\n",
    "outputdir=outputdir,\n",
    "cluster_id=\"cell_type\"\n",
    ")\n",
    "asc.DEGS_scANANSE(anndata=rna_PBMC,\n",
    "min_cells=minimal,\n",
    "outputdir=outputdir,\n",
    "cluster_id=\"cell_type\"\n",
    ")"
   ]
  },
  {
   "cell_type": "markdown",
   "metadata": {},
   "source": [
    "# Process results"
   ]
  },
  {
   "cell_type": "code",
   "execution_count": 2,
   "metadata": {},
   "outputs": [],
   "source": [
    "df = pd.read_csv(f\"{outputdir}/grn/average.tsv\", sep='\\t')"
   ]
  },
  {
   "cell_type": "code",
   "execution_count": 3,
   "metadata": {},
   "outputs": [
    {
     "data": {
      "text/html": [
       "<div>\n",
       "<style scoped>\n",
       "    .dataframe tbody tr th:only-of-type {\n",
       "        vertical-align: middle;\n",
       "    }\n",
       "\n",
       "    .dataframe tbody tr th {\n",
       "        vertical-align: top;\n",
       "    }\n",
       "\n",
       "    .dataframe thead th {\n",
       "        text-align: right;\n",
       "    }\n",
       "</style>\n",
       "<table border=\"1\" class=\"dataframe\">\n",
       "  <thead>\n",
       "    <tr style=\"text-align: right;\">\n",
       "      <th></th>\n",
       "      <th>tf_target</th>\n",
       "      <th>prob</th>\n",
       "      <th>tf_expression</th>\n",
       "      <th>target_expression</th>\n",
       "      <th>weighted_binding</th>\n",
       "      <th>activity</th>\n",
       "    </tr>\n",
       "  </thead>\n",
       "  <tbody>\n",
       "    <tr>\n",
       "      <th>0</th>\n",
       "      <td>AHR—A1BG</td>\n",
       "      <td>0.771351</td>\n",
       "      <td>0.863296</td>\n",
       "      <td>0.656891</td>\n",
       "      <td>0.862680</td>\n",
       "      <td>0.702539</td>\n",
       "    </tr>\n",
       "    <tr>\n",
       "      <th>1</th>\n",
       "      <td>AHR—A1BG-AS1</td>\n",
       "      <td>0.764345</td>\n",
       "      <td>0.863296</td>\n",
       "      <td>0.638495</td>\n",
       "      <td>0.853050</td>\n",
       "      <td>0.702539</td>\n",
       "    </tr>\n",
       "    <tr>\n",
       "      <th>2</th>\n",
       "      <td>AHR—A2M</td>\n",
       "      <td>0.704739</td>\n",
       "      <td>0.863296</td>\n",
       "      <td>0.895640</td>\n",
       "      <td>0.357482</td>\n",
       "      <td>0.702539</td>\n",
       "    </tr>\n",
       "    <tr>\n",
       "      <th>3</th>\n",
       "      <td>AHR—A2M-AS1</td>\n",
       "      <td>0.694442</td>\n",
       "      <td>0.863296</td>\n",
       "      <td>0.736972</td>\n",
       "      <td>0.474961</td>\n",
       "      <td>0.702539</td>\n",
       "    </tr>\n",
       "    <tr>\n",
       "      <th>4</th>\n",
       "      <td>AHR—A2ML1</td>\n",
       "      <td>0.473506</td>\n",
       "      <td>0.863296</td>\n",
       "      <td>0.251416</td>\n",
       "      <td>0.076773</td>\n",
       "      <td>0.702539</td>\n",
       "    </tr>\n",
       "    <tr>\n",
       "      <th>...</th>\n",
       "      <td>...</td>\n",
       "      <td>...</td>\n",
       "      <td>...</td>\n",
       "      <td>...</td>\n",
       "      <td>...</td>\n",
       "      <td>...</td>\n",
       "    </tr>\n",
       "    <tr>\n",
       "      <th>12185690</th>\n",
       "      <td>ZSCAN31—ZXDC</td>\n",
       "      <td>0.477942</td>\n",
       "      <td>0.204120</td>\n",
       "      <td>0.920270</td>\n",
       "      <td>0.753519</td>\n",
       "      <td>0.033857</td>\n",
       "    </tr>\n",
       "    <tr>\n",
       "      <th>12185691</th>\n",
       "      <td>ZSCAN31—ZYG11A</td>\n",
       "      <td>0.185941</td>\n",
       "      <td>0.204120</td>\n",
       "      <td>0.268077</td>\n",
       "      <td>0.237708</td>\n",
       "      <td>0.033857</td>\n",
       "    </tr>\n",
       "    <tr>\n",
       "      <th>12185692</th>\n",
       "      <td>ZSCAN31—ZYG11B</td>\n",
       "      <td>0.367832</td>\n",
       "      <td>0.204120</td>\n",
       "      <td>0.838653</td>\n",
       "      <td>0.394697</td>\n",
       "      <td>0.033857</td>\n",
       "    </tr>\n",
       "    <tr>\n",
       "      <th>12185693</th>\n",
       "      <td>ZSCAN31—ZYX</td>\n",
       "      <td>0.499372</td>\n",
       "      <td>0.204120</td>\n",
       "      <td>0.837863</td>\n",
       "      <td>0.921650</td>\n",
       "      <td>0.033857</td>\n",
       "    </tr>\n",
       "    <tr>\n",
       "      <th>12185694</th>\n",
       "      <td>ZSCAN31—ZZEF1</td>\n",
       "      <td>0.523080</td>\n",
       "      <td>0.204120</td>\n",
       "      <td>0.933529</td>\n",
       "      <td>0.920815</td>\n",
       "      <td>0.033857</td>\n",
       "    </tr>\n",
       "  </tbody>\n",
       "</table>\n",
       "<p>12185695 rows × 6 columns</p>\n",
       "</div>"
      ],
      "text/plain": [
       "               tf_target      prob  tf_expression  target_expression  \\\n",
       "0               AHR—A1BG  0.771351       0.863296           0.656891   \n",
       "1           AHR—A1BG-AS1  0.764345       0.863296           0.638495   \n",
       "2                AHR—A2M  0.704739       0.863296           0.895640   \n",
       "3            AHR—A2M-AS1  0.694442       0.863296           0.736972   \n",
       "4              AHR—A2ML1  0.473506       0.863296           0.251416   \n",
       "...                  ...       ...            ...                ...   \n",
       "12185690    ZSCAN31—ZXDC  0.477942       0.204120           0.920270   \n",
       "12185691  ZSCAN31—ZYG11A  0.185941       0.204120           0.268077   \n",
       "12185692  ZSCAN31—ZYG11B  0.367832       0.204120           0.838653   \n",
       "12185693     ZSCAN31—ZYX  0.499372       0.204120           0.837863   \n",
       "12185694   ZSCAN31—ZZEF1  0.523080       0.204120           0.933529   \n",
       "\n",
       "          weighted_binding  activity  \n",
       "0                 0.862680  0.702539  \n",
       "1                 0.853050  0.702539  \n",
       "2                 0.357482  0.702539  \n",
       "3                 0.474961  0.702539  \n",
       "4                 0.076773  0.702539  \n",
       "...                    ...       ...  \n",
       "12185690          0.753519  0.033857  \n",
       "12185691          0.237708  0.033857  \n",
       "12185692          0.394697  0.033857  \n",
       "12185693          0.921650  0.033857  \n",
       "12185694          0.920815  0.033857  \n",
       "\n",
       "[12185695 rows x 6 columns]"
      ]
     },
     "execution_count": 3,
     "metadata": {},
     "output_type": "execute_result"
    }
   ],
   "source": [
    "mask = df.target_expression!=0\n",
    "df = df[mask].reset_index(drop=True)\n",
    "df"
   ]
  },
  {
   "cell_type": "code",
   "execution_count": 4,
   "metadata": {},
   "outputs": [],
   "source": [
    "df.set_index('tf_target', inplace=True)"
   ]
  },
  {
   "cell_type": "code",
   "execution_count": 5,
   "metadata": {},
   "outputs": [],
   "source": [
    "df['weight'] = df.sum(axis=1)"
   ]
  },
  {
   "cell_type": "code",
   "execution_count": 5,
   "metadata": {},
   "outputs": [],
   "source": [
    "df[['source', 'target']] = df['tf_target'].str.split('—', expand=True)"
   ]
  },
  {
   "cell_type": "code",
   "execution_count": 7,
   "metadata": {},
   "outputs": [],
   "source": [
    "df = df[['source', 'target', 'prob']] \n",
    "df.columns = ['source', 'target', 'weight']"
   ]
  },
  {
   "cell_type": "code",
   "execution_count": 6,
   "metadata": {},
   "outputs": [
    {
     "data": {
      "text/plain": [
       "(<Figure size 400x400 with 1 Axes>,\n",
       " <Axes: xlabel='Data', ylabel='Cumulative Density'>)"
      ]
     },
     "execution_count": 6,
     "metadata": {},
     "output_type": "execute_result"
    },
    {
     "data": {
      "image/png": "[encoded data removed]",
      "text/plain": [
       "<Figure size 400x400 with 1 Axes>"
      ]
     },
     "metadata": {},
     "output_type": "display_data"
    }
   ],
   "source": [
    "from local_utils import plots\n",
    "plots.plot_cumulative_density(df.weight)\n"
   ]
  },
  {
   "cell_type": "code",
   "execution_count": 23,
   "metadata": {},
   "outputs": [],
   "source": [
    "df_f = df.sort_values('weight').iloc[-50000:,:].reset_index(drop=True)"
   ]
  },
  {
   "cell_type": "code",
   "execution_count": 24,
   "metadata": {},
   "outputs": [
    {
     "data": {
      "text/plain": [
       "(2859,)"
      ]
     },
     "execution_count": 24,
     "metadata": {},
     "output_type": "execute_result"
    }
   ],
   "source": [
    "df_f.target.unique().shape"
   ]
  },
  {
   "cell_type": "code",
   "execution_count": 25,
   "metadata": {},
   "outputs": [],
   "source": [
    "df_f.to_csv(f\"{outputdir}/grn/ananse_grn.csv\")"
   ]
  }
 ],
 "metadata": {
  "kernelspec": {
   "display_name": "ananses",
   "language": "python",
   "name": "python3"
  },
  "language_info": {
   "codemirror_mode": {
    "name": "ipython",
    "version": 3
   },
   "file_extension": ".py",
   "mimetype": "text/x-python",
   "name": "python",
   "nbconvert_exporter": "python",
   "pygments_lexer": "ipython3",
   "version": "3.10.14"
  }
 },
 "nbformat": 4,
 "nbformat_minor": 2
}
