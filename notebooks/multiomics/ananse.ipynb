{
 "cells": [
  {
   "cell_type": "code",
   "execution_count": 3,
   "metadata": {},
   "outputs": [],
   "source": [
    "import scanpy as sc\n",
    "import pandas as pd\n",
    "import seaborn as sns\n",
    "import matplotlib.pyplot as plt\n",
    "import anansescanpy as asc\n",
    "import os\n",
    "import numpy as np\n",
    "\n",
    "work_dir = '../../output'\n",
    "outputdir=f\"{work_dir}/infer/ananse/\"\n",
    "# os.makedirs(outputdir)\n"
   ]
  },
  {
   "cell_type": "code",
   "execution_count": null,
   "metadata": {},
   "outputs": [],
   "source": [
    "\n",
    "# Fill in the directories where the h5ad RNA and ATAC objects are located\n",
    "atac_PBMC=sc.read(f'{work_dir}/scATAC/adata_atac.h5ad')\n",
    "rna_PBMC=sc.read(f'{work_dir}/scRNA/adata_rna.h5ad')\n",
    "\n",
    "def filter_chr(peaks):\n",
    "    chrs = [peak.split(':')[0] for peak in peaks]\n",
    "    mask = np.asarray([True if ('chr' in chr) else False for chr in chrs])\n",
    "    return mask\n",
    "    \n",
    "mask = filter_chr(atac_PBMC.var.index)\n",
    "\n",
    "atac_PBMC = atac_PBMC[:, mask]\n",
    "\n",
    "rna_PBMC.obs['cell_type']=rna_PBMC.obs['cell_type'].str.replace(' ', '-').astype('category')\n",
    "rna_PBMC.obs['cell_type']=rna_PBMC.obs['cell_type'].str.replace('_', '-').astype('category')\n",
    "atac_PBMC.obs['cell_type']=atac_PBMC.obs['cell_type'].str.replace(' ', '-').astype('category')\n",
    "atac_PBMC.obs['cell_type']=atac_PBMC.obs['cell_type'].str.replace('_', '-').astype('category')\n",
    "\n",
    "\n",
    "minimal=25\n",
    "asc.export_CPM_scANANSE(anndata=rna_PBMC,\n",
    "min_cells=minimal,\n",
    "outputdir=outputdir,\n",
    "cluster_id=\"cell_type\"\n",
    ")\n",
    "asc.export_ATAC_scANANSE(anndata=atac_PBMC,\n",
    "min_cells=minimal,\n",
    "outputdir=outputdir,\n",
    "cluster_id=\"cell_type\"\n",
    ")\n",
    "asc.config_scANANSE(anndata=rna_PBMC,\n",
    "min_cells=minimal,\n",
    "outputdir=outputdir,\n",
    "cluster_id=\"cell_type\"\n",
    ")\n",
    "asc.DEGS_scANANSE(anndata=rna_PBMC,\n",
    "min_cells=minimal,\n",
    "outputdir=outputdir,\n",
    "cluster_id=\"cell_type\"\n",
    ")"
   ]
  },
  {
   "cell_type": "markdown",
   "metadata": {},
   "source": [
    "# Process results"
   ]
  },
  {
   "cell_type": "code",
   "execution_count": 9,
   "metadata": {},
   "outputs": [],
   "source": [
    "df = pd.read_csv(f\"{outputdir}/network/B-cells.tsv\", sep='\\t')"
   ]
  },
  {
   "cell_type": "code",
   "execution_count": 24,
   "metadata": {},
   "outputs": [],
   "source": [
    "df[['source', 'target']] = df['tf_target'].str.split('—', expand=True)"
   ]
  },
  {
   "cell_type": "code",
   "execution_count": 29,
   "metadata": {},
   "outputs": [
    {
     "data": {
      "image/png": "[encoded data removed]",
      "text/plain": [
       "<Figure size 640x480 with 1 Axes>"
      ]
     },
     "metadata": {},
     "output_type": "display_data"
    }
   ],
   "source": [
    "aa = plt.hist(df.prob.values, bins=100)"
   ]
  },
  {
   "cell_type": "code",
   "execution_count": 30,
   "metadata": {},
   "outputs": [
    {
     "data": {
      "text/html": [
       "<div>\n",
       "<style scoped>\n",
       "    .dataframe tbody tr th:only-of-type {\n",
       "        vertical-align: middle;\n",
       "    }\n",
       "\n",
       "    .dataframe tbody tr th {\n",
       "        vertical-align: top;\n",
       "    }\n",
       "\n",
       "    .dataframe thead th {\n",
       "        text-align: right;\n",
       "    }\n",
       "</style>\n",
       "<table border=\"1\" class=\"dataframe\">\n",
       "  <thead>\n",
       "    <tr style=\"text-align: right;\">\n",
       "      <th></th>\n",
       "      <th>source</th>\n",
       "      <th>target</th>\n",
       "      <th>weight</th>\n",
       "    </tr>\n",
       "  </thead>\n",
       "  <tbody>\n",
       "    <tr>\n",
       "      <th>0</th>\n",
       "      <td>AHR</td>\n",
       "      <td>A1BG</td>\n",
       "      <td>0.714121</td>\n",
       "    </tr>\n",
       "    <tr>\n",
       "      <th>1</th>\n",
       "      <td>AHR</td>\n",
       "      <td>A1BG-AS1</td>\n",
       "      <td>0.725448</td>\n",
       "    </tr>\n",
       "    <tr>\n",
       "      <th>2</th>\n",
       "      <td>AHR</td>\n",
       "      <td>A2M</td>\n",
       "      <td>0.547868</td>\n",
       "    </tr>\n",
       "    <tr>\n",
       "      <th>3</th>\n",
       "      <td>AHR</td>\n",
       "      <td>A2M-AS1</td>\n",
       "      <td>0.522494</td>\n",
       "    </tr>\n",
       "    <tr>\n",
       "      <th>4</th>\n",
       "      <td>AHR</td>\n",
       "      <td>A2ML1</td>\n",
       "      <td>0.396101</td>\n",
       "    </tr>\n",
       "    <tr>\n",
       "      <th>...</th>\n",
       "      <td>...</td>\n",
       "      <td>...</td>\n",
       "      <td>...</td>\n",
       "    </tr>\n",
       "    <tr>\n",
       "      <th>12186225</th>\n",
       "      <td>ZSCAN31</td>\n",
       "      <td>ZXDC</td>\n",
       "      <td>0.489363</td>\n",
       "    </tr>\n",
       "    <tr>\n",
       "      <th>12186226</th>\n",
       "      <td>ZSCAN31</td>\n",
       "      <td>ZYG11A</td>\n",
       "      <td>0.231023</td>\n",
       "    </tr>\n",
       "    <tr>\n",
       "      <th>12186227</th>\n",
       "      <td>ZSCAN31</td>\n",
       "      <td>ZYG11B</td>\n",
       "      <td>0.392957</td>\n",
       "    </tr>\n",
       "    <tr>\n",
       "      <th>12186228</th>\n",
       "      <td>ZSCAN31</td>\n",
       "      <td>ZYX</td>\n",
       "      <td>0.468442</td>\n",
       "    </tr>\n",
       "    <tr>\n",
       "      <th>12186229</th>\n",
       "      <td>ZSCAN31</td>\n",
       "      <td>ZZEF1</td>\n",
       "      <td>0.527235</td>\n",
       "    </tr>\n",
       "  </tbody>\n",
       "</table>\n",
       "<p>12186230 rows × 3 columns</p>\n",
       "</div>"
      ],
      "text/plain": [
       "           source    target    weight\n",
       "0             AHR      A1BG  0.714121\n",
       "1             AHR  A1BG-AS1  0.725448\n",
       "2             AHR       A2M  0.547868\n",
       "3             AHR   A2M-AS1  0.522494\n",
       "4             AHR     A2ML1  0.396101\n",
       "...           ...       ...       ...\n",
       "12186225  ZSCAN31      ZXDC  0.489363\n",
       "12186226  ZSCAN31    ZYG11A  0.231023\n",
       "12186227  ZSCAN31    ZYG11B  0.392957\n",
       "12186228  ZSCAN31       ZYX  0.468442\n",
       "12186229  ZSCAN31     ZZEF1  0.527235\n",
       "\n",
       "[12186230 rows x 3 columns]"
      ]
     },
     "execution_count": 30,
     "metadata": {},
     "output_type": "execute_result"
    }
   ],
   "source": [
    "df = df.rename(columns={'prob':'weight'})[['source', 'target', 'weight']]\n",
    "df"
   ]
  },
  {
   "cell_type": "code",
   "execution_count": 34,
   "metadata": {},
   "outputs": [
    {
     "data": {
      "text/plain": [
       "(22778,)"
      ]
     },
     "execution_count": 34,
     "metadata": {},
     "output_type": "execute_result"
    }
   ],
   "source": [
    "df.target.unique().shape"
   ]
  }
 ],
 "metadata": {
  "kernelspec": {
   "display_name": "ananses",
   "language": "python",
   "name": "python3"
  },
  "language_info": {
   "codemirror_mode": {
    "name": "ipython",
    "version": 3
   },
   "file_extension": ".py",
   "mimetype": "text/x-python",
   "name": "python",
   "nbconvert_exporter": "python",
   "pygments_lexer": "ipython3",
   "version": "3.8.18"
  }
 },
 "nbformat": 4,
 "nbformat_minor": 2
}
