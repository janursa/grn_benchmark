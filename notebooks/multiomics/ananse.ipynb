{
 "cells": [
  {
   "cell_type": "code",
   "execution_count": 3,
   "metadata": {},
   "outputs": [],
   "source": [
    "import scanpy as sc\n",
    "import pandas as pd\n",
    "import seaborn as sns\n",
    "import matplotlib.pyplot as plt\n",
    "import anansescanpy as asc\n",
    "import os\n",
    "import numpy as np\n",
    "\n",
    "work_dir = '../../output'\n",
    "outputdir=f\"{work_dir}/infer/ananse/\"\n",
    "# os.makedirs(outputdir)\n"
   ]
  },
  {
   "cell_type": "code",
   "execution_count": null,
   "metadata": {},
   "outputs": [],
   "source": [
    "\n",
    "# Fill in the directories where the h5ad RNA and ATAC objects are located\n",
    "atac_PBMC=sc.read(f'{work_dir}/scATAC/adata_atac.h5ad')\n",
    "rna_PBMC=sc.read(f'{work_dir}/scRNA/adata_rna.h5ad')\n",
    "\n",
    "def filter_chr(peaks):\n",
    "    chrs = [peak.split(':')[0] for peak in peaks]\n",
    "    mask = np.asarray([True if ('chr' in chr) else False for chr in chrs])\n",
    "    return mask\n",
    "    \n",
    "mask = filter_chr(atac_PBMC.var.index)\n",
    "\n",
    "atac_PBMC = atac_PBMC[:, mask]\n",
    "\n",
    "rna_PBMC.obs['cell_type']=rna_PBMC.obs['cell_type'].str.replace(' ', '-').astype('category')\n",
    "rna_PBMC.obs['cell_type']=rna_PBMC.obs['cell_type'].str.replace('_', '-').astype('category')\n",
    "atac_PBMC.obs['cell_type']=atac_PBMC.obs['cell_type'].str.replace(' ', '-').astype('category')\n",
    "atac_PBMC.obs['cell_type']=atac_PBMC.obs['cell_type'].str.replace('_', '-').astype('category')\n",
    "\n",
    "\n",
    "minimal=25\n",
    "asc.export_CPM_scANANSE(anndata=rna_PBMC,\n",
    "min_cells=minimal,\n",
    "outputdir=outputdir,\n",
    "cluster_id=\"cell_type\"\n",
    ")\n",
    "asc.export_ATAC_scANANSE(anndata=atac_PBMC,\n",
    "min_cells=minimal,\n",
    "outputdir=outputdir,\n",
    "cluster_id=\"cell_type\"\n",
    ")\n",
    "asc.config_scANANSE(anndata=rna_PBMC,\n",
    "min_cells=minimal,\n",
    "outputdir=outputdir,\n",
    "cluster_id=\"cell_type\"\n",
    ")\n",
    "asc.DEGS_scANANSE(anndata=rna_PBMC,\n",
    "min_cells=minimal,\n",
    "outputdir=outputdir,\n",
    "cluster_id=\"cell_type\"\n",
    ")"
   ]
  },
  {
   "cell_type": "markdown",
   "metadata": {},
   "source": [
    "# Process results"
   ]
  },
  {
   "cell_type": "code",
   "execution_count": 9,
   "metadata": {},
   "outputs": [],
   "source": [
    "df = pd.read_csv(f\"{outputdir}/network/B-cells.tsv\", sep='\\t')"
   ]
  },
  {
   "cell_type": "code",
   "execution_count": 24,
   "metadata": {},
   "outputs": [],
   "source": [
    "df[['source', 'target']] = df['tf_target'].str.split('—', expand=True)"
   ]
  }
 ],
 "metadata": {
  "kernelspec": {
   "display_name": "ananses",
   "language": "python",
   "name": "python3"
  },
  "language_info": {
   "codemirror_mode": {
    "name": "ipython",
    "version": 3
   },
   "file_extension": ".py",
   "mimetype": "text/x-python",
   "name": "python",
   "nbconvert_exporter": "python",
   "pygments_lexer": "ipython3",
   "version": "3.8.18"
  }
 },
 "nbformat": 4,
 "nbformat_minor": 2
}
