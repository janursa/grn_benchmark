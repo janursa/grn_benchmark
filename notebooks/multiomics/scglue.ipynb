{
 "cells": [
  {
   "cell_type": "code",
   "execution_count": 7,
   "metadata": {},
   "outputs": [],
   "source": []
  },
  {
   "cell_type": "markdown",
   "metadata": {},
   "source": [
    "# Step 1"
   ]
  },
  {
   "cell_type": "code",
   "execution_count": null,
   "metadata": {},
   "outputs": [],
   "source": [
    "import anndata as ad\n",
    "import networkx as nx\n",
    "import scanpy as sc\n",
    "import scglue\n",
    "from matplotlib import rcParams\n",
    "out_dir = '../../output'\n",
    "scglue.plot.set_publication_params()\n",
    "rcParams[\"figure.figsize\"] = (4, 4)\n",
    "\n",
    "rna = ad.read_h5ad(f\"{out_dir}/scRNA/adata_rna.h5ad\")\n",
    "atac = ad.read_h5ad(f\"{out_dir}/scATAC/adata_atac.h5ad\")\n"
   ]
  },
  {
   "cell_type": "code",
   "execution_count": null,
   "metadata": {},
   "outputs": [],
   "source": [
    "rna.layers[\"counts\"] = rna.X.copy()\n",
    "sc.pp.highly_variable_genes(rna, n_top_genes=2000, flavor=\"seurat_v3\")\n",
    "sc.pp.normalize_total(rna)\n",
    "sc.pp.log1p(rna)\n",
    "sc.pp.scale(rna)\n",
    "sc.tl.pca(rna, n_comps=100, svd_solver=\"auto\")\n",
    "sc.pp.neighbors(rna, metric=\"cosine\")\n",
    "sc.tl.umap(rna)"
   ]
  },
  {
   "cell_type": "code",
   "execution_count": null,
   "metadata": {},
   "outputs": [],
   "source": [
    "scglue.data.lsi(atac, n_components=100, n_iter=15)\n",
    "sc.pp.neighbors(atac, use_rep=\"X_lsi\", metric=\"cosine\")\n",
    "sc.tl.umap(atac)\n"
   ]
  },
  {
   "cell_type": "code",
   "execution_count": null,
   "metadata": {},
   "outputs": [],
   "source": [
    "scglue.data.get_gene_annotation(\n",
    "    rna, gtf=f\"{out_dir}/infer/scglue/gencode.v45.annotation.gtf.gz\",\n",
    "    gtf_by=\"gene_name\"\n",
    ")\n",
    "rna.var.loc[:, [\"chrom\", \"chromStart\", \"chromEnd\"]].head()"
   ]
  },
  {
   "cell_type": "code",
   "execution_count": null,
   "metadata": {},
   "outputs": [],
   "source": [
    "rna = rna[:, ~rna.var.chromEnd.isna()]"
   ]
  },
  {
   "cell_type": "code",
   "execution_count": null,
   "metadata": {},
   "outputs": [],
   "source": [
    "split = atac.var_names.str.split(r\"[:-]\")\n",
    "atac.var[\"chrom\"] = split.map(lambda x: x[0])\n",
    "atac.var[\"chromStart\"] = split.map(lambda x: x[1]).astype(int)\n",
    "atac.var[\"chromEnd\"] = split.map(lambda x: x[2]).astype(int)\n",
    "atac.var.head()"
   ]
  },
  {
   "cell_type": "code",
   "execution_count": null,
   "metadata": {},
   "outputs": [],
   "source": [
    "guidance = scglue.genomics.rna_anchored_guidance_graph(rna, atac)\n",
    "guidance\n",
    "\n"
   ]
  },
  {
   "cell_type": "code",
   "execution_count": null,
   "metadata": {},
   "outputs": [],
   "source": [
    "scglue.graph.check_graph(guidance, [rna, atac])\n"
   ]
  },
  {
   "cell_type": "code",
   "execution_count": null,
   "metadata": {},
   "outputs": [],
   "source": [
    "atac.var.head()\n"
   ]
  },
  {
   "cell_type": "code",
   "execution_count": null,
   "metadata": {},
   "outputs": [],
   "source": [
    "rna.write(f\"{out_dir}/infer/scglue/rna-pp.h5ad\", compression=\"gzip\")\n",
    "atac.write(f\"{out_dir}/infer/scglue/atac-pp.h5ad\", compression=\"gzip\")\n",
    "nx.write_graphml(guidance, f\"{out_dir}/infer/scglue/guidance.graphml.gz\")"
   ]
  },
  {
   "cell_type": "markdown",
   "metadata": {},
   "source": [
    "# Step 2"
   ]
  },
  {
   "cell_type": "code",
   "execution_count": null,
   "metadata": {},
   "outputs": [],
   "source": [
    "from itertools import chain\n",
    "\n",
    "import anndata as ad\n",
    "import itertools\n",
    "import networkx as nx\n",
    "import pandas as pd\n",
    "import scanpy as sc\n",
    "import scglue\n",
    "import seaborn as sns\n",
    "from matplotlib import rcParams"
   ]
  },
  {
   "cell_type": "code",
   "execution_count": null,
   "metadata": {},
   "outputs": [],
   "source": [
    "scglue.plot.set_publication_params()\n",
    "rcParams[\"figure.figsize\"] = (4, 4)"
   ]
  },
  {
   "cell_type": "code",
   "execution_count": null,
   "metadata": {},
   "outputs": [],
   "source": [
    "# rna = ad.read_h5ad(f\"{out_dir}/rna-pp.h5ad\")\n",
    "# atac = ad.read_h5ad(f\"{out_dir}/atac-pp.h5ad\")\n",
    "# guidance = nx.read_graphml(f\"{out_dir}/guidance.graphml.gz\")"
   ]
  },
  {
   "cell_type": "code",
   "execution_count": null,
   "metadata": {},
   "outputs": [],
   "source": [
    "scglue.models.configure_dataset(\n",
    "    rna, \"NB\", use_highly_variable=True,\n",
    "    use_layer=\"counts\", use_rep=\"X_pca\"\n",
    ")"
   ]
  },
  {
   "cell_type": "code",
   "execution_count": null,
   "metadata": {},
   "outputs": [],
   "source": [
    "# scglue.models.configure_dataset(\n",
    "#     atac, \"NB\", use_highly_variable=True,\n",
    "#     use_rep=\"X_lsi\"\n",
    "# )"
   ]
  },
  {
   "cell_type": "code",
   "execution_count": null,
   "metadata": {},
   "outputs": [],
   "source": [
    "scglue.models.configure_dataset(\n",
    "    atac, \"NB\", use_highly_variable=True\n",
    ")"
   ]
  },
  {
   "cell_type": "code",
   "execution_count": null,
   "metadata": {},
   "outputs": [],
   "source": [
    "guidance_hvf = guidance.subgraph(chain(\n",
    "    rna.var.query(\"highly_variable\").index,\n",
    "    atac.var.query(\"highly_variable\").index\n",
    ")).copy()"
   ]
  },
  {
   "cell_type": "code",
   "execution_count": null,
   "metadata": {},
   "outputs": [],
   "source": [
    "glue = scglue.models.fit_SCGLUE(\n",
    "    {\"rna\": rna, \"atac\": atac}, guidance_hvf,\n",
    "    fit_kws={\"directory\": \"glue\"}\n",
    ")"
   ]
  },
  {
   "cell_type": "code",
   "execution_count": null,
   "metadata": {},
   "outputs": [],
   "source": [
    "glue.save(f\"{out_dir}/infer/scglue/glue.dill\")"
   ]
  },
  {
   "cell_type": "code",
   "execution_count": null,
   "metadata": {},
   "outputs": [],
   "source": [
    "dx = scglue.models.integration_consistency(\n",
    "    glue, {\"rna\": rna, \"atac\": atac}, guidance_hvf\n",
    ")"
   ]
  },
  {
   "cell_type": "code",
   "execution_count": null,
   "metadata": {},
   "outputs": [],
   "source": [
    "_ = sns.lineplot(x=\"n_meta\", y=\"consistency\", data=dx).axhline(y=0.05, c=\"darkred\", ls=\"--\")\n"
   ]
  },
  {
   "cell_type": "code",
   "execution_count": null,
   "metadata": {},
   "outputs": [],
   "source": [
    "rna.obsm[\"X_glue\"] = glue.encode_data(\"rna\", rna)\n",
    "atac.obsm[\"X_glue\"] = glue.encode_data(\"atac\", atac)"
   ]
  },
  {
   "cell_type": "code",
   "execution_count": null,
   "metadata": {},
   "outputs": [],
   "source": [
    "combined = ad.concat([rna, atac])"
   ]
  },
  {
   "cell_type": "code",
   "execution_count": null,
   "metadata": {},
   "outputs": [],
   "source": [
    "sc.pp.neighbors(combined, use_rep=\"X_glue\", metric=\"cosine\")\n",
    "sc.tl.umap(combined)"
   ]
  },
  {
   "cell_type": "code",
   "execution_count": null,
   "metadata": {},
   "outputs": [],
   "source": [
    "feature_embeddings = glue.encode_graph(guidance_hvf)\n",
    "feature_embeddings = pd.DataFrame(feature_embeddings, index=glue.vertices)\n",
    "feature_embeddings.iloc[:5, :5]"
   ]
  },
  {
   "cell_type": "code",
   "execution_count": null,
   "metadata": {},
   "outputs": [],
   "source": [
    "rna.varm[\"X_glue\"] = feature_embeddings.reindex(rna.var_names).to_numpy()\n",
    "atac.varm[\"X_glue\"] = feature_embeddings.reindex(atac.var_names).to_numpy()"
   ]
  },
  {
   "cell_type": "code",
   "execution_count": null,
   "metadata": {},
   "outputs": [],
   "source": [
    "# rna.write(f\"{out_dir}/rna-emb.h5ad\", compression=\"gzip\")\n",
    "# atac.write(f\"{out_dir}/atac-emb.h5ad\", compression=\"gzip\")\n",
    "# nx.write_graphml(guidance_hvf, f\"{out_dir}/guidance-hvf.graphml.gz\")"
   ]
  },
  {
   "cell_type": "markdown",
   "metadata": {},
   "source": []
  },
  {
   "cell_type": "code",
   "execution_count": null,
   "metadata": {},
   "outputs": [],
   "source": []
  },
  {
   "cell_type": "markdown",
   "metadata": {},
   "source": [
    "# Step 3"
   ]
  },
  {
   "cell_type": "code",
   "execution_count": null,
   "metadata": {},
   "outputs": [],
   "source": [
    "import anndata as ad\n",
    "import networkx as nx\n",
    "import numpy as np\n",
    "import pandas as pd\n",
    "import scglue\n",
    "import seaborn as sns\n",
    "from IPython import display\n",
    "from matplotlib import rcParams\n",
    "from networkx.algorithms.bipartite import biadjacency_matrix\n",
    "from networkx.drawing.nx_agraph import graphviz_layout\n",
    "scglue.plot.set_publication_params()\n",
    "rcParams['figure.figsize'] = (4, 4)\n",
    "rna.var[\"name\"] = rna.var_names\n",
    "atac.var[\"name\"] = atac.var_names\n",
    "\n",
    "genes = rna.var.query(\"highly_variable\").index\n",
    "peaks = atac.var.query(\"highly_variable\").index\n",
    "\n",
    "features = pd.Index(np.concatenate([rna.var_names, atac.var_names]))\n",
    "feature_embeddings = np.concatenate([rna.varm[\"X_glue\"], atac.varm[\"X_glue\"]])\n",
    "\n",
    "skeleton = guidance_hvf.edge_subgraph(\n",
    "    e for e, attr in dict(guidance_hvf.edges).items()\n",
    "    if attr[\"type\"] == \"fwd\"\n",
    ").copy()\n",
    "\n",
    "reginf = scglue.genomics.regulatory_inference(\n",
    "    features, feature_embeddings,\n",
    "    skeleton=skeleton, random_state=0\n",
    ")\n",
    "\n",
    "gene2peak = reginf.edge_subgraph(\n",
    "    e for e, attr in dict(reginf.edges).items()\n",
    "    if attr[\"qval\"] < 0.05\n",
    ")\n",
    "\n",
    "scglue.genomics.Bed(atac.var).write_bed(f\"{out_dir}/infer/scglue/peaks.bed\", ncols=3)\n",
    "scglue.genomics.write_links(\n",
    "    gene2peak,\n",
    "    scglue.genomics.Bed(rna.var).strand_specific_start_site(),\n",
    "    scglue.genomics.Bed(atac.var),\n",
    "    f\"{out_dir}/infer/scglue/gene2peak.links\", keep_attrs=[\"score\"]\n",
    ")"
   ]
  },
  {
   "cell_type": "code",
   "execution_count": null,
   "metadata": {},
   "outputs": [],
   "source": [
    "# motif_bed = scglue.genomics.read_bed(f\"{out_dir}/JASPAR2022-hg38.bed.gz\")\n",
    "motif_bed = scglue.genomics.read_bed(f\"{out_dir}/ENCODE-TF-ChIP-hg38.bed.gz\")\n",
    "tfs = pd.Index(motif_bed[\"name\"]).intersection(rna.var_names)\n",
    "tfs.size\n",
    "rna[:, np.union1d(genes, tfs)].write_loom(f\"{out_dir}/infer/scglue/rna.loom\")\n",
    "np.savetxt(f\"{out_dir}/infer/scglue/tfs.txt\", tfs, fmt=\"%s\")"
   ]
  },
  {
   "cell_type": "code",
   "execution_count": null,
   "metadata": {},
   "outputs": [],
   "source": [
    "!pyscenic grn rna.loom tfs.txt \\\n",
    "    -o draft_grn.csv --seed 0 --num_workers 20 \\\n",
    "    --cell_id_attribute cells --gene_attribute genes"
   ]
  },
  {
   "cell_type": "code",
   "execution_count": null,
   "metadata": {},
   "outputs": [],
   "source": [
    "peak_bed = scglue.genomics.Bed(atac.var.loc[peaks])\n",
    "peak2tf = scglue.genomics.window_graph(peak_bed, motif_bed, 0, right_sorted=True)\n",
    "peak2tf = peak2tf.edge_subgraph(e for e in peak2tf.edges if e[1] in tfs)\n",
    "\n",
    "gene2tf_rank_glue = scglue.genomics.cis_regulatory_ranking(\n",
    "    gene2peak, peak2tf, genes, peaks, tfs,\n",
    "    region_lens=atac.var.loc[peaks, \"chromEnd\"] - atac.var.loc[peaks, \"chromStart\"],\n",
    "    random_state=0\n",
    ")\n",
    "gene2tf_rank_glue.iloc[:5, :5]\n",
    "\n",
    "flank_bed = scglue.genomics.Bed(rna.var.loc[genes]).strand_specific_start_site().expand(500, 500)\n",
    "flank2tf = scglue.genomics.window_graph(flank_bed, motif_bed, 0, right_sorted=True)\n",
    "\n",
    "gene2flank = nx.Graph([(g, g) for g in genes])\n",
    "gene2tf_rank_supp = scglue.genomics.cis_regulatory_ranking(\n",
    "    gene2flank, flank2tf, genes, genes, tfs,\n",
    "    n_samples=0\n",
    ")\n",
    "gene2tf_rank_supp.iloc[:5, :5]\n",
    "\n",
    "gene2tf_rank_glue.columns = gene2tf_rank_glue.columns + \"_glue\"\n",
    "gene2tf_rank_supp.columns = gene2tf_rank_supp.columns + \"_supp\"\n",
    "\n",
    "scglue.genomics.write_scenic_feather(gene2tf_rank_glue, f\"{out_dir}/infer/scglue/glue.genes_vs_tracks.rankings.feather\")\n",
    "scglue.genomics.write_scenic_feather(gene2tf_rank_supp, f\"{out_dir}/infer/scglue/supp.genes_vs_tracks.rankings.feather\")\n",
    "\n",
    "pd.concat([\n",
    "    pd.DataFrame({\n",
    "        \"#motif_id\": tfs + \"_glue\",\n",
    "        \"gene_name\": tfs\n",
    "    }),\n",
    "    pd.DataFrame({\n",
    "        \"#motif_id\": tfs + \"_supp\",\n",
    "        \"gene_name\": tfs\n",
    "    })\n",
    "]).assign(\n",
    "    motif_similarity_qvalue=0.0,\n",
    "    orthologous_identity=1.0,\n",
    "    description=\"placeholder\"\n",
    ").to_csv(f\"{out_dir}/infer/scglue/ctx_annotation.tsv\", sep=\"\\t\", index=False)\n",
    "\n"
   ]
  },
  {
   "cell_type": "code",
   "execution_count": null,
   "metadata": {},
   "outputs": [],
   "source": [
    "!pyscenic ctx draft_grn.csv \\\n",
    "    glue.genes_vs_tracks.rankings.feather \\\n",
    "    supp.genes_vs_tracks.rankings.feather \\\n",
    "    --annotations_fname ctx_annotation.tsv \\\n",
    "    --expression_mtx_fname rna.loom \\\n",
    "    --output pruned_grn.csv \\\n",
    "    --rank_threshold 500 --min_genes 1 \\\n",
    "    --num_workers 20 \\\n",
    "    --cell_id_attribute cells --gene_attribute genes 2> /dev/null"
   ]
  },
  {
   "cell_type": "code",
   "execution_count": null,
   "metadata": {},
   "outputs": [],
   "source": [
    "grn = scglue.genomics.read_ctx_grn(\"pruned_grn.csv\")"
   ]
  }
 ],
 "metadata": {
  "kernelspec": {
   "display_name": "py10_2",
   "language": "python",
   "name": "python3"
  },
  "language_info": {
   "codemirror_mode": {
    "name": "ipython",
    "version": 3
   },
   "file_extension": ".py",
   "mimetype": "text/x-python",
   "name": "python",
   "nbconvert_exporter": "python",
   "pygments_lexer": "ipython3",
   "version": "3.10.13"
  }
 },
 "nbformat": 4,
 "nbformat_minor": 2
}
