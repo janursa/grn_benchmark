{
 "cells": [
  {
   "cell_type": "markdown",
   "metadata": {},
   "source": [
    "## GRN using scenic+\n",
    "We employed the Scenic+ pipeline for GRN inference using integrated scRNA-seq and scATAC-seq data. The Scenic+ pipeline includes these steps:\n",
    "\n",
    "1) Topic Modeling: Calculation of topics, which are coaccessibility regions, resulting in region-topic association scores.\n",
    "\n",
    "2) Accessibility Imputation: Binarization of region-topic scores, grouping regions for each topic. This includes running differentially accessible regions across cell types and imputing access data. Notably, the average missingness in single cells drops from ~96% to ~40% after imputation, highlighting a significant source of uncertainty.\n",
    "\n",
    "3) CisTarget: Determination of enriched motifs for each topic and differentially enriched motifs for each cell type, yielding enriched motifs and their associated genes.\n",
    "\n",
    "4) Run Scenic+: Calculation of region-to-gene and TF to gene relationships using regression models. This step assesses the importance of regions and TFs for target genes, using imputed region counts, which could introduce errors. After calculating importance scores, only regions enriched for TF motifs are included. The pipeline then creates TF-regions-genes triples named eRegulons, resulting in a curated list of TFs, regions, and target genes.\n",
    "\n",
    "The Scenic+ pipeline followed is based on the standard protocol as outlined in https://scenicplus.readthedocs.io/en/latest/tutorials.html."
   ]
  },
  {
   "cell_type": "markdown",
   "metadata": {},
   "source": [
    "## Imports"
   ]
  },
  {
   "cell_type": "code",
   "execution_count": 2,
   "metadata": {},
   "outputs": [],
   "source": [
    "import anndata as ad \n",
    "# import dill, os\n",
    "import numpy as np\n",
    "import pandas as pd\n",
    "work_dir = '../../output'\n",
    "path_to_blacklist= '../../input/scenicplus/hg38-blacklist.v2.bed'\n"
   ]
  },
  {
   "cell_type": "code",
   "execution_count": null,
   "metadata": {},
   "outputs": [],
   "source": [
    "adata_atac = anndata.read_h5ad(f'{work_dir}/scATAC/adata_atac.h5ad')"
   ]
  },
  {
   "cell_type": "code",
   "execution_count": null,
   "metadata": {},
   "outputs": [],
   "source": [
    "adata_atac"
   ]
  },
  {
   "cell_type": "markdown",
   "metadata": {},
   "source": [
    "## <a id='toc5_1_'></a>[Topic modeling](#toc0_)"
   ]
  },
  {
   "cell_type": "markdown",
   "metadata": {},
   "source": [
    "### <a id='toc5_1_1_'></a>[Create cistopic object](#toc0_)"
   ]
  },
  {
   "cell_type": "code",
   "execution_count": null,
   "metadata": {},
   "outputs": [],
   "source": [
    "# format adata to have location*obs\n",
    "adata_t = adata_atac.T\n",
    "adata_t.X = adata_t.X.astype(int)"
   ]
  },
  {
   "cell_type": "code",
   "execution_count": null,
   "metadata": {},
   "outputs": [],
   "source": [
    "from pycisTopic.cistopic_class import create_cistopic_object\n",
    "cistopic_obj = create_cistopic_object(\n",
    "                            fragment_matrix=adata_t.X,\n",
    "                            cell_names = adata_t.var.index,\n",
    "                            region_names = adata_t.obs.index,\n",
    "                            path_to_blacklist=path_to_blacklist,\n",
    "                            project='all_donors',\n",
    "                            min_frag = 10,\n",
    "                            min_cell = 1,\n",
    "                            split_pattern='___'\n",
    "                            )\n",
    "cistopic_obj.add_cell_data(adata_t.var)"
   ]
  },
  {
   "cell_type": "code",
   "execution_count": null,
   "metadata": {},
   "outputs": [],
   "source": [
    "import pickle, os\n",
    "pickle.dump(cistopic_obj,  open(os.path.join(work_dir, 'scenicplus/scATAC/cistopic_obj.pkl'), 'wb'))"
   ]
  },
  {
   "cell_type": "markdown",
   "metadata": {},
   "source": [
    "### <a id='toc5_1_2_'></a>[Determine number of topics (~6h using 10 cpu)](#toc0_)"
   ]
  },
  {
   "cell_type": "code",
   "execution_count": null,
   "metadata": {},
   "outputs": [],
   "source": [
    "if True: # run locally \n",
    "    cistopic_obj = pickle.load(open(os.path.join(work_dir, 'scenicplus/scATAC/cistopic_obj.pkl'), 'rb'))\n",
    "    from pycisTopic.cistopic_class import run_cgs_models\n",
    "    models = run_cgs_models(cistopic_obj,\n",
    "                        # n_topics=[2,4,10,16,32,48],\n",
    "                        n_topics=[10,16,32,48],\n",
    "                        n_cpu=12,\n",
    "                        n_iter=500,\n",
    "                        random_state=555,\n",
    "                        alpha=50,\n",
    "                        alpha_by_topic=True,\n",
    "                        eta=0.1,\n",
    "                        eta_by_topic=False,\n",
    "                        save_path=None,\n",
    "                        _temp_dir = None)\n",
    "    if not os.path.exists(os.path.join(work_dir, 'scenicplus/scATAC/models')):\n",
    "        os.makedirs(os.path.join(work_dir, 'scenicplus/scATAC/models'))\n",
    "\n",
    "    pickle.dump(models,\n",
    "                open(os.path.join(work_dir, 'scenicplus/scATAC/models/10x_pbmc_models_500_iter_LDA.pkl'), 'wb'))\n",
    "else:\n",
    "    !python ../scripts/scenicplus/compute_topic_number.py"
   ]
  },
  {
   "cell_type": "code",
   "execution_count": null,
   "metadata": {},
   "outputs": [],
   "source": [
    "import pickle, os\n",
    "models = pickle.load(open(os.path.join(work_dir, 'scenicplus/scATAC/models/10x_pbmc_models_500_iter_LDA.pkl'), 'rb'))\n",
    "cistopic_obj = pickle.load(open(os.path.join(work_dir, 'scenicplus/scATAC/cistopic_obj.pkl'), 'rb'))\n",
    "# cistopic_obj.add_cell_data(adata_t.var) # to fix the nan issue of cell type\n",
    "from pycisTopic.lda_models import *\n",
    "model = evaluate_models(models,\n",
    "                       select_model=48, \n",
    "                       return_model=True, \n",
    "                       metrics=['Arun_2010','Cao_Juan_2009', 'Minmo_2011', 'loglikelihood'],\n",
    "                       plot_metrics=False)"
   ]
  },
  {
   "cell_type": "code",
   "execution_count": null,
   "metadata": {},
   "outputs": [],
   "source": [
    "cistopic_obj.add_LDA_model(model)\n",
    "pickle.dump(cistopic_obj,\n",
    "            open(os.path.join(work_dir, 'scenicplus/scATAC/cistopic_obj.pkl'), 'wb'))"
   ]
  },
  {
   "cell_type": "code",
   "execution_count": null,
   "metadata": {},
   "outputs": [],
   "source": [
    "from pycisTopic.clust_vis import *\n",
    "run_umap(cistopic_obj, target='cell', scale=True)\n",
    "plot_metadata(cistopic_obj, reduction_name = 'UMAP', variables = ['cell_type'])"
   ]
  },
  {
   "cell_type": "code",
   "execution_count": null,
   "metadata": {},
   "outputs": [],
   "source": [
    "# plot_topic(cistopic_obj, reduction_name = 'UMAP', num_columns = 4)"
   ]
  },
  {
   "cell_type": "markdown",
   "metadata": {},
   "source": [
    "## <a id='toc5_2_'></a>[Accessibility imputation](#toc0_)"
   ]
  },
  {
   "cell_type": "code",
   "execution_count": null,
   "metadata": {},
   "outputs": [],
   "source": [
    "from pycisTopic.topic_binarization import *\n",
    "region_bin_topics_otsu = binarize_topics(cistopic_obj, method='otsu') #puts regions into topics\n",
    "region_bin_topics_top3k = binarize_topics(cistopic_obj, method='ntop', ntop = 3000)"
   ]
  },
  {
   "cell_type": "code",
   "execution_count": null,
   "metadata": {},
   "outputs": [],
   "source": [
    "from pycisTopic.diff_features import impute_accessibility, normalize_scores, find_highly_variable_features, find_diff_features\n",
    "imputed_acc_obj = impute_accessibility(cistopic_obj, selected_cells=None, selected_regions=None, scale_factor=10**6)\n",
    "normalized_imputed_acc_obj = normalize_scores(imputed_acc_obj, scale_factor=10**4)\n",
    "variable_regions = find_highly_variable_features(normalized_imputed_acc_obj, plot = False)\n",
    "markers_dict = find_diff_features(cistopic_obj, imputed_acc_obj, variable='cell_type', var_features=variable_regions)"
   ]
  },
  {
   "cell_type": "code",
   "execution_count": null,
   "metadata": {},
   "outputs": [],
   "source": [
    "os.makedirs(os.path.join(work_dir, 'scenicplus/scATAC/candidate_enhancers'))\n",
    "pickle.dump(region_bin_topics_otsu, open(os.path.join(work_dir, 'scenicplus/scATAC/candidate_enhancers/region_bin_topics_otsu.pkl'), 'wb'))\n",
    "pickle.dump(region_bin_topics_top3k, open(os.path.join(work_dir, 'scenicplus/scATAC/candidate_enhancers/region_bin_topics_top3k.pkl'), 'wb'))\n",
    "pickle.dump(markers_dict, open(os.path.join(work_dir, 'scenicplus/scATAC/candidate_enhancers/markers_dict.pkl'), 'wb'))"
   ]
  },
  {
   "cell_type": "markdown",
   "metadata": {},
   "source": [
    "## <a id='toc5_3_'></a>[Cistarget](#toc0_)"
   ]
  },
  {
   "cell_type": "code",
   "execution_count": null,
   "metadata": {},
   "outputs": [],
   "source": [
    "if True: # run locally\n",
    "    import pyranges as pr\n",
    "    from pycistarget.utils import region_names_to_coordinates\n",
    "    import pickle\n",
    "    import os\n",
    "    region_bin_topics_otsu = pickle.load(open(os.path.join(work_dir, 'scenicplus/scATAC/candidate_enhancers/region_bin_topics_otsu.pkl'), 'rb'))\n",
    "    region_bin_topics_top3k = pickle.load(open(os.path.join(work_dir, 'scenicplus/scATAC/candidate_enhancers/region_bin_topics_top3k.pkl'), 'rb'))\n",
    "    markers_dict = pickle.load(open(os.path.join(work_dir, 'scenicplus/scATAC/candidate_enhancers/markers_dict.pkl'), 'rb'))\n",
    "\n",
    "    region_sets = {}\n",
    "    region_sets['topics_otsu'] = {}\n",
    "    region_sets['topics_top_3'] = {}\n",
    "    region_sets['DARs'] = {}\n",
    "    for topic in region_bin_topics_otsu.keys():\n",
    "        regions = region_bin_topics_otsu[topic].index[region_bin_topics_otsu[topic].index.str.startswith('chr')] #only keep regions on known chromosomes\n",
    "        region_sets['topics_otsu'][topic] = pr.PyRanges(region_names_to_coordinates(regions))\n",
    "    for topic in region_bin_topics_top3k.keys():\n",
    "        regions = region_bin_topics_top3k[topic].index[region_bin_topics_top3k[topic].index.str.startswith('chr')] #only keep regions on known chromosomes\n",
    "        region_sets['topics_top_3'][topic] = pr.PyRanges(region_names_to_coordinates(regions))\n",
    "    for DAR in markers_dict.keys():\n",
    "        regions = markers_dict[DAR].index[markers_dict[DAR].index.str.startswith('chr')] #only keep regions on known chromosomes\n",
    "        region_sets['DARs'][DAR] = pr.PyRanges(region_names_to_coordinates(regions))\n",
    "\n",
    "    # these datasets are publicly available\n",
    "    rankings_db = os.path.join('../../scenicplus/data/', 'hg38_screen_v10_clust.regions_vs_motifs.rankings.feather')\n",
    "    scores_db =  os.path.join('../../scenicplus/data/', 'hg38_screen_v10_clust.regions_vs_motifs.scores.feather')\n",
    "    motif_annotation = os.path.join('../../scenicplus/data/', 'motifs-v10-nr.hgnc-m0.00001-o0.0.tbl')\n",
    "    from scenicplus.wrappers.run_pycistarget import run_pycistarget\n",
    "    run_pycistarget(\n",
    "        region_sets = region_sets,\n",
    "        species = 'homo_sapiens',\n",
    "        save_path = os.path.join(work_dir, 'scenicplus/scATAC/motifs'),\n",
    "        ctx_db_path = rankings_db,\n",
    "        dem_db_path = scores_db,\n",
    "        path_to_motif_annotations = motif_annotation,\n",
    "        run_without_promoters = True,\n",
    "        n_cpu = 40,\n",
    "        _temp_dir = None,\n",
    "        annotation_version = 'v10nr_clust',\n",
    "        )\n",
    "else: \n",
    "    !python scripts/run_pycistarget.py"
   ]
  },
  {
   "cell_type": "code",
   "execution_count": null,
   "metadata": {},
   "outputs": [],
   "source": [
    "import dill\n",
    "import scanpy as sc\n",
    "import os\n",
    "from scenicplus.scenicplus_class import create_SCENICPLUS_object\n",
    "import numpy as np\n",
    "from scenicplus.cistromes import merge_cistromes\n",
    "from scenicplus.enhancer_to_gene import get_search_space, calculate_regions_to_genes_relationships\n",
    "from scenicplus.TF_to_gene import calculate_TFs_to_genes_relationships\n",
    "\n",
    "_temp_dir = '/beegfs/desy/user/nourisaj/op_multiomics_grn/output/scenicplus'\n",
    "n_cpu = 40\n",
    "\n",
    "\n",
    "scplus_obj.X_EXP = np.array(scplus_obj.X_EXP.todense())\n",
    "# cistrome \n",
    "merge_cistromes(scplus_obj)\n",
    "with open(os.path.join(work_dir, 'scenicplus/scenicplus/scplus_obj.pkl'), 'wb') as f:\n",
    "            dill.dump(scplus_obj, f, protocol = -1)\n",
    "print('cistrome merged')\n"
   ]
  },
  {
   "cell_type": "markdown",
   "metadata": {},
   "source": [
    "## <a id='toc5_4_'></a>[Scenic+ main run](#toc0_)"
   ]
  },
  {
   "cell_type": "code",
   "execution_count": null,
   "metadata": {},
   "outputs": [],
   "source": [
    "# do this before next run \n",
    "import pickle\n",
    "cistopic_obj.cell_names = cistopic_obj.cell_data.obs_id.values\n",
    "cistopic_obj.selected_model.cell_topic.columns = cistopic_obj.cell_names\n",
    "cistopic_obj.cell_data.index = cistopic_obj.cell_data.obs_id\n",
    "\n",
    "pickle.dump(cistopic_obj,\n",
    "            open(os.path.join(work_dir, 'scenicplus/scATAC/cistopic_obj.pkl'), 'wb'))"
   ]
  },
  {
   "cell_type": "code",
   "execution_count": null,
   "metadata": {},
   "outputs": [],
   "source": [
    "if True: # run locally\n",
    "    import dill\n",
    "    import scanpy as sc\n",
    "    import os\n",
    "    from scenicplus.scenicplus_class import create_SCENICPLUS_object\n",
    "    import numpy as np\n",
    "    from scenicplus.cistromes import merge_cistromes\n",
    "    from scenicplus.enhancer_to_gene import get_search_space, calculate_regions_to_genes_relationships\n",
    "    from scenicplus.TF_to_gene import calculate_TFs_to_genes_relationships\n",
    "\n",
    "    _temp_dir = '/beegfs/desy/user/nourisaj/op_multiomics_grn/output/scenicplus'\n",
    "    n_cpu = 40\n",
    "\n",
    "\n",
    "    adata = sc.read_h5ad(f'{work_dir}/scenicplus/scRNA/adata_rna.h5ad')\n",
    "    cistopic_obj = dill.load(open(os.path.join(work_dir, 'scenicplus/scATAC/cistopic_obj.pkl'), 'rb'))\n",
    "    menr = dill.load(open(os.path.join(work_dir, 'scenicplus/scATAC/motifs/menr.pkl'), 'rb'))\n",
    "    scplus_obj = create_SCENICPLUS_object(\n",
    "        GEX_anndata = adata,\n",
    "        cisTopic_obj = cistopic_obj,\n",
    "        menr = menr\n",
    "    )\n",
    "    scplus_obj.X_EXP = np.array(scplus_obj.X_EXP.todense())\n",
    "    # cistrome \n",
    "    merge_cistromes(scplus_obj)\n",
    "    with open(os.path.join(work_dir, 'scenicplus/scenicplus/scplus_obj.pkl'), 'wb') as f:\n",
    "                dill.dump(scplus_obj, f, protocol = -1)\n",
    "    print('cistrome merged')\n",
    "    # regression: region to gene  \n",
    "    biomart_host = \"http://sep2019.archive.ensembl.org/\" \n",
    "    species='hsapiens'\n",
    "    assembly='hg38'\n",
    "    upstream = [1000, 150000]\n",
    "    downstream = [1000, 150000]\n",
    "    get_search_space(scplus_obj,\n",
    "                        biomart_host = biomart_host,\n",
    "                        species = species,\n",
    "                        assembly = assembly, \n",
    "                        upstream = upstream,\n",
    "                        downstream = downstream) \n",
    "    calculate_regions_to_genes_relationships(scplus_obj, \n",
    "                            ray_n_cpu = n_cpu, \n",
    "                            _temp_dir = _temp_dir,\n",
    "                            importance_scoring_method = 'GBM')\n",
    "    print('number of genes in gene space: ',scplus_obj.uns['search_space'].Gene.unique().shape)\n",
    "    print('number of genes in region-to-gene: ', scplus_obj.uns['region_to_gene'].target.unique().shape)\n",
    "    with open(os.path.join(work_dir, 'scenicplus/scenicplus/scplus_obj.pkl'), 'wb') as f:\n",
    "                dill.dump(scplus_obj, f, protocol = -1)\n",
    "    print('region to gene calculated')\n",
    "    # regression: tf to gene\n",
    "    calculate_TFs_to_genes_relationships(scplus_obj, \n",
    "                        tf_file = './output/utoronto_human_tfs_v_1.01.txt',\n",
    "                        ray_n_cpu = n_cpu, \n",
    "                        method = 'GBM',\n",
    "                        _temp_dir = _temp_dir,\n",
    "                        key= 'TF2G_adj')\n",
    "    print('number of TFs in TF2G_adj: ', scplus_obj.uns['TF2G_adj'].TF.unique().shape)\n",
    "    print('number of genes in TF2G_adj: ', scplus_obj.uns['TF2G_adj'].target.unique().shape)\n",
    "    with open(os.path.join(work_dir, 'scenicplus/scplus_obj.pkl'), 'wb') as f:\n",
    "                dill.dump(scplus_obj, f, protocol = -1)\n",
    "    print('tf gene calculated')\n",
    "    # eRegulon formation \n",
    "    from scenicplus.grn_builder.gsea_approach import *\n",
    "    from scenicplus.utils import *\n",
    "    from scenicplus.eregulon_enrichment import *\n",
    "\n",
    "    default_params = dict(min_target_genes = 10,\n",
    "            adj_pval_thr = 1,\n",
    "            min_regions_per_gene = 0,\n",
    "            quantiles = (0.85, 0.90, 0.95),\n",
    "            top_n_regionTogenes_per_gene = (5, 10, 15),\n",
    "            top_n_regionTogenes_per_region = (),\n",
    "            binarize_using_basc = True,\n",
    "            rho_dichotomize_tf2g = True,\n",
    "            rho_dichotomize_r2g = True,\n",
    "            rho_dichotomize_eregulon = True,\n",
    "            rho_threshold = 0.05,\n",
    "            keep_extended_motif_annot = True,\n",
    "            merge_eRegulons = True, \n",
    "            order_regions_to_genes_by = 'importance',\n",
    "            order_TFs_to_genes_by = 'importance',\n",
    "            key_added = 'eRegulons',\n",
    "            cistromes_key = 'Unfiltered',\n",
    "            disable_tqdm = False,\n",
    "            ray_n_cpu = n_cpu,\n",
    "            _temp_dir = _temp_dir)\n",
    "    alt_params = dict(min_target_genes = 0,\n",
    "            adj_pval_thr = 1,\n",
    "            min_regions_per_gene = 0,\n",
    "            quantiles = (0.7, 0.80, 0.90),\n",
    "            top_n_regionTogenes_per_gene = (10, 15, 25),\n",
    "            top_n_regionTogenes_per_region = (),\n",
    "            binarize_using_basc = True,\n",
    "            rho_dichotomize_tf2g = True,\n",
    "            rho_dichotomize_r2g = True,\n",
    "            rho_dichotomize_eregulon = True,\n",
    "            rho_threshold = 0,\n",
    "            keep_extended_motif_annot = True,\n",
    "            merge_eRegulons = True, \n",
    "            order_regions_to_genes_by = 'importance',\n",
    "            order_TFs_to_genes_by = 'importance',\n",
    "            key_added = 'eRegulons',\n",
    "            cistromes_key = 'Unfiltered',\n",
    "            disable_tqdm = False, \n",
    "            ray_n_cpu = n_cpu,\n",
    "            _temp_dir = _temp_dir)\n",
    "    \n",
    "    build_grn(scplus_obj, **alt_params)\n",
    "    format_egrns(scplus_obj,\n",
    "                eregulons_key = 'eRegulons',\n",
    "                TF2G_key = 'TF2G_adj',\n",
    "                key_added = 'eRegulon_metadata')\n",
    "    with open('scplus_obj_1.pkl', 'wb') as f:\n",
    "        dill.dump(scplus_obj, f, protocol = -1)\n",
    "    print('e regulon finished')\n",
    "\n",
    "else: # on server\n",
    "    !python scenicplus/run_grn.py\n",
    "        "
   ]
  },
  {
   "cell_type": "markdown",
   "metadata": {},
   "source": [
    "## Formatize the inferred GRN"
   ]
  },
  {
   "cell_type": "code",
   "execution_count": null,
   "metadata": {},
   "outputs": [],
   "source": [
    "import pickle\n",
    "with open(f'{work_dir}/infer/scenicplus/grn/scplus_obj.pkl', 'rb') as scplus_obj:\n",
    "    data = pickle.load(scplus_obj)"
   ]
  },
  {
   "cell_type": "code",
   "execution_count": 3,
   "metadata": {},
   "outputs": [
    {
     "ename": "",
     "evalue": "",
     "output_type": "error",
     "traceback": [
      "\u001b[1;31mThe Kernel crashed while executing code in the current cell or a previous cell. \n",
      "\u001b[1;31mPlease review the code in the cell(s) to identify a possible cause of the failure. \n",
      "\u001b[1;31mClick <a href='https://aka.ms/vscodeJupyterKernelCrash'>here</a> for more info. \n",
      "\u001b[1;31mView Jupyter <a href='command:jupyter.viewOutput'>log</a> for further details."
     ]
    }
   ],
   "source": [
    "import dill\n",
    "work_dir = '../../output'\n",
    "scplus_obj = dill.load(open(f'{work_dir}/infer/scenicplus/grn/scplus_obj.pkl', 'rb'))"
   ]
  },
  {
   "cell_type": "code",
   "execution_count": 4,
   "metadata": {},
   "outputs": [
    {
     "data": {
      "text/plain": [
       "SCENIC+ object with n_cells x n_genes = 25551 x 22787 and n_cells x n_regions = 25551 x 134379\n",
       "\tmetadata_regions:'Chromosome', 'Start', 'End', 'Width', 'cisTopic_nr_frag', 'cisTopic_log_nr_frag', 'cisTopic_nr_acc', 'cisTopic_log_nr_acc'\n",
       "\tmetadata_genes:'n_cells'\n",
       "\tmetadata_cell:'GEX_cell_type', 'GEX_donor_id', 'GEX_n_genes', 'GEX_louvain', 'ACC_cisTopic_nr_frag', 'ACC_cisTopic_log_nr_frag', 'ACC_cisTopic_nr_acc', 'ACC_cisTopic_log_nr_acc', 'ACC_sample_id', 'ACC_obs_id', 'ACC_cell_type', 'ACC_donor_id'\n",
       "\tmenr:'CTX_topics_otsu_All', 'CTX_topics_otsu_No_promoters', 'DEM_topics_otsu_All', 'DEM_topics_otsu_No_promoters', 'CTX_topics_top_3_All', 'CTX_topics_top_3_No_promoters', 'DEM_topics_top_3_All', 'DEM_topics_top_3_No_promoters', 'CTX_DARs_All', 'CTX_DARs_No_promoters', 'DEM_DARs_All', 'DEM_DARs_No_promoters'\n",
       "\tdr_cell:'GEX_X_diffmap', 'GEX_X_draw_graph_fr', 'GEX_X_pca', 'GEX_X_umap'"
      ]
     },
     "execution_count": 4,
     "metadata": {},
     "output_type": "execute_result"
    }
   ],
   "source": [
    "scplus_obj"
   ]
  },
  {
   "cell_type": "code",
   "execution_count": 3,
   "metadata": {},
   "outputs": [
    {
     "ename": "KeyError",
     "evalue": "'eRegulons'",
     "output_type": "error",
     "traceback": [
      "\u001b[0;31m---------------------------------------------------------------------------\u001b[0m",
      "\u001b[0;31mKeyError\u001b[0m                                  Traceback (most recent call last)",
      "Cell \u001b[0;32mIn[3], line 1\u001b[0m\n\u001b[0;32m----> 1\u001b[0m \u001b[38;5;28mprint\u001b[39m(\u001b[38;5;124m'\u001b[39m\u001b[38;5;124meRegulon: \u001b[39m\u001b[38;5;124m'\u001b[39m, \u001b[38;5;28mlen\u001b[39m(\u001b[43mscplus_obj\u001b[49m\u001b[38;5;241;43m.\u001b[39;49m\u001b[43muns\u001b[49m\u001b[43m[\u001b[49m\u001b[38;5;124;43m'\u001b[39;49m\u001b[38;5;124;43meRegulons\u001b[39;49m\u001b[38;5;124;43m'\u001b[39;49m\u001b[43m]\u001b[49m), \n\u001b[1;32m      2\u001b[0m       \u001b[38;5;124m'\u001b[39m\u001b[38;5;124m, TFs: \u001b[39m\u001b[38;5;124m'\u001b[39m, scplus_obj\u001b[38;5;241m.\u001b[39muns[\u001b[38;5;124m'\u001b[39m\u001b[38;5;124meRegulon_metadata\u001b[39m\u001b[38;5;124m'\u001b[39m]\u001b[38;5;241m.\u001b[39mTF\u001b[38;5;241m.\u001b[39munique()\u001b[38;5;241m.\u001b[39msize,\n\u001b[1;32m      3\u001b[0m       \u001b[38;5;124m'\u001b[39m\u001b[38;5;124m, target genes: \u001b[39m\u001b[38;5;124m'\u001b[39m, scplus_obj\u001b[38;5;241m.\u001b[39muns[\u001b[38;5;124m'\u001b[39m\u001b[38;5;124meRegulon_metadata\u001b[39m\u001b[38;5;124m'\u001b[39m]\u001b[38;5;241m.\u001b[39mGene\u001b[38;5;241m.\u001b[39munique()\u001b[38;5;241m.\u001b[39msize,\n\u001b[1;32m      4\u001b[0m       \u001b[38;5;124m'\u001b[39m\u001b[38;5;124m, target region: \u001b[39m\u001b[38;5;124m'\u001b[39m, scplus_obj\u001b[38;5;241m.\u001b[39muns[\u001b[38;5;124m'\u001b[39m\u001b[38;5;124meRegulon_metadata\u001b[39m\u001b[38;5;124m'\u001b[39m]\u001b[38;5;241m.\u001b[39mRegion\u001b[38;5;241m.\u001b[39munique()\u001b[38;5;241m.\u001b[39msize) \n",
      "\u001b[0;31mKeyError\u001b[0m: 'eRegulons'"
     ]
    }
   ],
   "source": [
    "print('eRegulon: ', len(scplus_obj.uns['eRegulons']), \n",
    "      ', TFs: ', scplus_obj.uns['eRegulon_metadata'].TF.unique().size,\n",
    "      ', target genes: ', scplus_obj.uns['eRegulon_metadata'].Gene.unique().size,\n",
    "      ', target region: ', scplus_obj.uns['eRegulon_metadata'].Region.unique().size) "
   ]
  },
  {
   "cell_type": "code",
   "execution_count": 6,
   "metadata": {},
   "outputs": [
    {
     "ename": "KeyError",
     "evalue": "'eRegulon_metadata'",
     "output_type": "error",
     "traceback": [
      "\u001b[0;31m---------------------------------------------------------------------------\u001b[0m",
      "\u001b[0;31mKeyError\u001b[0m                                  Traceback (most recent call last)",
      "Cell \u001b[0;32mIn[6], line 2\u001b[0m\n\u001b[1;32m      1\u001b[0m \u001b[38;5;66;03m# save the net\u001b[39;00m\n\u001b[0;32m----> 2\u001b[0m scenicplus_grn \u001b[38;5;241m=\u001b[39m \u001b[43mscplus_obj\u001b[49m\u001b[38;5;241;43m.\u001b[39;49m\u001b[43muns\u001b[49m\u001b[43m[\u001b[49m\u001b[38;5;124;43m'\u001b[39;49m\u001b[38;5;124;43meRegulon_metadata\u001b[39;49m\u001b[38;5;124;43m'\u001b[39;49m\u001b[43m]\u001b[49m[[\u001b[38;5;124m'\u001b[39m\u001b[38;5;124mTF\u001b[39m\u001b[38;5;124m'\u001b[39m, \u001b[38;5;124m'\u001b[39m\u001b[38;5;124mGene\u001b[39m\u001b[38;5;124m'\u001b[39m, \u001b[38;5;124m'\u001b[39m\u001b[38;5;124mTF2G_rho\u001b[39m\u001b[38;5;124m'\u001b[39m, \u001b[38;5;124m'\u001b[39m\u001b[38;5;124mRegion\u001b[39m\u001b[38;5;124m'\u001b[39m]]\u001b[38;5;241m.\u001b[39mdrop_duplicates()\u001b[38;5;241m.\u001b[39mreset_index(drop\u001b[38;5;241m=\u001b[39m\u001b[38;5;28;01mTrue\u001b[39;00m)\n\u001b[1;32m      3\u001b[0m scenicplus_grn \u001b[38;5;241m=\u001b[39m scenicplus_grn[scenicplus_grn\u001b[38;5;241m.\u001b[39mTF2G_rho\u001b[38;5;241m!=\u001b[39m\u001b[38;5;241m0\u001b[39m]\n\u001b[1;32m      4\u001b[0m scenicplus_grn\u001b[38;5;241m.\u001b[39mcolumns \u001b[38;5;241m=\u001b[39m [\u001b[38;5;124m'\u001b[39m\u001b[38;5;124msource\u001b[39m\u001b[38;5;124m'\u001b[39m, \u001b[38;5;124m'\u001b[39m\u001b[38;5;124mtarget\u001b[39m\u001b[38;5;124m'\u001b[39m, \u001b[38;5;124m'\u001b[39m\u001b[38;5;124mweight\u001b[39m\u001b[38;5;124m'\u001b[39m, \u001b[38;5;124m'\u001b[39m\u001b[38;5;124mregion\u001b[39m\u001b[38;5;124m'\u001b[39m]\n",
      "\u001b[0;31mKeyError\u001b[0m: 'eRegulon_metadata'"
     ]
    },
    {
     "ename": "",
     "evalue": "",
     "output_type": "error",
     "traceback": [
      "\u001b[1;31mThe Kernel crashed while executing code in the current cell or a previous cell. \n",
      "\u001b[1;31mPlease review the code in the cell(s) to identify a possible cause of the failure. \n",
      "\u001b[1;31mClick <a href='https://aka.ms/vscodeJupyterKernelCrash'>here</a> for more info. \n",
      "\u001b[1;31mView Jupyter <a href='command:jupyter.viewOutput'>log</a> for further details."
     ]
    }
   ],
   "source": [
    "# save the net\n",
    "scenicplus_grn = scplus_obj.uns['eRegulon_metadata'][['TF', 'Gene', 'TF2G_rho', 'Region']].drop_duplicates().reset_index(drop=True)\n",
    "scenicplus_grn = scenicplus_grn[scenicplus_grn.TF2G_rho!=0]\n",
    "scenicplus_grn.columns = ['source', 'target', 'weight', 'region']\n",
    "scenicplus_grn.to_csv(f'{work_dir}/scenicplus/grn/grn_extended.csv')"
   ]
  },
  {
   "cell_type": "code",
   "execution_count": null,
   "metadata": {},
   "outputs": [],
   "source": [
    "# save TFs enriched in cistarget and remaining CIS in cistrome\n",
    "cistromes = np.asarray(list(scplus_obj.uns['Cistromes']['Unfiltered'].keys()))\n",
    "tfs_cistromes = np.unique(([cistrome.split('_')[0] for cistrome in cistromes]))\n",
    "np.savetxt(ff'{work_dir}/scenicplus/grn/tfs_cistrome.txt',tfs_cistromes,  fmt='%s')"
   ]
  },
  {
   "cell_type": "code",
   "execution_count": null,
   "metadata": {},
   "outputs": [],
   "source": [
    "# Number of TFs removed during motif enrichment analysis\n",
    "all_tfs = np.loadtxt(f'{work_dir}/scenicplus/utoronto_human_tfs_v_1.01.txt', dtype=str)\n",
    "tfs_cistromes = np.loadtxt(ff'{work_dir}/scenicplus/grn/tfs_cistrome.txt', dtype=str)\n",
    "print(f'from an initial {len(all_tfs)} TFs, {len(np.intersect1d(all_tfs, tfs_cistromes))} are in cistromes')"
   ]
  },
  {
   "cell_type": "markdown",
   "metadata": {},
   "source": [
    "## Some more analysis\n"
   ]
  },
  {
   "cell_type": "code",
   "execution_count": 21,
   "metadata": {},
   "outputs": [],
   "source": [
    "tag = '_short'"
   ]
  },
  {
   "cell_type": "code",
   "execution_count": 22,
   "metadata": {},
   "outputs": [
    {
     "name": "stdout",
     "output_type": "stream",
     "text": [
      "max regions per gene 96\n",
      "median region per gene 7.0\n"
     ]
    }
   ],
   "source": [
    "scenicplus_grn =  pd.read_csv(f'{work_dir}/scenicplus/grn/grn_extended{tag}.csv', index_col=0)\n",
    "peak_gene_scenicplus_n = scenicplus_grn.groupby('target').apply(lambda df:df['region'].shape[0])\n",
    "print('max regions per gene', np.max(peak_gene_scenicplus_n.values))\n",
    "print('median region per gene', np.median(peak_gene_scenicplus_n.values))"
   ]
  },
  {
   "cell_type": "code",
   "execution_count": 23,
   "metadata": {},
   "outputs": [
    {
     "name": "stdout",
     "output_type": "stream",
     "text": [
      "number of TFs  33  CIS  25082  gene  7461\n",
      "number of DORC genes with t of 10  2949\n",
      "number of DORC genes with t of 5  4288\n"
     ]
    }
   ],
   "source": [
    "print('number of TFs ', scenicplus_grn.source.unique().shape[0], ' CIS ', scenicplus_grn.region.unique().shape[0], ' gene ', scenicplus_grn.target.unique().shape[0])\n",
    "print('number of DORC genes with t of 10 ', (peak_gene_scenicplus_n.values > 10).sum())\n",
    "print('number of DORC genes with t of 5 ', (peak_gene_scenicplus_n.values > 5).sum())"
   ]
  },
  {
   "cell_type": "code",
   "execution_count": 24,
   "metadata": {},
   "outputs": [
    {
     "ename": "NameError",
     "evalue": "name 'plt' is not defined",
     "output_type": "error",
     "traceback": [
      "\u001b[0;31m---------------------------------------------------------------------------\u001b[0m",
      "\u001b[0;31mNameError\u001b[0m                                 Traceback (most recent call last)",
      "Cell \u001b[0;32mIn[24], line 1\u001b[0m\n\u001b[0;32m----> 1\u001b[0m aa \u001b[38;5;241m=\u001b[39m \u001b[43mplt\u001b[49m\u001b[38;5;241m.\u001b[39mhist(peak_gene_scenicplus_n\u001b[38;5;241m.\u001b[39mvalues, bins\u001b[38;5;241m=\u001b[39m\u001b[38;5;241m100\u001b[39m)\n",
      "\u001b[0;31mNameError\u001b[0m: name 'plt' is not defined"
     ]
    }
   ],
   "source": [
    "aa = plt.hist(peak_gene_scenicplus_n.values, bins=100)\n"
   ]
  },
  {
   "cell_type": "code",
   "execution_count": 25,
   "metadata": {},
   "outputs": [],
   "source": [
    "# direct TF-gene links\n",
    "sp_grn = scenicplus_grn[['source','target','weight']].drop_duplicates(ignore_index=True)\n"
   ]
  },
  {
   "cell_type": "code",
   "execution_count": 26,
   "metadata": {},
   "outputs": [
    {
     "data": {
      "text/plain": [
       "(33,)"
      ]
     },
     "execution_count": 26,
     "metadata": {},
     "output_type": "execute_result"
    }
   ],
   "source": [
    "sp_grn.source.unique().shape"
   ]
  },
  {
   "cell_type": "code",
   "execution_count": 27,
   "metadata": {},
   "outputs": [],
   "source": [
    "sp_grn.to_csv(f'{work_dir}/scenicplus/grn/scenicplus_grn{tag}.csv')"
   ]
  },
  {
   "cell_type": "code",
   "execution_count": null,
   "metadata": {},
   "outputs": [],
   "source": [
    "# cp \n",
    "sp_ct = pd.read_csv(f'{work_dir}/infer/scenicplus/grn/grn_extended.csv', index_col=0)[['region', 'target']].drop_duplicates()\n",
    "sp_ct.columns = ['CRE','target']"
   ]
  }
 ],
 "metadata": {
  "kernelspec": {
   "display_name": "scenicplus",
   "language": "python",
   "name": "python3"
  },
  "language_info": {
   "codemirror_mode": {
    "name": "ipython",
    "version": 3
   },
   "file_extension": ".py",
   "mimetype": "text/x-python",
   "name": "python",
   "nbconvert_exporter": "python",
   "pygments_lexer": "ipython3",
   "version": "3.10.14"
  }
 },
 "nbformat": 4,
 "nbformat_minor": 2
}
