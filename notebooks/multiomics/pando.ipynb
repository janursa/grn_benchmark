{
 "cells": [
  {
   "cell_type": "markdown",
   "metadata": {},
   "source": [
    "# Pipeline of Pando"
   ]
  },
  {
   "cell_type": "code",
   "execution_count": 2,
   "metadata": {
    "vscode": {
     "languageId": "r"
    }
   },
   "outputs": [],
   "source": [
    "%load_ext rpy2.ipython"
   ]
  },
  {
   "cell_type": "code",
   "execution_count": 3,
   "metadata": {
    "vscode": {
     "languageId": "r"
    }
   },
   "outputs": [
    {
     "name": "stdout",
     "output_type": "stream",
     "text": [
      "\n",
      "    WARNING: The R package \"reticulate\" only fixed recently\n",
      "    an issue that caused a segfault when used with rpy2:\n",
      "    https://github.com/rstudio/reticulate/pull/1188\n",
      "    Make sure that you use a version of that package that includes\n",
      "    the fix.\n",
      "    "
     ]
    },
    {
     "data": {
      "text/plain": [
       "Loading required package: SeuratObject\n",
       "Loading required package: sp\n",
       "‘SeuratObject’ was built under R 4.1.2 but the current version is\n",
       "4.3.2; it is recomended that you reinstall ‘SeuratObject’ as the ABI\n",
       "for R may have changed\n",
       "‘SeuratObject’ was built with package ‘Matrix’ 1.6.3 but the current\n",
       "version is 1.6.5; it is recomended that you reinstall ‘SeuratObject’ as\n",
       "the ABI for ‘Matrix’ may have changed\n",
       "\n",
       "Attaching package: ‘SeuratObject’\n",
       "\n",
       "The following object is masked from ‘package:base’:\n",
       "\n",
       "    intersect\n",
       "\n",
       "Loading required package: GenomeInfoDb\n",
       "Loading required package: BiocGenerics\n",
       "\n",
       "Attaching package: ‘BiocGenerics’\n",
       "\n",
       "The following object is masked from ‘package:SeuratObject’:\n",
       "\n",
       "    intersect\n",
       "\n",
       "The following objects are masked from ‘package:stats’:\n",
       "\n",
       "    IQR, mad, sd, var, xtabs\n",
       "\n",
       "The following objects are masked from ‘package:base’:\n",
       "\n",
       "    anyDuplicated, aperm, append, as.data.frame, basename, cbind,\n",
       "    colnames, dirname, do.call, duplicated, eval, evalq, Filter, Find,\n",
       "    get, grep, grepl, intersect, is.unsorted, lapply, Map, mapply,\n",
       "    match, mget, order, paste, pmax, pmax.int, pmin, pmin.int,\n",
       "    Position, rank, rbind, Reduce, rownames, sapply, setdiff, sort,\n",
       "    table, tapply, union, unique, unsplit, which.max, which.min\n",
       "\n",
       "Loading required package: S4Vectors\n",
       "Loading required package: stats4\n",
       "\n",
       "Attaching package: ‘S4Vectors’\n",
       "\n",
       "The following object is masked from ‘package:utils’:\n",
       "\n",
       "    findMatches\n",
       "\n",
       "The following objects are masked from ‘package:base’:\n",
       "\n",
       "    expand.grid, I, unname\n",
       "\n",
       "Loading required package: IRanges\n",
       "\n",
       "Attaching package: ‘IRanges’\n",
       "\n",
       "The following object is masked from ‘package:sp’:\n",
       "\n",
       "    %over%\n",
       "\n",
       "Loading required package: BSgenome\n",
       "Loading required package: GenomicRanges\n",
       "Loading required package: Biostrings\n",
       "Loading required package: XVector\n",
       "\n",
       "Attaching package: ‘Biostrings’\n",
       "\n",
       "The following object is masked from ‘package:base’:\n",
       "\n",
       "    strsplit\n",
       "\n",
       "Loading required package: BiocIO\n",
       "Loading required package: rtracklayer\n",
       "\n",
       "Attaching package: ‘rtracklayer’\n",
       "\n",
       "The following object is masked from ‘package:BiocIO’:\n",
       "\n",
       "    FileForFormat\n",
       "\n",
       "In addition: Warning message:\n",
       "In (function (package, help, pos = 2, lib.loc = NULL, character.only = FALSE,  :\n",
       "  library ‘/usr/lib/R/site-library’ contains no packages\n"
      ]
     },
     "metadata": {},
     "output_type": "display_data"
    }
   ],
   "source": [
    "%%R \n",
    "options(digits=5, max.print=100)  # Adjust numbers as needed\n",
    "set.seed(123)\n",
    "\n",
    "# library(Pando)\n",
    "library(Seurat)\n",
    "library(BSgenome.Hsapiens.UCSC.hg38)\n",
    "\n",
    "# # Get motif data\n",
    "# data(motifs)\n",
    "\n",
    "# packageVersion('Seurat')"
   ]
  },
  {
   "cell_type": "code",
   "execution_count": 5,
   "metadata": {
    "vscode": {
     "languageId": "r"
    }
   },
   "outputs": [
    {
     "data": {
      "text/plain": [
       "\n",
       "Attaching package: ‘Matrix’\n",
       "\n",
       "The following object is masked from ‘package:S4Vectors’:\n",
       "\n",
       "    expand\n",
       "\n"
      ]
     },
     "metadata": {},
     "output_type": "display_data"
    }
   ],
   "source": [
    "%%R\n",
    "library(Matrix)\n",
    "\n",
    "X <- readMM(\"../output/scATAC/matrix_annot/X_matrix.mtx\")\n",
    "X <- t(X)\n",
    "annotation_peak <- read.csv(\"../output/scATAC/matrix_annot/annotation_peak.csv\", row.names = 1)\n",
    "annotation_cells <- read.csv(\"../output/scATAC/matrix_annot/annotation_cells.csv\", row.names = 1)\n",
    "\n",
    "# Filter out entries where seqname is not chr \n",
    "filter_indices <- grepl(\"^chr\", annotation_peak$seqname)\n",
    "annotation_peak_filtered <- annotation_peak[filter_indices, ]\n",
    "\n",
    "# Filter the rows in X\n",
    "X_filtered <- X[filter_indices, ]\n",
    "  \n",
    "peaks_matrix <- X_filtered\n",
    "colnames(peaks_matrix) <- annotation_cells$obs_id \n",
    "\n",
    "rownames(peaks_matrix) = paste(annotation_peak_filtered$seqname, annotation_peak_filtered$ranges, sep = \"_\")\n"
   ]
  },
  {
   "cell_type": "code",
   "execution_count": 8,
   "metadata": {
    "vscode": {
     "languageId": "r"
    }
   },
   "outputs": [
    {
     "name": "stdout",
     "output_type": "stream",
     "text": [
      "  |                                                  | 0 % ~calculating   |++                                                | 4 % ~48s           |++++                                              | 8 % ~34s           |++++++                                            | 12% ~38s           |++++++++                                          | 16% ~38s           |++++++++++                                        | 20% ~34s           |++++++++++++                                      | 24% ~30s           |++++++++++++++                                    | 28% ~28s           |++++++++++++++++                                  | 32% ~26s           |++++++++++++++++++                                | 36% ~23s           |++++++++++++++++++++                              | 40% ~21s           |++++++++++++++++++++++                            | 44% ~20s           |++++++++++++++++++++++++                          | 48% ~18s           |++++++++++++++++++++++++++                        | 52% ~16s           |++++++++++++++++++++++++++++                      | 56% ~15s           |++++++++++++++++++++++++++++++                    | 60% ~13s           |++++++++++++++++++++++++++++++++                  | 64% ~12s           |++++++++++++++++++++++++++++++++++                | 68% ~10s           |++++++++++++++++++++++++++++++++++++              | 72% ~09s           |++++++++++++++++++++++++++++++++++++++            | 76% ~07s           |++++++++++++++++++++++++++++++++++++++++          | 80% ~06s           |++++++++++++++++++++++++++++++++++++++++++        | 84% ~05s           |++++++++++++++++++++++++++++++++++++++++++++      | 88% ~03s           |++++++++++++++++++++++++++++++++++++++++++++++    | 92% ~02s           |++++++++++++++++++++++++++++++++++++++++++++++++  | 96% ~01s           |++++++++++++++++++++++++++++++++++++++++++++++++++| 100% elapsed=27s  \n"
     ]
    },
    {
     "data": {
      "text/plain": [
       "Loading required package: ensembldb\n",
       "Loading required package: GenomicFeatures\n",
       "Loading required package: AnnotationDbi\n",
       "Loading required package: Biobase\n",
       "Welcome to Bioconductor\n",
       "\n",
       "    Vignettes contain introductory material; view with\n",
       "    'browseVignettes()'. To cite Bioconductor, see\n",
       "    'citation(\"Biobase\")', and for packages 'citation(\"pkgname\")'.\n",
       "\n",
       "Loading required package: AnnotationFilter\n",
       "\n",
       "Attaching package: 'ensembldb'\n",
       "\n",
       "The following object is masked from 'package:stats':\n",
       "\n",
       "    filter\n",
       "\n",
       "In addition: There were 24 warnings (use warnings() to see them)\n"
      ]
     },
     "metadata": {},
     "output_type": "display_data"
    }
   ],
   "source": [
    "%%R \n",
    "library(Signac)\n",
    "library(EnsDb.Hsapiens.v86)\n",
    "atac_assay <- CreateChromatinAssay(counts = peaks_matrix, ranges=GRanges(annotation_peak_filtered$seqname,\n",
    "                              IRanges(annotation_peak_filtered$ranges)), \n",
    "                             colData = DataFrame(annotation_cells), genome = \"hg38\")\n",
    "annotations <- GetGRangesFromEnsDb(ensdb = EnsDb.Hsapiens.v86)\n",
    "seqlevelsStyle(annotations) <- \"UCSC\"\n",
    "genome(annotations) <- \"hg38\"\n",
    "Annotation(atac_assay) <- annotations\n"
   ]
  },
  {
   "cell_type": "code",
   "execution_count": 10,
   "metadata": {
    "vscode": {
     "languageId": "r"
    }
   },
   "outputs": [],
   "source": [
    "%%R \n",
    "rna_short  = readRDS('../output/FigR/rna_short.rds')\n",
    "seurat_object <- CreateSeuratObject(count = rna_short, project = \"pbmc\", min.cells = 3, min.features = 200)\n",
    "seurat_object[['peaks']] = atac_assay"
   ]
  },
  {
   "cell_type": "code",
   "execution_count": 11,
   "metadata": {
    "vscode": {
     "languageId": "r"
    }
   },
   "outputs": [
    {
     "name": "stdout",
     "output_type": "stream",
     "text": [
      "An object of class Seurat \n",
      "157452 features across 7830 samples within 2 assays \n",
      "Active assay: RNA (22272 features, 0 variable features)\n",
      " 1 layer present: counts\n",
      " 1 other assay present: peaks\n"
     ]
    }
   ],
   "source": [
    "%%R \n",
    "# Assuming your Seurat object is named 'seurat_object'\n",
    "# seurat_object <- initiate_grn(seurat_object)\n",
    "seurat_object"
   ]
  },
  {
   "cell_type": "code",
   "execution_count": 1,
   "metadata": {
    "vscode": {
     "languageId": "r"
    }
   },
   "outputs": [
    {
     "name": "stderr",
     "output_type": "stream",
     "text": [
      "Loading required package: SeuratObject\n",
      "\n",
      "Loading required package: sp\n",
      "\n",
      "‘SeuratObject’ was built under R 4.1.2 but the current version is\n",
      "4.3.2; it is recomended that you reinstall ‘SeuratObject’ as the ABI\n",
      "for R may have changed\n",
      "\n",
      "‘SeuratObject’ was built with package ‘Matrix’ 1.6.3 but the current\n",
      "version is 1.6.5; it is recomended that you reinstall ‘SeuratObject’ as\n",
      "the ABI for ‘Matrix’ may have changed\n",
      "\n",
      "\n",
      "Attaching package: ‘SeuratObject’\n",
      "\n",
      "\n",
      "The following object is masked from ‘package:base’:\n",
      "\n",
      "    intersect\n",
      "\n",
      "\n",
      "Loading required package: GenomeInfoDb\n",
      "\n",
      "Loading required package: BiocGenerics\n",
      "\n",
      "\n",
      "Attaching package: ‘BiocGenerics’\n",
      "\n",
      "\n",
      "The following object is masked from ‘package:SeuratObject’:\n",
      "\n",
      "    intersect\n",
      "\n",
      "\n",
      "The following objects are masked from ‘package:stats’:\n",
      "\n",
      "    IQR, mad, sd, var, xtabs\n",
      "\n",
      "\n",
      "The following objects are masked from ‘package:base’:\n",
      "\n",
      "    anyDuplicated, aperm, append, as.data.frame, basename, cbind,\n",
      "    colnames, dirname, do.call, duplicated, eval, evalq, Filter, Find,\n",
      "    get, grep, grepl, intersect, is.unsorted, lapply, Map, mapply,\n",
      "    match, mget, order, paste, pmax, pmax.int, pmin, pmin.int,\n",
      "    Position, rank, rbind, Reduce, rownames, sapply, setdiff, sort,\n",
      "    table, tapply, union, unique, unsplit, which.max, which.min\n",
      "\n",
      "\n",
      "Loading required package: S4Vectors\n",
      "\n",
      "Loading required package: stats4\n",
      "\n",
      "\n",
      "Attaching package: ‘S4Vectors’\n",
      "\n",
      "\n",
      "The following object is masked from ‘package:utils’:\n",
      "\n",
      "    findMatches\n",
      "\n",
      "\n",
      "The following objects are masked from ‘package:base’:\n",
      "\n",
      "    expand.grid, I, unname\n",
      "\n",
      "\n",
      "Loading required package: IRanges\n",
      "\n",
      "\n",
      "Attaching package: ‘IRanges’\n",
      "\n",
      "\n",
      "The following object is masked from ‘package:sp’:\n",
      "\n",
      "    %over%\n",
      "\n",
      "\n",
      "Loading required package: BSgenome\n",
      "\n",
      "Loading required package: GenomicRanges\n",
      "\n",
      "Loading required package: Biostrings\n",
      "\n",
      "Loading required package: XVector\n",
      "\n",
      "\n",
      "Attaching package: ‘Biostrings’\n",
      "\n",
      "\n",
      "The following object is masked from ‘package:base’:\n",
      "\n",
      "    strsplit\n",
      "\n",
      "\n",
      "Loading required package: BiocIO\n",
      "\n",
      "Loading required package: rtracklayer\n",
      "\n",
      "\n",
      "Attaching package: ‘rtracklayer’\n",
      "\n",
      "\n",
      "The following object is masked from ‘package:BiocIO’:\n",
      "\n",
      "    FileForFormat\n",
      "\n",
      "\n",
      "Loading required package: ensembldb\n",
      "\n",
      "Loading required package: GenomicFeatures\n",
      "\n",
      "Loading required package: AnnotationDbi\n",
      "\n",
      "Loading required package: Biobase\n",
      "\n",
      "Welcome to Bioconductor\n",
      "\n",
      "    Vignettes contain introductory material; view with\n",
      "    'browseVignettes()'. To cite Bioconductor, see\n",
      "    'citation(\"Biobase\")', and for packages 'citation(\"pkgname\")'.\n",
      "\n",
      "\n",
      "Loading required package: AnnotationFilter\n",
      "\n",
      "\n",
      "Attaching package: 'ensembldb'\n",
      "\n",
      "\n",
      "The following object is masked from 'package:stats':\n",
      "\n",
      "    filter\n",
      "\n",
      "\n",
      "\n",
      "Attaching package: 'Matrix'\n",
      "\n",
      "\n",
      "The following object is masked from 'package:S4Vectors':\n",
      "\n",
      "    expand\n",
      "\n",
      "\n",
      "Warning message in .merge_two_Seqinfo_objects(x, y):\n",
      "\"The 2 combined objects have no sequence levels in common. (Use\n",
      "  suppressWarnings() to suppress this warning.)\"\n",
      "Warning message in .merge_two_Seqinfo_objects(x, y):\n",
      "\"The 2 combined objects have no sequence levels in common. (Use\n",
      "  suppressWarnings() to suppress this warning.)\"\n",
      "Warning message in .merge_two_Seqinfo_objects(x, y):\n",
      "\"The 2 combined objects have no sequence levels in common. (Use\n",
      "  suppressWarnings() to suppress this warning.)\"\n",
      "Warning message in .merge_two_Seqinfo_objects(x, y):\n",
      "\"The 2 combined objects have no sequence levels in common. (Use\n",
      "  suppressWarnings() to suppress this warning.)\"\n",
      "Warning message in .merge_two_Seqinfo_objects(x, y):\n",
      "\"The 2 combined objects have no sequence levels in common. (Use\n",
      "  suppressWarnings() to suppress this warning.)\"\n",
      "Warning message in .merge_two_Seqinfo_objects(x, y):\n",
      "\"The 2 combined objects have no sequence levels in common. (Use\n",
      "  suppressWarnings() to suppress this warning.)\"\n",
      "Warning message in .merge_two_Seqinfo_objects(x, y):\n",
      "\"The 2 combined objects have no sequence levels in common. (Use\n",
      "  suppressWarnings() to suppress this warning.)\"\n",
      "Warning message in .merge_two_Seqinfo_objects(x, y):\n",
      "\"The 2 combined objects have no sequence levels in common. (Use\n",
      "  suppressWarnings() to suppress this warning.)\"\n",
      "Warning message in .merge_two_Seqinfo_objects(x, y):\n",
      "\"The 2 combined objects have no sequence levels in common. (Use\n",
      "  suppressWarnings() to suppress this warning.)\"\n",
      "Warning message in .merge_two_Seqinfo_objects(x, y):\n",
      "\"The 2 combined objects have no sequence levels in common. (Use\n",
      "  suppressWarnings() to suppress this warning.)\"\n",
      "Warning message in .merge_two_Seqinfo_objects(x, y):\n",
      "\"The 2 combined objects have no sequence levels in common. (Use\n",
      "  suppressWarnings() to suppress this warning.)\"\n",
      "Warning message in .merge_two_Seqinfo_objects(x, y):\n",
      "\"The 2 combined objects have no sequence levels in common. (Use\n",
      "  suppressWarnings() to suppress this warning.)\"\n",
      "Warning message in .merge_two_Seqinfo_objects(x, y):\n",
      "\"The 2 combined objects have no sequence levels in common. (Use\n",
      "  suppressWarnings() to suppress this warning.)\"\n",
      "Warning message in .merge_two_Seqinfo_objects(x, y):\n",
      "\"The 2 combined objects have no sequence levels in common. (Use\n",
      "  suppressWarnings() to suppress this warning.)\"\n",
      "Warning message in .merge_two_Seqinfo_objects(x, y):\n",
      "\"The 2 combined objects have no sequence levels in common. (Use\n",
      "  suppressWarnings() to suppress this warning.)\"\n",
      "Warning message in .merge_two_Seqinfo_objects(x, y):\n",
      "\"The 2 combined objects have no sequence levels in common. (Use\n",
      "  suppressWarnings() to suppress this warning.)\"\n",
      "Warning message in .merge_two_Seqinfo_objects(x, y):\n",
      "\"The 2 combined objects have no sequence levels in common. (Use\n",
      "  suppressWarnings() to suppress this warning.)\"\n",
      "Warning message in .merge_two_Seqinfo_objects(x, y):\n",
      "\"The 2 combined objects have no sequence levels in common. (Use\n",
      "  suppressWarnings() to suppress this warning.)\"\n",
      "Warning message in .merge_two_Seqinfo_objects(x, y):\n",
      "\"The 2 combined objects have no sequence levels in common. (Use\n",
      "  suppressWarnings() to suppress this warning.)\"\n",
      "Warning message in .merge_two_Seqinfo_objects(x, y):\n",
      "\"The 2 combined objects have no sequence levels in common. (Use\n",
      "  suppressWarnings() to suppress this warning.)\"\n",
      "Warning message in .merge_two_Seqinfo_objects(x, y):\n",
      "\"The 2 combined objects have no sequence levels in common. (Use\n",
      "  suppressWarnings() to suppress this warning.)\"\n",
      "Warning message in .merge_two_Seqinfo_objects(x, y):\n",
      "\"The 2 combined objects have no sequence levels in common. (Use\n",
      "  suppressWarnings() to suppress this warning.)\"\n",
      "Warning message in .merge_two_Seqinfo_objects(x, y):\n",
      "\"The 2 combined objects have no sequence levels in common. (Use\n",
      "  suppressWarnings() to suppress this warning.)\"\n",
      "Warning message in .merge_two_Seqinfo_objects(x, y):\n",
      "\"The 2 combined objects have no sequence levels in common. (Use\n",
      "  suppressWarnings() to suppress this warning.)\"\n"
     ]
    },
    {
     "data": {
      "text/plain": [
       "An object of class Seurat \n",
       "157452 features across 7830 samples within 2 assays \n",
       "Active assay: RNA (22272 features, 0 variable features)\n",
       " 1 layer present: counts\n",
       " 1 other assay present: peaks"
      ]
     },
     "metadata": {},
     "output_type": "display_data"
    }
   ],
   "source": [
    "options(digits=5, max.print=100)  # Adjust numbers as needed\n",
    "set.seed(123)\n",
    "\n",
    "# library(Pando)\n",
    "library(Seurat)\n",
    "library(BSgenome.Hsapiens.UCSC.hg38)\n",
    "library(Signac)\n",
    "library(EnsDb.Hsapiens.v86)\n",
    "\n",
    "library(Matrix)\n",
    "#-------- import atac-seq count matrix and metadata and creat assay\n",
    "X <- readMM(\"X_matrix.mtx\")\n",
    "X <- t(X)\n",
    "annotation_peak <- read.csv(\"annotation_peak.csv\", row.names = 1)\n",
    "annotation_cells <- read.csv(\"annotation_cells.csv\", row.names = 1)\n",
    "\n",
    "# Filter out entries where seqname is not chr \n",
    "filter_indices <- grepl(\"^chr\", annotation_peak$seqname)\n",
    "annotation_peak_filtered <- annotation_peak[filter_indices, ]\n",
    "\n",
    "# Filter the rows in X\n",
    "X_filtered <- X[filter_indices, ]\n",
    "  \n",
    "peaks_matrix <- X_filtered\n",
    "colnames(peaks_matrix) <- annotation_cells$obs_id \n",
    "\n",
    "rownames(peaks_matrix) = paste(annotation_peak_filtered$seqname, annotation_peak_filtered$ranges, sep = \"_\")\n",
    "atac_assay <- CreateChromatinAssay(counts = peaks_matrix, ranges=GRanges(annotation_peak_filtered$seqname,\n",
    "                              IRanges(annotation_peak_filtered$ranges)), \n",
    "                             colData = DataFrame(annotation_cells), genome = \"hg38\")\n",
    "annotations <- GetGRangesFromEnsDb(ensdb = EnsDb.Hsapiens.v86)\n",
    "seqlevelsStyle(annotations) <- \"UCSC\"\n",
    "genome(annotations) <- \"hg38\"\n",
    "Annotation(atac_assay) <- annotations\n",
    "#-------- import rna-seq count matrix (with row and col names already assigned ) and create seurat object\n",
    "rna_short  = readRDS('rna_short.rds')\n",
    "seurat_object <- CreateSeuratObject(count = rna_short, project = \"pbmc\", min.cells = 3, min.features = 200)\n",
    "# add peaks\n",
    "seurat_object[[\"peaks\"]] = atac_assay\n",
    "\n",
    "seurat_object"
   ]
  }
 ],
 "metadata": {
  "kernelspec": {
   "display_name": "R",
   "language": "R",
   "name": "ir"
  },
  "language_info": {
   "codemirror_mode": "r",
   "file_extension": ".r",
   "mimetype": "text/x-r-source",
   "name": "R",
   "pygments_lexer": "r",
   "version": "4.3.2"
  }
 },
 "nbformat": 4,
 "nbformat_minor": 2
}
