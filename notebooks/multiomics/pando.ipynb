{
 "cells": [
  {
   "cell_type": "markdown",
   "metadata": {},
   "source": [
    "## Pipeline of Pando"
   ]
  },
  {
   "cell_type": "markdown",
   "metadata": {},
   "source": [
    "## Imports"
   ]
  },
  {
   "cell_type": "code",
   "execution_count": 1,
   "metadata": {},
   "outputs": [],
   "source": [
    "%load_ext rpy2.ipython\n",
    "work_dir = '../../output'"
   ]
  },
  {
   "cell_type": "code",
   "execution_count": 2,
   "metadata": {},
   "outputs": [
    {
     "name": "stdout",
     "output_type": "stream",
     "text": [
      "\n",
      "    WARNING: The R package \"reticulate\" only fixed recently\n",
      "    an issue that caused a segfault when used with rpy2:\n",
      "    https://github.com/rstudio/reticulate/pull/1188\n",
      "    Make sure that you use a version of that package that includes\n",
      "    the fix.\n",
      "    "
     ]
    },
    {
     "data": {
      "text/plain": [
       "Loading required package: SeuratObject\n",
       "Loading required package: sp\n",
       "‘SeuratObject’ was built under R 4.1.2 but the current version is\n",
       "4.3.2; it is recomended that you reinstall ‘SeuratObject’ as the ABI\n",
       "for R may have changed\n",
       "‘SeuratObject’ was built with package ‘Matrix’ 1.6.3 but the current\n",
       "version is 1.6.5; it is recomended that you reinstall ‘SeuratObject’ as\n",
       "the ABI for ‘Matrix’ may have changed\n",
       "\n",
       "Attaching package: ‘SeuratObject’\n",
       "\n",
       "The following object is masked from ‘package:base’:\n",
       "\n",
       "    intersect\n",
       "\n",
       "\n",
       "Attaching package: ‘Pando’\n",
       "\n",
       "The following objects are masked from ‘package:Seurat’:\n",
       "\n",
       "    GetAssay, VariableFeatures\n",
       "\n",
       "The following objects are masked from ‘package:SeuratObject’:\n",
       "\n",
       "    LayerData, VariableFeatures\n",
       "\n",
       "Loading required package: GenomeInfoDb\n",
       "Loading required package: BiocGenerics\n",
       "\n",
       "Attaching package: ‘BiocGenerics’\n",
       "\n",
       "The following object is masked from ‘package:SeuratObject’:\n",
       "\n",
       "    intersect\n",
       "\n",
       "The following objects are masked from ‘package:stats’:\n",
       "\n",
       "    IQR, mad, sd, var, xtabs\n",
       "\n",
       "The following objects are masked from ‘package:base’:\n",
       "\n",
       "    anyDuplicated, aperm, append, as.data.frame, basename, cbind,\n",
       "    colnames, dirname, do.call, duplicated, eval, evalq, Filter, Find,\n",
       "    get, grep, grepl, intersect, is.unsorted, lapply, Map, mapply,\n",
       "    match, mget, order, paste, pmax, pmax.int, pmin, pmin.int,\n",
       "    Position, rank, rbind, Reduce, rownames, sapply, setdiff, sort,\n",
       "    table, tapply, union, unique, unsplit, which.max, which.min\n",
       "\n",
       "Loading required package: S4Vectors\n",
       "Loading required package: stats4\n",
       "\n",
       "Attaching package: ‘S4Vectors’\n",
       "\n",
       "The following objects are masked from ‘package:Matrix’:\n",
       "\n",
       "    expand, unname\n",
       "\n",
       "The following object is masked from ‘package:utils’:\n",
       "\n",
       "    findMatches\n",
       "\n",
       "The following objects are masked from ‘package:base’:\n",
       "\n",
       "    expand.grid, I, unname\n",
       "\n",
       "Loading required package: IRanges\n",
       "\n",
       "Attaching package: ‘IRanges’\n",
       "\n",
       "The following object is masked from ‘package:sp’:\n",
       "\n",
       "    %over%\n",
       "\n",
       "Loading required package: BSgenome\n",
       "Loading required package: GenomicRanges\n",
       "Loading required package: Biostrings\n",
       "Loading required package: XVector\n",
       "\n",
       "Attaching package: ‘Biostrings’\n",
       "\n",
       "The following object is masked from ‘package:base’:\n",
       "\n",
       "    strsplit\n",
       "\n",
       "Loading required package: BiocIO\n",
       "Loading required package: rtracklayer\n",
       "\n",
       "Attaching package: ‘rtracklayer’\n",
       "\n",
       "The following object is masked from ‘package:BiocIO’:\n",
       "\n",
       "    FileForFormat\n",
       "\n",
       "Loading required package: ensembldb\n",
       "Loading required package: GenomicFeatures\n",
       "Loading required package: AnnotationDbi\n",
       "Loading required package: Biobase\n",
       "Welcome to Bioconductor\n",
       "\n",
       "    Vignettes contain introductory material; view with\n",
       "    'browseVignettes()'. To cite Bioconductor, see\n",
       "    'citation(\"Biobase\")', and for packages 'citation(\"pkgname\")'.\n",
       "\n",
       "Loading required package: AnnotationFilter\n",
       "\n",
       "Attaching package: 'ensembldb'\n",
       "\n",
       "The following object is masked from 'package:stats':\n",
       "\n",
       "    filter\n",
       "\n",
       "In addition: Warning message:\n",
       "In (function (package, help, pos = 2, lib.loc = NULL, character.only = FALSE,  :\n",
       "  library ‘/usr/lib/R/site-library’ contains no packages\n"
      ]
     },
     "metadata": {},
     "output_type": "display_data"
    }
   ],
   "source": [
    "%%R -i work_dir\n",
    "options(digits=5, max.print=100)  # Adjust numbers as needed\n",
    "set.seed(123)\n",
    "library(Seurat)\n",
    "library(Matrix)\n",
    "library(Pando)\n",
    "library(Signac)\n",
    "library(BSgenome.Hsapiens.UCSC.hg38)\n",
    "library(EnsDb.Hsapiens.v86)\n"
   ]
  },
  {
   "cell_type": "markdown",
   "metadata": {},
   "source": [
    "## Data formating"
   ]
  },
  {
   "cell_type": "code",
   "execution_count": 3,
   "metadata": {},
   "outputs": [],
   "source": [
    "%%R \n",
    "\n",
    "peaks_count <- readMM(paste0(work_dir, \"/scATAC/X_matrix.mtx\"))\n",
    "peaks_count <- t(peaks_count)\n",
    "annotation_peak <- read.csv(paste0(work_dir, \"/scATAC/annotation_peak.csv\"), row.names = 1)\n",
    "annotation_cells_peaks <- read.csv(paste0(work_dir, \"/scATAC/annotation_cells.csv\"), row.names = 1)\n",
    "\n",
    "# Filter out entries where seqname is not chr \n",
    "filter_indices <- grepl(\"^chr\", annotation_peak$seqname)\n",
    "annotation_peak <- annotation_peak[filter_indices, ]\n",
    "\n",
    "# Filter the rows in X\n",
    "peaks_count <- peaks_count[filter_indices, ]\n",
    "  \n",
    "colnames(peaks_count) <- annotation_cells_peaks$obs_id \n",
    "\n",
    "rownames(peaks_count) = paste(annotation_peak$seqname, annotation_peak$ranges, sep = \"_\")\n"
   ]
  },
  {
   "cell_type": "code",
   "execution_count": 4,
   "metadata": {},
   "outputs": [],
   "source": [
    "%%R \n",
    "rna_counts <- readMM(paste0(work_dir, \"/scRNA/X_matrix.mtx\"))\n",
    "rna_counts <- t(rna_counts)\n",
    "annotation_genes_rna <- read.csv(paste0(work_dir, \"/scRNA/annotation_gene.csv\"), row.names = 1)\n",
    "annotation_cells_rna <- read.csv(paste0(work_dir, \"/scRNA/annotation_cells.csv\"), row.names = 1)\n",
    "\n",
    "colnames(rna_counts) <- annotation_cells_rna$obs_id \n",
    "\n",
    "rownames(rna_counts) = annotation_genes_rna$location "
   ]
  },
  {
   "cell_type": "markdown",
   "metadata": {},
   "source": [
    "## Create seurat obj"
   ]
  },
  {
   "cell_type": "code",
   "execution_count": 5,
   "metadata": {},
   "outputs": [
    {
     "name": "stdout",
     "output_type": "stream",
     "text": [
      "  |                                                  | 0 % ~calculating   |++                                                | 4 % ~30s           |++++                                              | 8 % ~27s           |++++++                                            | 12% ~38s           |++++++++                                          | 16% ~36s           |++++++++++                                        | 20% ~34s           |++++++++++++                                      | 24% ~30s           |++++++++++++++                                    | 28% ~28s           |++++++++++++++++                                  | 32% ~26s           |++++++++++++++++++                                | 36% ~24s           |++++++++++++++++++++                              | 40% ~22s           |++++++++++++++++++++++                            | 44% ~21s           |++++++++++++++++++++++++                          | 48% ~19s           |++++++++++++++++++++++++++                        | 52% ~17s           |++++++++++++++++++++++++++++                      | 56% ~16s           |++++++++++++++++++++++++++++++                    | 60% ~14s           |++++++++++++++++++++++++++++++++                  | 64% ~12s           |++++++++++++++++++++++++++++++++++                | 68% ~11s           |++++++++++++++++++++++++++++++++++++              | 72% ~10s           |++++++++++++++++++++++++++++++++++++++            | 76% ~08s           |++++++++++++++++++++++++++++++++++++++++          | 80% ~07s           |++++++++++++++++++++++++++++++++++++++++++        | 84% ~05s           |++++++++++++++++++++++++++++++++++++++++++++      | 88% ~04s           |++++++++++++++++++++++++++++++++++++++++++++++    | 92% ~03s           |++++++++++++++++++++++++++++++++++++++++++++++++  | 96% ~01s           |++++++++++++++++++++++++++++++++++++++++++++++++++| 100% elapsed=31s  \n"
     ]
    },
    {
     "data": {
      "text/plain": [
       "In addition: There were 24 warnings (use warnings() to see them)\n"
      ]
     },
     "metadata": {},
     "output_type": "display_data"
    }
   ],
   "source": [
    "%%R \n",
    "\n",
    "atac_assay <- CreateChromatinAssay(counts = peaks_count, ranges=GRanges(annotation_peak$seqname,\n",
    "                              IRanges(annotation_peak$ranges)), \n",
    "                             colData = DataFrame(annotation_cells), genome = \"hg38\")\n",
    "annotations <- GetGRangesFromEnsDb(ensdb = EnsDb.Hsapiens.v86)\n",
    "seqlevelsStyle(annotations) <- \"UCSC\"\n",
    "genome(annotations) <- \"hg38\"\n",
    "Annotation(atac_assay) <- annotations"
   ]
  },
  {
   "cell_type": "code",
   "execution_count": 6,
   "metadata": {},
   "outputs": [
    {
     "data": {
      "text/plain": [
       "Warning: Data is of class dgTMatrix. Coercing to dgCMatrix.\n"
      ]
     },
     "metadata": {},
     "output_type": "display_data"
    }
   ],
   "source": [
    "%%R \n",
    "seurat_obj <- CreateSeuratObject(counts = rna_counts, project = \"pbmc\", min.cells = 3, min.features = 200)\n",
    "seurat_obj[['peaks']] = atac_assay\n",
    "names(seurat_obj@assays) <- c(\"RNA\", \"peaks\")"
   ]
  },
  {
   "cell_type": "code",
   "execution_count": 7,
   "metadata": {},
   "outputs": [
    {
     "ename": "NameError",
     "evalue": "name 'saveRDS' is not defined",
     "output_type": "error",
     "traceback": [
      "\u001b[0;31m---------------------------------------------------------------------------\u001b[0m",
      "\u001b[0;31mNameError\u001b[0m                                 Traceback (most recent call last)",
      "Cell \u001b[0;32mIn[7], line 1\u001b[0m\n\u001b[0;32m----> 1\u001b[0m \u001b[43msaveRDS\u001b[49m(seurat_object, paste0(work_dir, \u001b[38;5;124m'\u001b[39m\u001b[38;5;124m/pando/seurat_obj.rds\u001b[39m\u001b[38;5;124m'\u001b[39m))\n",
      "\u001b[0;31mNameError\u001b[0m: name 'saveRDS' is not defined"
     ]
    }
   ],
   "source": [
    "saveRDS(seurat_object, paste0(work_dir, '/pando/seurat_obj.rds'))"
   ]
  },
  {
   "cell_type": "markdown",
   "metadata": {},
   "source": [
    "## GRN"
   ]
  },
  {
   "cell_type": "code",
   "execution_count": 9,
   "metadata": {},
   "outputs": [
    {
     "name": "stdout",
     "output_type": "stream",
     "text": [
      "Finding variable features for layer counts\n",
      "Calculating gene variances\n",
      "0%   10   20   30   40   50   60   70   80   90   100%\n",
      "[----|----|----|----|----|----|----|----|----|----|\n",
      "**************************************************|\n",
      "Calculating feature variances of standardized and clipped values\n",
      "0%   10   20   30   40   50   60   70   80   90   100%\n",
      "[----|----|----|----|----|----|----|----|----|----|\n",
      "**************************************************|\n",
      "Adding TF info\n",
      "\n",
      "Building motif matrix\n",
      "Finding motif positions\n",
      "Creating Motif object\n",
      "Warning in CreateMotifObject(data = motif.matrix, positions = motif.positions,  :\n",
      "  Non-unique motif names supplied, making unique\n",
      "Loaded glmnet 4.1-8\n",
      "Selecting candidate regulatory regions near genes\n",
      "Preparing model input\n",
      "Fitting models for 2169 target genes\n",
      "Error in foreach::foreach(i = 1:length(x)) %dopar% { : \n",
      "  could not find function \"%dopar%\"\n",
      "In addition: Warning message:\n",
      "Layer 'data' is empty\n",
      "Error in foreach::foreach(i = 1:length(x)) %dopar% { : \n",
      "  could not find function \"%dopar%\"\n"
     ]
    },
    {
     "ename": "RInterpreterError",
     "evalue": "Failed to parse and evaluate line \"options(digits=5, max.print=100)  # Adjust numbers as needed\\nset.seed(123)\\nlibrary(Seurat)\\nlibrary(Matrix)\\nlibrary(Pando)\\nlibrary(Signac)\\nlibrary(BSgenome.Hsapiens.UCSC.hg38)\\n\\nwork_dir <- '../../output'\\n\\nseurat_obj = readRDS(paste0(work_dir, '/pando/seurat_obj.rds'))\\n\\nseurat_obj_v <- Seurat::FindVariableFeatures(seurat_obj, assay='RNA', nfeatures=3000)\\n\\n\\nseurat_p_obj <- initiate_grn(\\n    seurat_obj_v,\\n    rna_assay = 'RNA',\\n    peak_assay = 'peaks'\\n)\\n\\nseurat_p_obj <- find_motifs(\\n    seurat_p_obj,\\n    pfm = motifs,\\n    genome = BSgenome.Hsapiens.UCSC.hg38\\n)\\n\\n\\n\\n\\nresults <- infer_grn(\\n    seurat_p_obj,\\n    parallel = T\\n)\\n\\n\\nsaveRDS(results, paste0(work_dir, '/pando/results.rds'))\\n\".\nR error message: 'Error in foreach::foreach(i = 1:length(x)) %dopar% { : \\n  could not find function \"%dopar%\"'\nR stdout:\nFinding variable features for layer counts\nCalculating gene variances\n0%   10   20   30   40   50   60   70   80   90   100%\n[----|----|----|----|----|----|----|----|----|----|\n**************************************************|\nCalculating feature variances of standardized and clipped values\n0%   10   20   30   40   50   60   70   80   90   100%\n[----|----|----|----|----|----|----|----|----|----|\n**************************************************|\nAdding TF info\n\nBuilding motif matrix\nFinding motif positions\nCreating Motif object\nWarning in CreateMotifObject(data = motif.matrix, positions = motif.positions,  :\n  Non-unique motif names supplied, making unique\nLoaded glmnet 4.1-8\nSelecting candidate regulatory regions near genes\nPreparing model input\nFitting models for 2169 target genes\nError in foreach::foreach(i = 1:length(x)) %dopar% { : \n  could not find function \"%dopar%\"\nIn addition: Warning message:\nLayer 'data' is empty",
     "output_type": "error",
     "traceback": [
      "\u001b[0;31m---------------------------------------------------------------------------\u001b[0m",
      "\u001b[0;31mRRuntimeError\u001b[0m                             Traceback (most recent call last)",
      "File \u001b[0;32m~/anaconda3/envs/py10_2/lib/python3.10/site-packages/rpy2/ipython/rmagic.py:407\u001b[0m, in \u001b[0;36mRMagics.eval\u001b[0;34m(self, code)\u001b[0m\n\u001b[1;32m    406\u001b[0m     r_expr \u001b[38;5;241m=\u001b[39m ri\u001b[38;5;241m.\u001b[39mparse(code)\n\u001b[0;32m--> 407\u001b[0m     value, visible \u001b[38;5;241m=\u001b[39m \u001b[43mri\u001b[49m\u001b[38;5;241;43m.\u001b[39;49m\u001b[43mevalr_expr_with_visible\u001b[49m\u001b[43m(\u001b[49m\n\u001b[1;32m    408\u001b[0m \u001b[43m        \u001b[49m\u001b[43mr_expr\u001b[49m\n\u001b[1;32m    409\u001b[0m \u001b[43m    \u001b[49m\u001b[43m)\u001b[49m\n\u001b[1;32m    410\u001b[0m \u001b[38;5;28;01mexcept\u001b[39;00m (ri\u001b[38;5;241m.\u001b[39membedded\u001b[38;5;241m.\u001b[39mRRuntimeError, \u001b[38;5;167;01mValueError\u001b[39;00m) \u001b[38;5;28;01mas\u001b[39;00m exception:\n\u001b[1;32m    411\u001b[0m     \u001b[38;5;66;03m# Otherwise next return seems to have copy of error.\u001b[39;00m\n",
      "File \u001b[0;32m~/anaconda3/envs/py10_2/lib/python3.10/site-packages/rpy2/rinterface.py:196\u001b[0m, in \u001b[0;36mevalr_expr_with_visible\u001b[0;34m(expr, envir)\u001b[0m\n\u001b[1;32m    195\u001b[0m \u001b[38;5;28;01mif\u001b[39;00m error_occured[\u001b[38;5;241m0\u001b[39m]:\n\u001b[0;32m--> 196\u001b[0m     \u001b[38;5;28;01mraise\u001b[39;00m embedded\u001b[38;5;241m.\u001b[39mRRuntimeError(_rinterface\u001b[38;5;241m.\u001b[39m_geterrmessage())\n\u001b[1;32m    197\u001b[0m res \u001b[38;5;241m=\u001b[39m conversion\u001b[38;5;241m.\u001b[39m_cdata_to_rinterface(r_res)\n",
      "\u001b[0;31mRRuntimeError\u001b[0m: Error in foreach::foreach(i = 1:length(x)) %dopar% { : \n  could not find function \"%dopar%\"\n",
      "\nDuring handling of the above exception, another exception occurred:\n",
      "\u001b[0;31mRInterpreterError\u001b[0m                         Traceback (most recent call last)",
      "Cell \u001b[0;32mIn[9], line 1\u001b[0m\n\u001b[0;32m----> 1\u001b[0m \u001b[43mget_ipython\u001b[49m\u001b[43m(\u001b[49m\u001b[43m)\u001b[49m\u001b[38;5;241;43m.\u001b[39;49m\u001b[43mrun_cell_magic\u001b[49m\u001b[43m(\u001b[49m\u001b[38;5;124;43m'\u001b[39;49m\u001b[38;5;124;43mR\u001b[39;49m\u001b[38;5;124;43m'\u001b[39;49m\u001b[43m,\u001b[49m\u001b[43m \u001b[49m\u001b[38;5;124;43m'\u001b[39;49m\u001b[38;5;124;43m'\u001b[39;49m\u001b[43m,\u001b[49m\u001b[43m \u001b[49m\u001b[38;5;124;43m\"\u001b[39;49m\u001b[38;5;124;43moptions(digits=5, max.print=100)  # Adjust numbers as needed\u001b[39;49m\u001b[38;5;130;43;01m\\n\u001b[39;49;00m\u001b[38;5;124;43mset.seed(123)\u001b[39;49m\u001b[38;5;130;43;01m\\n\u001b[39;49;00m\u001b[38;5;124;43mlibrary(Seurat)\u001b[39;49m\u001b[38;5;130;43;01m\\n\u001b[39;49;00m\u001b[38;5;124;43mlibrary(Matrix)\u001b[39;49m\u001b[38;5;130;43;01m\\n\u001b[39;49;00m\u001b[38;5;124;43mlibrary(Pando)\u001b[39;49m\u001b[38;5;130;43;01m\\n\u001b[39;49;00m\u001b[38;5;124;43mlibrary(Signac)\u001b[39;49m\u001b[38;5;130;43;01m\\n\u001b[39;49;00m\u001b[38;5;124;43mlibrary(BSgenome.Hsapiens.UCSC.hg38)\u001b[39;49m\u001b[38;5;130;43;01m\\n\u001b[39;49;00m\u001b[38;5;130;43;01m\\n\u001b[39;49;00m\u001b[38;5;124;43mwork_dir <- \u001b[39;49m\u001b[38;5;124;43m'\u001b[39;49m\u001b[38;5;124;43m../../output\u001b[39;49m\u001b[38;5;124;43m'\u001b[39;49m\u001b[38;5;130;43;01m\\n\u001b[39;49;00m\u001b[38;5;130;43;01m\\n\u001b[39;49;00m\u001b[38;5;124;43mseurat_obj = readRDS(paste0(work_dir, \u001b[39;49m\u001b[38;5;124;43m'\u001b[39;49m\u001b[38;5;124;43m/pando/seurat_obj.rds\u001b[39;49m\u001b[38;5;124;43m'\u001b[39;49m\u001b[38;5;124;43m))\u001b[39;49m\u001b[38;5;130;43;01m\\n\u001b[39;49;00m\u001b[38;5;130;43;01m\\n\u001b[39;49;00m\u001b[38;5;124;43mseurat_obj_v <- Seurat::FindVariableFeatures(seurat_obj, assay=\u001b[39;49m\u001b[38;5;124;43m'\u001b[39;49m\u001b[38;5;124;43mRNA\u001b[39;49m\u001b[38;5;124;43m'\u001b[39;49m\u001b[38;5;124;43m, nfeatures=3000)\u001b[39;49m\u001b[38;5;130;43;01m\\n\u001b[39;49;00m\u001b[38;5;130;43;01m\\n\u001b[39;49;00m\u001b[38;5;130;43;01m\\n\u001b[39;49;00m\u001b[38;5;124;43mseurat_p_obj <- initiate_grn(\u001b[39;49m\u001b[38;5;130;43;01m\\n\u001b[39;49;00m\u001b[38;5;124;43m    seurat_obj_v,\u001b[39;49m\u001b[38;5;130;43;01m\\n\u001b[39;49;00m\u001b[38;5;124;43m    rna_assay = \u001b[39;49m\u001b[38;5;124;43m'\u001b[39;49m\u001b[38;5;124;43mRNA\u001b[39;49m\u001b[38;5;124;43m'\u001b[39;49m\u001b[38;5;124;43m,\u001b[39;49m\u001b[38;5;130;43;01m\\n\u001b[39;49;00m\u001b[38;5;124;43m    peak_assay = \u001b[39;49m\u001b[38;5;124;43m'\u001b[39;49m\u001b[38;5;124;43mpeaks\u001b[39;49m\u001b[38;5;124;43m'\u001b[39;49m\u001b[38;5;130;43;01m\\n\u001b[39;49;00m\u001b[38;5;124;43m)\u001b[39;49m\u001b[38;5;130;43;01m\\n\u001b[39;49;00m\u001b[38;5;130;43;01m\\n\u001b[39;49;00m\u001b[38;5;124;43mseurat_p_obj <- find_motifs(\u001b[39;49m\u001b[38;5;130;43;01m\\n\u001b[39;49;00m\u001b[38;5;124;43m    seurat_p_obj,\u001b[39;49m\u001b[38;5;130;43;01m\\n\u001b[39;49;00m\u001b[38;5;124;43m    pfm = motifs,\u001b[39;49m\u001b[38;5;130;43;01m\\n\u001b[39;49;00m\u001b[38;5;124;43m    genome = BSgenome.Hsapiens.UCSC.hg38\u001b[39;49m\u001b[38;5;130;43;01m\\n\u001b[39;49;00m\u001b[38;5;124;43m)\u001b[39;49m\u001b[38;5;130;43;01m\\n\u001b[39;49;00m\u001b[38;5;130;43;01m\\n\u001b[39;49;00m\u001b[38;5;130;43;01m\\n\u001b[39;49;00m\u001b[38;5;130;43;01m\\n\u001b[39;49;00m\u001b[38;5;130;43;01m\\n\u001b[39;49;00m\u001b[38;5;124;43mresults <- infer_grn(\u001b[39;49m\u001b[38;5;130;43;01m\\n\u001b[39;49;00m\u001b[38;5;124;43m    seurat_p_obj,\u001b[39;49m\u001b[38;5;130;43;01m\\n\u001b[39;49;00m\u001b[38;5;124;43m    parallel = T\u001b[39;49m\u001b[38;5;130;43;01m\\n\u001b[39;49;00m\u001b[38;5;124;43m)\u001b[39;49m\u001b[38;5;130;43;01m\\n\u001b[39;49;00m\u001b[38;5;130;43;01m\\n\u001b[39;49;00m\u001b[38;5;130;43;01m\\n\u001b[39;49;00m\u001b[38;5;124;43msaveRDS(results, paste0(work_dir, \u001b[39;49m\u001b[38;5;124;43m'\u001b[39;49m\u001b[38;5;124;43m/pando/results.rds\u001b[39;49m\u001b[38;5;124;43m'\u001b[39;49m\u001b[38;5;124;43m))\u001b[39;49m\u001b[38;5;130;43;01m\\n\u001b[39;49;00m\u001b[38;5;124;43m\"\u001b[39;49m\u001b[43m)\u001b[49m\n",
      "File \u001b[0;32m~/anaconda3/envs/py10_2/lib/python3.10/site-packages/IPython/core/interactiveshell.py:2517\u001b[0m, in \u001b[0;36mInteractiveShell.run_cell_magic\u001b[0;34m(self, magic_name, line, cell)\u001b[0m\n\u001b[1;32m   2515\u001b[0m \u001b[38;5;28;01mwith\u001b[39;00m \u001b[38;5;28mself\u001b[39m\u001b[38;5;241m.\u001b[39mbuiltin_trap:\n\u001b[1;32m   2516\u001b[0m     args \u001b[38;5;241m=\u001b[39m (magic_arg_s, cell)\n\u001b[0;32m-> 2517\u001b[0m     result \u001b[38;5;241m=\u001b[39m \u001b[43mfn\u001b[49m\u001b[43m(\u001b[49m\u001b[38;5;241;43m*\u001b[39;49m\u001b[43margs\u001b[49m\u001b[43m,\u001b[49m\u001b[43m \u001b[49m\u001b[38;5;241;43m*\u001b[39;49m\u001b[38;5;241;43m*\u001b[39;49m\u001b[43mkwargs\u001b[49m\u001b[43m)\u001b[49m\n\u001b[1;32m   2519\u001b[0m \u001b[38;5;66;03m# The code below prevents the output from being displayed\u001b[39;00m\n\u001b[1;32m   2520\u001b[0m \u001b[38;5;66;03m# when using magics with decorator @output_can_be_silenced\u001b[39;00m\n\u001b[1;32m   2521\u001b[0m \u001b[38;5;66;03m# when the last Python token in the expression is a ';'.\u001b[39;00m\n\u001b[1;32m   2522\u001b[0m \u001b[38;5;28;01mif\u001b[39;00m \u001b[38;5;28mgetattr\u001b[39m(fn, magic\u001b[38;5;241m.\u001b[39mMAGIC_OUTPUT_CAN_BE_SILENCED, \u001b[38;5;28;01mFalse\u001b[39;00m):\n",
      "File \u001b[0;32m~/anaconda3/envs/py10_2/lib/python3.10/site-packages/rpy2/ipython/rmagic.py:984\u001b[0m, in \u001b[0;36mRMagics.R\u001b[0;34m(self, line, cell, local_ns)\u001b[0m\n\u001b[1;32m    982\u001b[0m     \u001b[38;5;28;01mif\u001b[39;00m \u001b[38;5;129;01mnot\u001b[39;00m e\u001b[38;5;241m.\u001b[39mstdout\u001b[38;5;241m.\u001b[39mendswith(e\u001b[38;5;241m.\u001b[39merr):\n\u001b[1;32m    983\u001b[0m         \u001b[38;5;28mprint\u001b[39m(e\u001b[38;5;241m.\u001b[39merr)\n\u001b[0;32m--> 984\u001b[0m     \u001b[38;5;28;01mraise\u001b[39;00m e\n\u001b[1;32m    985\u001b[0m \u001b[38;5;28;01mfinally\u001b[39;00m:\n\u001b[1;32m    986\u001b[0m     \u001b[38;5;28;01mif\u001b[39;00m \u001b[38;5;28mself\u001b[39m\u001b[38;5;241m.\u001b[39mdevice \u001b[38;5;129;01min\u001b[39;00m DEVICES_STATIC:\n",
      "File \u001b[0;32m~/anaconda3/envs/py10_2/lib/python3.10/site-packages/rpy2/ipython/rmagic.py:949\u001b[0m, in \u001b[0;36mRMagics.R\u001b[0;34m(self, line, cell, local_ns)\u001b[0m\n\u001b[1;32m    947\u001b[0m         return_output \u001b[38;5;241m=\u001b[39m \u001b[38;5;28;01mFalse\u001b[39;00m\n\u001b[1;32m    948\u001b[0m \u001b[38;5;28;01melse\u001b[39;00m:\n\u001b[0;32m--> 949\u001b[0m     text_result, result, visible \u001b[38;5;241m=\u001b[39m \u001b[38;5;28;43mself\u001b[39;49m\u001b[38;5;241;43m.\u001b[39;49m\u001b[43meval\u001b[49m\u001b[43m(\u001b[49m\u001b[43mcode\u001b[49m\u001b[43m)\u001b[49m\n\u001b[1;32m    950\u001b[0m     text_output \u001b[38;5;241m+\u001b[39m\u001b[38;5;241m=\u001b[39m text_result\n\u001b[1;32m    951\u001b[0m     \u001b[38;5;28;01mif\u001b[39;00m visible:\n",
      "File \u001b[0;32m~/anaconda3/envs/py10_2/lib/python3.10/site-packages/rpy2/ipython/rmagic.py:413\u001b[0m, in \u001b[0;36mRMagics.eval\u001b[0;34m(self, code)\u001b[0m\n\u001b[1;32m    410\u001b[0m \u001b[38;5;28;01mexcept\u001b[39;00m (ri\u001b[38;5;241m.\u001b[39membedded\u001b[38;5;241m.\u001b[39mRRuntimeError, \u001b[38;5;167;01mValueError\u001b[39;00m) \u001b[38;5;28;01mas\u001b[39;00m exception:\n\u001b[1;32m    411\u001b[0m     \u001b[38;5;66;03m# Otherwise next return seems to have copy of error.\u001b[39;00m\n\u001b[1;32m    412\u001b[0m     warning_or_other_msg \u001b[38;5;241m=\u001b[39m \u001b[38;5;28mself\u001b[39m\u001b[38;5;241m.\u001b[39mflush()\n\u001b[0;32m--> 413\u001b[0m     \u001b[38;5;28;01mraise\u001b[39;00m RInterpreterError(code, \u001b[38;5;28mstr\u001b[39m(exception),\n\u001b[1;32m    414\u001b[0m                             warning_or_other_msg)\n\u001b[1;32m    415\u001b[0m \u001b[38;5;28;01mfinally\u001b[39;00m:\n\u001b[1;32m    416\u001b[0m     ro\u001b[38;5;241m.\u001b[39m_print_deferred_warnings()\n",
      "\u001b[0;31mRInterpreterError\u001b[0m: Failed to parse and evaluate line \"options(digits=5, max.print=100)  # Adjust numbers as needed\\nset.seed(123)\\nlibrary(Seurat)\\nlibrary(Matrix)\\nlibrary(Pando)\\nlibrary(Signac)\\nlibrary(BSgenome.Hsapiens.UCSC.hg38)\\n\\nwork_dir <- '../../output'\\n\\nseurat_obj = readRDS(paste0(work_dir, '/pando/seurat_obj.rds'))\\n\\nseurat_obj_v <- Seurat::FindVariableFeatures(seurat_obj, assay='RNA', nfeatures=3000)\\n\\n\\nseurat_p_obj <- initiate_grn(\\n    seurat_obj_v,\\n    rna_assay = 'RNA',\\n    peak_assay = 'peaks'\\n)\\n\\nseurat_p_obj <- find_motifs(\\n    seurat_p_obj,\\n    pfm = motifs,\\n    genome = BSgenome.Hsapiens.UCSC.hg38\\n)\\n\\n\\n\\n\\nresults <- infer_grn(\\n    seurat_p_obj,\\n    parallel = T\\n)\\n\\n\\nsaveRDS(results, paste0(work_dir, '/pando/results.rds'))\\n\".\nR error message: 'Error in foreach::foreach(i = 1:length(x)) %dopar% { : \\n  could not find function \"%dopar%\"'\nR stdout:\nFinding variable features for layer counts\nCalculating gene variances\n0%   10   20   30   40   50   60   70   80   90   100%\n[----|----|----|----|----|----|----|----|----|----|\n**************************************************|\nCalculating feature variances of standardized and clipped values\n0%   10   20   30   40   50   60   70   80   90   100%\n[----|----|----|----|----|----|----|----|----|----|\n**************************************************|\nAdding TF info\n\nBuilding motif matrix\nFinding motif positions\nCreating Motif object\nWarning in CreateMotifObject(data = motif.matrix, positions = motif.positions,  :\n  Non-unique motif names supplied, making unique\nLoaded glmnet 4.1-8\nSelecting candidate regulatory regions near genes\nPreparing model input\nFitting models for 2169 target genes\nError in foreach::foreach(i = 1:length(x)) %dopar% { : \n  could not find function \"%dopar%\"\nIn addition: Warning message:\nLayer 'data' is empty"
     ]
    }
   ],
   "source": [
    "%%R \n",
    "options(digits=5, max.print=100)  # Adjust numbers as needed\n",
    "set.seed(123)\n",
    "library(Seurat)\n",
    "library(Matrix)\n",
    "library(Pando)\n",
    "library(Signac)\n",
    "library(BSgenome.Hsapiens.UCSC.hg38)\n",
    "\n",
    "data(motifs)\n",
    "\n",
    "work_dir <- 'output'\n",
    "\n",
    "seurat_obj = readRDS(paste0(work_dir, '/pando/seurat_obj.rds'))\n",
    "\n",
    "seurat_obj_v <- Seurat::FindVariableFeatures(seurat_obj, assay='RNA', nfeatures=3000)\n",
    "\n",
    "\n",
    "seurat_p_obj <- initiate_grn(\n",
    "    seurat_obj_v,\n",
    "    rna_assay = 'RNA',\n",
    "    peak_assay = 'peaks'\n",
    ")\n",
    "\n",
    "seurat_p_obj <- find_motifs(\n",
    "    seurat_p_obj,\n",
    "    pfm = motifs,\n",
    "    genome = BSgenome.Hsapiens.UCSC.hg38\n",
    ")\n"
   ]
  },
  {
   "cell_type": "code",
   "execution_count": 24,
   "metadata": {},
   "outputs": [
    {
     "ename": "",
     "evalue": "",
     "output_type": "error",
     "traceback": [
      "\u001b[1;31mThe Kernel crashed while executing code in the current cell or a previous cell. \n",
      "\u001b[1;31mPlease review the code in the cell(s) to identify a possible cause of the failure. \n",
      "\u001b[1;31mClick <a href='https://aka.ms/vscodeJupyterKernelCrash'>here</a> for more info. \n",
      "\u001b[1;31mView Jupyter <a href='command:jupyter.viewOutput'>log</a> for further details."
     ]
    }
   ],
   "source": [
    "%%R \n",
    "# seurat_p_obj\n",
    "saveRDS(seurat_p_obj, paste0(work_dir, '/pando/results.rds'))"
   ]
  },
  {
   "cell_type": "code",
   "execution_count": 23,
   "metadata": {},
   "outputs": [
    {
     "name": "stdout",
     "output_type": "stream",
     "text": [
      "  |                                                  | 0 % ~calculating  \n",
      "Selecting candidate regulatory regions near genes\n",
      "Preparing model input\n",
      "Fitting models for 2169 target genes\n",
      "Error in .subscript.2ary(x, i, j, drop = drop) : \n",
      "  logical subscript too long\n",
      "In addition: Warning message:\n",
      "Layer 'data' is empty\n",
      "Error in .subscript.2ary(x, i, j, drop = drop) : \n",
      "  logical subscript too long\n"
     ]
    },
    {
     "ename": "RInterpreterError",
     "evalue": "Failed to parse and evaluate line \"\\nresults <- infer_grn(\\n    seurat_p_obj\\n)\\n\\n\\n# saveRDS(results, paste0(work_dir, '/pando/results.rds'))\\n\".\nR error message: 'Error in .subscript.2ary(x, i, j, drop = drop) : \\n  logical subscript too long'\nR stdout:\nSelecting candidate regulatory regions near genes\nPreparing model input\nFitting models for 2169 target genes\nError in .subscript.2ary(x, i, j, drop = drop) : \n  logical subscript too long\nIn addition: Warning message:\nLayer 'data' is empty",
     "output_type": "error",
     "traceback": [
      "\u001b[0;31m---------------------------------------------------------------------------\u001b[0m",
      "\u001b[0;31mRRuntimeError\u001b[0m                             Traceback (most recent call last)",
      "File \u001b[0;32m~/anaconda3/envs/py10_2/lib/python3.10/site-packages/rpy2/ipython/rmagic.py:407\u001b[0m, in \u001b[0;36mRMagics.eval\u001b[0;34m(self, code)\u001b[0m\n\u001b[1;32m    406\u001b[0m     r_expr \u001b[38;5;241m=\u001b[39m ri\u001b[38;5;241m.\u001b[39mparse(code)\n\u001b[0;32m--> 407\u001b[0m     value, visible \u001b[38;5;241m=\u001b[39m \u001b[43mri\u001b[49m\u001b[38;5;241;43m.\u001b[39;49m\u001b[43mevalr_expr_with_visible\u001b[49m\u001b[43m(\u001b[49m\n\u001b[1;32m    408\u001b[0m \u001b[43m        \u001b[49m\u001b[43mr_expr\u001b[49m\n\u001b[1;32m    409\u001b[0m \u001b[43m    \u001b[49m\u001b[43m)\u001b[49m\n\u001b[1;32m    410\u001b[0m \u001b[38;5;28;01mexcept\u001b[39;00m (ri\u001b[38;5;241m.\u001b[39membedded\u001b[38;5;241m.\u001b[39mRRuntimeError, \u001b[38;5;167;01mValueError\u001b[39;00m) \u001b[38;5;28;01mas\u001b[39;00m exception:\n\u001b[1;32m    411\u001b[0m     \u001b[38;5;66;03m# Otherwise next return seems to have copy of error.\u001b[39;00m\n",
      "File \u001b[0;32m~/anaconda3/envs/py10_2/lib/python3.10/site-packages/rpy2/rinterface.py:196\u001b[0m, in \u001b[0;36mevalr_expr_with_visible\u001b[0;34m(expr, envir)\u001b[0m\n\u001b[1;32m    195\u001b[0m \u001b[38;5;28;01mif\u001b[39;00m error_occured[\u001b[38;5;241m0\u001b[39m]:\n\u001b[0;32m--> 196\u001b[0m     \u001b[38;5;28;01mraise\u001b[39;00m embedded\u001b[38;5;241m.\u001b[39mRRuntimeError(_rinterface\u001b[38;5;241m.\u001b[39m_geterrmessage())\n\u001b[1;32m    197\u001b[0m res \u001b[38;5;241m=\u001b[39m conversion\u001b[38;5;241m.\u001b[39m_cdata_to_rinterface(r_res)\n",
      "\u001b[0;31mRRuntimeError\u001b[0m: Error in .subscript.2ary(x, i, j, drop = drop) : \n  logical subscript too long\n",
      "\nDuring handling of the above exception, another exception occurred:\n",
      "\u001b[0;31mRInterpreterError\u001b[0m                         Traceback (most recent call last)",
      "Cell \u001b[0;32mIn[23], line 1\u001b[0m\n\u001b[0;32m----> 1\u001b[0m \u001b[43mget_ipython\u001b[49m\u001b[43m(\u001b[49m\u001b[43m)\u001b[49m\u001b[38;5;241;43m.\u001b[39;49m\u001b[43mrun_cell_magic\u001b[49m\u001b[43m(\u001b[49m\u001b[38;5;124;43m'\u001b[39;49m\u001b[38;5;124;43mR\u001b[39;49m\u001b[38;5;124;43m'\u001b[39;49m\u001b[43m,\u001b[49m\u001b[43m \u001b[49m\u001b[38;5;124;43m'\u001b[39;49m\u001b[38;5;124;43m'\u001b[39;49m\u001b[43m,\u001b[49m\u001b[43m \u001b[49m\u001b[38;5;124;43m\"\u001b[39;49m\u001b[38;5;130;43;01m\\n\u001b[39;49;00m\u001b[38;5;124;43mresults <- infer_grn(\u001b[39;49m\u001b[38;5;130;43;01m\\n\u001b[39;49;00m\u001b[38;5;124;43m    seurat_p_obj\u001b[39;49m\u001b[38;5;130;43;01m\\n\u001b[39;49;00m\u001b[38;5;124;43m)\u001b[39;49m\u001b[38;5;130;43;01m\\n\u001b[39;49;00m\u001b[38;5;130;43;01m\\n\u001b[39;49;00m\u001b[38;5;130;43;01m\\n\u001b[39;49;00m\u001b[38;5;124;43m# saveRDS(results, paste0(work_dir, \u001b[39;49m\u001b[38;5;124;43m'\u001b[39;49m\u001b[38;5;124;43m/pando/results.rds\u001b[39;49m\u001b[38;5;124;43m'\u001b[39;49m\u001b[38;5;124;43m))\u001b[39;49m\u001b[38;5;130;43;01m\\n\u001b[39;49;00m\u001b[38;5;124;43m\"\u001b[39;49m\u001b[43m)\u001b[49m\n",
      "File \u001b[0;32m~/anaconda3/envs/py10_2/lib/python3.10/site-packages/IPython/core/interactiveshell.py:2517\u001b[0m, in \u001b[0;36mInteractiveShell.run_cell_magic\u001b[0;34m(self, magic_name, line, cell)\u001b[0m\n\u001b[1;32m   2515\u001b[0m \u001b[38;5;28;01mwith\u001b[39;00m \u001b[38;5;28mself\u001b[39m\u001b[38;5;241m.\u001b[39mbuiltin_trap:\n\u001b[1;32m   2516\u001b[0m     args \u001b[38;5;241m=\u001b[39m (magic_arg_s, cell)\n\u001b[0;32m-> 2517\u001b[0m     result \u001b[38;5;241m=\u001b[39m \u001b[43mfn\u001b[49m\u001b[43m(\u001b[49m\u001b[38;5;241;43m*\u001b[39;49m\u001b[43margs\u001b[49m\u001b[43m,\u001b[49m\u001b[43m \u001b[49m\u001b[38;5;241;43m*\u001b[39;49m\u001b[38;5;241;43m*\u001b[39;49m\u001b[43mkwargs\u001b[49m\u001b[43m)\u001b[49m\n\u001b[1;32m   2519\u001b[0m \u001b[38;5;66;03m# The code below prevents the output from being displayed\u001b[39;00m\n\u001b[1;32m   2520\u001b[0m \u001b[38;5;66;03m# when using magics with decorator @output_can_be_silenced\u001b[39;00m\n\u001b[1;32m   2521\u001b[0m \u001b[38;5;66;03m# when the last Python token in the expression is a ';'.\u001b[39;00m\n\u001b[1;32m   2522\u001b[0m \u001b[38;5;28;01mif\u001b[39;00m \u001b[38;5;28mgetattr\u001b[39m(fn, magic\u001b[38;5;241m.\u001b[39mMAGIC_OUTPUT_CAN_BE_SILENCED, \u001b[38;5;28;01mFalse\u001b[39;00m):\n",
      "File \u001b[0;32m~/anaconda3/envs/py10_2/lib/python3.10/site-packages/rpy2/ipython/rmagic.py:984\u001b[0m, in \u001b[0;36mRMagics.R\u001b[0;34m(self, line, cell, local_ns)\u001b[0m\n\u001b[1;32m    982\u001b[0m     \u001b[38;5;28;01mif\u001b[39;00m \u001b[38;5;129;01mnot\u001b[39;00m e\u001b[38;5;241m.\u001b[39mstdout\u001b[38;5;241m.\u001b[39mendswith(e\u001b[38;5;241m.\u001b[39merr):\n\u001b[1;32m    983\u001b[0m         \u001b[38;5;28mprint\u001b[39m(e\u001b[38;5;241m.\u001b[39merr)\n\u001b[0;32m--> 984\u001b[0m     \u001b[38;5;28;01mraise\u001b[39;00m e\n\u001b[1;32m    985\u001b[0m \u001b[38;5;28;01mfinally\u001b[39;00m:\n\u001b[1;32m    986\u001b[0m     \u001b[38;5;28;01mif\u001b[39;00m \u001b[38;5;28mself\u001b[39m\u001b[38;5;241m.\u001b[39mdevice \u001b[38;5;129;01min\u001b[39;00m DEVICES_STATIC:\n",
      "File \u001b[0;32m~/anaconda3/envs/py10_2/lib/python3.10/site-packages/rpy2/ipython/rmagic.py:949\u001b[0m, in \u001b[0;36mRMagics.R\u001b[0;34m(self, line, cell, local_ns)\u001b[0m\n\u001b[1;32m    947\u001b[0m         return_output \u001b[38;5;241m=\u001b[39m \u001b[38;5;28;01mFalse\u001b[39;00m\n\u001b[1;32m    948\u001b[0m \u001b[38;5;28;01melse\u001b[39;00m:\n\u001b[0;32m--> 949\u001b[0m     text_result, result, visible \u001b[38;5;241m=\u001b[39m \u001b[38;5;28;43mself\u001b[39;49m\u001b[38;5;241;43m.\u001b[39;49m\u001b[43meval\u001b[49m\u001b[43m(\u001b[49m\u001b[43mcode\u001b[49m\u001b[43m)\u001b[49m\n\u001b[1;32m    950\u001b[0m     text_output \u001b[38;5;241m+\u001b[39m\u001b[38;5;241m=\u001b[39m text_result\n\u001b[1;32m    951\u001b[0m     \u001b[38;5;28;01mif\u001b[39;00m visible:\n",
      "File \u001b[0;32m~/anaconda3/envs/py10_2/lib/python3.10/site-packages/rpy2/ipython/rmagic.py:413\u001b[0m, in \u001b[0;36mRMagics.eval\u001b[0;34m(self, code)\u001b[0m\n\u001b[1;32m    410\u001b[0m \u001b[38;5;28;01mexcept\u001b[39;00m (ri\u001b[38;5;241m.\u001b[39membedded\u001b[38;5;241m.\u001b[39mRRuntimeError, \u001b[38;5;167;01mValueError\u001b[39;00m) \u001b[38;5;28;01mas\u001b[39;00m exception:\n\u001b[1;32m    411\u001b[0m     \u001b[38;5;66;03m# Otherwise next return seems to have copy of error.\u001b[39;00m\n\u001b[1;32m    412\u001b[0m     warning_or_other_msg \u001b[38;5;241m=\u001b[39m \u001b[38;5;28mself\u001b[39m\u001b[38;5;241m.\u001b[39mflush()\n\u001b[0;32m--> 413\u001b[0m     \u001b[38;5;28;01mraise\u001b[39;00m RInterpreterError(code, \u001b[38;5;28mstr\u001b[39m(exception),\n\u001b[1;32m    414\u001b[0m                             warning_or_other_msg)\n\u001b[1;32m    415\u001b[0m \u001b[38;5;28;01mfinally\u001b[39;00m:\n\u001b[1;32m    416\u001b[0m     ro\u001b[38;5;241m.\u001b[39m_print_deferred_warnings()\n",
      "\u001b[0;31mRInterpreterError\u001b[0m: Failed to parse and evaluate line \"\\nresults <- infer_grn(\\n    seurat_p_obj\\n)\\n\\n\\n# saveRDS(results, paste0(work_dir, '/pando/results.rds'))\\n\".\nR error message: 'Error in .subscript.2ary(x, i, j, drop = drop) : \\n  logical subscript too long'\nR stdout:\nSelecting candidate regulatory regions near genes\nPreparing model input\nFitting models for 2169 target genes\nError in .subscript.2ary(x, i, j, drop = drop) : \n  logical subscript too long\nIn addition: Warning message:\nLayer 'data' is empty"
     ]
    }
   ],
   "source": [
    "%%R \n",
    "\n",
    "results <- infer_grn(\n",
    "    seurat_p_obj\n",
    ")\n",
    "\n",
    "\n",
    "# saveRDS(results, paste0(work_dir, '/pando/results.rds'))\n"
   ]
  },
  {
   "cell_type": "code",
   "execution_count": 3,
   "metadata": {},
   "outputs": [],
   "source": [
    "%%R \n",
    "seurat_obj = readRDS(paste0(work_dir, '/pando/seurat_obj.rds'))"
   ]
  },
  {
   "cell_type": "code",
   "execution_count": null,
   "metadata": {},
   "outputs": [],
   "source": [
    "%%R \n",
    "seurat_obj_v <- Seurat::FindVariableFeatures(seurat_obj, assay='RNA', nfeatures=3000)\n"
   ]
  },
  {
   "cell_type": "code",
   "execution_count": 6,
   "metadata": {},
   "outputs": [],
   "source": [
    "%%R \n",
    "seurat_p_obj <- initiate_grn(\n",
    "    seurat_obj_v,\n",
    "    rna_assay = 'RNA',\n",
    "    peak_assay = 'peaks'\n",
    ")"
   ]
  },
  {
   "cell_type": "code",
   "execution_count": null,
   "metadata": {},
   "outputs": [],
   "source": [
    "seurat_p_obj <- find_motifs(\n",
    "    seurat_p_obj,\n",
    "    pfm = motifs,\n",
    "    genome = BSgenome.Hsapiens.UCSC.hg38\n",
    ")"
   ]
  },
  {
   "cell_type": "code",
   "execution_count": null,
   "metadata": {},
   "outputs": [],
   "source": [
    "results <- infer_grn(\n",
    "    seurat_p_obj,\n",
    "    parallel = T\n",
    ") \n",
    "coef(results)"
   ]
  },
  {
   "cell_type": "code",
   "execution_count": null,
   "metadata": {},
   "outputs": [],
   "source": [
    "saveRDS(results, paste0(work_dir, '/pando/results.rds'))"
   ]
  },
  {
   "cell_type": "code",
   "execution_count": 1,
   "metadata": {},
   "outputs": [
    {
     "name": "stderr",
     "output_type": "stream",
     "text": [
      "Loading required package: SeuratObject\n",
      "\n",
      "Loading required package: sp\n",
      "\n",
      "‘SeuratObject’ was built under R 4.1.2 but the current version is\n",
      "4.3.2; it is recomended that you reinstall ‘SeuratObject’ as the ABI\n",
      "for R may have changed\n",
      "\n",
      "‘SeuratObject’ was built with package ‘Matrix’ 1.6.3 but the current\n",
      "version is 1.6.5; it is recomended that you reinstall ‘SeuratObject’ as\n",
      "the ABI for ‘Matrix’ may have changed\n",
      "\n",
      "\n",
      "Attaching package: ‘SeuratObject’\n",
      "\n",
      "\n",
      "The following object is masked from ‘package:base’:\n",
      "\n",
      "    intersect\n",
      "\n",
      "\n",
      "Loading required package: GenomeInfoDb\n",
      "\n",
      "Loading required package: BiocGenerics\n",
      "\n",
      "\n",
      "Attaching package: ‘BiocGenerics’\n",
      "\n",
      "\n",
      "The following object is masked from ‘package:SeuratObject’:\n",
      "\n",
      "    intersect\n",
      "\n",
      "\n",
      "The following objects are masked from ‘package:stats’:\n",
      "\n",
      "    IQR, mad, sd, var, xtabs\n",
      "\n",
      "\n",
      "The following objects are masked from ‘package:base’:\n",
      "\n",
      "    anyDuplicated, aperm, append, as.data.frame, basename, cbind,\n",
      "    colnames, dirname, do.call, duplicated, eval, evalq, Filter, Find,\n",
      "    get, grep, grepl, intersect, is.unsorted, lapply, Map, mapply,\n",
      "    match, mget, order, paste, pmax, pmax.int, pmin, pmin.int,\n",
      "    Position, rank, rbind, Reduce, rownames, sapply, setdiff, sort,\n",
      "    table, tapply, union, unique, unsplit, which.max, which.min\n",
      "\n",
      "\n",
      "Loading required package: S4Vectors\n",
      "\n",
      "Loading required package: stats4\n",
      "\n",
      "\n",
      "Attaching package: ‘S4Vectors’\n",
      "\n",
      "\n",
      "The following object is masked from ‘package:utils’:\n",
      "\n",
      "    findMatches\n",
      "\n",
      "\n",
      "The following objects are masked from ‘package:base’:\n",
      "\n",
      "    expand.grid, I, unname\n",
      "\n",
      "\n",
      "Loading required package: IRanges\n",
      "\n",
      "\n",
      "Attaching package: ‘IRanges’\n",
      "\n",
      "\n",
      "The following object is masked from ‘package:sp’:\n",
      "\n",
      "    %over%\n",
      "\n",
      "\n",
      "Loading required package: BSgenome\n",
      "\n",
      "Loading required package: GenomicRanges\n",
      "\n",
      "Loading required package: Biostrings\n",
      "\n",
      "Loading required package: XVector\n",
      "\n",
      "\n",
      "Attaching package: ‘Biostrings’\n",
      "\n",
      "\n",
      "The following object is masked from ‘package:base’:\n",
      "\n",
      "    strsplit\n",
      "\n",
      "\n",
      "Loading required package: BiocIO\n",
      "\n",
      "Loading required package: rtracklayer\n",
      "\n",
      "\n",
      "Attaching package: ‘rtracklayer’\n",
      "\n",
      "\n",
      "The following object is masked from ‘package:BiocIO’:\n",
      "\n",
      "    FileForFormat\n",
      "\n",
      "\n",
      "Loading required package: ensembldb\n",
      "\n",
      "Loading required package: GenomicFeatures\n",
      "\n",
      "Loading required package: AnnotationDbi\n",
      "\n",
      "Loading required package: Biobase\n",
      "\n",
      "Welcome to Bioconductor\n",
      "\n",
      "    Vignettes contain introductory material; view with\n",
      "    'browseVignettes()'. To cite Bioconductor, see\n",
      "    'citation(\"Biobase\")', and for packages 'citation(\"pkgname\")'.\n",
      "\n",
      "\n",
      "Loading required package: AnnotationFilter\n",
      "\n",
      "\n",
      "Attaching package: 'ensembldb'\n",
      "\n",
      "\n",
      "The following object is masked from 'package:stats':\n",
      "\n",
      "    filter\n",
      "\n",
      "\n",
      "\n",
      "Attaching package: 'Matrix'\n",
      "\n",
      "\n",
      "The following object is masked from 'package:S4Vectors':\n",
      "\n",
      "    expand\n",
      "\n",
      "\n",
      "Warning message in .merge_two_Seqinfo_objects(x, y):\n",
      "\"The 2 combined objects have no sequence levels in common. (Use\n",
      "  suppressWarnings() to suppress this warning.)\"\n",
      "Warning message in .merge_two_Seqinfo_objects(x, y):\n",
      "\"The 2 combined objects have no sequence levels in common. (Use\n",
      "  suppressWarnings() to suppress this warning.)\"\n",
      "Warning message in .merge_two_Seqinfo_objects(x, y):\n",
      "\"The 2 combined objects have no sequence levels in common. (Use\n",
      "  suppressWarnings() to suppress this warning.)\"\n",
      "Warning message in .merge_two_Seqinfo_objects(x, y):\n",
      "\"The 2 combined objects have no sequence levels in common. (Use\n",
      "  suppressWarnings() to suppress this warning.)\"\n",
      "Warning message in .merge_two_Seqinfo_objects(x, y):\n",
      "\"The 2 combined objects have no sequence levels in common. (Use\n",
      "  suppressWarnings() to suppress this warning.)\"\n",
      "Warning message in .merge_two_Seqinfo_objects(x, y):\n",
      "\"The 2 combined objects have no sequence levels in common. (Use\n",
      "  suppressWarnings() to suppress this warning.)\"\n",
      "Warning message in .merge_two_Seqinfo_objects(x, y):\n",
      "\"The 2 combined objects have no sequence levels in common. (Use\n",
      "  suppressWarnings() to suppress this warning.)\"\n",
      "Warning message in .merge_two_Seqinfo_objects(x, y):\n",
      "\"The 2 combined objects have no sequence levels in common. (Use\n",
      "  suppressWarnings() to suppress this warning.)\"\n",
      "Warning message in .merge_two_Seqinfo_objects(x, y):\n",
      "\"The 2 combined objects have no sequence levels in common. (Use\n",
      "  suppressWarnings() to suppress this warning.)\"\n",
      "Warning message in .merge_two_Seqinfo_objects(x, y):\n",
      "\"The 2 combined objects have no sequence levels in common. (Use\n",
      "  suppressWarnings() to suppress this warning.)\"\n",
      "Warning message in .merge_two_Seqinfo_objects(x, y):\n",
      "\"The 2 combined objects have no sequence levels in common. (Use\n",
      "  suppressWarnings() to suppress this warning.)\"\n",
      "Warning message in .merge_two_Seqinfo_objects(x, y):\n",
      "\"The 2 combined objects have no sequence levels in common. (Use\n",
      "  suppressWarnings() to suppress this warning.)\"\n",
      "Warning message in .merge_two_Seqinfo_objects(x, y):\n",
      "\"The 2 combined objects have no sequence levels in common. (Use\n",
      "  suppressWarnings() to suppress this warning.)\"\n",
      "Warning message in .merge_two_Seqinfo_objects(x, y):\n",
      "\"The 2 combined objects have no sequence levels in common. (Use\n",
      "  suppressWarnings() to suppress this warning.)\"\n",
      "Warning message in .merge_two_Seqinfo_objects(x, y):\n",
      "\"The 2 combined objects have no sequence levels in common. (Use\n",
      "  suppressWarnings() to suppress this warning.)\"\n",
      "Warning message in .merge_two_Seqinfo_objects(x, y):\n",
      "\"The 2 combined objects have no sequence levels in common. (Use\n",
      "  suppressWarnings() to suppress this warning.)\"\n",
      "Warning message in .merge_two_Seqinfo_objects(x, y):\n",
      "\"The 2 combined objects have no sequence levels in common. (Use\n",
      "  suppressWarnings() to suppress this warning.)\"\n",
      "Warning message in .merge_two_Seqinfo_objects(x, y):\n",
      "\"The 2 combined objects have no sequence levels in common. (Use\n",
      "  suppressWarnings() to suppress this warning.)\"\n",
      "Warning message in .merge_two_Seqinfo_objects(x, y):\n",
      "\"The 2 combined objects have no sequence levels in common. (Use\n",
      "  suppressWarnings() to suppress this warning.)\"\n",
      "Warning message in .merge_two_Seqinfo_objects(x, y):\n",
      "\"The 2 combined objects have no sequence levels in common. (Use\n",
      "  suppressWarnings() to suppress this warning.)\"\n",
      "Warning message in .merge_two_Seqinfo_objects(x, y):\n",
      "\"The 2 combined objects have no sequence levels in common. (Use\n",
      "  suppressWarnings() to suppress this warning.)\"\n",
      "Warning message in .merge_two_Seqinfo_objects(x, y):\n",
      "\"The 2 combined objects have no sequence levels in common. (Use\n",
      "  suppressWarnings() to suppress this warning.)\"\n",
      "Warning message in .merge_two_Seqinfo_objects(x, y):\n",
      "\"The 2 combined objects have no sequence levels in common. (Use\n",
      "  suppressWarnings() to suppress this warning.)\"\n",
      "Warning message in .merge_two_Seqinfo_objects(x, y):\n",
      "\"The 2 combined objects have no sequence levels in common. (Use\n",
      "  suppressWarnings() to suppress this warning.)\"\n"
     ]
    },
    {
     "data": {
      "text/plain": [
       "An object of class Seurat \n",
       "157452 features across 7830 samples within 2 assays \n",
       "Active assay: RNA (22272 features, 0 variable features)\n",
       " 1 layer present: counts\n",
       " 1 other assay present: peaks"
      ]
     },
     "metadata": {},
     "output_type": "display_data"
    }
   ],
   "source": [
    "set.seed(123)\n",
    "\n",
    "# library(Pando)\n",
    "library(Seurat)\n",
    "library(BSgenome.Hsapiens.UCSC.hg38)\n",
    "library(Signac)\n",
    "library(EnsDb.Hsapiens.v86)\n",
    "\n",
    "library(Matrix)\n",
    "#-------- import atac-seq count matrix and metadata and creat assay\n",
    "X <- readMM(\"X_matrix.mtx\")\n",
    "X <- t(X)\n",
    "annotation_peak <- read.csv(\"annotation_peak.csv\", row.names = 1)\n",
    "annotation_cells <- read.csv(\"annotation_cells.csv\", row.names = 1)\n",
    "\n",
    "# Filter out entries where seqname is not chr \n",
    "filter_indices <- grepl(\"^chr\", annotation_peak$seqname)\n",
    "annotation_peak_filtered <- annotation_peak[filter_indices, ]\n",
    "\n",
    "# Filter the rows in X\n",
    "X_filtered <- X[filter_indices, ]\n",
    "  \n",
    "peaks_matrix <- X_filtered\n",
    "colnames(peaks_matrix) <- annotation_cells$obs_id \n",
    "\n",
    "rownames(peaks_matrix) = paste(annotation_peak_filtered$seqname, annotation_peak_filtered$ranges, sep = \"_\")\n",
    "atac_assay <- CreateChromatinAssay(counts = peaks_matrix, ranges=GRanges(annotation_peak_filtered$seqname,\n",
    "                              IRanges(annotation_peak_filtered$ranges)), \n",
    "                             colData = DataFrame(annotation_cells), genome = \"hg38\")\n",
    "annotations <- GetGRangesFromEnsDb(ensdb = EnsDb.Hsapiens.v86)\n",
    "seqlevelsStyle(annotations) <- \"UCSC\"\n",
    "genome(annotations) <- \"hg38\"\n",
    "Annotation(atac_assay) <- annotations\n",
    "#-------- import rna-seq count matrix (with row and col names already assigned ) and create seurat object\n",
    "rna_short  = readRDS('rna_short.rds')\n",
    "seurat_object <- CreateSeuratObject(count = rna_short, project = \"pbmc\", min.cells = 3, min.features = 200)\n",
    "# add peaks\n",
    "seurat_object[[\"peaks\"]] = atac_assay\n",
    "\n",
    "seurat_object"
   ]
  }
 ],
 "metadata": {
  "kernelspec": {
   "display_name": "py10_2",
   "language": "python",
   "name": "python3"
  },
  "language_info": {
   "codemirror_mode": {
    "name": "ipython",
    "version": 3
   },
   "file_extension": ".py",
   "mimetype": "text/x-python",
   "name": "python",
   "nbconvert_exporter": "python",
   "pygments_lexer": "ipython3",
   "version": "3.10.13"
  }
 },
 "nbformat": 4,
 "nbformat_minor": 2
}
