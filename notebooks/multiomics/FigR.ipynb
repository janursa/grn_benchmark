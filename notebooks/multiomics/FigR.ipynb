{
 "cells": [
  {
   "cell_type": "markdown",
   "metadata": {},
   "source": [
    "## Preprocess data\n",
    "Read adata of ATAC-seq and RNA-seq and save them as sparse data and annotations."
   ]
  },
  {
   "cell_type": "code",
   "execution_count": 8,
   "metadata": {},
   "outputs": [],
   "source": [
    "from scipy.io import mmwrite\n",
    "import anndata \n",
    "import os\n",
    "out_dir = '../../output'\n",
    "os.makedirs(f'{out_dir}/figr/scRNA/', exist_ok=True)\n",
    "os.makedirs(f'{out_dir}/figr/scATAC/', exist_ok=True)\n",
    "os.makedirs(f'{out_dir}/figr/grn/', exist_ok=True)\n",
    "os.makedirs(f'{out_dir}/figr/grn/', exist_ok=True)"
   ]
  },
  {
   "cell_type": "markdown",
   "metadata": {},
   "source": [
    "### ATAC-seq"
   ]
  },
  {
   "cell_type": "code",
   "execution_count": 12,
   "metadata": {},
   "outputs": [
    {
     "name": "stderr",
     "output_type": "stream",
     "text": [
      "/root/anaconda3/envs/py10_2/lib/python3.10/site-packages/anndata/__init__.py:51: FutureWarning: `anndata.read` is deprecated, use `anndata.read_h5ad` instead. `ad.read` will be removed in mid 2024.\n",
      "  warnings.warn(\n"
     ]
    }
   ],
   "source": [
    "# python\n",
    "adata_atac = anndata.read(f'{out_dir}/scATAC/adata_atac.h5ad')\n",
    "# save sparse matrix\n",
    "mmwrite(f\"{out_dir}/scATAC/X_matrix.mtx\", adata_atac.X)\n",
    "# save annotation\n",
    "annotation_peak = adata_atac.var.reset_index().location.str.split(':', expand=True)\n",
    "annotation_peak.columns = ['seqname', 'ranges']\n",
    "annotation_peak['strand'] = '+' \n",
    "annotation_peak.to_csv(f\"{out_dir}/scATAC/annotation_peak.csv\")\n",
    "\n",
    "annotation_cells = adata_atac.obs.reset_index()\n",
    "annotation_cells.to_csv(f\"{out_dir}/scATAC/annotation_cells.csv\")"
   ]
  },
  {
   "cell_type": "markdown",
   "metadata": {},
   "source": [
    "### RNA-seq"
   ]
  },
  {
   "cell_type": "code",
   "execution_count": 7,
   "metadata": {},
   "outputs": [
    {
     "name": "stderr",
     "output_type": "stream",
     "text": [
      "/root/anaconda3/envs/py10_2/lib/python3.10/site-packages/anndata/__init__.py:51: FutureWarning: `anndata.read` is deprecated, use `anndata.read_h5ad` instead. `ad.read` will be removed in mid 2024.\n",
      "  warnings.warn(\n"
     ]
    }
   ],
   "source": [
    "adata_rna = anndata.read(f'{out_dir}/scRNA/adata_rna.h5ad')\n",
    "# save sparse matrix\n",
    "mmwrite(f\"{out_dir}/scRNA/X_matrix.mtx\", adata_rna.X)\n",
    "# save annotation\n",
    "annotation_gene = adata_rna.var.reset_index()\n",
    "annotation_gene.to_csv(f\"{out_dir}/scRNA/annotation_gene.csv\")\n",
    "\n",
    "annotation_cells = adata_rna.obs.reset_index()[['obs_id','cell_type']]\n",
    "annotation_cells.to_csv(f\"{out_dir}/scRNA/annotation_cells.csv\")"
   ]
  },
  {
   "cell_type": "markdown",
   "metadata": {},
   "source": [
    "## cell-topic probability scores "
   ]
  },
  {
   "cell_type": "code",
   "execution_count": 32,
   "metadata": {},
   "outputs": [],
   "source": [
    "import pickle\n",
    "cistopic_obj = pickle.load(\n",
    "            open(f'{out_dir}/scenicplus/scATAC/cistopic_obj.pkl', 'rb'))\n",
    "# get cell topic association \n",
    "cell_topic = cistopic_obj.selected_model.cell_topic.T\n",
    "cell_names = cistopic_obj.cell_data.obs_id.values\n",
    "\n",
    "cell_topic.index = cell_names\n",
    "# remove donor name from the index\n",
    "# cell_topic.index = cell_topic.reset_index()['index'].apply(lambda name: name.split('__')[0])"
   ]
  },
  {
   "cell_type": "code",
   "execution_count": 33,
   "metadata": {},
   "outputs": [],
   "source": [
    "# from pycisTopic.cistopic_class import CistopicObject\n",
    "# cistopic_obj.cell_names\n",
    "# cistopic_obj.cell_data.obs_id\n",
    "# cell_topic"
   ]
  },
  {
   "cell_type": "code",
   "execution_count": 34,
   "metadata": {},
   "outputs": [],
   "source": [
    "cell_topic.to_csv(f'{out_dir}/figr/scATAC/cell_topic.csv')"
   ]
  },
  {
   "cell_type": "markdown",
   "metadata": {},
   "source": [
    "# Pipeline of FigR"
   ]
  },
  {
   "cell_type": "code",
   "execution_count": 9,
   "metadata": {},
   "outputs": [],
   "source": [
    "%load_ext rpy2.ipython"
   ]
  },
  {
   "cell_type": "code",
   "execution_count": 10,
   "metadata": {},
   "outputs": [
    {
     "data": {
      "text/plain": [
       "\n",
       "Attaching package: ‘dplyr’\n",
       "\n",
       "The following objects are masked from ‘package:stats’:\n",
       "\n",
       "    filter, lag\n",
       "\n",
       "The following objects are masked from ‘package:base’:\n",
       "\n",
       "    intersect, setdiff, setequal, union\n",
       "\n",
       "\n",
       "Loading required package: foreach\n",
       "Loading required package: iterators\n",
       "Loading required package: parallel\n",
       "Loading required package: MASS\n",
       "\n",
       "Attaching package: ‘MASS’\n",
       "\n",
       "The following object is masked from ‘package:dplyr’:\n",
       "\n",
       "    select\n",
       "\n",
       "Loading required package: ggplot2\n",
       "Loading required package: Matrix\n",
       "Loading required package: SummarizedExperiment\n",
       "Loading required package: MatrixGenerics\n",
       "Loading required package: matrixStats\n",
       "\n",
       "Attaching package: ‘matrixStats’\n",
       "\n",
       "The following object is masked from ‘package:dplyr’:\n",
       "\n",
       "    count\n",
       "\n",
       "\n",
       "Attaching package: ‘MatrixGenerics’\n",
       "\n",
       "The following objects are masked from ‘package:matrixStats’:\n",
       "\n",
       "    colAlls, colAnyNAs, colAnys, colAvgsPerRowSet, colCollapse,\n",
       "    colCounts, colCummaxs, colCummins, colCumprods, colCumsums,\n",
       "    colDiffs, colIQRDiffs, colIQRs, colLogSumExps, colMadDiffs,\n",
       "    colMads, colMaxs, colMeans2, colMedians, colMins, colOrderStats,\n",
       "    colProds, colQuantiles, colRanges, colRanks, colSdDiffs, colSds,\n",
       "    colSums2, colTabulates, colVarDiffs, colVars, colWeightedMads,\n",
       "    colWeightedMeans, colWeightedMedians, colWeightedSds,\n",
       "    colWeightedVars, rowAlls, rowAnyNAs, rowAnys, rowAvgsPerColSet,\n",
       "    rowCollapse, rowCounts, rowCummaxs, rowCummins, rowCumprods,\n",
       "    rowCumsums, rowDiffs, rowIQRDiffs, rowIQRs, rowLogSumExps,\n",
       "    rowMadDiffs, rowMads, rowMaxs, rowMeans2, rowMedians, rowMins,\n",
       "    rowOrderStats, rowProds, rowQuantiles, rowRanges, rowRanks,\n",
       "    rowSdDiffs, rowSds, rowSums2, rowTabulates, rowVarDiffs, rowVars,\n",
       "    rowWeightedMads, rowWeightedMeans, rowWeightedMedians,\n",
       "    rowWeightedSds, rowWeightedVars\n",
       "\n",
       "Loading required package: GenomicRanges\n",
       "Loading required package: stats4\n",
       "Loading required package: BiocGenerics\n",
       "\n",
       "Attaching package: ‘BiocGenerics’\n",
       "\n",
       "The following objects are masked from ‘package:dplyr’:\n",
       "\n",
       "    combine, intersect, setdiff, union\n",
       "\n",
       "The following objects are masked from ‘package:stats’:\n",
       "\n",
       "    IQR, mad, sd, var, xtabs\n",
       "\n",
       "The following objects are masked from ‘package:base’:\n",
       "\n",
       "    anyDuplicated, aperm, append, as.data.frame, basename, cbind,\n",
       "    colnames, dirname, do.call, duplicated, eval, evalq, Filter, Find,\n",
       "    get, grep, grepl, intersect, is.unsorted, lapply, Map, mapply,\n",
       "    match, mget, order, paste, pmax, pmax.int, pmin, pmin.int,\n",
       "    Position, rank, rbind, Reduce, rownames, sapply, setdiff, sort,\n",
       "    table, tapply, union, unique, unsplit, which.max, which.min\n",
       "\n",
       "Loading required package: S4Vectors\n",
       "\n",
       "Attaching package: ‘S4Vectors’\n",
       "\n",
       "The following objects are masked from ‘package:Matrix’:\n",
       "\n",
       "    expand, unname\n",
       "\n",
       "The following objects are masked from ‘package:dplyr’:\n",
       "\n",
       "    first, rename\n",
       "\n",
       "The following object is masked from ‘package:utils’:\n",
       "\n",
       "    findMatches\n",
       "\n",
       "The following objects are masked from ‘package:base’:\n",
       "\n",
       "    expand.grid, I, unname\n",
       "\n",
       "Loading required package: IRanges\n",
       "\n",
       "Attaching package: ‘IRanges’\n",
       "\n",
       "The following objects are masked from ‘package:dplyr’:\n",
       "\n",
       "    collapse, desc, slice\n",
       "\n",
       "Loading required package: GenomeInfoDb\n",
       "Loading required package: Biobase\n",
       "Welcome to Bioconductor\n",
       "\n",
       "    Vignettes contain introductory material; view with\n",
       "    'browseVignettes()'. To cite Bioconductor, see\n",
       "    'citation(\"Biobase\")', and for packages 'citation(\"pkgname\")'.\n",
       "\n",
       "\n",
       "Attaching package: ‘Biobase’\n",
       "\n",
       "The following object is masked from ‘package:MatrixGenerics’:\n",
       "\n",
       "    rowMedians\n",
       "\n",
       "The following objects are masked from ‘package:matrixStats’:\n",
       "\n",
       "    anyMissing, rowMedians\n",
       "\n",
       "Loading required package: cowplot\n",
       "Loading required package: motifmatchr\n",
       "Loading required package: BSgenome\n",
       "Loading required package: Biostrings\n",
       "Loading required package: XVector\n",
       "\n",
       "Attaching package: ‘Biostrings’\n",
       "\n",
       "The following object is masked from ‘package:base’:\n",
       "\n",
       "    strsplit\n",
       "\n",
       "Loading required package: BiocIO\n",
       "Loading required package: rtracklayer\n",
       "\n",
       "Attaching package: ‘rtracklayer’\n",
       "\n",
       "The following object is masked from ‘package:BiocIO’:\n",
       "\n",
       "    FileForFormat\n",
       "\n",
       "In addition: Warning message:\n",
       "In (function (package, help, pos = 2, lib.loc = NULL, character.only = FALSE,  :\n",
       "  library ‘/usr/lib/R/site-library’ contains no packages\n"
      ]
     },
     "metadata": {},
     "output_type": "display_data"
    }
   ],
   "source": [
    "%%R \n",
    "options(digits=5, max.print=100)  # Adjust numbers as needed\n",
    "set.seed(123)\n",
    "\n",
    "library(dplyr)\n",
    "library(FNN)\n",
    "library(chromVAR)\n",
    "library(doParallel)\n",
    "library(BuenColors)\n",
    "library(FigR)\n",
    "library(BSgenome.Hsapiens.UCSC.hg38)"
   ]
  },
  {
   "cell_type": "markdown",
   "metadata": {},
   "source": [
    "## Load atac-seq and create summarizedexperiment"
   ]
  },
  {
   "cell_type": "code",
   "execution_count": 11,
   "metadata": {},
   "outputs": [
    {
     "ename": "RParsingError",
     "evalue": "Parsing status not OK - PARSING_STATUS.PARSE_ERROR",
     "output_type": "error",
     "traceback": [
      "\u001b[0;31m---------------------------------------------------------------------------\u001b[0m",
      "\u001b[0;31mRParsingError\u001b[0m                             Traceback (most recent call last)",
      "Cell \u001b[0;32mIn[11], line 1\u001b[0m\n\u001b[0;32m----> 1\u001b[0m \u001b[43mget_ipython\u001b[49m\u001b[43m(\u001b[49m\u001b[43m)\u001b[49m\u001b[38;5;241;43m.\u001b[39;49m\u001b[43mrun_cell_magic\u001b[49m\u001b[43m(\u001b[49m\u001b[38;5;124;43m'\u001b[39;49m\u001b[38;5;124;43mR\u001b[39;49m\u001b[38;5;124;43m'\u001b[39;49m\u001b[43m,\u001b[49m\u001b[43m \u001b[49m\u001b[38;5;124;43m'\u001b[39;49m\u001b[38;5;124;43m'\u001b[39;49m\u001b[43m,\u001b[49m\u001b[43m \u001b[49m\u001b[38;5;124;43m'\u001b[39;49m\u001b[38;5;124;43mX <- readMM(f\u001b[39;49m\u001b[38;5;124;43m\"\u001b[39;49m\u001b[38;5;132;43;01m{out_dir}\u001b[39;49;00m\u001b[38;5;124;43m/scATAC/X_matrix.mtx\u001b[39;49m\u001b[38;5;124;43m\"\u001b[39;49m\u001b[38;5;124;43m)\u001b[39;49m\u001b[38;5;130;43;01m\\n\u001b[39;49;00m\u001b[38;5;124;43mX <- t(X)\u001b[39;49m\u001b[38;5;130;43;01m\\n\u001b[39;49;00m\u001b[38;5;124;43mannotation_peak <- read.csv(f\u001b[39;49m\u001b[38;5;124;43m\"\u001b[39;49m\u001b[38;5;132;43;01m{out_dir}\u001b[39;49;00m\u001b[38;5;124;43m/scATAC/annotation_peak.csv\u001b[39;49m\u001b[38;5;124;43m\"\u001b[39;49m\u001b[38;5;124;43m, row.names = 1)\u001b[39;49m\u001b[38;5;130;43;01m\\n\u001b[39;49;00m\u001b[38;5;124;43mannotation_cells <- read.csv(f\u001b[39;49m\u001b[38;5;124;43m\"\u001b[39;49m\u001b[38;5;132;43;01m{out_dir}\u001b[39;49;00m\u001b[38;5;124;43m/scATAC/annotation_cells.csv\u001b[39;49m\u001b[38;5;124;43m\"\u001b[39;49m\u001b[38;5;124;43m, row.names = 1)\u001b[39;49m\u001b[38;5;130;43;01m\\n\u001b[39;49;00m\u001b[38;5;130;43;01m\\n\u001b[39;49;00m\u001b[38;5;124;43m# Filter out entries where seqname is \u001b[39;49m\u001b[38;5;130;43;01m\\'\u001b[39;49;00m\u001b[38;5;124;43mchr10\u001b[39;49m\u001b[38;5;130;43;01m\\'\u001b[39;49;00m\u001b[38;5;130;43;01m\\n\u001b[39;49;00m\u001b[38;5;124;43mfilter_indices <- grepl(\u001b[39;49m\u001b[38;5;124;43m\"\u001b[39;49m\u001b[38;5;124;43m^chr\u001b[39;49m\u001b[38;5;124;43m\"\u001b[39;49m\u001b[38;5;124;43m, annotation_peak$seqname)\u001b[39;49m\u001b[38;5;130;43;01m\\n\u001b[39;49;00m\u001b[38;5;124;43mannotation_peak_filtered <- annotation_peak[filter_indices, ]\u001b[39;49m\u001b[38;5;130;43;01m\\n\u001b[39;49;00m\u001b[38;5;130;43;01m\\n\u001b[39;49;00m\u001b[38;5;124;43m# Filter the rows in X\u001b[39;49m\u001b[38;5;130;43;01m\\n\u001b[39;49;00m\u001b[38;5;124;43mX_filtered <- X[filter_indices, ]\u001b[39;49m\u001b[38;5;130;43;01m\\n\u001b[39;49;00m\u001b[38;5;130;43;01m\\n\u001b[39;49;00m\u001b[38;5;124;43m# Create the SummarizedExperiment object with the filtered data\u001b[39;49m\u001b[38;5;130;43;01m\\n\u001b[39;49;00m\u001b[38;5;124;43matac <- SummarizedExperiment(assays = list(counts = X_filtered), \u001b[39;49m\u001b[38;5;130;43;01m\\n\u001b[39;49;00m\u001b[38;5;124;43m                             rowRanges = GRanges(annotation_peak_filtered$seqname,\u001b[39;49m\u001b[38;5;130;43;01m\\n\u001b[39;49;00m\u001b[38;5;124;43m                             IRanges(annotation_peak_filtered$ranges)), \u001b[39;49m\u001b[38;5;130;43;01m\\n\u001b[39;49;00m\u001b[38;5;124;43m                             colData = DataFrame(annotation_cells))\u001b[39;49m\u001b[38;5;130;43;01m\\n\u001b[39;49;00m\u001b[38;5;124;43mcolnames(atac) <- annotation_cells$obs_id    \u001b[39;49m\u001b[38;5;130;43;01m\\n\u001b[39;49;00m\u001b[38;5;130;43;01m\\n\u001b[39;49;00m\u001b[38;5;124;43mdim(atac) #peaks*cells\u001b[39;49m\u001b[38;5;130;43;01m\\n\u001b[39;49;00m\u001b[38;5;124;43m'\u001b[39;49m\u001b[43m)\u001b[49m\n",
      "File \u001b[0;32m~/anaconda3/envs/py10_2/lib/python3.10/site-packages/IPython/core/interactiveshell.py:2517\u001b[0m, in \u001b[0;36mInteractiveShell.run_cell_magic\u001b[0;34m(self, magic_name, line, cell)\u001b[0m\n\u001b[1;32m   2515\u001b[0m \u001b[38;5;28;01mwith\u001b[39;00m \u001b[38;5;28mself\u001b[39m\u001b[38;5;241m.\u001b[39mbuiltin_trap:\n\u001b[1;32m   2516\u001b[0m     args \u001b[38;5;241m=\u001b[39m (magic_arg_s, cell)\n\u001b[0;32m-> 2517\u001b[0m     result \u001b[38;5;241m=\u001b[39m \u001b[43mfn\u001b[49m\u001b[43m(\u001b[49m\u001b[38;5;241;43m*\u001b[39;49m\u001b[43margs\u001b[49m\u001b[43m,\u001b[49m\u001b[43m \u001b[49m\u001b[38;5;241;43m*\u001b[39;49m\u001b[38;5;241;43m*\u001b[39;49m\u001b[43mkwargs\u001b[49m\u001b[43m)\u001b[49m\n\u001b[1;32m   2519\u001b[0m \u001b[38;5;66;03m# The code below prevents the output from being displayed\u001b[39;00m\n\u001b[1;32m   2520\u001b[0m \u001b[38;5;66;03m# when using magics with decorator @output_can_be_silenced\u001b[39;00m\n\u001b[1;32m   2521\u001b[0m \u001b[38;5;66;03m# when the last Python token in the expression is a ';'.\u001b[39;00m\n\u001b[1;32m   2522\u001b[0m \u001b[38;5;28;01mif\u001b[39;00m \u001b[38;5;28mgetattr\u001b[39m(fn, magic\u001b[38;5;241m.\u001b[39mMAGIC_OUTPUT_CAN_BE_SILENCED, \u001b[38;5;28;01mFalse\u001b[39;00m):\n",
      "File \u001b[0;32m~/anaconda3/envs/py10_2/lib/python3.10/site-packages/rpy2/ipython/rmagic.py:949\u001b[0m, in \u001b[0;36mRMagics.R\u001b[0;34m(self, line, cell, local_ns)\u001b[0m\n\u001b[1;32m    947\u001b[0m         return_output \u001b[38;5;241m=\u001b[39m \u001b[38;5;28;01mFalse\u001b[39;00m\n\u001b[1;32m    948\u001b[0m \u001b[38;5;28;01melse\u001b[39;00m:\n\u001b[0;32m--> 949\u001b[0m     text_result, result, visible \u001b[38;5;241m=\u001b[39m \u001b[38;5;28;43mself\u001b[39;49m\u001b[38;5;241;43m.\u001b[39;49m\u001b[43meval\u001b[49m\u001b[43m(\u001b[49m\u001b[43mcode\u001b[49m\u001b[43m)\u001b[49m\n\u001b[1;32m    950\u001b[0m     text_output \u001b[38;5;241m+\u001b[39m\u001b[38;5;241m=\u001b[39m text_result\n\u001b[1;32m    951\u001b[0m     \u001b[38;5;28;01mif\u001b[39;00m visible:\n",
      "File \u001b[0;32m~/anaconda3/envs/py10_2/lib/python3.10/site-packages/rpy2/ipython/rmagic.py:406\u001b[0m, in \u001b[0;36mRMagics.eval\u001b[0;34m(self, code)\u001b[0m\n\u001b[1;32m    398\u001b[0m stack\u001b[38;5;241m.\u001b[39menter_context(\n\u001b[1;32m    399\u001b[0m     obj_in_module(\n\u001b[1;32m    400\u001b[0m         rpy2\u001b[38;5;241m.\u001b[39mrinterface_lib\u001b[38;5;241m.\u001b[39mcallbacks,\n\u001b[1;32m    401\u001b[0m         \u001b[38;5;124m'\u001b[39m\u001b[38;5;124m_WRITECONSOLE_EXCEPTION_LOG\u001b[39m\u001b[38;5;124m'\u001b[39m,\n\u001b[1;32m    402\u001b[0m         \u001b[38;5;124m'\u001b[39m\u001b[38;5;132;01m%s\u001b[39;00m\u001b[38;5;124m'\u001b[39m)\n\u001b[1;32m    403\u001b[0m )\n\u001b[1;32m    404\u001b[0m \u001b[38;5;28;01mtry\u001b[39;00m:\n\u001b[1;32m    405\u001b[0m     \u001b[38;5;66;03m# Need the newline in case the last line in code is a comment.\u001b[39;00m\n\u001b[0;32m--> 406\u001b[0m     r_expr \u001b[38;5;241m=\u001b[39m \u001b[43mri\u001b[49m\u001b[38;5;241;43m.\u001b[39;49m\u001b[43mparse\u001b[49m\u001b[43m(\u001b[49m\u001b[43mcode\u001b[49m\u001b[43m)\u001b[49m\n\u001b[1;32m    407\u001b[0m     value, visible \u001b[38;5;241m=\u001b[39m ri\u001b[38;5;241m.\u001b[39mevalr_expr_with_visible(\n\u001b[1;32m    408\u001b[0m         r_expr\n\u001b[1;32m    409\u001b[0m     )\n\u001b[1;32m    410\u001b[0m \u001b[38;5;28;01mexcept\u001b[39;00m (ri\u001b[38;5;241m.\u001b[39membedded\u001b[38;5;241m.\u001b[39mRRuntimeError, \u001b[38;5;167;01mValueError\u001b[39;00m) \u001b[38;5;28;01mas\u001b[39;00m exception:\n\u001b[1;32m    411\u001b[0m     \u001b[38;5;66;03m# Otherwise next return seems to have copy of error.\u001b[39;00m\n",
      "File \u001b[0;32m~/anaconda3/envs/py10_2/lib/python3.10/site-packages/rpy2/rinterface_lib/conversion.py:45\u001b[0m, in \u001b[0;36m_cdata_res_to_rinterface.<locals>._\u001b[0;34m(*args, **kwargs)\u001b[0m\n\u001b[1;32m     44\u001b[0m \u001b[38;5;28;01mdef\u001b[39;00m \u001b[38;5;21m_\u001b[39m(\u001b[38;5;241m*\u001b[39margs, \u001b[38;5;241m*\u001b[39m\u001b[38;5;241m*\u001b[39mkwargs):\n\u001b[0;32m---> 45\u001b[0m     cdata \u001b[38;5;241m=\u001b[39m \u001b[43mfunction\u001b[49m\u001b[43m(\u001b[49m\u001b[38;5;241;43m*\u001b[39;49m\u001b[43margs\u001b[49m\u001b[43m,\u001b[49m\u001b[43m \u001b[49m\u001b[38;5;241;43m*\u001b[39;49m\u001b[38;5;241;43m*\u001b[39;49m\u001b[43mkwargs\u001b[49m\u001b[43m)\u001b[49m\n\u001b[1;32m     46\u001b[0m     \u001b[38;5;66;03m# TODO: test cdata is of the expected CType\u001b[39;00m\n\u001b[1;32m     47\u001b[0m     \u001b[38;5;28;01mreturn\u001b[39;00m _cdata_to_rinterface(cdata)\n",
      "File \u001b[0;32m~/anaconda3/envs/py10_2/lib/python3.10/site-packages/rpy2/rinterface.py:123\u001b[0m, in \u001b[0;36mparse\u001b[0;34m(text, num)\u001b[0m\n\u001b[1;32m    121\u001b[0m robj \u001b[38;5;241m=\u001b[39m StrSexpVector([text])\n\u001b[1;32m    122\u001b[0m \u001b[38;5;28;01mwith\u001b[39;00m memorymanagement\u001b[38;5;241m.\u001b[39mrmemory() \u001b[38;5;28;01mas\u001b[39;00m rmemory:\n\u001b[0;32m--> 123\u001b[0m     res \u001b[38;5;241m=\u001b[39m \u001b[43m_rinterface\u001b[49m\u001b[38;5;241;43m.\u001b[39;49m\u001b[43m_parse\u001b[49m\u001b[43m(\u001b[49m\u001b[43mrobj\u001b[49m\u001b[38;5;241;43m.\u001b[39;49m\u001b[43m__sexp__\u001b[49m\u001b[38;5;241;43m.\u001b[39;49m\u001b[43m_cdata\u001b[49m\u001b[43m,\u001b[49m\u001b[43m \u001b[49m\u001b[43mnum\u001b[49m\u001b[43m,\u001b[49m\u001b[43m \u001b[49m\u001b[43mrmemory\u001b[49m\u001b[43m)\u001b[49m\n\u001b[1;32m    124\u001b[0m \u001b[38;5;28;01mreturn\u001b[39;00m res\n",
      "File \u001b[0;32m~/anaconda3/envs/py10_2/lib/python3.10/site-packages/rpy2/rinterface_lib/_rinterface_capi.py:720\u001b[0m, in \u001b[0;36m_parse\u001b[0;34m(cdata, num, rmemory)\u001b[0m\n\u001b[1;32m    713\u001b[0m \u001b[38;5;66;03m# TODO: design better handling of possible status:\u001b[39;00m\n\u001b[1;32m    714\u001b[0m \u001b[38;5;66;03m# PARSE_NULL,\u001b[39;00m\n\u001b[1;32m    715\u001b[0m \u001b[38;5;66;03m# PARSE_OK,\u001b[39;00m\n\u001b[1;32m    716\u001b[0m \u001b[38;5;66;03m# PARSE_INCOMPLETE,\u001b[39;00m\n\u001b[1;32m    717\u001b[0m \u001b[38;5;66;03m# PARSE_ERROR,\u001b[39;00m\n\u001b[1;32m    718\u001b[0m \u001b[38;5;66;03m# PARSE_EOF\u001b[39;00m\n\u001b[1;32m    719\u001b[0m \u001b[38;5;28;01mif\u001b[39;00m status[\u001b[38;5;241m0\u001b[39m] \u001b[38;5;241m!=\u001b[39m openrlib\u001b[38;5;241m.\u001b[39mrlib\u001b[38;5;241m.\u001b[39mPARSE_OK:\n\u001b[0;32m--> 720\u001b[0m     \u001b[38;5;28;01mraise\u001b[39;00m RParsingError(\u001b[38;5;124m'\u001b[39m\u001b[38;5;124mParsing status not OK\u001b[39m\u001b[38;5;124m'\u001b[39m,\n\u001b[1;32m    721\u001b[0m                         status\u001b[38;5;241m=\u001b[39mPARSING_STATUS(status[\u001b[38;5;241m0\u001b[39m]))\n\u001b[1;32m    722\u001b[0m \u001b[38;5;28;01mreturn\u001b[39;00m res\n",
      "\u001b[0;31mRParsingError\u001b[0m: Parsing status not OK - PARSING_STATUS.PARSE_ERROR"
     ]
    }
   ],
   "source": [
    "%%R \n",
    "X <- readMM(f\"{out_dir}/scATAC/X_matrix.mtx\")\n",
    "X <- t(X)\n",
    "annotation_peak <- read.csv(f\"{out_dir}/scATAC/annotation_peak.csv\", row.names = 1)\n",
    "annotation_cells <- read.csv(f\"{out_dir}/scATAC/annotation_cells.csv\", row.names = 1)\n",
    "\n",
    "# Filter out entries where seqname is 'chr10'\n",
    "filter_indices <- grepl(\"^chr\", annotation_peak$seqname)\n",
    "annotation_peak_filtered <- annotation_peak[filter_indices, ]\n",
    "\n",
    "# Filter the rows in X\n",
    "X_filtered <- X[filter_indices, ]\n",
    "\n",
    "# Create the SummarizedExperiment object with the filtered data\n",
    "atac <- SummarizedExperiment(assays = list(counts = X_filtered), \n",
    "                             rowRanges = GRanges(annotation_peak_filtered$seqname,\n",
    "                             IRanges(annotation_peak_filtered$ranges)), \n",
    "                             colData = DataFrame(annotation_cells))\n",
    "colnames(atac) <- annotation_cells$obs_id    \n",
    "\n",
    "dim(atac) #peaks*cells"
   ]
  },
  {
   "cell_type": "markdown",
   "metadata": {},
   "source": [
    "### Load RNA-seq and create sparsematrix"
   ]
  },
  {
   "cell_type": "code",
   "execution_count": 4,
   "metadata": {},
   "outputs": [
    {
     "name": "stdout",
     "output_type": "stream",
     "text": [
      "[1] 22787 25551\n"
     ]
    }
   ],
   "source": [
    "%%R \n",
    "XX <- readMM(f\"{out_dir}/scRNA/X_matrix.mtx\")\n",
    "XX <- t(XX)\n",
    "annotation_gene <- read.csv(f\"{out_dir}/scRNA/annotation_gene.csv\", row.names = 1)\n",
    "annotation_cells <- read.csv(f\"{out_dir}/scRNA/annotation_cells.csv\", row.names = 1)\n",
    "\n",
    "rna <- as(XX, \"CsparseMatrix\")\n",
    "rownames(rna) <- annotation_gene$location\n",
    "colnames(rna) <- annotation_cells$obs_id\n",
    "\n",
    "# Remove genes with zero expression across all cells\n",
    "rna <- rna[Matrix::rowSums(rna)!=0,]\n",
    "\n",
    "dim(rna) # genes*cells"
   ]
  },
  {
   "cell_type": "markdown",
   "metadata": {},
   "source": [
    "## load cell topic probabilities and create cell-cluster matrix\n"
   ]
  },
  {
   "cell_type": "code",
   "execution_count": 5,
   "metadata": {},
   "outputs": [
    {
     "name": "stdout",
     "output_type": "stream",
     "text": [
      "[1] 25551    48\n",
      "[1] 25551    48\n"
     ]
    }
   ],
   "source": [
    "%%R \n",
    "n_topics = 48\n",
    "cell_topic <- read.csv(f'{out_dir}/figr/scATAC/cell_topic.csv', row.names = 1)\n",
    "print(dim(cell_topic))\n",
    "# Derive cell kNN using this\n",
    "cellkNN <- get.knn(cell_topic, k=n_topics)$nn.index\n",
    "rownames(cellkNN) <- rownames(cell_topic)\n",
    "print(dim(cellkNN))"
   ]
  },
  {
   "cell_type": "markdown",
   "metadata": {},
   "source": [
    "## Save data"
   ]
  },
  {
   "cell_type": "code",
   "execution_count": 7,
   "metadata": {},
   "outputs": [],
   "source": [
    "%%R \n",
    "n_cells_to_keep = dim(rna)[2]\n",
    "cellsToKeep <- sample(colnames(atac), size = n_cells_to_keep, replace = FALSE)\n",
    "atac_short = atac[, cellsToKeep]\n",
    "rna_short = rna[, cellsToKeep]\n",
    "cellkNN_short = cellkNN[cellsToKeep,]\n",
    "\n",
    "saveRDS(atac_short, f'{out_dir}/scATAC/atac.rds')\n",
    "saveRDS(rna_short, f'{out_dir}/scRNA/rna.rds')\n",
    "saveRDS(cellkNN_short, f'{out_dir}/figr/cellkNN.rds')\n"
   ]
  },
  {
   "cell_type": "markdown",
   "metadata": {},
   "source": [
    "## Peak-gene association testing"
   ]
  },
  {
   "cell_type": "code",
   "execution_count": 8,
   "metadata": {},
   "outputs": [
    {
     "name": "stdout",
     "output_type": "stream",
     "text": [
      "Matrix object input detectedCentering counts for cells sequentially in groups of size  1000  ..\n",
      "\n",
      "Computing centered counts for cells:  1  to  1000 ..\n",
      "Computing centered counts per cell using mean reads in features ..\n",
      "\n",
      "Computing centered counts for cells:  1001  to  2000 ..\n",
      "Computing centered counts per cell using mean reads in features ..\n",
      "\n",
      "Computing centered counts for cells:  2001  to  3000 ..\n",
      "Computing centered counts per cell using mean reads in features ..\n",
      "\n",
      "Computing centered counts for cells:  3001  to  4000 ..\n",
      "Computing centered counts per cell using mean reads in features ..\n",
      "\n",
      "Computing centered counts for cells:  4001  to  5000 ..\n",
      "Computing centered counts per cell using mean reads in features ..\n",
      "\n",
      "Computing centered counts for cells:  5001  to  6000 ..\n",
      "Computing centered counts per cell using mean reads in features ..\n",
      "\n",
      "Computing centered counts for cells:  6001  to  7000 ..\n",
      "Computing centered counts per cell using mean reads in features ..\n",
      "\n",
      "Computing centered counts for cells:  7001  to  8000 ..\n",
      "Computing centered counts per cell using mean reads in features ..\n",
      "\n",
      "Computing centered counts for cells:  8001  to  9000 ..\n",
      "Computing centered counts per cell using mean reads in features ..\n",
      "\n",
      "Computing centered counts for cells:  9001  to  10000 ..\n",
      "Computing centered counts per cell using mean reads in features ..\n",
      "\n",
      "Computing centered counts for cells:  10001  to  11000 ..\n",
      "Computing centered counts per cell using mean reads in features ..\n",
      "\n",
      "Computing centered counts for cells:  11001  to  12000 ..\n",
      "Computing centered counts per cell using mean reads in features ..\n",
      "\n",
      "Computing centered counts for cells:  12001  to  13000 ..\n",
      "Computing centered counts per cell using mean reads in features ..\n",
      "\n",
      "Computing centered counts for cells:  13001  to  14000 ..\n",
      "Computing centered counts per cell using mean reads in features ..\n",
      "\n",
      "Computing centered counts for cells:  14001  to  15000 ..\n",
      "Computing centered counts per cell using mean reads in features ..\n",
      "\n",
      "Computing centered counts for cells:  15001  to  16000 ..\n",
      "Computing centered counts per cell using mean reads in features ..\n",
      "\n",
      "Computing centered counts for cells:  16001  to  17000 ..\n",
      "Computing centered counts per cell using mean reads in features ..\n",
      "\n",
      "Computing centered counts for cells:  17001  to  18000 ..\n",
      "Computing centered counts per cell using mean reads in features ..\n",
      "\n",
      "Computing centered counts for cells:  18001  to  19000 ..\n",
      "Computing centered counts per cell using mean reads in features ..\n",
      "\n",
      "Computing centered counts for cells:  19001  to  20000 ..\n",
      "Computing centered counts per cell using mean reads in features ..\n",
      "\n",
      "Computing centered counts for cells:  20001  to  21000 ..\n",
      "Computing centered counts per cell using mean reads in features ..\n",
      "\n",
      "Computing centered counts for cells:  21001  to  22000 ..\n",
      "Computing centered counts per cell using mean reads in features ..\n",
      "\n",
      "Computing centered counts for cells:  22001  to  23000 ..\n",
      "Computing centered counts per cell using mean reads in features ..\n",
      "\n",
      "Computing centered counts for cells:  23001  to  24000 ..\n",
      "Computing centered counts per cell using mean reads in features ..\n",
      "\n",
      "Computing centered counts for cells:  24001  to  25000 ..\n",
      "Computing centered counts per cell using mean reads in features ..\n",
      "\n",
      "Computing centered counts for cells:  25001  to  25551 ..\n",
      "Computing centered counts per cell using mean reads in features ..\n",
      "\n",
      "Merging results..\n",
      "Done!\n",
      "Number of peaks in ATAC data: 135358 \n",
      "Number of genes in RNA data: 22787 \n",
      "\n",
      "Num genes overlapping TSS annotation and RNA matrix being considered:  16076 \n",
      "\n",
      "Taking peak summits from peak windows ..\n",
      "Finding overlapping peak-gene pairs ..\n",
      "Found  158643 total gene-peak pairs for given TSS window ..\n",
      "Number of peak summits that overlap any gene TSS window:  84139 \n",
      "Number of gene TSS windows that overlap any peak summit:  15449 \n",
      "\n",
      "Determining background peaks ..\n",
      "Using  100  iterations ..\n",
      "\n",
      "Computing gene-peak correlations ..\n",
      "Running pairs:  1 to 5000 \n",
      "Running in parallel using  40 cores ..\n",
      "Computing observed correlations ..\n",
      "  |                                                              |   0%, ETA NA"
     ]
    },
    {
     "name": "stderr",
     "output_type": "stream",
     "text": [
      "Exception ignored from cffi callback <function _consolewrite_ex at 0x7f01713f40d0>:\n",
      "Traceback (most recent call last):\n",
      "  File \"/root/anaconda3/envs/scenicplus/lib/python3.8/site-packages/rpy2/rinterface_lib/callbacks.py\", line 130, in _consolewrite_ex\n",
      "    @ffi_proxy.callback(ffi_proxy._consolewrite_ex_def,\n",
      "KeyboardInterrupt: \n"
     ]
    },
    {
     "name": "stdout",
     "output_type": "stream",
     "text": [
      "  |=======================================================| 100%, Elapsed 00:08\n",
      "Finished!\n",
      "\n",
      "Time Elapsed:  7.81739735603333 secs \n",
      "\n",
      "Computing background correlations ..\n",
      "  |=====================================================      |  90%, ETA 00:01"
     ]
    }
   ],
   "source": [
    "%%R \n",
    "options(digits=5, max.print=100)  # Adjust numbers as needed\n",
    "set.seed(123)\n",
    "\n",
    "library(dplyr)\n",
    "library(FNN)\n",
    "library(chromVAR)\n",
    "library(doParallel)\n",
    "library(BuenColors)\n",
    "library(FigR)\n",
    "library(BSgenome.Hsapiens.UCSC.hg38)\n",
    "\n",
    "\n",
    "if (!dir.exists(f\"{out_dir}/figr/grn/\")) {\n",
    "  dir.create(f\"{out_dir}/figr/grn/\", recursive = TRUE)\n",
    "}\n",
    "\n",
    "atac_short = readRDS(f'{out_dir}/scATAC/atac.rds')\n",
    "rna_short  = readRDS(f'{out_dir}/scRNA/rna.rds')\n",
    "cisCorr <- FigR::runGenePeakcorr(ATAC.se = atac_short,\n",
    "                           RNAmat = rna_short,\n",
    "                           genome = \"hg38\", # One of hg19, mm10 or hg38 \n",
    "                           nCores = 40,\n",
    "                           p.cut = NULL, # Set this to NULL and we can filter later\n",
    "                           n_bg = 100)\n",
    "write.csv(cisCorr, f\"{out_dir}/figr/grn/cisCorr.csv\", row.names = TRUE)"
   ]
  },
  {
   "cell_type": "code",
   "execution_count": null,
   "metadata": {},
   "outputs": [],
   "source": [
    "%%R \n",
    "cisCorr = read.csv(f\"{out_dir}/figr/grn/cisCorr.csv\")\n",
    "cisCorr.filt <- cisCorr %>% filter(pvalZ <= 0.05)\n",
    "\n",
    "dorcGenes <- dorcJPlot(dorcTab = cisCorr.filt,\n",
    "                         cutoff = 10, # No. sig peaks needed to be called a DORC\n",
    "                         labelTop = 20,\n",
    "                         returnGeneList = TRUE, # Set this to FALSE for just the plot\n",
    "                         force=2)\n",
    "# Unfiltered\n",
    "numDorcs <- cisCorr.filt %>% group_by(Gene) %>% tally() %>% arrange(desc(n))\n",
    "# numDorcs"
   ]
  },
  {
   "cell_type": "markdown",
   "metadata": {},
   "source": [
    "## Create DORCs and smooth them "
   ]
  },
  {
   "cell_type": "code",
   "execution_count": null,
   "metadata": {},
   "outputs": [],
   "source": [
    "%%R \n",
    "allGenes = unique(cisCorr.filt$Gene) \n",
    "dorcMat <- getDORCScores(ATAC.se = atac_short, # Has to be same SE as used in previous step\n",
    "                         dorcTab = cisCorr.filt,\n",
    "                         geneList = allGenes,\n",
    "                         nCores = 4)"
   ]
  },
  {
   "cell_type": "code",
   "execution_count": null,
   "metadata": {},
   "outputs": [],
   "source": [
    "%%R \n",
    "cellkNN = readRDS(f'{out_dir}/figr/cellkNN.rds')\n",
    "# Smooth dorc scores using cell KNNs (k=n_topics)\n",
    "dorcMat.s <- smoothScoresNN(NNmat = cellkNN[,1:n_topics], mat = dorcMat,nCores = 4)\n",
    "\n",
    "# Smooth RNA using cell KNNs\n",
    "# This takes longer since it's all genes\n",
    "RNAmat.s <- smoothScoresNN(NNmat = cellkNN[,1:n_topics],mat = rna_short,nCores = 4)"
   ]
  },
  {
   "cell_type": "code",
   "execution_count": null,
   "metadata": {},
   "outputs": [],
   "source": [
    "%%R # save it as we will need it for TF gene associations \n",
    "write.csv(cisCorr.filt, f'{out_dir}/figr/grn/cisCorr.filt.csv')\n",
    "saveRDS(RNAmat.s, f'{out_dir}/figr/grn/RNAmat.s.RDS')\n",
    "saveRDS(dorcMat.s, f'{out_dir}/figr/grn/dorcMat.s.RDS')"
   ]
  },
  {
   "cell_type": "markdown",
   "metadata": {},
   "source": [
    "## TF-gene associations\n",
    "Do not run this locally."
   ]
  },
  {
   "cell_type": "code",
   "execution_count": null,
   "metadata": {},
   "outputs": [],
   "source": [
    "%%R \n",
    "cisCorr.filt = read.csv(f'{out_dir}/figr/grn/cisCorr.filt.csv')\n",
    "RNAmat.s = readRDS(f'{out_dir}/figr/grn/RNAmat.s.RDS')\n",
    "dorcMat.s = readRDS(f'{out_dir}/figr/grn/dorcMat.s.RDS')\n",
    "atac_short = readRDS(f'{out_dir}/figr/grn/atac_short.rds')\n",
    "figR.d <- runFigRGRN(ATAC.se = atac_short, # Must be the same input as used in runGenePeakcorr()\n",
    "                     dorcTab = cisCorr.filt, # Filtered peak-gene associations\n",
    "                     genome = \"hg38\",\n",
    "                     dorcMat = dorcMat.s,\n",
    "                     rnaMat = RNAmat.s, \n",
    "                     nCores = 30)\n",
    "write.csv(figR.d, 'figR.d.csv')"
   ]
  },
  {
   "cell_type": "markdown",
   "metadata": {},
   "source": [
    "## Evaluation of results"
   ]
  },
  {
   "cell_type": "code",
   "execution_count": null,
   "metadata": {},
   "outputs": [],
   "source": [
    "%%R \n",
    "figR.d = read.csv(f'{out_dir}/figr/grn/figR.d.csv')\n",
    "\n",
    "figR.d %>% \n",
    "  ggplot(aes(Corr.log10P,Enrichment.log10P,color=Score)) + \n",
    "  ggrastr::geom_point_rast(size=0.01,shape=n_topics) + \n",
    "  theme_classic() + \n",
    "  scale_color_gradientn(colours = jdb_palette(\"solar_extra\"),limits=c(-3,3),oob = scales::squish,breaks=scales::breaks_pretty(n=3))"
   ]
  },
  {
   "cell_type": "code",
   "execution_count": null,
   "metadata": {},
   "outputs": [],
   "source": [
    "%%R \n",
    "rankDrivers(figR.d,rankBy = \"meanScore\",interactive = FALSE)"
   ]
  },
  {
   "cell_type": "markdown",
   "metadata": {},
   "source": [
    "## Process the results and output final GRN"
   ]
  },
  {
   "cell_type": "code",
   "execution_count": null,
   "metadata": {},
   "outputs": [],
   "source": [
    "import pandas as pd\n",
    "import numpy as np"
   ]
  },
  {
   "cell_type": "markdown",
   "metadata": {},
   "source": [
    "### GRN "
   ]
  },
  {
   "cell_type": "code",
   "execution_count": null,
   "metadata": {},
   "outputs": [],
   "source": [
    "figr_grn = pd.read_csv(f'{out_dir}/figr/grn/figR.d_all.csv', index_col=0)\n",
    "# filter based on enrichment \n",
    "figr_grn = figr_grn[figr_grn['Enrichment.P']<0.05]\n",
    "# filter bsaed on correlatoon\n",
    "figr_grn = figr_grn[figr_grn['Corr.P']<0.05]\n",
    "# filter thoes that are 0 score \n",
    "figr_grn = figr_grn[figr_grn.Score!=0]\n",
    "# subset columns\n",
    "figr_grn = figr_grn[['Motif', 'DORC', 'Score']]\n",
    "figr_grn = figr_grn.reset_index(drop=True)\n",
    "figr_grn.columns = ['source', 'target','weight']\n",
    "figr_grn.to_csv(f'{out_dir}/FigR/grn.csv')"
   ]
  },
  {
   "cell_type": "markdown",
   "metadata": {},
   "source": [
    "### Peak-gene"
   ]
  },
  {
   "cell_type": "code",
   "execution_count": null,
   "metadata": {},
   "outputs": [],
   "source": [
    "# load peak-gene association after filtering for significant\n",
    "peak_gene_figr = pd.read_csv(f'{out_dir}/figr/grn/cisCorr.filt.csv', index_col=0)\n",
    "peak_gene_figr_n = peak_gene_figr.groupby('Gene').apply(lambda df:df['PeakRanges'].shape[0])\n",
    "np.max(peak_gene_figr_n.values), np.median(peak_gene_figr_n.values)\n",
    "peak_gene_figr.to_csv(f'{out_dir}/figr/grn/peak_gene.csv')\n",
    "print('In the peak-gene associations: number of  CIS ', peak_gene_figr.PeakRanges.unique().shape[0], ', gene ', peak_gene_figr.Gene.unique().shape[0])\n",
    "print('number of DORC genes ', (peak_gene_figr_n.values >= 5).sum())"
   ]
  }
 ],
 "metadata": {
  "kernelspec": {
   "display_name": "py10",
   "language": "python",
   "name": "python3"
  },
  "language_info": {
   "codemirror_mode": {
    "name": "ipython",
    "version": 3
   },
   "file_extension": ".py",
   "mimetype": "text/x-python",
   "name": "python",
   "nbconvert_exporter": "python",
   "pygments_lexer": "ipython3",
   "version": "3.10.13"
  }
 },
 "nbformat": 4,
 "nbformat_minor": 2
}
