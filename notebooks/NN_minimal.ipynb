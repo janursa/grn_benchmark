{
 "cells": [
  {
   "cell_type": "code",
   "execution_count": 1,
   "metadata": {},
   "outputs": [],
   "source": [
    "SEED = 0xCAFE\n",
    "USE_GPU = True\n",
    "\n",
    "import os\n",
    "os.environ['CUBLAS_WORKSPACE_CONFIG'] = ':4096:8'  # Make PyTorch deterministic on GPU\n",
    "\n",
    "import json\n",
    "import math\n",
    "import random\n",
    "import warnings\n",
    "import collections\n",
    "from typing import Dict, List, Tuple, Optional, Generator\n",
    "import numpy as np\n",
    "import pandas as pd\n",
    "import tqdm\n",
    "import torch\n"
   ]
  },
  {
   "cell_type": "code",
   "execution_count": 93,
   "metadata": {},
   "outputs": [],
   "source": [
    "df = pd.read_parquet('../../../..//output.parquet')"
   ]
  },
  {
   "cell_type": "code",
   "execution_count": 96,
   "metadata": {},
   "outputs": [],
   "source": [
    "df.set_index('id').to_csv('../../../..//output.csv')"
   ]
  },
  {
   "cell_type": "code",
   "execution_count": 75,
   "metadata": {},
   "outputs": [
    {
     "name": "stdout",
     "output_type": "stream",
     "text": [
      "Reading input files\n"
     ]
    }
   ],
   "source": [
    "import pandas as pd\n",
    "main_dir = '../../../../'\n",
    "## VIASH START\n",
    "par = {\n",
    "  \"de_train\": f\"{main_dir}/resources/neurips-2023-kaggle/de_train.parquet\",\n",
    "  \"de_test\": f\"{main_dir}resources/neurips-2023-kaggle/de_test.parquet\",\n",
    "  \"id_map\": f\"{main_dir}resources/neurips-2023-kaggle/id_map.csv\",\n",
    "  \"output\": f\"{main_dir}output.parquet\",\n",
    "}\n",
    "## VIASH END\n",
    "\n",
    "print('Reading input files', flush=True)\n",
    "de_train = pd.read_parquet(par[\"de_train\"])\n",
    "id_map = pd.read_csv(par[\"id_map\"], index_col=0)\n",
    "gene_names = [col for col in de_train.columns if col not in {\"cell_type\", \"sm_name\", \"sm_lincs_id\", \"SMILES\", \"split\", \"control\", \"index\"}]\n"
   ]
  },
  {
   "cell_type": "code",
   "execution_count": 3,
   "metadata": {},
   "outputs": [
    {
     "name": "stdout",
     "output_type": "stream",
     "text": [
      "using device: cuda\n"
     ]
    }
   ],
   "source": [
    "from module import plant_seed\n",
    "\n",
    "if USE_GPU and torch.cuda.is_available():\n",
    "    print('using device: cuda')\n",
    "else:\n",
    "    print('using device: cpu')\n",
    "    USE_GPU = False\n",
    "    \n",
    "# Make Python deterministic?\n",
    "os.environ['PYTHONHASHSEED'] = str(int(SEED))\n",
    "\n",
    "# Make PyTorch deterministic\n",
    "torch.use_deterministic_algorithms(True)\n",
    "torch.backends.cudnn.deterministic = True\n",
    "torch.backends.cudnn.benchmark = False\n",
    "torch.backends.cudnn.enabled = False\n",
    "torch.set_num_threads(1)\n",
    "        \n",
    "plant_seed(SEED, USE_GPU)"
   ]
  },
  {
   "cell_type": "code",
   "execution_count": 4,
   "metadata": {},
   "outputs": [],
   "source": [
    "# Data location\n",
    "cell_types = de_train['cell_type']\n",
    "sm_names = de_train['sm_name']\n",
    "\n",
    "data = de_train.drop(columns=[\"cell_type\", \"sm_name\", \"sm_lincs_id\", \"SMILES\", \"split\", \"control\"]).to_numpy(dtype=float)"
   ]
  },
  {
   "cell_type": "code",
   "execution_count": 5,
   "metadata": {},
   "outputs": [
    {
     "name": "stderr",
     "output_type": "stream",
     "text": [
      "fit LOO encoders:   0%|          | 0/18211 [00:00<?, ?it/s]"
     ]
    },
    {
     "name": "stderr",
     "output_type": "stream",
     "text": [
      "fit LOO encoders: 100%|██████████| 18211/18211 [01:25<00:00, 214.23it/s]\n"
     ]
    }
   ],
   "source": [
    "from module import MultiOutputTargetEncoder\n",
    "encoder = MultiOutputTargetEncoder()\n",
    "encoder.fit(np.asarray([cell_types, sm_names]).T, data)"
   ]
  },
  {
   "cell_type": "code",
   "execution_count": 91,
   "metadata": {},
   "outputs": [
    {
     "name": "stderr",
     "output_type": "stream",
     "text": [
      "transform LOO encoders:   0%|          | 0/18211 [00:00<?, ?it/s]"
     ]
    },
    {
     "name": "stderr",
     "output_type": "stream",
     "text": [
      "transform LOO encoders: 100%|██████████| 18211/18211 [00:35<00:00, 513.77it/s]\n"
     ]
    }
   ],
   "source": [
    "X = torch.FloatTensor(encoder.transform(np.asarray([cell_types, sm_names]).T))\n",
    "X_submit = torch.FloatTensor(encoder.transform(np.asarray([id_map.cell_type, id_map.sm_name]).T))"
   ]
  },
  {
   "cell_type": "code",
   "execution_count": 90,
   "metadata": {},
   "outputs": [],
   "source": [
    "# id_map = []\n",
    "# with open(os.path.join(DATA_FOLDER, 'id_map.csv'), 'r') as f:\n",
    "#     lines = f.readlines()[1:]\n",
    "#     for line in lines:\n",
    "#         id_map.append(line.rstrip().split(','))\n",
    "#         assert len(id_map[-1]) == 3\n",
    "\n",
    "\n",
    "# Target encoding of the cell types and compounds\n",
    "# X_submit = []\n",
    "# for _, cell_type, sm_name in id_map:\n",
    "#     X_submit.append([cell_type, sm_name])\n",
    "# X_submit = torch.FloatTensor(encoder.transform(np.asarray(X_submit)))"
   ]
  },
  {
   "cell_type": "code",
   "execution_count": 74,
   "metadata": {},
   "outputs": [],
   "source": [
    "id_map_o = id_map.copy()"
   ]
  },
  {
   "cell_type": "code",
   "execution_count": 19,
   "metadata": {},
   "outputs": [],
   "source": [
    "if USE_GPU:\n",
    "    X = X.cuda()"
   ]
  },
  {
   "cell_type": "code",
   "execution_count": 8,
   "metadata": {},
   "outputs": [
    {
     "name": "stderr",
     "output_type": "stream",
     "text": [
      "/root/anaconda3/envs/py10/lib/python3.10/site-packages/torch/optim/lr_scheduler.py:28: UserWarning: The verbose parameter is deprecated. Please use get_last_lr() to access the learning rate.\n",
      "  warnings.warn(\"The verbose parameter is deprecated. Please use get_last_lr() \"\n",
      "0.736: 100%|██████████| 40/40 [00:46<00:00,  1.16s/it]\n",
      "Submission: 255it [00:02, 106.94it/s]\n"
     ]
    }
   ],
   "source": [
    "from module import train\n",
    "n_replica = 1 #TODO: change this to 30\n",
    "SUBMISSION_NAME = 'dl40'\n",
    "# SUBMISSION_NAMES = {'dl40', 'dl200'}\n",
    "# Y_submit_ensemble = []\n",
    "# for SUBMISSION_NAME in SUBMISSION_NAMES:\n",
    "    # train the models and store them\n",
    "models = []\n",
    "for i in range(n_replica):\n",
    "    seed = i\n",
    "    if SUBMISSION_NAME == 'dl40':\n",
    "        model = train(X, torch.FloatTensor(data), np.arange(len(X)), seed, n_iter=40, USE_GPU=USE_GPU)\n",
    "    elif SUBMISSION_NAME == 'dl200':\n",
    "        model = train(X, torch.FloatTensor(data), np.arange(len(X)), seed, n_iter=200, USE_GPU=USE_GPU)\n",
    "    else:\n",
    "        model = train(X, torch.FloatTensor(data), np.arange(len(X)), seed, add_bms_layers=True, n_iter=40, USE_GPU=USE_GPU)\n",
    "    model.eval()\n",
    "    models.append(model)\n",
    "    torch.cuda.empty_cache()\n",
    "\n",
    "\n",
    "# Y_submit_ensemble.append(np.asarray(Y_submit).astype(np.float32))"
   ]
  },
  {
   "cell_type": "code",
   "execution_count": 69,
   "metadata": {},
   "outputs": [
    {
     "data": {
      "text/plain": [
       "(255, 18211)"
      ]
     },
     "execution_count": 69,
     "metadata": {},
     "output_type": "execute_result"
    }
   ],
   "source": [
    "np.shape(Y_submit)\n"
   ]
  },
  {
   "cell_type": "code",
   "execution_count": 70,
   "metadata": {},
   "outputs": [
    {
     "name": "stderr",
     "output_type": "stream",
     "text": [
      "Submission: 255it [00:18, 13.76it/s]\n"
     ]
    }
   ],
   "source": [
    "# predict \n",
    "Y_submit =  []\n",
    "for i, x in tqdm.tqdm(enumerate(X_submit), desc='Submission'):\n",
    "    # Predict on test sample using a simple ensembling strategy:\n",
    "    # take the median of the predictions across the different models\n",
    "    y_hat = []\n",
    "    for model in models:\n",
    "        model = model.cpu()\n",
    "        y_hat.append(np.squeeze(model.forward(x.unsqueeze(0)).cpu().data.numpy()))\n",
    "    y_hat = np.median(y_hat, axis=0)\n",
    "\n",
    "    values = [f'{x:.5f}' for x in y_hat]\n",
    "    Y_submit.append(values)"
   ]
  },
  {
   "cell_type": "code",
   "execution_count": 71,
   "metadata": {},
   "outputs": [],
   "source": [
    "output = pd.DataFrame(\n",
    "  Y_submit,\n",
    "#   index=id_map[\"id\"],\n",
    "  columns=gene_names\n",
    ").reset_index()"
   ]
  },
  {
   "cell_type": "code",
   "execution_count": 63,
   "metadata": {},
   "outputs": [
    {
     "name": "stderr",
     "output_type": "stream",
     "text": [
      "Submission: 255it [00:18, 13.46it/s]\n"
     ]
    }
   ],
   "source": [
    "# Make submission\n",
    "with open(f'{SUBMISSION_NAME}.csv', 'w') as f:\n",
    "    f.write(f'id,{\",\".join(gene_names)}\\n')\n",
    "    for i, (id_, cell_type, sm_name) in tqdm.tqdm(enumerate(id_map), desc='Submission'):\n",
    "\n",
    "        # Predict on test sample using a simple ensembling strategy:\n",
    "        # take the median of the predictions across the different models\n",
    "        y_hat = []\n",
    "        for model in models:\n",
    "            model = model.cpu()\n",
    "            x = X_submit[i, :]\n",
    "            y_hat.append(np.squeeze(model.forward(x.unsqueeze(0)).cpu().data.numpy()))\n",
    "        y_hat = np.median(y_hat, axis=0)\n",
    "\n",
    "        # Write predictions in output file\n",
    "        values = [f'{x:.5f}' for x in y_hat]\n",
    "        f.write(f'{id_},{\",\".join(values)}\\n')"
   ]
  },
  {
   "cell_type": "code",
   "execution_count": 64,
   "metadata": {},
   "outputs": [],
   "source": [
    "sub1 = pd.read_csv('dl200.csv',index_col='id')\n",
    "# sub2 = pd.read_csv('dl40.csv',index_col='id')"
   ]
  },
  {
   "cell_type": "code",
   "execution_count": 59,
   "metadata": {},
   "outputs": [
    {
     "data": {
      "text/html": [
       "<div>\n",
       "<style scoped>\n",
       "    .dataframe tbody tr th:only-of-type {\n",
       "        vertical-align: middle;\n",
       "    }\n",
       "\n",
       "    .dataframe tbody tr th {\n",
       "        vertical-align: top;\n",
       "    }\n",
       "\n",
       "    .dataframe thead th {\n",
       "        text-align: right;\n",
       "    }\n",
       "</style>\n",
       "<table border=\"1\" class=\"dataframe\">\n",
       "  <thead>\n",
       "    <tr style=\"text-align: right;\">\n",
       "      <th></th>\n",
       "      <th>A1BG</th>\n",
       "      <th>A1BG-AS1</th>\n",
       "      <th>A2M</th>\n",
       "      <th>A2M-AS1</th>\n",
       "      <th>A2MP1</th>\n",
       "      <th>A4GALT</th>\n",
       "      <th>AAAS</th>\n",
       "      <th>AACS</th>\n",
       "      <th>AAGAB</th>\n",
       "      <th>AAK1</th>\n",
       "      <th>...</th>\n",
       "      <th>ZUP1</th>\n",
       "      <th>ZW10</th>\n",
       "      <th>ZWILCH</th>\n",
       "      <th>ZWINT</th>\n",
       "      <th>ZXDA</th>\n",
       "      <th>ZXDB</th>\n",
       "      <th>ZXDC</th>\n",
       "      <th>ZYG11B</th>\n",
       "      <th>ZYX</th>\n",
       "      <th>ZZEF1</th>\n",
       "    </tr>\n",
       "    <tr>\n",
       "      <th>id</th>\n",
       "      <th></th>\n",
       "      <th></th>\n",
       "      <th></th>\n",
       "      <th></th>\n",
       "      <th></th>\n",
       "      <th></th>\n",
       "      <th></th>\n",
       "      <th></th>\n",
       "      <th></th>\n",
       "      <th></th>\n",
       "      <th></th>\n",
       "      <th></th>\n",
       "      <th></th>\n",
       "      <th></th>\n",
       "      <th></th>\n",
       "      <th></th>\n",
       "      <th></th>\n",
       "      <th></th>\n",
       "      <th></th>\n",
       "      <th></th>\n",
       "      <th></th>\n",
       "    </tr>\n",
       "  </thead>\n",
       "  <tbody>\n",
       "    <tr>\n",
       "      <th>0</th>\n",
       "      <td>0.135080</td>\n",
       "      <td>-0.199140</td>\n",
       "      <td>0.300590</td>\n",
       "      <td>1.302350</td>\n",
       "      <td>0.707475</td>\n",
       "      <td>0.328380</td>\n",
       "      <td>0.033740</td>\n",
       "      <td>0.011425</td>\n",
       "      <td>-0.492765</td>\n",
       "      <td>0.102895</td>\n",
       "      <td>...</td>\n",
       "      <td>-0.592390</td>\n",
       "      <td>-0.530415</td>\n",
       "      <td>0.102445</td>\n",
       "      <td>0.216930</td>\n",
       "      <td>0.125175</td>\n",
       "      <td>0.331415</td>\n",
       "      <td>0.315000</td>\n",
       "      <td>0.367560</td>\n",
       "      <td>-0.225730</td>\n",
       "      <td>0.458110</td>\n",
       "    </tr>\n",
       "    <tr>\n",
       "      <th>1</th>\n",
       "      <td>-0.032205</td>\n",
       "      <td>-0.016055</td>\n",
       "      <td>0.181645</td>\n",
       "      <td>0.068135</td>\n",
       "      <td>0.448730</td>\n",
       "      <td>0.252085</td>\n",
       "      <td>-0.140980</td>\n",
       "      <td>-0.027340</td>\n",
       "      <td>0.445955</td>\n",
       "      <td>0.013715</td>\n",
       "      <td>...</td>\n",
       "      <td>0.291235</td>\n",
       "      <td>0.073345</td>\n",
       "      <td>-0.099400</td>\n",
       "      <td>0.042555</td>\n",
       "      <td>0.078070</td>\n",
       "      <td>-0.123555</td>\n",
       "      <td>0.116775</td>\n",
       "      <td>-0.088590</td>\n",
       "      <td>0.008060</td>\n",
       "      <td>-0.025405</td>\n",
       "    </tr>\n",
       "    <tr>\n",
       "      <th>2</th>\n",
       "      <td>0.384940</td>\n",
       "      <td>0.228895</td>\n",
       "      <td>0.206315</td>\n",
       "      <td>0.153275</td>\n",
       "      <td>0.737170</td>\n",
       "      <td>1.093950</td>\n",
       "      <td>0.481800</td>\n",
       "      <td>0.101620</td>\n",
       "      <td>0.047955</td>\n",
       "      <td>0.151545</td>\n",
       "      <td>...</td>\n",
       "      <td>0.096620</td>\n",
       "      <td>-0.065110</td>\n",
       "      <td>-0.004935</td>\n",
       "      <td>0.563440</td>\n",
       "      <td>0.064115</td>\n",
       "      <td>0.151720</td>\n",
       "      <td>0.251335</td>\n",
       "      <td>-0.007675</td>\n",
       "      <td>-0.158520</td>\n",
       "      <td>-0.440470</td>\n",
       "    </tr>\n",
       "    <tr>\n",
       "      <th>3</th>\n",
       "      <td>-0.020810</td>\n",
       "      <td>0.316695</td>\n",
       "      <td>0.177540</td>\n",
       "      <td>0.305385</td>\n",
       "      <td>0.212665</td>\n",
       "      <td>0.022855</td>\n",
       "      <td>-0.141430</td>\n",
       "      <td>0.454500</td>\n",
       "      <td>0.128015</td>\n",
       "      <td>0.287015</td>\n",
       "      <td>...</td>\n",
       "      <td>-0.100210</td>\n",
       "      <td>0.050095</td>\n",
       "      <td>0.095645</td>\n",
       "      <td>0.380320</td>\n",
       "      <td>-0.107205</td>\n",
       "      <td>-0.020840</td>\n",
       "      <td>0.018470</td>\n",
       "      <td>0.190845</td>\n",
       "      <td>-0.097165</td>\n",
       "      <td>0.149290</td>\n",
       "    </tr>\n",
       "    <tr>\n",
       "      <th>4</th>\n",
       "      <td>0.188155</td>\n",
       "      <td>-0.256550</td>\n",
       "      <td>0.240845</td>\n",
       "      <td>0.382040</td>\n",
       "      <td>0.312735</td>\n",
       "      <td>0.181700</td>\n",
       "      <td>-0.180970</td>\n",
       "      <td>0.070895</td>\n",
       "      <td>-0.055465</td>\n",
       "      <td>0.327945</td>\n",
       "      <td>...</td>\n",
       "      <td>-0.563580</td>\n",
       "      <td>-0.049515</td>\n",
       "      <td>-0.123235</td>\n",
       "      <td>-0.063850</td>\n",
       "      <td>-0.042170</td>\n",
       "      <td>0.209955</td>\n",
       "      <td>-0.073295</td>\n",
       "      <td>0.536615</td>\n",
       "      <td>-0.017725</td>\n",
       "      <td>0.092500</td>\n",
       "    </tr>\n",
       "    <tr>\n",
       "      <th>...</th>\n",
       "      <td>...</td>\n",
       "      <td>...</td>\n",
       "      <td>...</td>\n",
       "      <td>...</td>\n",
       "      <td>...</td>\n",
       "      <td>...</td>\n",
       "      <td>...</td>\n",
       "      <td>...</td>\n",
       "      <td>...</td>\n",
       "      <td>...</td>\n",
       "      <td>...</td>\n",
       "      <td>...</td>\n",
       "      <td>...</td>\n",
       "      <td>...</td>\n",
       "      <td>...</td>\n",
       "      <td>...</td>\n",
       "      <td>...</td>\n",
       "      <td>...</td>\n",
       "      <td>...</td>\n",
       "      <td>...</td>\n",
       "      <td>...</td>\n",
       "    </tr>\n",
       "    <tr>\n",
       "      <th>250</th>\n",
       "      <td>0.048685</td>\n",
       "      <td>-0.531560</td>\n",
       "      <td>-0.378250</td>\n",
       "      <td>-0.466360</td>\n",
       "      <td>0.804150</td>\n",
       "      <td>-0.241480</td>\n",
       "      <td>0.130125</td>\n",
       "      <td>0.044910</td>\n",
       "      <td>-0.002460</td>\n",
       "      <td>0.588470</td>\n",
       "      <td>...</td>\n",
       "      <td>-0.055230</td>\n",
       "      <td>-0.201445</td>\n",
       "      <td>-0.326520</td>\n",
       "      <td>-0.349485</td>\n",
       "      <td>-0.064155</td>\n",
       "      <td>-0.341925</td>\n",
       "      <td>-0.244795</td>\n",
       "      <td>-0.202545</td>\n",
       "      <td>-0.007475</td>\n",
       "      <td>0.143950</td>\n",
       "    </tr>\n",
       "    <tr>\n",
       "      <th>251</th>\n",
       "      <td>0.240435</td>\n",
       "      <td>-0.341550</td>\n",
       "      <td>-0.042230</td>\n",
       "      <td>0.259940</td>\n",
       "      <td>1.209695</td>\n",
       "      <td>0.434695</td>\n",
       "      <td>-0.023120</td>\n",
       "      <td>-0.240685</td>\n",
       "      <td>-0.026105</td>\n",
       "      <td>0.297500</td>\n",
       "      <td>...</td>\n",
       "      <td>-0.122390</td>\n",
       "      <td>-0.259755</td>\n",
       "      <td>0.042265</td>\n",
       "      <td>-0.149055</td>\n",
       "      <td>0.337625</td>\n",
       "      <td>-0.178380</td>\n",
       "      <td>-0.440950</td>\n",
       "      <td>0.121970</td>\n",
       "      <td>-0.358505</td>\n",
       "      <td>-0.193050</td>\n",
       "    </tr>\n",
       "    <tr>\n",
       "      <th>252</th>\n",
       "      <td>-0.005855</td>\n",
       "      <td>0.355950</td>\n",
       "      <td>-0.455675</td>\n",
       "      <td>-0.238405</td>\n",
       "      <td>0.729305</td>\n",
       "      <td>-0.054275</td>\n",
       "      <td>-0.043150</td>\n",
       "      <td>-0.385735</td>\n",
       "      <td>0.132480</td>\n",
       "      <td>0.421420</td>\n",
       "      <td>...</td>\n",
       "      <td>-0.108220</td>\n",
       "      <td>-0.129780</td>\n",
       "      <td>0.278950</td>\n",
       "      <td>-0.163795</td>\n",
       "      <td>0.162210</td>\n",
       "      <td>-0.192060</td>\n",
       "      <td>-0.413285</td>\n",
       "      <td>-0.009065</td>\n",
       "      <td>0.111675</td>\n",
       "      <td>-0.335165</td>\n",
       "    </tr>\n",
       "    <tr>\n",
       "      <th>253</th>\n",
       "      <td>0.297225</td>\n",
       "      <td>0.096460</td>\n",
       "      <td>-0.062750</td>\n",
       "      <td>0.050750</td>\n",
       "      <td>2.555780</td>\n",
       "      <td>0.380040</td>\n",
       "      <td>0.877765</td>\n",
       "      <td>0.683745</td>\n",
       "      <td>1.774220</td>\n",
       "      <td>1.225480</td>\n",
       "      <td>...</td>\n",
       "      <td>0.078790</td>\n",
       "      <td>0.130220</td>\n",
       "      <td>-0.550470</td>\n",
       "      <td>-0.262290</td>\n",
       "      <td>-0.014390</td>\n",
       "      <td>0.282620</td>\n",
       "      <td>-0.294245</td>\n",
       "      <td>-0.003825</td>\n",
       "      <td>-0.107860</td>\n",
       "      <td>0.151945</td>\n",
       "    </tr>\n",
       "    <tr>\n",
       "      <th>254</th>\n",
       "      <td>-0.141550</td>\n",
       "      <td>0.096820</td>\n",
       "      <td>-0.161845</td>\n",
       "      <td>-0.316800</td>\n",
       "      <td>0.929180</td>\n",
       "      <td>0.346160</td>\n",
       "      <td>-0.010635</td>\n",
       "      <td>0.489765</td>\n",
       "      <td>0.097545</td>\n",
       "      <td>-0.108355</td>\n",
       "      <td>...</td>\n",
       "      <td>-0.021060</td>\n",
       "      <td>-0.032080</td>\n",
       "      <td>-0.293940</td>\n",
       "      <td>-0.230645</td>\n",
       "      <td>0.108225</td>\n",
       "      <td>-0.003155</td>\n",
       "      <td>-0.335885</td>\n",
       "      <td>-0.111950</td>\n",
       "      <td>-0.706885</td>\n",
       "      <td>-0.367960</td>\n",
       "    </tr>\n",
       "  </tbody>\n",
       "</table>\n",
       "<p>255 rows × 18211 columns</p>\n",
       "</div>"
      ],
      "text/plain": [
       "         A1BG  A1BG-AS1       A2M   A2M-AS1     A2MP1    A4GALT      AAAS  \\\n",
       "id                                                                          \n",
       "0    0.135080 -0.199140  0.300590  1.302350  0.707475  0.328380  0.033740   \n",
       "1   -0.032205 -0.016055  0.181645  0.068135  0.448730  0.252085 -0.140980   \n",
       "2    0.384940  0.228895  0.206315  0.153275  0.737170  1.093950  0.481800   \n",
       "3   -0.020810  0.316695  0.177540  0.305385  0.212665  0.022855 -0.141430   \n",
       "4    0.188155 -0.256550  0.240845  0.382040  0.312735  0.181700 -0.180970   \n",
       "..        ...       ...       ...       ...       ...       ...       ...   \n",
       "250  0.048685 -0.531560 -0.378250 -0.466360  0.804150 -0.241480  0.130125   \n",
       "251  0.240435 -0.341550 -0.042230  0.259940  1.209695  0.434695 -0.023120   \n",
       "252 -0.005855  0.355950 -0.455675 -0.238405  0.729305 -0.054275 -0.043150   \n",
       "253  0.297225  0.096460 -0.062750  0.050750  2.555780  0.380040  0.877765   \n",
       "254 -0.141550  0.096820 -0.161845 -0.316800  0.929180  0.346160 -0.010635   \n",
       "\n",
       "         AACS     AAGAB      AAK1  ...      ZUP1      ZW10    ZWILCH  \\\n",
       "id                                 ...                                 \n",
       "0    0.011425 -0.492765  0.102895  ... -0.592390 -0.530415  0.102445   \n",
       "1   -0.027340  0.445955  0.013715  ...  0.291235  0.073345 -0.099400   \n",
       "2    0.101620  0.047955  0.151545  ...  0.096620 -0.065110 -0.004935   \n",
       "3    0.454500  0.128015  0.287015  ... -0.100210  0.050095  0.095645   \n",
       "4    0.070895 -0.055465  0.327945  ... -0.563580 -0.049515 -0.123235   \n",
       "..        ...       ...       ...  ...       ...       ...       ...   \n",
       "250  0.044910 -0.002460  0.588470  ... -0.055230 -0.201445 -0.326520   \n",
       "251 -0.240685 -0.026105  0.297500  ... -0.122390 -0.259755  0.042265   \n",
       "252 -0.385735  0.132480  0.421420  ... -0.108220 -0.129780  0.278950   \n",
       "253  0.683745  1.774220  1.225480  ...  0.078790  0.130220 -0.550470   \n",
       "254  0.489765  0.097545 -0.108355  ... -0.021060 -0.032080 -0.293940   \n",
       "\n",
       "        ZWINT      ZXDA      ZXDB      ZXDC    ZYG11B       ZYX     ZZEF1  \n",
       "id                                                                         \n",
       "0    0.216930  0.125175  0.331415  0.315000  0.367560 -0.225730  0.458110  \n",
       "1    0.042555  0.078070 -0.123555  0.116775 -0.088590  0.008060 -0.025405  \n",
       "2    0.563440  0.064115  0.151720  0.251335 -0.007675 -0.158520 -0.440470  \n",
       "3    0.380320 -0.107205 -0.020840  0.018470  0.190845 -0.097165  0.149290  \n",
       "4   -0.063850 -0.042170  0.209955 -0.073295  0.536615 -0.017725  0.092500  \n",
       "..        ...       ...       ...       ...       ...       ...       ...  \n",
       "250 -0.349485 -0.064155 -0.341925 -0.244795 -0.202545 -0.007475  0.143950  \n",
       "251 -0.149055  0.337625 -0.178380 -0.440950  0.121970 -0.358505 -0.193050  \n",
       "252 -0.163795  0.162210 -0.192060 -0.413285 -0.009065  0.111675 -0.335165  \n",
       "253 -0.262290 -0.014390  0.282620 -0.294245 -0.003825 -0.107860  0.151945  \n",
       "254 -0.230645  0.108225 -0.003155 -0.335885 -0.111950 -0.706885 -0.367960  \n",
       "\n",
       "[255 rows x 18211 columns]"
      ]
     },
     "execution_count": 59,
     "metadata": {},
     "output_type": "execute_result"
    }
   ],
   "source": [
    "Y_submit_final"
   ]
  },
  {
   "cell_type": "code",
   "execution_count": 60,
   "metadata": {},
   "outputs": [],
   "source": [
    "Y_submit_final.to_csv('ensemble.csv')"
   ]
  },
  {
   "cell_type": "markdown",
   "metadata": {},
   "source": [
    "## ensemble"
   ]
  },
  {
   "cell_type": "code",
   "execution_count": null,
   "metadata": {},
   "outputs": [],
   "source": [
    "EXTRA_FOLDER = '/kaggle/input/op2-submissions'\n",
    "\n",
    "df_dl40 = pd.read_csv(os.path.join(EXTRA_FOLDER, 'dl40.csv'), index_col='id')\n",
    "df_dl200 = pd.read_csv(os.path.join(EXTRA_FOLDER, 'dl200.csv'), index_col='id')\n",
    "df_dl_bio_nets = pd.read_csv(os.path.join(EXTRA_FOLDER, 'op2-bio-nets.csv'), index_col='id')embling\n",
    "df_public = pd.read_csv(os.path.join(EXTRA_FOLDER, 'best-public3.csv'), index_col='id')"
   ]
  },
  {
   "cell_type": "code",
   "execution_count": null,
   "metadata": {},
   "outputs": [],
   "source": [
    "Y = np.asarray([df_dl40, df_dl200, df_dl_bio_nets, df_public]).reshape(4, -1)\n",
    "Y.shape"
   ]
  },
  {
   "cell_type": "code",
   "execution_count": null,
   "metadata": {},
   "outputs": [],
   "source": [
    "# For each (cell_type, compound) pair, we store the weighted mean\n",
    "# and weighted standard deviation in a dict.\n",
    "mu_prior = {}\n",
    "sigma_prior = {}\n",
    "for sm_name in tqdm.tqdm(unique_sm_names):\n",
    "    for cell_type in unique_cell_types:\n",
    "        weights = np.zeros(len(data))\n",
    "        \n",
    "        # Re-weight to account for data imbalance\n",
    "        weights[sm_names == sm_name] = 1.0\n",
    "        weights[cell_types == cell_type] = 0.1\n",
    "        \n",
    "        # Compute weighted averages and weighted standard deviations\n",
    "        mu_prior[(sm_name, cell_type)] = np.average(data, axis=0, weights=weights)\n",
    "        sigma_prior[(sm_name, cell_type)] = np.sqrt(np.average(np.square(data - mu_prior[(sm_name, cell_type)][np.newaxis, :]), weights=weights, axis=0))"
   ]
  },
  {
   "cell_type": "code",
   "execution_count": null,
   "metadata": {},
   "outputs": [],
   "source": [
    "# Load test set's ID mapping\n",
    "id_map = []\n",
    "with open(os.path.join(DATA_FOLDER, 'id_map.csv'), 'r') as f:\n",
    "    lines = f.readlines()[1:]\n",
    "    for line in lines:\n",
    "        id_map.append(line.rstrip().split(',')[1:])\n",
    "        assert len(id_map[-1]) == 2\n",
    "\n",
    "# Store the prior means and standard deviations for each row of the test set\n",
    "Y_prior = []\n",
    "std_prior = []\n",
    "for sm_name, cell_type in id_map:\n",
    "    Y_prior.append(mu_prior[(cell_type, sm_name)])\n",
    "    std_prior.append(sigma_prior[(cell_type, sm_name)])\n",
    "Y_prior = np.asarray(Y_prior)\n",
    "std_prior = np.asarray(std_prior)"
   ]
  },
  {
   "cell_type": "code",
   "execution_count": null,
   "metadata": {},
   "outputs": [],
   "source": [
    "df_ensemble = df_dl40.copy()\n",
    "df_ensemble.loc[:, :] = Y_ensemble"
   ]
  },
  {
   "cell_type": "code",
   "execution_count": null,
   "metadata": {},
   "outputs": [],
   "source": [
    "# Convert final predictions to NumPy array for simplicity\n",
    "final_pred = df_ensemble.to_numpy()\n",
    "\n",
    "# Remove left-over outliers in predictions\n",
    "lb = np.min(data, axis=0)\n",
    "ub = np.max(data, axis=0)\n",
    "for i in range(len(final_pred)):\n",
    "    mask = (final_pred[i, :] > ub)\n",
    "    final_pred[i, mask] = ub[mask] + 0.0024 * (final_pred[i, mask] - ub[mask])\n",
    "    mask = (final_pred[i, :] < lb)\n",
    "    final_pred[i, mask] = lb[mask] - 0.0024 * np.abs(lb[mask] - final_pred[i, mask])"
   ]
  },
  {
   "cell_type": "code",
   "execution_count": null,
   "metadata": {},
   "outputs": [],
   "source": [
    "df_ensemble.loc[:, :] = final_pred\n",
    "df_ensemble.to_csv('submission.csv')"
   ]
  },
  {
   "cell_type": "code",
   "execution_count": 4,
   "metadata": {},
   "outputs": [],
   "source": [
    "import pandas as pd\n",
    "df = pd.read_parquet(\"../../../../output.parquet\")\n"
   ]
  },
  {
   "cell_type": "code",
   "execution_count": 7,
   "metadata": {},
   "outputs": [],
   "source": [
    "df = df.drop(columns='id')"
   ]
  },
  {
   "cell_type": "code",
   "execution_count": 10,
   "metadata": {},
   "outputs": [],
   "source": [
    "df.index.name = 'id'"
   ]
  },
  {
   "cell_type": "code",
   "execution_count": 11,
   "metadata": {},
   "outputs": [],
   "source": [
    "df.to_csv(\"../../../../output.csv\")"
   ]
  }
 ],
 "metadata": {
  "kernelspec": {
   "display_name": "py10",
   "language": "python",
   "name": "python3"
  },
  "language_info": {
   "codemirror_mode": {
    "name": "ipython",
    "version": 3
   },
   "file_extension": ".py",
   "mimetype": "text/x-python",
   "name": "python",
   "nbconvert_exporter": "python",
   "pygments_lexer": "ipython3",
   "version": "3.10.14"
  }
 },
 "nbformat": 4,
 "nbformat_minor": 2
}
