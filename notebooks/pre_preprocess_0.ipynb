{
 "cells": [
  {
   "cell_type": "code",
   "execution_count": null,
   "id": "bd8681ae-db98-47fc-85d3-739fba67ac8b",
   "metadata": {},
   "outputs": [],
   "source": []
  },
  {
   "cell_type": "code",
   "execution_count": 1,
   "id": "a4b5f8f6",
   "metadata": {},
   "outputs": [],
   "source": [
    "import pandas as pd\n",
    "import anndata as ad\n",
    "import matplotlib.pyplot as plt\n",
    "import scanpy as sc\n",
    "import seaborn as sns\n",
    "import numpy as np\n",
    "from scipy.stats import median_abs_deviation\n",
    "\n",
    "sc.settings.set_figure_params(\n",
    "    dpi=80,\n",
    "    facecolor=\"white\",\n",
    "    frameon=False,\n",
    ")\n",
    "plt.rcParams['figure.figsize'] = (4,4)\n",
    "\n",
    "\n",
    "controls2 = ['Dabrafenib', 'Belinostat']\n",
    "\n",
    "main_dir = '../'\n",
    "\n",
    "def plot_CDF(data, title='', figsize=(4,4)):\n",
    "    fig, ax = plt.subplots(1,1, figsize=figsize)\n",
    "    x = np.sort(data)\n",
    "    y = np.arange(1, len(data) + 1) / len(data)\n",
    "\n",
    "    # Plot the CDF\n",
    "    ax.plot(x, y, marker='.', linestyle='none')\n",
    "    ax.set_xlabel('Value')\n",
    "    ax.set_ylabel('Cumulative Probability')\n",
    "    ax.set_title(title)\n",
    "    ax.grid(True)\n",
    "    plt.show()\n"
   ]
  },
  {
   "cell_type": "code",
   "execution_count": 9,
   "id": "8f636649-eea1-487f-810f-bd6a8be816b3",
   "metadata": {},
   "outputs": [
    {
     "name": "stderr",
     "output_type": "stream",
     "text": [
      "/root/anaconda3/envs/py10_2/lib/python3.10/site-packages/anndata/__init__.py:51: FutureWarning: `anndata.read` is deprecated, use `anndata.read_h5ad` instead. `ad.read` will be removed in mid 2024.\n",
      "  warnings.warn(\n"
     ]
    }
   ],
   "source": [
    "sc_counts = ad.read(f'{main_dir}/input/sc_counts.h5ad')\n",
    "sc_counts.X = sc_counts.layers['counts']\n",
    "sc_counts.var_names_make_unique()\n",
    "sc_counts.obs['positive_ctr'] = sc_counts.obs.sm_name.isin(controls2)"
   ]
  },
  {
   "cell_type": "code",
   "execution_count": null,
   "id": "b8a2a8cb-0c43-4cb0-bfd8-29e64b410a9a",
   "metadata": {},
   "outputs": [],
   "source": [
    "# merge T cells\n",
    "CELL_TYPES = ['NK cells', 'T cells CD4+', 'T cells CD8+', 'T regulatory cells', 'B cells', 'Myeloid cells']\n",
    "T_cell_types = ['T regulatory cells', 'T cells CD8+', 'T cells CD4+']\n",
    "cell_type_map = {cell_type: 'T cells' if cell_type in T_cell_types else cell_type for cell_type in CELL_TYPES}\n",
    "sc_counts.obs['cell_type'] = sc_counts.obs['cell_type'].map(cell_type_map)"
   ]
  },
  {
   "cell_type": "code",
   "execution_count": null,
   "id": "ef55eb2b-1c63-4e69-8f6a-4a3a9ea37734",
   "metadata": {},
   "outputs": [],
   "source": [
    "sc_counts.obs['cell_type'].unique()"
   ]
  },
  {
   "cell_type": "code",
   "execution_count": null,
   "id": "d9db6b38-612b-4897-84ab-6d31d1442d76",
   "metadata": {},
   "outputs": [],
   "source": [
    "sc_counts.obs['plate_name'] = sc_counts.obs['plate_name'].astype(str).apply(lambda name: name.split('-')[1]).astype('category')\n",
    "# define specific id for cell type of each well \n",
    "sc_counts.obs['plate_well_cell_type'] = sc_counts.obs['plate_name'].astype('str') \\\n",
    "    + '_' + sc_counts.obs['well'].astype('str') \\\n",
    "    + '_' + sc_counts.obs['cell_type'].astype('str')\n",
    "sc_counts.obs['plate_well_cell_type'] = sc_counts.obs['plate_well_cell_type'].astype('category')"
   ]
  },
  {
   "cell_type": "markdown",
   "id": "1f06fd52",
   "metadata": {},
   "source": [
    "# QC + cell type annotation: original"
   ]
  },
  {
   "cell_type": "code",
   "execution_count": null,
   "id": "d7050315",
   "metadata": {},
   "outputs": [],
   "source": [
    "# pbmc_markers = pd.read_csv(f\"{main_dir}/output/decoupler_final_labels.csv\")"
   ]
  },
  {
   "cell_type": "code",
   "execution_count": 4,
   "id": "7f69a004",
   "metadata": {},
   "outputs": [],
   "source": [
    "if False:\n",
    "    # sc.pp.filter_genes(adata, min_cells=100)\n",
    "    # adata = adata[:,~adata.var.index.str.startswith('MT-')].copy()\n",
    "\n",
    "    import decoupler as dc\n",
    "    pbmc_markers = pd.read_csv(f\"{main_dir}/output/decoupler_final_labels.csv\")\n",
    "\n",
    "    def run_dc(adata, labels, resolution, meta_name):\n",
    "        \n",
    "        adata = adata.copy()\n",
    "        ## Run ORA:\n",
    "        dc.run_ora(\n",
    "        mat=adata,\n",
    "        net=labels,\n",
    "        source='cell_type',\n",
    "        target='genesymbol',\n",
    "        min_n=3,\n",
    "        verbose=True\n",
    "        )\n",
    "        \n",
    "        acts = dc.get_acts(adata, obsm_key='ora_estimate')\n",
    "        # We need to remove inf and set them to the maximum value observed\n",
    "        acts_v = acts.X.ravel()\n",
    "        max_e = np.nanmax(acts_v[np.isfinite(acts_v)])\n",
    "        acts.X[~np.isfinite(acts.X)] = max_e\n",
    "\n",
    "        # We can scale the obtained activities for better visualizations\n",
    "        sc.pp.scale(acts)\n",
    "        \n",
    "        df = dc.rank_sources_groups(acts, groupby='leiden_'+str(resolution), reference='rest', method='wilcoxon')\n",
    "        \n",
    "        n_ctypes = 3\n",
    "        ctypes_dict = df.groupby('group').head(n_ctypes).groupby('group')['names'].apply(lambda x: list(x)).to_dict()\n",
    "        \n",
    "        annotation_dict = df.groupby('group').head(1).set_index('group')['names'].to_dict()\n",
    "        adata.obs[str(meta_name)] = [annotation_dict[clust] for clust in adata.obs['leiden_'+str(resolution)]]\n",
    "        \n",
    "        return adata\n",
    "\n",
    "    # adata = run_dc(adata, labels= pbmc_markers, resolution=2.0, meta_name=\"cell_type\")"
   ]
  },
  {
   "cell_type": "code",
   "execution_count": 8,
   "id": "10868fc6",
   "metadata": {},
   "outputs": [
    {
     "data": {
      "text/html": [
       "<div>\n",
       "<style scoped>\n",
       "    .dataframe tbody tr th:only-of-type {\n",
       "        vertical-align: middle;\n",
       "    }\n",
       "\n",
       "    .dataframe tbody tr th {\n",
       "        vertical-align: top;\n",
       "    }\n",
       "\n",
       "    .dataframe thead th {\n",
       "        text-align: right;\n",
       "    }\n",
       "</style>\n",
       "<table border=\"1\" class=\"dataframe\">\n",
       "  <thead>\n",
       "    <tr style=\"text-align: right;\">\n",
       "      <th></th>\n",
       "      <th>genesymbol</th>\n",
       "      <th>canonical_marker</th>\n",
       "      <th>cell_type</th>\n",
       "      <th>germ_layer</th>\n",
       "      <th>human</th>\n",
       "      <th>human_sensitivity</th>\n",
       "      <th>human_specificity</th>\n",
       "      <th>mouse</th>\n",
       "      <th>mouse_sensitivity</th>\n",
       "      <th>mouse_specificity</th>\n",
       "      <th>ncbi_tax_id</th>\n",
       "      <th>organ</th>\n",
       "      <th>ubiquitiousness</th>\n",
       "    </tr>\n",
       "  </thead>\n",
       "  <tbody>\n",
       "    <tr>\n",
       "      <th>0</th>\n",
       "      <td>LYZ</td>\n",
       "      <td>True</td>\n",
       "      <td>Myeloid cells</td>\n",
       "      <td>Mesoderm</td>\n",
       "      <td>True</td>\n",
       "      <td>0.442177</td>\n",
       "      <td>0.021347</td>\n",
       "      <td>False</td>\n",
       "      <td>0.000000</td>\n",
       "      <td>0.000000</td>\n",
       "      <td>9606.0</td>\n",
       "      <td>Immune system</td>\n",
       "      <td>0.008</td>\n",
       "    </tr>\n",
       "    <tr>\n",
       "      <th>1</th>\n",
       "      <td>FABP4</td>\n",
       "      <td>True</td>\n",
       "      <td>Myeloid cells</td>\n",
       "      <td>Mesoderm</td>\n",
       "      <td>True</td>\n",
       "      <td>0.034014</td>\n",
       "      <td>0.009195</td>\n",
       "      <td>True</td>\n",
       "      <td>0.023810</td>\n",
       "      <td>0.033263</td>\n",
       "      <td>9606.0</td>\n",
       "      <td>Immune system</td>\n",
       "      <td>0.028</td>\n",
       "    </tr>\n",
       "    <tr>\n",
       "      <th>2</th>\n",
       "      <td>ZBTB16</td>\n",
       "      <td>True</td>\n",
       "      <td>NK cells</td>\n",
       "      <td>Mesoderm</td>\n",
       "      <td>True</td>\n",
       "      <td>0.000000</td>\n",
       "      <td>0.012187</td>\n",
       "      <td>True</td>\n",
       "      <td>0.000000</td>\n",
       "      <td>0.000000</td>\n",
       "      <td>9606.0</td>\n",
       "      <td>Immune system</td>\n",
       "      <td>0.007</td>\n",
       "    </tr>\n",
       "    <tr>\n",
       "      <th>3</th>\n",
       "      <td>DPP4</td>\n",
       "      <td>True</td>\n",
       "      <td>NK cells</td>\n",
       "      <td>Mesoderm</td>\n",
       "      <td>True</td>\n",
       "      <td>0.000000</td>\n",
       "      <td>0.013470</td>\n",
       "      <td>True</td>\n",
       "      <td>0.000000</td>\n",
       "      <td>0.021432</td>\n",
       "      <td>9606.0</td>\n",
       "      <td>Immune system</td>\n",
       "      <td>0.020</td>\n",
       "    </tr>\n",
       "    <tr>\n",
       "      <th>4</th>\n",
       "      <td>DPP4</td>\n",
       "      <td>True</td>\n",
       "      <td>Myeloid cells</td>\n",
       "      <td>Mesoderm</td>\n",
       "      <td>True</td>\n",
       "      <td>0.000000</td>\n",
       "      <td>0.013793</td>\n",
       "      <td>True</td>\n",
       "      <td>0.428571</td>\n",
       "      <td>0.020202</td>\n",
       "      <td>9606.0</td>\n",
       "      <td>Immune system</td>\n",
       "      <td>0.020</td>\n",
       "    </tr>\n",
       "    <tr>\n",
       "      <th>...</th>\n",
       "      <td>...</td>\n",
       "      <td>...</td>\n",
       "      <td>...</td>\n",
       "      <td>...</td>\n",
       "      <td>...</td>\n",
       "      <td>...</td>\n",
       "      <td>...</td>\n",
       "      <td>...</td>\n",
       "      <td>...</td>\n",
       "      <td>...</td>\n",
       "      <td>...</td>\n",
       "      <td>...</td>\n",
       "      <td>...</td>\n",
       "    </tr>\n",
       "    <tr>\n",
       "      <th>263</th>\n",
       "      <td>LDHB</td>\n",
       "      <td>True</td>\n",
       "      <td>T cells CD4+</td>\n",
       "      <td>NaN</td>\n",
       "      <td>NaN</td>\n",
       "      <td>NaN</td>\n",
       "      <td>NaN</td>\n",
       "      <td>NaN</td>\n",
       "      <td>NaN</td>\n",
       "      <td>NaN</td>\n",
       "      <td>NaN</td>\n",
       "      <td>NaN</td>\n",
       "      <td>NaN</td>\n",
       "    </tr>\n",
       "    <tr>\n",
       "      <th>264</th>\n",
       "      <td>TPT1</td>\n",
       "      <td>True</td>\n",
       "      <td>T cells CD4+</td>\n",
       "      <td>NaN</td>\n",
       "      <td>NaN</td>\n",
       "      <td>NaN</td>\n",
       "      <td>NaN</td>\n",
       "      <td>NaN</td>\n",
       "      <td>NaN</td>\n",
       "      <td>NaN</td>\n",
       "      <td>NaN</td>\n",
       "      <td>NaN</td>\n",
       "      <td>NaN</td>\n",
       "    </tr>\n",
       "    <tr>\n",
       "      <th>265</th>\n",
       "      <td>TRAC</td>\n",
       "      <td>True</td>\n",
       "      <td>T cells CD4+</td>\n",
       "      <td>NaN</td>\n",
       "      <td>NaN</td>\n",
       "      <td>NaN</td>\n",
       "      <td>NaN</td>\n",
       "      <td>NaN</td>\n",
       "      <td>NaN</td>\n",
       "      <td>NaN</td>\n",
       "      <td>NaN</td>\n",
       "      <td>NaN</td>\n",
       "      <td>NaN</td>\n",
       "    </tr>\n",
       "    <tr>\n",
       "      <th>266</th>\n",
       "      <td>CD3D</td>\n",
       "      <td>True</td>\n",
       "      <td>T cells CD4+</td>\n",
       "      <td>NaN</td>\n",
       "      <td>NaN</td>\n",
       "      <td>NaN</td>\n",
       "      <td>NaN</td>\n",
       "      <td>NaN</td>\n",
       "      <td>NaN</td>\n",
       "      <td>NaN</td>\n",
       "      <td>NaN</td>\n",
       "      <td>NaN</td>\n",
       "      <td>NaN</td>\n",
       "    </tr>\n",
       "    <tr>\n",
       "      <th>267</th>\n",
       "      <td>CD3G</td>\n",
       "      <td>True</td>\n",
       "      <td>T cells CD4+</td>\n",
       "      <td>NaN</td>\n",
       "      <td>NaN</td>\n",
       "      <td>NaN</td>\n",
       "      <td>NaN</td>\n",
       "      <td>NaN</td>\n",
       "      <td>NaN</td>\n",
       "      <td>NaN</td>\n",
       "      <td>NaN</td>\n",
       "      <td>NaN</td>\n",
       "      <td>NaN</td>\n",
       "    </tr>\n",
       "  </tbody>\n",
       "</table>\n",
       "<p>268 rows × 13 columns</p>\n",
       "</div>"
      ],
      "text/plain": [
       "    genesymbol  canonical_marker      cell_type germ_layer human  \\\n",
       "0          LYZ              True  Myeloid cells   Mesoderm  True   \n",
       "1        FABP4              True  Myeloid cells   Mesoderm  True   \n",
       "2       ZBTB16              True       NK cells   Mesoderm  True   \n",
       "3         DPP4              True       NK cells   Mesoderm  True   \n",
       "4         DPP4              True  Myeloid cells   Mesoderm  True   \n",
       "..         ...               ...            ...        ...   ...   \n",
       "263       LDHB              True   T cells CD4+        NaN   NaN   \n",
       "264       TPT1              True   T cells CD4+        NaN   NaN   \n",
       "265       TRAC              True   T cells CD4+        NaN   NaN   \n",
       "266       CD3D              True   T cells CD4+        NaN   NaN   \n",
       "267       CD3G              True   T cells CD4+        NaN   NaN   \n",
       "\n",
       "     human_sensitivity  human_specificity  mouse  mouse_sensitivity  \\\n",
       "0             0.442177           0.021347  False           0.000000   \n",
       "1             0.034014           0.009195   True           0.023810   \n",
       "2             0.000000           0.012187   True           0.000000   \n",
       "3             0.000000           0.013470   True           0.000000   \n",
       "4             0.000000           0.013793   True           0.428571   \n",
       "..                 ...                ...    ...                ...   \n",
       "263                NaN                NaN    NaN                NaN   \n",
       "264                NaN                NaN    NaN                NaN   \n",
       "265                NaN                NaN    NaN                NaN   \n",
       "266                NaN                NaN    NaN                NaN   \n",
       "267                NaN                NaN    NaN                NaN   \n",
       "\n",
       "     mouse_specificity  ncbi_tax_id          organ  ubiquitiousness  \n",
       "0             0.000000       9606.0  Immune system            0.008  \n",
       "1             0.033263       9606.0  Immune system            0.028  \n",
       "2             0.000000       9606.0  Immune system            0.007  \n",
       "3             0.021432       9606.0  Immune system            0.020  \n",
       "4             0.020202       9606.0  Immune system            0.020  \n",
       "..                 ...          ...            ...              ...  \n",
       "263                NaN          NaN            NaN              NaN  \n",
       "264                NaN          NaN            NaN              NaN  \n",
       "265                NaN          NaN            NaN              NaN  \n",
       "266                NaN          NaN            NaN              NaN  \n",
       "267                NaN          NaN            NaN              NaN  \n",
       "\n",
       "[268 rows x 13 columns]"
      ]
     },
     "execution_count": 8,
     "metadata": {},
     "output_type": "execute_result"
    }
   ],
   "source": [
    "pbmc_markers"
   ]
  },
  {
   "cell_type": "markdown",
   "id": "115a5720-c3f1-43f9-9f67-e3e5d6167c80",
   "metadata": {},
   "source": [
    "# QC"
   ]
  },
  {
   "cell_type": "code",
   "execution_count": null,
   "id": "24606c91",
   "metadata": {},
   "outputs": [],
   "source": [
    "import sctk\n",
    "sctk.calculate_qc(sc_counts)\n",
    "sc_counts"
   ]
  },
  {
   "cell_type": "code",
   "execution_count": null,
   "id": "3fe946c4",
   "metadata": {},
   "outputs": [],
   "source": [
    "sc.set_figure_params(figsize=(6,6))\n",
    "p3 = sc.pl.scatter(sc_counts, \"n_counts\", \"n_genes\", color=\"cell_type\", size=30, alpha=.5)"
   ]
  },
  {
   "cell_type": "code",
   "execution_count": null,
   "id": "a930a520",
   "metadata": {},
   "outputs": [],
   "source": [
    "sc.set_figure_params(figsize=(4,4))\n",
    "fig, axes = plt.subplots(2, 2, figsize=(14,10))\n",
    "for i_celltype, cell_type in enumerate(sc_counts.obs.cell_type.unique()):\n",
    "    ii = i_celltype // 2\n",
    "    jj = i_celltype % 2\n",
    "    ax = axes[ii][jj]\n",
    "    \n",
    "    mask = sc_counts.obs.cell_type == cell_type\n",
    "    sc_counts_subset = sc_counts[mask,:]\n",
    "    legend_loc = 'none'\n",
    "    # if i_celltype==3:\n",
    "    #     legend_loc = 'upper right'\n",
    "    xx = sc_counts_subset.obs.n_counts\n",
    "    yy = sc_counts_subset.obs.n_genes\n",
    "    color = sc_counts_subset.obs.percent_mito\n",
    "    \n",
    "    scatter  = ax.scatter(xx, yy, c=color, s=20, alpha=.3, cmap='coolwarm')\n",
    "    ax.set_xlabel('n_counts')\n",
    "    ax.set_ylabel('n_genes')\n",
    "    ax.set_xlim([0, 32000])\n",
    "    ax.set_ylim([0, 6000])\n",
    "    ax.set_title(cell_type)\n",
    "    fig.colorbar(scatter, ax=ax)  # Add a color bar with label\n",
    "\n",
    "plt.tight_layout()\n",
    "plt.show()"
   ]
  },
  {
   "cell_type": "code",
   "execution_count": null,
   "id": "687f0cc6",
   "metadata": {},
   "outputs": [],
   "source": [
    "sctk.cellwise_qc(sc_counts)"
   ]
  },
  {
   "cell_type": "code",
   "execution_count": null,
   "id": "f8fa28cd",
   "metadata": {},
   "outputs": [],
   "source": [
    "sctk.default_metric_params_df"
   ]
  },
  {
   "cell_type": "code",
   "execution_count": null,
   "id": "9353c151",
   "metadata": {},
   "outputs": [],
   "source": [
    "# for cells\n",
    "print('n_counts:', sc_counts.obs.n_counts.min(), sc_counts.obs.n_counts.max())\n",
    "print('n_genes:', sc_counts.obs.n_genes.min(), sc_counts.obs.n_genes.max())\n",
    "print('percent_mito:', sc_counts.obs.percent_mito.min(), sc_counts.obs.percent_mito.max())\n",
    "print('percent_ribo:', sc_counts.obs.percent_ribo.min(), sc_counts.obs.percent_ribo.max())\n",
    "print('percent_hb:', sc_counts.obs.percent_hb.min(), sc_counts.obs.percent_hb.max())"
   ]
  },
  {
   "cell_type": "markdown",
   "id": "93caf47f",
   "metadata": {},
   "source": [
    "## Automatic filtering"
   ]
  },
  {
   "cell_type": "code",
   "execution_count": null,
   "id": "7ece6aaf",
   "metadata": {},
   "outputs": [],
   "source": [
    "metrics_list = [\"log1p_n_counts\", \"log1p_n_genes\", \"percent_mito\", \"percent_ribo\", \"percent_hb\"]\n",
    "sctk.generate_qc_clusters(sc_counts, metrics = metrics_list)\n",
    "sc_counts"
   ]
  },
  {
   "cell_type": "code",
   "execution_count": null,
   "id": "5a7cda5e",
   "metadata": {},
   "outputs": [],
   "source": [
    "sc.pl.embedding(sc_counts, \"X_umap_qc\", color=[\"qc_cluster\", \"log1p_n_counts\"], color_map=\"OrRd\")\n"
   ]
  },
  {
   "cell_type": "code",
   "execution_count": null,
   "id": "4fe246af",
   "metadata": {},
   "outputs": [],
   "source": [
    "sctk.clusterwise_qc(sc_counts)\n",
    "sc_counts"
   ]
  },
  {
   "cell_type": "code",
   "execution_count": null,
   "id": "864be8f8",
   "metadata": {},
   "outputs": [],
   "source": [
    "#this won't be necessary in scanpy 1.10.0, booleans will become directly plottable\n",
    "for col in ['cell_passed_qc', 'cluster_passed_qc']:\n",
    "    sc_counts.obs[col+\"_int\"] = sc_counts.obs[col].astype(int)\n",
    "sc.pl.embedding(sc_counts, \"X_umap_qc\", color=[\"cell_passed_qc_int\", \"cluster_passed_qc_int\"])\n"
   ]
  },
  {
   "cell_type": "markdown",
   "id": "de511512",
   "metadata": {},
   "source": [
    "the discrepency between cluster outlier and single cell outliers is extreme. we fall back to manual filtering."
   ]
  },
  {
   "cell_type": "markdown",
   "id": "fb9a1ae5",
   "metadata": {},
   "source": [
    "## Manual filtering"
   ]
  },
  {
   "cell_type": "markdown",
   "id": "0e84b640",
   "metadata": {},
   "source": [
    "### Cell wise"
   ]
  },
  {
   "cell_type": "code",
   "execution_count": null,
   "id": "ed9665f8",
   "metadata": {},
   "outputs": [],
   "source": [
    "plot_CDF(sc_counts.obs.n_counts, 'n_counts')\n",
    "plot_CDF(sc_counts.obs.n_genes, 'n_genes')\n",
    "plot_CDF(sc_counts.obs.percent_hb, 'percent_hb')"
   ]
  },
  {
   "cell_type": "code",
   "execution_count": null,
   "id": "b4951580",
   "metadata": {},
   "outputs": [],
   "source": [
    "# for cells\n",
    "print('n_counts:', sc_counts.obs.n_counts.min(), sc_counts.obs.n_counts.max())\n",
    "print('n_genes:', sc_counts.obs.n_genes.min(), sc_counts.obs.n_genes.max())\n",
    "print('percent_mito:', sc_counts.obs.percent_mito.min(), sc_counts.obs.percent_mito.max())\n",
    "print('percent_ribo:', sc_counts.obs.percent_ribo.min(), sc_counts.obs.percent_ribo.max())\n",
    "print('percent_hb:', sc_counts.obs.percent_hb.min(), sc_counts.obs.percent_hb.max())"
   ]
  },
  {
   "cell_type": "code",
   "execution_count": null,
   "id": "ad052b06",
   "metadata": {},
   "outputs": [],
   "source": [
    "filter_percent_hb = sc_counts.obs.percent_hb>.2\n",
    "filter_percent_hb.sum()\n"
   ]
  },
  {
   "cell_type": "code",
   "execution_count": null,
   "id": "8267813d",
   "metadata": {},
   "outputs": [],
   "source": [
    "sc_counts[filter_percent_hb,:].obs.plate_name.unique()\n"
   ]
  },
  {
   "cell_type": "code",
   "execution_count": null,
   "id": "c04a5adb",
   "metadata": {},
   "outputs": [],
   "source": [
    "filter_n_genes = sc_counts.obs.n_genes<1000\n",
    "filter_n_genes.sum()"
   ]
  },
  {
   "cell_type": "code",
   "execution_count": null,
   "id": "0221b6ac",
   "metadata": {},
   "outputs": [],
   "source": [
    "sc_counts[filter_n_genes,:].obs.sm_name"
   ]
  },
  {
   "cell_type": "markdown",
   "id": "d11b10c5",
   "metadata": {},
   "source": [
    "### Gene wise"
   ]
  },
  {
   "cell_type": "code",
   "execution_count": null,
   "id": "6c793c14",
   "metadata": {},
   "outputs": [],
   "source": [
    "# for genes\n",
    "print('n_cells:', sc_counts.var.n_cells.min(), sc_counts.var.n_cells.max())"
   ]
  },
  {
   "cell_type": "code",
   "execution_count": null,
   "id": "b664d0bc-4890-449f-a2e3-563b63211017",
   "metadata": {},
   "outputs": [],
   "source": [
    "p_threshold = 100\n",
    "genes_tokeep_mask = np.ones(sc_counts.shape[1], dtype=bool)\n",
    "for plate in sc_counts.obs['plate_name'].unique():\n",
    "    mask = sc_counts.obs['plate_name'] == plate\n",
    "    sc_counts_subset = sc_counts[mask,:]\n",
    "    n_cells_by_count = (sc_counts_subset.X!=0).sum(axis=0)\n",
    "    \n",
    "    to_keep = np.ravel(n_cells_by_count>=p_threshold)\n",
    "\n",
    "    print(genes_tokeep_mask.sum())\n",
    "    genes_tokeep_mask = genes_tokeep_mask*to_keep\n",
    "    "
   ]
  },
  {
   "cell_type": "markdown",
   "id": "9ba52a25",
   "metadata": {},
   "source": [
    "## Actual filtering"
   ]
  },
  {
   "cell_type": "code",
   "execution_count": null,
   "id": "1d9aab23-d432-4643-b24c-ee34ec4b3f66",
   "metadata": {},
   "outputs": [],
   "source": [
    "sc_counts = sc_counts[(~filter_n_genes) & (~filter_percent_hb), genes_tokeep_mask]\n"
   ]
  },
  {
   "cell_type": "markdown",
   "id": "8ca5aa44-6c6b-4be7-ae22-ca19ec888136",
   "metadata": {},
   "source": [
    "# Pseudobulking counts "
   ]
  },
  {
   "cell_type": "code",
   "execution_count": null,
   "id": "6fb45fa6-cf57-4e57-b796-7477039b1e76",
   "metadata": {},
   "outputs": [],
   "source": [
    "import anndata\n",
    "import pandas as pd\n",
    "import numpy as np\n",
    "import sklearn\n",
    "import scipy\n",
    "import warnings\n",
    "\n",
    "warnings.filterwarnings('ignore', category=FutureWarning, message=\"The default value of 'ignore' for the `na_action` parameter in pandas.Categorical.map is deprecated\")\n",
    "warnings.filterwarnings('ignore', category=UserWarning, message=\"No data for colormapping provided via 'c'\")\n",
    "\n",
    "import anndata as ad\n",
    "import scanpy as sc\n",
    "\n",
    "import matplotlib.pyplot as plt\n",
    "\n",
    "import os, binascii\n",
    "from scipy import sparse\n",
    "\n"
   ]
  },
  {
   "cell_type": "code",
   "execution_count": null,
   "id": "5e51666c-e2b3-4c95-8a7c-2fb5e209c8aa",
   "metadata": {},
   "outputs": [],
   "source": [
    "\n",
    "def sum_by(adata: ad.AnnData, col: str) -> ad.AnnData:\n",
    "    \"\"\"\n",
    "    Adapted from this forum post: \n",
    "    https://discourse.scverse.org/t/group-sum-rows-based-on-jobs-feature/371/4\n",
    "    \"\"\"\n",
    "    \n",
    "    assert pd.api.types.is_categorical_dtype(adata.obs[col])\n",
    "\n",
    "    # sum `.X` entries for each unique value in `col`\n",
    "    cat = adata.obs[col].values\n",
    "\n",
    "    indicator = sparse.coo_matrix(\n",
    "        (\n",
    "            np.broadcast_to(True, adata.n_obs),\n",
    "            (cat.codes, np.arange(adata.n_obs))\n",
    "        ),\n",
    "        shape=(len(cat.categories), adata.n_obs),\n",
    "    )\n",
    "  \n",
    "    sum_adata = ad.AnnData(\n",
    "        indicator @ adata.X,\n",
    "        var=adata.var,\n",
    "        obs=pd.DataFrame(index=cat.categories),\n",
    "    )\n",
    "    \n",
    "    # copy over `.obs` values that have a one-to-one-mapping with `.obs[col]`\n",
    "    obs_cols = adata.obs.columns\n",
    "    obs_cols = list(set(adata.obs.columns) - set([col]))\n",
    "    \n",
    "    one_to_one_mapped_obs_cols = []\n",
    "    nunique_in_col = adata.obs[col].nunique()\n",
    "    for other_col in obs_cols:\n",
    "        if len(adata.obs[[col, other_col]].drop_duplicates()) == nunique_in_col:\n",
    "            one_to_one_mapped_obs_cols.append(other_col)\n",
    "\n",
    "    joining_df = adata.obs[[col] + one_to_one_mapped_obs_cols].drop_duplicates().set_index(col)\n",
    "    assert (sum_adata.obs.index == sum_adata.obs.join(joining_df).index).all()\n",
    "    sum_adata.obs = sum_adata.obs.join(joining_df)\n",
    "    sum_adata.obs.index.name = col\n",
    "    sum_adata.obs = sum_adata.obs.reset_index()\n",
    "    sum_adata.obs.index = sum_adata.obs.index.astype('str')\n",
    "\n",
    "    return sum_adata"
   ]
  },
  {
   "cell_type": "code",
   "execution_count": null,
   "id": "6c3d9730-ce5b-4ec5-9e0a-cd95de2ee6cb",
   "metadata": {},
   "outputs": [],
   "source": [
    "# actuall bulking\n",
    "bulk_adata = sum_by(sc_counts, 'plate_well_cell_type')\n",
    "bulk_adata.obs['cell_count'] = sc_counts.obs.groupby('plate_well_cell_type').size().values\n",
    "bulk_adata.X = np.array(bulk_adata.X.todense())\n",
    "\n",
    "print('ratio of missingness' , (bulk_adata.X==0).sum()/bulk_adata.X.size)\n",
    "bulk_adata.var = bulk_adata.var.reset_index()"
   ]
  },
  {
   "cell_type": "code",
   "execution_count": null,
   "id": "6ec9f944-f198-4120-9150-aed1aae4983e",
   "metadata": {},
   "outputs": [],
   "source": [
    "bulk_adata.var.set_index('index', inplace=True)\n",
    "bulk_adata.var.head()"
   ]
  },
  {
   "cell_type": "code",
   "execution_count": null,
   "id": "91cc13ec-004f-4808-aa86-0b44ded93723",
   "metadata": {},
   "outputs": [],
   "source": [
    "bulk_adata.obs.cell_type.unique()"
   ]
  },
  {
   "cell_type": "code",
   "execution_count": null,
   "id": "7a195caa-cea5-4b51-9f4b-e0c2bfb83de2",
   "metadata": {},
   "outputs": [],
   "source": [
    "bulk_adata.write(f'{main_dir}/output/preprocess/bulk_adata.h5ad')"
   ]
  }
 ],
 "metadata": {
  "kernelspec": {
   "display_name": "Python 3 (ipykernel)",
   "language": "python",
   "name": "python3"
  },
  "language_info": {
   "codemirror_mode": {
    "name": "ipython",
    "version": 3
   },
   "file_extension": ".py",
   "mimetype": "text/x-python",
   "name": "python",
   "nbconvert_exporter": "python",
   "pygments_lexer": "ipython3",
   "version": "3.10.13"
  }
 },
 "nbformat": 4,
 "nbformat_minor": 5
}
